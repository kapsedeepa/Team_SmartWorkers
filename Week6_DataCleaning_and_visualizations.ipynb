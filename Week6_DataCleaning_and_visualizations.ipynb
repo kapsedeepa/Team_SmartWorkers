{
 "cells": [
  {
   "cell_type": "code",
   "execution_count": 1,
   "metadata": {},
   "outputs": [],
   "source": [
    "import pandas as pd \n",
    "import numpy as np\n",
    "import os\n",
    "import matplotlib.pyplot as plt\n",
    "import seaborn as sns\n",
    "import statsmodels.api as sm\n"
   ]
  },
  {
   "cell_type": "markdown",
   "metadata": {},
   "source": [
    "# Task 1:  Data Acquisition and Cleaning"
   ]
  },
  {
   "cell_type": "markdown",
   "metadata": {},
   "source": [
    "## Facilities Dataset"
   ]
  },
  {
   "cell_type": "code",
   "execution_count": 3,
   "metadata": {},
   "outputs": [
    {
     "data": {
      "text/html": [
       "<div>\n",
       "<style scoped>\n",
       "    .dataframe tbody tr th:only-of-type {\n",
       "        vertical-align: middle;\n",
       "    }\n",
       "\n",
       "    .dataframe tbody tr th {\n",
       "        vertical-align: top;\n",
       "    }\n",
       "\n",
       "    .dataframe thead th {\n",
       "        text-align: right;\n",
       "    }\n",
       "</style>\n",
       "<table border=\"1\" class=\"dataframe\">\n",
       "  <thead>\n",
       "    <tr style=\"text-align: right;\">\n",
       "      <th></th>\n",
       "      <th>Facility_Name</th>\n",
       "      <th>Facility_Location_Code</th>\n",
       "      <th>Facility_Type_Of_Facility</th>\n",
       "      <th>Facility_Hospital_Designation_List</th>\n",
       "      <th>Facility_Latitude</th>\n",
       "      <th>Facility_Longitude</th>\n",
       "      <th>Facility_Full_Address</th>\n",
       "    </tr>\n",
       "  </thead>\n",
       "  <tbody>\n",
       "    <tr>\n",
       "      <th>0</th>\n",
       "      <td>Novant Health UVA Haymarket Medical Center</td>\n",
       "      <td>216</td>\n",
       "      <td>Free Standing Emergency Room</td>\n",
       "      <td>Hospital (General)</td>\n",
       "      <td>38.423916</td>\n",
       "      <td>77.401647</td>\n",
       "      <td>15225 Heathcote Blvd, Haymarket, Virginia, 201...</td>\n",
       "    </tr>\n",
       "    <tr>\n",
       "      <th>1</th>\n",
       "      <td>Kaiser Permanente - Tysons Corner - Advanced U...</td>\n",
       "      <td>700</td>\n",
       "      <td>Free Standing Emergency Room</td>\n",
       "      <td>NaN</td>\n",
       "      <td>38.929137</td>\n",
       "      <td>77.224601</td>\n",
       "      <td>8008 Westpark Drive, McLean, Virginia, 22102, ...</td>\n",
       "    </tr>\n",
       "  </tbody>\n",
       "</table>\n",
       "</div>"
      ],
      "text/plain": [
       "                                       Facility_Name  Facility_Location_Code  \\\n",
       "0         Novant Health UVA Haymarket Medical Center                     216   \n",
       "1  Kaiser Permanente - Tysons Corner - Advanced U...                     700   \n",
       "\n",
       "      Facility_Type_Of_Facility Facility_Hospital_Designation_List  \\\n",
       "0  Free Standing Emergency Room                 Hospital (General)   \n",
       "1  Free Standing Emergency Room                                NaN   \n",
       "\n",
       "   Facility_Latitude  Facility_Longitude  \\\n",
       "0          38.423916           77.401647   \n",
       "1          38.929137           77.224601   \n",
       "\n",
       "                               Facility_Full_Address  \n",
       "0  15225 Heathcote Blvd, Haymarket, Virginia, 201...  \n",
       "1  8008 Westpark Drive, McLean, Virginia, 22102, ...  "
      ]
     },
     "execution_count": 3,
     "metadata": {},
     "output_type": "execute_result"
    }
   ],
   "source": [
    "df_facility = pd.read_csv(\"dataset/Facilities.txt\", error_bad_lines=False, delimiter= '|')\n",
    "df_facility.head(2)"
   ]
  },
  {
   "cell_type": "code",
   "execution_count": 4,
   "metadata": {},
   "outputs": [
    {
     "data": {
      "text/plain": [
       "(32, 7)"
      ]
     },
     "execution_count": 4,
     "metadata": {},
     "output_type": "execute_result"
    }
   ],
   "source": [
    "df_facility.shape"
   ]
  },
  {
   "cell_type": "code",
   "execution_count": 5,
   "metadata": {},
   "outputs": [
    {
     "data": {
      "text/plain": [
       "Facility_Name                         0\n",
       "Facility_Location_Code                0\n",
       "Facility_Full_Address                 0\n",
       "Facility_Type_Of_Facility             2\n",
       "Facility_Latitude                     3\n",
       "Facility_Longitude                    3\n",
       "Facility_Hospital_Designation_List    7\n",
       "dtype: int64"
      ]
     },
     "execution_count": 5,
     "metadata": {},
     "output_type": "execute_result"
    }
   ],
   "source": [
    "df_facility.isnull().sum().sort_values()"
   ]
  },
  {
   "cell_type": "code",
   "execution_count": 6,
   "metadata": {},
   "outputs": [
    {
     "data": {
      "text/html": [
       "<div>\n",
       "<style scoped>\n",
       "    .dataframe tbody tr th:only-of-type {\n",
       "        vertical-align: middle;\n",
       "    }\n",
       "\n",
       "    .dataframe tbody tr th {\n",
       "        vertical-align: top;\n",
       "    }\n",
       "\n",
       "    .dataframe thead th {\n",
       "        text-align: right;\n",
       "    }\n",
       "</style>\n",
       "<table border=\"1\" class=\"dataframe\">\n",
       "  <thead>\n",
       "    <tr style=\"text-align: right;\">\n",
       "      <th></th>\n",
       "      <th>Facility_Name</th>\n",
       "      <th>Facility_Location_Code</th>\n",
       "      <th>Facility_Type_Of_Facility</th>\n",
       "      <th>Facility_Hospital_Designation_List</th>\n",
       "      <th>Facility_Latitude</th>\n",
       "      <th>Facility_Longitude</th>\n",
       "      <th>Facility_Full_Address</th>\n",
       "    </tr>\n",
       "  </thead>\n",
       "  <tbody>\n",
       "    <tr>\n",
       "      <th>0</th>\n",
       "      <td>Novant Health UVA Haymarket Medical Center</td>\n",
       "      <td>216</td>\n",
       "      <td>Free Standing Emergency Room</td>\n",
       "      <td>Hospital (General)</td>\n",
       "      <td>38.423916</td>\n",
       "      <td>77.401647</td>\n",
       "      <td>15225 Heathcote Blvd, Haymarket, Virginia, 201...</td>\n",
       "    </tr>\n",
       "    <tr>\n",
       "      <th>1</th>\n",
       "      <td>Kaiser Permanente - Tysons Corner - Advanced U...</td>\n",
       "      <td>700</td>\n",
       "      <td>Free Standing Emergency Room</td>\n",
       "      <td>NaN</td>\n",
       "      <td>38.929137</td>\n",
       "      <td>77.224601</td>\n",
       "      <td>8008 Westpark Drive, McLean, Virginia, 22102, ...</td>\n",
       "    </tr>\n",
       "    <tr>\n",
       "      <th>2</th>\n",
       "      <td>Landing Zone / Non-Hospital</td>\n",
       "      <td>107</td>\n",
       "      <td>NaN</td>\n",
       "      <td>NaN</td>\n",
       "      <td>NaN</td>\n",
       "      <td>NaN</td>\n",
       "      <td>United States</td>\n",
       "    </tr>\n",
       "    <tr>\n",
       "      <th>3</th>\n",
       "      <td>MWHC Stafford Hospital</td>\n",
       "      <td>116</td>\n",
       "      <td>Hospital</td>\n",
       "      <td>Hospital (General)</td>\n",
       "      <td>38.415254</td>\n",
       "      <td>-77.407458</td>\n",
       "      <td>101 Hospital Center Blvd, Stafford, Virginia, ...</td>\n",
       "    </tr>\n",
       "    <tr>\n",
       "      <th>4</th>\n",
       "      <td>Kaiser Permanente - Woodbridge - Advanced Urge...</td>\n",
       "      <td>701</td>\n",
       "      <td>Free Standing Emergency Room</td>\n",
       "      <td>NaN</td>\n",
       "      <td>38.638379</td>\n",
       "      <td>77.293984</td>\n",
       "      <td>14139 Potomac Mills Road, Woodbridge, Virginia...</td>\n",
       "    </tr>\n",
       "    <tr>\n",
       "      <th>5</th>\n",
       "      <td>Merrifield Mental Health</td>\n",
       "      <td>106</td>\n",
       "      <td>Mental Health Facility</td>\n",
       "      <td>Behavioral Health</td>\n",
       "      <td>38.863468</td>\n",
       "      <td>77.234211</td>\n",
       "      <td>8221 Willow Oaks Corporate Drive, City of Fair...</td>\n",
       "    </tr>\n",
       "    <tr>\n",
       "      <th>6</th>\n",
       "      <td>Walter Reed National Military Medical Center</td>\n",
       "      <td>386</td>\n",
       "      <td>Hospital</td>\n",
       "      <td>Hospital (General),Level II Trauma Center</td>\n",
       "      <td>39.000339</td>\n",
       "      <td>77.094867</td>\n",
       "      <td>4494 Palmer Rd N, Bethesda, Maryland, 20814, ...</td>\n",
       "    </tr>\n",
       "    <tr>\n",
       "      <th>7</th>\n",
       "      <td>Suburban Hospital</td>\n",
       "      <td>385</td>\n",
       "      <td>Hospital</td>\n",
       "      <td>Designated Stroke Center,Hospital (General),Le...</td>\n",
       "      <td>38.997653</td>\n",
       "      <td>77.110001</td>\n",
       "      <td>8600 Old Georgetown Rd, Bethesda, Maryland, 2...</td>\n",
       "    </tr>\n",
       "    <tr>\n",
       "      <th>8</th>\n",
       "      <td>Landing Zone</td>\n",
       "      <td>999</td>\n",
       "      <td>NaN</td>\n",
       "      <td>NaN</td>\n",
       "      <td>NaN</td>\n",
       "      <td>NaN</td>\n",
       "      <td>Virginia, United States</td>\n",
       "    </tr>\n",
       "    <tr>\n",
       "      <th>9</th>\n",
       "      <td>Inova Mount Vernon Hospital</td>\n",
       "      <td>47</td>\n",
       "      <td>Hospital</td>\n",
       "      <td>Hospital (General)</td>\n",
       "      <td>38.740569</td>\n",
       "      <td>77.077442</td>\n",
       "      <td>2501 Parkers Lane, Hollin Hills, Virginia, 223...</td>\n",
       "    </tr>\n",
       "    <tr>\n",
       "      <th>10</th>\n",
       "      <td>MedStar Southern Maryland Hospital Center</td>\n",
       "      <td>363</td>\n",
       "      <td>Hospital</td>\n",
       "      <td>NaN</td>\n",
       "      <td>38.747953</td>\n",
       "      <td>76.876519</td>\n",
       "      <td>7501 Surratts Rd, Clinton, Maryland, 20735, Un...</td>\n",
       "    </tr>\n",
       "    <tr>\n",
       "      <th>11</th>\n",
       "      <td>Inova HealthPlex - Ashburn</td>\n",
       "      <td>364</td>\n",
       "      <td>Free Standing Emergency Room</td>\n",
       "      <td>Hospital (General)</td>\n",
       "      <td>38.994972</td>\n",
       "      <td>77.480548</td>\n",
       "      <td>22505 Landmark Ct, Ashburn, Virginia, 20148, U...</td>\n",
       "    </tr>\n",
       "    <tr>\n",
       "      <th>12</th>\n",
       "      <td>Children's National Medical Center</td>\n",
       "      <td>327</td>\n",
       "      <td>Hospital</td>\n",
       "      <td>Burn Center,Level I Trauma Center,NICU Present...</td>\n",
       "      <td>38.927165</td>\n",
       "      <td>77.014545</td>\n",
       "      <td>111 Michigan Avenue NW, Washington, District o...</td>\n",
       "    </tr>\n",
       "    <tr>\n",
       "      <th>13</th>\n",
       "      <td>Sibley Memorial Hospital</td>\n",
       "      <td>326</td>\n",
       "      <td>Hospital</td>\n",
       "      <td>Hospital (General)</td>\n",
       "      <td>38.937130</td>\n",
       "      <td>77.109047</td>\n",
       "      <td>5255 Loughboro Road NW, Washington, District o...</td>\n",
       "    </tr>\n",
       "    <tr>\n",
       "      <th>14</th>\n",
       "      <td>Inova Emergency Care Center - Reston/Herndon</td>\n",
       "      <td>204</td>\n",
       "      <td>Free Standing Emergency Room</td>\n",
       "      <td>Hospital (General)</td>\n",
       "      <td>38.965478</td>\n",
       "      <td>77.356700</td>\n",
       "      <td>11901 Baron Cameron Avenue, Reston, Virginia, ...</td>\n",
       "    </tr>\n",
       "    <tr>\n",
       "      <th>15</th>\n",
       "      <td>George Washington University Hospital</td>\n",
       "      <td>324</td>\n",
       "      <td>Hospital</td>\n",
       "      <td>Designated Stroke Center,Hospital (General),Le...</td>\n",
       "      <td>38.901301</td>\n",
       "      <td>77.050628</td>\n",
       "      <td>900 23rd Street NW, Washington, District of Co...</td>\n",
       "    </tr>\n",
       "    <tr>\n",
       "      <th>16</th>\n",
       "      <td>Novant Health UVA Prince William Medical Center</td>\n",
       "      <td>59</td>\n",
       "      <td>Hospital</td>\n",
       "      <td>Hospital (General),Pediatric Trauma Center</td>\n",
       "      <td>38.766444</td>\n",
       "      <td>77.487930</td>\n",
       "      <td>8700 Sudley Road, Manassas, Virginia, 20110, U...</td>\n",
       "    </tr>\n",
       "    <tr>\n",
       "      <th>17</th>\n",
       "      <td>Inova Alexandria Hospital</td>\n",
       "      <td>1</td>\n",
       "      <td>Hospital</td>\n",
       "      <td>Designated Stroke Center,Hospital (General),Pe...</td>\n",
       "      <td>38.822237</td>\n",
       "      <td>77.104571</td>\n",
       "      <td>4320 Seminary Road, Alexandria, Virginia, 2230...</td>\n",
       "    </tr>\n",
       "    <tr>\n",
       "      <th>18</th>\n",
       "      <td>Inova HealthPlex - Franconia/Springfield</td>\n",
       "      <td>205</td>\n",
       "      <td>Free Standing Emergency Room</td>\n",
       "      <td>Hospital (General)</td>\n",
       "      <td>38.766962</td>\n",
       "      <td>77.160949</td>\n",
       "      <td>6355 Walker Lane, Franconia, Virginia, 22310, ...</td>\n",
       "    </tr>\n",
       "    <tr>\n",
       "      <th>19</th>\n",
       "      <td>Inova Fairfax Hospital</td>\n",
       "      <td>16</td>\n",
       "      <td>Hospital</td>\n",
       "      <td>Designated Stroke Center,Hospital (General),Le...</td>\n",
       "      <td>38.857392</td>\n",
       "      <td>77.226309</td>\n",
       "      <td>3300 Gallows Road, West Falls Church, Virginia...</td>\n",
       "    </tr>\n",
       "    <tr>\n",
       "      <th>20</th>\n",
       "      <td>HCA StoneSprings Hospital Center</td>\n",
       "      <td>215</td>\n",
       "      <td>Hospital</td>\n",
       "      <td>NaN</td>\n",
       "      <td>38.940331</td>\n",
       "      <td>77.542203</td>\n",
       "      <td>24440 Stone Springs Blvd, Sterling, Virginia, ...</td>\n",
       "    </tr>\n",
       "    <tr>\n",
       "      <th>21</th>\n",
       "      <td>Inova Healthplex - Lorton</td>\n",
       "      <td>213</td>\n",
       "      <td>Free Standing Emergency Room</td>\n",
       "      <td>Hospital (General)</td>\n",
       "      <td>38.702472</td>\n",
       "      <td>77.227092</td>\n",
       "      <td>9321 Sanger Street, Lorton, Virginia, 22079, U...</td>\n",
       "    </tr>\n",
       "    <tr>\n",
       "      <th>22</th>\n",
       "      <td>Sentara Northern Virginia Medical Center</td>\n",
       "      <td>58</td>\n",
       "      <td>Hospital</td>\n",
       "      <td>Hospital (General),Pediatric Trauma Center</td>\n",
       "      <td>38.636352</td>\n",
       "      <td>77.285903</td>\n",
       "      <td>2300 Opitz Blvd, Woodbridge, Virginia, 22191, ...</td>\n",
       "    </tr>\n",
       "    <tr>\n",
       "      <th>23</th>\n",
       "      <td>Fort Belvoir Community Hospital</td>\n",
       "      <td>374</td>\n",
       "      <td>Hospital</td>\n",
       "      <td>Hospital (General)</td>\n",
       "      <td>38.705705</td>\n",
       "      <td>-77.144186</td>\n",
       "      <td>9300 DeWitt Loop, Accotink, Virginia, 22060, U...</td>\n",
       "    </tr>\n",
       "    <tr>\n",
       "      <th>24</th>\n",
       "      <td>Virginia Hospital Center</td>\n",
       "      <td>3</td>\n",
       "      <td>Hospital</td>\n",
       "      <td>Designated Stroke Center,Hospital (General),Pe...</td>\n",
       "      <td>38.889271</td>\n",
       "      <td>77.126523</td>\n",
       "      <td>1701 N. George Mason Drive, Arlington, Virgin...</td>\n",
       "    </tr>\n",
       "    <tr>\n",
       "      <th>25</th>\n",
       "      <td>MedStar Washington Hospital Center</td>\n",
       "      <td>325</td>\n",
       "      <td>Hospital</td>\n",
       "      <td>Burn Center,Designated Stroke Center,Hospital ...</td>\n",
       "      <td>38.928901</td>\n",
       "      <td>77.014298</td>\n",
       "      <td>110 Irving St NW, Washington, District of Colu...</td>\n",
       "    </tr>\n",
       "    <tr>\n",
       "      <th>26</th>\n",
       "      <td>MedStar Georgetown University Hospital</td>\n",
       "      <td>328</td>\n",
       "      <td>Hospital</td>\n",
       "      <td>Designated Stroke Center,Hospital (General),NI...</td>\n",
       "      <td>38.911838</td>\n",
       "      <td>77.075522</td>\n",
       "      <td>3800 Reservoir Road, NW, City of Washington, D...</td>\n",
       "    </tr>\n",
       "    <tr>\n",
       "      <th>27</th>\n",
       "      <td>Inova Loudoun Hospital</td>\n",
       "      <td>36</td>\n",
       "      <td>Hospital</td>\n",
       "      <td>Designated Stroke Center,Hospital (General),Pe...</td>\n",
       "      <td>39.074396</td>\n",
       "      <td>77.478614</td>\n",
       "      <td>44045 Riverside Parkway, Leesburg, Virginia, 2...</td>\n",
       "    </tr>\n",
       "    <tr>\n",
       "      <th>28</th>\n",
       "      <td>Out Of Area Hospital Not Listed</td>\n",
       "      <td>102</td>\n",
       "      <td>Hospital</td>\n",
       "      <td>NaN</td>\n",
       "      <td>NaN</td>\n",
       "      <td>NaN</td>\n",
       "      <td>United States</td>\n",
       "    </tr>\n",
       "    <tr>\n",
       "      <th>29</th>\n",
       "      <td>HCA Reston Hospital Center</td>\n",
       "      <td>95</td>\n",
       "      <td>Hospital</td>\n",
       "      <td>Designated Stroke Center,Hospital (General),Le...</td>\n",
       "      <td>38.962328</td>\n",
       "      <td>77.363508</td>\n",
       "      <td>1850 Town Center Parkway, Reston, Virginia, 20...</td>\n",
       "    </tr>\n",
       "    <tr>\n",
       "      <th>30</th>\n",
       "      <td>Inova Emergency Care Center - Fairfax</td>\n",
       "      <td>202</td>\n",
       "      <td>Free Standing Emergency Room</td>\n",
       "      <td>Hospital (General)</td>\n",
       "      <td>38.838285</td>\n",
       "      <td>77.310449</td>\n",
       "      <td>4315 Chain Bridge Road, City of Fairfax, Virgi...</td>\n",
       "    </tr>\n",
       "    <tr>\n",
       "      <th>31</th>\n",
       "      <td>Inova Fair Oaks Hospital</td>\n",
       "      <td>11</td>\n",
       "      <td>Hospital</td>\n",
       "      <td>Hospital (General),Pediatric Trauma Center</td>\n",
       "      <td>38.884529</td>\n",
       "      <td>77.379313</td>\n",
       "      <td>3600 Joseph Siewick Drive, Fairfax County, Vir...</td>\n",
       "    </tr>\n",
       "  </tbody>\n",
       "</table>\n",
       "</div>"
      ],
      "text/plain": [
       "                                        Facility_Name  Facility_Location_Code  \\\n",
       "0          Novant Health UVA Haymarket Medical Center                     216   \n",
       "1   Kaiser Permanente - Tysons Corner - Advanced U...                     700   \n",
       "2                         Landing Zone / Non-Hospital                     107   \n",
       "3                              MWHC Stafford Hospital                     116   \n",
       "4   Kaiser Permanente - Woodbridge - Advanced Urge...                     701   \n",
       "5                            Merrifield Mental Health                     106   \n",
       "6        Walter Reed National Military Medical Center                     386   \n",
       "7                                   Suburban Hospital                     385   \n",
       "8                                        Landing Zone                     999   \n",
       "9                         Inova Mount Vernon Hospital                      47   \n",
       "10          MedStar Southern Maryland Hospital Center                     363   \n",
       "11                         Inova HealthPlex - Ashburn                     364   \n",
       "12                 Children's National Medical Center                     327   \n",
       "13                           Sibley Memorial Hospital                     326   \n",
       "14       Inova Emergency Care Center - Reston/Herndon                     204   \n",
       "15              George Washington University Hospital                     324   \n",
       "16    Novant Health UVA Prince William Medical Center                      59   \n",
       "17                          Inova Alexandria Hospital                       1   \n",
       "18           Inova HealthPlex - Franconia/Springfield                     205   \n",
       "19                             Inova Fairfax Hospital                      16   \n",
       "20                   HCA StoneSprings Hospital Center                     215   \n",
       "21                          Inova Healthplex - Lorton                     213   \n",
       "22           Sentara Northern Virginia Medical Center                      58   \n",
       "23                    Fort Belvoir Community Hospital                     374   \n",
       "24                           Virginia Hospital Center                       3   \n",
       "25                 MedStar Washington Hospital Center                     325   \n",
       "26             MedStar Georgetown University Hospital                     328   \n",
       "27                             Inova Loudoun Hospital                      36   \n",
       "28                    Out Of Area Hospital Not Listed                     102   \n",
       "29                         HCA Reston Hospital Center                      95   \n",
       "30              Inova Emergency Care Center - Fairfax                     202   \n",
       "31                           Inova Fair Oaks Hospital                      11   \n",
       "\n",
       "       Facility_Type_Of_Facility  \\\n",
       "0   Free Standing Emergency Room   \n",
       "1   Free Standing Emergency Room   \n",
       "2                            NaN   \n",
       "3                       Hospital   \n",
       "4   Free Standing Emergency Room   \n",
       "5         Mental Health Facility   \n",
       "6                       Hospital   \n",
       "7                       Hospital   \n",
       "8                            NaN   \n",
       "9                       Hospital   \n",
       "10                      Hospital   \n",
       "11  Free Standing Emergency Room   \n",
       "12                      Hospital   \n",
       "13                      Hospital   \n",
       "14  Free Standing Emergency Room   \n",
       "15                      Hospital   \n",
       "16                      Hospital   \n",
       "17                      Hospital   \n",
       "18  Free Standing Emergency Room   \n",
       "19                      Hospital   \n",
       "20                      Hospital   \n",
       "21  Free Standing Emergency Room   \n",
       "22                      Hospital   \n",
       "23                      Hospital   \n",
       "24                      Hospital   \n",
       "25                      Hospital   \n",
       "26                      Hospital   \n",
       "27                      Hospital   \n",
       "28                      Hospital   \n",
       "29                      Hospital   \n",
       "30  Free Standing Emergency Room   \n",
       "31                      Hospital   \n",
       "\n",
       "                   Facility_Hospital_Designation_List  Facility_Latitude  \\\n",
       "0                                  Hospital (General)          38.423916   \n",
       "1                                                 NaN          38.929137   \n",
       "2                                                 NaN                NaN   \n",
       "3                                  Hospital (General)          38.415254   \n",
       "4                                                 NaN          38.638379   \n",
       "5                                   Behavioral Health          38.863468   \n",
       "6           Hospital (General),Level II Trauma Center          39.000339   \n",
       "7   Designated Stroke Center,Hospital (General),Le...          38.997653   \n",
       "8                                                 NaN                NaN   \n",
       "9                                  Hospital (General)          38.740569   \n",
       "10                                                NaN          38.747953   \n",
       "11                                 Hospital (General)          38.994972   \n",
       "12  Burn Center,Level I Trauma Center,NICU Present...          38.927165   \n",
       "13                                 Hospital (General)          38.937130   \n",
       "14                                 Hospital (General)          38.965478   \n",
       "15  Designated Stroke Center,Hospital (General),Le...          38.901301   \n",
       "16         Hospital (General),Pediatric Trauma Center          38.766444   \n",
       "17  Designated Stroke Center,Hospital (General),Pe...          38.822237   \n",
       "18                                 Hospital (General)          38.766962   \n",
       "19  Designated Stroke Center,Hospital (General),Le...          38.857392   \n",
       "20                                                NaN          38.940331   \n",
       "21                                 Hospital (General)          38.702472   \n",
       "22         Hospital (General),Pediatric Trauma Center          38.636352   \n",
       "23                                 Hospital (General)          38.705705   \n",
       "24  Designated Stroke Center,Hospital (General),Pe...          38.889271   \n",
       "25  Burn Center,Designated Stroke Center,Hospital ...          38.928901   \n",
       "26  Designated Stroke Center,Hospital (General),NI...          38.911838   \n",
       "27  Designated Stroke Center,Hospital (General),Pe...          39.074396   \n",
       "28                                                NaN                NaN   \n",
       "29  Designated Stroke Center,Hospital (General),Le...          38.962328   \n",
       "30                                 Hospital (General)          38.838285   \n",
       "31         Hospital (General),Pediatric Trauma Center          38.884529   \n",
       "\n",
       "    Facility_Longitude                              Facility_Full_Address  \n",
       "0            77.401647  15225 Heathcote Blvd, Haymarket, Virginia, 201...  \n",
       "1            77.224601  8008 Westpark Drive, McLean, Virginia, 22102, ...  \n",
       "2                  NaN                                      United States  \n",
       "3           -77.407458  101 Hospital Center Blvd, Stafford, Virginia, ...  \n",
       "4            77.293984  14139 Potomac Mills Road, Woodbridge, Virginia...  \n",
       "5            77.234211  8221 Willow Oaks Corporate Drive, City of Fair...  \n",
       "6            77.094867   4494 Palmer Rd N, Bethesda, Maryland, 20814, ...  \n",
       "7            77.110001   8600 Old Georgetown Rd, Bethesda, Maryland, 2...  \n",
       "8                  NaN                            Virginia, United States  \n",
       "9            77.077442  2501 Parkers Lane, Hollin Hills, Virginia, 223...  \n",
       "10           76.876519  7501 Surratts Rd, Clinton, Maryland, 20735, Un...  \n",
       "11           77.480548  22505 Landmark Ct, Ashburn, Virginia, 20148, U...  \n",
       "12           77.014545  111 Michigan Avenue NW, Washington, District o...  \n",
       "13           77.109047  5255 Loughboro Road NW, Washington, District o...  \n",
       "14           77.356700  11901 Baron Cameron Avenue, Reston, Virginia, ...  \n",
       "15           77.050628  900 23rd Street NW, Washington, District of Co...  \n",
       "16           77.487930  8700 Sudley Road, Manassas, Virginia, 20110, U...  \n",
       "17           77.104571  4320 Seminary Road, Alexandria, Virginia, 2230...  \n",
       "18           77.160949  6355 Walker Lane, Franconia, Virginia, 22310, ...  \n",
       "19           77.226309  3300 Gallows Road, West Falls Church, Virginia...  \n",
       "20           77.542203  24440 Stone Springs Blvd, Sterling, Virginia, ...  \n",
       "21           77.227092  9321 Sanger Street, Lorton, Virginia, 22079, U...  \n",
       "22           77.285903  2300 Opitz Blvd, Woodbridge, Virginia, 22191, ...  \n",
       "23          -77.144186  9300 DeWitt Loop, Accotink, Virginia, 22060, U...  \n",
       "24           77.126523   1701 N. George Mason Drive, Arlington, Virgin...  \n",
       "25           77.014298  110 Irving St NW, Washington, District of Colu...  \n",
       "26           77.075522  3800 Reservoir Road, NW, City of Washington, D...  \n",
       "27           77.478614  44045 Riverside Parkway, Leesburg, Virginia, 2...  \n",
       "28                 NaN                                      United States  \n",
       "29           77.363508  1850 Town Center Parkway, Reston, Virginia, 20...  \n",
       "30           77.310449  4315 Chain Bridge Road, City of Fairfax, Virgi...  \n",
       "31           77.379313  3600 Joseph Siewick Drive, Fairfax County, Vir...  "
      ]
     },
     "execution_count": 6,
     "metadata": {},
     "output_type": "execute_result"
    }
   ],
   "source": [
    "df_facility"
   ]
  },
  {
   "cell_type": "markdown",
   "metadata": {},
   "source": [
    "#### Dealing with null values for Facilities dataset"
   ]
  },
  {
   "cell_type": "markdown",
   "metadata": {},
   "source": [
    "#### Feature - latitude and longitude"
   ]
  },
  {
   "cell_type": "code",
   "execution_count": 8,
   "metadata": {},
   "outputs": [],
   "source": [
    " # Virginia fire and rescue latitude and longitude 38.9317° N, 77.1777° W - default\n",
    "# Ideally these latitude and longitude to be filled with the final hospital destination taken\n",
    "# facility_name = Landing zone, non hospital "
   ]
  },
  {
   "cell_type": "code",
   "execution_count": 9,
   "metadata": {},
   "outputs": [],
   "source": [
    "df_facility.Facility_Latitude.fillna(38.9317, inplace=True)"
   ]
  },
  {
   "cell_type": "code",
   "execution_count": 10,
   "metadata": {},
   "outputs": [],
   "source": [
    "df_facility.Facility_Longitude.fillna(77.1777, inplace=True)"
   ]
  },
  {
   "cell_type": "code",
   "execution_count": 11,
   "metadata": {},
   "outputs": [],
   "source": [
    "# otherway of handling null\n",
    "# df_facility['Facility_Longitude'].fillna(df_facility['Facility_Longitude'].mean(), inplace = True)"
   ]
  },
  {
   "cell_type": "code",
   "execution_count": 12,
   "metadata": {},
   "outputs": [
    {
     "data": {
      "text/plain": [
       "array(['Novant Health UVA Haymarket Medical Center',\n",
       "       'Kaiser Permanente - Tysons Corner - Advanced Urgent Care',\n",
       "       'Landing Zone / Non-Hospital', 'MWHC Stafford Hospital',\n",
       "       'Kaiser Permanente - Woodbridge - Advanced Urgent Care',\n",
       "       'Merrifield Mental Health',\n",
       "       'Walter Reed National Military Medical Center',\n",
       "       'Suburban Hospital', 'Landing Zone', 'Inova Mount Vernon Hospital',\n",
       "       'MedStar Southern Maryland Hospital Center',\n",
       "       'Inova HealthPlex - Ashburn', \"Children's National Medical Center\",\n",
       "       'Sibley Memorial Hospital',\n",
       "       'Inova Emergency Care Center - Reston/Herndon',\n",
       "       'George Washington University Hospital',\n",
       "       'Novant Health UVA Prince William Medical Center',\n",
       "       'Inova Alexandria Hospital',\n",
       "       'Inova HealthPlex - Franconia/Springfield',\n",
       "       'Inova Fairfax Hospital', 'HCA StoneSprings Hospital Center',\n",
       "       'Inova Healthplex - Lorton',\n",
       "       ' Sentara Northern Virginia Medical Center',\n",
       "       'Fort Belvoir Community Hospital', 'Virginia Hospital Center',\n",
       "       'MedStar Washington Hospital Center',\n",
       "       'MedStar Georgetown University Hospital', 'Inova Loudoun Hospital',\n",
       "       'Out Of Area Hospital Not Listed', 'HCA Reston Hospital Center',\n",
       "       'Inova Emergency Care Center - Fairfax',\n",
       "       ' Inova Fair Oaks Hospital'], dtype=object)"
      ]
     },
     "execution_count": 12,
     "metadata": {},
     "output_type": "execute_result"
    }
   ],
   "source": [
    "df_facility.Facility_Name.unique()"
   ]
  },
  {
   "cell_type": "markdown",
   "metadata": {},
   "source": [
    "#### Referred hospital description for filling missing values"
   ]
  },
  {
   "cell_type": "markdown",
   "metadata": {},
   "source": [
    "\n",
    "|  Facility_Name  | Facility_Hospital_Designation_List | Check with partners |\n",
    "| --- | --- | --- |\n",
    "| Landing Zone / Non-Hospital\t | non hospital | Confirmed |\n",
    "|Kaiser Permanente - Tysons Corner - Advanced U...|Hospital General | Confirmed |\n",
    "|MedStar Southern Maryland Hospital Center | Hospital(General), Burns, Stroke, trauma | Confirmed|\n",
    "|HCA StoneSprings Hospital Center|Hospital General | Confirmed|\n",
    "|Out Of Area Hospital Not Listed\t | Hospital General  |Confirmed|"
   ]
  },
  {
   "cell_type": "markdown",
   "metadata": {},
   "source": [
    "#### Feature - Facility_Hospital_Designation_List"
   ]
  },
  {
   "cell_type": "code",
   "execution_count": 15,
   "metadata": {},
   "outputs": [],
   "source": [
    "\n",
    "\n",
    "df_facility.loc[ df_facility['Facility_Name'].isin(['Kaiser Permanente - Tysons Corner - Advanced Urgent Care','Kaiser Permanente - Woodbridge - Advanced Urgent Care','HCA StoneSprings Hospital Center', 'Out Of Area Hospital Not Listed']), 'Facility_Hospital_Designation_List'] = 'Hospital(General)'"
   ]
  },
  {
   "cell_type": "code",
   "execution_count": 16,
   "metadata": {},
   "outputs": [],
   "source": [
    "\n",
    "df_facility.loc[ df_facility['Facility_Name'].isin(['Landing Zone / Non-Hospital','Landing Zone']), 'Facility_Hospital_Designation_List'] = 'Non Hospital'"
   ]
  },
  {
   "cell_type": "code",
   "execution_count": 17,
   "metadata": {},
   "outputs": [],
   "source": [
    "\n",
    "df_facility.loc[ df_facility['Facility_Name'].isin(['MedStar Southern Maryland Hospital Center']), 'Facility_Hospital_Designation_List'] = 'Hospital(General), Burns, Stroke, trauma'"
   ]
  },
  {
   "cell_type": "markdown",
   "metadata": {},
   "source": [
    "#### Feature - Facility_Type_Of_Facility"
   ]
  },
  {
   "cell_type": "code",
   "execution_count": 13,
   "metadata": {},
   "outputs": [],
   "source": [
    "df_facility.Facility_Type_Of_Facility.fillna('Non hospital service', inplace=True)"
   ]
  },
  {
   "cell_type": "code",
   "execution_count": 18,
   "metadata": {},
   "outputs": [
    {
     "data": {
      "text/plain": [
       "Facility_Name                         0\n",
       "Facility_Location_Code                0\n",
       "Facility_Type_Of_Facility             0\n",
       "Facility_Hospital_Designation_List    0\n",
       "Facility_Latitude                     0\n",
       "Facility_Longitude                    0\n",
       "Facility_Full_Address                 0\n",
       "dtype: int64"
      ]
     },
     "execution_count": 18,
     "metadata": {},
     "output_type": "execute_result"
    }
   ],
   "source": [
    "df_facility.isnull().sum().sort_values()"
   ]
  },
  {
   "cell_type": "markdown",
   "metadata": {},
   "source": [
    "## Master Dataset"
   ]
  },
  {
   "cell_type": "code",
   "execution_count": 33,
   "metadata": {},
   "outputs": [
    {
     "data": {
      "text/html": [
       "<div>\n",
       "<style scoped>\n",
       "    .dataframe tbody tr th:only-of-type {\n",
       "        vertical-align: middle;\n",
       "    }\n",
       "\n",
       "    .dataframe tbody tr th {\n",
       "        vertical-align: top;\n",
       "    }\n",
       "\n",
       "    .dataframe thead th {\n",
       "        text-align: right;\n",
       "    }\n",
       "</style>\n",
       "<table border=\"1\" class=\"dataframe\">\n",
       "  <thead>\n",
       "    <tr style=\"text-align: right;\">\n",
       "      <th></th>\n",
       "      <th>PrimaryKey</th>\n",
       "      <th>CallConfirmedDT</th>\n",
       "      <th>ShiftDay</th>\n",
       "      <th>TourOfShift</th>\n",
       "      <th>IncidentFirstDue</th>\n",
       "      <th>InitialIncidentType</th>\n",
       "      <th>DispatchedIncidentType</th>\n",
       "      <th>ArrivedIncidentType</th>\n",
       "      <th>FinalIncidentType</th>\n",
       "      <th>FinalIncidentTypeDescription</th>\n",
       "      <th>...</th>\n",
       "      <th>PatientID</th>\n",
       "      <th>PatientAge</th>\n",
       "      <th>PrimaryImpression</th>\n",
       "      <th>SecondaryImpression</th>\n",
       "      <th>PatientDisposition</th>\n",
       "      <th>ProcedurePrimaryKey</th>\n",
       "      <th>ProcedurePerformed</th>\n",
       "      <th>MedicationPrimaryKey</th>\n",
       "      <th>MedicationGiven</th>\n",
       "      <th>isALS_LOC</th>\n",
       "    </tr>\n",
       "  </thead>\n",
       "  <tbody>\n",
       "    <tr>\n",
       "      <td>0</td>\n",
       "      <td>1074428032</td>\n",
       "      <td>2019-05-28 00:45:44</td>\n",
       "      <td>C</td>\n",
       "      <td>3</td>\n",
       "      <td>442.0</td>\n",
       "      <td>ALS</td>\n",
       "      <td>ALS</td>\n",
       "      <td>ALS</td>\n",
       "      <td>ALS</td>\n",
       "      <td>ALS EMERGENCY</td>\n",
       "      <td>...</td>\n",
       "      <td>935111</td>\n",
       "      <td>30 - 39</td>\n",
       "      <td>Weakness (R53.1)</td>\n",
       "      <td>\"Not Applicable\"</td>\n",
       "      <td>Treated &amp; Transported</td>\n",
       "      <td>1164292.0</td>\n",
       "      <td>CV - ECG - 12 Lead Obtained</td>\n",
       "      <td>NaN</td>\n",
       "      <td>NaN</td>\n",
       "      <td>False</td>\n",
       "    </tr>\n",
       "    <tr>\n",
       "      <td>1</td>\n",
       "      <td>1074428032</td>\n",
       "      <td>2019-05-28 00:45:44</td>\n",
       "      <td>C</td>\n",
       "      <td>3</td>\n",
       "      <td>442.0</td>\n",
       "      <td>ALS</td>\n",
       "      <td>ALS</td>\n",
       "      <td>ALS</td>\n",
       "      <td>ALS</td>\n",
       "      <td>ALS EMERGENCY</td>\n",
       "      <td>...</td>\n",
       "      <td>935111</td>\n",
       "      <td>30 - 39</td>\n",
       "      <td>Weakness (R53.1)</td>\n",
       "      <td>\"Not Applicable\"</td>\n",
       "      <td>Treated &amp; Transported</td>\n",
       "      <td>1164288.0</td>\n",
       "      <td>IV Start - Extremity Vein (arm or leg)</td>\n",
       "      <td>NaN</td>\n",
       "      <td>NaN</td>\n",
       "      <td>False</td>\n",
       "    </tr>\n",
       "  </tbody>\n",
       "</table>\n",
       "<p>2 rows × 37 columns</p>\n",
       "</div>"
      ],
      "text/plain": [
       "   PrimaryKey      CallConfirmedDT ShiftDay  TourOfShift  IncidentFirstDue  \\\n",
       "0  1074428032  2019-05-28 00:45:44        C            3             442.0   \n",
       "1  1074428032  2019-05-28 00:45:44        C            3             442.0   \n",
       "\n",
       "  InitialIncidentType DispatchedIncidentType ArrivedIncidentType  \\\n",
       "0                 ALS                    ALS                 ALS   \n",
       "1                 ALS                    ALS                 ALS   \n",
       "\n",
       "  FinalIncidentType FinalIncidentTypeDescription  ...  PatientID PatientAge  \\\n",
       "0               ALS               ALS EMERGENCY   ...     935111    30 - 39   \n",
       "1               ALS               ALS EMERGENCY   ...     935111    30 - 39   \n",
       "\n",
       "  PrimaryImpression SecondaryImpression      PatientDisposition  \\\n",
       "0  Weakness (R53.1)    \"Not Applicable\"  Treated & Transported    \n",
       "1  Weakness (R53.1)    \"Not Applicable\"  Treated & Transported    \n",
       "\n",
       "  ProcedurePrimaryKey                      ProcedurePerformed  \\\n",
       "0           1164292.0             CV - ECG - 12 Lead Obtained   \n",
       "1           1164288.0  IV Start - Extremity Vein (arm or leg)   \n",
       "\n",
       "  MedicationPrimaryKey  MedicationGiven isALS_LOC  \n",
       "0                  NaN              NaN     False  \n",
       "1                  NaN              NaN     False  \n",
       "\n",
       "[2 rows x 37 columns]"
      ]
     },
     "execution_count": 33,
     "metadata": {},
     "output_type": "execute_result"
    }
   ],
   "source": [
    "df_master = pd.read_csv(\"C:\\\\users\\\\suraj\\\\Downloads\\\\MasterDataWithAge.txt\", error_bad_lines=False, delimiter= '|')\n",
    "df_master.head(2)"
   ]
  },
  {
   "cell_type": "code",
   "execution_count": 34,
   "metadata": {},
   "outputs": [
    {
     "data": {
      "text/plain": [
       "Index(['PrimaryKey', 'CallConfirmedDT', 'ShiftDay', 'TourOfShift',\n",
       "       'IncidentFirstDue', 'InitialIncidentType', 'DispatchedIncidentType',\n",
       "       'ArrivedIncidentType', 'FinalIncidentType',\n",
       "       'FinalIncidentTypeDescription', 'MutualAidReceived', 'ResponseUnitID',\n",
       "       'TransportUnitID', 'TransportUnitLOC', 'UnitPrimaryActionTaken',\n",
       "       'UnitOtherActionsTaken', 'UnitStation', 'UnitType', 'UnitArrivalOrder',\n",
       "       'UnitTransportedDT', 'UnitTransportedArrivalDT', 'PersonnelID',\n",
       "       'PersonnelRole', 'TransportLOC', 'TransportHospitalCode',\n",
       "       'TransportHospitalName', 'ReasonForChoosingHospital', 'PatientID',\n",
       "       'PatientAge', 'PrimaryImpression', 'SecondaryImpression',\n",
       "       'PatientDisposition', 'ProcedurePrimaryKey', 'ProcedurePerformed',\n",
       "       'MedicationPrimaryKey', 'MedicationGiven', 'isALS_LOC'],\n",
       "      dtype='object')"
      ]
     },
     "execution_count": 34,
     "metadata": {},
     "output_type": "execute_result"
    }
   ],
   "source": [
    "df_master.columns"
   ]
  },
  {
   "cell_type": "code",
   "execution_count": 35,
   "metadata": {},
   "outputs": [
    {
     "data": {
      "text/plain": [
       "(1357009, 37)"
      ]
     },
     "execution_count": 35,
     "metadata": {},
     "output_type": "execute_result"
    }
   ],
   "source": [
    "df_master.shape"
   ]
  },
  {
   "cell_type": "code",
   "execution_count": 36,
   "metadata": {
    "scrolled": true
   },
   "outputs": [
    {
     "data": {
      "text/plain": [
       "ShiftDay                             0\n",
       "PersonnelID                          2\n",
       "PatientAge                          12\n",
       "SecondaryImpression                 20\n",
       "PrimaryImpression                   20\n",
       "IncidentFirstDue                    78\n",
       "UnitPrimaryActionTaken             109\n",
       "FinalIncidentTypeDescription       247\n",
       "UnitStation                        362\n",
       "ArrivedIncidentType               1682\n",
       "TransportLOC                      4946\n",
       "ReasonForChoosingHospital         5078\n",
       "TransportHospitalCode             5082\n",
       "TransportHospitalName             5082\n",
       "UnitArrivalOrder                112491\n",
       "ProcedurePrimaryKey             293508\n",
       "ProcedurePerformed              293508\n",
       "MedicationPrimaryKey            614415\n",
       "MedicationGiven                 614449\n",
       "UnitTransportedDT               775277\n",
       "UnitTransportedArrivalDT        781587\n",
       "UnitOtherActionsTaken           836476\n",
       "dtype: int64"
      ]
     },
     "execution_count": 36,
     "metadata": {},
     "output_type": "execute_result"
    }
   ],
   "source": [
    "df_master.isnull().sum().sort_values().tail(22)"
   ]
  },
  {
   "cell_type": "markdown",
   "metadata": {},
   "source": [
    "#### Dealing with null values for Master dataset"
   ]
  },
  {
   "cell_type": "markdown",
   "metadata": {},
   "source": [
    "#### Feature - UnitOtherActionsTaken           "
   ]
  },
  {
   "cell_type": "code",
   "execution_count": 37,
   "metadata": {},
   "outputs": [
    {
     "name": "stdout",
     "output_type": "stream",
     "text": [
      "% of null value in UnitOtherActionsTaken : 61.641153448503296\n"
     ]
    }
   ],
   "source": [
    "print(f\"% of null value in UnitOtherActionsTaken : {(df_master.UnitOtherActionsTaken.isnull().sum() / len(df_master)) * 100}\")"
   ]
  },
  {
   "cell_type": "code",
   "execution_count": 38,
   "metadata": {},
   "outputs": [
    {
     "data": {
      "text/plain": [
       "count               520533\n",
       "unique                 852\n",
       "top       Transport person\n",
       "freq                328792\n",
       "Name: UnitOtherActionsTaken, dtype: object"
      ]
     },
     "execution_count": 38,
     "metadata": {},
     "output_type": "execute_result"
    }
   ],
   "source": [
    "df_master.UnitOtherActionsTaken.describe()"
   ]
  },
  {
   "cell_type": "code",
   "execution_count": 39,
   "metadata": {},
   "outputs": [
    {
     "data": {
      "text/plain": [
       "NaN                                                                                      836476\n",
       "Transport person                                                                         328792\n",
       "Provide manpower                                                                          81416\n",
       "Provide advanced life support (ALS)                                                       42372\n",
       "Provide basic life support (BLS)                                                          14655\n",
       "                                                                                          ...  \n",
       "Control traffic,Provide Ground Ladders                                                        2\n",
       "Remove water                                                                                  2\n",
       "Provide basic life support (BLS),Provide manpower,Provide equipment,Control crowd             2\n",
       "Ventilate,Provide manpower,Provide apparatus,Provide equipment,Provide Ground Ladders         2\n",
       "Establish safe area,Investigate                                                               2\n",
       "Name: UnitOtherActionsTaken, Length: 853, dtype: int64"
      ]
     },
     "execution_count": 39,
     "metadata": {},
     "output_type": "execute_result"
    }
   ],
   "source": [
    "df_master['UnitOtherActionsTaken'].value_counts(dropna=False)"
   ]
  },
  {
   "cell_type": "code",
   "execution_count": null,
   "metadata": {},
   "outputs": [],
   "source": [
    "# Week 6 Tasks ########"
   ]
  },
  {
   "cell_type": "code",
   "execution_count": 41,
   "metadata": {},
   "outputs": [],
   "source": [
    "# Replacing null values for column 'UnitOtherActionsTaken' with value 'Unknown Unit' which contributes to 61.64 % of total values\n",
    "df_master['UnitOtherActionsTaken'].fillna('no other action', inplace = True)\n"
   ]
  },
  {
   "cell_type": "code",
   "execution_count": 40,
   "metadata": {
    "scrolled": true
   },
   "outputs": [
    {
     "data": {
      "text/html": [
       "<div>\n",
       "<style scoped>\n",
       "    .dataframe tbody tr th:only-of-type {\n",
       "        vertical-align: middle;\n",
       "    }\n",
       "\n",
       "    .dataframe tbody tr th {\n",
       "        vertical-align: top;\n",
       "    }\n",
       "\n",
       "    .dataframe thead th {\n",
       "        text-align: right;\n",
       "    }\n",
       "</style>\n",
       "<table border=\"1\" class=\"dataframe\">\n",
       "  <thead>\n",
       "    <tr style=\"text-align: right;\">\n",
       "      <th></th>\n",
       "      <th>PrimaryKey</th>\n",
       "      <th>CallConfirmedDT</th>\n",
       "      <th>ShiftDay</th>\n",
       "      <th>TourOfShift</th>\n",
       "      <th>IncidentFirstDue</th>\n",
       "      <th>InitialIncidentType</th>\n",
       "      <th>DispatchedIncidentType</th>\n",
       "      <th>ArrivedIncidentType</th>\n",
       "      <th>FinalIncidentType</th>\n",
       "      <th>FinalIncidentTypeDescription</th>\n",
       "      <th>...</th>\n",
       "      <th>PatientID</th>\n",
       "      <th>PatientAge</th>\n",
       "      <th>PrimaryImpression</th>\n",
       "      <th>SecondaryImpression</th>\n",
       "      <th>PatientDisposition</th>\n",
       "      <th>ProcedurePrimaryKey</th>\n",
       "      <th>ProcedurePerformed</th>\n",
       "      <th>MedicationPrimaryKey</th>\n",
       "      <th>MedicationGiven</th>\n",
       "      <th>isALS_LOC</th>\n",
       "    </tr>\n",
       "  </thead>\n",
       "  <tbody>\n",
       "    <tr>\n",
       "      <td>0</td>\n",
       "      <td>1074428032</td>\n",
       "      <td>2019-05-28 00:45:44</td>\n",
       "      <td>C</td>\n",
       "      <td>3</td>\n",
       "      <td>442.0</td>\n",
       "      <td>ALS</td>\n",
       "      <td>ALS</td>\n",
       "      <td>ALS</td>\n",
       "      <td>ALS</td>\n",
       "      <td>ALS EMERGENCY</td>\n",
       "      <td>...</td>\n",
       "      <td>935111</td>\n",
       "      <td>30 - 39</td>\n",
       "      <td>Weakness (R53.1)</td>\n",
       "      <td>\"Not Applicable\"</td>\n",
       "      <td>Treated &amp; Transported</td>\n",
       "      <td>1164292.0</td>\n",
       "      <td>CV - ECG - 12 Lead Obtained</td>\n",
       "      <td>NaN</td>\n",
       "      <td>NaN</td>\n",
       "      <td>False</td>\n",
       "    </tr>\n",
       "    <tr>\n",
       "      <td>1</td>\n",
       "      <td>1074428032</td>\n",
       "      <td>2019-05-28 00:45:44</td>\n",
       "      <td>C</td>\n",
       "      <td>3</td>\n",
       "      <td>442.0</td>\n",
       "      <td>ALS</td>\n",
       "      <td>ALS</td>\n",
       "      <td>ALS</td>\n",
       "      <td>ALS</td>\n",
       "      <td>ALS EMERGENCY</td>\n",
       "      <td>...</td>\n",
       "      <td>935111</td>\n",
       "      <td>30 - 39</td>\n",
       "      <td>Weakness (R53.1)</td>\n",
       "      <td>\"Not Applicable\"</td>\n",
       "      <td>Treated &amp; Transported</td>\n",
       "      <td>1164288.0</td>\n",
       "      <td>IV Start - Extremity Vein (arm or leg)</td>\n",
       "      <td>NaN</td>\n",
       "      <td>NaN</td>\n",
       "      <td>False</td>\n",
       "    </tr>\n",
       "    <tr>\n",
       "      <td>2</td>\n",
       "      <td>1074428032</td>\n",
       "      <td>2019-05-28 00:45:44</td>\n",
       "      <td>C</td>\n",
       "      <td>3</td>\n",
       "      <td>442.0</td>\n",
       "      <td>ALS</td>\n",
       "      <td>ALS</td>\n",
       "      <td>ALS</td>\n",
       "      <td>ALS</td>\n",
       "      <td>ALS EMERGENCY</td>\n",
       "      <td>...</td>\n",
       "      <td>935111</td>\n",
       "      <td>30 - 39</td>\n",
       "      <td>Weakness (R53.1)</td>\n",
       "      <td>\"Not Applicable\"</td>\n",
       "      <td>Treated &amp; Transported</td>\n",
       "      <td>1164291.0</td>\n",
       "      <td>CV - ECG - 12 Lead Obtained</td>\n",
       "      <td>NaN</td>\n",
       "      <td>NaN</td>\n",
       "      <td>False</td>\n",
       "    </tr>\n",
       "    <tr>\n",
       "      <td>3</td>\n",
       "      <td>1074428032</td>\n",
       "      <td>2019-05-28 00:45:44</td>\n",
       "      <td>C</td>\n",
       "      <td>3</td>\n",
       "      <td>442.0</td>\n",
       "      <td>ALS</td>\n",
       "      <td>ALS</td>\n",
       "      <td>ALS</td>\n",
       "      <td>ALS</td>\n",
       "      <td>ALS EMERGENCY</td>\n",
       "      <td>...</td>\n",
       "      <td>935111</td>\n",
       "      <td>30 - 39</td>\n",
       "      <td>Weakness (R53.1)</td>\n",
       "      <td>\"Not Applicable\"</td>\n",
       "      <td>Treated &amp; Transported</td>\n",
       "      <td>1164288.0</td>\n",
       "      <td>IV Start - Extremity Vein (arm or leg)</td>\n",
       "      <td>NaN</td>\n",
       "      <td>NaN</td>\n",
       "      <td>False</td>\n",
       "    </tr>\n",
       "    <tr>\n",
       "      <td>4</td>\n",
       "      <td>1074428032</td>\n",
       "      <td>2019-05-28 00:45:44</td>\n",
       "      <td>C</td>\n",
       "      <td>3</td>\n",
       "      <td>442.0</td>\n",
       "      <td>ALS</td>\n",
       "      <td>ALS</td>\n",
       "      <td>ALS</td>\n",
       "      <td>ALS</td>\n",
       "      <td>ALS EMERGENCY</td>\n",
       "      <td>...</td>\n",
       "      <td>935111</td>\n",
       "      <td>30 - 39</td>\n",
       "      <td>Weakness (R53.1)</td>\n",
       "      <td>\"Not Applicable\"</td>\n",
       "      <td>Treated &amp; Transported</td>\n",
       "      <td>1164291.0</td>\n",
       "      <td>CV - ECG - 12 Lead Obtained</td>\n",
       "      <td>NaN</td>\n",
       "      <td>NaN</td>\n",
       "      <td>False</td>\n",
       "    </tr>\n",
       "    <tr>\n",
       "      <td>...</td>\n",
       "      <td>...</td>\n",
       "      <td>...</td>\n",
       "      <td>...</td>\n",
       "      <td>...</td>\n",
       "      <td>...</td>\n",
       "      <td>...</td>\n",
       "      <td>...</td>\n",
       "      <td>...</td>\n",
       "      <td>...</td>\n",
       "      <td>...</td>\n",
       "      <td>...</td>\n",
       "      <td>...</td>\n",
       "      <td>...</td>\n",
       "      <td>...</td>\n",
       "      <td>...</td>\n",
       "      <td>...</td>\n",
       "      <td>...</td>\n",
       "      <td>...</td>\n",
       "      <td>...</td>\n",
       "      <td>...</td>\n",
       "      <td>...</td>\n",
       "    </tr>\n",
       "    <tr>\n",
       "      <td>1357004</td>\n",
       "      <td>1204150720</td>\n",
       "      <td>2020-08-12 12:15:23</td>\n",
       "      <td>B</td>\n",
       "      <td>1</td>\n",
       "      <td>415.0</td>\n",
       "      <td>ALS</td>\n",
       "      <td>ALS</td>\n",
       "      <td>ALS</td>\n",
       "      <td>ALS</td>\n",
       "      <td>ALS EMERGENCY</td>\n",
       "      <td>...</td>\n",
       "      <td>1319845</td>\n",
       "      <td>30 - 39</td>\n",
       "      <td>CV - Chest Pain - Presumed Cardiac (I20.9)</td>\n",
       "      <td>Not Applicable</td>\n",
       "      <td>Treated &amp; Transported</td>\n",
       "      <td>1232196.0</td>\n",
       "      <td>CV - ECG - 12 Lead Obtained</td>\n",
       "      <td>432191.0</td>\n",
       "      <td>Acetylsalicylic Acid (Aspirin, ASA)</td>\n",
       "      <td>True</td>\n",
       "    </tr>\n",
       "    <tr>\n",
       "      <td>1357005</td>\n",
       "      <td>1204150720</td>\n",
       "      <td>2020-08-12 12:15:23</td>\n",
       "      <td>B</td>\n",
       "      <td>1</td>\n",
       "      <td>415.0</td>\n",
       "      <td>ALS</td>\n",
       "      <td>ALS</td>\n",
       "      <td>ALS</td>\n",
       "      <td>ALS</td>\n",
       "      <td>ALS EMERGENCY</td>\n",
       "      <td>...</td>\n",
       "      <td>1319845</td>\n",
       "      <td>30 - 39</td>\n",
       "      <td>CV - Chest Pain - Presumed Cardiac (I20.9)</td>\n",
       "      <td>Not Applicable</td>\n",
       "      <td>Treated &amp; Transported</td>\n",
       "      <td>1232196.0</td>\n",
       "      <td>CV - ECG - 12 Lead Obtained</td>\n",
       "      <td>432193.0</td>\n",
       "      <td>Nitroglycerin</td>\n",
       "      <td>True</td>\n",
       "    </tr>\n",
       "    <tr>\n",
       "      <td>1357006</td>\n",
       "      <td>1204150720</td>\n",
       "      <td>2020-08-12 12:15:23</td>\n",
       "      <td>B</td>\n",
       "      <td>1</td>\n",
       "      <td>415.0</td>\n",
       "      <td>ALS</td>\n",
       "      <td>ALS</td>\n",
       "      <td>ALS</td>\n",
       "      <td>ALS</td>\n",
       "      <td>ALS EMERGENCY</td>\n",
       "      <td>...</td>\n",
       "      <td>1319845</td>\n",
       "      <td>30 - 39</td>\n",
       "      <td>CV - Chest Pain - Presumed Cardiac (I20.9)</td>\n",
       "      <td>Not Applicable</td>\n",
       "      <td>Treated &amp; Transported</td>\n",
       "      <td>1232196.0</td>\n",
       "      <td>CV - ECG - 12 Lead Obtained</td>\n",
       "      <td>432193.0</td>\n",
       "      <td>Nitroglycerin</td>\n",
       "      <td>True</td>\n",
       "    </tr>\n",
       "    <tr>\n",
       "      <td>1357007</td>\n",
       "      <td>1204150720</td>\n",
       "      <td>2020-08-12 12:15:23</td>\n",
       "      <td>B</td>\n",
       "      <td>1</td>\n",
       "      <td>415.0</td>\n",
       "      <td>ALS</td>\n",
       "      <td>ALS</td>\n",
       "      <td>ALS</td>\n",
       "      <td>ALS</td>\n",
       "      <td>ALS EMERGENCY</td>\n",
       "      <td>...</td>\n",
       "      <td>1319845</td>\n",
       "      <td>30 - 39</td>\n",
       "      <td>CV - Chest Pain - Presumed Cardiac (I20.9)</td>\n",
       "      <td>Not Applicable</td>\n",
       "      <td>Treated &amp; Transported</td>\n",
       "      <td>1232195.0</td>\n",
       "      <td>IV Start - Extremity Vein (arm or leg)</td>\n",
       "      <td>432193.0</td>\n",
       "      <td>Nitroglycerin</td>\n",
       "      <td>True</td>\n",
       "    </tr>\n",
       "    <tr>\n",
       "      <td>1357008</td>\n",
       "      <td>1204150720</td>\n",
       "      <td>2020-08-12 12:15:23</td>\n",
       "      <td>B</td>\n",
       "      <td>1</td>\n",
       "      <td>415.0</td>\n",
       "      <td>ALS</td>\n",
       "      <td>ALS</td>\n",
       "      <td>ALS</td>\n",
       "      <td>ALS</td>\n",
       "      <td>ALS EMERGENCY</td>\n",
       "      <td>...</td>\n",
       "      <td>1319845</td>\n",
       "      <td>30 - 39</td>\n",
       "      <td>CV - Chest Pain - Presumed Cardiac (I20.9)</td>\n",
       "      <td>Not Applicable</td>\n",
       "      <td>Treated &amp; Transported</td>\n",
       "      <td>1232196.0</td>\n",
       "      <td>CV - ECG - 12 Lead Obtained</td>\n",
       "      <td>432192.0</td>\n",
       "      <td>Nitroglycerin</td>\n",
       "      <td>True</td>\n",
       "    </tr>\n",
       "  </tbody>\n",
       "</table>\n",
       "<p>1357009 rows × 37 columns</p>\n",
       "</div>"
      ],
      "text/plain": [
       "         PrimaryKey      CallConfirmedDT ShiftDay  TourOfShift  \\\n",
       "0        1074428032  2019-05-28 00:45:44        C            3   \n",
       "1        1074428032  2019-05-28 00:45:44        C            3   \n",
       "2        1074428032  2019-05-28 00:45:44        C            3   \n",
       "3        1074428032  2019-05-28 00:45:44        C            3   \n",
       "4        1074428032  2019-05-28 00:45:44        C            3   \n",
       "...             ...                  ...      ...          ...   \n",
       "1357004  1204150720  2020-08-12 12:15:23        B            1   \n",
       "1357005  1204150720  2020-08-12 12:15:23        B            1   \n",
       "1357006  1204150720  2020-08-12 12:15:23        B            1   \n",
       "1357007  1204150720  2020-08-12 12:15:23        B            1   \n",
       "1357008  1204150720  2020-08-12 12:15:23        B            1   \n",
       "\n",
       "         IncidentFirstDue InitialIncidentType DispatchedIncidentType  \\\n",
       "0                   442.0                 ALS                    ALS   \n",
       "1                   442.0                 ALS                    ALS   \n",
       "2                   442.0                 ALS                    ALS   \n",
       "3                   442.0                 ALS                    ALS   \n",
       "4                   442.0                 ALS                    ALS   \n",
       "...                   ...                 ...                    ...   \n",
       "1357004             415.0                 ALS                    ALS   \n",
       "1357005             415.0                 ALS                    ALS   \n",
       "1357006             415.0                 ALS                    ALS   \n",
       "1357007             415.0                 ALS                    ALS   \n",
       "1357008             415.0                 ALS                    ALS   \n",
       "\n",
       "        ArrivedIncidentType FinalIncidentType FinalIncidentTypeDescription  \\\n",
       "0                       ALS               ALS               ALS EMERGENCY    \n",
       "1                       ALS               ALS               ALS EMERGENCY    \n",
       "2                       ALS               ALS               ALS EMERGENCY    \n",
       "3                       ALS               ALS               ALS EMERGENCY    \n",
       "4                       ALS               ALS               ALS EMERGENCY    \n",
       "...                     ...               ...                          ...   \n",
       "1357004                 ALS               ALS               ALS EMERGENCY    \n",
       "1357005                 ALS               ALS               ALS EMERGENCY    \n",
       "1357006                 ALS               ALS               ALS EMERGENCY    \n",
       "1357007                 ALS               ALS               ALS EMERGENCY    \n",
       "1357008                 ALS               ALS               ALS EMERGENCY    \n",
       "\n",
       "         ...  PatientID PatientAge  \\\n",
       "0        ...     935111    30 - 39   \n",
       "1        ...     935111    30 - 39   \n",
       "2        ...     935111    30 - 39   \n",
       "3        ...     935111    30 - 39   \n",
       "4        ...     935111    30 - 39   \n",
       "...      ...        ...        ...   \n",
       "1357004  ...    1319845    30 - 39   \n",
       "1357005  ...    1319845    30 - 39   \n",
       "1357006  ...    1319845    30 - 39   \n",
       "1357007  ...    1319845    30 - 39   \n",
       "1357008  ...    1319845    30 - 39   \n",
       "\n",
       "                                  PrimaryImpression SecondaryImpression  \\\n",
       "0                                  Weakness (R53.1)    \"Not Applicable\"   \n",
       "1                                  Weakness (R53.1)    \"Not Applicable\"   \n",
       "2                                  Weakness (R53.1)    \"Not Applicable\"   \n",
       "3                                  Weakness (R53.1)    \"Not Applicable\"   \n",
       "4                                  Weakness (R53.1)    \"Not Applicable\"   \n",
       "...                                             ...                 ...   \n",
       "1357004  CV - Chest Pain - Presumed Cardiac (I20.9)      Not Applicable   \n",
       "1357005  CV - Chest Pain - Presumed Cardiac (I20.9)      Not Applicable   \n",
       "1357006  CV - Chest Pain - Presumed Cardiac (I20.9)      Not Applicable   \n",
       "1357007  CV - Chest Pain - Presumed Cardiac (I20.9)      Not Applicable   \n",
       "1357008  CV - Chest Pain - Presumed Cardiac (I20.9)      Not Applicable   \n",
       "\n",
       "             PatientDisposition ProcedurePrimaryKey  \\\n",
       "0        Treated & Transported            1164292.0   \n",
       "1        Treated & Transported            1164288.0   \n",
       "2        Treated & Transported            1164291.0   \n",
       "3        Treated & Transported            1164288.0   \n",
       "4        Treated & Transported            1164291.0   \n",
       "...                         ...                 ...   \n",
       "1357004  Treated & Transported            1232196.0   \n",
       "1357005  Treated & Transported            1232196.0   \n",
       "1357006  Treated & Transported            1232196.0   \n",
       "1357007  Treated & Transported            1232195.0   \n",
       "1357008  Treated & Transported            1232196.0   \n",
       "\n",
       "                             ProcedurePerformed MedicationPrimaryKey  \\\n",
       "0                   CV - ECG - 12 Lead Obtained                  NaN   \n",
       "1        IV Start - Extremity Vein (arm or leg)                  NaN   \n",
       "2                   CV - ECG - 12 Lead Obtained                  NaN   \n",
       "3        IV Start - Extremity Vein (arm or leg)                  NaN   \n",
       "4                   CV - ECG - 12 Lead Obtained                  NaN   \n",
       "...                                         ...                  ...   \n",
       "1357004             CV - ECG - 12 Lead Obtained             432191.0   \n",
       "1357005             CV - ECG - 12 Lead Obtained             432193.0   \n",
       "1357006             CV - ECG - 12 Lead Obtained             432193.0   \n",
       "1357007  IV Start - Extremity Vein (arm or leg)             432193.0   \n",
       "1357008             CV - ECG - 12 Lead Obtained             432192.0   \n",
       "\n",
       "                              MedicationGiven isALS_LOC  \n",
       "0                                         NaN     False  \n",
       "1                                         NaN     False  \n",
       "2                                         NaN     False  \n",
       "3                                         NaN     False  \n",
       "4                                         NaN     False  \n",
       "...                                       ...       ...  \n",
       "1357004  Acetylsalicylic Acid (Aspirin, ASA)       True  \n",
       "1357005                         Nitroglycerin      True  \n",
       "1357006                         Nitroglycerin      True  \n",
       "1357007                         Nitroglycerin      True  \n",
       "1357008                         Nitroglycerin      True  \n",
       "\n",
       "[1357009 rows x 37 columns]"
      ]
     },
     "execution_count": 40,
     "metadata": {},
     "output_type": "execute_result"
    }
   ],
   "source": [
    "df_master"
   ]
  },
  {
   "cell_type": "code",
   "execution_count": 42,
   "metadata": {},
   "outputs": [],
   "source": [
    "# Replaced all the null values of 'Medication Given' column with 'No medication given'\n",
    "df_master['MedicationGiven'].fillna('No Medication Given', inplace = True)"
   ]
  },
  {
   "cell_type": "code",
   "execution_count": 43,
   "metadata": {},
   "outputs": [],
   "source": [
    "# Replaced all the null values of 'Medication primarykey' column with '0'\n",
    "df_master['MedicationPrimaryKey'].fillna('0', inplace = True)"
   ]
  },
  {
   "cell_type": "code",
   "execution_count": 44,
   "metadata": {},
   "outputs": [],
   "source": [
    "# Replaced all the null values of 'ProcedurePerformed' column with 'no Procedure Performed'\n",
    "df_master['ProcedurePerformed'].fillna('no Procedure Performed', inplace = True)"
   ]
  },
  {
   "cell_type": "code",
   "execution_count": 45,
   "metadata": {},
   "outputs": [],
   "source": [
    "# Replaced all the null values of 'ProcedurePrimaryKey' column with '0'\n",
    "df_master['ProcedurePrimaryKey'].fillna('0', inplace = True)"
   ]
  },
  {
   "cell_type": "code",
   "execution_count": 46,
   "metadata": {},
   "outputs": [],
   "source": [
    "# Replaced all the null values of 'TransportHospitalName' column with 'No Hospital service'\n",
    "df_master['TransportHospitalName'].fillna('No Hospital service', inplace = True)"
   ]
  },
  {
   "cell_type": "code",
   "execution_count": 47,
   "metadata": {},
   "outputs": [],
   "source": [
    "## Replaced all the null values of 'TransportHospitalCode' column with '0'\n",
    "df_master['TransportHospitalCode'].fillna('0', inplace = True)"
   ]
  },
  {
   "cell_type": "code",
   "execution_count": 48,
   "metadata": {},
   "outputs": [],
   "source": [
    "# Replaced all the null values of 'ReasonForChoosingHospital' column with 'No Hospital service'\n",
    "df_master['ReasonForChoosingHospital'].fillna('No Hospital service', inplace = True)"
   ]
  },
  {
   "cell_type": "code",
   "execution_count": 50,
   "metadata": {},
   "outputs": [],
   "source": [
    "# Reading Data set to the new .csv file and performed data management on column PersonnelRole. \n",
    "## Splitted PersonnelRole column into 4 new colums \n",
    "df_master.to_csv('Cleaneddatanew.csv')"
   ]
  },
  {
   "cell_type": "code",
   "execution_count": 66,
   "metadata": {},
   "outputs": [],
   "source": [
    "# Loading the new cleaned data set into python\n",
    "df_master1 = pd.read_csv(\"C:\\\\Users\\\\suraj\\\\Downloads\\\\Cleaneddatanew.csv\")"
   ]
  },
  {
   "cell_type": "code",
   "execution_count": 67,
   "metadata": {},
   "outputs": [
    {
     "data": {
      "text/html": [
       "<div>\n",
       "<style scoped>\n",
       "    .dataframe tbody tr th:only-of-type {\n",
       "        vertical-align: middle;\n",
       "    }\n",
       "\n",
       "    .dataframe tbody tr th {\n",
       "        vertical-align: top;\n",
       "    }\n",
       "\n",
       "    .dataframe thead th {\n",
       "        text-align: right;\n",
       "    }\n",
       "</style>\n",
       "<table border=\"1\" class=\"dataframe\">\n",
       "  <thead>\n",
       "    <tr style=\"text-align: right;\">\n",
       "      <th></th>\n",
       "      <th>Unnamed: 0</th>\n",
       "      <th>PrimaryKey</th>\n",
       "      <th>CallConfirmedDT</th>\n",
       "      <th>ShiftDay</th>\n",
       "      <th>TourOfShift</th>\n",
       "      <th>IncidentFirstDue</th>\n",
       "      <th>InitialIncidentType</th>\n",
       "      <th>DispatchedIncidentType</th>\n",
       "      <th>ArrivedIncidentType</th>\n",
       "      <th>FinalIncidentType</th>\n",
       "      <th>...</th>\n",
       "      <th>PatientID</th>\n",
       "      <th>PatientAge</th>\n",
       "      <th>PrimaryImpression</th>\n",
       "      <th>SecondaryImpression</th>\n",
       "      <th>PatientDisposition</th>\n",
       "      <th>ProcedurePrimaryKey</th>\n",
       "      <th>ProcedurePerformed</th>\n",
       "      <th>MedicationPrimaryKey</th>\n",
       "      <th>MedicationGiven</th>\n",
       "      <th>isALS_LOC</th>\n",
       "    </tr>\n",
       "  </thead>\n",
       "  <tbody>\n",
       "    <tr>\n",
       "      <td>0</td>\n",
       "      <td>0</td>\n",
       "      <td>1074428032</td>\n",
       "      <td>5/28/2019 0:45</td>\n",
       "      <td>C</td>\n",
       "      <td>3</td>\n",
       "      <td>442.0</td>\n",
       "      <td>ALS</td>\n",
       "      <td>ALS</td>\n",
       "      <td>ALS</td>\n",
       "      <td>ALS</td>\n",
       "      <td>...</td>\n",
       "      <td>935111</td>\n",
       "      <td>30 - 39</td>\n",
       "      <td>Weakness (R53.1)</td>\n",
       "      <td>\"Not Applicable\"</td>\n",
       "      <td>Treated &amp; Transported</td>\n",
       "      <td>1164292</td>\n",
       "      <td>CV - ECG - 12 Lead Obtained</td>\n",
       "      <td>0</td>\n",
       "      <td>No Medication Given</td>\n",
       "      <td>False</td>\n",
       "    </tr>\n",
       "    <tr>\n",
       "      <td>1</td>\n",
       "      <td>1</td>\n",
       "      <td>1074428032</td>\n",
       "      <td>5/28/2019 0:45</td>\n",
       "      <td>C</td>\n",
       "      <td>3</td>\n",
       "      <td>442.0</td>\n",
       "      <td>ALS</td>\n",
       "      <td>ALS</td>\n",
       "      <td>ALS</td>\n",
       "      <td>ALS</td>\n",
       "      <td>...</td>\n",
       "      <td>935111</td>\n",
       "      <td>30 - 39</td>\n",
       "      <td>Weakness (R53.1)</td>\n",
       "      <td>\"Not Applicable\"</td>\n",
       "      <td>Treated &amp; Transported</td>\n",
       "      <td>1164288</td>\n",
       "      <td>IV Start - Extremity Vein (arm or leg)</td>\n",
       "      <td>0</td>\n",
       "      <td>No Medication Given</td>\n",
       "      <td>False</td>\n",
       "    </tr>\n",
       "    <tr>\n",
       "      <td>2</td>\n",
       "      <td>2</td>\n",
       "      <td>1074428032</td>\n",
       "      <td>5/28/2019 0:45</td>\n",
       "      <td>C</td>\n",
       "      <td>3</td>\n",
       "      <td>442.0</td>\n",
       "      <td>ALS</td>\n",
       "      <td>ALS</td>\n",
       "      <td>ALS</td>\n",
       "      <td>ALS</td>\n",
       "      <td>...</td>\n",
       "      <td>935111</td>\n",
       "      <td>30 - 39</td>\n",
       "      <td>Weakness (R53.1)</td>\n",
       "      <td>\"Not Applicable\"</td>\n",
       "      <td>Treated &amp; Transported</td>\n",
       "      <td>1164291</td>\n",
       "      <td>CV - ECG - 12 Lead Obtained</td>\n",
       "      <td>0</td>\n",
       "      <td>No Medication Given</td>\n",
       "      <td>False</td>\n",
       "    </tr>\n",
       "    <tr>\n",
       "      <td>3</td>\n",
       "      <td>3</td>\n",
       "      <td>1074428032</td>\n",
       "      <td>5/28/2019 0:45</td>\n",
       "      <td>C</td>\n",
       "      <td>3</td>\n",
       "      <td>442.0</td>\n",
       "      <td>ALS</td>\n",
       "      <td>ALS</td>\n",
       "      <td>ALS</td>\n",
       "      <td>ALS</td>\n",
       "      <td>...</td>\n",
       "      <td>935111</td>\n",
       "      <td>30 - 39</td>\n",
       "      <td>Weakness (R53.1)</td>\n",
       "      <td>\"Not Applicable\"</td>\n",
       "      <td>Treated &amp; Transported</td>\n",
       "      <td>1164288</td>\n",
       "      <td>IV Start - Extremity Vein (arm or leg)</td>\n",
       "      <td>0</td>\n",
       "      <td>No Medication Given</td>\n",
       "      <td>False</td>\n",
       "    </tr>\n",
       "    <tr>\n",
       "      <td>4</td>\n",
       "      <td>4</td>\n",
       "      <td>1074428032</td>\n",
       "      <td>5/28/2019 0:45</td>\n",
       "      <td>C</td>\n",
       "      <td>3</td>\n",
       "      <td>442.0</td>\n",
       "      <td>ALS</td>\n",
       "      <td>ALS</td>\n",
       "      <td>ALS</td>\n",
       "      <td>ALS</td>\n",
       "      <td>...</td>\n",
       "      <td>935111</td>\n",
       "      <td>30 - 39</td>\n",
       "      <td>Weakness (R53.1)</td>\n",
       "      <td>\"Not Applicable\"</td>\n",
       "      <td>Treated &amp; Transported</td>\n",
       "      <td>1164291</td>\n",
       "      <td>CV - ECG - 12 Lead Obtained</td>\n",
       "      <td>0</td>\n",
       "      <td>No Medication Given</td>\n",
       "      <td>False</td>\n",
       "    </tr>\n",
       "    <tr>\n",
       "      <td>...</td>\n",
       "      <td>...</td>\n",
       "      <td>...</td>\n",
       "      <td>...</td>\n",
       "      <td>...</td>\n",
       "      <td>...</td>\n",
       "      <td>...</td>\n",
       "      <td>...</td>\n",
       "      <td>...</td>\n",
       "      <td>...</td>\n",
       "      <td>...</td>\n",
       "      <td>...</td>\n",
       "      <td>...</td>\n",
       "      <td>...</td>\n",
       "      <td>...</td>\n",
       "      <td>...</td>\n",
       "      <td>...</td>\n",
       "      <td>...</td>\n",
       "      <td>...</td>\n",
       "      <td>...</td>\n",
       "      <td>...</td>\n",
       "      <td>...</td>\n",
       "    </tr>\n",
       "    <tr>\n",
       "      <td>1048570</td>\n",
       "      <td>1048570</td>\n",
       "      <td>1194216785</td>\n",
       "      <td>7/14/2020 9:23</td>\n",
       "      <td>C</td>\n",
       "      <td>3</td>\n",
       "      <td>421.0</td>\n",
       "      <td>CPRF</td>\n",
       "      <td>CPRF</td>\n",
       "      <td>CPRF</td>\n",
       "      <td>CPRF</td>\n",
       "      <td>...</td>\n",
       "      <td>1295139</td>\n",
       "      <td>30 - 39</td>\n",
       "      <td>Abuse of Narcotic / Opioid / Heroin (Overdose)...</td>\n",
       "      <td>Not Applicable</td>\n",
       "      <td>Treated &amp; Transported</td>\n",
       "      <td>1227632</td>\n",
       "      <td>Airway - Nasopharyngeal Insertion</td>\n",
       "      <td>430643</td>\n",
       "      <td>Naloxone (Narcan)</td>\n",
       "      <td>False</td>\n",
       "    </tr>\n",
       "    <tr>\n",
       "      <td>1048571</td>\n",
       "      <td>1048571</td>\n",
       "      <td>1194216785</td>\n",
       "      <td>7/14/2020 9:23</td>\n",
       "      <td>C</td>\n",
       "      <td>3</td>\n",
       "      <td>421.0</td>\n",
       "      <td>CPRF</td>\n",
       "      <td>CPRF</td>\n",
       "      <td>CPRF</td>\n",
       "      <td>CPRF</td>\n",
       "      <td>...</td>\n",
       "      <td>1295139</td>\n",
       "      <td>30 - 39</td>\n",
       "      <td>Abuse of Narcotic / Opioid / Heroin (Overdose)...</td>\n",
       "      <td>Not Applicable</td>\n",
       "      <td>Treated &amp; Transported</td>\n",
       "      <td>1227633</td>\n",
       "      <td>Resp - Assist Ventilation - BVM Via Mask</td>\n",
       "      <td>430645</td>\n",
       "      <td>Naloxone (Narcan)</td>\n",
       "      <td>False</td>\n",
       "    </tr>\n",
       "    <tr>\n",
       "      <td>1048572</td>\n",
       "      <td>1048572</td>\n",
       "      <td>1194216785</td>\n",
       "      <td>7/14/2020 9:23</td>\n",
       "      <td>C</td>\n",
       "      <td>3</td>\n",
       "      <td>421.0</td>\n",
       "      <td>CPRF</td>\n",
       "      <td>CPRF</td>\n",
       "      <td>CPRF</td>\n",
       "      <td>CPRF</td>\n",
       "      <td>...</td>\n",
       "      <td>1295139</td>\n",
       "      <td>30 - 39</td>\n",
       "      <td>Abuse of Narcotic / Opioid / Heroin (Overdose)...</td>\n",
       "      <td>Not Applicable</td>\n",
       "      <td>Treated &amp; Transported</td>\n",
       "      <td>1227634</td>\n",
       "      <td>IV Start - Extremity Vein (arm or leg)</td>\n",
       "      <td>430644</td>\n",
       "      <td>Naloxone (Narcan)</td>\n",
       "      <td>False</td>\n",
       "    </tr>\n",
       "    <tr>\n",
       "      <td>1048573</td>\n",
       "      <td>1048573</td>\n",
       "      <td>1194216785</td>\n",
       "      <td>7/14/2020 9:23</td>\n",
       "      <td>C</td>\n",
       "      <td>3</td>\n",
       "      <td>421.0</td>\n",
       "      <td>CPRF</td>\n",
       "      <td>CPRF</td>\n",
       "      <td>CPRF</td>\n",
       "      <td>CPRF</td>\n",
       "      <td>...</td>\n",
       "      <td>1295139</td>\n",
       "      <td>30 - 39</td>\n",
       "      <td>Abuse of Narcotic / Opioid / Heroin (Overdose)...</td>\n",
       "      <td>Not Applicable</td>\n",
       "      <td>Treated &amp; Transported</td>\n",
       "      <td>1227635</td>\n",
       "      <td>CV - ECG - 12 Lead Obtained</td>\n",
       "      <td>430643</td>\n",
       "      <td>Naloxone (Narcan)</td>\n",
       "      <td>False</td>\n",
       "    </tr>\n",
       "    <tr>\n",
       "      <td>1048574</td>\n",
       "      <td>1048574</td>\n",
       "      <td>1194216785</td>\n",
       "      <td>7/14/2020 9:23</td>\n",
       "      <td>C</td>\n",
       "      <td>3</td>\n",
       "      <td>421.0</td>\n",
       "      <td>CPRF</td>\n",
       "      <td>CPRF</td>\n",
       "      <td>CPRF</td>\n",
       "      <td>CPRF</td>\n",
       "      <td>...</td>\n",
       "      <td>1295139</td>\n",
       "      <td>30 - 39</td>\n",
       "      <td>Abuse of Narcotic / Opioid / Heroin (Overdose)...</td>\n",
       "      <td>Not Applicable</td>\n",
       "      <td>Treated &amp; Transported</td>\n",
       "      <td>1227632</td>\n",
       "      <td>Airway - Nasopharyngeal Insertion</td>\n",
       "      <td>430643</td>\n",
       "      <td>Naloxone (Narcan)</td>\n",
       "      <td>False</td>\n",
       "    </tr>\n",
       "  </tbody>\n",
       "</table>\n",
       "<p>1048575 rows × 41 columns</p>\n",
       "</div>"
      ],
      "text/plain": [
       "         Unnamed: 0  PrimaryKey CallConfirmedDT ShiftDay  TourOfShift  \\\n",
       "0                 0  1074428032  5/28/2019 0:45        C            3   \n",
       "1                 1  1074428032  5/28/2019 0:45        C            3   \n",
       "2                 2  1074428032  5/28/2019 0:45        C            3   \n",
       "3                 3  1074428032  5/28/2019 0:45        C            3   \n",
       "4                 4  1074428032  5/28/2019 0:45        C            3   \n",
       "...             ...         ...             ...      ...          ...   \n",
       "1048570     1048570  1194216785  7/14/2020 9:23        C            3   \n",
       "1048571     1048571  1194216785  7/14/2020 9:23        C            3   \n",
       "1048572     1048572  1194216785  7/14/2020 9:23        C            3   \n",
       "1048573     1048573  1194216785  7/14/2020 9:23        C            3   \n",
       "1048574     1048574  1194216785  7/14/2020 9:23        C            3   \n",
       "\n",
       "         IncidentFirstDue InitialIncidentType DispatchedIncidentType  \\\n",
       "0                   442.0                 ALS                    ALS   \n",
       "1                   442.0                 ALS                    ALS   \n",
       "2                   442.0                 ALS                    ALS   \n",
       "3                   442.0                 ALS                    ALS   \n",
       "4                   442.0                 ALS                    ALS   \n",
       "...                   ...                 ...                    ...   \n",
       "1048570             421.0                CPRF                   CPRF   \n",
       "1048571             421.0                CPRF                   CPRF   \n",
       "1048572             421.0                CPRF                   CPRF   \n",
       "1048573             421.0                CPRF                   CPRF   \n",
       "1048574             421.0                CPRF                   CPRF   \n",
       "\n",
       "        ArrivedIncidentType FinalIncidentType  ... PatientID  PatientAge  \\\n",
       "0                       ALS               ALS  ...    935111     30 - 39   \n",
       "1                       ALS               ALS  ...    935111     30 - 39   \n",
       "2                       ALS               ALS  ...    935111     30 - 39   \n",
       "3                       ALS               ALS  ...    935111     30 - 39   \n",
       "4                       ALS               ALS  ...    935111     30 - 39   \n",
       "...                     ...               ...  ...       ...         ...   \n",
       "1048570                CPRF              CPRF  ...   1295139     30 - 39   \n",
       "1048571                CPRF              CPRF  ...   1295139     30 - 39   \n",
       "1048572                CPRF              CPRF  ...   1295139     30 - 39   \n",
       "1048573                CPRF              CPRF  ...   1295139     30 - 39   \n",
       "1048574                CPRF              CPRF  ...   1295139     30 - 39   \n",
       "\n",
       "                                         PrimaryImpression  \\\n",
       "0                                         Weakness (R53.1)   \n",
       "1                                         Weakness (R53.1)   \n",
       "2                                         Weakness (R53.1)   \n",
       "3                                         Weakness (R53.1)   \n",
       "4                                         Weakness (R53.1)   \n",
       "...                                                    ...   \n",
       "1048570  Abuse of Narcotic / Opioid / Heroin (Overdose)...   \n",
       "1048571  Abuse of Narcotic / Opioid / Heroin (Overdose)...   \n",
       "1048572  Abuse of Narcotic / Opioid / Heroin (Overdose)...   \n",
       "1048573  Abuse of Narcotic / Opioid / Heroin (Overdose)...   \n",
       "1048574  Abuse of Narcotic / Opioid / Heroin (Overdose)...   \n",
       "\n",
       "        SecondaryImpression      PatientDisposition ProcedurePrimaryKey  \\\n",
       "0          \"Not Applicable\"  Treated & Transported              1164292   \n",
       "1          \"Not Applicable\"  Treated & Transported              1164288   \n",
       "2          \"Not Applicable\"  Treated & Transported              1164291   \n",
       "3          \"Not Applicable\"  Treated & Transported              1164288   \n",
       "4          \"Not Applicable\"  Treated & Transported              1164291   \n",
       "...                     ...                     ...                 ...   \n",
       "1048570      Not Applicable  Treated & Transported              1227632   \n",
       "1048571      Not Applicable  Treated & Transported              1227633   \n",
       "1048572      Not Applicable  Treated & Transported              1227634   \n",
       "1048573      Not Applicable  Treated & Transported              1227635   \n",
       "1048574      Not Applicable  Treated & Transported              1227632   \n",
       "\n",
       "                               ProcedurePerformed MedicationPrimaryKey  \\\n",
       "0                     CV - ECG - 12 Lead Obtained                    0   \n",
       "1          IV Start - Extremity Vein (arm or leg)                    0   \n",
       "2                     CV - ECG - 12 Lead Obtained                    0   \n",
       "3          IV Start - Extremity Vein (arm or leg)                    0   \n",
       "4                     CV - ECG - 12 Lead Obtained                    0   \n",
       "...                                           ...                  ...   \n",
       "1048570         Airway - Nasopharyngeal Insertion               430643   \n",
       "1048571  Resp - Assist Ventilation - BVM Via Mask               430645   \n",
       "1048572    IV Start - Extremity Vein (arm or leg)               430644   \n",
       "1048573               CV - ECG - 12 Lead Obtained               430643   \n",
       "1048574         Airway - Nasopharyngeal Insertion               430643   \n",
       "\n",
       "             MedicationGiven  isALS_LOC  \n",
       "0        No Medication Given      False  \n",
       "1        No Medication Given      False  \n",
       "2        No Medication Given      False  \n",
       "3        No Medication Given      False  \n",
       "4        No Medication Given      False  \n",
       "...                      ...        ...  \n",
       "1048570    Naloxone (Narcan)      False  \n",
       "1048571    Naloxone (Narcan)      False  \n",
       "1048572    Naloxone (Narcan)      False  \n",
       "1048573    Naloxone (Narcan)      False  \n",
       "1048574    Naloxone (Narcan)      False  \n",
       "\n",
       "[1048575 rows x 41 columns]"
      ]
     },
     "execution_count": 67,
     "metadata": {},
     "output_type": "execute_result"
    }
   ],
   "source": [
    "df_master1"
   ]
  },
  {
   "cell_type": "code",
   "execution_count": 72,
   "metadata": {},
   "outputs": [],
   "source": [
    "## Cleaning Null values of 'PersonnelRole' Column\n",
    "df_master1['PersonnelRole1'].fillna('No role', inplace = True)"
   ]
  },
  {
   "cell_type": "code",
   "execution_count": 73,
   "metadata": {},
   "outputs": [],
   "source": [
    "df_master1['PersonnelRole2'].fillna('No role', inplace = True)"
   ]
  },
  {
   "cell_type": "code",
   "execution_count": 74,
   "metadata": {},
   "outputs": [],
   "source": [
    "df_master1['PersonnelRole3'].fillna('No role', inplace = True)"
   ]
  },
  {
   "cell_type": "code",
   "execution_count": 75,
   "metadata": {},
   "outputs": [],
   "source": [
    "df_master1['PersonnelRole4'].fillna('No role', inplace = True)"
   ]
  },
  {
   "cell_type": "code",
   "execution_count": 78,
   "metadata": {},
   "outputs": [
    {
     "data": {
      "text/plain": [
       "MedicationPrimaryKey                 0\n",
       "ProcedurePerformed                   0\n",
       "ProcedurePrimaryKey                  0\n",
       "PatientDisposition                   0\n",
       "PatientID                            0\n",
       "ReasonForChoosingHospital            0\n",
       "TransportHospitalName                0\n",
       "TransportHospitalCode                0\n",
       "PersonnelRole4                       0\n",
       "PersonnelRole3                       0\n",
       "PersonnelRole2                       0\n",
       "PersonnelRole1                       0\n",
       "MedicationGiven                      0\n",
       "UnitType                             0\n",
       "UnitOtherActionsTaken                0\n",
       "isALS_LOC                            0\n",
       "FinalIncidentType                    0\n",
       "InitialIncidentType                  0\n",
       "DispatchedIncidentType               0\n",
       "ShiftDay                             0\n",
       "MutualAidReceived                    0\n",
       "ResponseUnitID                       0\n",
       "TourOfShift                          0\n",
       "CallConfirmedDT                      0\n",
       "TransportUnitID                      0\n",
       "PrimaryKey                           0\n",
       "TransportUnitLOC                     0\n",
       "PersonnelID                          2\n",
       "PatientAge                          10\n",
       "SecondaryImpression                 20\n",
       "PrimaryImpression                   20\n",
       "IncidentFirstDue                    24\n",
       "UnitPrimaryActionTaken              63\n",
       "UnitStation                        169\n",
       "FinalIncidentTypeDescription       246\n",
       "ArrivedIncidentType               1320\n",
       "TransportLOC                      4179\n",
       "UnitArrivalOrder                 89337\n",
       "UnitTransportedDT               599344\n",
       "UnitTransportedArrivalDT        604064\n",
       "dtype: int64"
      ]
     },
     "execution_count": 78,
     "metadata": {},
     "output_type": "execute_result"
    }
   ],
   "source": [
    "df_master1.isnull().sum().sort_values().tail(40)"
   ]
  },
  {
   "cell_type": "code",
   "execution_count": null,
   "metadata": {},
   "outputs": [],
   "source": [
    "## End of Data cleaning ##"
   ]
  },
  {
   "cell_type": "markdown",
   "metadata": {},
   "source": [
    "#### Feature - UnitTransportedArrivalDT     \n",
    "\n",
    "q: Ask stakeholder how to fill empty values. Can you use any other date column here?"
   ]
  },
  {
   "cell_type": "code",
   "execution_count": 10,
   "metadata": {},
   "outputs": [
    {
     "name": "stdout",
     "output_type": "stream",
     "text": [
      "% of null value in UnitTransportedArrivalDT : 57.59630186682624\n"
     ]
    }
   ],
   "source": [
    "print(f\"% of null value in UnitTransportedArrivalDT : {(df_master.UnitTransportedArrivalDT.isnull().sum() / len(df_master)) * 100 }\")\n"
   ]
  },
  {
   "cell_type": "code",
   "execution_count": 11,
   "metadata": {},
   "outputs": [
    {
     "data": {
      "text/plain": [
       "count                  575422\n",
       "unique                 122666\n",
       "top       2019-09-25 17:22:05\n",
       "freq                     1452\n",
       "Name: UnitTransportedArrivalDT, dtype: object"
      ]
     },
     "execution_count": 11,
     "metadata": {},
     "output_type": "execute_result"
    }
   ],
   "source": [
    "df_master.UnitTransportedArrivalDT.describe()"
   ]
  },
  {
   "cell_type": "code",
   "execution_count": 12,
   "metadata": {},
   "outputs": [
    {
     "name": "stdout",
     "output_type": "stream",
     "text": [
      "Frequency distribution of UnitTransportedArrivalDT values: \n",
      " 2019-09-25 17:22:05    1452\n",
      "2019-02-04 15:38:53    1365\n",
      "2019-02-04 15:44:07    1365\n",
      "2019-02-04 15:46:12    1365\n",
      "2018-09-24 10:36:41    1056\n",
      "Name: UnitTransportedArrivalDT, dtype: int64\n"
     ]
    }
   ],
   "source": [
    "# Retrieving the Frequency distribution statistics \n",
    "UnitTransportedArrivalDT_count = df_master['UnitTransportedArrivalDT'].value_counts().head(5)\n",
    "print('Frequency distribution of UnitTransportedArrivalDT values: \\n',UnitTransportedArrivalDT_count)"
   ]
  },
  {
   "cell_type": "code",
   "execution_count": 13,
   "metadata": {},
   "outputs": [
    {
     "name": "stdout",
     "output_type": "stream",
     "text": [
      "Frequency distribution of UnitTransportedArrivalDT values: \n",
      " 2018-11-13 13:09:55    2\n",
      "2020-05-16 13:23:59    2\n",
      "2019-04-27 02:01:50    2\n",
      "2019-04-10 14:35:40    2\n",
      "2020-05-08 14:15:51    2\n",
      "Name: UnitTransportedArrivalDT, dtype: int64\n"
     ]
    }
   ],
   "source": [
    "# Retrieving the Frequency distribution statistics \n",
    "UnitTransportedArrivalDT_count_tail = df_master['UnitTransportedArrivalDT'].value_counts().tail(5)\n",
    "print('Frequency distribution of UnitTransportedArrivalDT values: \\n',UnitTransportedArrivalDT_count_tail)"
   ]
  },
  {
   "cell_type": "markdown",
   "metadata": {},
   "source": [
    "#### Feature - UnitTransportedDT    "
   ]
  },
  {
   "cell_type": "code",
   "execution_count": 14,
   "metadata": {},
   "outputs": [
    {
     "data": {
      "text/plain": [
       "57.131308635388564"
      ]
     },
     "execution_count": 14,
     "metadata": {},
     "output_type": "execute_result"
    }
   ],
   "source": [
    "(df_master.UnitTransportedDT.isnull().sum() / len(df_master)) * 100 "
   ]
  },
  {
   "cell_type": "code",
   "execution_count": 15,
   "metadata": {},
   "outputs": [
    {
     "data": {
      "text/plain": [
       "count                  581732\n",
       "unique                 123490\n",
       "top       2019-09-25 17:07:59\n",
       "freq                     1452\n",
       "Name: UnitTransportedDT, dtype: object"
      ]
     },
     "execution_count": 15,
     "metadata": {},
     "output_type": "execute_result"
    }
   ],
   "source": [
    "df_master.UnitTransportedDT.describe()"
   ]
  },
  {
   "cell_type": "code",
   "execution_count": 16,
   "metadata": {},
   "outputs": [
    {
     "name": "stdout",
     "output_type": "stream",
     "text": [
      "Frequency distribution of UnitTransportedDT values: \n",
      " 2019-09-25 17:07:59    1452\n",
      "2019-02-04 15:26:18    1365\n",
      "2019-02-04 15:38:51    1365\n",
      "2019-02-04 15:28:14    1365\n",
      "2018-09-24 10:28:29    1056\n",
      "Name: UnitTransportedDT, dtype: int64\n"
     ]
    }
   ],
   "source": [
    "# Retrieving the Frequency distribution statistics \n",
    "UnitTransportedDT_count = df_master['UnitTransportedDT'].value_counts().head(5)\n",
    "print('Frequency distribution of UnitTransportedDT values: \\n',UnitTransportedDT_count)"
   ]
  },
  {
   "cell_type": "code",
   "execution_count": 17,
   "metadata": {},
   "outputs": [
    {
     "name": "stdout",
     "output_type": "stream",
     "text": [
      "Frequency distribution of UnitTransportedDT values: \n",
      " 2019-11-29 08:34:24    2\n",
      "2018-09-15 21:40:45    2\n",
      "2020-03-07 00:28:40    2\n",
      "2020-01-01 17:12:07    2\n",
      "2020-02-15 12:58:11    2\n",
      "Name: UnitTransportedDT, dtype: int64\n"
     ]
    }
   ],
   "source": [
    "# Retrieving the Frequency distribution statistics \n",
    "UnitTransportedDT_count_tail = df_master['UnitTransportedDT'].value_counts().tail(5)\n",
    "print('Frequency distribution of UnitTransportedDT values: \\n',UnitTransportedDT_count_tail)"
   ]
  },
  {
   "cell_type": "markdown",
   "metadata": {},
   "source": [
    "#### Feature - MedicationGiven    \n",
    "Can create a model/lookup table to predict missing data. Can we create a new categories as no medication/missing?"
   ]
  },
  {
   "cell_type": "code",
   "execution_count": 18,
   "metadata": {},
   "outputs": [
    {
     "data": {
      "text/plain": [
       "45.279655477598155"
      ]
     },
     "execution_count": 18,
     "metadata": {},
     "output_type": "execute_result"
    }
   ],
   "source": [
    "(df_master.MedicationGiven.isnull().sum() / len(df_master)) * 100 "
   ]
  },
  {
   "cell_type": "code",
   "execution_count": 19,
   "metadata": {},
   "outputs": [
    {
     "data": {
      "text/plain": [
       "count                               742560\n",
       "unique                                  32\n",
       "top       Epinephrine 0.1 MG/ML (1:10,000)\n",
       "freq                                196894\n",
       "Name: MedicationGiven, dtype: object"
      ]
     },
     "execution_count": 19,
     "metadata": {},
     "output_type": "execute_result"
    }
   ],
   "source": [
    "df_master.MedicationGiven.describe()"
   ]
  },
  {
   "cell_type": "code",
   "execution_count": 20,
   "metadata": {},
   "outputs": [
    {
     "name": "stdout",
     "output_type": "stream",
     "text": [
      "Frequency distribution of MedicationGiven values: \n",
      " Epinephrine 0.1 MG/ML (1:10,000)    196894\n",
      "Oxygen                              116285\n",
      "Normal saline                        91782\n",
      "Fentanyl Citrate (Sublimaze)         47740\n",
      "Ondansetron (Zofran)                 45334\n",
      "Name: MedicationGiven, dtype: int64\n"
     ]
    }
   ],
   "source": [
    "# Retrieving the Frequency distribution statistics \n",
    "MedicationGiven_count = df_master['MedicationGiven'].value_counts().head(5)\n",
    "print('Frequency distribution of MedicationGiven values: \\n',MedicationGiven_count)"
   ]
  },
  {
   "cell_type": "code",
   "execution_count": 21,
   "metadata": {},
   "outputs": [
    {
     "name": "stdout",
     "output_type": "stream",
     "text": [
      "Frequency distribution of MedicationGiven values: \n",
      " Norepinephrine (Levophed)       838\n",
      "Calcium Chloride (10%)          321\n",
      "Morphine (Morphine Sulfate)     195\n",
      "Tetracaine                      108\n",
      "Diazepam (Valium)                 8\n",
      "Name: MedicationGiven, dtype: int64\n"
     ]
    }
   ],
   "source": [
    "# Retrieving the Frequency distribution statistics \n",
    "MedicationGiven_count_tail = df_master['MedicationGiven'].value_counts().tail(5)\n",
    "print('Frequency distribution of MedicationGiven values: \\n',MedicationGiven_count_tail)"
   ]
  },
  {
   "cell_type": "markdown",
   "metadata": {},
   "source": [
    "#### Feature - MedicationPrimaryKey     \n",
    "Not a useful feature as it is a key and we can drop these feature."
   ]
  },
  {
   "cell_type": "code",
   "execution_count": 22,
   "metadata": {},
   "outputs": [
    {
     "data": {
      "text/plain": [
       "45.27714996731783"
      ]
     },
     "execution_count": 22,
     "metadata": {},
     "output_type": "execute_result"
    }
   ],
   "source": [
    "(df_master.MedicationPrimaryKey.isnull().sum() / len(df_master)) * 100 "
   ]
  },
  {
   "cell_type": "code",
   "execution_count": 23,
   "metadata": {},
   "outputs": [
    {
     "data": {
      "text/plain": [
       "count    742594.000000\n",
       "mean     408487.907334\n",
       "std       25420.425095\n",
       "min      336281.000000\n",
       "25%      396939.000000\n",
       "50%      413604.500000\n",
       "75%      427997.000000\n",
       "max      440723.000000\n",
       "Name: MedicationPrimaryKey, dtype: float64"
      ]
     },
     "execution_count": 23,
     "metadata": {},
     "output_type": "execute_result"
    }
   ],
   "source": [
    "df_master.MedicationPrimaryKey.describe()"
   ]
  },
  {
   "cell_type": "code",
   "execution_count": 24,
   "metadata": {},
   "outputs": [],
   "source": [
    "df_master.drop(columns=\"MedicationPrimaryKey\", inplace=True)"
   ]
  },
  {
   "cell_type": "markdown",
   "metadata": {},
   "source": [
    "#### Feature - ProcedurePerformed     \n",
    "Build a model to predict missing values, or build a lookup table to fill missing values."
   ]
  },
  {
   "cell_type": "code",
   "execution_count": 25,
   "metadata": {},
   "outputs": [
    {
     "data": {
      "text/plain": [
       "21.62903856938311"
      ]
     },
     "execution_count": 25,
     "metadata": {},
     "output_type": "execute_result"
    }
   ],
   "source": [
    "(df_master.ProcedurePerformed.isnull().sum() / len(df_master)) * 100 "
   ]
  },
  {
   "cell_type": "code",
   "execution_count": 26,
   "metadata": {},
   "outputs": [
    {
     "data": {
      "text/plain": [
       "count                                    1063501\n",
       "unique                                        68\n",
       "top       IV Start - Extremity Vein (arm or leg)\n",
       "freq                                      318070\n",
       "Name: ProcedurePerformed, dtype: object"
      ]
     },
     "execution_count": 26,
     "metadata": {},
     "output_type": "execute_result"
    }
   ],
   "source": [
    "df_master.ProcedurePerformed.describe()"
   ]
  },
  {
   "cell_type": "code",
   "execution_count": 27,
   "metadata": {},
   "outputs": [
    {
     "name": "stdout",
     "output_type": "stream",
     "text": [
      "Frequency distribution of ProcedurePerformed values: \n",
      " IV Start - Extremity Vein (arm or leg)    318070\n",
      "NaN                                       293508\n",
      "CV - ECG - 12 Lead Obtained               290178\n",
      "CV - Defibrillation - Manual               65779\n",
      "IO Start - Intraosseous Access             48596\n",
      "Name: ProcedurePerformed, dtype: int64\n"
     ]
    }
   ],
   "source": [
    "# Retrieving the Frequency distribution statistics \n",
    "ProcedurePerformed_count = df_master['ProcedurePerformed'].value_counts(dropna=False).head(5)\n",
    "print('Frequency distribution of ProcedurePerformed values: \\n',ProcedurePerformed_count)"
   ]
  },
  {
   "cell_type": "code",
   "execution_count": 28,
   "metadata": {},
   "outputs": [
    {
     "name": "stdout",
     "output_type": "stream",
     "text": [
      "Frequency distribution of ProcedurePerformed values: \n",
      " OB - Childbirth - EMS Personnel Present     77\n",
      "Intubation - Existing Tracheostomy Stoma    72\n",
      "Enviro - Hypothermia Induction Therapy      46\n",
      "Laryngoscopy - Indirect                     40\n",
      "Infectious - Decontamination of Patient      8\n",
      "Name: ProcedurePerformed, dtype: int64\n"
     ]
    }
   ],
   "source": [
    "# Retrieving the Frequency distribution statistics \n",
    "ProcedurePerformed_count_tail = df_master['ProcedurePerformed'].value_counts().tail(5)\n",
    "print('Frequency distribution of ProcedurePerformed values: \\n',ProcedurePerformed_count_tail)"
   ]
  },
  {
   "cell_type": "markdown",
   "metadata": {},
   "source": [
    "#### Feature - ProcedurePrimaryKey     \n",
    "Can this be used to fill missing values for other date columns - UnitTransportedArrivalDT."
   ]
  },
  {
   "cell_type": "code",
   "execution_count": 29,
   "metadata": {},
   "outputs": [
    {
     "data": {
      "text/plain": [
       "21.62903856938311"
      ]
     },
     "execution_count": 29,
     "metadata": {},
     "output_type": "execute_result"
    }
   ],
   "source": [
    "(df_master.ProcedurePrimaryKey.isnull().sum() / len(df_master)) * 100"
   ]
  },
  {
   "cell_type": "code",
   "execution_count": 30,
   "metadata": {},
   "outputs": [
    {
     "data": {
      "text/plain": [
       "count    1.063501e+06\n",
       "mean     1.172048e+06\n",
       "std      6.518121e+04\n",
       "min      9.814640e+05\n",
       "25%      1.144389e+06\n",
       "50%      1.185039e+06\n",
       "75%      1.220901e+06\n",
       "max      1.256396e+06\n",
       "Name: ProcedurePrimaryKey, dtype: float64"
      ]
     },
     "execution_count": 30,
     "metadata": {},
     "output_type": "execute_result"
    }
   ],
   "source": [
    "df_master.ProcedurePrimaryKey.describe()"
   ]
  },
  {
   "cell_type": "code",
   "execution_count": 31,
   "metadata": {},
   "outputs": [
    {
     "name": "stdout",
     "output_type": "stream",
     "text": [
      "Frequency distribution of ProcedurePrimaryKey values: \n",
      " 1173669.0    770\n",
      "1173670.0    770\n",
      "1173668.0    770\n",
      "1183992.0    396\n",
      "1183988.0    396\n",
      "Name: ProcedurePrimaryKey, dtype: int64\n"
     ]
    }
   ],
   "source": [
    "# Retrieving the Frequency distribution statistics \n",
    "ProcedurePrimaryKey_count = df_master['ProcedurePrimaryKey'].value_counts().head(5)\n",
    "print('Frequency distribution of ProcedurePrimaryKey values: \\n',ProcedurePrimaryKey_count)"
   ]
  },
  {
   "cell_type": "code",
   "execution_count": 32,
   "metadata": {},
   "outputs": [
    {
     "name": "stdout",
     "output_type": "stream",
     "text": [
      "Frequency distribution of ProcedurePrimaryKey values: \n",
      " 1157321.0    2\n",
      "1159223.0    2\n",
      "1243586.0    2\n",
      "1200017.0    2\n",
      "1216150.0    1\n",
      "Name: ProcedurePrimaryKey, dtype: int64\n"
     ]
    }
   ],
   "source": [
    "# Retrieving the Frequency distribution statistics \n",
    "ProcedurePrimaryKey_count_tail = df_master['ProcedurePrimaryKey'].value_counts().tail(5)\n",
    "print('Frequency distribution of ProcedurePrimaryKey values: \\n',ProcedurePrimaryKey_count_tail)"
   ]
  },
  {
   "cell_type": "markdown",
   "metadata": {},
   "source": [
    "#### Feature - UnitArrivalOrder"
   ]
  },
  {
   "cell_type": "code",
   "execution_count": 33,
   "metadata": {},
   "outputs": [
    {
     "data": {
      "text/plain": [
       "8.28962814542866"
      ]
     },
     "execution_count": 33,
     "metadata": {},
     "output_type": "execute_result"
    }
   ],
   "source": [
    "(df_master.UnitArrivalOrder.isnull().sum() / len(df_master)) * 100 "
   ]
  },
  {
   "cell_type": "code",
   "execution_count": 34,
   "metadata": {},
   "outputs": [
    {
     "data": {
      "text/plain": [
       "count    1.244518e+06\n",
       "mean     1.937690e+00\n",
       "std      1.857566e+00\n",
       "min      1.000000e+00\n",
       "25%      1.000000e+00\n",
       "50%      2.000000e+00\n",
       "75%      2.000000e+00\n",
       "max      1.000000e+02\n",
       "Name: UnitArrivalOrder, dtype: float64"
      ]
     },
     "execution_count": 34,
     "metadata": {},
     "output_type": "execute_result"
    }
   ],
   "source": [
    "df_master.UnitArrivalOrder.describe()"
   ]
  },
  {
   "cell_type": "code",
   "execution_count": 35,
   "metadata": {},
   "outputs": [
    {
     "name": "stdout",
     "output_type": "stream",
     "text": [
      "Frequency distribution of UnitArrivalOrder values: \n",
      " 1.0    536497\n",
      "2.0    511969\n",
      "3.0    122180\n",
      "4.0     32573\n",
      "5.0     13332\n",
      "Name: UnitArrivalOrder, dtype: int64\n"
     ]
    }
   ],
   "source": [
    "# Retrieving the Frequency distribution statistics \n",
    "UnitArrivalOrder_count = df_master['UnitArrivalOrder'].value_counts().head(5)\n",
    "print('Frequency distribution of UnitArrivalOrder values: \\n',UnitArrivalOrder_count)"
   ]
  },
  {
   "cell_type": "code",
   "execution_count": 36,
   "metadata": {},
   "outputs": [
    {
     "name": "stdout",
     "output_type": "stream",
     "text": [
      "Frequency distribution of UnitArrivalOrder values: \n",
      " 70.0    2\n",
      "96.0    2\n",
      "98.0    2\n",
      "56.0    2\n",
      "88.0    2\n",
      "Name: UnitArrivalOrder, dtype: int64\n"
     ]
    }
   ],
   "source": [
    "# Retrieving the Frequency distribution statistics \n",
    "UnitArrivalOrder_count_tail = df_master['UnitArrivalOrder'].value_counts().tail(5)\n",
    "print('Frequency distribution of UnitArrivalOrder values: \\n',UnitArrivalOrder_count_tail)"
   ]
  },
  {
   "cell_type": "code",
   "execution_count": 37,
   "metadata": {},
   "outputs": [
    {
     "data": {
      "text/plain": [
       "isALS_LOC                            0\n",
       "DispatchedIncidentType               0\n",
       "InitialIncidentType                  0\n",
       "PersonnelID                          2\n",
       "PatientAge                          12\n",
       "SecondaryImpression                 20\n",
       "PrimaryImpression                   20\n",
       "IncidentFirstDue                    78\n",
       "UnitPrimaryActionTaken             109\n",
       "FinalIncidentTypeDescription       247\n",
       "UnitStation                        362\n",
       "ArrivedIncidentType               1682\n",
       "TransportLOC                      4946\n",
       "ReasonForChoosingHospital         5078\n",
       "TransportHospitalName             5082\n",
       "TransportHospitalCode             5082\n",
       "UnitArrivalOrder                112491\n",
       "ProcedurePrimaryKey             293508\n",
       "ProcedurePerformed              293508\n",
       "MedicationGiven                 614449\n",
       "UnitTransportedDT               775277\n",
       "UnitTransportedArrivalDT        781587\n",
       "dtype: int64"
      ]
     },
     "execution_count": 37,
     "metadata": {},
     "output_type": "execute_result"
    }
   ],
   "source": [
    "### Check for null values after data cleaning\n",
    "df_master.isnull().sum().sort_values().tail(22)"
   ]
  },
  {
   "cell_type": "markdown",
   "metadata": {},
   "source": [
    "#### Task 1 Data cleaning ends ----------------------------"
   ]
  },
  {
   "cell_type": "markdown",
   "metadata": {},
   "source": [
    "### Task 2- "
   ]
  },
  {
   "cell_type": "code",
   "execution_count": 38,
   "metadata": {},
   "outputs": [
    {
     "data": {
      "text/html": [
       "<div>\n",
       "<style scoped>\n",
       "    .dataframe tbody tr th:only-of-type {\n",
       "        vertical-align: middle;\n",
       "    }\n",
       "\n",
       "    .dataframe tbody tr th {\n",
       "        vertical-align: top;\n",
       "    }\n",
       "\n",
       "    .dataframe thead th {\n",
       "        text-align: right;\n",
       "    }\n",
       "</style>\n",
       "<table border=\"1\" class=\"dataframe\">\n",
       "  <thead>\n",
       "    <tr style=\"text-align: right;\">\n",
       "      <th></th>\n",
       "      <th>PrimaryKey</th>\n",
       "      <th>CallConfirmedDT</th>\n",
       "      <th>ShiftDay</th>\n",
       "      <th>TourOfShift</th>\n",
       "      <th>IncidentFirstDue</th>\n",
       "      <th>InitialIncidentType</th>\n",
       "      <th>DispatchedIncidentType</th>\n",
       "      <th>ArrivedIncidentType</th>\n",
       "      <th>FinalIncidentType</th>\n",
       "      <th>FinalIncidentTypeDescription</th>\n",
       "      <th>...</th>\n",
       "      <th>ReasonForChoosingHospital</th>\n",
       "      <th>PatientID</th>\n",
       "      <th>PatientAge</th>\n",
       "      <th>PrimaryImpression</th>\n",
       "      <th>SecondaryImpression</th>\n",
       "      <th>PatientDisposition</th>\n",
       "      <th>ProcedurePrimaryKey</th>\n",
       "      <th>ProcedurePerformed</th>\n",
       "      <th>MedicationGiven</th>\n",
       "      <th>isALS_LOC</th>\n",
       "    </tr>\n",
       "  </thead>\n",
       "  <tbody>\n",
       "    <tr>\n",
       "      <td>0</td>\n",
       "      <td>1074428032</td>\n",
       "      <td>2019-05-28 00:45:44</td>\n",
       "      <td>C</td>\n",
       "      <td>3</td>\n",
       "      <td>442.0</td>\n",
       "      <td>ALS</td>\n",
       "      <td>ALS</td>\n",
       "      <td>ALS</td>\n",
       "      <td>ALS</td>\n",
       "      <td>ALS EMERGENCY</td>\n",
       "      <td>...</td>\n",
       "      <td>Patient's Choice</td>\n",
       "      <td>935111</td>\n",
       "      <td>30 - 39</td>\n",
       "      <td>Weakness (R53.1)</td>\n",
       "      <td>\"Not Applicable\"</td>\n",
       "      <td>Treated &amp; Transported</td>\n",
       "      <td>1164292.0</td>\n",
       "      <td>CV - ECG - 12 Lead Obtained</td>\n",
       "      <td>NaN</td>\n",
       "      <td>False</td>\n",
       "    </tr>\n",
       "  </tbody>\n",
       "</table>\n",
       "<p>1 rows × 36 columns</p>\n",
       "</div>"
      ],
      "text/plain": [
       "   PrimaryKey      CallConfirmedDT ShiftDay  TourOfShift  IncidentFirstDue  \\\n",
       "0  1074428032  2019-05-28 00:45:44        C            3             442.0   \n",
       "\n",
       "  InitialIncidentType DispatchedIncidentType ArrivedIncidentType  \\\n",
       "0                 ALS                    ALS                 ALS   \n",
       "\n",
       "  FinalIncidentType FinalIncidentTypeDescription  ...  \\\n",
       "0               ALS               ALS EMERGENCY   ...   \n",
       "\n",
       "   ReasonForChoosingHospital PatientID PatientAge PrimaryImpression  \\\n",
       "0           Patient's Choice    935111    30 - 39  Weakness (R53.1)   \n",
       "\n",
       "  SecondaryImpression      PatientDisposition ProcedurePrimaryKey  \\\n",
       "0    \"Not Applicable\"  Treated & Transported            1164292.0   \n",
       "\n",
       "            ProcedurePerformed  MedicationGiven isALS_LOC  \n",
       "0  CV - ECG - 12 Lead Obtained              NaN     False  \n",
       "\n",
       "[1 rows x 36 columns]"
      ]
     },
     "execution_count": 38,
     "metadata": {},
     "output_type": "execute_result"
    }
   ],
   "source": [
    "df_master.head(1)\n"
   ]
  },
  {
   "cell_type": "code",
   "execution_count": 39,
   "metadata": {},
   "outputs": [
    {
     "data": {
      "text/plain": [
       "Text(0.5, 0, 'Types of Incidents')"
      ]
     },
     "execution_count": 39,
     "metadata": {},
     "output_type": "execute_result"
    },
    {
     "data": {
      "image/png": "[encoded data removed]",
      "text/plain": [
       "<Figure size 720x360 with 1 Axes>"
      ]
     },
     "metadata": {
      "needs_background": "light"
     },
     "output_type": "display_data"
    }
   ],
   "source": [
    "df_master[\"FinalIncidentType\"].value_counts().plot(kind=\"bar\",figsize=(10, 5), edgecolor=\"black\", zorder=40, width=2,color=\"orange\")\n",
    "plt.title(\"Final incident type\", color=\"Blue\")\n",
    "plt.ylabel(\"Count\", color=\"Red\")\n",
    "plt.xlabel(\"Types of Incidents\", color=\"Red\")\n"
   ]
  },
  {
   "cell_type": "code",
   "execution_count": 40,
   "metadata": {},
   "outputs": [
    {
     "data": {
      "text/plain": [
       "Text(0.5, 0, 'unit types')"
      ]
     },
     "execution_count": 40,
     "metadata": {},
     "output_type": "execute_result"
    },
    {
     "data": {
      "image/png": "[encoded data removed]",
      "text/plain": [
       "<Figure size 720x360 with 1 Axes>"
      ]
     },
     "metadata": {
      "needs_background": "light"
     },
     "output_type": "display_data"
    }
   ],
   "source": [
    "df_master[\"UnitType\"].value_counts().plot(kind=\"bar\",figsize=(10, 5), edgecolor=\"black\", zorder=40, width=2,color=\"Green\")\n",
    "plt.title(\"Total number of unit types\", color=\"Blue\")\n",
    "plt.ylabel(\"Count\", color=\"blue\")\n",
    "plt.xlabel(\"unit types\", color=\"blue\")\n"
   ]
  },
  {
   "cell_type": "code",
   "execution_count": 41,
   "metadata": {},
   "outputs": [
    {
     "name": "stdout",
     "output_type": "stream",
     "text": [
      "Index(['PrimaryKey', 'CallConfirmedDT', 'ShiftDay', 'TourOfShift',\n",
      "       'IncidentFirstDue', 'InitialIncidentType', 'DispatchedIncidentType',\n",
      "       'ArrivedIncidentType', 'FinalIncidentType',\n",
      "       'FinalIncidentTypeDescription', 'MutualAidReceived', 'ResponseUnitID',\n",
      "       'TransportUnitID', 'TransportUnitLOC', 'UnitPrimaryActionTaken',\n",
      "       'UnitOtherActionsTaken', 'UnitStation', 'UnitType', 'UnitArrivalOrder',\n",
      "       'UnitTransportedDT', 'UnitTransportedArrivalDT', 'PersonnelID',\n",
      "       'PersonnelRole', 'TransportLOC', 'TransportHospitalCode',\n",
      "       'TransportHospitalName', 'ReasonForChoosingHospital', 'PatientID',\n",
      "       'PatientAge', 'PrimaryImpression', 'SecondaryImpression',\n",
      "       'PatientDisposition', 'ProcedurePrimaryKey', 'ProcedurePerformed',\n",
      "       'MedicationGiven', 'isALS_LOC'],\n",
      "      dtype='object')\n"
     ]
    }
   ],
   "source": [
    "print(df_master.columns)"
   ]
  },
  {
   "cell_type": "code",
   "execution_count": 42,
   "metadata": {},
   "outputs": [],
   "source": [
    "colnames=['PrimaryKey', 'CallConfirmedDT', 'ShiftDay', 'TourOfShift',\n",
    "       'IncidentFirstDue', 'InitialIncidentType', 'DispatchedIncidentType',\n",
    "       'ArrivedIncidentType', 'FinalIncidentType',\n",
    "       'FinalIncidentTypeDescription', 'MutualAidReceived', 'ResponseUnitID',\n",
    "       'TransportUnitID', 'TransportUnitLOC', 'UnitPrimaryActionTaken',\n",
    "       'UnitOtherActionsTaken', 'UnitStation', 'UnitType', 'UnitArrivalOrder',\n",
    "       'UnitTransportedDT', 'UnitTransportedArrivalDT', 'PersonnelID',\n",
    "       'PersonnelRole', 'TransportLOC', 'TransportHospitalCode',\n",
    "       'TransportHospitalName', 'ReasonForChoosingHospital', 'PatientID',\n",
    "       'PatientAge', 'PrimaryImpression', 'SecondaryImpression',\n",
    "       'PatientDisposition', 'ProcedurePrimaryKey', 'ProcedurePerformed',\n",
    "       'MedicationGiven', 'isALS_LOC']"
   ]
  },
  {
   "cell_type": "code",
   "execution_count": 45,
   "metadata": {},
   "outputs": [
    {
     "data": {
      "image/png": "[encoded data removed]",
      "text/plain": [
       "<Figure size 720x720 with 2 Axes>"
      ]
     },
     "metadata": {
      "needs_background": "light"
     },
     "output_type": "display_data"
    }
   ],
   "source": [
    "correlations = df_master.corr()\n",
    "fig, ax = plt.subplots(figsize=(10, 10))\n",
    "colormap = sns.diverging_palette(300, 200, as_cmap=True)\n",
    "sns.heatmap(correlations, cmap=colormap, annot=True, fmt=\".2f\")\n",
    "ax.set_xticklabels(\n",
    "    colnames,\n",
    "    rotation=45,\n",
    "    horizontalalignment='right'\n",
    ");\n",
    "ax.set_yticklabels(colnames);\n",
    "plt.show()"
   ]
  }
 ],
 "metadata": {
  "kernelspec": {
   "display_name": "Python 3",
   "language": "python",
   "name": "python3"
  },
  "language_info": {
   "codemirror_mode": {
    "name": "ipython",
    "version": 3
   },
   "file_extension": ".py",
   "mimetype": "text/x-python",
   "name": "python",
   "nbconvert_exporter": "python",
   "pygments_lexer": "ipython3",
   "version": "3.7.6"
  }
 },
 "nbformat": 4,
 "nbformat_minor": 4
}
