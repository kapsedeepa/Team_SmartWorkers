{
 "cells": [
  {
   "cell_type": "code",
   "execution_count": 1,
   "metadata": {
    "id": "5e463220"
   },
   "outputs": [],
   "source": [
    "# reading data\n",
    "import pandas as pd\n",
    "# Save file\n",
    "from pandas import ExcelWriter\n",
    "from sklearn.model_selection import train_test_split\n",
    "from sklearn.linear_model import LogisticRegression"
   ]
  },
  {
   "cell_type": "code",
   "execution_count": 2,
   "metadata": {},
   "outputs": [],
   "source": [
    "from sklearn.metrics import classification_report\n",
    "from sklearn.ensemble import RandomForestClassifier\n",
    "from sklearn.preprocessing import MinMaxScaler"
   ]
  },
  {
   "cell_type": "code",
   "execution_count": 3,
   "metadata": {},
   "outputs": [],
   "source": [
    "# Importing tree, Pipeline, GridSearchCV from sklearn\n",
    "from sklearn import tree\n",
    "from sklearn.pipeline import Pipeline\n",
    "from sklearn.model_selection import GridSearchCV"
   ]
  },
  {
   "cell_type": "code",
   "execution_count": 4,
   "metadata": {},
   "outputs": [],
   "source": [
    "from sklearn.metrics import make_scorer,f1_score, confusion_matrix, accuracy_score\n",
    "import matplotlib.pyplot as plt"
   ]
  },
  {
   "cell_type": "code",
   "execution_count": 5,
   "metadata": {},
   "outputs": [],
   "source": [
    "from sklearn.inspection import permutation_importance"
   ]
  },
  {
   "cell_type": "code",
   "execution_count": 6,
   "metadata": {},
   "outputs": [],
   "source": [
    "import re"
   ]
  },
  {
   "cell_type": "code",
   "execution_count": 7,
   "metadata": {},
   "outputs": [],
   "source": [
    "%matplotlib inline"
   ]
  },
  {
   "cell_type": "code",
   "execution_count": 8,
   "metadata": {},
   "outputs": [
    {
     "name": "stdout",
     "output_type": "stream",
     "text": [
      "(32, 7)\n"
     ]
    },
    {
     "data": {
      "text/html": [
       "<div>\n",
       "<style scoped>\n",
       "    .dataframe tbody tr th:only-of-type {\n",
       "        vertical-align: middle;\n",
       "    }\n",
       "\n",
       "    .dataframe tbody tr th {\n",
       "        vertical-align: top;\n",
       "    }\n",
       "\n",
       "    .dataframe thead th {\n",
       "        text-align: right;\n",
       "    }\n",
       "</style>\n",
       "<table border=\"1\" class=\"dataframe\">\n",
       "  <thead>\n",
       "    <tr style=\"text-align: right;\">\n",
       "      <th></th>\n",
       "      <th>Facility_Name</th>\n",
       "      <th>Facility_Location_Code</th>\n",
       "      <th>Facility_Type_Of_Facility</th>\n",
       "      <th>Facility_Hospital_Designation_List</th>\n",
       "      <th>Facility_Latitude</th>\n",
       "      <th>Facility_Longitude</th>\n",
       "      <th>Facility_Full_Address</th>\n",
       "    </tr>\n",
       "  </thead>\n",
       "  <tbody>\n",
       "    <tr>\n",
       "      <th>0</th>\n",
       "      <td>Novant Health UVA Haymarket Medical Center</td>\n",
       "      <td>216</td>\n",
       "      <td>Free Standing Emergency Room</td>\n",
       "      <td>Hospital (General)</td>\n",
       "      <td>38.423916</td>\n",
       "      <td>77.401647</td>\n",
       "      <td>15225 Heathcote Blvd, Haymarket, Virginia, 201...</td>\n",
       "    </tr>\n",
       "    <tr>\n",
       "      <th>1</th>\n",
       "      <td>Kaiser Permanente - Tysons Corner - Advanced U...</td>\n",
       "      <td>700</td>\n",
       "      <td>Free Standing Emergency Room</td>\n",
       "      <td>NaN</td>\n",
       "      <td>38.929137</td>\n",
       "      <td>77.224601</td>\n",
       "      <td>8008 Westpark Drive, McLean, Virginia, 22102, ...</td>\n",
       "    </tr>\n",
       "  </tbody>\n",
       "</table>\n",
       "</div>"
      ],
      "text/plain": [
       "                                       Facility_Name  Facility_Location_Code  \\\n",
       "0         Novant Health UVA Haymarket Medical Center                     216   \n",
       "1  Kaiser Permanente - Tysons Corner - Advanced U...                     700   \n",
       "\n",
       "      Facility_Type_Of_Facility Facility_Hospital_Designation_List  \\\n",
       "0  Free Standing Emergency Room                 Hospital (General)   \n",
       "1  Free Standing Emergency Room                                NaN   \n",
       "\n",
       "   Facility_Latitude  Facility_Longitude  \\\n",
       "0          38.423916           77.401647   \n",
       "1          38.929137           77.224601   \n",
       "\n",
       "                               Facility_Full_Address  \n",
       "0  15225 Heathcote Blvd, Haymarket, Virginia, 201...  \n",
       "1  8008 Westpark Drive, McLean, Virginia, 22102, ...  "
      ]
     },
     "execution_count": 8,
     "metadata": {},
     "output_type": "execute_result"
    }
   ],
   "source": [
    "df_facility = pd.read_csv(\"dataset/Facilities.txt\", error_bad_lines=False, delimiter= '|')\n",
    "print(df_facility.shape)\n",
    "df_facility.head(2)"
   ]
  },
  {
   "cell_type": "code",
   "execution_count": 9,
   "metadata": {},
   "outputs": [
    {
     "data": {
      "text/plain": [
       "Facility_Name                         0\n",
       "Facility_Location_Code                0\n",
       "Facility_Full_Address                 0\n",
       "Facility_Type_Of_Facility             2\n",
       "Facility_Latitude                     3\n",
       "Facility_Longitude                    3\n",
       "Facility_Hospital_Designation_List    7\n",
       "dtype: int64"
      ]
     },
     "execution_count": 9,
     "metadata": {},
     "output_type": "execute_result"
    }
   ],
   "source": [
    "df_facility.isnull().sum().sort_values()"
   ]
  },
  {
   "cell_type": "code",
   "execution_count": 10,
   "metadata": {},
   "outputs": [],
   "source": [
    "df_facility.Facility_Latitude.fillna(0, inplace=True)"
   ]
  },
  {
   "cell_type": "code",
   "execution_count": 11,
   "metadata": {},
   "outputs": [],
   "source": [
    "df_facility.Facility_Longitude.fillna(0, inplace=True)"
   ]
  },
  {
   "cell_type": "code",
   "execution_count": 12,
   "metadata": {},
   "outputs": [
    {
     "data": {
      "text/plain": [
       "array(['Novant Health UVA Haymarket Medical Center',\n",
       "       'Kaiser Permanente - Tysons Corner - Advanced Urgent Care',\n",
       "       'Landing Zone / Non-Hospital', 'MWHC Stafford Hospital',\n",
       "       'Kaiser Permanente - Woodbridge - Advanced Urgent Care',\n",
       "       'Merrifield Mental Health',\n",
       "       'Walter Reed National Military Medical Center',\n",
       "       'Suburban Hospital', 'Landing Zone', 'Inova Mount Vernon Hospital',\n",
       "       'MedStar Southern Maryland Hospital Center',\n",
       "       'Inova HealthPlex - Ashburn', \"Children's National Medical Center\",\n",
       "       'Sibley Memorial Hospital',\n",
       "       'Inova Emergency Care Center - Reston/Herndon',\n",
       "       'George Washington University Hospital',\n",
       "       'Novant Health UVA Prince William Medical Center',\n",
       "       'Inova Alexandria Hospital',\n",
       "       'Inova HealthPlex - Franconia/Springfield',\n",
       "       'Inova Fairfax Hospital', 'HCA StoneSprings Hospital Center',\n",
       "       'Inova Healthplex - Lorton',\n",
       "       ' Sentara Northern Virginia Medical Center',\n",
       "       'Fort Belvoir Community Hospital', 'Virginia Hospital Center',\n",
       "       'MedStar Washington Hospital Center',\n",
       "       'MedStar Georgetown University Hospital', 'Inova Loudoun Hospital',\n",
       "       'Out Of Area Hospital Not Listed', 'HCA Reston Hospital Center',\n",
       "       'Inova Emergency Care Center - Fairfax',\n",
       "       ' Inova Fair Oaks Hospital'], dtype=object)"
      ]
     },
     "execution_count": 12,
     "metadata": {},
     "output_type": "execute_result"
    }
   ],
   "source": [
    "df_facility.Facility_Name.unique()"
   ]
  },
  {
   "cell_type": "markdown",
   "metadata": {},
   "source": [
    "#### Referred hospital description for filling missing values"
   ]
  },
  {
   "cell_type": "markdown",
   "metadata": {},
   "source": [
    "\n",
    "|  Facility_Name  | Facility_Hospital_Designation_List | Check with partners |\n",
    "| --- | --- | --- |\n",
    "| Landing Zone / Non-Hospital\t | non hospital | Confirmed |\n",
    "|Kaiser Permanente - Tysons Corner - Advanced U...|Hospital General | Confirmed |\n",
    "|MedStar Southern Maryland Hospital Center | Hospital(General), Burns, Stroke, trauma | Confirmed|\n",
    "|HCA StoneSprings Hospital Center|Hospital General | Confirmed|\n",
    "|Out Of Area Hospital Not Listed\t | Hospital General  |Confirmed|"
   ]
  },
  {
   "cell_type": "markdown",
   "metadata": {},
   "source": [
    "#### Feature - Facility_Hospital_Designation_List"
   ]
  },
  {
   "cell_type": "code",
   "execution_count": 13,
   "metadata": {},
   "outputs": [],
   "source": [
    "\n",
    "\n",
    "df_facility.loc[ df_facility['Facility_Name'].isin(['Kaiser Permanente - Tysons Corner - Advanced Urgent Care','Kaiser Permanente - Woodbridge - Advanced Urgent Care','HCA StoneSprings Hospital Center', 'Out Of Area Hospital Not Listed']), 'Facility_Hospital_Designation_List'] = 'Hospital(General)'"
   ]
  },
  {
   "cell_type": "code",
   "execution_count": 14,
   "metadata": {},
   "outputs": [],
   "source": [
    "\n",
    "df_facility.loc[ df_facility['Facility_Name'].isin(['Landing Zone / Non-Hospital','Landing Zone']), 'Facility_Hospital_Designation_List'] = 'Non Hospital'"
   ]
  },
  {
   "cell_type": "code",
   "execution_count": 15,
   "metadata": {},
   "outputs": [],
   "source": [
    "\n",
    "df_facility.loc[ df_facility['Facility_Name'].isin(['MedStar Southern Maryland Hospital Center']), 'Facility_Hospital_Designation_List'] = 'Hospital(General), Burns, Stroke, trauma'"
   ]
  },
  {
   "cell_type": "markdown",
   "metadata": {},
   "source": [
    "#### Feature - Facility_Type_Of_Facility"
   ]
  },
  {
   "cell_type": "code",
   "execution_count": 16,
   "metadata": {},
   "outputs": [],
   "source": [
    "df_facility.Facility_Type_Of_Facility.fillna('Non hospital service', inplace=True)"
   ]
  },
  {
   "cell_type": "code",
   "execution_count": 17,
   "metadata": {},
   "outputs": [
    {
     "data": {
      "text/plain": [
       "Facility_Name                         0\n",
       "Facility_Location_Code                0\n",
       "Facility_Type_Of_Facility             0\n",
       "Facility_Hospital_Designation_List    0\n",
       "Facility_Latitude                     0\n",
       "Facility_Longitude                    0\n",
       "Facility_Full_Address                 0\n",
       "dtype: int64"
      ]
     },
     "execution_count": 17,
     "metadata": {},
     "output_type": "execute_result"
    }
   ],
   "source": [
    "df_facility.isnull().sum().sort_values()"
   ]
  },
  {
   "cell_type": "code",
   "execution_count": 18,
   "metadata": {},
   "outputs": [
    {
     "data": {
      "text/plain": [
       "array(['Novant Health UVA Haymarket Medical Center',\n",
       "       'Kaiser Permanente - Tysons Corner - Advanced Urgent Care',\n",
       "       'Landing Zone / Non-Hospital', 'MWHC Stafford Hospital',\n",
       "       'Kaiser Permanente - Woodbridge - Advanced Urgent Care',\n",
       "       'Merrifield Mental Health',\n",
       "       'Walter Reed National Military Medical Center',\n",
       "       'Suburban Hospital', 'Landing Zone', 'Inova Mount Vernon Hospital',\n",
       "       'MedStar Southern Maryland Hospital Center',\n",
       "       'Inova HealthPlex - Ashburn', \"Children's National Medical Center\",\n",
       "       'Sibley Memorial Hospital',\n",
       "       'Inova Emergency Care Center - Reston/Herndon',\n",
       "       'George Washington University Hospital',\n",
       "       'Novant Health UVA Prince William Medical Center',\n",
       "       'Inova Alexandria Hospital',\n",
       "       'Inova HealthPlex - Franconia/Springfield',\n",
       "       'Inova Fairfax Hospital', 'HCA StoneSprings Hospital Center',\n",
       "       'Inova Healthplex - Lorton',\n",
       "       ' Sentara Northern Virginia Medical Center',\n",
       "       'Fort Belvoir Community Hospital', 'Virginia Hospital Center',\n",
       "       'MedStar Washington Hospital Center',\n",
       "       'MedStar Georgetown University Hospital', 'Inova Loudoun Hospital',\n",
       "       'Out Of Area Hospital Not Listed', 'HCA Reston Hospital Center',\n",
       "       'Inova Emergency Care Center - Fairfax',\n",
       "       ' Inova Fair Oaks Hospital'], dtype=object)"
      ]
     },
     "execution_count": 18,
     "metadata": {},
     "output_type": "execute_result"
    }
   ],
   "source": [
    "df_facility['Facility_Name'].unique()"
   ]
  },
  {
   "cell_type": "code",
   "execution_count": 19,
   "metadata": {},
   "outputs": [
    {
     "data": {
      "text/plain": [
       "array([216, 700, 107, 116, 701, 106, 386, 385, 999,  47, 363, 364, 327,\n",
       "       326, 204, 324,  59,   1, 205,  16, 215, 213,  58, 374,   3, 325,\n",
       "       328,  36, 102,  95, 202,  11], dtype=int64)"
      ]
     },
     "execution_count": 19,
     "metadata": {},
     "output_type": "execute_result"
    }
   ],
   "source": [
    "df_facility['Facility_Location_Code'].unique()"
   ]
  },
  {
   "cell_type": "markdown",
   "metadata": {
    "id": "5db08963"
   },
   "source": [
    "## Read the data"
   ]
  },
  {
   "cell_type": "code",
   "execution_count": 31,
   "metadata": {
    "id": "4584adcc",
    "outputId": "69818126-b708-444c-d816-4df3a4d2f284"
   },
   "outputs": [
    {
     "data": {
      "text/plain": [
       "(122532, 10)"
      ]
     },
     "execution_count": 31,
     "metadata": {},
     "output_type": "execute_result"
    }
   ],
   "source": [
    "# Attributes of incident\n",
    "incidents = pd.read_excel(\"dataset/IndividualTables.xlsx\", sheet_name=\"incidents\")\n",
    "incidents.shape"
   ]
  },
  {
   "cell_type": "code",
   "execution_count": 32,
   "metadata": {
    "id": "70f1a688",
    "outputId": "e8decb7a-f2b7-494e-ca83-69feb40e83cf"
   },
   "outputs": [
    {
     "data": {
      "text/plain": [
       "(284754, 12)"
      ]
     },
     "execution_count": 32,
     "metadata": {},
     "output_type": "execute_result"
    }
   ],
   "source": [
    "# Units that responded to an incident\n",
    "units = pd.read_excel(\"dataset/IndividualTables.xlsx\", sheet_name=\"units\")\n",
    "units.shape"
   ]
  },
  {
   "cell_type": "code",
   "execution_count": 33,
   "metadata": {
    "id": "b555ea13",
    "outputId": "59a11a2b-31ae-4f67-bda8-95942ca3df0e"
   },
   "outputs": [
    {
     "data": {
      "text/plain": [
       "(125032, 12)"
      ]
     },
     "execution_count": 33,
     "metadata": {},
     "output_type": "execute_result"
    }
   ],
   "source": [
    "# Patient affected in the incident \n",
    "patients = pd.read_excel(\"dataset/IndividualTables.xlsx\", sheet_name=\"patients\")\n",
    "patients.shape"
   ]
  },
  {
   "cell_type": "code",
   "execution_count": 34,
   "metadata": {
    "id": "9e6c2f53",
    "outputId": "f547d285-0996-4e97-8a58-4035dc319321"
   },
   "outputs": [
    {
     "data": {
      "text/plain": [
       "(128586, 4)"
      ]
     },
     "execution_count": 34,
     "metadata": {},
     "output_type": "execute_result"
    }
   ],
   "source": [
    "# \n",
    "procedures = pd.read_excel(\"dataset/IndividualTables.xlsx\", sheet_name=\"procedures\")\n",
    "procedures.shape"
   ]
  },
  {
   "cell_type": "code",
   "execution_count": 35,
   "metadata": {
    "id": "3cf1d9b0",
    "outputId": "69f8d904-98e2-4b85-d1bd-aa5bd57991f5"
   },
   "outputs": [
    {
     "data": {
      "text/plain": [
       "(48222, 4)"
      ]
     },
     "execution_count": 35,
     "metadata": {},
     "output_type": "execute_result"
    }
   ],
   "source": [
    "medications = pd.read_excel(\"dataset/IndividualTables.xlsx\", sheet_name=\"medications\")\n",
    "medications.shape"
   ]
  },
  {
   "cell_type": "markdown",
   "metadata": {
    "id": "e7472f69"
   },
   "source": [
    "## Understand empty values"
   ]
  },
  {
   "cell_type": "code",
   "execution_count": 24,
   "metadata": {
    "id": "f2044d90"
   },
   "outputs": [],
   "source": [
    "def view_empty_values(df: pd.DataFrame) -> pd.DataFrame:\n",
    "    \"\"\"\n",
    "    Displays the count and % of empty values in a dataframe.\n",
    "    \"\"\"\n",
    "    res = pd.concat([df.dtypes, df.isnull().sum(), df.isnull().sum() / len(df)], axis=1)\n",
    "    res.columns = [\"Dtype\", \"Count of missing\", \"% of missing\"]\n",
    "    return res"
   ]
  },
  {
   "cell_type": "code",
   "execution_count": 37,
   "metadata": {
    "id": "c57cbee3",
    "outputId": "a75ecd57-bc44-4a30-d04f-37d955297566"
   },
   "outputs": [
    {
     "data": {
      "text/html": [
       "<div>\n",
       "<style scoped>\n",
       "    .dataframe tbody tr th:only-of-type {\n",
       "        vertical-align: middle;\n",
       "    }\n",
       "\n",
       "    .dataframe tbody tr th {\n",
       "        vertical-align: top;\n",
       "    }\n",
       "\n",
       "    .dataframe thead th {\n",
       "        text-align: right;\n",
       "    }\n",
       "</style>\n",
       "<table border=\"1\" class=\"dataframe\">\n",
       "  <thead>\n",
       "    <tr style=\"text-align: right;\">\n",
       "      <th></th>\n",
       "      <th>Dtype</th>\n",
       "      <th>Count of missing</th>\n",
       "      <th>% of missing</th>\n",
       "    </tr>\n",
       "  </thead>\n",
       "  <tbody>\n",
       "    <tr>\n",
       "      <th>PrimaryKey</th>\n",
       "      <td>int64</td>\n",
       "      <td>0</td>\n",
       "      <td>0.000000</td>\n",
       "    </tr>\n",
       "    <tr>\n",
       "      <th>CallConfirmedDT</th>\n",
       "      <td>datetime64[ns]</td>\n",
       "      <td>0</td>\n",
       "      <td>0.000000</td>\n",
       "    </tr>\n",
       "    <tr>\n",
       "      <th>ShiftDay</th>\n",
       "      <td>object</td>\n",
       "      <td>0</td>\n",
       "      <td>0.000000</td>\n",
       "    </tr>\n",
       "    <tr>\n",
       "      <th>TourOfShift</th>\n",
       "      <td>int64</td>\n",
       "      <td>0</td>\n",
       "      <td>0.000000</td>\n",
       "    </tr>\n",
       "    <tr>\n",
       "      <th>IncidentFirstDue</th>\n",
       "      <td>float64</td>\n",
       "      <td>14</td>\n",
       "      <td>0.000114</td>\n",
       "    </tr>\n",
       "    <tr>\n",
       "      <th>InitialIncidentType</th>\n",
       "      <td>object</td>\n",
       "      <td>0</td>\n",
       "      <td>0.000000</td>\n",
       "    </tr>\n",
       "    <tr>\n",
       "      <th>DispatchedIncidentType</th>\n",
       "      <td>object</td>\n",
       "      <td>0</td>\n",
       "      <td>0.000000</td>\n",
       "    </tr>\n",
       "    <tr>\n",
       "      <th>ArrivedIncidentType</th>\n",
       "      <td>object</td>\n",
       "      <td>389</td>\n",
       "      <td>0.003175</td>\n",
       "    </tr>\n",
       "    <tr>\n",
       "      <th>FinalIncidentType</th>\n",
       "      <td>object</td>\n",
       "      <td>0</td>\n",
       "      <td>0.000000</td>\n",
       "    </tr>\n",
       "    <tr>\n",
       "      <th>FinalIncidentTypeDescription</th>\n",
       "      <td>object</td>\n",
       "      <td>42</td>\n",
       "      <td>0.000343</td>\n",
       "    </tr>\n",
       "  </tbody>\n",
       "</table>\n",
       "</div>"
      ],
      "text/plain": [
       "                                       Dtype  Count of missing  % of missing\n",
       "PrimaryKey                             int64                 0      0.000000\n",
       "CallConfirmedDT               datetime64[ns]                 0      0.000000\n",
       "ShiftDay                              object                 0      0.000000\n",
       "TourOfShift                            int64                 0      0.000000\n",
       "IncidentFirstDue                     float64                14      0.000114\n",
       "InitialIncidentType                   object                 0      0.000000\n",
       "DispatchedIncidentType                object                 0      0.000000\n",
       "ArrivedIncidentType                   object               389      0.003175\n",
       "FinalIncidentType                     object                 0      0.000000\n",
       "FinalIncidentTypeDescription          object                42      0.000343"
      ]
     },
     "execution_count": 37,
     "metadata": {},
     "output_type": "execute_result"
    }
   ],
   "source": [
    "view_empty_values(incidents)"
   ]
  },
  {
   "cell_type": "code",
   "execution_count": 38,
   "metadata": {
    "id": "4ba35fb7",
    "outputId": "080b5abe-c135-438c-c0aa-6ae0b1526b88"
   },
   "outputs": [
    {
     "data": {
      "text/plain": [
       "(122088, 10)"
      ]
     },
     "execution_count": 38,
     "metadata": {},
     "output_type": "execute_result"
    }
   ],
   "source": [
    "# there are very few missing values in the data so we can drop these records\n",
    "incidents.dropna(inplace=True)\n",
    "incidents.shape"
   ]
  },
  {
   "cell_type": "code",
   "execution_count": 39,
   "metadata": {
    "id": "d95cb533",
    "outputId": "e31f5ef4-20dc-419f-8df6-96c6257efb46"
   },
   "outputs": [
    {
     "data": {
      "text/plain": [
       "0.9999672367472643"
      ]
     },
     "execution_count": 39,
     "metadata": {},
     "output_type": "execute_result"
    }
   ],
   "source": [
    "# are there duplicated Incidents\n",
    "incidents.PrimaryKey.nunique() / len(incidents)"
   ]
  },
  {
   "cell_type": "code",
   "execution_count": 40,
   "metadata": {
    "id": "85a51596",
    "outputId": "f04d91c3-8bad-4e54-c025-4c34b874b9a3"
   },
   "outputs": [
    {
     "data": {
      "text/html": [
       "<div>\n",
       "<style scoped>\n",
       "    .dataframe tbody tr th:only-of-type {\n",
       "        vertical-align: middle;\n",
       "    }\n",
       "\n",
       "    .dataframe tbody tr th {\n",
       "        vertical-align: top;\n",
       "    }\n",
       "\n",
       "    .dataframe thead th {\n",
       "        text-align: right;\n",
       "    }\n",
       "</style>\n",
       "<table border=\"1\" class=\"dataframe\">\n",
       "  <thead>\n",
       "    <tr style=\"text-align: right;\">\n",
       "      <th></th>\n",
       "      <th>PrimaryKey</th>\n",
       "      <th>CallConfirmedDT</th>\n",
       "      <th>ShiftDay</th>\n",
       "      <th>TourOfShift</th>\n",
       "      <th>IncidentFirstDue</th>\n",
       "      <th>InitialIncidentType</th>\n",
       "      <th>DispatchedIncidentType</th>\n",
       "      <th>ArrivedIncidentType</th>\n",
       "      <th>FinalIncidentType</th>\n",
       "      <th>FinalIncidentTypeDescription</th>\n",
       "    </tr>\n",
       "  </thead>\n",
       "  <tbody>\n",
       "    <tr>\n",
       "      <th>5681</th>\n",
       "      <td>9934140833</td>\n",
       "      <td>2018-08-10 22:51:12</td>\n",
       "      <td>C</td>\n",
       "      <td>2</td>\n",
       "      <td>414.0</td>\n",
       "      <td>ACCIF</td>\n",
       "      <td>ACCIF</td>\n",
       "      <td>ACCIF</td>\n",
       "      <td>ACCIF</td>\n",
       "      <td>ACCIDENT W/INJ</td>\n",
       "    </tr>\n",
       "    <tr>\n",
       "      <th>5682</th>\n",
       "      <td>9934140833</td>\n",
       "      <td>2018-08-10 23:47:37</td>\n",
       "      <td>C</td>\n",
       "      <td>2</td>\n",
       "      <td>414.0</td>\n",
       "      <td>ALS</td>\n",
       "      <td>ALS</td>\n",
       "      <td>ALS</td>\n",
       "      <td>ALS</td>\n",
       "      <td>ALS EMERGENCY</td>\n",
       "    </tr>\n",
       "    <tr>\n",
       "      <th>64331</th>\n",
       "      <td>11194080439</td>\n",
       "      <td>2019-10-06 19:23:18</td>\n",
       "      <td>B</td>\n",
       "      <td>3</td>\n",
       "      <td>408.0</td>\n",
       "      <td>ACCIF</td>\n",
       "      <td>ACCIF</td>\n",
       "      <td>ACCIF</td>\n",
       "      <td>ACCIF</td>\n",
       "      <td>ACCIDENT W/INJ</td>\n",
       "    </tr>\n",
       "    <tr>\n",
       "      <th>64332</th>\n",
       "      <td>11194080439</td>\n",
       "      <td>2019-10-06 18:40:09</td>\n",
       "      <td>B</td>\n",
       "      <td>3</td>\n",
       "      <td>408.0</td>\n",
       "      <td>ACCIMF</td>\n",
       "      <td>ACCIMF</td>\n",
       "      <td>ACCIMF</td>\n",
       "      <td>ACCIMF</td>\n",
       "      <td>ACCIDENT W/INJ - MEDIC REQ</td>\n",
       "    </tr>\n",
       "    <tr>\n",
       "      <th>67023</th>\n",
       "      <td>11244338761</td>\n",
       "      <td>2019-10-26 02:47:26</td>\n",
       "      <td>C</td>\n",
       "      <td>2</td>\n",
       "      <td>433.0</td>\n",
       "      <td>ASLTWF</td>\n",
       "      <td>ASLTWF</td>\n",
       "      <td>ASLTWF</td>\n",
       "      <td>ASLTWF</td>\n",
       "      <td>ASSAULT W/WEAPON</td>\n",
       "    </tr>\n",
       "    <tr>\n",
       "      <th>67024</th>\n",
       "      <td>11244338761</td>\n",
       "      <td>2019-10-26 04:05:08</td>\n",
       "      <td>C</td>\n",
       "      <td>2</td>\n",
       "      <td>433.0</td>\n",
       "      <td>MEDICAL</td>\n",
       "      <td>MEDICAL</td>\n",
       "      <td>MEDICAL</td>\n",
       "      <td>MEDICAL</td>\n",
       "      <td>MEDICAL EMERGENCY</td>\n",
       "    </tr>\n",
       "    <tr>\n",
       "      <th>102190</th>\n",
       "      <td>11964264456</td>\n",
       "      <td>2020-07-24 22:50:45</td>\n",
       "      <td>A</td>\n",
       "      <td>2</td>\n",
       "      <td>426.0</td>\n",
       "      <td>ACCIF</td>\n",
       "      <td>ACCIF</td>\n",
       "      <td>ACCIF</td>\n",
       "      <td>ACCIF</td>\n",
       "      <td>ACCIDENT W/INJ</td>\n",
       "    </tr>\n",
       "    <tr>\n",
       "      <th>102191</th>\n",
       "      <td>11964264456</td>\n",
       "      <td>2020-07-24 22:15:51</td>\n",
       "      <td>A</td>\n",
       "      <td>2</td>\n",
       "      <td>426.0</td>\n",
       "      <td>ACCITF</td>\n",
       "      <td>ACCITF</td>\n",
       "      <td>ACCITF</td>\n",
       "      <td>ACCIF</td>\n",
       "      <td>ACCIDENT W/INJ</td>\n",
       "    </tr>\n",
       "  </tbody>\n",
       "</table>\n",
       "</div>"
      ],
      "text/plain": [
       "         PrimaryKey     CallConfirmedDT ShiftDay  TourOfShift  \\\n",
       "5681     9934140833 2018-08-10 22:51:12        C            2   \n",
       "5682     9934140833 2018-08-10 23:47:37        C            2   \n",
       "64331   11194080439 2019-10-06 19:23:18        B            3   \n",
       "64332   11194080439 2019-10-06 18:40:09        B            3   \n",
       "67023   11244338761 2019-10-26 02:47:26        C            2   \n",
       "67024   11244338761 2019-10-26 04:05:08        C            2   \n",
       "102190  11964264456 2020-07-24 22:50:45        A            2   \n",
       "102191  11964264456 2020-07-24 22:15:51        A            2   \n",
       "\n",
       "        IncidentFirstDue InitialIncidentType DispatchedIncidentType  \\\n",
       "5681               414.0               ACCIF                  ACCIF   \n",
       "5682               414.0                 ALS                    ALS   \n",
       "64331              408.0               ACCIF                  ACCIF   \n",
       "64332              408.0              ACCIMF                 ACCIMF   \n",
       "67023              433.0              ASLTWF                 ASLTWF   \n",
       "67024              433.0             MEDICAL                MEDICAL   \n",
       "102190             426.0               ACCIF                  ACCIF   \n",
       "102191             426.0              ACCITF                 ACCITF   \n",
       "\n",
       "       ArrivedIncidentType FinalIncidentType FinalIncidentTypeDescription  \n",
       "5681                 ACCIF             ACCIF               ACCIDENT W/INJ  \n",
       "5682                   ALS               ALS               ALS EMERGENCY   \n",
       "64331                ACCIF             ACCIF               ACCIDENT W/INJ  \n",
       "64332               ACCIMF            ACCIMF   ACCIDENT W/INJ - MEDIC REQ  \n",
       "67023               ASLTWF            ASLTWF             ASSAULT W/WEAPON  \n",
       "67024              MEDICAL           MEDICAL            MEDICAL EMERGENCY  \n",
       "102190               ACCIF             ACCIF               ACCIDENT W/INJ  \n",
       "102191              ACCITF             ACCIF               ACCIDENT W/INJ  "
      ]
     },
     "execution_count": 40,
     "metadata": {},
     "output_type": "execute_result"
    }
   ],
   "source": [
    "incidents[incidents.PrimaryKey.duplicated(keep=False)].sort_values(\"PrimaryKey\")"
   ]
  },
  {
   "cell_type": "code",
   "execution_count": 41,
   "metadata": {
    "id": "064ce704",
    "outputId": "323105e0-cf2a-4386-f545-f59adcdfab6d"
   },
   "outputs": [
    {
     "data": {
      "text/plain": [
       "(122080, 10)"
      ]
     },
     "execution_count": 41,
     "metadata": {},
     "output_type": "execute_result"
    }
   ],
   "source": [
    "# Dropping these records for now\n",
    "incidents.drop_duplicates(subset=[\"PrimaryKey\"], keep=False, inplace=True)\n",
    "incidents.shape"
   ]
  },
  {
   "cell_type": "code",
   "execution_count": 42,
   "metadata": {
    "id": "0fcfb3e8",
    "outputId": "83833ae3-d964-4fbe-cf25-d58da0cb6b2c"
   },
   "outputs": [
    {
     "data": {
      "text/html": [
       "<div>\n",
       "<style scoped>\n",
       "    .dataframe tbody tr th:only-of-type {\n",
       "        vertical-align: middle;\n",
       "    }\n",
       "\n",
       "    .dataframe tbody tr th {\n",
       "        vertical-align: top;\n",
       "    }\n",
       "\n",
       "    .dataframe thead th {\n",
       "        text-align: right;\n",
       "    }\n",
       "</style>\n",
       "<table border=\"1\" class=\"dataframe\">\n",
       "  <thead>\n",
       "    <tr style=\"text-align: right;\">\n",
       "      <th></th>\n",
       "      <th>Dtype</th>\n",
       "      <th>Count of missing</th>\n",
       "      <th>% of missing</th>\n",
       "    </tr>\n",
       "  </thead>\n",
       "  <tbody>\n",
       "    <tr>\n",
       "      <th>PrimaryKey</th>\n",
       "      <td>int64</td>\n",
       "      <td>0</td>\n",
       "      <td>0.000000</td>\n",
       "    </tr>\n",
       "    <tr>\n",
       "      <th>CallConfirmedDT</th>\n",
       "      <td>datetime64[ns]</td>\n",
       "      <td>0</td>\n",
       "      <td>0.000000</td>\n",
       "    </tr>\n",
       "    <tr>\n",
       "      <th>ResponseUnitID</th>\n",
       "      <td>object</td>\n",
       "      <td>0</td>\n",
       "      <td>0.000000</td>\n",
       "    </tr>\n",
       "    <tr>\n",
       "      <th>TransportUnitID</th>\n",
       "      <td>object</td>\n",
       "      <td>0</td>\n",
       "      <td>0.000000</td>\n",
       "    </tr>\n",
       "    <tr>\n",
       "      <th>TransportUnitLOC</th>\n",
       "      <td>object</td>\n",
       "      <td>0</td>\n",
       "      <td>0.000000</td>\n",
       "    </tr>\n",
       "    <tr>\n",
       "      <th>UnitPrimaryActionTaken</th>\n",
       "      <td>object</td>\n",
       "      <td>37</td>\n",
       "      <td>0.000130</td>\n",
       "    </tr>\n",
       "    <tr>\n",
       "      <th>UnitOtherActionsTaken</th>\n",
       "      <td>object</td>\n",
       "      <td>179609</td>\n",
       "      <td>0.630751</td>\n",
       "    </tr>\n",
       "    <tr>\n",
       "      <th>UnitStation</th>\n",
       "      <td>object</td>\n",
       "      <td>49</td>\n",
       "      <td>0.000172</td>\n",
       "    </tr>\n",
       "    <tr>\n",
       "      <th>UnitType</th>\n",
       "      <td>object</td>\n",
       "      <td>0</td>\n",
       "      <td>0.000000</td>\n",
       "    </tr>\n",
       "    <tr>\n",
       "      <th>UnitArrivalOrder</th>\n",
       "      <td>float64</td>\n",
       "      <td>26135</td>\n",
       "      <td>0.091781</td>\n",
       "    </tr>\n",
       "    <tr>\n",
       "      <th>UnitTransportedDT</th>\n",
       "      <td>datetime64[ns]</td>\n",
       "      <td>157474</td>\n",
       "      <td>0.553018</td>\n",
       "    </tr>\n",
       "    <tr>\n",
       "      <th>UnitTransportedArrivalDT</th>\n",
       "      <td>datetime64[ns]</td>\n",
       "      <td>158333</td>\n",
       "      <td>0.556034</td>\n",
       "    </tr>\n",
       "  </tbody>\n",
       "</table>\n",
       "</div>"
      ],
      "text/plain": [
       "                                   Dtype  Count of missing  % of missing\n",
       "PrimaryKey                         int64                 0      0.000000\n",
       "CallConfirmedDT           datetime64[ns]                 0      0.000000\n",
       "ResponseUnitID                    object                 0      0.000000\n",
       "TransportUnitID                   object                 0      0.000000\n",
       "TransportUnitLOC                  object                 0      0.000000\n",
       "UnitPrimaryActionTaken            object                37      0.000130\n",
       "UnitOtherActionsTaken             object            179609      0.630751\n",
       "UnitStation                       object                49      0.000172\n",
       "UnitType                          object                 0      0.000000\n",
       "UnitArrivalOrder                 float64             26135      0.091781\n",
       "UnitTransportedDT         datetime64[ns]            157474      0.553018\n",
       "UnitTransportedArrivalDT  datetime64[ns]            158333      0.556034"
      ]
     },
     "execution_count": 42,
     "metadata": {},
     "output_type": "execute_result"
    }
   ],
   "source": [
    "view_empty_values(units)"
   ]
  },
  {
   "cell_type": "markdown",
   "metadata": {
    "id": "adc1aeb9"
   },
   "source": [
    "|Column|Missing Value|%missing|Assumed meaning of missing value|\n",
    "|----|----|----|----|\n",
    "|UnitOtherActionsTaken|179609|63%|Combine both 'UnitPrimaryActionTaken' and 'UnitOtherActionTaken' |\n",
    "|UnitStation|49|0.017%|We can drop these values|\n",
    "|UnitArrivalOrder|26135|9%|No unit arrived- replace with 0|\n",
    "|UnitTransportedDT|157474|55%|Unit was not transported?|\n",
    "|UnitTransportedArrivalDT|158333|55%|Unit was not transported?|\n",
    "\n",
    "\n",
    "\n",
    "|Column|Missing Value|%missing|Assumend meaning|\n",
    "|----|----|----|----|\n",
    "|||||\n",
    "|||||\n",
    "|||||\n",
    "|||||"
   ]
  },
  {
   "cell_type": "code",
   "execution_count": 43,
   "metadata": {},
   "outputs": [],
   "source": [
    " # Replaced all the null values of 'UnitArrivalOrder' column with value '0' because No unit arrived\n",
    "units['UnitArrivalOrder'].fillna(0, inplace = True)"
   ]
  },
  {
   "cell_type": "code",
   "execution_count": 44,
   "metadata": {},
   "outputs": [],
   "source": [
    "# Replaced all the null values of 'UnitTransportedDT' column with 00:00:0 because the Unit was not transported\n",
    "units['UnitTransportedDT'].fillna('00:00:0', inplace = True)"
   ]
  },
  {
   "cell_type": "code",
   "execution_count": 45,
   "metadata": {},
   "outputs": [],
   "source": [
    "# Replaced all the null values of 'UnitTransportedArrivalDT' column with 00:00:0 because the Unit was not transported\n",
    "units['UnitTransportedArrivalDT'].fillna('00:00:0', inplace = True)"
   ]
  },
  {
   "cell_type": "code",
   "execution_count": 46,
   "metadata": {},
   "outputs": [],
   "source": [
    "# Replaced all the null values of 'UnitOtherActionsTaken' column with 'No other action taken' because the no other action was taken\n",
    "units['UnitOtherActionsTaken'].fillna('No other action taken', inplace = True)"
   ]
  },
  {
   "cell_type": "code",
   "execution_count": 47,
   "metadata": {},
   "outputs": [],
   "source": [
    "# Replaced all the null values of 'UnitPrimaryActionTaken' column with 'No other action taken' because the no  action was taken\n",
    "units['UnitPrimaryActionTaken'].fillna('No action taken', inplace = True)"
   ]
  },
  {
   "cell_type": "code",
   "execution_count": 48,
   "metadata": {},
   "outputs": [
    {
     "name": "stdout",
     "output_type": "stream",
     "text": [
      "(284754, 12)\n"
     ]
    },
    {
     "data": {
      "text/plain": [
       "(284705, 12)"
      ]
     },
     "execution_count": 48,
     "metadata": {},
     "output_type": "execute_result"
    }
   ],
   "source": [
    "# Dropping remaning empty values\n",
    "print(units.shape)\n",
    "units.dropna(inplace=True)\n",
    "units.shape"
   ]
  },
  {
   "cell_type": "code",
   "execution_count": 49,
   "metadata": {},
   "outputs": [
    {
     "data": {
      "text/html": [
       "<div>\n",
       "<style scoped>\n",
       "    .dataframe tbody tr th:only-of-type {\n",
       "        vertical-align: middle;\n",
       "    }\n",
       "\n",
       "    .dataframe tbody tr th {\n",
       "        vertical-align: top;\n",
       "    }\n",
       "\n",
       "    .dataframe thead th {\n",
       "        text-align: right;\n",
       "    }\n",
       "</style>\n",
       "<table border=\"1\" class=\"dataframe\">\n",
       "  <thead>\n",
       "    <tr style=\"text-align: right;\">\n",
       "      <th></th>\n",
       "      <th>Dtype</th>\n",
       "      <th>Count of missing</th>\n",
       "      <th>% of missing</th>\n",
       "    </tr>\n",
       "  </thead>\n",
       "  <tbody>\n",
       "    <tr>\n",
       "      <th>PrimaryKey</th>\n",
       "      <td>int64</td>\n",
       "      <td>0</td>\n",
       "      <td>0.0</td>\n",
       "    </tr>\n",
       "    <tr>\n",
       "      <th>CallConfirmedDT</th>\n",
       "      <td>datetime64[ns]</td>\n",
       "      <td>0</td>\n",
       "      <td>0.0</td>\n",
       "    </tr>\n",
       "    <tr>\n",
       "      <th>ResponseUnitID</th>\n",
       "      <td>object</td>\n",
       "      <td>0</td>\n",
       "      <td>0.0</td>\n",
       "    </tr>\n",
       "    <tr>\n",
       "      <th>TransportUnitID</th>\n",
       "      <td>object</td>\n",
       "      <td>0</td>\n",
       "      <td>0.0</td>\n",
       "    </tr>\n",
       "    <tr>\n",
       "      <th>TransportUnitLOC</th>\n",
       "      <td>object</td>\n",
       "      <td>0</td>\n",
       "      <td>0.0</td>\n",
       "    </tr>\n",
       "    <tr>\n",
       "      <th>UnitPrimaryActionTaken</th>\n",
       "      <td>object</td>\n",
       "      <td>0</td>\n",
       "      <td>0.0</td>\n",
       "    </tr>\n",
       "    <tr>\n",
       "      <th>UnitOtherActionsTaken</th>\n",
       "      <td>object</td>\n",
       "      <td>0</td>\n",
       "      <td>0.0</td>\n",
       "    </tr>\n",
       "    <tr>\n",
       "      <th>UnitStation</th>\n",
       "      <td>object</td>\n",
       "      <td>0</td>\n",
       "      <td>0.0</td>\n",
       "    </tr>\n",
       "    <tr>\n",
       "      <th>UnitType</th>\n",
       "      <td>object</td>\n",
       "      <td>0</td>\n",
       "      <td>0.0</td>\n",
       "    </tr>\n",
       "    <tr>\n",
       "      <th>UnitArrivalOrder</th>\n",
       "      <td>float64</td>\n",
       "      <td>0</td>\n",
       "      <td>0.0</td>\n",
       "    </tr>\n",
       "    <tr>\n",
       "      <th>UnitTransportedDT</th>\n",
       "      <td>object</td>\n",
       "      <td>0</td>\n",
       "      <td>0.0</td>\n",
       "    </tr>\n",
       "    <tr>\n",
       "      <th>UnitTransportedArrivalDT</th>\n",
       "      <td>object</td>\n",
       "      <td>0</td>\n",
       "      <td>0.0</td>\n",
       "    </tr>\n",
       "  </tbody>\n",
       "</table>\n",
       "</div>"
      ],
      "text/plain": [
       "                                   Dtype  Count of missing  % of missing\n",
       "PrimaryKey                         int64                 0           0.0\n",
       "CallConfirmedDT           datetime64[ns]                 0           0.0\n",
       "ResponseUnitID                    object                 0           0.0\n",
       "TransportUnitID                   object                 0           0.0\n",
       "TransportUnitLOC                  object                 0           0.0\n",
       "UnitPrimaryActionTaken            object                 0           0.0\n",
       "UnitOtherActionsTaken             object                 0           0.0\n",
       "UnitStation                       object                 0           0.0\n",
       "UnitType                          object                 0           0.0\n",
       "UnitArrivalOrder                 float64                 0           0.0\n",
       "UnitTransportedDT                 object                 0           0.0\n",
       "UnitTransportedArrivalDT          object                 0           0.0"
      ]
     },
     "execution_count": 49,
     "metadata": {},
     "output_type": "execute_result"
    }
   ],
   "source": [
    "view_empty_values(units)"
   ]
  },
  {
   "cell_type": "markdown",
   "metadata": {
    "id": "dbbfdf67"
   },
   "source": [
    "**Q: What is unique key for units?**  \n",
    "**Q: Logic for missing value in units? Do we need to add anew column to indicate that unit was not transported?**"
   ]
  },
  {
   "cell_type": "code",
   "execution_count": 50,
   "metadata": {
    "id": "630be665"
   },
   "outputs": [],
   "source": [
    "# Replaced all the null values of 'TransportHospitalName' column with 'No Hospital service'\n",
    "patients['TransportHospitalCode'].fillna('No Hospital service', inplace = True)"
   ]
  },
  {
   "cell_type": "code",
   "execution_count": 51,
   "metadata": {
    "id": "a9c47c3e"
   },
   "outputs": [],
   "source": [
    "## Replaced all the null values of 'TransportHospitalCode' column with 'No Hospital name'\n",
    "patients['TransportHospitalName'].fillna('No Hospital name', inplace = True)"
   ]
  },
  {
   "cell_type": "code",
   "execution_count": 52,
   "metadata": {
    "id": "9981a285"
   },
   "outputs": [],
   "source": [
    "# Replaced all the null values of 'ReasonForChoosingHospital' column with 'No Hospital service'\n",
    "patients['ReasonForChoosingHospital'].fillna('No Hospital service', inplace = True)"
   ]
  },
  {
   "cell_type": "code",
   "execution_count": 53,
   "metadata": {
    "id": "d7dc16d7"
   },
   "outputs": [],
   "source": [
    "# Replaced all the null values of 'TransportLOC' column with '0'\n",
    "patients['TransportLOC'].fillna('0', inplace = True)"
   ]
  },
  {
   "cell_type": "code",
   "execution_count": 54,
   "metadata": {
    "id": "7d5041e3",
    "outputId": "1119fe78-9304-4cb4-b9d2-e2cbf0a36231"
   },
   "outputs": [
    {
     "data": {
      "text/html": [
       "<div>\n",
       "<style scoped>\n",
       "    .dataframe tbody tr th:only-of-type {\n",
       "        vertical-align: middle;\n",
       "    }\n",
       "\n",
       "    .dataframe tbody tr th {\n",
       "        vertical-align: top;\n",
       "    }\n",
       "\n",
       "    .dataframe thead th {\n",
       "        text-align: right;\n",
       "    }\n",
       "</style>\n",
       "<table border=\"1\" class=\"dataframe\">\n",
       "  <thead>\n",
       "    <tr style=\"text-align: right;\">\n",
       "      <th></th>\n",
       "      <th>Dtype</th>\n",
       "      <th>Count of missing</th>\n",
       "      <th>% of missing</th>\n",
       "    </tr>\n",
       "  </thead>\n",
       "  <tbody>\n",
       "    <tr>\n",
       "      <th>PrimaryKey</th>\n",
       "      <td>int64</td>\n",
       "      <td>0</td>\n",
       "      <td>0.000000</td>\n",
       "    </tr>\n",
       "    <tr>\n",
       "      <th>CallConfirmedDT</th>\n",
       "      <td>datetime64[ns]</td>\n",
       "      <td>0</td>\n",
       "      <td>0.000000</td>\n",
       "    </tr>\n",
       "    <tr>\n",
       "      <th>PatientID</th>\n",
       "      <td>int64</td>\n",
       "      <td>0</td>\n",
       "      <td>0.000000</td>\n",
       "    </tr>\n",
       "    <tr>\n",
       "      <th>TransportUnitID</th>\n",
       "      <td>object</td>\n",
       "      <td>0</td>\n",
       "      <td>0.000000</td>\n",
       "    </tr>\n",
       "    <tr>\n",
       "      <th>TransportLOC</th>\n",
       "      <td>object</td>\n",
       "      <td>0</td>\n",
       "      <td>0.000000</td>\n",
       "    </tr>\n",
       "    <tr>\n",
       "      <th>TransportHospitalCode</th>\n",
       "      <td>object</td>\n",
       "      <td>0</td>\n",
       "      <td>0.000000</td>\n",
       "    </tr>\n",
       "    <tr>\n",
       "      <th>TransportHospitalName</th>\n",
       "      <td>object</td>\n",
       "      <td>0</td>\n",
       "      <td>0.000000</td>\n",
       "    </tr>\n",
       "    <tr>\n",
       "      <th>ReasonForChoosingHospital</th>\n",
       "      <td>object</td>\n",
       "      <td>0</td>\n",
       "      <td>0.000000</td>\n",
       "    </tr>\n",
       "    <tr>\n",
       "      <th>PatientAge</th>\n",
       "      <td>object</td>\n",
       "      <td>2</td>\n",
       "      <td>0.000016</td>\n",
       "    </tr>\n",
       "    <tr>\n",
       "      <th>PrimaryImpression</th>\n",
       "      <td>object</td>\n",
       "      <td>3</td>\n",
       "      <td>0.000024</td>\n",
       "    </tr>\n",
       "    <tr>\n",
       "      <th>SecondaryImpression</th>\n",
       "      <td>object</td>\n",
       "      <td>3</td>\n",
       "      <td>0.000024</td>\n",
       "    </tr>\n",
       "    <tr>\n",
       "      <th>PatientDisposition</th>\n",
       "      <td>object</td>\n",
       "      <td>0</td>\n",
       "      <td>0.000000</td>\n",
       "    </tr>\n",
       "  </tbody>\n",
       "</table>\n",
       "</div>"
      ],
      "text/plain": [
       "                                    Dtype  Count of missing  % of missing\n",
       "PrimaryKey                          int64                 0      0.000000\n",
       "CallConfirmedDT            datetime64[ns]                 0      0.000000\n",
       "PatientID                           int64                 0      0.000000\n",
       "TransportUnitID                    object                 0      0.000000\n",
       "TransportLOC                       object                 0      0.000000\n",
       "TransportHospitalCode              object                 0      0.000000\n",
       "TransportHospitalName              object                 0      0.000000\n",
       "ReasonForChoosingHospital          object                 0      0.000000\n",
       "PatientAge                         object                 2      0.000016\n",
       "PrimaryImpression                  object                 3      0.000024\n",
       "SecondaryImpression                object                 3      0.000024\n",
       "PatientDisposition                 object                 0      0.000000"
      ]
     },
     "execution_count": 54,
     "metadata": {},
     "output_type": "execute_result"
    }
   ],
   "source": [
    "view_empty_values(patients)"
   ]
  },
  {
   "cell_type": "code",
   "execution_count": 55,
   "metadata": {
    "id": "2eeb01bd",
    "outputId": "2c40cdca-b672-4f1b-a358-a08b5cbff512"
   },
   "outputs": [
    {
     "name": "stdout",
     "output_type": "stream",
     "text": [
      "(125032, 12)\n"
     ]
    },
    {
     "data": {
      "text/plain": [
       "(125028, 12)"
      ]
     },
     "execution_count": 55,
     "metadata": {},
     "output_type": "execute_result"
    }
   ],
   "source": [
    "# Dropping remaning empty values\n",
    "print(patients.shape)\n",
    "patients.dropna(inplace=True)\n",
    "patients.shape"
   ]
  },
  {
   "cell_type": "code",
   "execution_count": 56,
   "metadata": {
    "id": "9d98f23e",
    "outputId": "3ebeca62-b923-4e8f-e80e-2094372c8311"
   },
   "outputs": [
    {
     "data": {
      "text/html": [
       "<div>\n",
       "<style scoped>\n",
       "    .dataframe tbody tr th:only-of-type {\n",
       "        vertical-align: middle;\n",
       "    }\n",
       "\n",
       "    .dataframe tbody tr th {\n",
       "        vertical-align: top;\n",
       "    }\n",
       "\n",
       "    .dataframe thead th {\n",
       "        text-align: right;\n",
       "    }\n",
       "</style>\n",
       "<table border=\"1\" class=\"dataframe\">\n",
       "  <thead>\n",
       "    <tr style=\"text-align: right;\">\n",
       "      <th></th>\n",
       "      <th>Dtype</th>\n",
       "      <th>Count of missing</th>\n",
       "      <th>% of missing</th>\n",
       "    </tr>\n",
       "  </thead>\n",
       "  <tbody>\n",
       "    <tr>\n",
       "      <th>PatientID</th>\n",
       "      <td>int64</td>\n",
       "      <td>0</td>\n",
       "      <td>0.0</td>\n",
       "    </tr>\n",
       "    <tr>\n",
       "      <th>ProcedurePrimaryKey</th>\n",
       "      <td>int64</td>\n",
       "      <td>0</td>\n",
       "      <td>0.0</td>\n",
       "    </tr>\n",
       "    <tr>\n",
       "      <th>ProcedurePerformed</th>\n",
       "      <td>object</td>\n",
       "      <td>0</td>\n",
       "      <td>0.0</td>\n",
       "    </tr>\n",
       "    <tr>\n",
       "      <th>isALS_LOC</th>\n",
       "      <td>int64</td>\n",
       "      <td>0</td>\n",
       "      <td>0.0</td>\n",
       "    </tr>\n",
       "  </tbody>\n",
       "</table>\n",
       "</div>"
      ],
      "text/plain": [
       "                      Dtype  Count of missing  % of missing\n",
       "PatientID             int64                 0           0.0\n",
       "ProcedurePrimaryKey   int64                 0           0.0\n",
       "ProcedurePerformed   object                 0           0.0\n",
       "isALS_LOC             int64                 0           0.0"
      ]
     },
     "execution_count": 56,
     "metadata": {},
     "output_type": "execute_result"
    }
   ],
   "source": [
    "view_empty_values(procedures)"
   ]
  },
  {
   "cell_type": "code",
   "execution_count": 57,
   "metadata": {
    "id": "f642320d"
   },
   "outputs": [],
   "source": [
    "# Replaced all the null values of 'MedicationGiven' column with 'No medication given'\n",
    "medications['MedicationGiven'].fillna('No medication given', inplace = True)"
   ]
  },
  {
   "cell_type": "code",
   "execution_count": 58,
   "metadata": {
    "id": "45326593",
    "outputId": "c500a686-7717-445f-d4c9-a7aa29bf40df"
   },
   "outputs": [
    {
     "data": {
      "text/html": [
       "<div>\n",
       "<style scoped>\n",
       "    .dataframe tbody tr th:only-of-type {\n",
       "        vertical-align: middle;\n",
       "    }\n",
       "\n",
       "    .dataframe tbody tr th {\n",
       "        vertical-align: top;\n",
       "    }\n",
       "\n",
       "    .dataframe thead th {\n",
       "        text-align: right;\n",
       "    }\n",
       "</style>\n",
       "<table border=\"1\" class=\"dataframe\">\n",
       "  <thead>\n",
       "    <tr style=\"text-align: right;\">\n",
       "      <th></th>\n",
       "      <th>Dtype</th>\n",
       "      <th>Count of missing</th>\n",
       "      <th>% of missing</th>\n",
       "    </tr>\n",
       "  </thead>\n",
       "  <tbody>\n",
       "    <tr>\n",
       "      <th>PatientID</th>\n",
       "      <td>int64</td>\n",
       "      <td>0</td>\n",
       "      <td>0.0</td>\n",
       "    </tr>\n",
       "    <tr>\n",
       "      <th>MedicationPrimaryKey</th>\n",
       "      <td>int64</td>\n",
       "      <td>0</td>\n",
       "      <td>0.0</td>\n",
       "    </tr>\n",
       "    <tr>\n",
       "      <th>MedicationGiven</th>\n",
       "      <td>object</td>\n",
       "      <td>0</td>\n",
       "      <td>0.0</td>\n",
       "    </tr>\n",
       "    <tr>\n",
       "      <th>isALS_LOC</th>\n",
       "      <td>int64</td>\n",
       "      <td>0</td>\n",
       "      <td>0.0</td>\n",
       "    </tr>\n",
       "  </tbody>\n",
       "</table>\n",
       "</div>"
      ],
      "text/plain": [
       "                       Dtype  Count of missing  % of missing\n",
       "PatientID              int64                 0           0.0\n",
       "MedicationPrimaryKey   int64                 0           0.0\n",
       "MedicationGiven       object                 0           0.0\n",
       "isALS_LOC              int64                 0           0.0"
      ]
     },
     "execution_count": 58,
     "metadata": {},
     "output_type": "execute_result"
    }
   ],
   "source": [
    "view_empty_values(medications)"
   ]
  },
  {
   "cell_type": "code",
   "execution_count": 60,
   "metadata": {
    "id": "9522e7b8"
   },
   "outputs": [],
   "source": [
    "# Save cleaned data to file\n",
    "writer = ExcelWriter(\"dataset/IndividualTablesCleaned.xlsx\")\n",
    "incidents.to_excel(writer, \"incidents\", index=False)\n",
    "units.to_excel(writer, \"units\", index=False)\n",
    "patients.to_excel(writer, \"patients\", index=False)\n",
    "procedures.to_excel(writer, \"procedures\", index=False)\n",
    "medications.to_excel(writer, \"medications\", index=False)\n",
    "writer.save()"
   ]
  },
  {
   "cell_type": "markdown",
   "metadata": {
    "id": "03477779"
   },
   "source": [
    "## Merging datasets\n",
    "Examples of how to merge different datasets"
   ]
  },
  {
   "cell_type": "code",
   "execution_count": 206,
   "metadata": {
    "id": "a3f3377c",
    "outputId": "9d735ae6-736d-490e-81d5-3a543be100ea"
   },
   "outputs": [
    {
     "name": "stdout",
     "output_type": "stream",
     "text": [
      "(122080, 10) (284705, 12)\n"
     ]
    },
    {
     "data": {
      "text/plain": [
       "(283972, 21)"
      ]
     },
     "execution_count": 206,
     "metadata": {},
     "output_type": "execute_result"
    }
   ],
   "source": [
    "# An incident can have multiple units respond\n",
    "print(incidents.shape, units.shape)\n",
    "t = incidents.merge(units, how=\"left\", on=\"PrimaryKey\")\n",
    "t.shape"
   ]
  },
  {
   "cell_type": "code",
   "execution_count": 207,
   "metadata": {
    "id": "762c83cd",
    "outputId": "e06a4cf4-ae8f-4358-e7cc-6348af71e53a"
   },
   "outputs": [
    {
     "name": "stdout",
     "output_type": "stream",
     "text": [
      "(122080, 10) (125028, 12)\n"
     ]
    },
    {
     "data": {
      "text/plain": [
       "(124580, 21)"
      ]
     },
     "execution_count": 207,
     "metadata": {},
     "output_type": "execute_result"
    }
   ],
   "source": [
    "# An incident can have multiple patients\n",
    "print(incidents.shape, patients.shape)\n",
    "t = incidents.merge(patients, how=\"left\", on=\"PrimaryKey\")\n",
    "t.shape"
   ]
  },
  {
   "cell_type": "code",
   "execution_count": 208,
   "metadata": {
    "id": "5f6a67e5",
    "outputId": "76fc04ef-42d4-4524-f155-94cb6a33b529"
   },
   "outputs": [
    {
     "data": {
      "text/plain": [
       "(283972, 21)"
      ]
     },
     "execution_count": 208,
     "metadata": {},
     "output_type": "execute_result"
    }
   ],
   "source": [
    "# Join incident, patient and untis\n",
    "t1  = incidents.merge(units, how=\"left\", on=\"PrimaryKey\")\n",
    "t1.shape"
   ]
  },
  {
   "cell_type": "code",
   "execution_count": 209,
   "metadata": {
    "id": "cba41da9",
    "outputId": "a9e76db1-5eb1-40a4-9d35-673e53fa2c2b"
   },
   "outputs": [
    {
     "name": "stdout",
     "output_type": "stream",
     "text": [
      "(125028, 12) (128586, 4)\n"
     ]
    },
    {
     "data": {
      "text/plain": [
       "(188017, 15)"
      ]
     },
     "execution_count": 209,
     "metadata": {},
     "output_type": "execute_result"
    }
   ],
   "source": [
    "# A patient can undergo multiple/no procedure\n",
    "print(patients.shape, procedures.shape)\n",
    "t = patients.merge(procedures, how=\"left\", on=\"PatientID\")\n",
    "t.shape"
   ]
  },
  {
   "cell_type": "code",
   "execution_count": 210,
   "metadata": {
    "id": "ea553359",
    "outputId": "e666d8a3-3b5c-495b-b2b5-fb2f49988eb2"
   },
   "outputs": [
    {
     "name": "stdout",
     "output_type": "stream",
     "text": [
      "(125028, 12) (48222, 4)\n"
     ]
    },
    {
     "data": {
      "text/plain": [
       "(144433, 15)"
      ]
     },
     "execution_count": 210,
     "metadata": {},
     "output_type": "execute_result"
    }
   ],
   "source": [
    "# A patient can be given multiple/no medications\n",
    "print(patients.shape, medications.shape)\n",
    "t = patients.merge(medications, how=\"left\", on=\"PatientID\")\n",
    "t.shape"
   ]
  },
  {
   "cell_type": "code",
   "execution_count": 211,
   "metadata": {
    "id": "0fb23d51",
    "outputId": "4bc0c8b4-a90c-4437-cc95-fff4c02dc5e6"
   },
   "outputs": [
    {
     "data": {
      "text/plain": [
       "['Acetylsalicylic Acid (Aspirin, ASA) ',\n",
       " 'Adenosine (Adenocard)',\n",
       " 'Albuterol (Ventolin) ',\n",
       " 'Amiodarone (Cordarone)',\n",
       " 'Atropine (Atropine Sulfate) ',\n",
       " 'Calcium Chloride (10%) ',\n",
       " 'Cyanokit (Hydroxocobalamin)',\n",
       " 'Dextrose 10 % (D10)',\n",
       " 'Dextrose 50 % (D50)',\n",
       " 'Diazepam (Valium)',\n",
       " 'Diphenhydramine (Benadryl)',\n",
       " 'Epinephrine 0.1 MG/ML (1:10,000)',\n",
       " 'Epinephrine 1 MG/ML (1:1,000)',\n",
       " 'Fentanyl Citrate (Sublimaze) ',\n",
       " 'Glucagon (Glucagen)',\n",
       " 'Glucose (Oral)',\n",
       " 'Ipratropium Bromide(Atrovent)',\n",
       " 'Ketamine (Ketalar)',\n",
       " 'Lidocaine (2%) (Xylocaine) ',\n",
       " 'Magnesium Sulfate (50%) ',\n",
       " 'Methylprednisolone (Solu-Medrol) ',\n",
       " 'Midazolam (Versed)',\n",
       " 'Morphine (Morphine Sulfate) ',\n",
       " 'Naloxone (Narcan)',\n",
       " 'Nitroglycerin',\n",
       " 'No medication given',\n",
       " 'Norepinephrine (Levophed)',\n",
       " 'Normal saline',\n",
       " 'Ondansetron (Zofran)',\n",
       " 'Oxygen',\n",
       " 'Sodium Bicarbonate (8.4%) ',\n",
       " 'Tetracaine',\n",
       " 'Tranexamic Acid (TXA)']"
      ]
     },
     "execution_count": 211,
     "metadata": {},
     "output_type": "execute_result"
    }
   ],
   "source": [
    "sorted(medications.MedicationGiven[medications.MedicationGiven.notnull()].unique())"
   ]
  },
  {
   "cell_type": "code",
   "execution_count": 212,
   "metadata": {
    "id": "08e75685",
    "outputId": "e85c6352-8887-4555-b816-b9a9b1f88f7b"
   },
   "outputs": [
    {
     "data": {
      "text/plain": [
       "(68, 33)"
      ]
     },
     "execution_count": 212,
     "metadata": {},
     "output_type": "execute_result"
    }
   ],
   "source": [
    "procedures.ProcedurePerformed.nunique(), medications.MedicationGiven.nunique()"
   ]
  },
  {
   "cell_type": "code",
   "execution_count": 213,
   "metadata": {},
   "outputs": [],
   "source": [
    "## Ideas for Model\n",
    "# Model 1: What medication/procedure to be followed for an incident?  \n",
    "# Model 2: Where should a patient be taken after incident?"
   ]
  },
  {
   "cell_type": "markdown",
   "metadata": {},
   "source": [
    "### Model for week 13- Full Sprint 4 - code starts here"
   ]
  },
  {
   "cell_type": "code",
   "execution_count": 10,
   "metadata": {},
   "outputs": [],
   "source": [
    "# Read cleaned data\n",
    "incidents = pd.read_excel(\"dataset/IndividualTablesCleaned.xlsx\", sheet_name=\"incidents\")\n",
    "units = pd.read_excel(\"dataset/IndividualTablesCleaned.xlsx\", sheet_name=\"units\")\n",
    "patients = pd.read_excel(\"dataset/IndividualTablesCleaned.xlsx\", sheet_name=\"patients\")\n",
    "procedures = pd.read_excel(\"dataset/IndividualTablesCleaned.xlsx\", sheet_name=\"procedures\")\n",
    "medications = pd.read_excel(\"dataset/IndividualTablesCleaned.xlsx\", sheet_name=\"medications\")"
   ]
  },
  {
   "cell_type": "code",
   "execution_count": 184,
   "metadata": {},
   "outputs": [
    {
     "name": "stdout",
     "output_type": "stream",
     "text": [
      "(125028, 12) (284705, 12)\n"
     ]
    },
    {
     "data": {
      "text/plain": [
       "(288314, 22)"
      ]
     },
     "execution_count": 184,
     "metadata": {},
     "output_type": "execute_result"
    }
   ],
   "source": [
    "#Merge patients with the units - Units 0:many patients\n",
    "print(patients.shape, units.shape)\n",
    "patientunitsmerge = patients.merge(units, how=\"left\", on=[\"PrimaryKey\", \"TransportUnitID\"])\n",
    "patientunitsmerge.shape"
   ]
  },
  {
   "cell_type": "code",
   "execution_count": 185,
   "metadata": {},
   "outputs": [
    {
     "name": "stdout",
     "output_type": "stream",
     "text": [
      "(288314, 22) (122080, 10)\n"
     ]
    },
    {
     "data": {
      "text/plain": [
       "(288314, 31)"
      ]
     },
     "execution_count": 185,
     "metadata": {},
     "output_type": "execute_result"
    }
   ],
   "source": [
    "print(patientunitsmerge.shape, incidents.shape)\n",
    "incidentpatientunitsmerge = patientunitsmerge.merge(incidents, how=\"left\", on=\"PrimaryKey\")\n",
    "incidentpatientunitsmerge.shape"
   ]
  },
  {
   "cell_type": "code",
   "execution_count": 186,
   "metadata": {},
   "outputs": [
    {
     "data": {
      "text/plain": [
       "array([3, 16, 95, 11, 1, 47, 103, 'No Hospital service', 36, 215, 213,\n",
       "       205, 202, 102, 325, 999, 58, 328, 204, 327, 326, 324, 59, 364, 363,\n",
       "       374, 116, 216, 107, 700, 701], dtype=object)"
      ]
     },
     "execution_count": 186,
     "metadata": {},
     "output_type": "execute_result"
    }
   ],
   "source": [
    "incidentpatientunitsmerge['TransportHospitalCode'].unique()"
   ]
  },
  {
   "cell_type": "code",
   "execution_count": 187,
   "metadata": {},
   "outputs": [],
   "source": [
    "incidentpatientunitsmerge.loc[incidentpatientunitsmerge['TransportHospitalCode'] == 'No Hospital service', 'TransportHospitalCode'] = 111\n",
    "incidentpatientunitsmerge['TransportHospitalCode'] = incidentpatientunitsmerge['TransportHospitalCode'].astype(int)"
   ]
  },
  {
   "cell_type": "code",
   "execution_count": 188,
   "metadata": {},
   "outputs": [
    {
     "name": "stdout",
     "output_type": "stream",
     "text": [
      "(288314, 31) (32, 7)\n"
     ]
    },
    {
     "data": {
      "text/plain": [
       "(288314, 38)"
      ]
     },
     "execution_count": 188,
     "metadata": {},
     "output_type": "execute_result"
    }
   ],
   "source": [
    "print(incidentpatientunitsmerge.shape, df_facility.shape)\n",
    "incidentpatientunitsfacilitiesmerge = incidentpatientunitsmerge.merge(df_facility, how=\"left\", left_on=\"TransportHospitalCode\" , right_on=\"Facility_Location_Code\")\n",
    "incidentpatientunitsfacilitiesmerge.shape"
   ]
  },
  {
   "cell_type": "code",
   "execution_count": 189,
   "metadata": {},
   "outputs": [],
   "source": [
    "#Drop 'TransportHospitalCode'\n",
    "incidentpatientunitsfacilitiesmerge = incidentpatientunitsfacilitiesmerge.drop(columns= ['Facility_Location_Code'])"
   ]
  },
  {
   "cell_type": "code",
   "execution_count": 190,
   "metadata": {},
   "outputs": [
    {
     "data": {
      "text/html": [
       "<div>\n",
       "<style scoped>\n",
       "    .dataframe tbody tr th:only-of-type {\n",
       "        vertical-align: middle;\n",
       "    }\n",
       "\n",
       "    .dataframe tbody tr th {\n",
       "        vertical-align: top;\n",
       "    }\n",
       "\n",
       "    .dataframe thead th {\n",
       "        text-align: right;\n",
       "    }\n",
       "</style>\n",
       "<table border=\"1\" class=\"dataframe\">\n",
       "  <thead>\n",
       "    <tr style=\"text-align: right;\">\n",
       "      <th></th>\n",
       "      <th>PrimaryKey</th>\n",
       "      <th>CallConfirmedDT_x</th>\n",
       "      <th>PatientID</th>\n",
       "      <th>TransportUnitID</th>\n",
       "      <th>TransportLOC</th>\n",
       "      <th>TransportHospitalCode</th>\n",
       "      <th>TransportHospitalName</th>\n",
       "      <th>ReasonForChoosingHospital</th>\n",
       "      <th>PatientAge</th>\n",
       "      <th>PrimaryImpression</th>\n",
       "      <th>...</th>\n",
       "      <th>DispatchedIncidentType</th>\n",
       "      <th>ArrivedIncidentType</th>\n",
       "      <th>FinalIncidentType</th>\n",
       "      <th>FinalIncidentTypeDescription</th>\n",
       "      <th>Facility_Name</th>\n",
       "      <th>Facility_Type_Of_Facility</th>\n",
       "      <th>Facility_Hospital_Designation_List</th>\n",
       "      <th>Facility_Latitude</th>\n",
       "      <th>Facility_Longitude</th>\n",
       "      <th>Facility_Full_Address</th>\n",
       "    </tr>\n",
       "  </thead>\n",
       "  <tbody>\n",
       "    <tr>\n",
       "      <th>0</th>\n",
       "      <td>9804015371</td>\n",
       "      <td>2018-07-01 02:16:24</td>\n",
       "      <td>640838</td>\n",
       "      <td>M401</td>\n",
       "      <td>Level 3: 1 Provider (ALS Care)</td>\n",
       "      <td>3</td>\n",
       "      <td>Virginia Hospital Center</td>\n",
       "      <td>Patient's Choice,Closest Facility</td>\n",
       "      <td>80 - 89</td>\n",
       "      <td>GI/GU - Nausea (With Vomiting) (R11.2)</td>\n",
       "      <td>...</td>\n",
       "      <td>ALS</td>\n",
       "      <td>ALS</td>\n",
       "      <td>ALS</td>\n",
       "      <td>ALS EMERGENCY</td>\n",
       "      <td>Virginia Hospital Center</td>\n",
       "      <td>Hospital</td>\n",
       "      <td>Designated Stroke Center,Hospital (General),Pe...</td>\n",
       "      <td>38.889271</td>\n",
       "      <td>77.126523</td>\n",
       "      <td>1701 N. George Mason Drive, Arlington, Virgin...</td>\n",
       "    </tr>\n",
       "    <tr>\n",
       "      <th>1</th>\n",
       "      <td>9804015371</td>\n",
       "      <td>2018-07-01 02:16:24</td>\n",
       "      <td>640838</td>\n",
       "      <td>M401</td>\n",
       "      <td>Level 3: 1 Provider (ALS Care)</td>\n",
       "      <td>3</td>\n",
       "      <td>Virginia Hospital Center</td>\n",
       "      <td>Patient's Choice,Closest Facility</td>\n",
       "      <td>80 - 89</td>\n",
       "      <td>GI/GU - Nausea (With Vomiting) (R11.2)</td>\n",
       "      <td>...</td>\n",
       "      <td>ALS</td>\n",
       "      <td>ALS</td>\n",
       "      <td>ALS</td>\n",
       "      <td>ALS EMERGENCY</td>\n",
       "      <td>Virginia Hospital Center</td>\n",
       "      <td>Hospital</td>\n",
       "      <td>Designated Stroke Center,Hospital (General),Pe...</td>\n",
       "      <td>38.889271</td>\n",
       "      <td>77.126523</td>\n",
       "      <td>1701 N. George Mason Drive, Arlington, Virgin...</td>\n",
       "    </tr>\n",
       "    <tr>\n",
       "      <th>2</th>\n",
       "      <td>9804016046</td>\n",
       "      <td>2018-07-01 11:20:51</td>\n",
       "      <td>641032</td>\n",
       "      <td>M401</td>\n",
       "      <td>Level 4: 1 Provider (BLS Care)</td>\n",
       "      <td>3</td>\n",
       "      <td>Virginia Hospital Center</td>\n",
       "      <td>Patient's Choice</td>\n",
       "      <td>80 - 89</td>\n",
       "      <td>EENT - Eye Pain (Non-traumatic) (H57.10)</td>\n",
       "      <td>...</td>\n",
       "      <td>BLS</td>\n",
       "      <td>BLS</td>\n",
       "      <td>BLS</td>\n",
       "      <td>BLS EMERGENCY</td>\n",
       "      <td>Virginia Hospital Center</td>\n",
       "      <td>Hospital</td>\n",
       "      <td>Designated Stroke Center,Hospital (General),Pe...</td>\n",
       "      <td>38.889271</td>\n",
       "      <td>77.126523</td>\n",
       "      <td>1701 N. George Mason Drive, Arlington, Virgin...</td>\n",
       "    </tr>\n",
       "    <tr>\n",
       "      <th>3</th>\n",
       "      <td>9804018610</td>\n",
       "      <td>2018-07-02 09:31:06</td>\n",
       "      <td>641839</td>\n",
       "      <td>M401</td>\n",
       "      <td>Level 4: 1 Provider (BLS Care)</td>\n",
       "      <td>16</td>\n",
       "      <td>Fairfax Hospital</td>\n",
       "      <td>Closest Facility</td>\n",
       "      <td>40 - 49</td>\n",
       "      <td>Injury - Foot (S99.92)</td>\n",
       "      <td>...</td>\n",
       "      <td>BLS</td>\n",
       "      <td>BLS</td>\n",
       "      <td>BLS</td>\n",
       "      <td>BLS EMERGENCY</td>\n",
       "      <td>Inova Fairfax Hospital</td>\n",
       "      <td>Hospital</td>\n",
       "      <td>Designated Stroke Center,Hospital (General),Le...</td>\n",
       "      <td>38.857392</td>\n",
       "      <td>77.226309</td>\n",
       "      <td>3300 Gallows Road, West Falls Church, Virginia...</td>\n",
       "    </tr>\n",
       "    <tr>\n",
       "      <th>4</th>\n",
       "      <td>9804018610</td>\n",
       "      <td>2018-07-02 09:31:06</td>\n",
       "      <td>641839</td>\n",
       "      <td>M401</td>\n",
       "      <td>Level 4: 1 Provider (BLS Care)</td>\n",
       "      <td>16</td>\n",
       "      <td>Fairfax Hospital</td>\n",
       "      <td>Closest Facility</td>\n",
       "      <td>40 - 49</td>\n",
       "      <td>Injury - Foot (S99.92)</td>\n",
       "      <td>...</td>\n",
       "      <td>BLS</td>\n",
       "      <td>BLS</td>\n",
       "      <td>BLS</td>\n",
       "      <td>BLS EMERGENCY</td>\n",
       "      <td>Inova Fairfax Hospital</td>\n",
       "      <td>Hospital</td>\n",
       "      <td>Designated Stroke Center,Hospital (General),Le...</td>\n",
       "      <td>38.857392</td>\n",
       "      <td>77.226309</td>\n",
       "      <td>3300 Gallows Road, West Falls Church, Virginia...</td>\n",
       "    </tr>\n",
       "    <tr>\n",
       "      <th>5</th>\n",
       "      <td>9804018946</td>\n",
       "      <td>2018-07-02 11:19:56</td>\n",
       "      <td>641959</td>\n",
       "      <td>M401</td>\n",
       "      <td>Level 4: 1 Provider (BLS Care)</td>\n",
       "      <td>3</td>\n",
       "      <td>Virginia Hospital Center</td>\n",
       "      <td>Closest Facility,Family Choice,Patient's Physi...</td>\n",
       "      <td>80 - 89</td>\n",
       "      <td>Injury - Hip (S79.91)</td>\n",
       "      <td>...</td>\n",
       "      <td>BLS</td>\n",
       "      <td>BLS</td>\n",
       "      <td>BLS</td>\n",
       "      <td>BLS EMERGENCY</td>\n",
       "      <td>Virginia Hospital Center</td>\n",
       "      <td>Hospital</td>\n",
       "      <td>Designated Stroke Center,Hospital (General),Pe...</td>\n",
       "      <td>38.889271</td>\n",
       "      <td>77.126523</td>\n",
       "      <td>1701 N. George Mason Drive, Arlington, Virgin...</td>\n",
       "    </tr>\n",
       "    <tr>\n",
       "      <th>6</th>\n",
       "      <td>9804018946</td>\n",
       "      <td>2018-07-02 11:19:56</td>\n",
       "      <td>641959</td>\n",
       "      <td>M401</td>\n",
       "      <td>Level 4: 1 Provider (BLS Care)</td>\n",
       "      <td>3</td>\n",
       "      <td>Virginia Hospital Center</td>\n",
       "      <td>Closest Facility,Family Choice,Patient's Physi...</td>\n",
       "      <td>80 - 89</td>\n",
       "      <td>Injury - Hip (S79.91)</td>\n",
       "      <td>...</td>\n",
       "      <td>BLS</td>\n",
       "      <td>BLS</td>\n",
       "      <td>BLS</td>\n",
       "      <td>BLS EMERGENCY</td>\n",
       "      <td>Virginia Hospital Center</td>\n",
       "      <td>Hospital</td>\n",
       "      <td>Designated Stroke Center,Hospital (General),Pe...</td>\n",
       "      <td>38.889271</td>\n",
       "      <td>77.126523</td>\n",
       "      <td>1701 N. George Mason Drive, Arlington, Virgin...</td>\n",
       "    </tr>\n",
       "    <tr>\n",
       "      <th>7</th>\n",
       "      <td>9804019337</td>\n",
       "      <td>2018-07-02 13:56:15</td>\n",
       "      <td>642086</td>\n",
       "      <td>M401</td>\n",
       "      <td>Level 3: 1 Provider (ALS Care)</td>\n",
       "      <td>3</td>\n",
       "      <td>Virginia Hospital Center</td>\n",
       "      <td>Closest Facility,Patient's Physician's Choice</td>\n",
       "      <td>20 - 29</td>\n",
       "      <td>Neuro - Altered Mental Status / Level of Consc...</td>\n",
       "      <td>...</td>\n",
       "      <td>ALS</td>\n",
       "      <td>ALS</td>\n",
       "      <td>ALS</td>\n",
       "      <td>ALS EMERGENCY</td>\n",
       "      <td>Virginia Hospital Center</td>\n",
       "      <td>Hospital</td>\n",
       "      <td>Designated Stroke Center,Hospital (General),Pe...</td>\n",
       "      <td>38.889271</td>\n",
       "      <td>77.126523</td>\n",
       "      <td>1701 N. George Mason Drive, Arlington, Virgin...</td>\n",
       "    </tr>\n",
       "    <tr>\n",
       "      <th>8</th>\n",
       "      <td>9804019337</td>\n",
       "      <td>2018-07-02 13:56:15</td>\n",
       "      <td>642086</td>\n",
       "      <td>M401</td>\n",
       "      <td>Level 3: 1 Provider (ALS Care)</td>\n",
       "      <td>3</td>\n",
       "      <td>Virginia Hospital Center</td>\n",
       "      <td>Closest Facility,Patient's Physician's Choice</td>\n",
       "      <td>20 - 29</td>\n",
       "      <td>Neuro - Altered Mental Status / Level of Consc...</td>\n",
       "      <td>...</td>\n",
       "      <td>ALS</td>\n",
       "      <td>ALS</td>\n",
       "      <td>ALS</td>\n",
       "      <td>ALS EMERGENCY</td>\n",
       "      <td>Virginia Hospital Center</td>\n",
       "      <td>Hospital</td>\n",
       "      <td>Designated Stroke Center,Hospital (General),Pe...</td>\n",
       "      <td>38.889271</td>\n",
       "      <td>77.126523</td>\n",
       "      <td>1701 N. George Mason Drive, Arlington, Virgin...</td>\n",
       "    </tr>\n",
       "    <tr>\n",
       "      <th>9</th>\n",
       "      <td>9804019821</td>\n",
       "      <td>2018-07-02 16:27:31</td>\n",
       "      <td>642222</td>\n",
       "      <td>M401</td>\n",
       "      <td>Level 3: 1 Provider (ALS Care)</td>\n",
       "      <td>3</td>\n",
       "      <td>Virginia Hospital Center</td>\n",
       "      <td>Closest Facility,Patient's Choice</td>\n",
       "      <td>90 - 99</td>\n",
       "      <td>Injury - Hip (S79.91)</td>\n",
       "      <td>...</td>\n",
       "      <td>BLS</td>\n",
       "      <td>ALS</td>\n",
       "      <td>ALS</td>\n",
       "      <td>ALS EMERGENCY</td>\n",
       "      <td>Virginia Hospital Center</td>\n",
       "      <td>Hospital</td>\n",
       "      <td>Designated Stroke Center,Hospital (General),Pe...</td>\n",
       "      <td>38.889271</td>\n",
       "      <td>77.126523</td>\n",
       "      <td>1701 N. George Mason Drive, Arlington, Virgin...</td>\n",
       "    </tr>\n",
       "    <tr>\n",
       "      <th>10</th>\n",
       "      <td>9804019821</td>\n",
       "      <td>2018-07-02 16:27:31</td>\n",
       "      <td>642222</td>\n",
       "      <td>M401</td>\n",
       "      <td>Level 3: 1 Provider (ALS Care)</td>\n",
       "      <td>3</td>\n",
       "      <td>Virginia Hospital Center</td>\n",
       "      <td>Closest Facility,Patient's Choice</td>\n",
       "      <td>90 - 99</td>\n",
       "      <td>Injury - Hip (S79.91)</td>\n",
       "      <td>...</td>\n",
       "      <td>BLS</td>\n",
       "      <td>ALS</td>\n",
       "      <td>ALS</td>\n",
       "      <td>ALS EMERGENCY</td>\n",
       "      <td>Virginia Hospital Center</td>\n",
       "      <td>Hospital</td>\n",
       "      <td>Designated Stroke Center,Hospital (General),Pe...</td>\n",
       "      <td>38.889271</td>\n",
       "      <td>77.126523</td>\n",
       "      <td>1701 N. George Mason Drive, Arlington, Virgin...</td>\n",
       "    </tr>\n",
       "    <tr>\n",
       "      <th>11</th>\n",
       "      <td>9804025846</td>\n",
       "      <td>2018-07-01 09:10:12</td>\n",
       "      <td>640977</td>\n",
       "      <td>M402</td>\n",
       "      <td>Level 3: 1 Provider (ALS Care)</td>\n",
       "      <td>16</td>\n",
       "      <td>Fairfax Hospital</td>\n",
       "      <td>Closest Facility</td>\n",
       "      <td>50 - 59</td>\n",
       "      <td>Injury - Face (S09.93)</td>\n",
       "      <td>...</td>\n",
       "      <td>BLS</td>\n",
       "      <td>BLS</td>\n",
       "      <td>BLS</td>\n",
       "      <td>BLS EMERGENCY</td>\n",
       "      <td>Inova Fairfax Hospital</td>\n",
       "      <td>Hospital</td>\n",
       "      <td>Designated Stroke Center,Hospital (General),Le...</td>\n",
       "      <td>38.857392</td>\n",
       "      <td>77.226309</td>\n",
       "      <td>3300 Gallows Road, West Falls Church, Virginia...</td>\n",
       "    </tr>\n",
       "    <tr>\n",
       "      <th>12</th>\n",
       "      <td>9804025846</td>\n",
       "      <td>2018-07-01 09:10:12</td>\n",
       "      <td>640977</td>\n",
       "      <td>M402</td>\n",
       "      <td>Level 3: 1 Provider (ALS Care)</td>\n",
       "      <td>16</td>\n",
       "      <td>Fairfax Hospital</td>\n",
       "      <td>Closest Facility</td>\n",
       "      <td>50 - 59</td>\n",
       "      <td>Injury - Face (S09.93)</td>\n",
       "      <td>...</td>\n",
       "      <td>BLS</td>\n",
       "      <td>BLS</td>\n",
       "      <td>BLS</td>\n",
       "      <td>BLS EMERGENCY</td>\n",
       "      <td>Inova Fairfax Hospital</td>\n",
       "      <td>Hospital</td>\n",
       "      <td>Designated Stroke Center,Hospital (General),Le...</td>\n",
       "      <td>38.857392</td>\n",
       "      <td>77.226309</td>\n",
       "      <td>3300 Gallows Road, West Falls Church, Virginia...</td>\n",
       "    </tr>\n",
       "    <tr>\n",
       "      <th>13</th>\n",
       "      <td>9804026735</td>\n",
       "      <td>2018-07-01 17:03:59</td>\n",
       "      <td>641291</td>\n",
       "      <td>M402</td>\n",
       "      <td>Level 3: 1 Provider (ALS Care)</td>\n",
       "      <td>16</td>\n",
       "      <td>Fairfax Hospital</td>\n",
       "      <td>Closest Facility</td>\n",
       "      <td>80 - 89</td>\n",
       "      <td>Weakness (R53.1)</td>\n",
       "      <td>...</td>\n",
       "      <td>BLS</td>\n",
       "      <td>BLS</td>\n",
       "      <td>BLS</td>\n",
       "      <td>BLS EMERGENCY</td>\n",
       "      <td>Inova Fairfax Hospital</td>\n",
       "      <td>Hospital</td>\n",
       "      <td>Designated Stroke Center,Hospital (General),Le...</td>\n",
       "      <td>38.857392</td>\n",
       "      <td>77.226309</td>\n",
       "      <td>3300 Gallows Road, West Falls Church, Virginia...</td>\n",
       "    </tr>\n",
       "    <tr>\n",
       "      <th>14</th>\n",
       "      <td>9804028602</td>\n",
       "      <td>2018-07-02 09:30:43</td>\n",
       "      <td>641809</td>\n",
       "      <td>M402</td>\n",
       "      <td>Level 3: 1 Provider (ALS Care)</td>\n",
       "      <td>16</td>\n",
       "      <td>Fairfax Hospital</td>\n",
       "      <td>Family Choice</td>\n",
       "      <td>2021-01-09 00:00:00</td>\n",
       "      <td>Pain - Extremity (Non-traumatic) (M79.609)</td>\n",
       "      <td>...</td>\n",
       "      <td>ALS</td>\n",
       "      <td>ALS</td>\n",
       "      <td>ALS</td>\n",
       "      <td>ALS EMERGENCY</td>\n",
       "      <td>Inova Fairfax Hospital</td>\n",
       "      <td>Hospital</td>\n",
       "      <td>Designated Stroke Center,Hospital (General),Le...</td>\n",
       "      <td>38.857392</td>\n",
       "      <td>77.226309</td>\n",
       "      <td>3300 Gallows Road, West Falls Church, Virginia...</td>\n",
       "    </tr>\n",
       "  </tbody>\n",
       "</table>\n",
       "<p>15 rows × 37 columns</p>\n",
       "</div>"
      ],
      "text/plain": [
       "    PrimaryKey   CallConfirmedDT_x  PatientID TransportUnitID  \\\n",
       "0   9804015371 2018-07-01 02:16:24     640838            M401   \n",
       "1   9804015371 2018-07-01 02:16:24     640838            M401   \n",
       "2   9804016046 2018-07-01 11:20:51     641032            M401   \n",
       "3   9804018610 2018-07-02 09:31:06     641839            M401   \n",
       "4   9804018610 2018-07-02 09:31:06     641839            M401   \n",
       "5   9804018946 2018-07-02 11:19:56     641959            M401   \n",
       "6   9804018946 2018-07-02 11:19:56     641959            M401   \n",
       "7   9804019337 2018-07-02 13:56:15     642086            M401   \n",
       "8   9804019337 2018-07-02 13:56:15     642086            M401   \n",
       "9   9804019821 2018-07-02 16:27:31     642222            M401   \n",
       "10  9804019821 2018-07-02 16:27:31     642222            M401   \n",
       "11  9804025846 2018-07-01 09:10:12     640977            M402   \n",
       "12  9804025846 2018-07-01 09:10:12     640977            M402   \n",
       "13  9804026735 2018-07-01 17:03:59     641291            M402   \n",
       "14  9804028602 2018-07-02 09:30:43     641809            M402   \n",
       "\n",
       "                      TransportLOC  TransportHospitalCode  \\\n",
       "0   Level 3: 1 Provider (ALS Care)                      3   \n",
       "1   Level 3: 1 Provider (ALS Care)                      3   \n",
       "2   Level 4: 1 Provider (BLS Care)                      3   \n",
       "3   Level 4: 1 Provider (BLS Care)                     16   \n",
       "4   Level 4: 1 Provider (BLS Care)                     16   \n",
       "5   Level 4: 1 Provider (BLS Care)                      3   \n",
       "6   Level 4: 1 Provider (BLS Care)                      3   \n",
       "7   Level 3: 1 Provider (ALS Care)                      3   \n",
       "8   Level 3: 1 Provider (ALS Care)                      3   \n",
       "9   Level 3: 1 Provider (ALS Care)                      3   \n",
       "10  Level 3: 1 Provider (ALS Care)                      3   \n",
       "11  Level 3: 1 Provider (ALS Care)                     16   \n",
       "12  Level 3: 1 Provider (ALS Care)                     16   \n",
       "13  Level 3: 1 Provider (ALS Care)                     16   \n",
       "14  Level 3: 1 Provider (ALS Care)                     16   \n",
       "\n",
       "       TransportHospitalName  \\\n",
       "0   Virginia Hospital Center   \n",
       "1   Virginia Hospital Center   \n",
       "2   Virginia Hospital Center   \n",
       "3           Fairfax Hospital   \n",
       "4           Fairfax Hospital   \n",
       "5   Virginia Hospital Center   \n",
       "6   Virginia Hospital Center   \n",
       "7   Virginia Hospital Center   \n",
       "8   Virginia Hospital Center   \n",
       "9   Virginia Hospital Center   \n",
       "10  Virginia Hospital Center   \n",
       "11          Fairfax Hospital   \n",
       "12          Fairfax Hospital   \n",
       "13          Fairfax Hospital   \n",
       "14          Fairfax Hospital   \n",
       "\n",
       "                            ReasonForChoosingHospital           PatientAge  \\\n",
       "0                   Patient's Choice,Closest Facility              80 - 89   \n",
       "1                   Patient's Choice,Closest Facility              80 - 89   \n",
       "2                                    Patient's Choice              80 - 89   \n",
       "3                                    Closest Facility              40 - 49   \n",
       "4                                    Closest Facility              40 - 49   \n",
       "5   Closest Facility,Family Choice,Patient's Physi...              80 - 89   \n",
       "6   Closest Facility,Family Choice,Patient's Physi...              80 - 89   \n",
       "7       Closest Facility,Patient's Physician's Choice              20 - 29   \n",
       "8       Closest Facility,Patient's Physician's Choice              20 - 29   \n",
       "9                   Closest Facility,Patient's Choice              90 - 99   \n",
       "10                  Closest Facility,Patient's Choice              90 - 99   \n",
       "11                                   Closest Facility              50 - 59   \n",
       "12                                   Closest Facility              50 - 59   \n",
       "13                                   Closest Facility              80 - 89   \n",
       "14                                      Family Choice  2021-01-09 00:00:00   \n",
       "\n",
       "                                    PrimaryImpression  ...  \\\n",
       "0              GI/GU - Nausea (With Vomiting) (R11.2)  ...   \n",
       "1              GI/GU - Nausea (With Vomiting) (R11.2)  ...   \n",
       "2            EENT - Eye Pain (Non-traumatic) (H57.10)  ...   \n",
       "3                              Injury - Foot (S99.92)  ...   \n",
       "4                              Injury - Foot (S99.92)  ...   \n",
       "5                               Injury - Hip (S79.91)  ...   \n",
       "6                               Injury - Hip (S79.91)  ...   \n",
       "7   Neuro - Altered Mental Status / Level of Consc...  ...   \n",
       "8   Neuro - Altered Mental Status / Level of Consc...  ...   \n",
       "9                               Injury - Hip (S79.91)  ...   \n",
       "10                              Injury - Hip (S79.91)  ...   \n",
       "11                             Injury - Face (S09.93)  ...   \n",
       "12                             Injury - Face (S09.93)  ...   \n",
       "13                                   Weakness (R53.1)  ...   \n",
       "14         Pain - Extremity (Non-traumatic) (M79.609)  ...   \n",
       "\n",
       "   DispatchedIncidentType ArrivedIncidentType FinalIncidentType  \\\n",
       "0                     ALS                 ALS               ALS   \n",
       "1                     ALS                 ALS               ALS   \n",
       "2                     BLS                 BLS               BLS   \n",
       "3                     BLS                 BLS               BLS   \n",
       "4                     BLS                 BLS               BLS   \n",
       "5                     BLS                 BLS               BLS   \n",
       "6                     BLS                 BLS               BLS   \n",
       "7                     ALS                 ALS               ALS   \n",
       "8                     ALS                 ALS               ALS   \n",
       "9                     BLS                 ALS               ALS   \n",
       "10                    BLS                 ALS               ALS   \n",
       "11                    BLS                 BLS               BLS   \n",
       "12                    BLS                 BLS               BLS   \n",
       "13                    BLS                 BLS               BLS   \n",
       "14                    ALS                 ALS               ALS   \n",
       "\n",
       "   FinalIncidentTypeDescription             Facility_Name  \\\n",
       "0                ALS EMERGENCY   Virginia Hospital Center   \n",
       "1                ALS EMERGENCY   Virginia Hospital Center   \n",
       "2                BLS EMERGENCY   Virginia Hospital Center   \n",
       "3                BLS EMERGENCY     Inova Fairfax Hospital   \n",
       "4                BLS EMERGENCY     Inova Fairfax Hospital   \n",
       "5                BLS EMERGENCY   Virginia Hospital Center   \n",
       "6                BLS EMERGENCY   Virginia Hospital Center   \n",
       "7                ALS EMERGENCY   Virginia Hospital Center   \n",
       "8                ALS EMERGENCY   Virginia Hospital Center   \n",
       "9                ALS EMERGENCY   Virginia Hospital Center   \n",
       "10               ALS EMERGENCY   Virginia Hospital Center   \n",
       "11               BLS EMERGENCY     Inova Fairfax Hospital   \n",
       "12               BLS EMERGENCY     Inova Fairfax Hospital   \n",
       "13               BLS EMERGENCY     Inova Fairfax Hospital   \n",
       "14               ALS EMERGENCY     Inova Fairfax Hospital   \n",
       "\n",
       "   Facility_Type_Of_Facility  \\\n",
       "0                   Hospital   \n",
       "1                   Hospital   \n",
       "2                   Hospital   \n",
       "3                   Hospital   \n",
       "4                   Hospital   \n",
       "5                   Hospital   \n",
       "6                   Hospital   \n",
       "7                   Hospital   \n",
       "8                   Hospital   \n",
       "9                   Hospital   \n",
       "10                  Hospital   \n",
       "11                  Hospital   \n",
       "12                  Hospital   \n",
       "13                  Hospital   \n",
       "14                  Hospital   \n",
       "\n",
       "                   Facility_Hospital_Designation_List Facility_Latitude  \\\n",
       "0   Designated Stroke Center,Hospital (General),Pe...         38.889271   \n",
       "1   Designated Stroke Center,Hospital (General),Pe...         38.889271   \n",
       "2   Designated Stroke Center,Hospital (General),Pe...         38.889271   \n",
       "3   Designated Stroke Center,Hospital (General),Le...         38.857392   \n",
       "4   Designated Stroke Center,Hospital (General),Le...         38.857392   \n",
       "5   Designated Stroke Center,Hospital (General),Pe...         38.889271   \n",
       "6   Designated Stroke Center,Hospital (General),Pe...         38.889271   \n",
       "7   Designated Stroke Center,Hospital (General),Pe...         38.889271   \n",
       "8   Designated Stroke Center,Hospital (General),Pe...         38.889271   \n",
       "9   Designated Stroke Center,Hospital (General),Pe...         38.889271   \n",
       "10  Designated Stroke Center,Hospital (General),Pe...         38.889271   \n",
       "11  Designated Stroke Center,Hospital (General),Le...         38.857392   \n",
       "12  Designated Stroke Center,Hospital (General),Le...         38.857392   \n",
       "13  Designated Stroke Center,Hospital (General),Le...         38.857392   \n",
       "14  Designated Stroke Center,Hospital (General),Le...         38.857392   \n",
       "\n",
       "   Facility_Longitude                              Facility_Full_Address  \n",
       "0           77.126523   1701 N. George Mason Drive, Arlington, Virgin...  \n",
       "1           77.126523   1701 N. George Mason Drive, Arlington, Virgin...  \n",
       "2           77.126523   1701 N. George Mason Drive, Arlington, Virgin...  \n",
       "3           77.226309  3300 Gallows Road, West Falls Church, Virginia...  \n",
       "4           77.226309  3300 Gallows Road, West Falls Church, Virginia...  \n",
       "5           77.126523   1701 N. George Mason Drive, Arlington, Virgin...  \n",
       "6           77.126523   1701 N. George Mason Drive, Arlington, Virgin...  \n",
       "7           77.126523   1701 N. George Mason Drive, Arlington, Virgin...  \n",
       "8           77.126523   1701 N. George Mason Drive, Arlington, Virgin...  \n",
       "9           77.126523   1701 N. George Mason Drive, Arlington, Virgin...  \n",
       "10          77.126523   1701 N. George Mason Drive, Arlington, Virgin...  \n",
       "11          77.226309  3300 Gallows Road, West Falls Church, Virginia...  \n",
       "12          77.226309  3300 Gallows Road, West Falls Church, Virginia...  \n",
       "13          77.226309  3300 Gallows Road, West Falls Church, Virginia...  \n",
       "14          77.226309  3300 Gallows Road, West Falls Church, Virginia...  \n",
       "\n",
       "[15 rows x 37 columns]"
      ]
     },
     "execution_count": 190,
     "metadata": {},
     "output_type": "execute_result"
    }
   ],
   "source": [
    "incidentpatientunitsfacilitiesmerge.head(15)"
   ]
  },
  {
   "cell_type": "code",
   "execution_count": 191,
   "metadata": {},
   "outputs": [
    {
     "data": {
      "text/plain": [
       "Index(['TransportUnitID', 'TransportLOC', 'TransportHospitalName',\n",
       "       'ReasonForChoosingHospital', 'PatientAge', 'PrimaryImpression',\n",
       "       'SecondaryImpression', 'PatientDisposition', 'ResponseUnitID',\n",
       "       'TransportUnitLOC', 'UnitPrimaryActionTaken', 'UnitOtherActionsTaken',\n",
       "       'UnitStation', 'UnitType', 'UnitTransportedDT',\n",
       "       'UnitTransportedArrivalDT', 'ShiftDay', 'InitialIncidentType',\n",
       "       'DispatchedIncidentType', 'ArrivedIncidentType', 'FinalIncidentType',\n",
       "       'FinalIncidentTypeDescription', 'Facility_Name',\n",
       "       'Facility_Type_Of_Facility', 'Facility_Hospital_Designation_List',\n",
       "       'Facility_Full_Address'],\n",
       "      dtype='object')"
      ]
     },
     "execution_count": 191,
     "metadata": {},
     "output_type": "execute_result"
    }
   ],
   "source": [
    "# Categorical data types\n",
    "incidentpatientunitsfacilitiesmerge.select_dtypes(exclude=['int64','int','int32','float','datetime64[ns]']).columns"
   ]
  },
  {
   "cell_type": "code",
   "execution_count": 192,
   "metadata": {},
   "outputs": [
    {
     "data": {
      "text/plain": [
       "4"
      ]
     },
     "execution_count": 192,
     "metadata": {},
     "output_type": "execute_result"
    }
   ],
   "source": [
    "# \n",
    "incidentpatientunitsfacilitiesmerge.TransportUnitLOC.nunique()"
   ]
  },
  {
   "cell_type": "code",
   "execution_count": 193,
   "metadata": {},
   "outputs": [
    {
     "data": {
      "text/html": [
       "<div>\n",
       "<style scoped>\n",
       "    .dataframe tbody tr th:only-of-type {\n",
       "        vertical-align: middle;\n",
       "    }\n",
       "\n",
       "    .dataframe tbody tr th {\n",
       "        vertical-align: top;\n",
       "    }\n",
       "\n",
       "    .dataframe thead th {\n",
       "        text-align: right;\n",
       "    }\n",
       "</style>\n",
       "<table border=\"1\" class=\"dataframe\">\n",
       "  <thead>\n",
       "    <tr style=\"text-align: right;\">\n",
       "      <th></th>\n",
       "      <th>Dtype</th>\n",
       "      <th>Count of missing</th>\n",
       "      <th>% of missing</th>\n",
       "    </tr>\n",
       "  </thead>\n",
       "  <tbody>\n",
       "    <tr>\n",
       "      <th>PrimaryKey</th>\n",
       "      <td>int64</td>\n",
       "      <td>0</td>\n",
       "      <td>0.000000</td>\n",
       "    </tr>\n",
       "    <tr>\n",
       "      <th>CallConfirmedDT_x</th>\n",
       "      <td>datetime64[ns]</td>\n",
       "      <td>0</td>\n",
       "      <td>0.000000</td>\n",
       "    </tr>\n",
       "    <tr>\n",
       "      <th>PatientID</th>\n",
       "      <td>int64</td>\n",
       "      <td>0</td>\n",
       "      <td>0.000000</td>\n",
       "    </tr>\n",
       "    <tr>\n",
       "      <th>TransportUnitID</th>\n",
       "      <td>object</td>\n",
       "      <td>0</td>\n",
       "      <td>0.000000</td>\n",
       "    </tr>\n",
       "    <tr>\n",
       "      <th>TransportLOC</th>\n",
       "      <td>object</td>\n",
       "      <td>0</td>\n",
       "      <td>0.000000</td>\n",
       "    </tr>\n",
       "    <tr>\n",
       "      <th>TransportHospitalCode</th>\n",
       "      <td>int32</td>\n",
       "      <td>0</td>\n",
       "      <td>0.000000</td>\n",
       "    </tr>\n",
       "    <tr>\n",
       "      <th>TransportHospitalName</th>\n",
       "      <td>object</td>\n",
       "      <td>0</td>\n",
       "      <td>0.000000</td>\n",
       "    </tr>\n",
       "    <tr>\n",
       "      <th>ReasonForChoosingHospital</th>\n",
       "      <td>object</td>\n",
       "      <td>0</td>\n",
       "      <td>0.000000</td>\n",
       "    </tr>\n",
       "    <tr>\n",
       "      <th>PatientAge</th>\n",
       "      <td>object</td>\n",
       "      <td>0</td>\n",
       "      <td>0.000000</td>\n",
       "    </tr>\n",
       "    <tr>\n",
       "      <th>PrimaryImpression</th>\n",
       "      <td>object</td>\n",
       "      <td>0</td>\n",
       "      <td>0.000000</td>\n",
       "    </tr>\n",
       "    <tr>\n",
       "      <th>SecondaryImpression</th>\n",
       "      <td>object</td>\n",
       "      <td>0</td>\n",
       "      <td>0.000000</td>\n",
       "    </tr>\n",
       "    <tr>\n",
       "      <th>PatientDisposition</th>\n",
       "      <td>object</td>\n",
       "      <td>0</td>\n",
       "      <td>0.000000</td>\n",
       "    </tr>\n",
       "    <tr>\n",
       "      <th>CallConfirmedDT_y</th>\n",
       "      <td>datetime64[ns]</td>\n",
       "      <td>0</td>\n",
       "      <td>0.000000</td>\n",
       "    </tr>\n",
       "    <tr>\n",
       "      <th>ResponseUnitID</th>\n",
       "      <td>object</td>\n",
       "      <td>0</td>\n",
       "      <td>0.000000</td>\n",
       "    </tr>\n",
       "    <tr>\n",
       "      <th>TransportUnitLOC</th>\n",
       "      <td>object</td>\n",
       "      <td>0</td>\n",
       "      <td>0.000000</td>\n",
       "    </tr>\n",
       "    <tr>\n",
       "      <th>UnitPrimaryActionTaken</th>\n",
       "      <td>object</td>\n",
       "      <td>0</td>\n",
       "      <td>0.000000</td>\n",
       "    </tr>\n",
       "    <tr>\n",
       "      <th>UnitOtherActionsTaken</th>\n",
       "      <td>object</td>\n",
       "      <td>0</td>\n",
       "      <td>0.000000</td>\n",
       "    </tr>\n",
       "    <tr>\n",
       "      <th>UnitStation</th>\n",
       "      <td>object</td>\n",
       "      <td>0</td>\n",
       "      <td>0.000000</td>\n",
       "    </tr>\n",
       "    <tr>\n",
       "      <th>UnitType</th>\n",
       "      <td>object</td>\n",
       "      <td>0</td>\n",
       "      <td>0.000000</td>\n",
       "    </tr>\n",
       "    <tr>\n",
       "      <th>UnitArrivalOrder</th>\n",
       "      <td>int64</td>\n",
       "      <td>0</td>\n",
       "      <td>0.000000</td>\n",
       "    </tr>\n",
       "    <tr>\n",
       "      <th>UnitTransportedDT</th>\n",
       "      <td>object</td>\n",
       "      <td>0</td>\n",
       "      <td>0.000000</td>\n",
       "    </tr>\n",
       "    <tr>\n",
       "      <th>UnitTransportedArrivalDT</th>\n",
       "      <td>object</td>\n",
       "      <td>0</td>\n",
       "      <td>0.000000</td>\n",
       "    </tr>\n",
       "    <tr>\n",
       "      <th>CallConfirmedDT</th>\n",
       "      <td>datetime64[ns]</td>\n",
       "      <td>743</td>\n",
       "      <td>0.002577</td>\n",
       "    </tr>\n",
       "    <tr>\n",
       "      <th>ShiftDay</th>\n",
       "      <td>object</td>\n",
       "      <td>743</td>\n",
       "      <td>0.002577</td>\n",
       "    </tr>\n",
       "    <tr>\n",
       "      <th>TourOfShift</th>\n",
       "      <td>float64</td>\n",
       "      <td>743</td>\n",
       "      <td>0.002577</td>\n",
       "    </tr>\n",
       "    <tr>\n",
       "      <th>IncidentFirstDue</th>\n",
       "      <td>float64</td>\n",
       "      <td>743</td>\n",
       "      <td>0.002577</td>\n",
       "    </tr>\n",
       "    <tr>\n",
       "      <th>InitialIncidentType</th>\n",
       "      <td>object</td>\n",
       "      <td>743</td>\n",
       "      <td>0.002577</td>\n",
       "    </tr>\n",
       "    <tr>\n",
       "      <th>DispatchedIncidentType</th>\n",
       "      <td>object</td>\n",
       "      <td>743</td>\n",
       "      <td>0.002577</td>\n",
       "    </tr>\n",
       "    <tr>\n",
       "      <th>ArrivedIncidentType</th>\n",
       "      <td>object</td>\n",
       "      <td>743</td>\n",
       "      <td>0.002577</td>\n",
       "    </tr>\n",
       "    <tr>\n",
       "      <th>FinalIncidentType</th>\n",
       "      <td>object</td>\n",
       "      <td>743</td>\n",
       "      <td>0.002577</td>\n",
       "    </tr>\n",
       "    <tr>\n",
       "      <th>FinalIncidentTypeDescription</th>\n",
       "      <td>object</td>\n",
       "      <td>743</td>\n",
       "      <td>0.002577</td>\n",
       "    </tr>\n",
       "    <tr>\n",
       "      <th>Facility_Name</th>\n",
       "      <td>object</td>\n",
       "      <td>2550</td>\n",
       "      <td>0.008845</td>\n",
       "    </tr>\n",
       "    <tr>\n",
       "      <th>Facility_Type_Of_Facility</th>\n",
       "      <td>object</td>\n",
       "      <td>2797</td>\n",
       "      <td>0.009701</td>\n",
       "    </tr>\n",
       "    <tr>\n",
       "      <th>Facility_Hospital_Designation_List</th>\n",
       "      <td>object</td>\n",
       "      <td>4129</td>\n",
       "      <td>0.014321</td>\n",
       "    </tr>\n",
       "    <tr>\n",
       "      <th>Facility_Latitude</th>\n",
       "      <td>float64</td>\n",
       "      <td>3078</td>\n",
       "      <td>0.010676</td>\n",
       "    </tr>\n",
       "    <tr>\n",
       "      <th>Facility_Longitude</th>\n",
       "      <td>float64</td>\n",
       "      <td>3078</td>\n",
       "      <td>0.010676</td>\n",
       "    </tr>\n",
       "    <tr>\n",
       "      <th>Facility_Full_Address</th>\n",
       "      <td>object</td>\n",
       "      <td>2550</td>\n",
       "      <td>0.008845</td>\n",
       "    </tr>\n",
       "  </tbody>\n",
       "</table>\n",
       "</div>"
      ],
      "text/plain": [
       "                                             Dtype  Count of missing  \\\n",
       "PrimaryKey                                   int64                 0   \n",
       "CallConfirmedDT_x                   datetime64[ns]                 0   \n",
       "PatientID                                    int64                 0   \n",
       "TransportUnitID                             object                 0   \n",
       "TransportLOC                                object                 0   \n",
       "TransportHospitalCode                        int32                 0   \n",
       "TransportHospitalName                       object                 0   \n",
       "ReasonForChoosingHospital                   object                 0   \n",
       "PatientAge                                  object                 0   \n",
       "PrimaryImpression                           object                 0   \n",
       "SecondaryImpression                         object                 0   \n",
       "PatientDisposition                          object                 0   \n",
       "CallConfirmedDT_y                   datetime64[ns]                 0   \n",
       "ResponseUnitID                              object                 0   \n",
       "TransportUnitLOC                            object                 0   \n",
       "UnitPrimaryActionTaken                      object                 0   \n",
       "UnitOtherActionsTaken                       object                 0   \n",
       "UnitStation                                 object                 0   \n",
       "UnitType                                    object                 0   \n",
       "UnitArrivalOrder                             int64                 0   \n",
       "UnitTransportedDT                           object                 0   \n",
       "UnitTransportedArrivalDT                    object                 0   \n",
       "CallConfirmedDT                     datetime64[ns]               743   \n",
       "ShiftDay                                    object               743   \n",
       "TourOfShift                                float64               743   \n",
       "IncidentFirstDue                           float64               743   \n",
       "InitialIncidentType                         object               743   \n",
       "DispatchedIncidentType                      object               743   \n",
       "ArrivedIncidentType                         object               743   \n",
       "FinalIncidentType                           object               743   \n",
       "FinalIncidentTypeDescription                object               743   \n",
       "Facility_Name                               object              2550   \n",
       "Facility_Type_Of_Facility                   object              2797   \n",
       "Facility_Hospital_Designation_List          object              4129   \n",
       "Facility_Latitude                          float64              3078   \n",
       "Facility_Longitude                         float64              3078   \n",
       "Facility_Full_Address                       object              2550   \n",
       "\n",
       "                                    % of missing  \n",
       "PrimaryKey                              0.000000  \n",
       "CallConfirmedDT_x                       0.000000  \n",
       "PatientID                               0.000000  \n",
       "TransportUnitID                         0.000000  \n",
       "TransportLOC                            0.000000  \n",
       "TransportHospitalCode                   0.000000  \n",
       "TransportHospitalName                   0.000000  \n",
       "ReasonForChoosingHospital               0.000000  \n",
       "PatientAge                              0.000000  \n",
       "PrimaryImpression                       0.000000  \n",
       "SecondaryImpression                     0.000000  \n",
       "PatientDisposition                      0.000000  \n",
       "CallConfirmedDT_y                       0.000000  \n",
       "ResponseUnitID                          0.000000  \n",
       "TransportUnitLOC                        0.000000  \n",
       "UnitPrimaryActionTaken                  0.000000  \n",
       "UnitOtherActionsTaken                   0.000000  \n",
       "UnitStation                             0.000000  \n",
       "UnitType                                0.000000  \n",
       "UnitArrivalOrder                        0.000000  \n",
       "UnitTransportedDT                       0.000000  \n",
       "UnitTransportedArrivalDT                0.000000  \n",
       "CallConfirmedDT                         0.002577  \n",
       "ShiftDay                                0.002577  \n",
       "TourOfShift                             0.002577  \n",
       "IncidentFirstDue                        0.002577  \n",
       "InitialIncidentType                     0.002577  \n",
       "DispatchedIncidentType                  0.002577  \n",
       "ArrivedIncidentType                     0.002577  \n",
       "FinalIncidentType                       0.002577  \n",
       "FinalIncidentTypeDescription            0.002577  \n",
       "Facility_Name                           0.008845  \n",
       "Facility_Type_Of_Facility               0.009701  \n",
       "Facility_Hospital_Designation_List      0.014321  \n",
       "Facility_Latitude                       0.010676  \n",
       "Facility_Longitude                      0.010676  \n",
       "Facility_Full_Address                   0.008845  "
      ]
     },
     "execution_count": 193,
     "metadata": {},
     "output_type": "execute_result"
    }
   ],
   "source": [
    "view_empty_values(incidentpatientunitsfacilitiesmerge)"
   ]
  },
  {
   "cell_type": "code",
   "execution_count": 194,
   "metadata": {},
   "outputs": [],
   "source": [
    "# TourOfShift: is categorical so converting it to string\n",
    "incidentpatientunitsfacilitiesmerge[\"TourOfShift\"] = incidentpatientunitsfacilitiesmerge.TourOfShift.astype(str)"
   ]
  },
  {
   "cell_type": "code",
   "execution_count": 195,
   "metadata": {},
   "outputs": [],
   "source": [
    "# IncidentFirstDue is within or outside fairfax so converting it to dummy\n",
    "incidentpatientunitsfacilitiesmerge.IncidentFirstDue.fillna(0, inplace=True)\n",
    "# df.loc[df['First season'] > 1990, 'First Season'] = 1\n",
    "incidentpatientunitsfacilitiesmerge.loc[incidentpatientunitsfacilitiesmerge.IncidentFirstDue != 0, \"IncidentFirstDue\"] =1"
   ]
  },
  {
   "cell_type": "code",
   "execution_count": 196,
   "metadata": {},
   "outputs": [
    {
     "data": {
      "text/plain": [
       "(283450, 37)"
      ]
     },
     "execution_count": 196,
     "metadata": {},
     "output_type": "execute_result"
    }
   ],
   "source": [
    "incidentpatientunitsfacilitiesmerge.dropna(inplace=True)\n",
    "incidentpatientunitsfacilitiesmerge.shape"
   ]
  },
  {
   "cell_type": "markdown",
   "metadata": {},
   "source": [
    "####  Model 7 - using Random Forest by removing top 3 influential features\n"
   ]
  },
  {
   "cell_type": "code",
   "execution_count": 197,
   "metadata": {},
   "outputs": [],
   "source": [
    "# InitialIncidentType\tDispatchedIncidentType\tArrivedIncidentType\tFinalIncidentType\tFinalIncidentTypeDescription\n",
    "# Highly corelated features - keeping only one makes sense\n",
    "incidentpatientunitsfacilitiesmerge = incidentpatientunitsfacilitiesmerge.drop(columns= [\"Facility_Latitude\",\"Facility_Longitude\",\"InitialIncidentType\",\"DispatchedIncidentType\",\"ArrivedIncidentType\",\"FinalIncidentTypeDescription\" ])"
   ]
  },
  {
   "cell_type": "code",
   "execution_count": 198,
   "metadata": {},
   "outputs": [],
   "source": [
    "# Nominal values with large variance, like dates\n",
    "incidentpatientunitsfacilitiesmerge = incidentpatientunitsfacilitiesmerge.drop(columns= ['UnitTransportedDT', 'UnitTransportedArrivalDT','UnitOtherActionsTaken','SecondaryImpression'])"
   ]
  },
  {
   "cell_type": "code",
   "execution_count": 199,
   "metadata": {},
   "outputs": [],
   "source": [
    "# Its correlated to 'TransportUnitID_y'\n",
    "incidentpatientunitsfacilitiesmerge = incidentpatientunitsfacilitiesmerge.drop(columns= ['ResponseUnitID'])"
   ]
  },
  {
   "cell_type": "code",
   "execution_count": 200,
   "metadata": {},
   "outputs": [],
   "source": [
    "# Not an important feature for prediction\n",
    "incidentpatientunitsfacilitiesmerge = incidentpatientunitsfacilitiesmerge.drop(columns= ['TransportHospitalName'])"
   ]
  },
  {
   "cell_type": "code",
   "execution_count": 201,
   "metadata": {},
   "outputs": [],
   "source": [
    "incidentpatientunitsfacilitiesmerge = incidentpatientunitsfacilitiesmerge.drop(columns= ['PrimaryKey', 'CallConfirmedDT', 'CallConfirmedDT_x', 'CallConfirmedDT_y'])"
   ]
  },
  {
   "cell_type": "code",
   "execution_count": 202,
   "metadata": {},
   "outputs": [
    {
     "data": {
      "text/plain": [
       "array(['ALS', 'BLS', 'ODF', 'ACCITF', 'SHOTF', 'ACCIF', 'CPRF', 'ACCIMF',\n",
       "       'ACCIHF', 'AMED', 'STABF', 'SUIAF', 'FBLDG', 'CAVEIN', 'FACCIF',\n",
       "       'PSERVF', 'FOUT', 'FTH', 'GFRESCUE', 'DROWNF', 'FHIRIS', 'RTRAP',\n",
       "       'ACCIBF', 'FGAPT', 'RSWIFT', 'GASIN', 'FVEHF', 'CODE1', 'ELEV',\n",
       "       'RWATER', 'INVF', 'SIG1F', 'FDACCITF', 'ASLTWF', 'FHOU', 'RESCUE',\n",
       "       'ALRMFD', 'FDACCIF', 'EMETROF', 'STILALRM', 'ECOD', 'HAZMAT',\n",
       "       'FDACCF', 'MEDICAL', 'FTRKF', 'FDACCIMF', 'RIVERF', 'LOCKF'],\n",
       "      dtype=object)"
      ]
     },
     "execution_count": 202,
     "metadata": {},
     "output_type": "execute_result"
    }
   ],
   "source": [
    "incidentpatientunitsfacilitiesmerge.FinalIncidentType.unique()"
   ]
  },
  {
   "cell_type": "code",
   "execution_count": 203,
   "metadata": {},
   "outputs": [
    {
     "data": {
      "text/plain": [
       "array(['B', 'A', 'C'], dtype=object)"
      ]
     },
     "execution_count": 203,
     "metadata": {},
     "output_type": "execute_result"
    }
   ],
   "source": [
    "# \n",
    "incidentpatientunitsfacilitiesmerge.ShiftDay.unique()"
   ]
  },
  {
   "cell_type": "code",
   "execution_count": 204,
   "metadata": {},
   "outputs": [
    {
     "data": {
      "text/plain": [
       "array([1, 2, 34, 4, 31, 36, 5, 37, 11, 22, 26, 35, 8, 30, 10, 14, 18, 9,\n",
       "       24, 28, 12, 39, 13, 29, 41, 32, 27, 23, 15, 21, 40, 17, 25, 16, 38,\n",
       "       19, 20, 42, 'PRV', 33, 3, 'TA'], dtype=object)"
      ]
     },
     "execution_count": 204,
     "metadata": {},
     "output_type": "execute_result"
    }
   ],
   "source": [
    "# mapping 'PRV' to 111, Drop TA only few values\n",
    "incidentpatientunitsfacilitiesmerge.UnitStation.unique()"
   ]
  },
  {
   "cell_type": "code",
   "execution_count": 208,
   "metadata": {},
   "outputs": [
    {
     "data": {
      "text/plain": [
       "array(['Engine', 'Medic', 'Rescue Squad', 'EMS Supervisor', 'Truck',\n",
       "       'Battalion Chief', 'Safety Officer', 'Hazmat', 'Engine ',\n",
       "       'Volunteer Chief', 'Investigator', 'Light and Air Unit',\n",
       "       'Ambulance', 'Technical Rescue', 'Tanker', 'Inflatable Boat',\n",
       "       'Swift Water', 'Ultra Terrain Vehicle', 'Boat Support',\n",
       "       'Hazmat Support Unit', 'Utility', 'Brush', 'Foam Engine',\n",
       "       'Rescue Engine', 'Lab', 'SHRU', 'Fire Marshal', 'Command Aide',\n",
       "       'Bariatric Unit', 'Foam Unit', 'Fire Boat'], dtype=object)"
      ]
     },
     "execution_count": 208,
     "metadata": {},
     "output_type": "execute_result"
    }
   ],
   "source": [
    "# \n",
    "incidentpatientunitsfacilitiesmerge.UnitType.unique()"
   ]
  },
  {
   "cell_type": "code",
   "execution_count": 209,
   "metadata": {},
   "outputs": [
    {
     "data": {
      "text/plain": [
       "array(['ALS-Paramedic', 'BLS-EMT/EMT-Basic', 'ALS-Intermediate',\n",
       "       'ALS-Physician'], dtype=object)"
      ]
     },
     "execution_count": 209,
     "metadata": {},
     "output_type": "execute_result"
    }
   ],
   "source": [
    "# \n",
    "incidentpatientunitsmerge.TransportUnitLOC.unique()"
   ]
  },
  {
   "cell_type": "code",
   "execution_count": 210,
   "metadata": {},
   "outputs": [
    {
     "data": {
      "text/plain": [
       "array(['M401', 'M402', 'M434', 'M404', 'M436', 'M405', 'M437', 'M426',\n",
       "       'M408', 'M408B', 'M430', 'M410B', 'M409B', 'M409', 'M424', 'M410',\n",
       "       'M428', 'M411B', 'M411', 'M412', 'M439', 'M413', 'M441', 'M432',\n",
       "       'M414', 'M427', 'M423', 'E415', 'M415', 'M421', 'M417', 'M416',\n",
       "       'M438', 'M418', 'M419', 'M420', 'M422', 'M440', 'M435', 'M425',\n",
       "       'M429', 'M442', 'M431', 'M401E', 'E401', 'A410E', 'M412E', 'A422E',\n",
       "       'A402E', 'M422B', 'EMS403', 'R418', 'A414E', 'A421E', 'E411',\n",
       "       'E439', 'A414', 'E418', 'E442', 'M405E', 'A402', 'E440', 'A438E',\n",
       "       'R411', 'TL436', 'M417E', 'A405E', 'E430', 'E423', 'TL440', 'E409',\n",
       "       'A413E', 'E402B', 'TL401', 'A417E', 'M414E', 'E428', 'R439',\n",
       "       'A401E', 'A417', 'HM440', 'R401', 'E405', 'A422', 'TL405', 'E417',\n",
       "       'M422E', 'A437E', 'R421', 'E402', 'E413', 'A410', 'E404', 'E421',\n",
       "       'E410', 'A401', 'A408E', 'M402B', 'A412E', 'E436', 'E432', 'T411',\n",
       "       'E434', 'E437', 'E438', 'TT430', 'E429', 'E420', 'R426', 'E426',\n",
       "       'E408', 'E414', 'M402E', 'A413', 'T430', 'M414B', 'EMS404',\n",
       "       'M401B', 'A422F', 'EMS405', 'E435', 'R414', 'TT410', 'A421',\n",
       "       'T422', 'M417B', 'EMS401', 'E422', 'TL438', 'E424'], dtype=object)"
      ]
     },
     "execution_count": 210,
     "metadata": {},
     "output_type": "execute_result"
    }
   ],
   "source": [
    "incidentpatientunitsmerge.TransportUnitID.unique()"
   ]
  },
  {
   "cell_type": "code",
   "execution_count": 211,
   "metadata": {},
   "outputs": [],
   "source": [
    "# keep only numbers in TransportUnitID\n",
    "incidentpatientunitsfacilitiesmerge['TransportUnitID']  = incidentpatientunitsfacilitiesmerge['TransportUnitID'] .apply(lambda row: re.sub(\"[^0-9]\", \"\", row))"
   ]
  },
  {
   "cell_type": "code",
   "execution_count": 212,
   "metadata": {},
   "outputs": [
    {
     "data": {
      "text/plain": [
       "array(['401', '402', '434', '404', '436', '405', '437', '426', '408',\n",
       "       '430', '410', '409', '424', '428', '411', '412', '439', '413',\n",
       "       '441', '432', '414', '427', '423', '415', '421', '417', '416',\n",
       "       '438', '418', '419', '420', '422', '440', '435', '425', '429',\n",
       "       '442', '431'], dtype=object)"
      ]
     },
     "execution_count": 212,
     "metadata": {},
     "output_type": "execute_result"
    }
   ],
   "source": [
    "incidentpatientunitsfacilitiesmerge.TransportUnitID.unique()"
   ]
  },
  {
   "cell_type": "code",
   "execution_count": 213,
   "metadata": {},
   "outputs": [
    {
     "data": {
      "text/plain": [
       "array([  3,  16,  95,  11,   1,  47,  36, 213, 205, 202, 325,  58, 328,\n",
       "       204, 327, 326, 324,  59, 364, 374, 116, 216])"
      ]
     },
     "execution_count": 213,
     "metadata": {},
     "output_type": "execute_result"
    }
   ],
   "source": [
    "incidentpatientunitsfacilitiesmerge['TransportHospitalCode'].unique()"
   ]
  },
  {
   "cell_type": "code",
   "execution_count": 214,
   "metadata": {},
   "outputs": [
    {
     "name": "stderr",
     "output_type": "stream",
     "text": [
      "D:\\Softwares\\anaconda3\\lib\\site-packages\\pandas\\core\\ops\\array_ops.py:253: FutureWarning: elementwise comparison failed; returning scalar instead, but in the future will perform elementwise comparison\n",
      "  res_values = method(rvalues)\n"
     ]
    }
   ],
   "source": [
    "incidentpatientunitsfacilitiesmerge.loc[incidentpatientunitsfacilitiesmerge['TransportHospitalCode'] == 'No Hospital service', 'TransportHospitalCode'] = 111\n",
    "# incidentpatientunitsfacilitiesmerge['TransportHospitalCode'] = incidentpatientunitsfacilitiesmerge['TransportHospitalCode'].astype(int)"
   ]
  },
  {
   "cell_type": "code",
   "execution_count": 216,
   "metadata": {
    "scrolled": true
   },
   "outputs": [
    {
     "data": {
      "text/plain": [
       "Medic                    134248\n",
       "Engine                   102101\n",
       "Truck                     13027\n",
       "Rescue Squad              11447\n",
       "EMS Supervisor            10480\n",
       "Battalion Chief            3697\n",
       "Safety Officer             2704\n",
       "Engine                     2451\n",
       "Rescue Engine               701\n",
       "Hazmat                      536\n",
       "Ambulance                   381\n",
       "Tanker                      311\n",
       "Foam Engine                 289\n",
       "Investigator                275\n",
       "Volunteer Chief             129\n",
       "Light and Air Unit          112\n",
       "Ultra Terrain Vehicle       109\n",
       "Hazmat Support Unit          99\n",
       "Swift Water                  88\n",
       "Technical Rescue             71\n",
       "Brush                        54\n",
       "Command Aide                 49\n",
       "Boat Support                 24\n",
       "Utility                      18\n",
       "Inflatable Boat              15\n",
       "Bariatric Unit               12\n",
       "SHRU                          9\n",
       "Lab                           6\n",
       "Fire Marshal                  3\n",
       "Fire Boat                     2\n",
       "Foam Unit                     2\n",
       "Name: UnitType, dtype: int64"
      ]
     },
     "execution_count": 216,
     "metadata": {},
     "output_type": "execute_result"
    }
   ],
   "source": [
    "incidentpatientunitsfacilitiesmerge.UnitType.value_counts()"
   ]
  },
  {
   "cell_type": "code",
   "execution_count": 218,
   "metadata": {},
   "outputs": [],
   "source": [
    "# dropping features - correlated to response\n",
    "incidentpatientunitsfacilitiesmerge = incidentpatientunitsfacilitiesmerge.drop(columns= ['Facility_Name','Facility_Full_Address', 'Facility_Type_Of_Facility', \"Facility_Hospital_Designation_List\"])"
   ]
  },
  {
   "cell_type": "code",
   "execution_count": 220,
   "metadata": {},
   "outputs": [],
   "source": [
    "# Drop ID \n",
    "incidentpatientunitsfacilitiesmerge.drop(columns= [\"PatientID\"], inplace=True)"
   ]
  },
  {
   "cell_type": "code",
   "execution_count": 221,
   "metadata": {},
   "outputs": [
    {
     "data": {
      "text/plain": [
       "Index(['TransportUnitID', 'TransportLOC', 'ReasonForChoosingHospital',\n",
       "       'PatientAge', 'PrimaryImpression', 'PatientDisposition',\n",
       "       'TransportUnitLOC', 'UnitPrimaryActionTaken', 'UnitStation', 'UnitType',\n",
       "       'ShiftDay', 'TourOfShift', 'FinalIncidentType'],\n",
       "      dtype='object')"
      ]
     },
     "execution_count": 221,
     "metadata": {},
     "output_type": "execute_result"
    }
   ],
   "source": [
    "# Categorical data types\n",
    "Feature_list = incidentpatientunitsfacilitiesmerge.select_dtypes(exclude=['int64','int','int32','float','datetime64[ns]']).columns\n",
    "Feature_list"
   ]
  },
  {
   "cell_type": "code",
   "execution_count": 222,
   "metadata": {},
   "outputs": [],
   "source": [
    "subset_dataframe_featurelist=[]\n",
    "for variable in Feature_list:\n",
    "    subset_dataframe_featurelist.append(pd.get_dummies(incidentpatientunitsfacilitiesmerge[variable],prefix=variable, dummy_na=False))"
   ]
  },
  {
   "cell_type": "code",
   "execution_count": 223,
   "metadata": {},
   "outputs": [
    {
     "data": {
      "text/plain": [
       "(283450, 714)"
      ]
     },
     "execution_count": 223,
     "metadata": {},
     "output_type": "execute_result"
    }
   ],
   "source": [
    "merged_subset_dataframe_featurelist = pd.concat(subset_dataframe_featurelist, axis=1)\n",
    "merged_subset_dataframe_featurelist.shape"
   ]
  },
  {
   "cell_type": "code",
   "execution_count": 224,
   "metadata": {},
   "outputs": [
    {
     "name": "stdout",
     "output_type": "stream",
     "text": [
      "Wall time: 222 ms\n"
     ]
    },
    {
     "data": {
      "text/plain": [
       "(283450, 730)"
      ]
     },
     "execution_count": 224,
     "metadata": {},
     "output_type": "execute_result"
    }
   ],
   "source": [
    "%%time\n",
    "incidentpatientunitsmerged = pd.concat([merged_subset_dataframe_featurelist, incidentpatientunitsfacilitiesmerge], axis=1)\n",
    "incidentpatientunitsmerged.shape"
   ]
  },
  {
   "cell_type": "code",
   "execution_count": 225,
   "metadata": {},
   "outputs": [
    {
     "data": {
      "text/plain": [
       "(283450, 717)"
      ]
     },
     "execution_count": 225,
     "metadata": {},
     "output_type": "execute_result"
    }
   ],
   "source": [
    "# Drop nominal features already converted in numerical features using get_dummies\n",
    "incidentpatientunitsmerged.drop(Feature_list, axis=1, inplace=True)\n",
    "incidentpatientunitsmerged.shape"
   ]
  },
  {
   "cell_type": "code",
   "execution_count": 226,
   "metadata": {},
   "outputs": [
    {
     "data": {
      "text/html": [
       "<div>\n",
       "<style scoped>\n",
       "    .dataframe tbody tr th:only-of-type {\n",
       "        vertical-align: middle;\n",
       "    }\n",
       "\n",
       "    .dataframe tbody tr th {\n",
       "        vertical-align: top;\n",
       "    }\n",
       "\n",
       "    .dataframe thead th {\n",
       "        text-align: right;\n",
       "    }\n",
       "</style>\n",
       "<table border=\"1\" class=\"dataframe\">\n",
       "  <thead>\n",
       "    <tr style=\"text-align: right;\">\n",
       "      <th></th>\n",
       "      <th>TransportUnitID_401</th>\n",
       "      <th>TransportUnitID_402</th>\n",
       "      <th>TransportUnitID_404</th>\n",
       "      <th>TransportUnitID_405</th>\n",
       "      <th>TransportUnitID_408</th>\n",
       "      <th>TransportUnitID_409</th>\n",
       "      <th>TransportUnitID_410</th>\n",
       "      <th>TransportUnitID_411</th>\n",
       "      <th>TransportUnitID_412</th>\n",
       "      <th>TransportUnitID_413</th>\n",
       "      <th>...</th>\n",
       "      <th>FinalIncidentType_RTRAP</th>\n",
       "      <th>FinalIncidentType_RWATER</th>\n",
       "      <th>FinalIncidentType_SHOTF</th>\n",
       "      <th>FinalIncidentType_SIG1F</th>\n",
       "      <th>FinalIncidentType_STABF</th>\n",
       "      <th>FinalIncidentType_STILALRM</th>\n",
       "      <th>FinalIncidentType_SUIAF</th>\n",
       "      <th>TransportHospitalCode</th>\n",
       "      <th>UnitArrivalOrder</th>\n",
       "      <th>IncidentFirstDue</th>\n",
       "    </tr>\n",
       "  </thead>\n",
       "  <tbody>\n",
       "    <tr>\n",
       "      <th>0</th>\n",
       "      <td>1</td>\n",
       "      <td>0</td>\n",
       "      <td>0</td>\n",
       "      <td>0</td>\n",
       "      <td>0</td>\n",
       "      <td>0</td>\n",
       "      <td>0</td>\n",
       "      <td>0</td>\n",
       "      <td>0</td>\n",
       "      <td>0</td>\n",
       "      <td>...</td>\n",
       "      <td>0</td>\n",
       "      <td>0</td>\n",
       "      <td>0</td>\n",
       "      <td>0</td>\n",
       "      <td>0</td>\n",
       "      <td>0</td>\n",
       "      <td>0</td>\n",
       "      <td>3</td>\n",
       "      <td>2</td>\n",
       "      <td>1.0</td>\n",
       "    </tr>\n",
       "    <tr>\n",
       "      <th>1</th>\n",
       "      <td>1</td>\n",
       "      <td>0</td>\n",
       "      <td>0</td>\n",
       "      <td>0</td>\n",
       "      <td>0</td>\n",
       "      <td>0</td>\n",
       "      <td>0</td>\n",
       "      <td>0</td>\n",
       "      <td>0</td>\n",
       "      <td>0</td>\n",
       "      <td>...</td>\n",
       "      <td>0</td>\n",
       "      <td>0</td>\n",
       "      <td>0</td>\n",
       "      <td>0</td>\n",
       "      <td>0</td>\n",
       "      <td>0</td>\n",
       "      <td>0</td>\n",
       "      <td>3</td>\n",
       "      <td>1</td>\n",
       "      <td>1.0</td>\n",
       "    </tr>\n",
       "    <tr>\n",
       "      <th>2</th>\n",
       "      <td>1</td>\n",
       "      <td>0</td>\n",
       "      <td>0</td>\n",
       "      <td>0</td>\n",
       "      <td>0</td>\n",
       "      <td>0</td>\n",
       "      <td>0</td>\n",
       "      <td>0</td>\n",
       "      <td>0</td>\n",
       "      <td>0</td>\n",
       "      <td>...</td>\n",
       "      <td>0</td>\n",
       "      <td>0</td>\n",
       "      <td>0</td>\n",
       "      <td>0</td>\n",
       "      <td>0</td>\n",
       "      <td>0</td>\n",
       "      <td>0</td>\n",
       "      <td>3</td>\n",
       "      <td>1</td>\n",
       "      <td>1.0</td>\n",
       "    </tr>\n",
       "    <tr>\n",
       "      <th>3</th>\n",
       "      <td>1</td>\n",
       "      <td>0</td>\n",
       "      <td>0</td>\n",
       "      <td>0</td>\n",
       "      <td>0</td>\n",
       "      <td>0</td>\n",
       "      <td>0</td>\n",
       "      <td>0</td>\n",
       "      <td>0</td>\n",
       "      <td>0</td>\n",
       "      <td>...</td>\n",
       "      <td>0</td>\n",
       "      <td>0</td>\n",
       "      <td>0</td>\n",
       "      <td>0</td>\n",
       "      <td>0</td>\n",
       "      <td>0</td>\n",
       "      <td>0</td>\n",
       "      <td>16</td>\n",
       "      <td>1</td>\n",
       "      <td>1.0</td>\n",
       "    </tr>\n",
       "    <tr>\n",
       "      <th>4</th>\n",
       "      <td>1</td>\n",
       "      <td>0</td>\n",
       "      <td>0</td>\n",
       "      <td>0</td>\n",
       "      <td>0</td>\n",
       "      <td>0</td>\n",
       "      <td>0</td>\n",
       "      <td>0</td>\n",
       "      <td>0</td>\n",
       "      <td>0</td>\n",
       "      <td>...</td>\n",
       "      <td>0</td>\n",
       "      <td>0</td>\n",
       "      <td>0</td>\n",
       "      <td>0</td>\n",
       "      <td>0</td>\n",
       "      <td>0</td>\n",
       "      <td>0</td>\n",
       "      <td>16</td>\n",
       "      <td>2</td>\n",
       "      <td>1.0</td>\n",
       "    </tr>\n",
       "  </tbody>\n",
       "</table>\n",
       "<p>5 rows × 717 columns</p>\n",
       "</div>"
      ],
      "text/plain": [
       "   TransportUnitID_401  TransportUnitID_402  TransportUnitID_404  \\\n",
       "0                    1                    0                    0   \n",
       "1                    1                    0                    0   \n",
       "2                    1                    0                    0   \n",
       "3                    1                    0                    0   \n",
       "4                    1                    0                    0   \n",
       "\n",
       "   TransportUnitID_405  TransportUnitID_408  TransportUnitID_409  \\\n",
       "0                    0                    0                    0   \n",
       "1                    0                    0                    0   \n",
       "2                    0                    0                    0   \n",
       "3                    0                    0                    0   \n",
       "4                    0                    0                    0   \n",
       "\n",
       "   TransportUnitID_410  TransportUnitID_411  TransportUnitID_412  \\\n",
       "0                    0                    0                    0   \n",
       "1                    0                    0                    0   \n",
       "2                    0                    0                    0   \n",
       "3                    0                    0                    0   \n",
       "4                    0                    0                    0   \n",
       "\n",
       "   TransportUnitID_413  ...  FinalIncidentType_RTRAP  \\\n",
       "0                    0  ...                        0   \n",
       "1                    0  ...                        0   \n",
       "2                    0  ...                        0   \n",
       "3                    0  ...                        0   \n",
       "4                    0  ...                        0   \n",
       "\n",
       "   FinalIncidentType_RWATER  FinalIncidentType_SHOTF  FinalIncidentType_SIG1F  \\\n",
       "0                         0                        0                        0   \n",
       "1                         0                        0                        0   \n",
       "2                         0                        0                        0   \n",
       "3                         0                        0                        0   \n",
       "4                         0                        0                        0   \n",
       "\n",
       "   FinalIncidentType_STABF  FinalIncidentType_STILALRM  \\\n",
       "0                        0                           0   \n",
       "1                        0                           0   \n",
       "2                        0                           0   \n",
       "3                        0                           0   \n",
       "4                        0                           0   \n",
       "\n",
       "   FinalIncidentType_SUIAF  TransportHospitalCode  UnitArrivalOrder  \\\n",
       "0                        0                      3                 2   \n",
       "1                        0                      3                 1   \n",
       "2                        0                      3                 1   \n",
       "3                        0                     16                 1   \n",
       "4                        0                     16                 2   \n",
       "\n",
       "   IncidentFirstDue  \n",
       "0               1.0  \n",
       "1               1.0  \n",
       "2               1.0  \n",
       "3               1.0  \n",
       "4               1.0  \n",
       "\n",
       "[5 rows x 717 columns]"
      ]
     },
     "execution_count": 226,
     "metadata": {},
     "output_type": "execute_result"
    }
   ],
   "source": [
    "incidentpatientunitsmerged.head(5)"
   ]
  },
  {
   "cell_type": "code",
   "execution_count": 227,
   "metadata": {
    "id": "f2dd8792"
   },
   "outputs": [
    {
     "data": {
      "text/plain": [
       "(283450, 716)"
      ]
     },
     "execution_count": 227,
     "metadata": {},
     "output_type": "execute_result"
    }
   ],
   "source": [
    "X= incidentpatientunitsmerged.drop(columns = ['TransportHospitalCode'])\n",
    "X.shape"
   ]
  },
  {
   "cell_type": "code",
   "execution_count": 228,
   "metadata": {},
   "outputs": [],
   "source": [
    "y = pd.to_numeric(incidentpatientunitsmerged['TransportHospitalCode'])"
   ]
  },
  {
   "cell_type": "code",
   "execution_count": 229,
   "metadata": {},
   "outputs": [
    {
     "data": {
      "text/plain": [
       "((283450, 716), (283450,))"
      ]
     },
     "execution_count": 229,
     "metadata": {},
     "output_type": "execute_result"
    }
   ],
   "source": [
    "X.shape, y.shape"
   ]
  },
  {
   "cell_type": "code",
   "execution_count": 230,
   "metadata": {},
   "outputs": [],
   "source": [
    "# remove weird charachters in column names: https://stackoverflow.com/a/62364946/5977874\n",
    "import re\n",
    "X = X.rename(columns = lambda x:re.sub('[^A-Za-z0-9_]+', '', x))\n",
    "X.drop(columns=\"UnitType_Engine\", inplace=True) # becomes duplicated"
   ]
  },
  {
   "cell_type": "code",
   "execution_count": 231,
   "metadata": {},
   "outputs": [
    {
     "name": "stdout",
     "output_type": "stream",
     "text": [
      "(198415, 714) (85035, 714)\n"
     ]
    }
   ],
   "source": [
    "# Using train_test_split() to randomly split the given training dataset into training and test\n",
    "# data by 70:30 percent ratio respectively. \n",
    "X_train, X_test, y_train, y_test = train_test_split(X, y, test_size=0.3, random_state=20)\n",
    "print(X_train.shape,X_test.shape)"
   ]
  },
  {
   "cell_type": "code",
   "execution_count": 239,
   "metadata": {},
   "outputs": [],
   "source": [
    "clfRandom_2 = RandomForestClassifier(bootstrap=True, random_state=0, class_weight=None, criterion='gini',\n",
    "            max_depth=None, max_features='auto', max_leaf_nodes=None,\n",
    "            min_impurity_decrease=0.0, min_impurity_split=None,\n",
    "            min_samples_leaf=1, min_samples_split=2,\n",
    "            min_weight_fraction_leaf=0.0, n_estimators=25, n_jobs=1,\n",
    "            oob_score=False, verbose=0,\n",
    "            warm_start=False)"
   ]
  },
  {
   "cell_type": "code",
   "execution_count": 240,
   "metadata": {},
   "outputs": [],
   "source": [
    "pipe = Pipeline([\n",
    "    ('rf', clfRandom_2)\n",
    "])"
   ]
  },
  {
   "cell_type": "code",
   "execution_count": 241,
   "metadata": {},
   "outputs": [],
   "source": [
    "parameters = {\n",
    "    'rf__n_estimators': [10,25],\n",
    "    'rf__max_depth': [5,15]\n",
    "    \n",
    "}"
   ]
  },
  {
   "cell_type": "code",
   "execution_count": 242,
   "metadata": {},
   "outputs": [],
   "source": [
    "\n",
    "clf_GS_Model_RF2_1 = GridSearchCV(pipe, parameters, scoring=make_scorer(f1_score, average='weighted'))"
   ]
  },
  {
   "cell_type": "code",
   "execution_count": 243,
   "metadata": {},
   "outputs": [
    {
     "name": "stderr",
     "output_type": "stream",
     "text": [
      "D:\\Softwares\\anaconda3\\lib\\site-packages\\sklearn\\model_selection\\_split.py:667: UserWarning: The least populated class in y has only 4 members, which is less than n_splits=5.\n",
      "  % (min_groups, self.n_splits)), UserWarning)\n"
     ]
    },
    {
     "name": "stdout",
     "output_type": "stream",
     "text": [
      "Wall time: 1min 54s\n"
     ]
    },
    {
     "data": {
      "text/plain": [
       "GridSearchCV(cv=None, error_score=nan,\n",
       "             estimator=Pipeline(memory=None,\n",
       "                                steps=[('rf',\n",
       "                                        RandomForestClassifier(bootstrap=True,\n",
       "                                                               ccp_alpha=0.0,\n",
       "                                                               class_weight=None,\n",
       "                                                               criterion='gini',\n",
       "                                                               max_depth=None,\n",
       "                                                               max_features='auto',\n",
       "                                                               max_leaf_nodes=None,\n",
       "                                                               max_samples=None,\n",
       "                                                               min_impurity_decrease=0.0,\n",
       "                                                               min_impurity_split=None,\n",
       "                                                               min_samples_leaf=1,\n",
       "                                                               min_samples_split=2,\n",
       "                                                               min_weight_fraction_leaf=0.0,\n",
       "                                                               n_estimators=25,\n",
       "                                                               n_jobs=1,\n",
       "                                                               oob_score=False,\n",
       "                                                               random_state=0,\n",
       "                                                               verbose=0,\n",
       "                                                               warm_start=False))],\n",
       "                                verbose=False),\n",
       "             iid='deprecated', n_jobs=None,\n",
       "             param_grid={'rf__max_depth': [5, 15],\n",
       "                         'rf__n_estimators': [10, 25]},\n",
       "             pre_dispatch='2*n_jobs', refit=True, return_train_score=False,\n",
       "             scoring=make_scorer(f1_score, average=weighted), verbose=0)"
      ]
     },
     "execution_count": 243,
     "metadata": {},
     "output_type": "execute_result"
    }
   ],
   "source": [
    "%time clf_GS_Model_RF2_1.fit(X_train, y_train)"
   ]
  },
  {
   "cell_type": "code",
   "execution_count": 244,
   "metadata": {},
   "outputs": [
    {
     "data": {
      "text/html": [
       "<div>\n",
       "<style scoped>\n",
       "    .dataframe tbody tr th:only-of-type {\n",
       "        vertical-align: middle;\n",
       "    }\n",
       "\n",
       "    .dataframe tbody tr th {\n",
       "        vertical-align: top;\n",
       "    }\n",
       "\n",
       "    .dataframe thead th {\n",
       "        text-align: right;\n",
       "    }\n",
       "</style>\n",
       "<table border=\"1\" class=\"dataframe\">\n",
       "  <thead>\n",
       "    <tr style=\"text-align: right;\">\n",
       "      <th></th>\n",
       "      <th>mean_fit_time</th>\n",
       "      <th>std_fit_time</th>\n",
       "      <th>mean_score_time</th>\n",
       "      <th>std_score_time</th>\n",
       "      <th>param_rf__max_depth</th>\n",
       "      <th>param_rf__n_estimators</th>\n",
       "      <th>params</th>\n",
       "      <th>split0_test_score</th>\n",
       "      <th>split1_test_score</th>\n",
       "      <th>split2_test_score</th>\n",
       "      <th>split3_test_score</th>\n",
       "      <th>split4_test_score</th>\n",
       "      <th>mean_test_score</th>\n",
       "      <th>std_test_score</th>\n",
       "      <th>rank_test_score</th>\n",
       "    </tr>\n",
       "  </thead>\n",
       "  <tbody>\n",
       "    <tr>\n",
       "      <th>3</th>\n",
       "      <td>9.216295</td>\n",
       "      <td>0.088850</td>\n",
       "      <td>0.444551</td>\n",
       "      <td>0.006648</td>\n",
       "      <td>15</td>\n",
       "      <td>25</td>\n",
       "      <td>{'rf__max_depth': 15, 'rf__n_estimators': 25}</td>\n",
       "      <td>0.614688</td>\n",
       "      <td>0.641090</td>\n",
       "      <td>0.641221</td>\n",
       "      <td>0.639310</td>\n",
       "      <td>0.628930</td>\n",
       "      <td>0.633048</td>\n",
       "      <td>0.010244</td>\n",
       "      <td>1</td>\n",
       "    </tr>\n",
       "    <tr>\n",
       "      <th>2</th>\n",
       "      <td>4.333713</td>\n",
       "      <td>0.034476</td>\n",
       "      <td>0.279235</td>\n",
       "      <td>0.007882</td>\n",
       "      <td>15</td>\n",
       "      <td>10</td>\n",
       "      <td>{'rf__max_depth': 15, 'rf__n_estimators': 10}</td>\n",
       "      <td>0.602141</td>\n",
       "      <td>0.649968</td>\n",
       "      <td>0.619419</td>\n",
       "      <td>0.628711</td>\n",
       "      <td>0.645240</td>\n",
       "      <td>0.629096</td>\n",
       "      <td>0.017416</td>\n",
       "      <td>2</td>\n",
       "    </tr>\n",
       "    <tr>\n",
       "      <th>0</th>\n",
       "      <td>1.986255</td>\n",
       "      <td>0.036353</td>\n",
       "      <td>0.244863</td>\n",
       "      <td>0.007346</td>\n",
       "      <td>5</td>\n",
       "      <td>10</td>\n",
       "      <td>{'rf__max_depth': 5, 'rf__n_estimators': 10}</td>\n",
       "      <td>0.379695</td>\n",
       "      <td>0.415202</td>\n",
       "      <td>0.399668</td>\n",
       "      <td>0.362834</td>\n",
       "      <td>0.347505</td>\n",
       "      <td>0.380981</td>\n",
       "      <td>0.024380</td>\n",
       "      <td>3</td>\n",
       "    </tr>\n",
       "    <tr>\n",
       "      <th>1</th>\n",
       "      <td>3.756241</td>\n",
       "      <td>0.030608</td>\n",
       "      <td>0.376380</td>\n",
       "      <td>0.017819</td>\n",
       "      <td>5</td>\n",
       "      <td>25</td>\n",
       "      <td>{'rf__max_depth': 5, 'rf__n_estimators': 25}</td>\n",
       "      <td>0.400390</td>\n",
       "      <td>0.420874</td>\n",
       "      <td>0.358504</td>\n",
       "      <td>0.323496</td>\n",
       "      <td>0.328124</td>\n",
       "      <td>0.366278</td>\n",
       "      <td>0.038706</td>\n",
       "      <td>4</td>\n",
       "    </tr>\n",
       "  </tbody>\n",
       "</table>\n",
       "</div>"
      ],
      "text/plain": [
       "   mean_fit_time  std_fit_time  mean_score_time  std_score_time  \\\n",
       "3       9.216295      0.088850         0.444551        0.006648   \n",
       "2       4.333713      0.034476         0.279235        0.007882   \n",
       "0       1.986255      0.036353         0.244863        0.007346   \n",
       "1       3.756241      0.030608         0.376380        0.017819   \n",
       "\n",
       "  param_rf__max_depth param_rf__n_estimators  \\\n",
       "3                  15                     25   \n",
       "2                  15                     10   \n",
       "0                   5                     10   \n",
       "1                   5                     25   \n",
       "\n",
       "                                          params  split0_test_score  \\\n",
       "3  {'rf__max_depth': 15, 'rf__n_estimators': 25}           0.614688   \n",
       "2  {'rf__max_depth': 15, 'rf__n_estimators': 10}           0.602141   \n",
       "0   {'rf__max_depth': 5, 'rf__n_estimators': 10}           0.379695   \n",
       "1   {'rf__max_depth': 5, 'rf__n_estimators': 25}           0.400390   \n",
       "\n",
       "   split1_test_score  split2_test_score  split3_test_score  split4_test_score  \\\n",
       "3           0.641090           0.641221           0.639310           0.628930   \n",
       "2           0.649968           0.619419           0.628711           0.645240   \n",
       "0           0.415202           0.399668           0.362834           0.347505   \n",
       "1           0.420874           0.358504           0.323496           0.328124   \n",
       "\n",
       "   mean_test_score  std_test_score  rank_test_score  \n",
       "3         0.633048        0.010244                1  \n",
       "2         0.629096        0.017416                2  \n",
       "0         0.380981        0.024380                3  \n",
       "1         0.366278        0.038706                4  "
      ]
     },
     "execution_count": 244,
     "metadata": {},
     "output_type": "execute_result"
    }
   ],
   "source": [
    "pd.DataFrame(clf_GS_Model_RF2_1.cv_results_).sort_values(\"rank_test_score\").head(5)"
   ]
  },
  {
   "cell_type": "code",
   "execution_count": 245,
   "metadata": {},
   "outputs": [
    {
     "name": "stdout",
     "output_type": "stream",
     "text": [
      "Best n estimator: 25\n",
      "Best max_depth: 15\n",
      "Best min_samples_split: 2\n"
     ]
    }
   ],
   "source": [
    "# Viewing The Best Parameters\n",
    "print('Best n estimator:', clf_GS_Model_RF2_1.best_estimator_.get_params()['rf__n_estimators'])\n",
    "print('Best max_depth:', clf_GS_Model_RF2_1.best_estimator_.get_params()['rf__max_depth'])\n",
    "print('Best min_samples_split:', clf_GS_Model_RF2_1.best_estimator_.get_params()['rf__min_samples_split'])"
   ]
  },
  {
   "cell_type": "code",
   "execution_count": 246,
   "metadata": {},
   "outputs": [
    {
     "data": {
      "text/plain": [
       "0.6422385352276345"
      ]
     },
     "execution_count": 246,
     "metadata": {},
     "output_type": "execute_result"
    }
   ],
   "source": [
    "y_train_pred = clf_GS_Model_RF2_1.best_estimator_.predict(X_train)\n",
    "# y_train_pred = clfRandom.predict(X_train)\n",
    "\n",
    "f1_score(y_train, y_train_pred,average='weighted')"
   ]
  },
  {
   "cell_type": "code",
   "execution_count": 247,
   "metadata": {},
   "outputs": [
    {
     "name": "stdout",
     "output_type": "stream",
     "text": [
      "              precision    recall  f1-score   support\n",
      "\n",
      "           1       1.00      0.00      0.00     10485\n",
      "           3       0.00      0.00      0.00      9291\n",
      "          11       0.86      0.68      0.76     26677\n",
      "          16       0.63      0.96      0.76     83902\n",
      "          36       0.00      0.00      0.00       226\n",
      "          47       0.83      0.88      0.85     23313\n",
      "          58       0.00      0.00      0.00       375\n",
      "          59       0.00      0.00      0.00       189\n",
      "          95       0.87      0.74      0.80     28978\n",
      "         116       0.00      0.00      0.00         4\n",
      "         202       0.00      0.00      0.00      1148\n",
      "         204       0.00      0.00      0.00       220\n",
      "         205       0.00      0.00      0.00      7072\n",
      "         213       1.00      0.00      0.01      4829\n",
      "         216       0.00      0.00      0.00        12\n",
      "         324       0.00      0.00      0.00       140\n",
      "         325       0.00      0.00      0.00       427\n",
      "         326       0.00      0.00      0.00       112\n",
      "         327       1.00      0.08      0.15       164\n",
      "         328       0.00      0.00      0.00       105\n",
      "         364       0.00      0.00      0.00        15\n",
      "         374       0.00      0.00      0.00       731\n",
      "\n",
      "    accuracy                           0.71    198415\n",
      "   macro avg       0.28      0.15      0.15    198415\n",
      "weighted avg       0.69      0.71      0.64    198415\n",
      "\n"
     ]
    },
    {
     "name": "stderr",
     "output_type": "stream",
     "text": [
      "D:\\Softwares\\anaconda3\\lib\\site-packages\\sklearn\\metrics\\_classification.py:1272: UndefinedMetricWarning: Precision and F-score are ill-defined and being set to 0.0 in labels with no predicted samples. Use `zero_division` parameter to control this behavior.\n",
      "  _warn_prf(average, modifier, msg_start, len(result))\n"
     ]
    }
   ],
   "source": [
    "print(classification_report(y_train,y_train_pred))"
   ]
  },
  {
   "cell_type": "code",
   "execution_count": 248,
   "metadata": {},
   "outputs": [
    {
     "data": {
      "text/plain": [
       "0.710218481465615"
      ]
     },
     "execution_count": 248,
     "metadata": {},
     "output_type": "execute_result"
    }
   ],
   "source": [
    "accuracy_score(y_train, y_train_pred)"
   ]
  },
  {
   "cell_type": "code",
   "execution_count": 254,
   "metadata": {},
   "outputs": [
    {
     "data": {
      "text/plain": [
       "(0.7062974069500794, 0.638729413740135)"
      ]
     },
     "execution_count": 254,
     "metadata": {},
     "output_type": "execute_result"
    }
   ],
   "source": [
    "y_test_pred = clf_GS_Model_RF2_1.best_estimator_.predict(X_test)\n",
    "# y_cross_validation_pred= clfRandom.predict(X_cross_validation)\n",
    "accuracy_score(y_test,y_test_pred), f1_score(y_test, y_test_pred, average='weighted')"
   ]
  },
  {
   "cell_type": "code",
   "execution_count": 255,
   "metadata": {},
   "outputs": [
    {
     "name": "stdout",
     "output_type": "stream",
     "text": [
      "              precision    recall  f1-score   support\n",
      "\n",
      "           1       1.00      0.00      0.00      4462\n",
      "           3       0.00      0.00      0.00      3937\n",
      "          11       0.84      0.67      0.75     11431\n",
      "          16       0.63      0.96      0.76     35909\n",
      "          36       0.00      0.00      0.00       108\n",
      "          47       0.83      0.88      0.85     10260\n",
      "          58       0.00      0.00      0.00       166\n",
      "          59       0.00      0.00      0.00        84\n",
      "          95       0.86      0.74      0.79     12313\n",
      "         116       0.00      0.00      0.00         2\n",
      "         202       0.00      0.00      0.00       481\n",
      "         204       0.00      0.00      0.00        94\n",
      "         205       0.00      0.00      0.00      3055\n",
      "         213       1.00      0.00      0.00      2012\n",
      "         216       0.00      0.00      0.00         5\n",
      "         324       0.00      0.00      0.00        54\n",
      "         325       0.00      0.00      0.00       176\n",
      "         326       0.00      0.00      0.00        66\n",
      "         327       1.00      0.02      0.05        82\n",
      "         328       0.00      0.00      0.00        31\n",
      "         364       0.00      0.00      0.00         5\n",
      "         374       0.00      0.00      0.00       302\n",
      "\n",
      "    accuracy                           0.71     85035\n",
      "   macro avg       0.28      0.15      0.15     85035\n",
      "weighted avg       0.68      0.71      0.64     85035\n",
      "\n"
     ]
    },
    {
     "name": "stderr",
     "output_type": "stream",
     "text": [
      "D:\\Softwares\\anaconda3\\lib\\site-packages\\sklearn\\metrics\\_classification.py:1272: UndefinedMetricWarning: Precision and F-score are ill-defined and being set to 0.0 in labels with no predicted samples. Use `zero_division` parameter to control this behavior.\n",
      "  _warn_prf(average, modifier, msg_start, len(result))\n"
     ]
    }
   ],
   "source": [
    "print(classification_report(y_test,y_test_pred))"
   ]
  },
  {
   "cell_type": "code",
   "execution_count": 256,
   "metadata": {},
   "outputs": [],
   "source": [
    "clfRandom = clf_GS_Model_RF2_1.best_estimator_"
   ]
  },
  {
   "cell_type": "code",
   "execution_count": 257,
   "metadata": {},
   "outputs": [],
   "source": [
    "clfRandom = clf_GS_Model_RF2_1.best_estimator_.get_params()[\"rf\"]"
   ]
  },
  {
   "cell_type": "code",
   "execution_count": 258,
   "metadata": {},
   "outputs": [
    {
     "name": "stdout",
     "output_type": "stream",
     "text": [
      "Wall time: 11.3 s\n"
     ]
    },
    {
     "data": {
      "text/plain": [
       "RandomForestClassifier(bootstrap=True, ccp_alpha=0.0, class_weight=None,\n",
       "                       criterion='gini', max_depth=15, max_features='auto',\n",
       "                       max_leaf_nodes=None, max_samples=None,\n",
       "                       min_impurity_decrease=0.0, min_impurity_split=None,\n",
       "                       min_samples_leaf=1, min_samples_split=2,\n",
       "                       min_weight_fraction_leaf=0.0, n_estimators=25, n_jobs=1,\n",
       "                       oob_score=False, random_state=0, verbose=0,\n",
       "                       warm_start=False)"
      ]
     },
     "execution_count": 258,
     "metadata": {},
     "output_type": "execute_result"
    }
   ],
   "source": [
    "%time clfRandom.fit(X_train, y_train)"
   ]
  },
  {
   "cell_type": "code",
   "execution_count": 259,
   "metadata": {},
   "outputs": [],
   "source": [
    "y_test_pred= clfRandom.predict(X_test)"
   ]
  },
  {
   "cell_type": "code",
   "execution_count": 260,
   "metadata": {},
   "outputs": [
    {
     "data": {
      "text/plain": [
       "Text(0.5, 0, 'Random Forest Feature Importance')"
      ]
     },
     "execution_count": 260,
     "metadata": {},
     "output_type": "execute_result"
    },
    {
     "data": {
      "image/png": "[encoded data removed]",
      "text/plain": [
       "<Figure size 432x288 with 1 Axes>"
      ]
     },
     "metadata": {
      "needs_background": "light"
     },
     "output_type": "display_data"
    }
   ],
   "source": [
    "sorted_idx = clfRandom.feature_importances_.argsort()\n",
    "plt.barh(X.columns[sorted_idx[-20:]], clfRandom.feature_importances_[sorted_idx[-20:]])\n",
    "plt.xlabel(\"Random Forest Feature Importance\")"
   ]
  },
  {
   "cell_type": "code",
   "execution_count": 261,
   "metadata": {},
   "outputs": [
    {
     "data": {
      "text/plain": [
       "UnitPrimaryActionTaken_Establishsafearea                                            1\n",
       "UnitStation_23                                                                      1\n",
       "PrimaryImpression_OBPostpartumHemorrhageO72                                         1\n",
       "UnitType_CommandAide                                                                1\n",
       "ReasonForChoosingHospital_ProtocolPatientsChoiceFamilyChoice                        1\n",
       "                                                                                   ..\n",
       "ReasonForChoosingHospital_PatientsChoiceFamilyChoiceInsuranceStatusRequirement      1\n",
       "UnitStation_41                                                                      1\n",
       "ReasonForChoosingHospital_PatientsPhysiciansChoiceLawEnforcementChoice              1\n",
       "ReasonForChoosingHospital_PatientsPhysiciansChoiceFamilyChoiceClosestFacility       1\n",
       "ReasonForChoosingHospital_PatientsChoiceSpecialtyCenterTraumaSTEMIStrokeProtocol    1\n",
       "Length: 714, dtype: int64"
      ]
     },
     "execution_count": 261,
     "metadata": {},
     "output_type": "execute_result"
    }
   ],
   "source": [
    "pd.Series(X.columns).value_counts()"
   ]
  },
  {
   "cell_type": "markdown",
   "metadata": {},
   "source": [
    "#### Model 8 - using LightGBM "
   ]
  },
  {
   "cell_type": "code",
   "execution_count": 262,
   "metadata": {},
   "outputs": [],
   "source": [
    "from lightgbm import LGBMClassifier"
   ]
  },
  {
   "cell_type": "code",
   "execution_count": 264,
   "metadata": {},
   "outputs": [
    {
     "name": "stdout",
     "output_type": "stream",
     "text": [
      "Wall time: 13.5 s\n"
     ]
    }
   ],
   "source": [
    "lgb = LGBMClassifier(random_state=12)\n",
    "%time lgb.fit(X_train, y_train)\n",
    "y_train_pred= lgb.predict(X_train)\n",
    "y_test_pred= lgb.predict(X_test)"
   ]
  },
  {
   "cell_type": "code",
   "execution_count": 265,
   "metadata": {},
   "outputs": [
    {
     "data": {
      "text/plain": [
       "Text(0.5, 0, 'Random Forest Feature Importance')"
      ]
     },
     "execution_count": 265,
     "metadata": {},
     "output_type": "execute_result"
    },
    {
     "data": {
      "image/png": "[encoded data removed]",
      "text/plain": [
       "<Figure size 432x288 with 1 Axes>"
      ]
     },
     "metadata": {
      "needs_background": "light"
     },
     "output_type": "display_data"
    }
   ],
   "source": [
    "sorted_idx = lgb.feature_importances_.argsort()\n",
    "plt.barh(X.columns[sorted_idx[-20:]], lgb.feature_importances_[sorted_idx[-20:]])\n",
    "plt.xlabel(\"Random Forest Feature Importance\")"
   ]
  },
  {
   "cell_type": "code",
   "execution_count": 266,
   "metadata": {},
   "outputs": [
    {
     "data": {
      "text/plain": [
       "(0.7130509286092281, 0.7152509756129025)"
      ]
     },
     "execution_count": 266,
     "metadata": {},
     "output_type": "execute_result"
    }
   ],
   "source": [
    "accuracy_score(y_train, y_train_pred), f1_score(y_train, y_train_pred, average='weighted')"
   ]
  },
  {
   "cell_type": "code",
   "execution_count": 267,
   "metadata": {},
   "outputs": [
    {
     "data": {
      "text/plain": [
       "(0.6955018521785147, 0.7013008927088209)"
      ]
     },
     "execution_count": 267,
     "metadata": {},
     "output_type": "execute_result"
    }
   ],
   "source": [
    "accuracy_score(y_test,y_test_pred), f1_score(y_test, y_test_pred, average='weighted')"
   ]
  },
  {
   "cell_type": "code",
   "execution_count": 271,
   "metadata": {},
   "outputs": [],
   "source": [
    "prob = lgb.predict_proba(X)\n",
    "pred = lgb.predict(X)"
   ]
  },
  {
   "cell_type": "code",
   "execution_count": 282,
   "metadata": {},
   "outputs": [],
   "source": [
    "import numpy as np"
   ]
  },
  {
   "cell_type": "code",
   "execution_count": 287,
   "metadata": {},
   "outputs": [],
   "source": [
    "incidentpatientunitsfacilitiesmerge[\"model_probability\"] = np.max(prob, axis=1)\n",
    "incidentpatientunitsfacilitiesmerge[\"model_prediction\"] = pred"
   ]
  },
  {
   "cell_type": "code",
   "execution_count": 383,
   "metadata": {},
   "outputs": [],
   "source": [
    "incidentpatientunitsfacilitiesmerge[\"result\"] = incidentpatientunitsfacilitiesmerge.TransportUnitID != incidentpatientunitsfacilitiesmerge.model_prediction"
   ]
  },
  {
   "cell_type": "code",
   "execution_count": 385,
   "metadata": {},
   "outputs": [
    {
     "data": {
      "text/plain": [
       "True    283450\n",
       "Name: result, dtype: int64"
      ]
     },
     "execution_count": 385,
     "metadata": {},
     "output_type": "execute_result"
    }
   ],
   "source": [
    "incidentpatientunitsfacilitiesmerge[\"result\"].value_counts()"
   ]
  },
  {
   "cell_type": "code",
   "execution_count": 330,
   "metadata": {},
   "outputs": [],
   "source": [
    "incidentpatientunitsfacilitiesmerge.to_excel(\"dataset/model_predictions.xlsx\", index=False)"
   ]
  },
  {
   "cell_type": "markdown",
   "metadata": {},
   "source": [
    "## Analyze Data"
   ]
  },
  {
   "cell_type": "code",
   "execution_count": 20,
   "metadata": {},
   "outputs": [],
   "source": [
    "import pandas as pd"
   ]
  },
  {
   "cell_type": "code",
   "execution_count": 21,
   "metadata": {},
   "outputs": [
    {
     "data": {
      "text/plain": [
       "(127624, 19)"
      ]
     },
     "execution_count": 21,
     "metadata": {},
     "output_type": "execute_result"
    }
   ],
   "source": [
    "incidentpatientunitsfacilitiesmerge = pd.read_excel(\"dataset/model_predictions.xlsx\")\n",
    "incidentpatientunitsfacilitiesmerge.shape"
   ]
  },
  {
   "cell_type": "code",
   "execution_count": 22,
   "metadata": {},
   "outputs": [],
   "source": [
    "feature = \"ReasonForChoosingHospital\"\n",
    "confidence_threshold = 0.9"
   ]
  },
  {
   "cell_type": "code",
   "execution_count": 23,
   "metadata": {},
   "outputs": [],
   "source": [
    "def analyze_feature(df:pd.DataFrame, feature:str, confidence_threshold: float=0.9, min_records:int=10):\n",
    "    t1 = df[feature].value_counts()\n",
    "    mismatch = df[df.TransportHospitalCode != df.model_prediction]\n",
    "    t2 = mismatch[mismatch.model_probability >= confidence_threshold][feature].value_counts()\n",
    "    t3 = pd.concat([t1, t2], axis=1).reset_index()\n",
    "    t3.columns = [feature, \"total_count\", \"mismatch_count\"]\n",
    "    t3 = t3[t3.total_count>= min_records]\n",
    "    t3[\"percentage_of_mismatch\"] = (t3.mismatch_count / t3.total_count )*100\n",
    "    return t3.sort_values(\"percentage_of_mismatch\", ascending=False)"
   ]
  },
  {
   "cell_type": "code",
   "execution_count": 9,
   "metadata": {},
   "outputs": [
    {
     "data": {
      "text/html": [
       "<div>\n",
       "<style scoped>\n",
       "    .dataframe tbody tr th:only-of-type {\n",
       "        vertical-align: middle;\n",
       "    }\n",
       "\n",
       "    .dataframe tbody tr th {\n",
       "        vertical-align: top;\n",
       "    }\n",
       "\n",
       "    .dataframe thead th {\n",
       "        text-align: right;\n",
       "    }\n",
       "</style>\n",
       "<table border=\"1\" class=\"dataframe\">\n",
       "  <thead>\n",
       "    <tr style=\"text-align: right;\">\n",
       "      <th></th>\n",
       "      <th>ReasonForChoosingHospital</th>\n",
       "      <th>total_count</th>\n",
       "      <th>mismatch_count</th>\n",
       "      <th>percentage_of_mismatch</th>\n",
       "    </tr>\n",
       "  </thead>\n",
       "  <tbody>\n",
       "    <tr>\n",
       "      <th>47</th>\n",
       "      <td>Patient's Physician's Choice,Family Choice</td>\n",
       "      <td>60</td>\n",
       "      <td>2.0</td>\n",
       "      <td>30.0</td>\n",
       "    </tr>\n",
       "    <tr>\n",
       "      <th>61</th>\n",
       "      <td>Patient's Choice,Protocol,Closest Facility</td>\n",
       "      <td>28</td>\n",
       "      <td>1.0</td>\n",
       "      <td>28.0</td>\n",
       "    </tr>\n",
       "    <tr>\n",
       "      <th>37</th>\n",
       "      <td>Specialty Center (Trauma, STEMI, Stroke),Protocol</td>\n",
       "      <td>104</td>\n",
       "      <td>4.0</td>\n",
       "      <td>26.0</td>\n",
       "    </tr>\n",
       "    <tr>\n",
       "      <th>62</th>\n",
       "      <td>Specialty Center (Trauma, STEMI, Stroke),Close...</td>\n",
       "      <td>26</td>\n",
       "      <td>1.0</td>\n",
       "      <td>26.0</td>\n",
       "    </tr>\n",
       "    <tr>\n",
       "      <th>64</th>\n",
       "      <td>Patient's Choice,Family Choice,Specialty Cente...</td>\n",
       "      <td>25</td>\n",
       "      <td>1.0</td>\n",
       "      <td>25.0</td>\n",
       "    </tr>\n",
       "    <tr>\n",
       "      <th>...</th>\n",
       "      <td>...</td>\n",
       "      <td>...</td>\n",
       "      <td>...</td>\n",
       "      <td>...</td>\n",
       "    </tr>\n",
       "    <tr>\n",
       "      <th>84</th>\n",
       "      <td>Closest Facility,Patient's Choice,Family Choic...</td>\n",
       "      <td>14</td>\n",
       "      <td>NaN</td>\n",
       "      <td>NaN</td>\n",
       "    </tr>\n",
       "    <tr>\n",
       "      <th>85</th>\n",
       "      <td>Closest Facility,Specialty Center (Trauma, STE...</td>\n",
       "      <td>14</td>\n",
       "      <td>NaN</td>\n",
       "      <td>NaN</td>\n",
       "    </tr>\n",
       "    <tr>\n",
       "      <th>86</th>\n",
       "      <td>Patient's Choice,Diversion</td>\n",
       "      <td>13</td>\n",
       "      <td>NaN</td>\n",
       "      <td>NaN</td>\n",
       "    </tr>\n",
       "    <tr>\n",
       "      <th>90</th>\n",
       "      <td>Specialty Center (Trauma, STEMI, Stroke),Close...</td>\n",
       "      <td>12</td>\n",
       "      <td>NaN</td>\n",
       "      <td>NaN</td>\n",
       "    </tr>\n",
       "    <tr>\n",
       "      <th>92</th>\n",
       "      <td>Family Choice,Closest Facility,Patient's Choice</td>\n",
       "      <td>12</td>\n",
       "      <td>NaN</td>\n",
       "      <td>NaN</td>\n",
       "    </tr>\n",
       "  </tbody>\n",
       "</table>\n",
       "<p>98 rows × 4 columns</p>\n",
       "</div>"
      ],
      "text/plain": [
       "                            ReasonForChoosingHospital  total_count  \\\n",
       "47         Patient's Physician's Choice,Family Choice           60   \n",
       "61         Patient's Choice,Protocol,Closest Facility           28   \n",
       "37  Specialty Center (Trauma, STEMI, Stroke),Protocol          104   \n",
       "62  Specialty Center (Trauma, STEMI, Stroke),Close...           26   \n",
       "64  Patient's Choice,Family Choice,Specialty Cente...           25   \n",
       "..                                                ...          ...   \n",
       "84  Closest Facility,Patient's Choice,Family Choic...           14   \n",
       "85  Closest Facility,Specialty Center (Trauma, STE...           14   \n",
       "86                         Patient's Choice,Diversion           13   \n",
       "90  Specialty Center (Trauma, STEMI, Stroke),Close...           12   \n",
       "92    Family Choice,Closest Facility,Patient's Choice           12   \n",
       "\n",
       "    mismatch_count  percentage_of_mismatch  \n",
       "47             2.0                    30.0  \n",
       "61             1.0                    28.0  \n",
       "37             4.0                    26.0  \n",
       "62             1.0                    26.0  \n",
       "64             1.0                    25.0  \n",
       "..             ...                     ...  \n",
       "84             NaN                     NaN  \n",
       "85             NaN                     NaN  \n",
       "86             NaN                     NaN  \n",
       "90             NaN                     NaN  \n",
       "92             NaN                     NaN  \n",
       "\n",
       "[98 rows x 4 columns]"
      ]
     },
     "execution_count": 9,
     "metadata": {},
     "output_type": "execute_result"
    }
   ],
   "source": [
    "analyze_feature(incidentpatientunitsfacilitiesmerge, \"ReasonForChoosingHospital\")"
   ]
  },
  {
   "cell_type": "code",
   "execution_count": 12,
   "metadata": {},
   "outputs": [
    {
     "data": {
      "text/html": [
       "<div>\n",
       "<style scoped>\n",
       "    .dataframe tbody tr th:only-of-type {\n",
       "        vertical-align: middle;\n",
       "    }\n",
       "\n",
       "    .dataframe tbody tr th {\n",
       "        vertical-align: top;\n",
       "    }\n",
       "\n",
       "    .dataframe thead th {\n",
       "        text-align: right;\n",
       "    }\n",
       "</style>\n",
       "<table border=\"1\" class=\"dataframe\">\n",
       "  <thead>\n",
       "    <tr style=\"text-align: right;\">\n",
       "      <th></th>\n",
       "      <th>PrimaryImpression</th>\n",
       "      <th>total_count</th>\n",
       "      <th>mismatch_count</th>\n",
       "      <th>percentage_of_mismatch</th>\n",
       "    </tr>\n",
       "  </thead>\n",
       "  <tbody>\n",
       "    <tr>\n",
       "      <th>1</th>\n",
       "      <td>Respiratory - Acute Distress/ Breathing Diffic...</td>\n",
       "      <td>172</td>\n",
       "      <td>131.0</td>\n",
       "      <td>76.162791</td>\n",
       "    </tr>\n",
       "    <tr>\n",
       "      <th>0</th>\n",
       "      <td>Weakness (R53.1)</td>\n",
       "      <td>177</td>\n",
       "      <td>132.0</td>\n",
       "      <td>74.576271</td>\n",
       "    </tr>\n",
       "    <tr>\n",
       "      <th>2</th>\n",
       "      <td>Syncope - Syncopal/Fainting Episode (or Near) ...</td>\n",
       "      <td>108</td>\n",
       "      <td>78.0</td>\n",
       "      <td>72.222222</td>\n",
       "    </tr>\n",
       "  </tbody>\n",
       "</table>\n",
       "</div>"
      ],
      "text/plain": [
       "                                   PrimaryImpression  total_count  \\\n",
       "1  Respiratory - Acute Distress/ Breathing Diffic...          172   \n",
       "0                                   Weakness (R53.1)          177   \n",
       "2  Syncope - Syncopal/Fainting Episode (or Near) ...          108   \n",
       "\n",
       "   mismatch_count  percentage_of_mismatch  \n",
       "1           131.0               76.162791  \n",
       "0           132.0               74.576271  \n",
       "2            78.0               72.222222  "
      ]
     },
     "execution_count": 12,
     "metadata": {},
     "output_type": "execute_result"
    }
   ],
   "source": [
    "analyze_feature(incidentpatientunitsfacilitiesmerge[incidentpatientunitsfacilitiesmerge.ReasonForChoosingHospital== \"Patient's Choice,Family Choice\"], \n",
    "                                                    \"PrimaryImpression\",\n",
    "                                                    0.9, 100)"
   ]
  },
  {
   "cell_type": "code",
   "execution_count": 13,
   "metadata": {},
   "outputs": [
    {
     "data": {
      "text/html": [
       "<div>\n",
       "<style scoped>\n",
       "    .dataframe tbody tr th:only-of-type {\n",
       "        vertical-align: middle;\n",
       "    }\n",
       "\n",
       "    .dataframe tbody tr th {\n",
       "        vertical-align: top;\n",
       "    }\n",
       "\n",
       "    .dataframe thead th {\n",
       "        text-align: right;\n",
       "    }\n",
       "</style>\n",
       "<table border=\"1\" class=\"dataframe\">\n",
       "  <thead>\n",
       "    <tr style=\"text-align: right;\">\n",
       "      <th></th>\n",
       "      <th>PrimaryImpression</th>\n",
       "      <th>total_count</th>\n",
       "      <th>mismatch_count</th>\n",
       "      <th>percentage_of_mismatch</th>\n",
       "    </tr>\n",
       "  </thead>\n",
       "  <tbody>\n",
       "    <tr>\n",
       "      <th>1</th>\n",
       "      <td>Respiratory - Acute Distress/ Breathing Diffic...</td>\n",
       "      <td>172</td>\n",
       "      <td>131.0</td>\n",
       "      <td>76.162791</td>\n",
       "    </tr>\n",
       "    <tr>\n",
       "      <th>0</th>\n",
       "      <td>Weakness (R53.1)</td>\n",
       "      <td>177</td>\n",
       "      <td>132.0</td>\n",
       "      <td>74.576271</td>\n",
       "    </tr>\n",
       "    <tr>\n",
       "      <th>2</th>\n",
       "      <td>Syncope - Syncopal/Fainting Episode (or Near) ...</td>\n",
       "      <td>108</td>\n",
       "      <td>78.0</td>\n",
       "      <td>72.222222</td>\n",
       "    </tr>\n",
       "  </tbody>\n",
       "</table>\n",
       "</div>"
      ],
      "text/plain": [
       "                                   PrimaryImpression  total_count  \\\n",
       "1  Respiratory - Acute Distress/ Breathing Diffic...          172   \n",
       "0                                   Weakness (R53.1)          177   \n",
       "2  Syncope - Syncopal/Fainting Episode (or Near) ...          108   \n",
       "\n",
       "   mismatch_count  percentage_of_mismatch  \n",
       "1           131.0               76.162791  \n",
       "0           132.0               74.576271  \n",
       "2            78.0               72.222222  "
      ]
     },
     "execution_count": 13,
     "metadata": {},
     "output_type": "execute_result"
    }
   ],
   "source": [
    "analyze_feature(incidentpatientunitsfacilitiesmerge[incidentpatientunitsfacilitiesmerge.ReasonForChoosingHospital== \"Patient's Choice,Family Choice\"], \n",
    "                                                    \"PrimaryImpression\",\n",
    "                                                    0.9, 100)"
   ]
  },
  {
   "cell_type": "code",
   "execution_count": 18,
   "metadata": {},
   "outputs": [
    {
     "data": {
      "text/html": [
       "<div>\n",
       "<style scoped>\n",
       "    .dataframe tbody tr th:only-of-type {\n",
       "        vertical-align: middle;\n",
       "    }\n",
       "\n",
       "    .dataframe tbody tr th {\n",
       "        vertical-align: top;\n",
       "    }\n",
       "\n",
       "    .dataframe thead th {\n",
       "        text-align: right;\n",
       "    }\n",
       "</style>\n",
       "<table border=\"1\" class=\"dataframe\">\n",
       "  <thead>\n",
       "    <tr style=\"text-align: right;\">\n",
       "      <th></th>\n",
       "      <th>TransportUnitID</th>\n",
       "      <th>total_count</th>\n",
       "      <th>mismatch_count</th>\n",
       "      <th>percentage_of_mismatch</th>\n",
       "    </tr>\n",
       "  </thead>\n",
       "  <tbody>\n",
       "    <tr>\n",
       "      <th>2</th>\n",
       "      <td>404</td>\n",
       "      <td>7869</td>\n",
       "      <td>431</td>\n",
       "      <td>18.257541</td>\n",
       "    </tr>\n",
       "    <tr>\n",
       "      <th>21</th>\n",
       "      <td>425</td>\n",
       "      <td>9374</td>\n",
       "      <td>681</td>\n",
       "      <td>13.765051</td>\n",
       "    </tr>\n",
       "    <tr>\n",
       "      <th>37</th>\n",
       "      <td>442</td>\n",
       "      <td>4593</td>\n",
       "      <td>366</td>\n",
       "      <td>12.549180</td>\n",
       "    </tr>\n",
       "    <tr>\n",
       "      <th>5</th>\n",
       "      <td>409</td>\n",
       "      <td>15743</td>\n",
       "      <td>1345</td>\n",
       "      <td>11.704833</td>\n",
       "    </tr>\n",
       "    <tr>\n",
       "      <th>4</th>\n",
       "      <td>408</td>\n",
       "      <td>17531</td>\n",
       "      <td>1529</td>\n",
       "      <td>11.465664</td>\n",
       "    </tr>\n",
       "    <tr>\n",
       "      <th>12</th>\n",
       "      <td>416</td>\n",
       "      <td>1599</td>\n",
       "      <td>146</td>\n",
       "      <td>10.952055</td>\n",
       "    </tr>\n",
       "    <tr>\n",
       "      <th>10</th>\n",
       "      <td>414</td>\n",
       "      <td>7584</td>\n",
       "      <td>701</td>\n",
       "      <td>10.818830</td>\n",
       "    </tr>\n",
       "    <tr>\n",
       "      <th>19</th>\n",
       "      <td>423</td>\n",
       "      <td>6007</td>\n",
       "      <td>565</td>\n",
       "      <td>10.631858</td>\n",
       "    </tr>\n",
       "    <tr>\n",
       "      <th>0</th>\n",
       "      <td>401</td>\n",
       "      <td>6754</td>\n",
       "      <td>680</td>\n",
       "      <td>9.932353</td>\n",
       "    </tr>\n",
       "    <tr>\n",
       "      <th>20</th>\n",
       "      <td>424</td>\n",
       "      <td>6900</td>\n",
       "      <td>697</td>\n",
       "      <td>9.899570</td>\n",
       "    </tr>\n",
       "    <tr>\n",
       "      <th>22</th>\n",
       "      <td>426</td>\n",
       "      <td>8675</td>\n",
       "      <td>912</td>\n",
       "      <td>9.512061</td>\n",
       "    </tr>\n",
       "    <tr>\n",
       "      <th>28</th>\n",
       "      <td>432</td>\n",
       "      <td>5625</td>\n",
       "      <td>593</td>\n",
       "      <td>9.485666</td>\n",
       "    </tr>\n",
       "    <tr>\n",
       "      <th>18</th>\n",
       "      <td>422</td>\n",
       "      <td>11393</td>\n",
       "      <td>1215</td>\n",
       "      <td>9.376955</td>\n",
       "    </tr>\n",
       "    <tr>\n",
       "      <th>27</th>\n",
       "      <td>431</td>\n",
       "      <td>7194</td>\n",
       "      <td>788</td>\n",
       "      <td>9.129442</td>\n",
       "    </tr>\n",
       "    <tr>\n",
       "      <th>23</th>\n",
       "      <td>427</td>\n",
       "      <td>7320</td>\n",
       "      <td>812</td>\n",
       "      <td>9.014778</td>\n",
       "    </tr>\n",
       "    <tr>\n",
       "      <th>3</th>\n",
       "      <td>405</td>\n",
       "      <td>8650</td>\n",
       "      <td>992</td>\n",
       "      <td>8.719758</td>\n",
       "    </tr>\n",
       "    <tr>\n",
       "      <th>17</th>\n",
       "      <td>421</td>\n",
       "      <td>8828</td>\n",
       "      <td>1048</td>\n",
       "      <td>8.423664</td>\n",
       "    </tr>\n",
       "    <tr>\n",
       "      <th>1</th>\n",
       "      <td>402</td>\n",
       "      <td>5932</td>\n",
       "      <td>705</td>\n",
       "      <td>8.414184</td>\n",
       "    </tr>\n",
       "    <tr>\n",
       "      <th>24</th>\n",
       "      <td>428</td>\n",
       "      <td>5427</td>\n",
       "      <td>674</td>\n",
       "      <td>8.051929</td>\n",
       "    </tr>\n",
       "    <tr>\n",
       "      <th>26</th>\n",
       "      <td>430</td>\n",
       "      <td>10184</td>\n",
       "      <td>1267</td>\n",
       "      <td>8.037885</td>\n",
       "    </tr>\n",
       "    <tr>\n",
       "      <th>8</th>\n",
       "      <td>412</td>\n",
       "      <td>1946</td>\n",
       "      <td>244</td>\n",
       "      <td>7.975410</td>\n",
       "    </tr>\n",
       "    <tr>\n",
       "      <th>16</th>\n",
       "      <td>420</td>\n",
       "      <td>1791</td>\n",
       "      <td>229</td>\n",
       "      <td>7.820961</td>\n",
       "    </tr>\n",
       "    <tr>\n",
       "      <th>9</th>\n",
       "      <td>413</td>\n",
       "      <td>8453</td>\n",
       "      <td>1083</td>\n",
       "      <td>7.805171</td>\n",
       "    </tr>\n",
       "    <tr>\n",
       "      <th>33</th>\n",
       "      <td>438</td>\n",
       "      <td>5952</td>\n",
       "      <td>770</td>\n",
       "      <td>7.729870</td>\n",
       "    </tr>\n",
       "    <tr>\n",
       "      <th>36</th>\n",
       "      <td>441</td>\n",
       "      <td>3130</td>\n",
       "      <td>408</td>\n",
       "      <td>7.671569</td>\n",
       "    </tr>\n",
       "    <tr>\n",
       "      <th>13</th>\n",
       "      <td>417</td>\n",
       "      <td>8428</td>\n",
       "      <td>1143</td>\n",
       "      <td>7.373578</td>\n",
       "    </tr>\n",
       "    <tr>\n",
       "      <th>14</th>\n",
       "      <td>418</td>\n",
       "      <td>6788</td>\n",
       "      <td>938</td>\n",
       "      <td>7.236674</td>\n",
       "    </tr>\n",
       "    <tr>\n",
       "      <th>30</th>\n",
       "      <td>435</td>\n",
       "      <td>5485</td>\n",
       "      <td>783</td>\n",
       "      <td>7.005109</td>\n",
       "    </tr>\n",
       "    <tr>\n",
       "      <th>34</th>\n",
       "      <td>439</td>\n",
       "      <td>4316</td>\n",
       "      <td>625</td>\n",
       "      <td>6.905600</td>\n",
       "    </tr>\n",
       "    <tr>\n",
       "      <th>35</th>\n",
       "      <td>440</td>\n",
       "      <td>7680</td>\n",
       "      <td>1124</td>\n",
       "      <td>6.832740</td>\n",
       "    </tr>\n",
       "    <tr>\n",
       "      <th>31</th>\n",
       "      <td>436</td>\n",
       "      <td>6845</td>\n",
       "      <td>1010</td>\n",
       "      <td>6.777228</td>\n",
       "    </tr>\n",
       "    <tr>\n",
       "      <th>32</th>\n",
       "      <td>437</td>\n",
       "      <td>4963</td>\n",
       "      <td>763</td>\n",
       "      <td>6.504587</td>\n",
       "    </tr>\n",
       "    <tr>\n",
       "      <th>29</th>\n",
       "      <td>434</td>\n",
       "      <td>4907</td>\n",
       "      <td>778</td>\n",
       "      <td>6.307198</td>\n",
       "    </tr>\n",
       "    <tr>\n",
       "      <th>15</th>\n",
       "      <td>419</td>\n",
       "      <td>7604</td>\n",
       "      <td>1361</td>\n",
       "      <td>5.587068</td>\n",
       "    </tr>\n",
       "    <tr>\n",
       "      <th>7</th>\n",
       "      <td>411</td>\n",
       "      <td>15637</td>\n",
       "      <td>2912</td>\n",
       "      <td>5.369849</td>\n",
       "    </tr>\n",
       "    <tr>\n",
       "      <th>6</th>\n",
       "      <td>410</td>\n",
       "      <td>10879</td>\n",
       "      <td>2098</td>\n",
       "      <td>5.185415</td>\n",
       "    </tr>\n",
       "    <tr>\n",
       "      <th>25</th>\n",
       "      <td>429</td>\n",
       "      <td>8466</td>\n",
       "      <td>1887</td>\n",
       "      <td>4.486486</td>\n",
       "    </tr>\n",
       "    <tr>\n",
       "      <th>11</th>\n",
       "      <td>415</td>\n",
       "      <td>6998</td>\n",
       "      <td>1849</td>\n",
       "      <td>3.784749</td>\n",
       "    </tr>\n",
       "  </tbody>\n",
       "</table>\n",
       "</div>"
      ],
      "text/plain": [
       "    TransportUnitID  total_count  mismatch_count  percentage_of_mismatch\n",
       "2               404         7869             431               18.257541\n",
       "21              425         9374             681               13.765051\n",
       "37              442         4593             366               12.549180\n",
       "5               409        15743            1345               11.704833\n",
       "4               408        17531            1529               11.465664\n",
       "12              416         1599             146               10.952055\n",
       "10              414         7584             701               10.818830\n",
       "19              423         6007             565               10.631858\n",
       "0               401         6754             680                9.932353\n",
       "20              424         6900             697                9.899570\n",
       "22              426         8675             912                9.512061\n",
       "28              432         5625             593                9.485666\n",
       "18              422        11393            1215                9.376955\n",
       "27              431         7194             788                9.129442\n",
       "23              427         7320             812                9.014778\n",
       "3               405         8650             992                8.719758\n",
       "17              421         8828            1048                8.423664\n",
       "1               402         5932             705                8.414184\n",
       "24              428         5427             674                8.051929\n",
       "26              430        10184            1267                8.037885\n",
       "8               412         1946             244                7.975410\n",
       "16              420         1791             229                7.820961\n",
       "9               413         8453            1083                7.805171\n",
       "33              438         5952             770                7.729870\n",
       "36              441         3130             408                7.671569\n",
       "13              417         8428            1143                7.373578\n",
       "14              418         6788             938                7.236674\n",
       "30              435         5485             783                7.005109\n",
       "34              439         4316             625                6.905600\n",
       "35              440         7680            1124                6.832740\n",
       "31              436         6845            1010                6.777228\n",
       "32              437         4963             763                6.504587\n",
       "29              434         4907             778                6.307198\n",
       "15              419         7604            1361                5.587068\n",
       "7               411        15637            2912                5.369849\n",
       "6               410        10879            2098                5.185415\n",
       "25              429         8466            1887                4.486486\n",
       "11              415         6998            1849                3.784749"
      ]
     },
     "execution_count": 18,
     "metadata": {},
     "output_type": "execute_result"
    }
   ],
   "source": [
    "analyze_feature(incidentpatientunitsfacilitiesmerge, \"TransportUnitID\")"
   ]
  },
  {
   "cell_type": "code",
   "execution_count": 17,
   "metadata": {},
   "outputs": [
    {
     "data": {
      "text/html": [
       "<div>\n",
       "<style scoped>\n",
       "    .dataframe tbody tr th:only-of-type {\n",
       "        vertical-align: middle;\n",
       "    }\n",
       "\n",
       "    .dataframe tbody tr th {\n",
       "        vertical-align: top;\n",
       "    }\n",
       "\n",
       "    .dataframe thead th {\n",
       "        text-align: right;\n",
       "    }\n",
       "</style>\n",
       "<table border=\"1\" class=\"dataframe\">\n",
       "  <thead>\n",
       "    <tr style=\"text-align: right;\">\n",
       "      <th></th>\n",
       "      <th>PrimaryImpression</th>\n",
       "      <th>total_count</th>\n",
       "      <th>mismatch_count</th>\n",
       "      <th>percentage_of_mismatch</th>\n",
       "    </tr>\n",
       "  </thead>\n",
       "  <tbody>\n",
       "    <tr>\n",
       "      <th>19</th>\n",
       "      <td>Abuse of Alcohol (ETOH) (F10.9)</td>\n",
       "      <td>119</td>\n",
       "      <td>39.0</td>\n",
       "      <td>32.773109</td>\n",
       "    </tr>\n",
       "    <tr>\n",
       "      <th>25</th>\n",
       "      <td>Injury - Hip (S79.91)</td>\n",
       "      <td>106</td>\n",
       "      <td>18.0</td>\n",
       "      <td>16.981132</td>\n",
       "    </tr>\n",
       "    <tr>\n",
       "      <th>14</th>\n",
       "      <td>Injury - Neck (S19.9)</td>\n",
       "      <td>142</td>\n",
       "      <td>16.0</td>\n",
       "      <td>11.267606</td>\n",
       "    </tr>\n",
       "    <tr>\n",
       "      <th>23</th>\n",
       "      <td>Pain - Not Elsewhere Mentioned Sudden Onset (G...</td>\n",
       "      <td>108</td>\n",
       "      <td>12.0</td>\n",
       "      <td>11.111111</td>\n",
       "    </tr>\n",
       "    <tr>\n",
       "      <th>17</th>\n",
       "      <td>CV - Hypertension (I10)</td>\n",
       "      <td>130</td>\n",
       "      <td>13.0</td>\n",
       "      <td>10.000000</td>\n",
       "    </tr>\n",
       "    <tr>\n",
       "      <th>2</th>\n",
       "      <td>GI/GU - Abdominal Pain/Problem (R10.84)</td>\n",
       "      <td>311</td>\n",
       "      <td>30.0</td>\n",
       "      <td>9.646302</td>\n",
       "    </tr>\n",
       "    <tr>\n",
       "      <th>18</th>\n",
       "      <td>Fever (R50.9)</td>\n",
       "      <td>126</td>\n",
       "      <td>9.0</td>\n",
       "      <td>7.142857</td>\n",
       "    </tr>\n",
       "    <tr>\n",
       "      <th>13</th>\n",
       "      <td>GI/GU - Nausea (With Vomiting) (R11.2)</td>\n",
       "      <td>143</td>\n",
       "      <td>9.0</td>\n",
       "      <td>6.293706</td>\n",
       "    </tr>\n",
       "    <tr>\n",
       "      <th>3</th>\n",
       "      <td>Weakness (R53.1)</td>\n",
       "      <td>307</td>\n",
       "      <td>19.0</td>\n",
       "      <td>6.188925</td>\n",
       "    </tr>\n",
       "    <tr>\n",
       "      <th>1</th>\n",
       "      <td>Respiratory - Acute Distress/ Breathing Diffic...</td>\n",
       "      <td>336</td>\n",
       "      <td>18.0</td>\n",
       "      <td>5.357143</td>\n",
       "    </tr>\n",
       "    <tr>\n",
       "      <th>4</th>\n",
       "      <td>Injury - Head without L.O.C. (S06.0X0A)</td>\n",
       "      <td>303</td>\n",
       "      <td>13.0</td>\n",
       "      <td>4.290429</td>\n",
       "    </tr>\n",
       "    <tr>\n",
       "      <th>12</th>\n",
       "      <td>CV - Chest Pain - Presumed Cardiac (I20.9)</td>\n",
       "      <td>151</td>\n",
       "      <td>6.0</td>\n",
       "      <td>3.973510</td>\n",
       "    </tr>\n",
       "    <tr>\n",
       "      <th>10</th>\n",
       "      <td>Injury - Shoulder or Upper Arm (S49.9)</td>\n",
       "      <td>159</td>\n",
       "      <td>6.0</td>\n",
       "      <td>3.773585</td>\n",
       "    </tr>\n",
       "    <tr>\n",
       "      <th>24</th>\n",
       "      <td>Neuro - Stroke/CVA (I63.9)</td>\n",
       "      <td>107</td>\n",
       "      <td>4.0</td>\n",
       "      <td>3.738318</td>\n",
       "    </tr>\n",
       "    <tr>\n",
       "      <th>20</th>\n",
       "      <td>Neuro - Headache (R51)</td>\n",
       "      <td>118</td>\n",
       "      <td>4.0</td>\n",
       "      <td>3.389831</td>\n",
       "    </tr>\n",
       "    <tr>\n",
       "      <th>8</th>\n",
       "      <td>Behavioral - Anxiety (F41.9)</td>\n",
       "      <td>261</td>\n",
       "      <td>8.0</td>\n",
       "      <td>3.065134</td>\n",
       "    </tr>\n",
       "    <tr>\n",
       "      <th>0</th>\n",
       "      <td>Abuse of Alcohol (ETOH) - Intoxication (F10.92)</td>\n",
       "      <td>367</td>\n",
       "      <td>11.0</td>\n",
       "      <td>2.997275</td>\n",
       "    </tr>\n",
       "    <tr>\n",
       "      <th>22</th>\n",
       "      <td>Injury - Wrist, Hand, or Fingers (S69.9)</td>\n",
       "      <td>111</td>\n",
       "      <td>3.0</td>\n",
       "      <td>2.702703</td>\n",
       "    </tr>\n",
       "    <tr>\n",
       "      <th>5</th>\n",
       "      <td>Neuro - Altered Mental Status / Level of Consc...</td>\n",
       "      <td>276</td>\n",
       "      <td>7.0</td>\n",
       "      <td>2.536232</td>\n",
       "    </tr>\n",
       "    <tr>\n",
       "      <th>11</th>\n",
       "      <td>Injury - Lower leg (S89.9)</td>\n",
       "      <td>158</td>\n",
       "      <td>4.0</td>\n",
       "      <td>2.531646</td>\n",
       "    </tr>\n",
       "    <tr>\n",
       "      <th>9</th>\n",
       "      <td>Pain - Back (Non-traumatic) (M54.9)</td>\n",
       "      <td>166</td>\n",
       "      <td>4.0</td>\n",
       "      <td>2.409639</td>\n",
       "    </tr>\n",
       "    <tr>\n",
       "      <th>7</th>\n",
       "      <td>Syncope - Syncopal/Fainting Episode (or Near) ...</td>\n",
       "      <td>273</td>\n",
       "      <td>5.0</td>\n",
       "      <td>1.831502</td>\n",
       "    </tr>\n",
       "    <tr>\n",
       "      <th>16</th>\n",
       "      <td>Injury - Face (S09.93)</td>\n",
       "      <td>130</td>\n",
       "      <td>2.0</td>\n",
       "      <td>1.538462</td>\n",
       "    </tr>\n",
       "    <tr>\n",
       "      <th>15</th>\n",
       "      <td>Pain - Chest (presumed non-cardiac) (R07.89)</td>\n",
       "      <td>138</td>\n",
       "      <td>1.0</td>\n",
       "      <td>0.724638</td>\n",
       "    </tr>\n",
       "    <tr>\n",
       "      <th>6</th>\n",
       "      <td>Neuro - Seizure (G40.909)</td>\n",
       "      <td>273</td>\n",
       "      <td>1.0</td>\n",
       "      <td>0.366300</td>\n",
       "    </tr>\n",
       "    <tr>\n",
       "      <th>21</th>\n",
       "      <td>CV - Cardiac Arrest (I46.9)</td>\n",
       "      <td>112</td>\n",
       "      <td>NaN</td>\n",
       "      <td>NaN</td>\n",
       "    </tr>\n",
       "  </tbody>\n",
       "</table>\n",
       "</div>"
      ],
      "text/plain": [
       "                                    PrimaryImpression  total_count  \\\n",
       "19                    Abuse of Alcohol (ETOH) (F10.9)          119   \n",
       "25                              Injury - Hip (S79.91)          106   \n",
       "14                              Injury - Neck (S19.9)          142   \n",
       "23  Pain - Not Elsewhere Mentioned Sudden Onset (G...          108   \n",
       "17                            CV - Hypertension (I10)          130   \n",
       "2             GI/GU - Abdominal Pain/Problem (R10.84)          311   \n",
       "18                                      Fever (R50.9)          126   \n",
       "13             GI/GU - Nausea (With Vomiting) (R11.2)          143   \n",
       "3                                    Weakness (R53.1)          307   \n",
       "1   Respiratory - Acute Distress/ Breathing Diffic...          336   \n",
       "4             Injury - Head without L.O.C. (S06.0X0A)          303   \n",
       "12         CV - Chest Pain - Presumed Cardiac (I20.9)          151   \n",
       "10             Injury - Shoulder or Upper Arm (S49.9)          159   \n",
       "24                         Neuro - Stroke/CVA (I63.9)          107   \n",
       "20                             Neuro - Headache (R51)          118   \n",
       "8                        Behavioral - Anxiety (F41.9)          261   \n",
       "0     Abuse of Alcohol (ETOH) - Intoxication (F10.92)          367   \n",
       "22           Injury - Wrist, Hand, or Fingers (S69.9)          111   \n",
       "5   Neuro - Altered Mental Status / Level of Consc...          276   \n",
       "11                         Injury - Lower leg (S89.9)          158   \n",
       "9                 Pain - Back (Non-traumatic) (M54.9)          166   \n",
       "7   Syncope - Syncopal/Fainting Episode (or Near) ...          273   \n",
       "16                             Injury - Face (S09.93)          130   \n",
       "15       Pain - Chest (presumed non-cardiac) (R07.89)          138   \n",
       "6                           Neuro - Seizure (G40.909)          273   \n",
       "21                        CV - Cardiac Arrest (I46.9)          112   \n",
       "\n",
       "    mismatch_count  percentage_of_mismatch  \n",
       "19            39.0               32.773109  \n",
       "25            18.0               16.981132  \n",
       "14            16.0               11.267606  \n",
       "23            12.0               11.111111  \n",
       "17            13.0               10.000000  \n",
       "2             30.0                9.646302  \n",
       "18             9.0                7.142857  \n",
       "13             9.0                6.293706  \n",
       "3             19.0                6.188925  \n",
       "1             18.0                5.357143  \n",
       "4             13.0                4.290429  \n",
       "12             6.0                3.973510  \n",
       "10             6.0                3.773585  \n",
       "24             4.0                3.738318  \n",
       "20             4.0                3.389831  \n",
       "8              8.0                3.065134  \n",
       "0             11.0                2.997275  \n",
       "22             3.0                2.702703  \n",
       "5              7.0                2.536232  \n",
       "11             4.0                2.531646  \n",
       "9              4.0                2.409639  \n",
       "7              5.0                1.831502  \n",
       "16             2.0                1.538462  \n",
       "15             1.0                0.724638  \n",
       "6              1.0                0.366300  \n",
       "21             NaN                     NaN  "
      ]
     },
     "execution_count": 17,
     "metadata": {},
     "output_type": "execute_result"
    }
   ],
   "source": [
    "analyze_feature(incidentpatientunitsfacilitiesmerge[incidentpatientunitsfacilitiesmerge.TransportUnitID== 404], \n",
    "                                                    \"PrimaryImpression\",\n",
    "                                                    0.9, 100)"
   ]
  },
  {
   "cell_type": "code",
   "execution_count": 382,
   "metadata": {},
   "outputs": [
    {
     "data": {
      "text/html": [
       "<div>\n",
       "<style scoped>\n",
       "    .dataframe tbody tr th:only-of-type {\n",
       "        vertical-align: middle;\n",
       "    }\n",
       "\n",
       "    .dataframe tbody tr th {\n",
       "        vertical-align: top;\n",
       "    }\n",
       "\n",
       "    .dataframe thead th {\n",
       "        text-align: right;\n",
       "    }\n",
       "</style>\n",
       "<table border=\"1\" class=\"dataframe\">\n",
       "  <thead>\n",
       "    <tr style=\"text-align: right;\">\n",
       "      <th></th>\n",
       "      <th>PrimaryImpression</th>\n",
       "      <th>total_count</th>\n",
       "      <th>mismatch_count</th>\n",
       "      <th>percentage_of_mismatch</th>\n",
       "    </tr>\n",
       "  </thead>\n",
       "  <tbody>\n",
       "    <tr>\n",
       "      <th>19</th>\n",
       "      <td>Injury - Not Otherwise Listed (T14.90)</td>\n",
       "      <td>114</td>\n",
       "      <td>5.0</td>\n",
       "      <td>22.800000</td>\n",
       "    </tr>\n",
       "    <tr>\n",
       "      <th>17</th>\n",
       "      <td>CV - Cardiac Arrest (I46.9)</td>\n",
       "      <td>130</td>\n",
       "      <td>10.0</td>\n",
       "      <td>13.000000</td>\n",
       "    </tr>\n",
       "    <tr>\n",
       "      <th>7</th>\n",
       "      <td>Injury - Neck (S19.9)</td>\n",
       "      <td>182</td>\n",
       "      <td>18.0</td>\n",
       "      <td>10.111111</td>\n",
       "    </tr>\n",
       "    <tr>\n",
       "      <th>12</th>\n",
       "      <td>Pain - Back (Non-traumatic) (M54.9)</td>\n",
       "      <td>149</td>\n",
       "      <td>17.0</td>\n",
       "      <td>8.764706</td>\n",
       "    </tr>\n",
       "    <tr>\n",
       "      <th>4</th>\n",
       "      <td>Neuro - Altered Mental Status / Level of Consc...</td>\n",
       "      <td>253</td>\n",
       "      <td>30.0</td>\n",
       "      <td>8.433333</td>\n",
       "    </tr>\n",
       "    <tr>\n",
       "      <th>14</th>\n",
       "      <td>Malaise (R53.81)</td>\n",
       "      <td>143</td>\n",
       "      <td>19.0</td>\n",
       "      <td>7.526316</td>\n",
       "    </tr>\n",
       "    <tr>\n",
       "      <th>2</th>\n",
       "      <td>Syncope - Syncopal/Fainting Episode (or Near) ...</td>\n",
       "      <td>296</td>\n",
       "      <td>48.0</td>\n",
       "      <td>6.166667</td>\n",
       "    </tr>\n",
       "    <tr>\n",
       "      <th>9</th>\n",
       "      <td>CV - Chest Pain - Angina (I20.0)</td>\n",
       "      <td>169</td>\n",
       "      <td>30.0</td>\n",
       "      <td>5.633333</td>\n",
       "    </tr>\n",
       "    <tr>\n",
       "      <th>0</th>\n",
       "      <td>Respiratory - Acute Distress/ Breathing Diffic...</td>\n",
       "      <td>342</td>\n",
       "      <td>62.0</td>\n",
       "      <td>5.516129</td>\n",
       "    </tr>\n",
       "    <tr>\n",
       "      <th>1</th>\n",
       "      <td>Pain - Not Elsewhere Mentioned Sudden Onset (G...</td>\n",
       "      <td>339</td>\n",
       "      <td>69.0</td>\n",
       "      <td>4.913043</td>\n",
       "    </tr>\n",
       "    <tr>\n",
       "      <th>6</th>\n",
       "      <td>Injury - Head without L.O.C. (S06.0X0A)</td>\n",
       "      <td>226</td>\n",
       "      <td>48.0</td>\n",
       "      <td>4.708333</td>\n",
       "    </tr>\n",
       "    <tr>\n",
       "      <th>18</th>\n",
       "      <td>Injury - Lower Back (S39.92)</td>\n",
       "      <td>117</td>\n",
       "      <td>26.0</td>\n",
       "      <td>4.500000</td>\n",
       "    </tr>\n",
       "    <tr>\n",
       "      <th>3</th>\n",
       "      <td>Weakness (R53.1)</td>\n",
       "      <td>288</td>\n",
       "      <td>72.0</td>\n",
       "      <td>4.000000</td>\n",
       "    </tr>\n",
       "    <tr>\n",
       "      <th>22</th>\n",
       "      <td>Injury - Shoulder or Upper Arm (S49.9)</td>\n",
       "      <td>105</td>\n",
       "      <td>32.0</td>\n",
       "      <td>3.281250</td>\n",
       "    </tr>\n",
       "    <tr>\n",
       "      <th>16</th>\n",
       "      <td>Pain - Extremity (Non-traumatic) (M79.609)</td>\n",
       "      <td>137</td>\n",
       "      <td>43.0</td>\n",
       "      <td>3.186047</td>\n",
       "    </tr>\n",
       "    <tr>\n",
       "      <th>15</th>\n",
       "      <td>CV - Cardiac Arrhythmia/Dysrhythmia (I49.9)</td>\n",
       "      <td>142</td>\n",
       "      <td>50.0</td>\n",
       "      <td>2.840000</td>\n",
       "    </tr>\n",
       "    <tr>\n",
       "      <th>21</th>\n",
       "      <td>Behavioral - Anxiety (F41.9)</td>\n",
       "      <td>110</td>\n",
       "      <td>39.0</td>\n",
       "      <td>2.820513</td>\n",
       "    </tr>\n",
       "    <tr>\n",
       "      <th>8</th>\n",
       "      <td>Abuse of Alcohol (ETOH) - Intoxication (F10.92)</td>\n",
       "      <td>180</td>\n",
       "      <td>64.0</td>\n",
       "      <td>2.812500</td>\n",
       "    </tr>\n",
       "    <tr>\n",
       "      <th>11</th>\n",
       "      <td>GI/GU - Nausea (With Vomiting) (R11.2)</td>\n",
       "      <td>154</td>\n",
       "      <td>56.0</td>\n",
       "      <td>2.750000</td>\n",
       "    </tr>\n",
       "    <tr>\n",
       "      <th>23</th>\n",
       "      <td>Allergic Reaction (T78.40)</td>\n",
       "      <td>103</td>\n",
       "      <td>40.0</td>\n",
       "      <td>2.575000</td>\n",
       "    </tr>\n",
       "    <tr>\n",
       "      <th>10</th>\n",
       "      <td>GI/GU - Abdominal Pain/Problem (R10.84)</td>\n",
       "      <td>162</td>\n",
       "      <td>66.0</td>\n",
       "      <td>2.454545</td>\n",
       "    </tr>\n",
       "    <tr>\n",
       "      <th>13</th>\n",
       "      <td>CV - Chest Pain - Presumed Cardiac (I20.9)</td>\n",
       "      <td>145</td>\n",
       "      <td>62.0</td>\n",
       "      <td>2.338710</td>\n",
       "    </tr>\n",
       "    <tr>\n",
       "      <th>5</th>\n",
       "      <td>Neuro - Seizure (G40.909)</td>\n",
       "      <td>239</td>\n",
       "      <td>103.0</td>\n",
       "      <td>2.320388</td>\n",
       "    </tr>\n",
       "    <tr>\n",
       "      <th>20</th>\n",
       "      <td>Fever (R50.9)</td>\n",
       "      <td>114</td>\n",
       "      <td>56.0</td>\n",
       "      <td>2.035714</td>\n",
       "    </tr>\n",
       "  </tbody>\n",
       "</table>\n",
       "</div>"
      ],
      "text/plain": [
       "                                    PrimaryImpression  total_count  \\\n",
       "19             Injury - Not Otherwise Listed (T14.90)          114   \n",
       "17                        CV - Cardiac Arrest (I46.9)          130   \n",
       "7                               Injury - Neck (S19.9)          182   \n",
       "12                Pain - Back (Non-traumatic) (M54.9)          149   \n",
       "4   Neuro - Altered Mental Status / Level of Consc...          253   \n",
       "14                                   Malaise (R53.81)          143   \n",
       "2   Syncope - Syncopal/Fainting Episode (or Near) ...          296   \n",
       "9                    CV - Chest Pain - Angina (I20.0)          169   \n",
       "0   Respiratory - Acute Distress/ Breathing Diffic...          342   \n",
       "1   Pain - Not Elsewhere Mentioned Sudden Onset (G...          339   \n",
       "6             Injury - Head without L.O.C. (S06.0X0A)          226   \n",
       "18                       Injury - Lower Back (S39.92)          117   \n",
       "3                                    Weakness (R53.1)          288   \n",
       "22             Injury - Shoulder or Upper Arm (S49.9)          105   \n",
       "16         Pain - Extremity (Non-traumatic) (M79.609)          137   \n",
       "15        CV - Cardiac Arrhythmia/Dysrhythmia (I49.9)          142   \n",
       "21                       Behavioral - Anxiety (F41.9)          110   \n",
       "8     Abuse of Alcohol (ETOH) - Intoxication (F10.92)          180   \n",
       "11             GI/GU - Nausea (With Vomiting) (R11.2)          154   \n",
       "23                         Allergic Reaction (T78.40)          103   \n",
       "10            GI/GU - Abdominal Pain/Problem (R10.84)          162   \n",
       "13         CV - Chest Pain - Presumed Cardiac (I20.9)          145   \n",
       "5                           Neuro - Seizure (G40.909)          239   \n",
       "20                                      Fever (R50.9)          114   \n",
       "\n",
       "    mismatch_count  percentage_of_mismatch  \n",
       "19             5.0               22.800000  \n",
       "17            10.0               13.000000  \n",
       "7             18.0               10.111111  \n",
       "12            17.0                8.764706  \n",
       "4             30.0                8.433333  \n",
       "14            19.0                7.526316  \n",
       "2             48.0                6.166667  \n",
       "9             30.0                5.633333  \n",
       "0             62.0                5.516129  \n",
       "1             69.0                4.913043  \n",
       "6             48.0                4.708333  \n",
       "18            26.0                4.500000  \n",
       "3             72.0                4.000000  \n",
       "22            32.0                3.281250  \n",
       "16            43.0                3.186047  \n",
       "15            50.0                2.840000  \n",
       "21            39.0                2.820513  \n",
       "8             64.0                2.812500  \n",
       "11            56.0                2.750000  \n",
       "23            40.0                2.575000  \n",
       "10            66.0                2.454545  \n",
       "13            62.0                2.338710  \n",
       "5            103.0                2.320388  \n",
       "20            56.0                2.035714  "
      ]
     },
     "execution_count": 382,
     "metadata": {},
     "output_type": "execute_result"
    }
   ],
   "source": [
    "analyze_feature(incidentpatientunitsfacilitiesmerge[incidentpatientunitsfacilitiesmerge.TransportUnitID== \"415\"], \n",
    "                                                    \"PrimaryImpression\",\n",
    "                                                    0.9, 100)"
   ]
  },
  {
   "cell_type": "code",
   "execution_count": 16,
   "metadata": {},
   "outputs": [
    {
     "name": "stderr",
     "output_type": "stream",
     "text": [
      "D:\\Softwares\\anaconda3\\lib\\site-packages\\pandas\\core\\ops\\array_ops.py:253: FutureWarning: elementwise comparison failed; returning scalar instead, but in the future will perform elementwise comparison\n",
      "  res_values = method(rvalues)\n"
     ]
    },
    {
     "data": {
      "text/html": [
       "<div>\n",
       "<style scoped>\n",
       "    .dataframe tbody tr th:only-of-type {\n",
       "        vertical-align: middle;\n",
       "    }\n",
       "\n",
       "    .dataframe tbody tr th {\n",
       "        vertical-align: top;\n",
       "    }\n",
       "\n",
       "    .dataframe thead th {\n",
       "        text-align: right;\n",
       "    }\n",
       "</style>\n",
       "<table border=\"1\" class=\"dataframe\">\n",
       "  <thead>\n",
       "    <tr style=\"text-align: right;\">\n",
       "      <th></th>\n",
       "      <th>PrimaryImpression</th>\n",
       "      <th>total_count</th>\n",
       "      <th>mismatch_count</th>\n",
       "      <th>percentage_of_mismatch</th>\n",
       "    </tr>\n",
       "  </thead>\n",
       "  <tbody>\n",
       "  </tbody>\n",
       "</table>\n",
       "</div>"
      ],
      "text/plain": [
       "Empty DataFrame\n",
       "Columns: [PrimaryImpression, total_count, mismatch_count, percentage_of_mismatch]\n",
       "Index: []"
      ]
     },
     "execution_count": 16,
     "metadata": {},
     "output_type": "execute_result"
    }
   ],
   "source": [
    "analyze_feature(incidentpatientunitsfacilitiesmerge[incidentpatientunitsfacilitiesmerge.TransportUnitID== \"415\"], \n",
    "                                                    \"PrimaryImpression\",\n",
    "                                                    0.9, 100)"
   ]
  },
  {
   "cell_type": "code",
   "execution_count": 15,
   "metadata": {},
   "outputs": [
    {
     "data": {
      "text/html": [
       "<div>\n",
       "<style scoped>\n",
       "    .dataframe tbody tr th:only-of-type {\n",
       "        vertical-align: middle;\n",
       "    }\n",
       "\n",
       "    .dataframe tbody tr th {\n",
       "        vertical-align: top;\n",
       "    }\n",
       "\n",
       "    .dataframe thead th {\n",
       "        text-align: right;\n",
       "    }\n",
       "</style>\n",
       "<table border=\"1\" class=\"dataframe\">\n",
       "  <thead>\n",
       "    <tr style=\"text-align: right;\">\n",
       "      <th></th>\n",
       "      <th>TransportUnitID</th>\n",
       "      <th>TransportLOC</th>\n",
       "      <th>TransportHospitalCode</th>\n",
       "      <th>ReasonForChoosingHospital</th>\n",
       "      <th>PatientAge</th>\n",
       "      <th>PrimaryImpression</th>\n",
       "      <th>PatientDisposition</th>\n",
       "      <th>TransportUnitLOC</th>\n",
       "      <th>UnitPrimaryActionTaken</th>\n",
       "      <th>UnitStation</th>\n",
       "      <th>UnitType</th>\n",
       "      <th>UnitArrivalOrder</th>\n",
       "      <th>ShiftDay</th>\n",
       "      <th>TourOfShift</th>\n",
       "      <th>IncidentFirstDue</th>\n",
       "      <th>FinalIncidentType</th>\n",
       "      <th>model_probability</th>\n",
       "      <th>model_prediction</th>\n",
       "      <th>Mismatch</th>\n",
       "    </tr>\n",
       "  </thead>\n",
       "  <tbody>\n",
       "    <tr>\n",
       "      <th>0</th>\n",
       "      <td>401</td>\n",
       "      <td>Level 3: 1 Provider (ALS Care)</td>\n",
       "      <td>3</td>\n",
       "      <td>Patient's Choice,Closest Facility</td>\n",
       "      <td>80 - 89</td>\n",
       "      <td>GI/GU - Nausea (With Vomiting) (R11.2)</td>\n",
       "      <td>Treated &amp; Transported</td>\n",
       "      <td>ALS-Paramedic</td>\n",
       "      <td>Provide manpower</td>\n",
       "      <td>1</td>\n",
       "      <td>Engine</td>\n",
       "      <td>2</td>\n",
       "      <td>B</td>\n",
       "      <td>1.0</td>\n",
       "      <td>1</td>\n",
       "      <td>ALS</td>\n",
       "      <td>1.000000</td>\n",
       "      <td>11</td>\n",
       "      <td>True</td>\n",
       "    </tr>\n",
       "    <tr>\n",
       "      <th>1</th>\n",
       "      <td>401</td>\n",
       "      <td>Level 3: 1 Provider (ALS Care)</td>\n",
       "      <td>3</td>\n",
       "      <td>Patient's Choice,Closest Facility</td>\n",
       "      <td>80 - 89</td>\n",
       "      <td>GI/GU - Nausea (With Vomiting) (R11.2)</td>\n",
       "      <td>Treated &amp; Transported</td>\n",
       "      <td>ALS-Paramedic</td>\n",
       "      <td>Provide advanced life support (ALS)</td>\n",
       "      <td>1</td>\n",
       "      <td>Medic</td>\n",
       "      <td>1</td>\n",
       "      <td>B</td>\n",
       "      <td>1.0</td>\n",
       "      <td>1</td>\n",
       "      <td>ALS</td>\n",
       "      <td>1.000000</td>\n",
       "      <td>11</td>\n",
       "      <td>True</td>\n",
       "    </tr>\n",
       "    <tr>\n",
       "      <th>2</th>\n",
       "      <td>401</td>\n",
       "      <td>Level 4: 1 Provider (BLS Care)</td>\n",
       "      <td>3</td>\n",
       "      <td>Patient's Choice</td>\n",
       "      <td>80 - 89</td>\n",
       "      <td>EENT - Eye Pain (Non-traumatic) (H57.10)</td>\n",
       "      <td>Treated &amp; Transported</td>\n",
       "      <td>ALS-Paramedic</td>\n",
       "      <td>Provide advanced life support (ALS)</td>\n",
       "      <td>1</td>\n",
       "      <td>Medic</td>\n",
       "      <td>1</td>\n",
       "      <td>A</td>\n",
       "      <td>3.0</td>\n",
       "      <td>1</td>\n",
       "      <td>BLS</td>\n",
       "      <td>0.613191</td>\n",
       "      <td>3</td>\n",
       "      <td>False</td>\n",
       "    </tr>\n",
       "    <tr>\n",
       "      <th>3</th>\n",
       "      <td>401</td>\n",
       "      <td>Level 4: 1 Provider (BLS Care)</td>\n",
       "      <td>16</td>\n",
       "      <td>Closest Facility</td>\n",
       "      <td>40 - 49</td>\n",
       "      <td>Injury - Foot (S99.92)</td>\n",
       "      <td>Treated &amp; Transported</td>\n",
       "      <td>ALS-Paramedic</td>\n",
       "      <td>Provide manpower</td>\n",
       "      <td>1</td>\n",
       "      <td>Engine</td>\n",
       "      <td>1</td>\n",
       "      <td>B</td>\n",
       "      <td>2.0</td>\n",
       "      <td>1</td>\n",
       "      <td>BLS</td>\n",
       "      <td>0.691172</td>\n",
       "      <td>16</td>\n",
       "      <td>False</td>\n",
       "    </tr>\n",
       "    <tr>\n",
       "      <th>4</th>\n",
       "      <td>401</td>\n",
       "      <td>Level 4: 1 Provider (BLS Care)</td>\n",
       "      <td>16</td>\n",
       "      <td>Closest Facility</td>\n",
       "      <td>40 - 49</td>\n",
       "      <td>Injury - Foot (S99.92)</td>\n",
       "      <td>Treated &amp; Transported</td>\n",
       "      <td>ALS-Paramedic</td>\n",
       "      <td>Provide advanced life support (ALS)</td>\n",
       "      <td>1</td>\n",
       "      <td>Medic</td>\n",
       "      <td>2</td>\n",
       "      <td>B</td>\n",
       "      <td>2.0</td>\n",
       "      <td>1</td>\n",
       "      <td>BLS</td>\n",
       "      <td>0.690932</td>\n",
       "      <td>16</td>\n",
       "      <td>False</td>\n",
       "    </tr>\n",
       "    <tr>\n",
       "      <th>...</th>\n",
       "      <td>...</td>\n",
       "      <td>...</td>\n",
       "      <td>...</td>\n",
       "      <td>...</td>\n",
       "      <td>...</td>\n",
       "      <td>...</td>\n",
       "      <td>...</td>\n",
       "      <td>...</td>\n",
       "      <td>...</td>\n",
       "      <td>...</td>\n",
       "      <td>...</td>\n",
       "      <td>...</td>\n",
       "      <td>...</td>\n",
       "      <td>...</td>\n",
       "      <td>...</td>\n",
       "      <td>...</td>\n",
       "      <td>...</td>\n",
       "      <td>...</td>\n",
       "      <td>...</td>\n",
       "    </tr>\n",
       "    <tr>\n",
       "      <th>283445</th>\n",
       "      <td>429</td>\n",
       "      <td>Level 4: 1 Provider (BLS Care)</td>\n",
       "      <td>16</td>\n",
       "      <td>Closest Facility,Family Choice</td>\n",
       "      <td>80 - 89</td>\n",
       "      <td>Injury - Lower leg (S89.9)</td>\n",
       "      <td>Treated &amp; Transported</td>\n",
       "      <td>ALS-Paramedic</td>\n",
       "      <td>Emergency medical services, other</td>\n",
       "      <td>28</td>\n",
       "      <td>Engine</td>\n",
       "      <td>1</td>\n",
       "      <td>C</td>\n",
       "      <td>2.0</td>\n",
       "      <td>1</td>\n",
       "      <td>MEDICAL</td>\n",
       "      <td>0.917983</td>\n",
       "      <td>16</td>\n",
       "      <td>False</td>\n",
       "    </tr>\n",
       "    <tr>\n",
       "      <th>283446</th>\n",
       "      <td>429</td>\n",
       "      <td>Level 4: 1 Provider (BLS Care)</td>\n",
       "      <td>16</td>\n",
       "      <td>Closest Facility,Family Choice</td>\n",
       "      <td>80 - 89</td>\n",
       "      <td>Injury - Lower leg (S89.9)</td>\n",
       "      <td>Treated &amp; Transported</td>\n",
       "      <td>ALS-Paramedic</td>\n",
       "      <td>Provide basic life support (BLS)</td>\n",
       "      <td>29</td>\n",
       "      <td>Medic</td>\n",
       "      <td>2</td>\n",
       "      <td>C</td>\n",
       "      <td>2.0</td>\n",
       "      <td>1</td>\n",
       "      <td>MEDICAL</td>\n",
       "      <td>1.000000</td>\n",
       "      <td>3</td>\n",
       "      <td>True</td>\n",
       "    </tr>\n",
       "    <tr>\n",
       "      <th>283447</th>\n",
       "      <td>429</td>\n",
       "      <td>Level 2: 2 Providers (ALS Care)</td>\n",
       "      <td>16</td>\n",
       "      <td>Closest Facility</td>\n",
       "      <td>2021-10-19 00:00:00</td>\n",
       "      <td>Neuro - Altered Mental Status / Level of Consc...</td>\n",
       "      <td>Treated &amp; Transported</td>\n",
       "      <td>ALS-Paramedic</td>\n",
       "      <td>Provide advanced life support (ALS)</td>\n",
       "      <td>1</td>\n",
       "      <td>Engine</td>\n",
       "      <td>1</td>\n",
       "      <td>A</td>\n",
       "      <td>1.0</td>\n",
       "      <td>1</td>\n",
       "      <td>MEDICAL</td>\n",
       "      <td>0.914441</td>\n",
       "      <td>16</td>\n",
       "      <td>False</td>\n",
       "    </tr>\n",
       "    <tr>\n",
       "      <th>283448</th>\n",
       "      <td>429</td>\n",
       "      <td>Level 2: 2 Providers (ALS Care)</td>\n",
       "      <td>16</td>\n",
       "      <td>Closest Facility</td>\n",
       "      <td>2021-10-19 00:00:00</td>\n",
       "      <td>Neuro - Altered Mental Status / Level of Consc...</td>\n",
       "      <td>Treated &amp; Transported</td>\n",
       "      <td>ALS-Paramedic</td>\n",
       "      <td>Cancelled en route</td>\n",
       "      <td>13</td>\n",
       "      <td>Engine</td>\n",
       "      <td>0</td>\n",
       "      <td>A</td>\n",
       "      <td>1.0</td>\n",
       "      <td>1</td>\n",
       "      <td>MEDICAL</td>\n",
       "      <td>0.999853</td>\n",
       "      <td>16</td>\n",
       "      <td>False</td>\n",
       "    </tr>\n",
       "    <tr>\n",
       "      <th>283449</th>\n",
       "      <td>429</td>\n",
       "      <td>Level 2: 2 Providers (ALS Care)</td>\n",
       "      <td>16</td>\n",
       "      <td>Closest Facility</td>\n",
       "      <td>2021-10-19 00:00:00</td>\n",
       "      <td>Neuro - Altered Mental Status / Level of Consc...</td>\n",
       "      <td>Treated &amp; Transported</td>\n",
       "      <td>ALS-Paramedic</td>\n",
       "      <td>Provide basic life support (BLS)</td>\n",
       "      <td>29</td>\n",
       "      <td>Medic</td>\n",
       "      <td>2</td>\n",
       "      <td>A</td>\n",
       "      <td>1.0</td>\n",
       "      <td>1</td>\n",
       "      <td>MEDICAL</td>\n",
       "      <td>1.000000</td>\n",
       "      <td>16</td>\n",
       "      <td>False</td>\n",
       "    </tr>\n",
       "  </tbody>\n",
       "</table>\n",
       "<p>283450 rows × 19 columns</p>\n",
       "</div>"
      ],
      "text/plain": [
       "        TransportUnitID                     TransportLOC  \\\n",
       "0                   401   Level 3: 1 Provider (ALS Care)   \n",
       "1                   401   Level 3: 1 Provider (ALS Care)   \n",
       "2                   401   Level 4: 1 Provider (BLS Care)   \n",
       "3                   401   Level 4: 1 Provider (BLS Care)   \n",
       "4                   401   Level 4: 1 Provider (BLS Care)   \n",
       "...                 ...                              ...   \n",
       "283445              429   Level 4: 1 Provider (BLS Care)   \n",
       "283446              429   Level 4: 1 Provider (BLS Care)   \n",
       "283447              429  Level 2: 2 Providers (ALS Care)   \n",
       "283448              429  Level 2: 2 Providers (ALS Care)   \n",
       "283449              429  Level 2: 2 Providers (ALS Care)   \n",
       "\n",
       "        TransportHospitalCode          ReasonForChoosingHospital  \\\n",
       "0                           3  Patient's Choice,Closest Facility   \n",
       "1                           3  Patient's Choice,Closest Facility   \n",
       "2                           3                   Patient's Choice   \n",
       "3                          16                   Closest Facility   \n",
       "4                          16                   Closest Facility   \n",
       "...                       ...                                ...   \n",
       "283445                     16     Closest Facility,Family Choice   \n",
       "283446                     16     Closest Facility,Family Choice   \n",
       "283447                     16                   Closest Facility   \n",
       "283448                     16                   Closest Facility   \n",
       "283449                     16                   Closest Facility   \n",
       "\n",
       "                 PatientAge  \\\n",
       "0                   80 - 89   \n",
       "1                   80 - 89   \n",
       "2                   80 - 89   \n",
       "3                   40 - 49   \n",
       "4                   40 - 49   \n",
       "...                     ...   \n",
       "283445              80 - 89   \n",
       "283446              80 - 89   \n",
       "283447  2021-10-19 00:00:00   \n",
       "283448  2021-10-19 00:00:00   \n",
       "283449  2021-10-19 00:00:00   \n",
       "\n",
       "                                        PrimaryImpression  \\\n",
       "0                  GI/GU - Nausea (With Vomiting) (R11.2)   \n",
       "1                  GI/GU - Nausea (With Vomiting) (R11.2)   \n",
       "2                EENT - Eye Pain (Non-traumatic) (H57.10)   \n",
       "3                                  Injury - Foot (S99.92)   \n",
       "4                                  Injury - Foot (S99.92)   \n",
       "...                                                   ...   \n",
       "283445                         Injury - Lower leg (S89.9)   \n",
       "283446                         Injury - Lower leg (S89.9)   \n",
       "283447  Neuro - Altered Mental Status / Level of Consc...   \n",
       "283448  Neuro - Altered Mental Status / Level of Consc...   \n",
       "283449  Neuro - Altered Mental Status / Level of Consc...   \n",
       "\n",
       "            PatientDisposition TransportUnitLOC  \\\n",
       "0       Treated & Transported     ALS-Paramedic   \n",
       "1       Treated & Transported     ALS-Paramedic   \n",
       "2       Treated & Transported     ALS-Paramedic   \n",
       "3       Treated & Transported     ALS-Paramedic   \n",
       "4       Treated & Transported     ALS-Paramedic   \n",
       "...                        ...              ...   \n",
       "283445  Treated & Transported     ALS-Paramedic   \n",
       "283446  Treated & Transported     ALS-Paramedic   \n",
       "283447  Treated & Transported     ALS-Paramedic   \n",
       "283448  Treated & Transported     ALS-Paramedic   \n",
       "283449  Treated & Transported     ALS-Paramedic   \n",
       "\n",
       "                     UnitPrimaryActionTaken UnitStation UnitType  \\\n",
       "0                          Provide manpower           1   Engine   \n",
       "1       Provide advanced life support (ALS)           1    Medic   \n",
       "2       Provide advanced life support (ALS)           1    Medic   \n",
       "3                          Provide manpower           1   Engine   \n",
       "4       Provide advanced life support (ALS)           1    Medic   \n",
       "...                                     ...         ...      ...   \n",
       "283445    Emergency medical services, other          28   Engine   \n",
       "283446     Provide basic life support (BLS)          29    Medic   \n",
       "283447  Provide advanced life support (ALS)           1   Engine   \n",
       "283448                   Cancelled en route          13   Engine   \n",
       "283449     Provide basic life support (BLS)          29    Medic   \n",
       "\n",
       "        UnitArrivalOrder ShiftDay  TourOfShift  IncidentFirstDue  \\\n",
       "0                      2        B          1.0                 1   \n",
       "1                      1        B          1.0                 1   \n",
       "2                      1        A          3.0                 1   \n",
       "3                      1        B          2.0                 1   \n",
       "4                      2        B          2.0                 1   \n",
       "...                  ...      ...          ...               ...   \n",
       "283445                 1        C          2.0                 1   \n",
       "283446                 2        C          2.0                 1   \n",
       "283447                 1        A          1.0                 1   \n",
       "283448                 0        A          1.0                 1   \n",
       "283449                 2        A          1.0                 1   \n",
       "\n",
       "       FinalIncidentType  model_probability  model_prediction  Mismatch  \n",
       "0                    ALS           1.000000                11      True  \n",
       "1                    ALS           1.000000                11      True  \n",
       "2                    BLS           0.613191                 3     False  \n",
       "3                    BLS           0.691172                16     False  \n",
       "4                    BLS           0.690932                16     False  \n",
       "...                  ...                ...               ...       ...  \n",
       "283445           MEDICAL           0.917983                16     False  \n",
       "283446           MEDICAL           1.000000                 3      True  \n",
       "283447           MEDICAL           0.914441                16     False  \n",
       "283448           MEDICAL           0.999853                16     False  \n",
       "283449           MEDICAL           1.000000                16     False  \n",
       "\n",
       "[283450 rows x 19 columns]"
      ]
     },
     "execution_count": 15,
     "metadata": {},
     "output_type": "execute_result"
    }
   ],
   "source": [
    "incidentpatientunitsfacilitiesmerge"
   ]
  },
  {
   "cell_type": "code",
   "execution_count": 371,
   "metadata": {},
   "outputs": [
    {
     "data": {
      "text/html": [
       "<div>\n",
       "<style scoped>\n",
       "    .dataframe tbody tr th:only-of-type {\n",
       "        vertical-align: middle;\n",
       "    }\n",
       "\n",
       "    .dataframe tbody tr th {\n",
       "        vertical-align: top;\n",
       "    }\n",
       "\n",
       "    .dataframe thead th {\n",
       "        text-align: right;\n",
       "    }\n",
       "</style>\n",
       "<table border=\"1\" class=\"dataframe\">\n",
       "  <thead>\n",
       "    <tr style=\"text-align: right;\">\n",
       "      <th></th>\n",
       "      <th>original</th>\n",
       "      <th>mismatch</th>\n",
       "      <th>percentage_of_mismatch</th>\n",
       "    </tr>\n",
       "  </thead>\n",
       "  <tbody>\n",
       "    <tr>\n",
       "      <th>36</th>\n",
       "      <td>34</td>\n",
       "      <td>22.0</td>\n",
       "      <td>0.647059</td>\n",
       "    </tr>\n",
       "    <tr>\n",
       "      <th>3</th>\n",
       "      <td>15</td>\n",
       "      <td>7.0</td>\n",
       "      <td>0.466667</td>\n",
       "    </tr>\n",
       "    <tr>\n",
       "      <th>95</th>\n",
       "      <td>1531</td>\n",
       "      <td>435.0</td>\n",
       "      <td>0.284128</td>\n",
       "    </tr>\n",
       "    <tr>\n",
       "      <th>16</th>\n",
       "      <td>453</td>\n",
       "      <td>122.0</td>\n",
       "      <td>0.269316</td>\n",
       "    </tr>\n",
       "    <tr>\n",
       "      <th>11</th>\n",
       "      <td>4921</td>\n",
       "      <td>1250.0</td>\n",
       "      <td>0.254013</td>\n",
       "    </tr>\n",
       "    <tr>\n",
       "      <th>59</th>\n",
       "      <td>25</td>\n",
       "      <td>5.0</td>\n",
       "      <td>0.200000</td>\n",
       "    </tr>\n",
       "  </tbody>\n",
       "</table>\n",
       "</div>"
      ],
      "text/plain": [
       "    original  mismatch  percentage_of_mismatch\n",
       "36        34      22.0                0.647059\n",
       "3         15       7.0                0.466667\n",
       "95      1531     435.0                0.284128\n",
       "16       453     122.0                0.269316\n",
       "11      4921    1250.0                0.254013\n",
       "59        25       5.0                0.200000"
      ]
     },
     "execution_count": 371,
     "metadata": {},
     "output_type": "execute_result"
    }
   ],
   "source": [
    "analyze_feature(incidentpatientunitsfacilitiesmerge[(incidentpatientunitsfacilitiesmerge.TransportUnitID == \"415\")],\n",
    "               \"TransportHospitalCode\")"
   ]
  },
  {
   "cell_type": "code",
   "execution_count": 360,
   "metadata": {},
   "outputs": [
    {
     "data": {
      "text/html": [
       "<div>\n",
       "<style scoped>\n",
       "    .dataframe tbody tr th:only-of-type {\n",
       "        vertical-align: middle;\n",
       "    }\n",
       "\n",
       "    .dataframe tbody tr th {\n",
       "        vertical-align: top;\n",
       "    }\n",
       "\n",
       "    .dataframe thead th {\n",
       "        text-align: right;\n",
       "    }\n",
       "</style>\n",
       "<table border=\"1\" class=\"dataframe\">\n",
       "  <thead>\n",
       "    <tr style=\"text-align: right;\">\n",
       "      <th></th>\n",
       "      <th>TransportUnitID</th>\n",
       "      <th>TransportLOC</th>\n",
       "      <th>TransportHospitalCode</th>\n",
       "      <th>ReasonForChoosingHospital</th>\n",
       "      <th>PatientAge</th>\n",
       "      <th>PrimaryImpression</th>\n",
       "      <th>PatientDisposition</th>\n",
       "      <th>TransportUnitLOC</th>\n",
       "      <th>UnitPrimaryActionTaken</th>\n",
       "      <th>UnitStation</th>\n",
       "      <th>UnitType</th>\n",
       "      <th>UnitArrivalOrder</th>\n",
       "      <th>ShiftDay</th>\n",
       "      <th>TourOfShift</th>\n",
       "      <th>IncidentFirstDue</th>\n",
       "      <th>FinalIncidentType</th>\n",
       "      <th>model_probability</th>\n",
       "      <th>model_prediction</th>\n",
       "    </tr>\n",
       "  </thead>\n",
       "  <tbody>\n",
       "    <tr>\n",
       "      <th>0</th>\n",
       "      <td>401</td>\n",
       "      <td>Level 3: 1 Provider (ALS Care)</td>\n",
       "      <td>3</td>\n",
       "      <td>Patient's Choice,Closest Facility</td>\n",
       "      <td>80 - 89</td>\n",
       "      <td>GI/GU - Nausea (With Vomiting) (R11.2)</td>\n",
       "      <td>Treated &amp; Transported</td>\n",
       "      <td>ALS-Paramedic</td>\n",
       "      <td>Provide manpower</td>\n",
       "      <td>1</td>\n",
       "      <td>Engine</td>\n",
       "      <td>2</td>\n",
       "      <td>B</td>\n",
       "      <td>1.0</td>\n",
       "      <td>1.0</td>\n",
       "      <td>ALS</td>\n",
       "      <td>1.0</td>\n",
       "      <td>11</td>\n",
       "    </tr>\n",
       "  </tbody>\n",
       "</table>\n",
       "</div>"
      ],
      "text/plain": [
       "  TransportUnitID                    TransportLOC  TransportHospitalCode  \\\n",
       "0             401  Level 3: 1 Provider (ALS Care)                      3   \n",
       "\n",
       "           ReasonForChoosingHospital PatientAge  \\\n",
       "0  Patient's Choice,Closest Facility    80 - 89   \n",
       "\n",
       "                        PrimaryImpression      PatientDisposition  \\\n",
       "0  GI/GU - Nausea (With Vomiting) (R11.2)  Treated & Transported    \n",
       "\n",
       "  TransportUnitLOC UnitPrimaryActionTaken UnitStation UnitType  \\\n",
       "0    ALS-Paramedic       Provide manpower           1   Engine   \n",
       "\n",
       "   UnitArrivalOrder ShiftDay TourOfShift  IncidentFirstDue FinalIncidentType  \\\n",
       "0                 2        B         1.0               1.0               ALS   \n",
       "\n",
       "   model_probability  model_prediction  \n",
       "0                1.0                11  "
      ]
     },
     "execution_count": 360,
     "metadata": {},
     "output_type": "execute_result"
    }
   ],
   "source": [
    "incidentpatientunitsfacilitiesmerge.head(1)"
   ]
  },
  {
   "cell_type": "code",
   "execution_count": 12,
   "metadata": {},
   "outputs": [
    {
     "name": "stderr",
     "output_type": "stream",
     "text": [
      "D:\\Softwares\\anaconda3\\lib\\site-packages\\pandas\\core\\ops\\array_ops.py:253: FutureWarning: elementwise comparison failed; returning scalar instead, but in the future will perform elementwise comparison\n",
      "  res_values = method(rvalues)\n"
     ]
    },
    {
     "data": {
      "text/html": [
       "<div>\n",
       "<style scoped>\n",
       "    .dataframe tbody tr th:only-of-type {\n",
       "        vertical-align: middle;\n",
       "    }\n",
       "\n",
       "    .dataframe tbody tr th {\n",
       "        vertical-align: top;\n",
       "    }\n",
       "\n",
       "    .dataframe thead th {\n",
       "        text-align: right;\n",
       "    }\n",
       "</style>\n",
       "<table border=\"1\" class=\"dataframe\">\n",
       "  <thead>\n",
       "    <tr style=\"text-align: right;\">\n",
       "      <th></th>\n",
       "      <th>PrimaryImpression</th>\n",
       "      <th>total_count</th>\n",
       "      <th>mismatch_count</th>\n",
       "      <th>percentage_of_mismatch</th>\n",
       "    </tr>\n",
       "  </thead>\n",
       "  <tbody>\n",
       "  </tbody>\n",
       "</table>\n",
       "</div>"
      ],
      "text/plain": [
       "Empty DataFrame\n",
       "Columns: [PrimaryImpression, total_count, mismatch_count, percentage_of_mismatch]\n",
       "Index: []"
      ]
     },
     "execution_count": 12,
     "metadata": {},
     "output_type": "execute_result"
    }
   ],
   "source": [
    "analyze_feature(incidentpatientunitsfacilitiesmerge[incidentpatientunitsfacilitiesmerge.TransportUnitID== \"415\"], \n",
    "                                                    \"PrimaryImpression\",\n",
    "                                                    0.9, 100)"
   ]
  },
  {
   "cell_type": "code",
   "execution_count": null,
   "metadata": {},
   "outputs": [],
   "source": []
  },
  {
   "cell_type": "code",
   "execution_count": 13,
   "metadata": {},
   "outputs": [
    {
     "name": "stderr",
     "output_type": "stream",
     "text": [
      "D:\\Softwares\\anaconda3\\lib\\site-packages\\pandas\\core\\ops\\array_ops.py:253: FutureWarning: elementwise comparison failed; returning scalar instead, but in the future will perform elementwise comparison\n",
      "  res_values = method(rvalues)\n"
     ]
    },
    {
     "data": {
      "text/html": [
       "<div>\n",
       "<style scoped>\n",
       "    .dataframe tbody tr th:only-of-type {\n",
       "        vertical-align: middle;\n",
       "    }\n",
       "\n",
       "    .dataframe tbody tr th {\n",
       "        vertical-align: top;\n",
       "    }\n",
       "\n",
       "    .dataframe thead th {\n",
       "        text-align: right;\n",
       "    }\n",
       "</style>\n",
       "<table border=\"1\" class=\"dataframe\">\n",
       "  <thead>\n",
       "    <tr style=\"text-align: right;\">\n",
       "      <th></th>\n",
       "      <th>PrimaryImpression</th>\n",
       "      <th>total_count</th>\n",
       "      <th>mismatch_count</th>\n",
       "      <th>percentage_of_mismatch</th>\n",
       "    </tr>\n",
       "  </thead>\n",
       "  <tbody>\n",
       "  </tbody>\n",
       "</table>\n",
       "</div>"
      ],
      "text/plain": [
       "Empty DataFrame\n",
       "Columns: [PrimaryImpression, total_count, mismatch_count, percentage_of_mismatch]\n",
       "Index: []"
      ]
     },
     "execution_count": 13,
     "metadata": {},
     "output_type": "execute_result"
    }
   ],
   "source": [
    "analyze_feature(incidentpatientunitsfacilitiesmerge[incidentpatientunitsfacilitiesmerge.TransportUnitID== \"405\"], \n",
    "                                                    \"PrimaryImpression\",\n",
    "                                                    0.5)"
   ]
  }
 ],
 "metadata": {
  "colab": {
   "name": "Cleaning of Broken data v1_deepa.ipynb",
   "provenance": []
  },
  "kernelspec": {
   "display_name": "Python 3",
   "language": "python",
   "name": "python3"
  },
  "language_info": {
   "codemirror_mode": {
    "name": "ipython",
    "version": 3
   },
   "file_extension": ".py",
   "mimetype": "text/x-python",
   "name": "python",
   "nbconvert_exporter": "python",
   "pygments_lexer": "ipython3",
   "version": "3.7.6"
  }
 },
 "nbformat": 4,
 "nbformat_minor": 5
}
