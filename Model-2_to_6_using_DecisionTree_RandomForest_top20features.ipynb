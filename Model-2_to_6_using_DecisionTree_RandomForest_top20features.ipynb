{
 "cells": [
  {
   "cell_type": "code",
   "execution_count": 1,
   "metadata": {
    "id": "5e463220"
   },
   "outputs": [],
   "source": [
    "# reading data\n",
    "import pandas as pd\n",
    "# Save file\n",
    "from pandas import ExcelWriter\n",
    "from sklearn.model_selection import train_test_split\n",
    "from sklearn.linear_model import LogisticRegression"
   ]
  },
  {
   "cell_type": "code",
   "execution_count": 2,
   "metadata": {},
   "outputs": [],
   "source": [
    "from sklearn.metrics import classification_report\n",
    "from sklearn.ensemble import RandomForestClassifier\n",
    "from sklearn.preprocessing import MinMaxScaler"
   ]
  },
  {
   "cell_type": "code",
   "execution_count": 3,
   "metadata": {},
   "outputs": [],
   "source": [
    "# Importing tree, Pipeline, GridSearchCV from sklearn\n",
    "from sklearn import tree\n",
    "from sklearn.pipeline import Pipeline\n",
    "from sklearn.model_selection import GridSearchCV"
   ]
  },
  {
   "cell_type": "code",
   "execution_count": 4,
   "metadata": {},
   "outputs": [],
   "source": [
    "from sklearn.metrics import make_scorer,f1_score, confusion_matrix, accuracy_score\n",
    "import matplotlib.pyplot as plt"
   ]
  },
  {
   "cell_type": "code",
   "execution_count": 5,
   "metadata": {},
   "outputs": [],
   "source": [
    "from sklearn.inspection import permutation_importance"
   ]
  },
  {
   "cell_type": "code",
   "execution_count": 6,
   "metadata": {},
   "outputs": [],
   "source": [
    "import re"
   ]
  },
  {
   "cell_type": "code",
   "execution_count": 7,
   "metadata": {},
   "outputs": [],
   "source": [
    "%matplotlib inline"
   ]
  },
  {
   "cell_type": "markdown",
   "metadata": {},
   "source": [
    "# Part - 1. Data Acquisition  & Data Cleaning "
   ]
  },
  {
   "cell_type": "code",
   "execution_count": 8,
   "metadata": {},
   "outputs": [],
   "source": [
    "def view_empty_values(df: pd.DataFrame) -> pd.DataFrame:\n",
    "    \"\"\"\n",
    "    Displays the count and % of empty values in a dataframe.\n",
    "    \"\"\"\n",
    "    res = pd.concat([df.dtypes, df.isnull().sum(), df.isnull().sum() / len(df)], axis=1)\n",
    "    res.columns = [\"Dtype\", \"Count of missing\", \"% of missing\"]\n",
    "    return res"
   ]
  },
  {
   "cell_type": "markdown",
   "metadata": {},
   "source": [
    "## 1. Reading the Facilities dataset"
   ]
  },
  {
   "cell_type": "code",
   "execution_count": 9,
   "metadata": {},
   "outputs": [
    {
     "data": {
      "text/html": [
       "<div>\n",
       "<style scoped>\n",
       "    .dataframe tbody tr th:only-of-type {\n",
       "        vertical-align: middle;\n",
       "    }\n",
       "\n",
       "    .dataframe tbody tr th {\n",
       "        vertical-align: top;\n",
       "    }\n",
       "\n",
       "    .dataframe thead th {\n",
       "        text-align: right;\n",
       "    }\n",
       "</style>\n",
       "<table border=\"1\" class=\"dataframe\">\n",
       "  <thead>\n",
       "    <tr style=\"text-align: right;\">\n",
       "      <th></th>\n",
       "      <th>Facility_Name</th>\n",
       "      <th>Facility_Location_Code</th>\n",
       "      <th>Facility_Type_Of_Facility</th>\n",
       "      <th>Facility_Hospital_Designation_List</th>\n",
       "      <th>Facility_Latitude</th>\n",
       "      <th>Facility_Longitude</th>\n",
       "      <th>Facility_Full_Address</th>\n",
       "    </tr>\n",
       "  </thead>\n",
       "  <tbody>\n",
       "    <tr>\n",
       "      <th>0</th>\n",
       "      <td>Novant Health UVA Haymarket Medical Center</td>\n",
       "      <td>216</td>\n",
       "      <td>Free Standing Emergency Room</td>\n",
       "      <td>Hospital (General)</td>\n",
       "      <td>38.423916</td>\n",
       "      <td>77.401647</td>\n",
       "      <td>15225 Heathcote Blvd, Haymarket, Virginia, 201...</td>\n",
       "    </tr>\n",
       "    <tr>\n",
       "      <th>1</th>\n",
       "      <td>Kaiser Permanente - Tysons Corner - Advanced U...</td>\n",
       "      <td>700</td>\n",
       "      <td>Free Standing Emergency Room</td>\n",
       "      <td>NaN</td>\n",
       "      <td>38.929137</td>\n",
       "      <td>77.224601</td>\n",
       "      <td>8008 Westpark Drive, McLean, Virginia, 22102, ...</td>\n",
       "    </tr>\n",
       "  </tbody>\n",
       "</table>\n",
       "</div>"
      ],
      "text/plain": [
       "                                       Facility_Name  Facility_Location_Code  \\\n",
       "0         Novant Health UVA Haymarket Medical Center                     216   \n",
       "1  Kaiser Permanente - Tysons Corner - Advanced U...                     700   \n",
       "\n",
       "      Facility_Type_Of_Facility Facility_Hospital_Designation_List  \\\n",
       "0  Free Standing Emergency Room                 Hospital (General)   \n",
       "1  Free Standing Emergency Room                                NaN   \n",
       "\n",
       "   Facility_Latitude  Facility_Longitude  \\\n",
       "0          38.423916           77.401647   \n",
       "1          38.929137           77.224601   \n",
       "\n",
       "                               Facility_Full_Address  \n",
       "0  15225 Heathcote Blvd, Haymarket, Virginia, 201...  \n",
       "1  8008 Westpark Drive, McLean, Virginia, 22102, ...  "
      ]
     },
     "execution_count": 9,
     "metadata": {},
     "output_type": "execute_result"
    }
   ],
   "source": [
    "df_facility = pd.read_csv(\"dataset/Facilities.txt\", error_bad_lines=False, delimiter= '|')\n",
    "df_facility.head(2)"
   ]
  },
  {
   "cell_type": "markdown",
   "metadata": {},
   "source": [
    "## 2. Handling the null values of Facilities dataset"
   ]
  },
  {
   "cell_type": "code",
   "execution_count": 10,
   "metadata": {},
   "outputs": [
    {
     "data": {
      "text/plain": [
       "Facility_Name                         0\n",
       "Facility_Location_Code                0\n",
       "Facility_Full_Address                 0\n",
       "Facility_Type_Of_Facility             2\n",
       "Facility_Latitude                     3\n",
       "Facility_Longitude                    3\n",
       "Facility_Hospital_Designation_List    7\n",
       "dtype: int64"
      ]
     },
     "execution_count": 10,
     "metadata": {},
     "output_type": "execute_result"
    }
   ],
   "source": [
    "df_facility.isnull().sum().sort_values()"
   ]
  },
  {
   "cell_type": "code",
   "execution_count": 11,
   "metadata": {},
   "outputs": [],
   "source": [
    "#### 2.a. Feature - Facility Latitude, Longitude "
   ]
  },
  {
   "cell_type": "code",
   "execution_count": 12,
   "metadata": {},
   "outputs": [],
   "source": [
    "df_facility.Facility_Latitude.fillna(0, inplace=True)"
   ]
  },
  {
   "cell_type": "code",
   "execution_count": 13,
   "metadata": {},
   "outputs": [],
   "source": [
    "df_facility.Facility_Longitude.fillna(0, inplace=True)"
   ]
  },
  {
   "cell_type": "code",
   "execution_count": 14,
   "metadata": {},
   "outputs": [
    {
     "data": {
      "text/plain": [
       "array(['Novant Health UVA Haymarket Medical Center',\n",
       "       'Kaiser Permanente - Tysons Corner - Advanced Urgent Care',\n",
       "       'Landing Zone / Non-Hospital', 'MWHC Stafford Hospital',\n",
       "       'Kaiser Permanente - Woodbridge - Advanced Urgent Care',\n",
       "       'Merrifield Mental Health',\n",
       "       'Walter Reed National Military Medical Center',\n",
       "       'Suburban Hospital', 'Landing Zone', 'Inova Mount Vernon Hospital',\n",
       "       'MedStar Southern Maryland Hospital Center',\n",
       "       'Inova HealthPlex - Ashburn', \"Children's National Medical Center\",\n",
       "       'Sibley Memorial Hospital',\n",
       "       'Inova Emergency Care Center - Reston/Herndon',\n",
       "       'George Washington University Hospital',\n",
       "       'Novant Health UVA Prince William Medical Center',\n",
       "       'Inova Alexandria Hospital',\n",
       "       'Inova HealthPlex - Franconia/Springfield',\n",
       "       'Inova Fairfax Hospital', 'HCA StoneSprings Hospital Center',\n",
       "       'Inova Healthplex - Lorton',\n",
       "       ' Sentara Northern Virginia Medical Center',\n",
       "       'Fort Belvoir Community Hospital', 'Virginia Hospital Center',\n",
       "       'MedStar Washington Hospital Center',\n",
       "       'MedStar Georgetown University Hospital', 'Inova Loudoun Hospital',\n",
       "       'Out Of Area Hospital Not Listed', 'HCA Reston Hospital Center',\n",
       "       'Inova Emergency Care Center - Fairfax',\n",
       "       ' Inova Fair Oaks Hospital'], dtype=object)"
      ]
     },
     "execution_count": 14,
     "metadata": {},
     "output_type": "execute_result"
    }
   ],
   "source": [
    "df_facility.Facility_Name.unique()"
   ]
  },
  {
   "cell_type": "markdown",
   "metadata": {},
   "source": [
    "#### Referred hospital description for filling missing values"
   ]
  },
  {
   "cell_type": "markdown",
   "metadata": {},
   "source": [
    "\n",
    "|  Facility_Name  | Facility_Hospital_Designation_List | Check with partners |\n",
    "| --- | --- | --- |\n",
    "| Landing Zone / Non-Hospital\t | non hospital | Confirmed |\n",
    "|Kaiser Permanente - Tysons Corner - Advanced U...|Hospital General | Confirmed |\n",
    "|MedStar Southern Maryland Hospital Center | Hospital(General), Burns, Stroke, trauma | Confirmed|\n",
    "|HCA StoneSprings Hospital Center|Hospital General | Confirmed|\n",
    "|Out Of Area Hospital Not Listed\t | Hospital General  |Confirmed|"
   ]
  },
  {
   "cell_type": "markdown",
   "metadata": {},
   "source": [
    "#### 2.b. Feature - Facility_Hospital_Designation_List"
   ]
  },
  {
   "cell_type": "code",
   "execution_count": 15,
   "metadata": {},
   "outputs": [],
   "source": [
    "# Confirmation with partners and speciality for hospital in google the following values were replaced\n",
    "\n",
    "df_facility.loc[ df_facility['Facility_Name'].isin(['Kaiser Permanente - Tysons Corner - Advanced Urgent Care','Kaiser Permanente - Woodbridge - Advanced Urgent Care','HCA StoneSprings Hospital Center', 'Out Of Area Hospital Not Listed']), 'Facility_Hospital_Designation_List'] = 'Hospital(General)'"
   ]
  },
  {
   "cell_type": "code",
   "execution_count": 16,
   "metadata": {},
   "outputs": [],
   "source": [
    "\n",
    "df_facility.loc[ df_facility['Facility_Name'].isin(['Landing Zone / Non-Hospital','Landing Zone']), 'Facility_Hospital_Designation_List'] = 'Non Hospital'"
   ]
  },
  {
   "cell_type": "code",
   "execution_count": 17,
   "metadata": {},
   "outputs": [],
   "source": [
    "\n",
    "df_facility.loc[ df_facility['Facility_Name'].isin(['MedStar Southern Maryland Hospital Center']), 'Facility_Hospital_Designation_List'] = 'Hospital(General), Burns, Stroke, trauma'"
   ]
  },
  {
   "cell_type": "markdown",
   "metadata": {},
   "source": [
    "#### 2.c. Feature - Facility_Type_Of_Facility"
   ]
  },
  {
   "cell_type": "code",
   "execution_count": 18,
   "metadata": {},
   "outputs": [],
   "source": [
    "# Replacing null values for facility_type  with 'Non hospital service'\n",
    "df_facility.Facility_Type_Of_Facility.fillna('Non hospital service', inplace=True)"
   ]
  },
  {
   "cell_type": "code",
   "execution_count": 19,
   "metadata": {},
   "outputs": [
    {
     "data": {
      "text/plain": [
       "Facility_Name                         0\n",
       "Facility_Location_Code                0\n",
       "Facility_Type_Of_Facility             0\n",
       "Facility_Hospital_Designation_List    0\n",
       "Facility_Latitude                     0\n",
       "Facility_Longitude                    0\n",
       "Facility_Full_Address                 0\n",
       "dtype: int64"
      ]
     },
     "execution_count": 19,
     "metadata": {},
     "output_type": "execute_result"
    }
   ],
   "source": [
    "# All  null values in facility dataset were handled\n",
    "df_facility.isnull().sum().sort_values()"
   ]
  },
  {
   "cell_type": "code",
   "execution_count": 20,
   "metadata": {},
   "outputs": [
    {
     "data": {
      "text/plain": [
       "array(['Novant Health UVA Haymarket Medical Center',\n",
       "       'Kaiser Permanente - Tysons Corner - Advanced Urgent Care',\n",
       "       'Landing Zone / Non-Hospital', 'MWHC Stafford Hospital',\n",
       "       'Kaiser Permanente - Woodbridge - Advanced Urgent Care',\n",
       "       'Merrifield Mental Health',\n",
       "       'Walter Reed National Military Medical Center',\n",
       "       'Suburban Hospital', 'Landing Zone', 'Inova Mount Vernon Hospital',\n",
       "       'MedStar Southern Maryland Hospital Center',\n",
       "       'Inova HealthPlex - Ashburn', \"Children's National Medical Center\",\n",
       "       'Sibley Memorial Hospital',\n",
       "       'Inova Emergency Care Center - Reston/Herndon',\n",
       "       'George Washington University Hospital',\n",
       "       'Novant Health UVA Prince William Medical Center',\n",
       "       'Inova Alexandria Hospital',\n",
       "       'Inova HealthPlex - Franconia/Springfield',\n",
       "       'Inova Fairfax Hospital', 'HCA StoneSprings Hospital Center',\n",
       "       'Inova Healthplex - Lorton',\n",
       "       ' Sentara Northern Virginia Medical Center',\n",
       "       'Fort Belvoir Community Hospital', 'Virginia Hospital Center',\n",
       "       'MedStar Washington Hospital Center',\n",
       "       'MedStar Georgetown University Hospital', 'Inova Loudoun Hospital',\n",
       "       'Out Of Area Hospital Not Listed', 'HCA Reston Hospital Center',\n",
       "       'Inova Emergency Care Center - Fairfax',\n",
       "       ' Inova Fair Oaks Hospital'], dtype=object)"
      ]
     },
     "execution_count": 20,
     "metadata": {},
     "output_type": "execute_result"
    }
   ],
   "source": [
    "df_facility['Facility_Name'].unique()"
   ]
  },
  {
   "cell_type": "code",
   "execution_count": 21,
   "metadata": {},
   "outputs": [
    {
     "data": {
      "text/plain": [
       "array([216, 700, 107, 116, 701, 106, 386, 385, 999,  47, 363, 364, 327,\n",
       "       326, 204, 324,  59,   1, 205,  16, 215, 213,  58, 374,   3, 325,\n",
       "       328,  36, 102,  95, 202,  11], dtype=int64)"
      ]
     },
     "execution_count": 21,
     "metadata": {},
     "output_type": "execute_result"
    }
   ],
   "source": [
    "df_facility['Facility_Location_Code'].unique()"
   ]
  },
  {
   "cell_type": "markdown",
   "metadata": {
    "id": "5db08963"
   },
   "source": [
    "## 3. Reading the IndividualTables dataset - incidents, units, patients, procedures, medications"
   ]
  },
  {
   "cell_type": "code",
   "execution_count": 22,
   "metadata": {
    "id": "4584adcc",
    "outputId": "69818126-b708-444c-d816-4df3a4d2f284"
   },
   "outputs": [
    {
     "data": {
      "text/plain": [
       "(122746, 10)"
      ]
     },
     "execution_count": 22,
     "metadata": {},
     "output_type": "execute_result"
    }
   ],
   "source": [
    "# Attributes of incident\n",
    "incidents = pd.read_excel(\"dataset/IndividualTables.xlsx\", sheet_name=\"incidents\")\n",
    "incidents.shape"
   ]
  },
  {
   "cell_type": "code",
   "execution_count": 23,
   "metadata": {
    "id": "70f1a688",
    "outputId": "e8decb7a-f2b7-494e-ca83-69feb40e83cf"
   },
   "outputs": [
    {
     "data": {
      "text/plain": [
       "(280156, 7)"
      ]
     },
     "execution_count": 23,
     "metadata": {},
     "output_type": "execute_result"
    }
   ],
   "source": [
    "# Units that responded to an incident\n",
    "units = pd.read_excel(\"dataset/IndividualTables.xlsx\", sheet_name=\"units\")\n",
    "units.shape"
   ]
  },
  {
   "cell_type": "code",
   "execution_count": 24,
   "metadata": {
    "id": "b555ea13",
    "outputId": "59a11a2b-31ae-4f67-bda8-95942ca3df0e"
   },
   "outputs": [
    {
     "data": {
      "text/plain": [
       "(125147, 13)"
      ]
     },
     "execution_count": 24,
     "metadata": {},
     "output_type": "execute_result"
    }
   ],
   "source": [
    "# Patient affected in the incident \n",
    "patients = pd.read_excel(\"dataset/IndividualTables.xlsx\", sheet_name=\"patients\")\n",
    "patients.shape"
   ]
  },
  {
   "cell_type": "code",
   "execution_count": 25,
   "metadata": {
    "id": "9e6c2f53",
    "outputId": "f547d285-0996-4e97-8a58-4035dc319321"
   },
   "outputs": [
    {
     "data": {
      "text/plain": [
       "(121338, 4)"
      ]
     },
     "execution_count": 25,
     "metadata": {},
     "output_type": "execute_result"
    }
   ],
   "source": [
    "# \n",
    "procedures = pd.read_excel(\"dataset/IndividualTables.xlsx\", sheet_name=\"procedures\")\n",
    "procedures.shape"
   ]
  },
  {
   "cell_type": "code",
   "execution_count": 26,
   "metadata": {
    "id": "3cf1d9b0",
    "outputId": "69f8d904-98e2-4b85-d1bd-aa5bd57991f5"
   },
   "outputs": [
    {
     "data": {
      "text/plain": [
       "(46916, 4)"
      ]
     },
     "execution_count": 26,
     "metadata": {},
     "output_type": "execute_result"
    }
   ],
   "source": [
    "medications = pd.read_excel(\"dataset/IndividualTables.xlsx\", sheet_name=\"medications\")\n",
    "medications.shape"
   ]
  },
  {
   "cell_type": "code",
   "execution_count": 32,
   "metadata": {
    "id": "c57cbee3",
    "outputId": "a75ecd57-bc44-4a30-d04f-37d955297566"
   },
   "outputs": [
    {
     "data": {
      "text/html": [
       "<div>\n",
       "<style scoped>\n",
       "    .dataframe tbody tr th:only-of-type {\n",
       "        vertical-align: middle;\n",
       "    }\n",
       "\n",
       "    .dataframe tbody tr th {\n",
       "        vertical-align: top;\n",
       "    }\n",
       "\n",
       "    .dataframe thead th {\n",
       "        text-align: right;\n",
       "    }\n",
       "</style>\n",
       "<table border=\"1\" class=\"dataframe\">\n",
       "  <thead>\n",
       "    <tr style=\"text-align: right;\">\n",
       "      <th></th>\n",
       "      <th>Dtype</th>\n",
       "      <th>Count of missing</th>\n",
       "      <th>% of missing</th>\n",
       "    </tr>\n",
       "  </thead>\n",
       "  <tbody>\n",
       "    <tr>\n",
       "      <th>PrimaryKey</th>\n",
       "      <td>int64</td>\n",
       "      <td>0</td>\n",
       "      <td>0.0</td>\n",
       "    </tr>\n",
       "    <tr>\n",
       "      <th>CallConfirmedDT</th>\n",
       "      <td>datetime64[ns]</td>\n",
       "      <td>0</td>\n",
       "      <td>0.0</td>\n",
       "    </tr>\n",
       "    <tr>\n",
       "      <th>ShiftDay</th>\n",
       "      <td>object</td>\n",
       "      <td>0</td>\n",
       "      <td>0.0</td>\n",
       "    </tr>\n",
       "    <tr>\n",
       "      <th>TourOfShift</th>\n",
       "      <td>int64</td>\n",
       "      <td>0</td>\n",
       "      <td>0.0</td>\n",
       "    </tr>\n",
       "    <tr>\n",
       "      <th>IncidentFirstDue</th>\n",
       "      <td>float64</td>\n",
       "      <td>0</td>\n",
       "      <td>0.0</td>\n",
       "    </tr>\n",
       "    <tr>\n",
       "      <th>InitialIncidentType</th>\n",
       "      <td>object</td>\n",
       "      <td>0</td>\n",
       "      <td>0.0</td>\n",
       "    </tr>\n",
       "    <tr>\n",
       "      <th>DispatchedIncidentType</th>\n",
       "      <td>object</td>\n",
       "      <td>0</td>\n",
       "      <td>0.0</td>\n",
       "    </tr>\n",
       "    <tr>\n",
       "      <th>ArrivedIncidentType</th>\n",
       "      <td>object</td>\n",
       "      <td>0</td>\n",
       "      <td>0.0</td>\n",
       "    </tr>\n",
       "    <tr>\n",
       "      <th>FinalIncidentType</th>\n",
       "      <td>object</td>\n",
       "      <td>0</td>\n",
       "      <td>0.0</td>\n",
       "    </tr>\n",
       "    <tr>\n",
       "      <th>FinalIncidentTypeDescription</th>\n",
       "      <td>object</td>\n",
       "      <td>0</td>\n",
       "      <td>0.0</td>\n",
       "    </tr>\n",
       "  </tbody>\n",
       "</table>\n",
       "</div>"
      ],
      "text/plain": [
       "                                       Dtype  Count of missing  % of missing\n",
       "PrimaryKey                             int64                 0           0.0\n",
       "CallConfirmedDT               datetime64[ns]                 0           0.0\n",
       "ShiftDay                              object                 0           0.0\n",
       "TourOfShift                            int64                 0           0.0\n",
       "IncidentFirstDue                     float64                 0           0.0\n",
       "InitialIncidentType                   object                 0           0.0\n",
       "DispatchedIncidentType                object                 0           0.0\n",
       "ArrivedIncidentType                   object                 0           0.0\n",
       "FinalIncidentType                     object                 0           0.0\n",
       "FinalIncidentTypeDescription          object                 0           0.0"
      ]
     },
     "execution_count": 32,
     "metadata": {},
     "output_type": "execute_result"
    }
   ],
   "source": [
    "view_empty_values(incidents)"
   ]
  },
  {
   "cell_type": "code",
   "execution_count": 28,
   "metadata": {
    "id": "4ba35fb7",
    "outputId": "080b5abe-c135-438c-c0aa-6ae0b1526b88"
   },
   "outputs": [
    {
     "data": {
      "text/plain": [
       "(122298, 10)"
      ]
     },
     "execution_count": 28,
     "metadata": {},
     "output_type": "execute_result"
    }
   ],
   "source": [
    "# there are very few missing values in the data so we can drop these records\n",
    "incidents.dropna(inplace=True)\n",
    "incidents.shape"
   ]
  },
  {
   "cell_type": "code",
   "execution_count": 29,
   "metadata": {
    "id": "d95cb533",
    "outputId": "e31f5ef4-20dc-419f-8df6-96c6257efb46"
   },
   "outputs": [
    {
     "data": {
      "text/plain": [
       "0.9999672930056093"
      ]
     },
     "execution_count": 29,
     "metadata": {},
     "output_type": "execute_result"
    }
   ],
   "source": [
    "# are there duplicated Incidents\n",
    "incidents.PrimaryKey.nunique() / len(incidents)"
   ]
  },
  {
   "cell_type": "code",
   "execution_count": 30,
   "metadata": {
    "id": "85a51596",
    "outputId": "f04d91c3-8bad-4e54-c025-4c34b874b9a3"
   },
   "outputs": [
    {
     "data": {
      "text/html": [
       "<div>\n",
       "<style scoped>\n",
       "    .dataframe tbody tr th:only-of-type {\n",
       "        vertical-align: middle;\n",
       "    }\n",
       "\n",
       "    .dataframe tbody tr th {\n",
       "        vertical-align: top;\n",
       "    }\n",
       "\n",
       "    .dataframe thead th {\n",
       "        text-align: right;\n",
       "    }\n",
       "</style>\n",
       "<table border=\"1\" class=\"dataframe\">\n",
       "  <thead>\n",
       "    <tr style=\"text-align: right;\">\n",
       "      <th></th>\n",
       "      <th>PrimaryKey</th>\n",
       "      <th>CallConfirmedDT</th>\n",
       "      <th>ShiftDay</th>\n",
       "      <th>TourOfShift</th>\n",
       "      <th>IncidentFirstDue</th>\n",
       "      <th>InitialIncidentType</th>\n",
       "      <th>DispatchedIncidentType</th>\n",
       "      <th>ArrivedIncidentType</th>\n",
       "      <th>FinalIncidentType</th>\n",
       "      <th>FinalIncidentTypeDescription</th>\n",
       "    </tr>\n",
       "  </thead>\n",
       "  <tbody>\n",
       "    <tr>\n",
       "      <th>5583</th>\n",
       "      <td>9934140833</td>\n",
       "      <td>2018-08-10 22:51:12</td>\n",
       "      <td>C</td>\n",
       "      <td>2</td>\n",
       "      <td>414.0</td>\n",
       "      <td>ACCIF</td>\n",
       "      <td>ACCIF</td>\n",
       "      <td>ACCIF</td>\n",
       "      <td>ACCIF</td>\n",
       "      <td>ACCIDENT W/INJ</td>\n",
       "    </tr>\n",
       "    <tr>\n",
       "      <th>5584</th>\n",
       "      <td>9934140833</td>\n",
       "      <td>2018-08-10 22:51:12</td>\n",
       "      <td>C</td>\n",
       "      <td>2</td>\n",
       "      <td>414.0</td>\n",
       "      <td>ALS</td>\n",
       "      <td>ALS</td>\n",
       "      <td>ALS</td>\n",
       "      <td>ALS</td>\n",
       "      <td>ALS EMERGENCY</td>\n",
       "    </tr>\n",
       "    <tr>\n",
       "      <th>64506</th>\n",
       "      <td>11194080439</td>\n",
       "      <td>2019-10-06 18:40:09</td>\n",
       "      <td>B</td>\n",
       "      <td>3</td>\n",
       "      <td>408.0</td>\n",
       "      <td>ACCIF</td>\n",
       "      <td>ACCIF</td>\n",
       "      <td>ACCIF</td>\n",
       "      <td>ACCIF</td>\n",
       "      <td>ACCIDENT W/INJ</td>\n",
       "    </tr>\n",
       "    <tr>\n",
       "      <th>64507</th>\n",
       "      <td>11194080439</td>\n",
       "      <td>2019-10-06 18:40:09</td>\n",
       "      <td>B</td>\n",
       "      <td>3</td>\n",
       "      <td>408.0</td>\n",
       "      <td>ACCIMF</td>\n",
       "      <td>ACCIMF</td>\n",
       "      <td>ACCIMF</td>\n",
       "      <td>ACCIMF</td>\n",
       "      <td>ACCIDENT W/INJ - MEDIC REQ</td>\n",
       "    </tr>\n",
       "    <tr>\n",
       "      <th>67223</th>\n",
       "      <td>11244338761</td>\n",
       "      <td>2019-10-26 02:47:26</td>\n",
       "      <td>C</td>\n",
       "      <td>2</td>\n",
       "      <td>433.0</td>\n",
       "      <td>ASLTWF</td>\n",
       "      <td>ASLTWF</td>\n",
       "      <td>ASLTWF</td>\n",
       "      <td>ASLTWF</td>\n",
       "      <td>ASSAULT W/WEAPON</td>\n",
       "    </tr>\n",
       "    <tr>\n",
       "      <th>67224</th>\n",
       "      <td>11244338761</td>\n",
       "      <td>2019-10-26 02:47:26</td>\n",
       "      <td>C</td>\n",
       "      <td>2</td>\n",
       "      <td>433.0</td>\n",
       "      <td>MEDICAL</td>\n",
       "      <td>MEDICAL</td>\n",
       "      <td>MEDICAL</td>\n",
       "      <td>MEDICAL</td>\n",
       "      <td>MEDICAL EMERGENCY</td>\n",
       "    </tr>\n",
       "    <tr>\n",
       "      <th>102246</th>\n",
       "      <td>11964264456</td>\n",
       "      <td>2020-07-24 22:15:51</td>\n",
       "      <td>A</td>\n",
       "      <td>2</td>\n",
       "      <td>426.0</td>\n",
       "      <td>ACCIF</td>\n",
       "      <td>ACCIF</td>\n",
       "      <td>ACCIF</td>\n",
       "      <td>ACCIF</td>\n",
       "      <td>ACCIDENT W/INJ</td>\n",
       "    </tr>\n",
       "    <tr>\n",
       "      <th>102247</th>\n",
       "      <td>11964264456</td>\n",
       "      <td>2020-07-24 22:15:51</td>\n",
       "      <td>A</td>\n",
       "      <td>2</td>\n",
       "      <td>426.0</td>\n",
       "      <td>ACCITF</td>\n",
       "      <td>ACCITF</td>\n",
       "      <td>ACCITF</td>\n",
       "      <td>ACCIF</td>\n",
       "      <td>ACCIDENT W/INJ</td>\n",
       "    </tr>\n",
       "  </tbody>\n",
       "</table>\n",
       "</div>"
      ],
      "text/plain": [
       "         PrimaryKey     CallConfirmedDT ShiftDay  TourOfShift  \\\n",
       "5583     9934140833 2018-08-10 22:51:12        C            2   \n",
       "5584     9934140833 2018-08-10 22:51:12        C            2   \n",
       "64506   11194080439 2019-10-06 18:40:09        B            3   \n",
       "64507   11194080439 2019-10-06 18:40:09        B            3   \n",
       "67223   11244338761 2019-10-26 02:47:26        C            2   \n",
       "67224   11244338761 2019-10-26 02:47:26        C            2   \n",
       "102246  11964264456 2020-07-24 22:15:51        A            2   \n",
       "102247  11964264456 2020-07-24 22:15:51        A            2   \n",
       "\n",
       "        IncidentFirstDue InitialIncidentType DispatchedIncidentType  \\\n",
       "5583               414.0               ACCIF                  ACCIF   \n",
       "5584               414.0                 ALS                    ALS   \n",
       "64506              408.0               ACCIF                  ACCIF   \n",
       "64507              408.0              ACCIMF                 ACCIMF   \n",
       "67223              433.0              ASLTWF                 ASLTWF   \n",
       "67224              433.0             MEDICAL                MEDICAL   \n",
       "102246             426.0               ACCIF                  ACCIF   \n",
       "102247             426.0              ACCITF                 ACCITF   \n",
       "\n",
       "       ArrivedIncidentType FinalIncidentType FinalIncidentTypeDescription  \n",
       "5583                 ACCIF             ACCIF               ACCIDENT W/INJ  \n",
       "5584                   ALS               ALS               ALS EMERGENCY   \n",
       "64506                ACCIF             ACCIF               ACCIDENT W/INJ  \n",
       "64507               ACCIMF            ACCIMF   ACCIDENT W/INJ - MEDIC REQ  \n",
       "67223               ASLTWF            ASLTWF             ASSAULT W/WEAPON  \n",
       "67224              MEDICAL           MEDICAL            MEDICAL EMERGENCY  \n",
       "102246               ACCIF             ACCIF               ACCIDENT W/INJ  \n",
       "102247              ACCITF             ACCIF               ACCIDENT W/INJ  "
      ]
     },
     "execution_count": 30,
     "metadata": {},
     "output_type": "execute_result"
    }
   ],
   "source": [
    "incidents[incidents.PrimaryKey.duplicated(keep=False)].sort_values(\"PrimaryKey\")"
   ]
  },
  {
   "cell_type": "code",
   "execution_count": 31,
   "metadata": {
    "id": "064ce704",
    "outputId": "323105e0-cf2a-4386-f545-f59adcdfab6d"
   },
   "outputs": [
    {
     "data": {
      "text/plain": [
       "(122290, 10)"
      ]
     },
     "execution_count": 31,
     "metadata": {},
     "output_type": "execute_result"
    }
   ],
   "source": [
    "# Dropping these records for now\n",
    "incidents.drop_duplicates(subset=[\"PrimaryKey\"], keep=False, inplace=True)\n",
    "incidents.shape"
   ]
  },
  {
   "cell_type": "code",
   "execution_count": 33,
   "metadata": {
    "id": "0fcfb3e8",
    "outputId": "83833ae3-d964-4fbe-cf25-d58da0cb6b2c"
   },
   "outputs": [
    {
     "data": {
      "text/html": [
       "<div>\n",
       "<style scoped>\n",
       "    .dataframe tbody tr th:only-of-type {\n",
       "        vertical-align: middle;\n",
       "    }\n",
       "\n",
       "    .dataframe tbody tr th {\n",
       "        vertical-align: top;\n",
       "    }\n",
       "\n",
       "    .dataframe thead th {\n",
       "        text-align: right;\n",
       "    }\n",
       "</style>\n",
       "<table border=\"1\" class=\"dataframe\">\n",
       "  <thead>\n",
       "    <tr style=\"text-align: right;\">\n",
       "      <th></th>\n",
       "      <th>Dtype</th>\n",
       "      <th>Count of missing</th>\n",
       "      <th>% of missing</th>\n",
       "    </tr>\n",
       "  </thead>\n",
       "  <tbody>\n",
       "    <tr>\n",
       "      <th>PrimaryKey</th>\n",
       "      <td>int64</td>\n",
       "      <td>0</td>\n",
       "      <td>0.000000</td>\n",
       "    </tr>\n",
       "    <tr>\n",
       "      <th>ResponseUnitID</th>\n",
       "      <td>object</td>\n",
       "      <td>0</td>\n",
       "      <td>0.000000</td>\n",
       "    </tr>\n",
       "    <tr>\n",
       "      <th>UnitPrimaryActionTaken</th>\n",
       "      <td>object</td>\n",
       "      <td>34</td>\n",
       "      <td>0.000121</td>\n",
       "    </tr>\n",
       "    <tr>\n",
       "      <th>UnitOtherActionsTaken</th>\n",
       "      <td>object</td>\n",
       "      <td>176855</td>\n",
       "      <td>0.631273</td>\n",
       "    </tr>\n",
       "    <tr>\n",
       "      <th>UnitStation</th>\n",
       "      <td>object</td>\n",
       "      <td>39</td>\n",
       "      <td>0.000139</td>\n",
       "    </tr>\n",
       "    <tr>\n",
       "      <th>UnitType</th>\n",
       "      <td>object</td>\n",
       "      <td>0</td>\n",
       "      <td>0.000000</td>\n",
       "    </tr>\n",
       "    <tr>\n",
       "      <th>UnitArrivalOrder</th>\n",
       "      <td>float64</td>\n",
       "      <td>25103</td>\n",
       "      <td>0.089604</td>\n",
       "    </tr>\n",
       "  </tbody>\n",
       "</table>\n",
       "</div>"
      ],
      "text/plain": [
       "                          Dtype  Count of missing  % of missing\n",
       "PrimaryKey                int64                 0      0.000000\n",
       "ResponseUnitID           object                 0      0.000000\n",
       "UnitPrimaryActionTaken   object                34      0.000121\n",
       "UnitOtherActionsTaken    object            176855      0.631273\n",
       "UnitStation              object                39      0.000139\n",
       "UnitType                 object                 0      0.000000\n",
       "UnitArrivalOrder        float64             25103      0.089604"
      ]
     },
     "execution_count": 33,
     "metadata": {},
     "output_type": "execute_result"
    }
   ],
   "source": [
    "view_empty_values(units)"
   ]
  },
  {
   "cell_type": "markdown",
   "metadata": {
    "id": "adc1aeb9"
   },
   "source": [
    "|Column|Missing Value|%missing|Assumed meaning of missing value|\n",
    "|----|----|----|----|\n",
    "|UnitOtherActionsTaken|179609|63%|Combine both 'UnitPrimaryActionTaken' and 'UnitOtherActionTaken' |\n",
    "|UnitStation|49|0.017%|We can drop these values|\n",
    "|UnitArrivalOrder|26135|9%|No unit arrived- replace with 0|\n",
    "|UnitTransportedDT|157474|55%|Unit was not transported?|\n",
    "|UnitTransportedArrivalDT|158333|55%|Unit was not transported?|\n",
    "\n",
    "\n",
    "\n",
    "|Column|Missing Value|%missing|Assumend meaning|\n",
    "|----|----|----|----|\n",
    "|||||\n",
    "|||||\n",
    "|||||\n",
    "|||||"
   ]
  },
  {
   "cell_type": "code",
   "execution_count": 34,
   "metadata": {},
   "outputs": [],
   "source": [
    " # Replaced all the null values of 'UnitArrivalOrder' column with value '0' because No unit arrived\n",
    "units['UnitArrivalOrder'].fillna(0, inplace = True)"
   ]
  },
  {
   "cell_type": "code",
   "execution_count": 37,
   "metadata": {},
   "outputs": [],
   "source": [
    "# Replaced all the null values of 'UnitTransportedDT' column with 00:00:0 because the Unit was not transported\n",
    "patients['UnitTransportedDT'].fillna('00:00:0', inplace = True)"
   ]
  },
  {
   "cell_type": "code",
   "execution_count": 38,
   "metadata": {},
   "outputs": [],
   "source": [
    "# Replaced all the null values of 'UnitTransportedArrivalDT' column with 00:00:0 because the Unit was not transported\n",
    "patients['UnitTransportedArrivalDT'].fillna('00:00:0', inplace = True)"
   ]
  },
  {
   "cell_type": "code",
   "execution_count": 39,
   "metadata": {},
   "outputs": [],
   "source": [
    "# Replaced all the null values of 'UnitOtherActionsTaken' column with 'No other action taken' because the no other action was taken\n",
    "units['UnitOtherActionsTaken'].fillna('No other action taken', inplace = True)"
   ]
  },
  {
   "cell_type": "code",
   "execution_count": 40,
   "metadata": {},
   "outputs": [],
   "source": [
    "# Replaced all the null values of 'UnitPrimaryActionTaken' column with 'No other action taken' because the no  action was taken\n",
    "units['UnitPrimaryActionTaken'].fillna('No action taken', inplace = True)"
   ]
  },
  {
   "cell_type": "code",
   "execution_count": 41,
   "metadata": {},
   "outputs": [
    {
     "name": "stdout",
     "output_type": "stream",
     "text": [
      "(280156, 7)\n"
     ]
    },
    {
     "data": {
      "text/plain": [
       "(280117, 7)"
      ]
     },
     "execution_count": 41,
     "metadata": {},
     "output_type": "execute_result"
    }
   ],
   "source": [
    "# Dropping remaning empty values\n",
    "print(units.shape)\n",
    "units.dropna(inplace=True)\n",
    "units.shape"
   ]
  },
  {
   "cell_type": "code",
   "execution_count": 42,
   "metadata": {},
   "outputs": [
    {
     "data": {
      "text/html": [
       "<div>\n",
       "<style scoped>\n",
       "    .dataframe tbody tr th:only-of-type {\n",
       "        vertical-align: middle;\n",
       "    }\n",
       "\n",
       "    .dataframe tbody tr th {\n",
       "        vertical-align: top;\n",
       "    }\n",
       "\n",
       "    .dataframe thead th {\n",
       "        text-align: right;\n",
       "    }\n",
       "</style>\n",
       "<table border=\"1\" class=\"dataframe\">\n",
       "  <thead>\n",
       "    <tr style=\"text-align: right;\">\n",
       "      <th></th>\n",
       "      <th>Dtype</th>\n",
       "      <th>Count of missing</th>\n",
       "      <th>% of missing</th>\n",
       "    </tr>\n",
       "  </thead>\n",
       "  <tbody>\n",
       "    <tr>\n",
       "      <th>PrimaryKey</th>\n",
       "      <td>int64</td>\n",
       "      <td>0</td>\n",
       "      <td>0.0</td>\n",
       "    </tr>\n",
       "    <tr>\n",
       "      <th>ResponseUnitID</th>\n",
       "      <td>object</td>\n",
       "      <td>0</td>\n",
       "      <td>0.0</td>\n",
       "    </tr>\n",
       "    <tr>\n",
       "      <th>UnitPrimaryActionTaken</th>\n",
       "      <td>object</td>\n",
       "      <td>0</td>\n",
       "      <td>0.0</td>\n",
       "    </tr>\n",
       "    <tr>\n",
       "      <th>UnitOtherActionsTaken</th>\n",
       "      <td>object</td>\n",
       "      <td>0</td>\n",
       "      <td>0.0</td>\n",
       "    </tr>\n",
       "    <tr>\n",
       "      <th>UnitStation</th>\n",
       "      <td>object</td>\n",
       "      <td>0</td>\n",
       "      <td>0.0</td>\n",
       "    </tr>\n",
       "    <tr>\n",
       "      <th>UnitType</th>\n",
       "      <td>object</td>\n",
       "      <td>0</td>\n",
       "      <td>0.0</td>\n",
       "    </tr>\n",
       "    <tr>\n",
       "      <th>UnitArrivalOrder</th>\n",
       "      <td>float64</td>\n",
       "      <td>0</td>\n",
       "      <td>0.0</td>\n",
       "    </tr>\n",
       "  </tbody>\n",
       "</table>\n",
       "</div>"
      ],
      "text/plain": [
       "                          Dtype  Count of missing  % of missing\n",
       "PrimaryKey                int64                 0           0.0\n",
       "ResponseUnitID           object                 0           0.0\n",
       "UnitPrimaryActionTaken   object                 0           0.0\n",
       "UnitOtherActionsTaken    object                 0           0.0\n",
       "UnitStation              object                 0           0.0\n",
       "UnitType                 object                 0           0.0\n",
       "UnitArrivalOrder        float64                 0           0.0"
      ]
     },
     "execution_count": 42,
     "metadata": {},
     "output_type": "execute_result"
    }
   ],
   "source": [
    "view_empty_values(units)"
   ]
  },
  {
   "cell_type": "markdown",
   "metadata": {
    "id": "dbbfdf67"
   },
   "source": [
    "**Q: What is unique key for units?**  \n",
    "**Q: Logic for missing value in units? Do we need to add anew column to indicate that unit was not transported?**"
   ]
  },
  {
   "cell_type": "code",
   "execution_count": 43,
   "metadata": {
    "id": "630be665"
   },
   "outputs": [],
   "source": [
    "# Replaced all the null values of 'TransportHospitalName' column with 'No Hospital service'\n",
    "patients['TransportHospitalCode'].fillna('No Hospital service', inplace = True)"
   ]
  },
  {
   "cell_type": "code",
   "execution_count": 44,
   "metadata": {
    "id": "a9c47c3e"
   },
   "outputs": [],
   "source": [
    "## Replaced all the null values of 'TransportHospitalCode' column with 'No Hospital name'\n",
    "patients['TransportHospitalName'].fillna('No Hospital name', inplace = True)"
   ]
  },
  {
   "cell_type": "code",
   "execution_count": 45,
   "metadata": {
    "id": "9981a285"
   },
   "outputs": [],
   "source": [
    "# Replaced all the null values of 'ReasonForChoosingHospital' column with 'No Hospital service'\n",
    "patients['ReasonForChoosingHospital'].fillna('No Hospital service', inplace = True)"
   ]
  },
  {
   "cell_type": "code",
   "execution_count": 46,
   "metadata": {
    "id": "d7dc16d7"
   },
   "outputs": [],
   "source": [
    "# Replaced all the null values of 'TransportLOC' column with '0'\n",
    "patients['TransportLOC'].fillna('0', inplace = True)"
   ]
  },
  {
   "cell_type": "code",
   "execution_count": 47,
   "metadata": {
    "id": "7d5041e3",
    "outputId": "1119fe78-9304-4cb4-b9d2-e2cbf0a36231"
   },
   "outputs": [
    {
     "data": {
      "text/html": [
       "<div>\n",
       "<style scoped>\n",
       "    .dataframe tbody tr th:only-of-type {\n",
       "        vertical-align: middle;\n",
       "    }\n",
       "\n",
       "    .dataframe tbody tr th {\n",
       "        vertical-align: top;\n",
       "    }\n",
       "\n",
       "    .dataframe thead th {\n",
       "        text-align: right;\n",
       "    }\n",
       "</style>\n",
       "<table border=\"1\" class=\"dataframe\">\n",
       "  <thead>\n",
       "    <tr style=\"text-align: right;\">\n",
       "      <th></th>\n",
       "      <th>Dtype</th>\n",
       "      <th>Count of missing</th>\n",
       "      <th>% of missing</th>\n",
       "    </tr>\n",
       "  </thead>\n",
       "  <tbody>\n",
       "    <tr>\n",
       "      <th>PrimaryKey</th>\n",
       "      <td>int64</td>\n",
       "      <td>0</td>\n",
       "      <td>0.000000</td>\n",
       "    </tr>\n",
       "    <tr>\n",
       "      <th>PatientID</th>\n",
       "      <td>int64</td>\n",
       "      <td>0</td>\n",
       "      <td>0.000000</td>\n",
       "    </tr>\n",
       "    <tr>\n",
       "      <th>TransportUnitID</th>\n",
       "      <td>object</td>\n",
       "      <td>0</td>\n",
       "      <td>0.000000</td>\n",
       "    </tr>\n",
       "    <tr>\n",
       "      <th>UnitTransportedDT</th>\n",
       "      <td>object</td>\n",
       "      <td>0</td>\n",
       "      <td>0.000000</td>\n",
       "    </tr>\n",
       "    <tr>\n",
       "      <th>UnitTransportedArrivalDT</th>\n",
       "      <td>object</td>\n",
       "      <td>0</td>\n",
       "      <td>0.000000</td>\n",
       "    </tr>\n",
       "    <tr>\n",
       "      <th>TransportLOC</th>\n",
       "      <td>object</td>\n",
       "      <td>0</td>\n",
       "      <td>0.000000</td>\n",
       "    </tr>\n",
       "    <tr>\n",
       "      <th>TransportHospitalCode</th>\n",
       "      <td>object</td>\n",
       "      <td>0</td>\n",
       "      <td>0.000000</td>\n",
       "    </tr>\n",
       "    <tr>\n",
       "      <th>TransportHospitalName</th>\n",
       "      <td>object</td>\n",
       "      <td>0</td>\n",
       "      <td>0.000000</td>\n",
       "    </tr>\n",
       "    <tr>\n",
       "      <th>ReasonForChoosingHospital</th>\n",
       "      <td>object</td>\n",
       "      <td>0</td>\n",
       "      <td>0.000000</td>\n",
       "    </tr>\n",
       "    <tr>\n",
       "      <th>PatientAge</th>\n",
       "      <td>object</td>\n",
       "      <td>2</td>\n",
       "      <td>0.000016</td>\n",
       "    </tr>\n",
       "    <tr>\n",
       "      <th>PrimaryImpression</th>\n",
       "      <td>object</td>\n",
       "      <td>3</td>\n",
       "      <td>0.000024</td>\n",
       "    </tr>\n",
       "    <tr>\n",
       "      <th>SecondaryImpression</th>\n",
       "      <td>object</td>\n",
       "      <td>3</td>\n",
       "      <td>0.000024</td>\n",
       "    </tr>\n",
       "    <tr>\n",
       "      <th>PatientDisposition</th>\n",
       "      <td>object</td>\n",
       "      <td>0</td>\n",
       "      <td>0.000000</td>\n",
       "    </tr>\n",
       "  </tbody>\n",
       "</table>\n",
       "</div>"
      ],
      "text/plain": [
       "                            Dtype  Count of missing  % of missing\n",
       "PrimaryKey                  int64                 0      0.000000\n",
       "PatientID                   int64                 0      0.000000\n",
       "TransportUnitID            object                 0      0.000000\n",
       "UnitTransportedDT          object                 0      0.000000\n",
       "UnitTransportedArrivalDT   object                 0      0.000000\n",
       "TransportLOC               object                 0      0.000000\n",
       "TransportHospitalCode      object                 0      0.000000\n",
       "TransportHospitalName      object                 0      0.000000\n",
       "ReasonForChoosingHospital  object                 0      0.000000\n",
       "PatientAge                 object                 2      0.000016\n",
       "PrimaryImpression          object                 3      0.000024\n",
       "SecondaryImpression        object                 3      0.000024\n",
       "PatientDisposition         object                 0      0.000000"
      ]
     },
     "execution_count": 47,
     "metadata": {},
     "output_type": "execute_result"
    }
   ],
   "source": [
    "view_empty_values(patients)"
   ]
  },
  {
   "cell_type": "code",
   "execution_count": 48,
   "metadata": {
    "id": "2eeb01bd",
    "outputId": "2c40cdca-b672-4f1b-a358-a08b5cbff512"
   },
   "outputs": [
    {
     "name": "stdout",
     "output_type": "stream",
     "text": [
      "(125147, 13)\n"
     ]
    },
    {
     "data": {
      "text/plain": [
       "(125143, 13)"
      ]
     },
     "execution_count": 48,
     "metadata": {},
     "output_type": "execute_result"
    }
   ],
   "source": [
    "# Dropping remaning empty values\n",
    "print(patients.shape)\n",
    "patients.dropna(inplace=True)\n",
    "patients.shape"
   ]
  },
  {
   "cell_type": "code",
   "execution_count": 49,
   "metadata": {
    "id": "9d98f23e",
    "outputId": "3ebeca62-b923-4e8f-e80e-2094372c8311"
   },
   "outputs": [
    {
     "data": {
      "text/html": [
       "<div>\n",
       "<style scoped>\n",
       "    .dataframe tbody tr th:only-of-type {\n",
       "        vertical-align: middle;\n",
       "    }\n",
       "\n",
       "    .dataframe tbody tr th {\n",
       "        vertical-align: top;\n",
       "    }\n",
       "\n",
       "    .dataframe thead th {\n",
       "        text-align: right;\n",
       "    }\n",
       "</style>\n",
       "<table border=\"1\" class=\"dataframe\">\n",
       "  <thead>\n",
       "    <tr style=\"text-align: right;\">\n",
       "      <th></th>\n",
       "      <th>Dtype</th>\n",
       "      <th>Count of missing</th>\n",
       "      <th>% of missing</th>\n",
       "    </tr>\n",
       "  </thead>\n",
       "  <tbody>\n",
       "    <tr>\n",
       "      <th>PatientID</th>\n",
       "      <td>int64</td>\n",
       "      <td>0</td>\n",
       "      <td>0.0</td>\n",
       "    </tr>\n",
       "    <tr>\n",
       "      <th>ProcedurePrimaryKey</th>\n",
       "      <td>int64</td>\n",
       "      <td>0</td>\n",
       "      <td>0.0</td>\n",
       "    </tr>\n",
       "    <tr>\n",
       "      <th>ProcedurePerformed</th>\n",
       "      <td>object</td>\n",
       "      <td>0</td>\n",
       "      <td>0.0</td>\n",
       "    </tr>\n",
       "    <tr>\n",
       "      <th>isALS_LOC</th>\n",
       "      <td>int64</td>\n",
       "      <td>0</td>\n",
       "      <td>0.0</td>\n",
       "    </tr>\n",
       "  </tbody>\n",
       "</table>\n",
       "</div>"
      ],
      "text/plain": [
       "                      Dtype  Count of missing  % of missing\n",
       "PatientID             int64                 0           0.0\n",
       "ProcedurePrimaryKey   int64                 0           0.0\n",
       "ProcedurePerformed   object                 0           0.0\n",
       "isALS_LOC             int64                 0           0.0"
      ]
     },
     "execution_count": 49,
     "metadata": {},
     "output_type": "execute_result"
    }
   ],
   "source": [
    "view_empty_values(procedures)"
   ]
  },
  {
   "cell_type": "code",
   "execution_count": 50,
   "metadata": {
    "id": "f642320d"
   },
   "outputs": [],
   "source": [
    "# Replaced all the null values of 'MedicationGiven' column with 'No medication given'\n",
    "medications['MedicationGiven'].fillna('No medication given', inplace = True)"
   ]
  },
  {
   "cell_type": "code",
   "execution_count": 51,
   "metadata": {
    "id": "45326593",
    "outputId": "c500a686-7717-445f-d4c9-a7aa29bf40df"
   },
   "outputs": [
    {
     "data": {
      "text/html": [
       "<div>\n",
       "<style scoped>\n",
       "    .dataframe tbody tr th:only-of-type {\n",
       "        vertical-align: middle;\n",
       "    }\n",
       "\n",
       "    .dataframe tbody tr th {\n",
       "        vertical-align: top;\n",
       "    }\n",
       "\n",
       "    .dataframe thead th {\n",
       "        text-align: right;\n",
       "    }\n",
       "</style>\n",
       "<table border=\"1\" class=\"dataframe\">\n",
       "  <thead>\n",
       "    <tr style=\"text-align: right;\">\n",
       "      <th></th>\n",
       "      <th>Dtype</th>\n",
       "      <th>Count of missing</th>\n",
       "      <th>% of missing</th>\n",
       "    </tr>\n",
       "  </thead>\n",
       "  <tbody>\n",
       "    <tr>\n",
       "      <th>PatientID</th>\n",
       "      <td>int64</td>\n",
       "      <td>0</td>\n",
       "      <td>0.0</td>\n",
       "    </tr>\n",
       "    <tr>\n",
       "      <th>MedicationPrimaryKey</th>\n",
       "      <td>int64</td>\n",
       "      <td>0</td>\n",
       "      <td>0.0</td>\n",
       "    </tr>\n",
       "    <tr>\n",
       "      <th>MedicationGiven</th>\n",
       "      <td>object</td>\n",
       "      <td>0</td>\n",
       "      <td>0.0</td>\n",
       "    </tr>\n",
       "    <tr>\n",
       "      <th>isALS_LOC</th>\n",
       "      <td>int64</td>\n",
       "      <td>0</td>\n",
       "      <td>0.0</td>\n",
       "    </tr>\n",
       "  </tbody>\n",
       "</table>\n",
       "</div>"
      ],
      "text/plain": [
       "                       Dtype  Count of missing  % of missing\n",
       "PatientID              int64                 0           0.0\n",
       "MedicationPrimaryKey   int64                 0           0.0\n",
       "MedicationGiven       object                 0           0.0\n",
       "isALS_LOC              int64                 0           0.0"
      ]
     },
     "execution_count": 51,
     "metadata": {},
     "output_type": "execute_result"
    }
   ],
   "source": [
    "view_empty_values(medications)"
   ]
  },
  {
   "cell_type": "code",
   "execution_count": 52,
   "metadata": {
    "id": "9522e7b8"
   },
   "outputs": [],
   "source": [
    "# Save cleaned data to file\n",
    "writer = ExcelWriter(\"dataset/IndividualTablesCleaned.xlsx\")\n",
    "incidents.to_excel(writer, \"incidents\", index=False)\n",
    "units.to_excel(writer, \"units\", index=False)\n",
    "patients.to_excel(writer, \"patients\", index=False)\n",
    "procedures.to_excel(writer, \"procedures\", index=False)\n",
    "medications.to_excel(writer, \"medications\", index=False)\n",
    "writer.save()"
   ]
  },
  {
   "cell_type": "markdown",
   "metadata": {
    "id": "03477779"
   },
   "source": [
    "## Merging datasets\n",
    "Examples of how to merge different datasets"
   ]
  },
  {
   "cell_type": "code",
   "execution_count": 53,
   "metadata": {
    "id": "a3f3377c",
    "outputId": "9d735ae6-736d-490e-81d5-3a543be100ea"
   },
   "outputs": [
    {
     "name": "stdout",
     "output_type": "stream",
     "text": [
      "(122290, 10) (280117, 7)\n"
     ]
    },
    {
     "data": {
      "text/plain": [
       "(279372, 16)"
      ]
     },
     "execution_count": 53,
     "metadata": {},
     "output_type": "execute_result"
    }
   ],
   "source": [
    "# An incident can have multiple units respond\n",
    "print(incidents.shape, units.shape)\n",
    "t = incidents.merge(units, how=\"left\", on=\"PrimaryKey\")\n",
    "t.shape"
   ]
  },
  {
   "cell_type": "code",
   "execution_count": 54,
   "metadata": {
    "id": "762c83cd",
    "outputId": "e06a4cf4-ae8f-4358-e7cc-6348af71e53a"
   },
   "outputs": [
    {
     "name": "stdout",
     "output_type": "stream",
     "text": [
      "(122290, 10) (125143, 13)\n"
     ]
    },
    {
     "data": {
      "text/plain": [
       "(124786, 22)"
      ]
     },
     "execution_count": 54,
     "metadata": {},
     "output_type": "execute_result"
    }
   ],
   "source": [
    "# An incident can have multiple patients\n",
    "print(incidents.shape, patients.shape)\n",
    "t = incidents.merge(patients, how=\"left\", on=\"PrimaryKey\")\n",
    "t.shape"
   ]
  },
  {
   "cell_type": "code",
   "execution_count": 55,
   "metadata": {
    "id": "5f6a67e5",
    "outputId": "76fc04ef-42d4-4524-f155-94cb6a33b529"
   },
   "outputs": [
    {
     "data": {
      "text/plain": [
       "(279372, 16)"
      ]
     },
     "execution_count": 55,
     "metadata": {},
     "output_type": "execute_result"
    }
   ],
   "source": [
    "# Join incident, patient and untis\n",
    "t1  = incidents.merge(units, how=\"left\", on=\"PrimaryKey\")\n",
    "t1.shape"
   ]
  },
  {
   "cell_type": "code",
   "execution_count": 56,
   "metadata": {
    "id": "cba41da9",
    "outputId": "a9e76db1-5eb1-40a4-9d35-673e53fa2c2b"
   },
   "outputs": [
    {
     "name": "stdout",
     "output_type": "stream",
     "text": [
      "(125143, 13) (121338, 4)\n"
     ]
    },
    {
     "data": {
      "text/plain": [
       "(180809, 16)"
      ]
     },
     "execution_count": 56,
     "metadata": {},
     "output_type": "execute_result"
    }
   ],
   "source": [
    "# A patient can undergo multiple/no procedure\n",
    "print(patients.shape, procedures.shape)\n",
    "t = patients.merge(procedures, how=\"left\", on=\"PatientID\")\n",
    "t.shape"
   ]
  },
  {
   "cell_type": "code",
   "execution_count": 57,
   "metadata": {
    "id": "ea553359",
    "outputId": "e666d8a3-3b5c-495b-b2b5-fb2f49988eb2"
   },
   "outputs": [
    {
     "name": "stdout",
     "output_type": "stream",
     "text": [
      "(125143, 13) (46916, 4)\n"
     ]
    },
    {
     "data": {
      "text/plain": [
       "(143215, 16)"
      ]
     },
     "execution_count": 57,
     "metadata": {},
     "output_type": "execute_result"
    }
   ],
   "source": [
    "# A patient can be given multiple/no medications\n",
    "print(patients.shape, medications.shape)\n",
    "t = patients.merge(medications, how=\"left\", on=\"PatientID\")\n",
    "t.shape"
   ]
  },
  {
   "cell_type": "code",
   "execution_count": 58,
   "metadata": {
    "id": "0fb23d51",
    "outputId": "4bc0c8b4-a90c-4437-cc95-fff4c02dc5e6"
   },
   "outputs": [
    {
     "data": {
      "text/plain": [
       "['Acetylsalicylic Acid (Aspirin, ASA) ',\n",
       " 'Adenosine (Adenocard)',\n",
       " 'Albuterol (Ventolin) ',\n",
       " 'Amiodarone (Cordarone)',\n",
       " 'Atropine (Atropine Sulfate) ',\n",
       " 'Calcium Chloride (10%) ',\n",
       " 'Cyanokit (Hydroxocobalamin)',\n",
       " 'Dextrose 10 % (D10)',\n",
       " 'Dextrose 50 % (D50)',\n",
       " 'Diazepam (Valium)',\n",
       " 'Diphenhydramine (Benadryl)',\n",
       " 'Epinephrine 0.1 MG/ML (1:10,000)',\n",
       " 'Epinephrine 1 MG/ML (1:1,000)',\n",
       " 'Fentanyl Citrate (Sublimaze) ',\n",
       " 'Glucagon (Glucagen)',\n",
       " 'Glucose (Oral)',\n",
       " 'Ipratropium Bromide(Atrovent)',\n",
       " 'Ketamine (Ketalar)',\n",
       " 'Lidocaine (2%) (Xylocaine) ',\n",
       " 'Magnesium Sulfate (50%) ',\n",
       " 'Methylprednisolone (Solu-Medrol) ',\n",
       " 'Midazolam (Versed)',\n",
       " 'Morphine (Morphine Sulfate) ',\n",
       " 'Naloxone (Narcan)',\n",
       " 'Nitroglycerin',\n",
       " 'No medication given',\n",
       " 'Norepinephrine (Levophed)',\n",
       " 'Normal saline',\n",
       " 'Ondansetron (Zofran)',\n",
       " 'Oxygen',\n",
       " 'Sodium Bicarbonate (8.4%) ',\n",
       " 'Tetracaine',\n",
       " 'Tranexamic Acid (TXA)']"
      ]
     },
     "execution_count": 58,
     "metadata": {},
     "output_type": "execute_result"
    }
   ],
   "source": [
    "sorted(medications.MedicationGiven[medications.MedicationGiven.notnull()].unique())"
   ]
  },
  {
   "cell_type": "code",
   "execution_count": 59,
   "metadata": {
    "id": "08e75685",
    "outputId": "e85c6352-8887-4555-b816-b9a9b1f88f7b"
   },
   "outputs": [
    {
     "data": {
      "text/plain": [
       "(68, 33)"
      ]
     },
     "execution_count": 59,
     "metadata": {},
     "output_type": "execute_result"
    }
   ],
   "source": [
    "procedures.ProcedurePerformed.nunique(), medications.MedicationGiven.nunique()"
   ]
  },
  {
   "cell_type": "code",
   "execution_count": 60,
   "metadata": {},
   "outputs": [],
   "source": [
    "## Ideas for Model\n",
    "# Model 1: What medication/procedure to be followed for an incident?  \n",
    "# Model 2: Where should a patient be taken after incident?"
   ]
  },
  {
   "cell_type": "markdown",
   "metadata": {},
   "source": [
    "### Model for week 12- Full Sprint 4.2 - code starts here"
   ]
  },
  {
   "cell_type": "code",
   "execution_count": 62,
   "metadata": {},
   "outputs": [
    {
     "name": "stdout",
     "output_type": "stream",
     "text": [
      "(125143, 13) (280117, 7)\n"
     ]
    },
    {
     "data": {
      "text/plain": [
       "(125157, 19)"
      ]
     },
     "execution_count": 62,
     "metadata": {},
     "output_type": "execute_result"
    }
   ],
   "source": [
    "#Merge patients with the units - Units 0:many patients\n",
    "print(patients.shape, units.shape)\n",
    "patientunitsmerge = patients.merge(units, left_on=[\"PrimaryKey\", \"TransportUnitID\"],  right_on= [\"PrimaryKey\", \"ResponseUnitID\"])\n",
    "patientunitsmerge.shape"
   ]
  },
  {
   "cell_type": "code",
   "execution_count": 63,
   "metadata": {},
   "outputs": [
    {
     "name": "stdout",
     "output_type": "stream",
     "text": [
      "(125157, 19) (122290, 10)\n"
     ]
    },
    {
     "data": {
      "text/plain": [
       "(125157, 28)"
      ]
     },
     "execution_count": 63,
     "metadata": {},
     "output_type": "execute_result"
    }
   ],
   "source": [
    "print(patientunitsmerge.shape, incidents.shape)\n",
    "incidentpatientunitsmerge = patientunitsmerge.merge(incidents, how=\"left\", on=\"PrimaryKey\")\n",
    "incidentpatientunitsmerge.shape"
   ]
  },
  {
   "cell_type": "code",
   "execution_count": 64,
   "metadata": {},
   "outputs": [
    {
     "data": {
      "text/plain": [
       "array([3.0, 16.0, 95.0, 11.0, 1.0, 47.0, 103.0, 'No Hospital service',\n",
       "       36.0, 215.0, 213.0, 205.0, 202.0, 102.0, 325.0, 999.0, 58.0, 328.0,\n",
       "       204.0, 327.0, 326.0, 324.0, 59.0, 364.0, 363.0, 374.0, 116.0,\n",
       "       216.0, 107.0, 700.0, 701.0], dtype=object)"
      ]
     },
     "execution_count": 64,
     "metadata": {},
     "output_type": "execute_result"
    }
   ],
   "source": [
    "incidentpatientunitsmerge['TransportHospitalCode'].unique()"
   ]
  },
  {
   "cell_type": "code",
   "execution_count": 65,
   "metadata": {},
   "outputs": [],
   "source": [
    "incidentpatientunitsmerge.loc[incidentpatientunitsmerge['TransportHospitalCode'] == 'No Hospital service', 'TransportHospitalCode'] = 111\n",
    "incidentpatientunitsmerge['TransportHospitalCode'] = incidentpatientunitsmerge['TransportHospitalCode'].astype(int)"
   ]
  },
  {
   "cell_type": "code",
   "execution_count": 66,
   "metadata": {},
   "outputs": [
    {
     "name": "stdout",
     "output_type": "stream",
     "text": [
      "(125157, 28) (32, 7)\n"
     ]
    },
    {
     "data": {
      "text/plain": [
       "(125157, 35)"
      ]
     },
     "execution_count": 66,
     "metadata": {},
     "output_type": "execute_result"
    }
   ],
   "source": [
    "print(incidentpatientunitsmerge.shape, df_facility.shape)\n",
    "incidentpatientunitsfacilitiesmerge = incidentpatientunitsmerge.merge(df_facility, how=\"left\", left_on=\"TransportHospitalCode\" , right_on=\"Facility_Location_Code\")\n",
    "incidentpatientunitsfacilitiesmerge.shape"
   ]
  },
  {
   "cell_type": "code",
   "execution_count": 67,
   "metadata": {},
   "outputs": [],
   "source": [
    "#Drop 'TransportHospitalCode'\n",
    "incidentpatientunitsfacilitiesmerge = incidentpatientunitsfacilitiesmerge.drop(columns= ['Facility_Location_Code'])"
   ]
  },
  {
   "cell_type": "code",
   "execution_count": 68,
   "metadata": {},
   "outputs": [
    {
     "data": {
      "text/html": [
       "<div>\n",
       "<style scoped>\n",
       "    .dataframe tbody tr th:only-of-type {\n",
       "        vertical-align: middle;\n",
       "    }\n",
       "\n",
       "    .dataframe tbody tr th {\n",
       "        vertical-align: top;\n",
       "    }\n",
       "\n",
       "    .dataframe thead th {\n",
       "        text-align: right;\n",
       "    }\n",
       "</style>\n",
       "<table border=\"1\" class=\"dataframe\">\n",
       "  <thead>\n",
       "    <tr style=\"text-align: right;\">\n",
       "      <th></th>\n",
       "      <th>PrimaryKey</th>\n",
       "      <th>PatientID</th>\n",
       "      <th>TransportUnitID</th>\n",
       "      <th>UnitTransportedDT</th>\n",
       "      <th>UnitTransportedArrivalDT</th>\n",
       "      <th>TransportLOC</th>\n",
       "      <th>TransportHospitalCode</th>\n",
       "      <th>TransportHospitalName</th>\n",
       "      <th>ReasonForChoosingHospital</th>\n",
       "      <th>PatientAge</th>\n",
       "      <th>...</th>\n",
       "      <th>DispatchedIncidentType</th>\n",
       "      <th>ArrivedIncidentType</th>\n",
       "      <th>FinalIncidentType</th>\n",
       "      <th>FinalIncidentTypeDescription</th>\n",
       "      <th>Facility_Name</th>\n",
       "      <th>Facility_Type_Of_Facility</th>\n",
       "      <th>Facility_Hospital_Designation_List</th>\n",
       "      <th>Facility_Latitude</th>\n",
       "      <th>Facility_Longitude</th>\n",
       "      <th>Facility_Full_Address</th>\n",
       "    </tr>\n",
       "  </thead>\n",
       "  <tbody>\n",
       "    <tr>\n",
       "      <th>0</th>\n",
       "      <td>9804015371</td>\n",
       "      <td>640838</td>\n",
       "      <td>M401</td>\n",
       "      <td>2018-07-01 02:47:55</td>\n",
       "      <td>2018-07-01 03:06:39</td>\n",
       "      <td>Level 3: 1 Provider (ALS Care)</td>\n",
       "      <td>3</td>\n",
       "      <td>Virginia Hospital Center</td>\n",
       "      <td>Patient's Choice,Closest Facility</td>\n",
       "      <td>80 - 89</td>\n",
       "      <td>...</td>\n",
       "      <td>ALS</td>\n",
       "      <td>ALS</td>\n",
       "      <td>ALS</td>\n",
       "      <td>ALS EMERGENCY</td>\n",
       "      <td>Virginia Hospital Center</td>\n",
       "      <td>Hospital</td>\n",
       "      <td>Designated Stroke Center,Hospital (General),Pe...</td>\n",
       "      <td>38.889271</td>\n",
       "      <td>77.126523</td>\n",
       "      <td>1701 N. George Mason Drive, Arlington, Virgin...</td>\n",
       "    </tr>\n",
       "    <tr>\n",
       "      <th>1</th>\n",
       "      <td>9804016046</td>\n",
       "      <td>641032</td>\n",
       "      <td>M401</td>\n",
       "      <td>2018-07-01 11:44:54</td>\n",
       "      <td>2018-07-01 11:55:05</td>\n",
       "      <td>Level 4: 1 Provider (BLS Care)</td>\n",
       "      <td>3</td>\n",
       "      <td>Virginia Hospital Center</td>\n",
       "      <td>Patient's Choice</td>\n",
       "      <td>80 - 89</td>\n",
       "      <td>...</td>\n",
       "      <td>BLS</td>\n",
       "      <td>BLS</td>\n",
       "      <td>BLS</td>\n",
       "      <td>BLS EMERGENCY</td>\n",
       "      <td>Virginia Hospital Center</td>\n",
       "      <td>Hospital</td>\n",
       "      <td>Designated Stroke Center,Hospital (General),Pe...</td>\n",
       "      <td>38.889271</td>\n",
       "      <td>77.126523</td>\n",
       "      <td>1701 N. George Mason Drive, Arlington, Virgin...</td>\n",
       "    </tr>\n",
       "    <tr>\n",
       "      <th>2</th>\n",
       "      <td>9804018610</td>\n",
       "      <td>641839</td>\n",
       "      <td>M401</td>\n",
       "      <td>2018-07-02 09:54:49</td>\n",
       "      <td>2018-07-02 10:08:54</td>\n",
       "      <td>Level 4: 1 Provider (BLS Care)</td>\n",
       "      <td>16</td>\n",
       "      <td>Fairfax Hospital</td>\n",
       "      <td>Closest Facility</td>\n",
       "      <td>40 - 49</td>\n",
       "      <td>...</td>\n",
       "      <td>BLS</td>\n",
       "      <td>BLS</td>\n",
       "      <td>BLS</td>\n",
       "      <td>BLS EMERGENCY</td>\n",
       "      <td>Inova Fairfax Hospital</td>\n",
       "      <td>Hospital</td>\n",
       "      <td>Designated Stroke Center,Hospital (General),Le...</td>\n",
       "      <td>38.857392</td>\n",
       "      <td>77.226309</td>\n",
       "      <td>3300 Gallows Road, West Falls Church, Virginia...</td>\n",
       "    </tr>\n",
       "    <tr>\n",
       "      <th>3</th>\n",
       "      <td>9804018946</td>\n",
       "      <td>641959</td>\n",
       "      <td>M401</td>\n",
       "      <td>2018-07-02 11:41:42</td>\n",
       "      <td>2018-07-02 12:08:36</td>\n",
       "      <td>Level 4: 1 Provider (BLS Care)</td>\n",
       "      <td>3</td>\n",
       "      <td>Virginia Hospital Center</td>\n",
       "      <td>Closest Facility,Family Choice,Patient's Physi...</td>\n",
       "      <td>80 - 89</td>\n",
       "      <td>...</td>\n",
       "      <td>BLS</td>\n",
       "      <td>BLS</td>\n",
       "      <td>BLS</td>\n",
       "      <td>BLS EMERGENCY</td>\n",
       "      <td>Virginia Hospital Center</td>\n",
       "      <td>Hospital</td>\n",
       "      <td>Designated Stroke Center,Hospital (General),Pe...</td>\n",
       "      <td>38.889271</td>\n",
       "      <td>77.126523</td>\n",
       "      <td>1701 N. George Mason Drive, Arlington, Virgin...</td>\n",
       "    </tr>\n",
       "    <tr>\n",
       "      <th>4</th>\n",
       "      <td>9804019337</td>\n",
       "      <td>642086</td>\n",
       "      <td>M401</td>\n",
       "      <td>2018-07-02 14:21:28</td>\n",
       "      <td>2018-07-02 14:33:41</td>\n",
       "      <td>Level 3: 1 Provider (ALS Care)</td>\n",
       "      <td>3</td>\n",
       "      <td>Virginia Hospital Center</td>\n",
       "      <td>Closest Facility,Patient's Physician's Choice</td>\n",
       "      <td>20 - 29</td>\n",
       "      <td>...</td>\n",
       "      <td>ALS</td>\n",
       "      <td>ALS</td>\n",
       "      <td>ALS</td>\n",
       "      <td>ALS EMERGENCY</td>\n",
       "      <td>Virginia Hospital Center</td>\n",
       "      <td>Hospital</td>\n",
       "      <td>Designated Stroke Center,Hospital (General),Pe...</td>\n",
       "      <td>38.889271</td>\n",
       "      <td>77.126523</td>\n",
       "      <td>1701 N. George Mason Drive, Arlington, Virgin...</td>\n",
       "    </tr>\n",
       "    <tr>\n",
       "      <th>5</th>\n",
       "      <td>9804019821</td>\n",
       "      <td>642222</td>\n",
       "      <td>M401</td>\n",
       "      <td>2018-07-02 16:52:04</td>\n",
       "      <td>2018-07-02 17:09:24</td>\n",
       "      <td>Level 3: 1 Provider (ALS Care)</td>\n",
       "      <td>3</td>\n",
       "      <td>Virginia Hospital Center</td>\n",
       "      <td>Closest Facility,Patient's Choice</td>\n",
       "      <td>90 - 99</td>\n",
       "      <td>...</td>\n",
       "      <td>BLS</td>\n",
       "      <td>ALS</td>\n",
       "      <td>ALS</td>\n",
       "      <td>ALS EMERGENCY</td>\n",
       "      <td>Virginia Hospital Center</td>\n",
       "      <td>Hospital</td>\n",
       "      <td>Designated Stroke Center,Hospital (General),Pe...</td>\n",
       "      <td>38.889271</td>\n",
       "      <td>77.126523</td>\n",
       "      <td>1701 N. George Mason Drive, Arlington, Virgin...</td>\n",
       "    </tr>\n",
       "    <tr>\n",
       "      <th>6</th>\n",
       "      <td>9804025846</td>\n",
       "      <td>640977</td>\n",
       "      <td>M402</td>\n",
       "      <td>2018-07-01 09:28:07</td>\n",
       "      <td>2018-07-01 09:41:45</td>\n",
       "      <td>Level 3: 1 Provider (ALS Care)</td>\n",
       "      <td>16</td>\n",
       "      <td>Fairfax Hospital</td>\n",
       "      <td>Closest Facility</td>\n",
       "      <td>50 - 59</td>\n",
       "      <td>...</td>\n",
       "      <td>BLS</td>\n",
       "      <td>BLS</td>\n",
       "      <td>BLS</td>\n",
       "      <td>BLS EMERGENCY</td>\n",
       "      <td>Inova Fairfax Hospital</td>\n",
       "      <td>Hospital</td>\n",
       "      <td>Designated Stroke Center,Hospital (General),Le...</td>\n",
       "      <td>38.857392</td>\n",
       "      <td>77.226309</td>\n",
       "      <td>3300 Gallows Road, West Falls Church, Virginia...</td>\n",
       "    </tr>\n",
       "    <tr>\n",
       "      <th>7</th>\n",
       "      <td>9804026735</td>\n",
       "      <td>641291</td>\n",
       "      <td>M402</td>\n",
       "      <td>2018-07-01 17:54:06</td>\n",
       "      <td>2018-07-01 18:09:54</td>\n",
       "      <td>Level 3: 1 Provider (ALS Care)</td>\n",
       "      <td>16</td>\n",
       "      <td>Fairfax Hospital</td>\n",
       "      <td>Closest Facility</td>\n",
       "      <td>80 - 89</td>\n",
       "      <td>...</td>\n",
       "      <td>BLS</td>\n",
       "      <td>BLS</td>\n",
       "      <td>BLS</td>\n",
       "      <td>BLS EMERGENCY</td>\n",
       "      <td>Inova Fairfax Hospital</td>\n",
       "      <td>Hospital</td>\n",
       "      <td>Designated Stroke Center,Hospital (General),Le...</td>\n",
       "      <td>38.857392</td>\n",
       "      <td>77.226309</td>\n",
       "      <td>3300 Gallows Road, West Falls Church, Virginia...</td>\n",
       "    </tr>\n",
       "    <tr>\n",
       "      <th>8</th>\n",
       "      <td>9804028602</td>\n",
       "      <td>641809</td>\n",
       "      <td>M402</td>\n",
       "      <td>2018-07-02 09:46:14</td>\n",
       "      <td>2018-07-02 09:58:18</td>\n",
       "      <td>Level 3: 1 Provider (ALS Care)</td>\n",
       "      <td>16</td>\n",
       "      <td>Fairfax Hospital</td>\n",
       "      <td>Family Choice</td>\n",
       "      <td>1 - 9</td>\n",
       "      <td>...</td>\n",
       "      <td>ALS</td>\n",
       "      <td>ALS</td>\n",
       "      <td>ALS</td>\n",
       "      <td>ALS EMERGENCY</td>\n",
       "      <td>Inova Fairfax Hospital</td>\n",
       "      <td>Hospital</td>\n",
       "      <td>Designated Stroke Center,Hospital (General),Le...</td>\n",
       "      <td>38.857392</td>\n",
       "      <td>77.226309</td>\n",
       "      <td>3300 Gallows Road, West Falls Church, Virginia...</td>\n",
       "    </tr>\n",
       "    <tr>\n",
       "      <th>9</th>\n",
       "      <td>9804029208</td>\n",
       "      <td>642020</td>\n",
       "      <td>M434</td>\n",
       "      <td>2018-07-02 13:24:59</td>\n",
       "      <td>2018-07-02 13:43:00</td>\n",
       "      <td>Level 3: 1 Provider (ALS Care)</td>\n",
       "      <td>16</td>\n",
       "      <td>Fairfax Hospital</td>\n",
       "      <td>Closest Facility</td>\n",
       "      <td>70 - 79</td>\n",
       "      <td>...</td>\n",
       "      <td>BLS</td>\n",
       "      <td>BLS</td>\n",
       "      <td>BLS</td>\n",
       "      <td>BLS EMERGENCY</td>\n",
       "      <td>Inova Fairfax Hospital</td>\n",
       "      <td>Hospital</td>\n",
       "      <td>Designated Stroke Center,Hospital (General),Le...</td>\n",
       "      <td>38.857392</td>\n",
       "      <td>77.226309</td>\n",
       "      <td>3300 Gallows Road, West Falls Church, Virginia...</td>\n",
       "    </tr>\n",
       "    <tr>\n",
       "      <th>10</th>\n",
       "      <td>9804029628</td>\n",
       "      <td>642170</td>\n",
       "      <td>M402</td>\n",
       "      <td>2018-07-02 15:58:56</td>\n",
       "      <td>2018-07-02 16:14:28</td>\n",
       "      <td>Level 3: 1 Provider (ALS Care)</td>\n",
       "      <td>16</td>\n",
       "      <td>Fairfax Hospital</td>\n",
       "      <td>Family Choice</td>\n",
       "      <td>80 - 89</td>\n",
       "      <td>...</td>\n",
       "      <td>ALS</td>\n",
       "      <td>ALS</td>\n",
       "      <td>ALS</td>\n",
       "      <td>ALS EMERGENCY</td>\n",
       "      <td>Inova Fairfax Hospital</td>\n",
       "      <td>Hospital</td>\n",
       "      <td>Designated Stroke Center,Hospital (General),Le...</td>\n",
       "      <td>38.857392</td>\n",
       "      <td>77.226309</td>\n",
       "      <td>3300 Gallows Road, West Falls Church, Virginia...</td>\n",
       "    </tr>\n",
       "    <tr>\n",
       "      <th>11</th>\n",
       "      <td>9804046923</td>\n",
       "      <td>641327</td>\n",
       "      <td>M404</td>\n",
       "      <td>2018-07-01 18:59:16</td>\n",
       "      <td>2018-07-01 19:13:35</td>\n",
       "      <td>Level 4: 1 Provider (BLS Care)</td>\n",
       "      <td>95</td>\n",
       "      <td>Reston Hospital Center</td>\n",
       "      <td>Closest Facility</td>\n",
       "      <td>20 - 29</td>\n",
       "      <td>...</td>\n",
       "      <td>ALS</td>\n",
       "      <td>ALS</td>\n",
       "      <td>ALS</td>\n",
       "      <td>ALS EMERGENCY</td>\n",
       "      <td>HCA Reston Hospital Center</td>\n",
       "      <td>Hospital</td>\n",
       "      <td>Designated Stroke Center,Hospital (General),Le...</td>\n",
       "      <td>38.962328</td>\n",
       "      <td>77.363508</td>\n",
       "      <td>1850 Town Center Parkway, Reston, Virginia, 20...</td>\n",
       "    </tr>\n",
       "    <tr>\n",
       "      <th>12</th>\n",
       "      <td>9804047518</td>\n",
       "      <td>641509</td>\n",
       "      <td>M404</td>\n",
       "      <td>2018-07-01 23:38:28</td>\n",
       "      <td>2018-07-01 23:46:29</td>\n",
       "      <td>Level 3: 1 Provider (ALS Care)</td>\n",
       "      <td>95</td>\n",
       "      <td>Reston Hospital Center</td>\n",
       "      <td>Closest Facility</td>\n",
       "      <td>70 - 79</td>\n",
       "      <td>...</td>\n",
       "      <td>BLS</td>\n",
       "      <td>BLS</td>\n",
       "      <td>BLS</td>\n",
       "      <td>BLS EMERGENCY</td>\n",
       "      <td>HCA Reston Hospital Center</td>\n",
       "      <td>Hospital</td>\n",
       "      <td>Designated Stroke Center,Hospital (General),Le...</td>\n",
       "      <td>38.962328</td>\n",
       "      <td>77.363508</td>\n",
       "      <td>1850 Town Center Parkway, Reston, Virginia, 20...</td>\n",
       "    </tr>\n",
       "    <tr>\n",
       "      <th>13</th>\n",
       "      <td>9804048195</td>\n",
       "      <td>641696</td>\n",
       "      <td>M436</td>\n",
       "      <td>2018-07-02 07:05:30</td>\n",
       "      <td>2018-07-02 07:19:47</td>\n",
       "      <td>Level 3: 1 Provider (ALS Care)</td>\n",
       "      <td>11</td>\n",
       "      <td>Fair Oaks Hospital</td>\n",
       "      <td>Family Choice</td>\n",
       "      <td>60 - 69</td>\n",
       "      <td>...</td>\n",
       "      <td>ALS</td>\n",
       "      <td>ALS</td>\n",
       "      <td>ALS</td>\n",
       "      <td>ALS EMERGENCY</td>\n",
       "      <td>Inova Fair Oaks Hospital</td>\n",
       "      <td>Hospital</td>\n",
       "      <td>Hospital (General),Pediatric Trauma Center</td>\n",
       "      <td>38.884529</td>\n",
       "      <td>77.379313</td>\n",
       "      <td>3600 Joseph Siewick Drive, Fairfax County, Vir...</td>\n",
       "    </tr>\n",
       "    <tr>\n",
       "      <th>14</th>\n",
       "      <td>9804048961</td>\n",
       "      <td>642269</td>\n",
       "      <td>M404</td>\n",
       "      <td>2018-07-02 12:03:24</td>\n",
       "      <td>2018-07-02 12:13:13</td>\n",
       "      <td>Level 1: 3 or More Providers (ALS Care)</td>\n",
       "      <td>95</td>\n",
       "      <td>Reston Hospital Center</td>\n",
       "      <td>Closest Facility</td>\n",
       "      <td>60 - 69</td>\n",
       "      <td>...</td>\n",
       "      <td>BLS</td>\n",
       "      <td>ALS</td>\n",
       "      <td>ALS</td>\n",
       "      <td>ALS EMERGENCY</td>\n",
       "      <td>HCA Reston Hospital Center</td>\n",
       "      <td>Hospital</td>\n",
       "      <td>Designated Stroke Center,Hospital (General),Le...</td>\n",
       "      <td>38.962328</td>\n",
       "      <td>77.363508</td>\n",
       "      <td>1850 Town Center Parkway, Reston, Virginia, 20...</td>\n",
       "    </tr>\n",
       "  </tbody>\n",
       "</table>\n",
       "<p>15 rows × 34 columns</p>\n",
       "</div>"
      ],
      "text/plain": [
       "    PrimaryKey  PatientID TransportUnitID    UnitTransportedDT  \\\n",
       "0   9804015371     640838            M401  2018-07-01 02:47:55   \n",
       "1   9804016046     641032            M401  2018-07-01 11:44:54   \n",
       "2   9804018610     641839            M401  2018-07-02 09:54:49   \n",
       "3   9804018946     641959            M401  2018-07-02 11:41:42   \n",
       "4   9804019337     642086            M401  2018-07-02 14:21:28   \n",
       "5   9804019821     642222            M401  2018-07-02 16:52:04   \n",
       "6   9804025846     640977            M402  2018-07-01 09:28:07   \n",
       "7   9804026735     641291            M402  2018-07-01 17:54:06   \n",
       "8   9804028602     641809            M402  2018-07-02 09:46:14   \n",
       "9   9804029208     642020            M434  2018-07-02 13:24:59   \n",
       "10  9804029628     642170            M402  2018-07-02 15:58:56   \n",
       "11  9804046923     641327            M404  2018-07-01 18:59:16   \n",
       "12  9804047518     641509            M404  2018-07-01 23:38:28   \n",
       "13  9804048195     641696            M436  2018-07-02 07:05:30   \n",
       "14  9804048961     642269            M404  2018-07-02 12:03:24   \n",
       "\n",
       "   UnitTransportedArrivalDT                             TransportLOC  \\\n",
       "0       2018-07-01 03:06:39           Level 3: 1 Provider (ALS Care)   \n",
       "1       2018-07-01 11:55:05           Level 4: 1 Provider (BLS Care)   \n",
       "2       2018-07-02 10:08:54           Level 4: 1 Provider (BLS Care)   \n",
       "3       2018-07-02 12:08:36           Level 4: 1 Provider (BLS Care)   \n",
       "4       2018-07-02 14:33:41           Level 3: 1 Provider (ALS Care)   \n",
       "5       2018-07-02 17:09:24           Level 3: 1 Provider (ALS Care)   \n",
       "6       2018-07-01 09:41:45           Level 3: 1 Provider (ALS Care)   \n",
       "7       2018-07-01 18:09:54           Level 3: 1 Provider (ALS Care)   \n",
       "8       2018-07-02 09:58:18           Level 3: 1 Provider (ALS Care)   \n",
       "9       2018-07-02 13:43:00           Level 3: 1 Provider (ALS Care)   \n",
       "10      2018-07-02 16:14:28           Level 3: 1 Provider (ALS Care)   \n",
       "11      2018-07-01 19:13:35           Level 4: 1 Provider (BLS Care)   \n",
       "12      2018-07-01 23:46:29           Level 3: 1 Provider (ALS Care)   \n",
       "13      2018-07-02 07:19:47           Level 3: 1 Provider (ALS Care)   \n",
       "14      2018-07-02 12:13:13  Level 1: 3 or More Providers (ALS Care)   \n",
       "\n",
       "    TransportHospitalCode     TransportHospitalName  \\\n",
       "0                       3  Virginia Hospital Center   \n",
       "1                       3  Virginia Hospital Center   \n",
       "2                      16          Fairfax Hospital   \n",
       "3                       3  Virginia Hospital Center   \n",
       "4                       3  Virginia Hospital Center   \n",
       "5                       3  Virginia Hospital Center   \n",
       "6                      16          Fairfax Hospital   \n",
       "7                      16          Fairfax Hospital   \n",
       "8                      16          Fairfax Hospital   \n",
       "9                      16          Fairfax Hospital   \n",
       "10                     16          Fairfax Hospital   \n",
       "11                     95    Reston Hospital Center   \n",
       "12                     95    Reston Hospital Center   \n",
       "13                     11        Fair Oaks Hospital   \n",
       "14                     95    Reston Hospital Center   \n",
       "\n",
       "                            ReasonForChoosingHospital PatientAge  ...  \\\n",
       "0                   Patient's Choice,Closest Facility    80 - 89  ...   \n",
       "1                                    Patient's Choice    80 - 89  ...   \n",
       "2                                    Closest Facility    40 - 49  ...   \n",
       "3   Closest Facility,Family Choice,Patient's Physi...    80 - 89  ...   \n",
       "4       Closest Facility,Patient's Physician's Choice    20 - 29  ...   \n",
       "5                   Closest Facility,Patient's Choice    90 - 99  ...   \n",
       "6                                    Closest Facility    50 - 59  ...   \n",
       "7                                    Closest Facility    80 - 89  ...   \n",
       "8                                       Family Choice      1 - 9  ...   \n",
       "9                                    Closest Facility    70 - 79  ...   \n",
       "10                                      Family Choice    80 - 89  ...   \n",
       "11                                   Closest Facility    20 - 29  ...   \n",
       "12                                   Closest Facility    70 - 79  ...   \n",
       "13                                      Family Choice    60 - 69  ...   \n",
       "14                                   Closest Facility    60 - 69  ...   \n",
       "\n",
       "   DispatchedIncidentType ArrivedIncidentType FinalIncidentType  \\\n",
       "0                     ALS                 ALS               ALS   \n",
       "1                     BLS                 BLS               BLS   \n",
       "2                     BLS                 BLS               BLS   \n",
       "3                     BLS                 BLS               BLS   \n",
       "4                     ALS                 ALS               ALS   \n",
       "5                     BLS                 ALS               ALS   \n",
       "6                     BLS                 BLS               BLS   \n",
       "7                     BLS                 BLS               BLS   \n",
       "8                     ALS                 ALS               ALS   \n",
       "9                     BLS                 BLS               BLS   \n",
       "10                    ALS                 ALS               ALS   \n",
       "11                    ALS                 ALS               ALS   \n",
       "12                    BLS                 BLS               BLS   \n",
       "13                    ALS                 ALS               ALS   \n",
       "14                    BLS                 ALS               ALS   \n",
       "\n",
       "   FinalIncidentTypeDescription               Facility_Name  \\\n",
       "0                ALS EMERGENCY     Virginia Hospital Center   \n",
       "1                BLS EMERGENCY     Virginia Hospital Center   \n",
       "2                BLS EMERGENCY       Inova Fairfax Hospital   \n",
       "3                BLS EMERGENCY     Virginia Hospital Center   \n",
       "4                ALS EMERGENCY     Virginia Hospital Center   \n",
       "5                ALS EMERGENCY     Virginia Hospital Center   \n",
       "6                BLS EMERGENCY       Inova Fairfax Hospital   \n",
       "7                BLS EMERGENCY       Inova Fairfax Hospital   \n",
       "8                ALS EMERGENCY       Inova Fairfax Hospital   \n",
       "9                BLS EMERGENCY       Inova Fairfax Hospital   \n",
       "10               ALS EMERGENCY       Inova Fairfax Hospital   \n",
       "11               ALS EMERGENCY   HCA Reston Hospital Center   \n",
       "12               BLS EMERGENCY   HCA Reston Hospital Center   \n",
       "13               ALS EMERGENCY     Inova Fair Oaks Hospital   \n",
       "14               ALS EMERGENCY   HCA Reston Hospital Center   \n",
       "\n",
       "   Facility_Type_Of_Facility  \\\n",
       "0                   Hospital   \n",
       "1                   Hospital   \n",
       "2                   Hospital   \n",
       "3                   Hospital   \n",
       "4                   Hospital   \n",
       "5                   Hospital   \n",
       "6                   Hospital   \n",
       "7                   Hospital   \n",
       "8                   Hospital   \n",
       "9                   Hospital   \n",
       "10                  Hospital   \n",
       "11                  Hospital   \n",
       "12                  Hospital   \n",
       "13                  Hospital   \n",
       "14                  Hospital   \n",
       "\n",
       "                   Facility_Hospital_Designation_List Facility_Latitude  \\\n",
       "0   Designated Stroke Center,Hospital (General),Pe...         38.889271   \n",
       "1   Designated Stroke Center,Hospital (General),Pe...         38.889271   \n",
       "2   Designated Stroke Center,Hospital (General),Le...         38.857392   \n",
       "3   Designated Stroke Center,Hospital (General),Pe...         38.889271   \n",
       "4   Designated Stroke Center,Hospital (General),Pe...         38.889271   \n",
       "5   Designated Stroke Center,Hospital (General),Pe...         38.889271   \n",
       "6   Designated Stroke Center,Hospital (General),Le...         38.857392   \n",
       "7   Designated Stroke Center,Hospital (General),Le...         38.857392   \n",
       "8   Designated Stroke Center,Hospital (General),Le...         38.857392   \n",
       "9   Designated Stroke Center,Hospital (General),Le...         38.857392   \n",
       "10  Designated Stroke Center,Hospital (General),Le...         38.857392   \n",
       "11  Designated Stroke Center,Hospital (General),Le...         38.962328   \n",
       "12  Designated Stroke Center,Hospital (General),Le...         38.962328   \n",
       "13         Hospital (General),Pediatric Trauma Center         38.884529   \n",
       "14  Designated Stroke Center,Hospital (General),Le...         38.962328   \n",
       "\n",
       "    Facility_Longitude                              Facility_Full_Address  \n",
       "0            77.126523   1701 N. George Mason Drive, Arlington, Virgin...  \n",
       "1            77.126523   1701 N. George Mason Drive, Arlington, Virgin...  \n",
       "2            77.226309  3300 Gallows Road, West Falls Church, Virginia...  \n",
       "3            77.126523   1701 N. George Mason Drive, Arlington, Virgin...  \n",
       "4            77.126523   1701 N. George Mason Drive, Arlington, Virgin...  \n",
       "5            77.126523   1701 N. George Mason Drive, Arlington, Virgin...  \n",
       "6            77.226309  3300 Gallows Road, West Falls Church, Virginia...  \n",
       "7            77.226309  3300 Gallows Road, West Falls Church, Virginia...  \n",
       "8            77.226309  3300 Gallows Road, West Falls Church, Virginia...  \n",
       "9            77.226309  3300 Gallows Road, West Falls Church, Virginia...  \n",
       "10           77.226309  3300 Gallows Road, West Falls Church, Virginia...  \n",
       "11           77.363508  1850 Town Center Parkway, Reston, Virginia, 20...  \n",
       "12           77.363508  1850 Town Center Parkway, Reston, Virginia, 20...  \n",
       "13           77.379313  3600 Joseph Siewick Drive, Fairfax County, Vir...  \n",
       "14           77.363508  1850 Town Center Parkway, Reston, Virginia, 20...  \n",
       "\n",
       "[15 rows x 34 columns]"
      ]
     },
     "execution_count": 68,
     "metadata": {},
     "output_type": "execute_result"
    }
   ],
   "source": [
    "incidentpatientunitsfacilitiesmerge.head(15)"
   ]
  },
  {
   "cell_type": "code",
   "execution_count": 69,
   "metadata": {},
   "outputs": [
    {
     "data": {
      "text/plain": [
       "Index(['TransportUnitID', 'UnitTransportedDT', 'UnitTransportedArrivalDT',\n",
       "       'TransportLOC', 'TransportHospitalName', 'ReasonForChoosingHospital',\n",
       "       'PatientAge', 'PrimaryImpression', 'SecondaryImpression',\n",
       "       'PatientDisposition', 'ResponseUnitID', 'UnitPrimaryActionTaken',\n",
       "       'UnitOtherActionsTaken', 'UnitStation', 'UnitType', 'ShiftDay',\n",
       "       'InitialIncidentType', 'DispatchedIncidentType', 'ArrivedIncidentType',\n",
       "       'FinalIncidentType', 'FinalIncidentTypeDescription', 'Facility_Name',\n",
       "       'Facility_Type_Of_Facility', 'Facility_Hospital_Designation_List',\n",
       "       'Facility_Full_Address'],\n",
       "      dtype='object')"
      ]
     },
     "execution_count": 69,
     "metadata": {},
     "output_type": "execute_result"
    }
   ],
   "source": [
    "# Categorical data types\n",
    "incidentpatientunitsfacilitiesmerge.select_dtypes(exclude=['int64','int','int32','float','datetime64[ns]']).columns"
   ]
  },
  {
   "cell_type": "code",
   "execution_count": 71,
   "metadata": {},
   "outputs": [
    {
     "data": {
      "text/html": [
       "<div>\n",
       "<style scoped>\n",
       "    .dataframe tbody tr th:only-of-type {\n",
       "        vertical-align: middle;\n",
       "    }\n",
       "\n",
       "    .dataframe tbody tr th {\n",
       "        vertical-align: top;\n",
       "    }\n",
       "\n",
       "    .dataframe thead th {\n",
       "        text-align: right;\n",
       "    }\n",
       "</style>\n",
       "<table border=\"1\" class=\"dataframe\">\n",
       "  <thead>\n",
       "    <tr style=\"text-align: right;\">\n",
       "      <th></th>\n",
       "      <th>Dtype</th>\n",
       "      <th>Count of missing</th>\n",
       "      <th>% of missing</th>\n",
       "    </tr>\n",
       "  </thead>\n",
       "  <tbody>\n",
       "    <tr>\n",
       "      <th>PrimaryKey</th>\n",
       "      <td>int64</td>\n",
       "      <td>0</td>\n",
       "      <td>0.000000</td>\n",
       "    </tr>\n",
       "    <tr>\n",
       "      <th>PatientID</th>\n",
       "      <td>int64</td>\n",
       "      <td>0</td>\n",
       "      <td>0.000000</td>\n",
       "    </tr>\n",
       "    <tr>\n",
       "      <th>TransportUnitID</th>\n",
       "      <td>object</td>\n",
       "      <td>0</td>\n",
       "      <td>0.000000</td>\n",
       "    </tr>\n",
       "    <tr>\n",
       "      <th>UnitTransportedDT</th>\n",
       "      <td>object</td>\n",
       "      <td>0</td>\n",
       "      <td>0.000000</td>\n",
       "    </tr>\n",
       "    <tr>\n",
       "      <th>UnitTransportedArrivalDT</th>\n",
       "      <td>object</td>\n",
       "      <td>0</td>\n",
       "      <td>0.000000</td>\n",
       "    </tr>\n",
       "    <tr>\n",
       "      <th>TransportLOC</th>\n",
       "      <td>object</td>\n",
       "      <td>0</td>\n",
       "      <td>0.000000</td>\n",
       "    </tr>\n",
       "    <tr>\n",
       "      <th>TransportHospitalCode</th>\n",
       "      <td>int32</td>\n",
       "      <td>0</td>\n",
       "      <td>0.000000</td>\n",
       "    </tr>\n",
       "    <tr>\n",
       "      <th>TransportHospitalName</th>\n",
       "      <td>object</td>\n",
       "      <td>0</td>\n",
       "      <td>0.000000</td>\n",
       "    </tr>\n",
       "    <tr>\n",
       "      <th>ReasonForChoosingHospital</th>\n",
       "      <td>object</td>\n",
       "      <td>0</td>\n",
       "      <td>0.000000</td>\n",
       "    </tr>\n",
       "    <tr>\n",
       "      <th>PatientAge</th>\n",
       "      <td>object</td>\n",
       "      <td>0</td>\n",
       "      <td>0.000000</td>\n",
       "    </tr>\n",
       "    <tr>\n",
       "      <th>PrimaryImpression</th>\n",
       "      <td>object</td>\n",
       "      <td>0</td>\n",
       "      <td>0.000000</td>\n",
       "    </tr>\n",
       "    <tr>\n",
       "      <th>SecondaryImpression</th>\n",
       "      <td>object</td>\n",
       "      <td>0</td>\n",
       "      <td>0.000000</td>\n",
       "    </tr>\n",
       "    <tr>\n",
       "      <th>PatientDisposition</th>\n",
       "      <td>object</td>\n",
       "      <td>0</td>\n",
       "      <td>0.000000</td>\n",
       "    </tr>\n",
       "    <tr>\n",
       "      <th>ResponseUnitID</th>\n",
       "      <td>object</td>\n",
       "      <td>0</td>\n",
       "      <td>0.000000</td>\n",
       "    </tr>\n",
       "    <tr>\n",
       "      <th>UnitPrimaryActionTaken</th>\n",
       "      <td>object</td>\n",
       "      <td>0</td>\n",
       "      <td>0.000000</td>\n",
       "    </tr>\n",
       "    <tr>\n",
       "      <th>UnitOtherActionsTaken</th>\n",
       "      <td>object</td>\n",
       "      <td>0</td>\n",
       "      <td>0.000000</td>\n",
       "    </tr>\n",
       "    <tr>\n",
       "      <th>UnitStation</th>\n",
       "      <td>object</td>\n",
       "      <td>0</td>\n",
       "      <td>0.000000</td>\n",
       "    </tr>\n",
       "    <tr>\n",
       "      <th>UnitType</th>\n",
       "      <td>object</td>\n",
       "      <td>0</td>\n",
       "      <td>0.000000</td>\n",
       "    </tr>\n",
       "    <tr>\n",
       "      <th>UnitArrivalOrder</th>\n",
       "      <td>float64</td>\n",
       "      <td>0</td>\n",
       "      <td>0.000000</td>\n",
       "    </tr>\n",
       "    <tr>\n",
       "      <th>CallConfirmedDT</th>\n",
       "      <td>datetime64[ns]</td>\n",
       "      <td>444</td>\n",
       "      <td>0.003548</td>\n",
       "    </tr>\n",
       "    <tr>\n",
       "      <th>ShiftDay</th>\n",
       "      <td>object</td>\n",
       "      <td>444</td>\n",
       "      <td>0.003548</td>\n",
       "    </tr>\n",
       "    <tr>\n",
       "      <th>TourOfShift</th>\n",
       "      <td>float64</td>\n",
       "      <td>444</td>\n",
       "      <td>0.003548</td>\n",
       "    </tr>\n",
       "    <tr>\n",
       "      <th>IncidentFirstDue</th>\n",
       "      <td>float64</td>\n",
       "      <td>444</td>\n",
       "      <td>0.003548</td>\n",
       "    </tr>\n",
       "    <tr>\n",
       "      <th>InitialIncidentType</th>\n",
       "      <td>object</td>\n",
       "      <td>444</td>\n",
       "      <td>0.003548</td>\n",
       "    </tr>\n",
       "    <tr>\n",
       "      <th>DispatchedIncidentType</th>\n",
       "      <td>object</td>\n",
       "      <td>444</td>\n",
       "      <td>0.003548</td>\n",
       "    </tr>\n",
       "    <tr>\n",
       "      <th>ArrivedIncidentType</th>\n",
       "      <td>object</td>\n",
       "      <td>444</td>\n",
       "      <td>0.003548</td>\n",
       "    </tr>\n",
       "    <tr>\n",
       "      <th>FinalIncidentType</th>\n",
       "      <td>object</td>\n",
       "      <td>444</td>\n",
       "      <td>0.003548</td>\n",
       "    </tr>\n",
       "    <tr>\n",
       "      <th>FinalIncidentTypeDescription</th>\n",
       "      <td>object</td>\n",
       "      <td>444</td>\n",
       "      <td>0.003548</td>\n",
       "    </tr>\n",
       "    <tr>\n",
       "      <th>Facility_Name</th>\n",
       "      <td>object</td>\n",
       "      <td>1232</td>\n",
       "      <td>0.009844</td>\n",
       "    </tr>\n",
       "    <tr>\n",
       "      <th>Facility_Type_Of_Facility</th>\n",
       "      <td>object</td>\n",
       "      <td>1232</td>\n",
       "      <td>0.009844</td>\n",
       "    </tr>\n",
       "    <tr>\n",
       "      <th>Facility_Hospital_Designation_List</th>\n",
       "      <td>object</td>\n",
       "      <td>1232</td>\n",
       "      <td>0.009844</td>\n",
       "    </tr>\n",
       "    <tr>\n",
       "      <th>Facility_Latitude</th>\n",
       "      <td>float64</td>\n",
       "      <td>1232</td>\n",
       "      <td>0.009844</td>\n",
       "    </tr>\n",
       "    <tr>\n",
       "      <th>Facility_Longitude</th>\n",
       "      <td>float64</td>\n",
       "      <td>1232</td>\n",
       "      <td>0.009844</td>\n",
       "    </tr>\n",
       "    <tr>\n",
       "      <th>Facility_Full_Address</th>\n",
       "      <td>object</td>\n",
       "      <td>1232</td>\n",
       "      <td>0.009844</td>\n",
       "    </tr>\n",
       "  </tbody>\n",
       "</table>\n",
       "</div>"
      ],
      "text/plain": [
       "                                             Dtype  Count of missing  \\\n",
       "PrimaryKey                                   int64                 0   \n",
       "PatientID                                    int64                 0   \n",
       "TransportUnitID                             object                 0   \n",
       "UnitTransportedDT                           object                 0   \n",
       "UnitTransportedArrivalDT                    object                 0   \n",
       "TransportLOC                                object                 0   \n",
       "TransportHospitalCode                        int32                 0   \n",
       "TransportHospitalName                       object                 0   \n",
       "ReasonForChoosingHospital                   object                 0   \n",
       "PatientAge                                  object                 0   \n",
       "PrimaryImpression                           object                 0   \n",
       "SecondaryImpression                         object                 0   \n",
       "PatientDisposition                          object                 0   \n",
       "ResponseUnitID                              object                 0   \n",
       "UnitPrimaryActionTaken                      object                 0   \n",
       "UnitOtherActionsTaken                       object                 0   \n",
       "UnitStation                                 object                 0   \n",
       "UnitType                                    object                 0   \n",
       "UnitArrivalOrder                           float64                 0   \n",
       "CallConfirmedDT                     datetime64[ns]               444   \n",
       "ShiftDay                                    object               444   \n",
       "TourOfShift                                float64               444   \n",
       "IncidentFirstDue                           float64               444   \n",
       "InitialIncidentType                         object               444   \n",
       "DispatchedIncidentType                      object               444   \n",
       "ArrivedIncidentType                         object               444   \n",
       "FinalIncidentType                           object               444   \n",
       "FinalIncidentTypeDescription                object               444   \n",
       "Facility_Name                               object              1232   \n",
       "Facility_Type_Of_Facility                   object              1232   \n",
       "Facility_Hospital_Designation_List          object              1232   \n",
       "Facility_Latitude                          float64              1232   \n",
       "Facility_Longitude                         float64              1232   \n",
       "Facility_Full_Address                       object              1232   \n",
       "\n",
       "                                    % of missing  \n",
       "PrimaryKey                              0.000000  \n",
       "PatientID                               0.000000  \n",
       "TransportUnitID                         0.000000  \n",
       "UnitTransportedDT                       0.000000  \n",
       "UnitTransportedArrivalDT                0.000000  \n",
       "TransportLOC                            0.000000  \n",
       "TransportHospitalCode                   0.000000  \n",
       "TransportHospitalName                   0.000000  \n",
       "ReasonForChoosingHospital               0.000000  \n",
       "PatientAge                              0.000000  \n",
       "PrimaryImpression                       0.000000  \n",
       "SecondaryImpression                     0.000000  \n",
       "PatientDisposition                      0.000000  \n",
       "ResponseUnitID                          0.000000  \n",
       "UnitPrimaryActionTaken                  0.000000  \n",
       "UnitOtherActionsTaken                   0.000000  \n",
       "UnitStation                             0.000000  \n",
       "UnitType                                0.000000  \n",
       "UnitArrivalOrder                        0.000000  \n",
       "CallConfirmedDT                         0.003548  \n",
       "ShiftDay                                0.003548  \n",
       "TourOfShift                             0.003548  \n",
       "IncidentFirstDue                        0.003548  \n",
       "InitialIncidentType                     0.003548  \n",
       "DispatchedIncidentType                  0.003548  \n",
       "ArrivedIncidentType                     0.003548  \n",
       "FinalIncidentType                       0.003548  \n",
       "FinalIncidentTypeDescription            0.003548  \n",
       "Facility_Name                           0.009844  \n",
       "Facility_Type_Of_Facility               0.009844  \n",
       "Facility_Hospital_Designation_List      0.009844  \n",
       "Facility_Latitude                       0.009844  \n",
       "Facility_Longitude                      0.009844  \n",
       "Facility_Full_Address                   0.009844  "
      ]
     },
     "execution_count": 71,
     "metadata": {},
     "output_type": "execute_result"
    }
   ],
   "source": [
    "view_empty_values(incidentpatientunitsfacilitiesmerge)"
   ]
  },
  {
   "cell_type": "code",
   "execution_count": 72,
   "metadata": {},
   "outputs": [
    {
     "data": {
      "text/plain": [
       "(123484, 34)"
      ]
     },
     "execution_count": 72,
     "metadata": {},
     "output_type": "execute_result"
    }
   ],
   "source": [
    "incidentpatientunitsfacilitiesmerge.dropna(inplace=True)\n",
    "incidentpatientunitsfacilitiesmerge.shape"
   ]
  },
  {
   "cell_type": "markdown",
   "metadata": {},
   "source": [
    "#### Model 2 - Random Forest - for UnitID trimmed to include only numeric values"
   ]
  },
  {
   "cell_type": "code",
   "execution_count": 73,
   "metadata": {},
   "outputs": [],
   "source": [
    "# InitialIncidentType\tDispatchedIncidentType\tArrivedIncidentType\tFinalIncidentType\tFinalIncidentTypeDescription\n",
    "# Highly corelated features - keeping only one makes sense\n",
    "\n",
    "incidentpatientunitsfacilitiesmerge = incidentpatientunitsfacilitiesmerge.drop(columns= [\"Facility_Latitude\",\"Facility_Longitude\",\"InitialIncidentType\",\"DispatchedIncidentType\",\"ArrivedIncidentType\",\"FinalIncidentTypeDescription\" ])"
   ]
  },
  {
   "cell_type": "code",
   "execution_count": 74,
   "metadata": {},
   "outputs": [],
   "source": [
    "# Nominal values with large variance\n",
    "incidentpatientunitsfacilitiesmerge = incidentpatientunitsfacilitiesmerge.drop(columns= ['UnitTransportedDT', 'UnitTransportedArrivalDT','UnitOtherActionsTaken','SecondaryImpression'])"
   ]
  },
  {
   "cell_type": "code",
   "execution_count": 75,
   "metadata": {},
   "outputs": [],
   "source": [
    "# Its correlated to 'TransportUnitID_y'\n",
    "incidentpatientunitsfacilitiesmerge = incidentpatientunitsfacilitiesmerge.drop(columns= ['ResponseUnitID'])"
   ]
  },
  {
   "cell_type": "code",
   "execution_count": 76,
   "metadata": {},
   "outputs": [],
   "source": [
    "# Not an important feature for prediction\n",
    "incidentpatientunitsfacilitiesmerge = incidentpatientunitsfacilitiesmerge.drop(columns= ['TransportHospitalName','PatientAge'])"
   ]
  },
  {
   "cell_type": "code",
   "execution_count": 78,
   "metadata": {},
   "outputs": [],
   "source": [
    "incidentpatientunitsfacilitiesmerge = incidentpatientunitsfacilitiesmerge.drop(columns= ['PrimaryKey', 'CallConfirmedDT'])"
   ]
  },
  {
   "cell_type": "code",
   "execution_count": 79,
   "metadata": {},
   "outputs": [
    {
     "data": {
      "text/plain": [
       "array(['ALS', 'BLS', 'ODF', 'ACCITF', 'SHOTF', 'ACCIF', 'CPRF', 'ACCIMF',\n",
       "       'ACCIHF', 'AMED', 'STABF', 'SUIAF', 'FBLDG', 'CAVEIN', 'FACCIF',\n",
       "       'PSERVF', 'FOUT', 'FTH', 'GFRESCUE', 'DROWNF', 'FHIRIS', 'RTRAP',\n",
       "       'ACCIBF', 'FGAPT', 'RSWIFT', 'GASIN', 'FVEHF', 'CODE1', 'ELEV',\n",
       "       'RWATER', 'INVF', 'SIG1F', 'FDACCITF', 'ASLTWF', 'FHOU', 'RESCUE',\n",
       "       'ALRMFD', 'FDACCIF', 'EMETROF', 'STILALRM', 'ECOD', 'HAZMAT',\n",
       "       'FDACCF', 'MEDICAL', 'FTRKF', 'FDACCIMF', 'RIVERF', 'LOCKF'],\n",
       "      dtype=object)"
      ]
     },
     "execution_count": 79,
     "metadata": {},
     "output_type": "execute_result"
    }
   ],
   "source": [
    "incidentpatientunitsfacilitiesmerge.FinalIncidentType.unique()"
   ]
  },
  {
   "cell_type": "code",
   "execution_count": 80,
   "metadata": {},
   "outputs": [
    {
     "data": {
      "text/plain": [
       "array(['B', 'A', 'C'], dtype=object)"
      ]
     },
     "execution_count": 80,
     "metadata": {},
     "output_type": "execute_result"
    }
   ],
   "source": [
    "# \n",
    "incidentpatientunitsfacilitiesmerge.ShiftDay.unique()"
   ]
  },
  {
   "cell_type": "code",
   "execution_count": 81,
   "metadata": {},
   "outputs": [
    {
     "data": {
      "text/plain": [
       "array([1, 2, 34, 4, 36, 5, 37, 26, 8, 30, 10, 9, 24, 28, 11, 12, 39, 13,\n",
       "       41, 32, 14, 27, 23, 15, 21, 17, 16, 38, 18, 19, 20, 22, 40, 35, 25,\n",
       "       29, 42, 31], dtype=object)"
      ]
     },
     "execution_count": 81,
     "metadata": {},
     "output_type": "execute_result"
    }
   ],
   "source": [
    "# mapping 'PRV' to 111, Drop TA only few values\n",
    "incidentpatientunitsfacilitiesmerge.UnitStation.unique()"
   ]
  },
  {
   "cell_type": "code",
   "execution_count": 82,
   "metadata": {},
   "outputs": [],
   "source": [
    "# Replace 'PRV' with 111\n",
    "incidentpatientunitsfacilitiesmerge = incidentpatientunitsfacilitiesmerge.assign(UnitStation= incidentpatientunitsfacilitiesmerge['UnitStation'].replace('PRV',111))"
   ]
  },
  {
   "cell_type": "code",
   "execution_count": 83,
   "metadata": {},
   "outputs": [],
   "source": [
    "incidentpatientunitsfacilitiesmerge.drop(index=incidentpatientunitsfacilitiesmerge[incidentpatientunitsfacilitiesmerge['UnitStation'] == 'TA'].index, inplace=True)"
   ]
  },
  {
   "cell_type": "code",
   "execution_count": 84,
   "metadata": {},
   "outputs": [],
   "source": [
    "incidentpatientunitsfacilitiesmerge['UnitStation'] = incidentpatientunitsfacilitiesmerge['UnitStation'].astype(object).astype(int)"
   ]
  },
  {
   "cell_type": "code",
   "execution_count": 85,
   "metadata": {},
   "outputs": [
    {
     "data": {
      "text/plain": [
       "array(['Medic', 'Ambulance', 'Engine', 'EMS Supervisor', 'Truck'],\n",
       "      dtype=object)"
      ]
     },
     "execution_count": 85,
     "metadata": {},
     "output_type": "execute_result"
    }
   ],
   "source": [
    "# \n",
    "incidentpatientunitsfacilitiesmerge.UnitType.unique()"
   ]
  },
  {
   "cell_type": "code",
   "execution_count": 87,
   "metadata": {},
   "outputs": [
    {
     "data": {
      "text/plain": [
       "array(['M401', 'M402', 'M434', 'M404', 'M436', 'M405', 'M437', 'M426',\n",
       "       'M408', 'M408B', 'M430', 'M410B', 'M409B', 'M409', 'M424', 'M410',\n",
       "       'M428', 'A410E', 'M411B', 'M411', 'M412', 'M439', 'M413', 'M441',\n",
       "       'M432', 'M414', 'M427', 'M423', 'E415', 'M415', 'M421', 'M417',\n",
       "       'M416', 'M438', 'M418', 'M419', 'M420', 'M422', 'M440', 'M435',\n",
       "       'M425', 'M429', 'M442', 'M431', 'A414E', 'M401E', 'E401', 'M412E',\n",
       "       'A422E', 'A402E', 'M422B', 'EMS403', 'R418', 'A421E', 'E411',\n",
       "       'E439', 'A414', 'E418', 'A413E', 'E442', 'M405E', 'A402', 'TL430',\n",
       "       'E440', 'A438E', 'R411', 'TL436', 'M417E', 'A405E', 'E430', 'E423',\n",
       "       'TL440', 'E409', 'E402B', 'TL401', 'A417E', 'M414E', 'E428',\n",
       "       'R439', 'A401E', 'A417', 'HM440', 'R401', 'E405', 'A437E', 'A422',\n",
       "       'TL405', 'E417', 'M422E', 'R421', 'E402', 'E413', 'A410', 'E404',\n",
       "       'E421', 'E410', 'A401', 'A408E', 'M402B', 'A412E', 'E436', 'E432',\n",
       "       'T429', 'T411', 'E434', 'E437', 'E438', 'TT430', 'E429', 'E420',\n",
       "       'R426', 'E426', 'E408', 'E414', 'T438', 'M402E', 'A413', 'T430',\n",
       "       'M414B', 'EMS404', 'A422F', 'EMS405', 'E435', 'R414', 'T422',\n",
       "       'M417B', 'M401B', 'EMS401', 'E422', 'TL438', 'E424'], dtype=object)"
      ]
     },
     "execution_count": 87,
     "metadata": {},
     "output_type": "execute_result"
    }
   ],
   "source": [
    "incidentpatientunitsmerge.TransportUnitID.unique()"
   ]
  },
  {
   "cell_type": "code",
   "execution_count": 88,
   "metadata": {},
   "outputs": [],
   "source": [
    "incidentpatientunitsfacilitiesmerge['TransportUnitID']  = incidentpatientunitsfacilitiesmerge['TransportUnitID'] .apply(lambda row: re.sub(\"[^0-9]\", \"\", row)).astype(int)"
   ]
  },
  {
   "cell_type": "code",
   "execution_count": 89,
   "metadata": {},
   "outputs": [
    {
     "data": {
      "text/plain": [
       "array([401, 402, 434, 404, 436, 405, 437, 426, 408, 430, 410, 409, 424,\n",
       "       428, 411, 412, 439, 413, 441, 432, 414, 427, 423, 415, 421, 417,\n",
       "       416, 438, 418, 419, 420, 422, 440, 435, 425, 429, 442, 431])"
      ]
     },
     "execution_count": 89,
     "metadata": {},
     "output_type": "execute_result"
    }
   ],
   "source": [
    "incidentpatientunitsfacilitiesmerge.TransportUnitID.unique()"
   ]
  },
  {
   "cell_type": "code",
   "execution_count": 90,
   "metadata": {},
   "outputs": [
    {
     "data": {
      "text/plain": [
       "array([  3,  16,  95,  11,   1,  47,  36, 215, 213, 205, 202, 102, 325,\n",
       "       999,  58, 328, 204, 327, 326, 324,  59, 364, 363, 374, 116, 216,\n",
       "       107, 700, 701])"
      ]
     },
     "execution_count": 90,
     "metadata": {},
     "output_type": "execute_result"
    }
   ],
   "source": [
    "incidentpatientunitsfacilitiesmerge['TransportHospitalCode'].unique()"
   ]
  },
  {
   "cell_type": "code",
   "execution_count": 91,
   "metadata": {},
   "outputs": [
    {
     "name": "stderr",
     "output_type": "stream",
     "text": [
      "D:\\Softwares\\anaconda3\\lib\\site-packages\\pandas\\core\\ops\\array_ops.py:253: FutureWarning: elementwise comparison failed; returning scalar instead, but in the future will perform elementwise comparison\n",
      "  res_values = method(rvalues)\n"
     ]
    }
   ],
   "source": [
    "incidentpatientunitsfacilitiesmerge.loc[incidentpatientunitsfacilitiesmerge['TransportHospitalCode'] == 'No Hospital service', 'TransportHospitalCode'] = 111\n",
    "incidentpatientunitsfacilitiesmerge['TransportHospitalCode'] = incidentpatientunitsfacilitiesmerge['TransportHospitalCode'].astype(int)"
   ]
  },
  {
   "cell_type": "code",
   "execution_count": 92,
   "metadata": {},
   "outputs": [],
   "source": [
    "# dropping features\n",
    "incidentpatientunitsfacilitiesmerge = incidentpatientunitsfacilitiesmerge.drop(columns= ['UnitPrimaryActionTaken','UnitType','PrimaryImpression'])"
   ]
  },
  {
   "cell_type": "code",
   "execution_count": 93,
   "metadata": {},
   "outputs": [],
   "source": [
    "# dropping features\n",
    "incidentpatientunitsfacilitiesmerge = incidentpatientunitsfacilitiesmerge.drop(columns= ['Facility_Name','Facility_Full_Address', 'Facility_Type_Of_Facility'])"
   ]
  },
  {
   "cell_type": "code",
   "execution_count": 94,
   "metadata": {},
   "outputs": [
    {
     "data": {
      "text/plain": [
       "Index(['TransportLOC', 'ReasonForChoosingHospital', 'PatientDisposition',\n",
       "       'ShiftDay', 'FinalIncidentType', 'Facility_Hospital_Designation_List'],\n",
       "      dtype='object')"
      ]
     },
     "execution_count": 94,
     "metadata": {},
     "output_type": "execute_result"
    }
   ],
   "source": [
    "# Categorical data types\n",
    "incidentpatientunitsfacilitiesmerge.select_dtypes(exclude=['int64','int','int32','float','datetime64[ns]']).columns "
   ]
  },
  {
   "cell_type": "code",
   "execution_count": 98,
   "metadata": {},
   "outputs": [],
   "source": [
    "Feature_list = ['TransportLOC', 'ReasonForChoosingHospital', 'PatientDisposition',\n",
    "        'ShiftDay', 'FinalIncidentType',\n",
    "       'Facility_Hospital_Designation_List']"
   ]
  },
  {
   "cell_type": "code",
   "execution_count": 99,
   "metadata": {},
   "outputs": [],
   "source": [
    "\n",
    "subset_dataframe_featurelist=[]\n",
    "for variable in Feature_list:\n",
    "    subset_dataframe_featurelist.append(pd.get_dummies(incidentpatientunitsfacilitiesmerge[variable],prefix=variable, dummy_na=False))"
   ]
  },
  {
   "cell_type": "code",
   "execution_count": 100,
   "metadata": {},
   "outputs": [
    {
     "data": {
      "text/plain": [
       "(123484, 336)"
      ]
     },
     "execution_count": 100,
     "metadata": {},
     "output_type": "execute_result"
    }
   ],
   "source": [
    "merged_subset_dataframe_featurelist = pd.concat(subset_dataframe_featurelist, axis=1)\n",
    "merged_subset_dataframe_featurelist.shape"
   ]
  },
  {
   "cell_type": "code",
   "execution_count": 101,
   "metadata": {},
   "outputs": [
    {
     "name": "stdout",
     "output_type": "stream",
     "text": [
      "Wall time: 52 ms\n"
     ]
    },
    {
     "data": {
      "text/plain": [
       "(123484, 349)"
      ]
     },
     "execution_count": 101,
     "metadata": {},
     "output_type": "execute_result"
    }
   ],
   "source": [
    "%%time\n",
    "incidentpatientunitsmerged = pd.concat([merged_subset_dataframe_featurelist, incidentpatientunitsfacilitiesmerge], axis=1)\n",
    "incidentpatientunitsmerged.shape"
   ]
  },
  {
   "cell_type": "code",
   "execution_count": 102,
   "metadata": {},
   "outputs": [
    {
     "data": {
      "text/plain": [
       "(123484, 343)"
      ]
     },
     "execution_count": 102,
     "metadata": {},
     "output_type": "execute_result"
    }
   ],
   "source": [
    "# Drop nominal features already converted in numerical features using get_dummies\n",
    "incidentpatientunitsmerged.drop(Feature_list, axis=1, inplace=True)\n",
    "incidentpatientunitsmerged.shape"
   ]
  },
  {
   "cell_type": "code",
   "execution_count": 103,
   "metadata": {},
   "outputs": [
    {
     "data": {
      "text/html": [
       "<div>\n",
       "<style scoped>\n",
       "    .dataframe tbody tr th:only-of-type {\n",
       "        vertical-align: middle;\n",
       "    }\n",
       "\n",
       "    .dataframe tbody tr th {\n",
       "        vertical-align: top;\n",
       "    }\n",
       "\n",
       "    .dataframe thead th {\n",
       "        text-align: right;\n",
       "    }\n",
       "</style>\n",
       "<table border=\"1\" class=\"dataframe\">\n",
       "  <thead>\n",
       "    <tr style=\"text-align: right;\">\n",
       "      <th></th>\n",
       "      <th>TransportLOC_Level 1: 3 or More Providers (ALS Care)</th>\n",
       "      <th>TransportLOC_Level 2: 2 Providers (ALS Care)</th>\n",
       "      <th>TransportLOC_Level 3: 1 Provider (ALS Care)</th>\n",
       "      <th>TransportLOC_Level 4: 1 Provider (BLS Care)</th>\n",
       "      <th>ReasonForChoosingHospital_Closest Facility</th>\n",
       "      <th>ReasonForChoosingHospital_Closest Facility,Diversion</th>\n",
       "      <th>ReasonForChoosingHospital_Closest Facility,Diversion,Family Choice</th>\n",
       "      <th>ReasonForChoosingHospital_Closest Facility,Diversion,Patient's Choice</th>\n",
       "      <th>ReasonForChoosingHospital_Closest Facility,Diversion,Protocol</th>\n",
       "      <th>ReasonForChoosingHospital_Closest Facility,Family Choice</th>\n",
       "      <th>...</th>\n",
       "      <th>Facility_Hospital_Designation_List_Hospital(General)</th>\n",
       "      <th>Facility_Hospital_Designation_List_Hospital(General), Burns, Stroke, trauma</th>\n",
       "      <th>Facility_Hospital_Designation_List_Non Hospital</th>\n",
       "      <th>PatientID</th>\n",
       "      <th>TransportUnitID</th>\n",
       "      <th>TransportHospitalCode</th>\n",
       "      <th>UnitStation</th>\n",
       "      <th>UnitArrivalOrder</th>\n",
       "      <th>TourOfShift</th>\n",
       "      <th>IncidentFirstDue</th>\n",
       "    </tr>\n",
       "  </thead>\n",
       "  <tbody>\n",
       "    <tr>\n",
       "      <th>0</th>\n",
       "      <td>0</td>\n",
       "      <td>0</td>\n",
       "      <td>1</td>\n",
       "      <td>0</td>\n",
       "      <td>0</td>\n",
       "      <td>0</td>\n",
       "      <td>0</td>\n",
       "      <td>0</td>\n",
       "      <td>0</td>\n",
       "      <td>0</td>\n",
       "      <td>...</td>\n",
       "      <td>0</td>\n",
       "      <td>0</td>\n",
       "      <td>0</td>\n",
       "      <td>640838</td>\n",
       "      <td>401</td>\n",
       "      <td>3</td>\n",
       "      <td>1</td>\n",
       "      <td>1.0</td>\n",
       "      <td>1.0</td>\n",
       "      <td>401.0</td>\n",
       "    </tr>\n",
       "    <tr>\n",
       "      <th>1</th>\n",
       "      <td>0</td>\n",
       "      <td>0</td>\n",
       "      <td>0</td>\n",
       "      <td>1</td>\n",
       "      <td>0</td>\n",
       "      <td>0</td>\n",
       "      <td>0</td>\n",
       "      <td>0</td>\n",
       "      <td>0</td>\n",
       "      <td>0</td>\n",
       "      <td>...</td>\n",
       "      <td>0</td>\n",
       "      <td>0</td>\n",
       "      <td>0</td>\n",
       "      <td>641032</td>\n",
       "      <td>401</td>\n",
       "      <td>3</td>\n",
       "      <td>1</td>\n",
       "      <td>1.0</td>\n",
       "      <td>3.0</td>\n",
       "      <td>401.0</td>\n",
       "    </tr>\n",
       "    <tr>\n",
       "      <th>2</th>\n",
       "      <td>0</td>\n",
       "      <td>0</td>\n",
       "      <td>0</td>\n",
       "      <td>1</td>\n",
       "      <td>1</td>\n",
       "      <td>0</td>\n",
       "      <td>0</td>\n",
       "      <td>0</td>\n",
       "      <td>0</td>\n",
       "      <td>0</td>\n",
       "      <td>...</td>\n",
       "      <td>0</td>\n",
       "      <td>0</td>\n",
       "      <td>0</td>\n",
       "      <td>641839</td>\n",
       "      <td>401</td>\n",
       "      <td>16</td>\n",
       "      <td>1</td>\n",
       "      <td>2.0</td>\n",
       "      <td>2.0</td>\n",
       "      <td>401.0</td>\n",
       "    </tr>\n",
       "    <tr>\n",
       "      <th>3</th>\n",
       "      <td>0</td>\n",
       "      <td>0</td>\n",
       "      <td>0</td>\n",
       "      <td>1</td>\n",
       "      <td>0</td>\n",
       "      <td>0</td>\n",
       "      <td>0</td>\n",
       "      <td>0</td>\n",
       "      <td>0</td>\n",
       "      <td>0</td>\n",
       "      <td>...</td>\n",
       "      <td>0</td>\n",
       "      <td>0</td>\n",
       "      <td>0</td>\n",
       "      <td>641959</td>\n",
       "      <td>401</td>\n",
       "      <td>3</td>\n",
       "      <td>1</td>\n",
       "      <td>1.0</td>\n",
       "      <td>2.0</td>\n",
       "      <td>401.0</td>\n",
       "    </tr>\n",
       "    <tr>\n",
       "      <th>4</th>\n",
       "      <td>0</td>\n",
       "      <td>0</td>\n",
       "      <td>1</td>\n",
       "      <td>0</td>\n",
       "      <td>0</td>\n",
       "      <td>0</td>\n",
       "      <td>0</td>\n",
       "      <td>0</td>\n",
       "      <td>0</td>\n",
       "      <td>0</td>\n",
       "      <td>...</td>\n",
       "      <td>0</td>\n",
       "      <td>0</td>\n",
       "      <td>0</td>\n",
       "      <td>642086</td>\n",
       "      <td>401</td>\n",
       "      <td>3</td>\n",
       "      <td>1</td>\n",
       "      <td>2.0</td>\n",
       "      <td>2.0</td>\n",
       "      <td>401.0</td>\n",
       "    </tr>\n",
       "  </tbody>\n",
       "</table>\n",
       "<p>5 rows × 343 columns</p>\n",
       "</div>"
      ],
      "text/plain": [
       "   TransportLOC_Level 1: 3 or More Providers (ALS Care)  \\\n",
       "0                                                  0      \n",
       "1                                                  0      \n",
       "2                                                  0      \n",
       "3                                                  0      \n",
       "4                                                  0      \n",
       "\n",
       "   TransportLOC_Level 2: 2 Providers (ALS Care)  \\\n",
       "0                                             0   \n",
       "1                                             0   \n",
       "2                                             0   \n",
       "3                                             0   \n",
       "4                                             0   \n",
       "\n",
       "   TransportLOC_Level 3: 1 Provider (ALS Care)  \\\n",
       "0                                            1   \n",
       "1                                            0   \n",
       "2                                            0   \n",
       "3                                            0   \n",
       "4                                            1   \n",
       "\n",
       "   TransportLOC_Level 4: 1 Provider (BLS Care)  \\\n",
       "0                                            0   \n",
       "1                                            1   \n",
       "2                                            1   \n",
       "3                                            1   \n",
       "4                                            0   \n",
       "\n",
       "   ReasonForChoosingHospital_Closest Facility  \\\n",
       "0                                           0   \n",
       "1                                           0   \n",
       "2                                           1   \n",
       "3                                           0   \n",
       "4                                           0   \n",
       "\n",
       "   ReasonForChoosingHospital_Closest Facility,Diversion  \\\n",
       "0                                                  0      \n",
       "1                                                  0      \n",
       "2                                                  0      \n",
       "3                                                  0      \n",
       "4                                                  0      \n",
       "\n",
       "   ReasonForChoosingHospital_Closest Facility,Diversion,Family Choice  \\\n",
       "0                                                  0                    \n",
       "1                                                  0                    \n",
       "2                                                  0                    \n",
       "3                                                  0                    \n",
       "4                                                  0                    \n",
       "\n",
       "   ReasonForChoosingHospital_Closest Facility,Diversion,Patient's Choice  \\\n",
       "0                                                  0                       \n",
       "1                                                  0                       \n",
       "2                                                  0                       \n",
       "3                                                  0                       \n",
       "4                                                  0                       \n",
       "\n",
       "   ReasonForChoosingHospital_Closest Facility,Diversion,Protocol  \\\n",
       "0                                                  0               \n",
       "1                                                  0               \n",
       "2                                                  0               \n",
       "3                                                  0               \n",
       "4                                                  0               \n",
       "\n",
       "   ReasonForChoosingHospital_Closest Facility,Family Choice  ...  \\\n",
       "0                                                  0         ...   \n",
       "1                                                  0         ...   \n",
       "2                                                  0         ...   \n",
       "3                                                  0         ...   \n",
       "4                                                  0         ...   \n",
       "\n",
       "   Facility_Hospital_Designation_List_Hospital(General)  \\\n",
       "0                                                  0      \n",
       "1                                                  0      \n",
       "2                                                  0      \n",
       "3                                                  0      \n",
       "4                                                  0      \n",
       "\n",
       "   Facility_Hospital_Designation_List_Hospital(General), Burns, Stroke, trauma  \\\n",
       "0                                                  0                             \n",
       "1                                                  0                             \n",
       "2                                                  0                             \n",
       "3                                                  0                             \n",
       "4                                                  0                             \n",
       "\n",
       "   Facility_Hospital_Designation_List_Non Hospital  PatientID  \\\n",
       "0                                                0     640838   \n",
       "1                                                0     641032   \n",
       "2                                                0     641839   \n",
       "3                                                0     641959   \n",
       "4                                                0     642086   \n",
       "\n",
       "   TransportUnitID  TransportHospitalCode  UnitStation  UnitArrivalOrder  \\\n",
       "0              401                      3            1               1.0   \n",
       "1              401                      3            1               1.0   \n",
       "2              401                     16            1               2.0   \n",
       "3              401                      3            1               1.0   \n",
       "4              401                      3            1               2.0   \n",
       "\n",
       "   TourOfShift  IncidentFirstDue  \n",
       "0          1.0             401.0  \n",
       "1          3.0             401.0  \n",
       "2          2.0             401.0  \n",
       "3          2.0             401.0  \n",
       "4          2.0             401.0  \n",
       "\n",
       "[5 rows x 343 columns]"
      ]
     },
     "execution_count": 103,
     "metadata": {},
     "output_type": "execute_result"
    }
   ],
   "source": [
    "incidentpatientunitsmerged.head(5)"
   ]
  },
  {
   "cell_type": "code",
   "execution_count": 104,
   "metadata": {
    "id": "f2dd8792"
   },
   "outputs": [
    {
     "data": {
      "text/plain": [
       "(123484, 342)"
      ]
     },
     "execution_count": 104,
     "metadata": {},
     "output_type": "execute_result"
    }
   ],
   "source": [
    "X= incidentpatientunitsmerged.drop(columns = ['TransportHospitalCode'])\n",
    "X.shape"
   ]
  },
  {
   "cell_type": "code",
   "execution_count": 105,
   "metadata": {},
   "outputs": [],
   "source": [
    "y = pd.to_numeric(incidentpatientunitsmerged['TransportHospitalCode'])"
   ]
  },
  {
   "cell_type": "code",
   "execution_count": 106,
   "metadata": {},
   "outputs": [
    {
     "data": {
      "text/plain": [
       "((123484, 342), (123484,))"
      ]
     },
     "execution_count": 106,
     "metadata": {},
     "output_type": "execute_result"
    }
   ],
   "source": [
    "X.shape, y.shape"
   ]
  },
  {
   "cell_type": "code",
   "execution_count": 107,
   "metadata": {},
   "outputs": [
    {
     "name": "stdout",
     "output_type": "stream",
     "text": [
      "(86438, 342) (37046, 342)\n"
     ]
    }
   ],
   "source": [
    "# Using train_test_split() to randomly split the given training dataset into training and test\n",
    "# data by 70:30 percent ratio respectively. \n",
    "X_train, X_test, y_train, y_test = train_test_split(X, y, test_size=0.3, random_state=20)\n",
    "print(X_train.shape,X_test.shape)"
   ]
  },
  {
   "cell_type": "code",
   "execution_count": 108,
   "metadata": {},
   "outputs": [],
   "source": [
    "clfRandom_2 = RandomForestClassifier(bootstrap=True, random_state=0, class_weight=None, criterion='gini',\n",
    "            max_depth=None, max_features='auto', max_leaf_nodes=None,\n",
    "            min_impurity_decrease=0.0, min_impurity_split=None,\n",
    "            min_samples_leaf=1, min_samples_split=2,\n",
    "            min_weight_fraction_leaf=0.0, n_estimators=25, n_jobs=1,\n",
    "            oob_score=False, verbose=0,\n",
    "            warm_start=False)"
   ]
  },
  {
   "cell_type": "code",
   "execution_count": 109,
   "metadata": {},
   "outputs": [],
   "source": [
    "pipe = Pipeline([\n",
    "    ('rf', clfRandom_2)\n",
    "])"
   ]
  },
  {
   "cell_type": "code",
   "execution_count": 110,
   "metadata": {},
   "outputs": [],
   "source": [
    "parameters = {\n",
    "    'rf__n_estimators': [10,25],\n",
    "    'rf__max_depth': [5,15]\n",
    "    \n",
    "}"
   ]
  },
  {
   "cell_type": "code",
   "execution_count": 111,
   "metadata": {},
   "outputs": [],
   "source": [
    "\n",
    "clf_GS_Model_RF2_1 = GridSearchCV(pipe, parameters, scoring=make_scorer(f1_score, average='weighted'))"
   ]
  },
  {
   "cell_type": "code",
   "execution_count": 112,
   "metadata": {},
   "outputs": [
    {
     "name": "stderr",
     "output_type": "stream",
     "text": [
      "D:\\Softwares\\anaconda3\\lib\\site-packages\\sklearn\\model_selection\\_split.py:667: UserWarning: The least populated class in y has only 2 members, which is less than n_splits=5.\n",
      "  % (min_groups, self.n_splits)), UserWarning)\n"
     ]
    },
    {
     "name": "stdout",
     "output_type": "stream",
     "text": [
      "Wall time: 32.6 s\n"
     ]
    },
    {
     "data": {
      "text/plain": [
       "GridSearchCV(cv=None, error_score=nan,\n",
       "             estimator=Pipeline(memory=None,\n",
       "                                steps=[('rf',\n",
       "                                        RandomForestClassifier(bootstrap=True,\n",
       "                                                               ccp_alpha=0.0,\n",
       "                                                               class_weight=None,\n",
       "                                                               criterion='gini',\n",
       "                                                               max_depth=None,\n",
       "                                                               max_features='auto',\n",
       "                                                               max_leaf_nodes=None,\n",
       "                                                               max_samples=None,\n",
       "                                                               min_impurity_decrease=0.0,\n",
       "                                                               min_impurity_split=None,\n",
       "                                                               min_samples_leaf=1,\n",
       "                                                               min_samples_split=2,\n",
       "                                                               min_weight_fraction_leaf=0.0,\n",
       "                                                               n_estimators=25,\n",
       "                                                               n_jobs=1,\n",
       "                                                               oob_score=False,\n",
       "                                                               random_state=0,\n",
       "                                                               verbose=0,\n",
       "                                                               warm_start=False))],\n",
       "                                verbose=False),\n",
       "             iid='deprecated', n_jobs=None,\n",
       "             param_grid={'rf__max_depth': [5, 15],\n",
       "                         'rf__n_estimators': [10, 25]},\n",
       "             pre_dispatch='2*n_jobs', refit=True, return_train_score=False,\n",
       "             scoring=make_scorer(f1_score, average=weighted), verbose=0)"
      ]
     },
     "execution_count": 112,
     "metadata": {},
     "output_type": "execute_result"
    }
   ],
   "source": [
    "%time clf_GS_Model_RF2_1.fit(X_train, y_train)"
   ]
  },
  {
   "cell_type": "code",
   "execution_count": 113,
   "metadata": {},
   "outputs": [
    {
     "data": {
      "text/html": [
       "<div>\n",
       "<style scoped>\n",
       "    .dataframe tbody tr th:only-of-type {\n",
       "        vertical-align: middle;\n",
       "    }\n",
       "\n",
       "    .dataframe tbody tr th {\n",
       "        vertical-align: top;\n",
       "    }\n",
       "\n",
       "    .dataframe thead th {\n",
       "        text-align: right;\n",
       "    }\n",
       "</style>\n",
       "<table border=\"1\" class=\"dataframe\">\n",
       "  <thead>\n",
       "    <tr style=\"text-align: right;\">\n",
       "      <th></th>\n",
       "      <th>mean_fit_time</th>\n",
       "      <th>std_fit_time</th>\n",
       "      <th>mean_score_time</th>\n",
       "      <th>std_score_time</th>\n",
       "      <th>param_rf__max_depth</th>\n",
       "      <th>param_rf__n_estimators</th>\n",
       "      <th>params</th>\n",
       "      <th>split0_test_score</th>\n",
       "      <th>split1_test_score</th>\n",
       "      <th>split2_test_score</th>\n",
       "      <th>split3_test_score</th>\n",
       "      <th>split4_test_score</th>\n",
       "      <th>mean_test_score</th>\n",
       "      <th>std_test_score</th>\n",
       "      <th>rank_test_score</th>\n",
       "    </tr>\n",
       "  </thead>\n",
       "  <tbody>\n",
       "    <tr>\n",
       "      <th>3</th>\n",
       "      <td>2.606901</td>\n",
       "      <td>0.055971</td>\n",
       "      <td>0.177708</td>\n",
       "      <td>0.010671</td>\n",
       "      <td>15</td>\n",
       "      <td>25</td>\n",
       "      <td>{'rf__max_depth': 15, 'rf__n_estimators': 25}</td>\n",
       "      <td>0.923417</td>\n",
       "      <td>0.929176</td>\n",
       "      <td>0.918640</td>\n",
       "      <td>0.931059</td>\n",
       "      <td>0.926145</td>\n",
       "      <td>0.925687</td>\n",
       "      <td>0.004383</td>\n",
       "      <td>1</td>\n",
       "    </tr>\n",
       "    <tr>\n",
       "      <th>2</th>\n",
       "      <td>1.176522</td>\n",
       "      <td>0.035280</td>\n",
       "      <td>0.092759</td>\n",
       "      <td>0.006236</td>\n",
       "      <td>15</td>\n",
       "      <td>10</td>\n",
       "      <td>{'rf__max_depth': 15, 'rf__n_estimators': 10}</td>\n",
       "      <td>0.917145</td>\n",
       "      <td>0.918450</td>\n",
       "      <td>0.915947</td>\n",
       "      <td>0.916678</td>\n",
       "      <td>0.911615</td>\n",
       "      <td>0.915967</td>\n",
       "      <td>0.002324</td>\n",
       "      <td>2</td>\n",
       "    </tr>\n",
       "    <tr>\n",
       "      <th>1</th>\n",
       "      <td>1.007614</td>\n",
       "      <td>0.046734</td>\n",
       "      <td>0.131931</td>\n",
       "      <td>0.006099</td>\n",
       "      <td>5</td>\n",
       "      <td>25</td>\n",
       "      <td>{'rf__max_depth': 5, 'rf__n_estimators': 25}</td>\n",
       "      <td>0.722435</td>\n",
       "      <td>0.589143</td>\n",
       "      <td>0.533589</td>\n",
       "      <td>0.642414</td>\n",
       "      <td>0.660394</td>\n",
       "      <td>0.629595</td>\n",
       "      <td>0.064165</td>\n",
       "      <td>3</td>\n",
       "    </tr>\n",
       "    <tr>\n",
       "      <th>0</th>\n",
       "      <td>0.522285</td>\n",
       "      <td>0.041560</td>\n",
       "      <td>0.078569</td>\n",
       "      <td>0.008257</td>\n",
       "      <td>5</td>\n",
       "      <td>10</td>\n",
       "      <td>{'rf__max_depth': 5, 'rf__n_estimators': 10}</td>\n",
       "      <td>0.578726</td>\n",
       "      <td>0.386035</td>\n",
       "      <td>0.563670</td>\n",
       "      <td>0.526787</td>\n",
       "      <td>0.520065</td>\n",
       "      <td>0.515057</td>\n",
       "      <td>0.068156</td>\n",
       "      <td>4</td>\n",
       "    </tr>\n",
       "  </tbody>\n",
       "</table>\n",
       "</div>"
      ],
      "text/plain": [
       "   mean_fit_time  std_fit_time  mean_score_time  std_score_time  \\\n",
       "3       2.606901      0.055971         0.177708        0.010671   \n",
       "2       1.176522      0.035280         0.092759        0.006236   \n",
       "1       1.007614      0.046734         0.131931        0.006099   \n",
       "0       0.522285      0.041560         0.078569        0.008257   \n",
       "\n",
       "  param_rf__max_depth param_rf__n_estimators  \\\n",
       "3                  15                     25   \n",
       "2                  15                     10   \n",
       "1                   5                     25   \n",
       "0                   5                     10   \n",
       "\n",
       "                                          params  split0_test_score  \\\n",
       "3  {'rf__max_depth': 15, 'rf__n_estimators': 25}           0.923417   \n",
       "2  {'rf__max_depth': 15, 'rf__n_estimators': 10}           0.917145   \n",
       "1   {'rf__max_depth': 5, 'rf__n_estimators': 25}           0.722435   \n",
       "0   {'rf__max_depth': 5, 'rf__n_estimators': 10}           0.578726   \n",
       "\n",
       "   split1_test_score  split2_test_score  split3_test_score  split4_test_score  \\\n",
       "3           0.929176           0.918640           0.931059           0.926145   \n",
       "2           0.918450           0.915947           0.916678           0.911615   \n",
       "1           0.589143           0.533589           0.642414           0.660394   \n",
       "0           0.386035           0.563670           0.526787           0.520065   \n",
       "\n",
       "   mean_test_score  std_test_score  rank_test_score  \n",
       "3         0.925687        0.004383                1  \n",
       "2         0.915967        0.002324                2  \n",
       "1         0.629595        0.064165                3  \n",
       "0         0.515057        0.068156                4  "
      ]
     },
     "execution_count": 113,
     "metadata": {},
     "output_type": "execute_result"
    }
   ],
   "source": [
    "pd.DataFrame(clf_GS_Model_RF2_1.cv_results_).sort_values(\"rank_test_score\").head(5)"
   ]
  },
  {
   "cell_type": "code",
   "execution_count": 114,
   "metadata": {},
   "outputs": [
    {
     "name": "stdout",
     "output_type": "stream",
     "text": [
      "Best n estimator: 25\n",
      "Best max_depth: 15\n",
      "Best min_samples_split: 2\n"
     ]
    }
   ],
   "source": [
    "# Viewing The Best Parameters\n",
    "print('Best n estimator:', clf_GS_Model_RF2_1.best_estimator_.get_params()['rf__n_estimators'])\n",
    "print('Best max_depth:', clf_GS_Model_RF2_1.best_estimator_.get_params()['rf__max_depth'])\n",
    "print('Best min_samples_split:', clf_GS_Model_RF2_1.best_estimator_.get_params()['rf__min_samples_split'])"
   ]
  },
  {
   "cell_type": "code",
   "execution_count": 115,
   "metadata": {},
   "outputs": [
    {
     "data": {
      "text/plain": [
       "0.9357381340301283"
      ]
     },
     "execution_count": 115,
     "metadata": {},
     "output_type": "execute_result"
    }
   ],
   "source": [
    "y_train_pred = clf_GS_Model_RF2_1.best_estimator_.predict(X_train)\n",
    "# y_train_pred = clfRandom.predict(X_train)\n",
    "\n",
    "f1_score(y_train, y_train_pred,average='weighted')"
   ]
  },
  {
   "cell_type": "code",
   "execution_count": 116,
   "metadata": {},
   "outputs": [
    {
     "name": "stdout",
     "output_type": "stream",
     "text": [
      "              precision    recall  f1-score   support\n",
      "\n",
      "           1       0.81      0.91      0.86      4926\n",
      "           3       0.89      0.77      0.82      4550\n",
      "          11       0.99      1.00      0.99     11870\n",
      "          16       1.00      1.00      1.00     35207\n",
      "          36       1.00      1.00      1.00       100\n",
      "          47       0.81      0.99      0.89     10714\n",
      "          58       0.00      0.00      0.00       119\n",
      "          59       0.00      0.00      0.00        54\n",
      "          95       1.00      1.00      1.00     12229\n",
      "         102       1.00      0.62      0.76        68\n",
      "         107       1.00      0.50      0.67         8\n",
      "         116       0.00      0.00      0.00         2\n",
      "         202       1.00      0.14      0.25       477\n",
      "         204       1.00      0.10      0.17        94\n",
      "         205       0.81      0.68      0.74      3155\n",
      "         213       0.90      0.40      0.55      1902\n",
      "         215       0.92      1.00      0.96       316\n",
      "         216       0.00      0.00      0.00         2\n",
      "         324       0.00      0.00      0.00        41\n",
      "         325       1.00      0.99      0.99        69\n",
      "         326       1.00      0.36      0.53        59\n",
      "         327       1.00      0.95      0.97        56\n",
      "         328       1.00      0.94      0.97        51\n",
      "         363       0.00      0.00      0.00         3\n",
      "         364       0.00      0.00      0.00         7\n",
      "         374       0.95      0.05      0.10       339\n",
      "         700       1.00      0.33      0.50         3\n",
      "         999       1.00      0.53      0.69        17\n",
      "\n",
      "    accuracy                           0.94     86438\n",
      "   macro avg       0.72      0.51      0.55     86438\n",
      "weighted avg       0.94      0.94      0.94     86438\n",
      "\n"
     ]
    },
    {
     "name": "stderr",
     "output_type": "stream",
     "text": [
      "D:\\Softwares\\anaconda3\\lib\\site-packages\\sklearn\\metrics\\_classification.py:1272: UndefinedMetricWarning: Precision and F-score are ill-defined and being set to 0.0 in labels with no predicted samples. Use `zero_division` parameter to control this behavior.\n",
      "  _warn_prf(average, modifier, msg_start, len(result))\n"
     ]
    }
   ],
   "source": [
    "print(classification_report(y_train,y_train_pred))"
   ]
  },
  {
   "cell_type": "code",
   "execution_count": 117,
   "metadata": {},
   "outputs": [
    {
     "data": {
      "text/plain": [
       "0.9431962794141465"
      ]
     },
     "execution_count": 117,
     "metadata": {},
     "output_type": "execute_result"
    }
   ],
   "source": [
    "accuracy_score(y_train, y_train_pred)"
   ]
  },
  {
   "cell_type": "code",
   "execution_count": 119,
   "metadata": {},
   "outputs": [
    {
     "data": {
      "text/plain": [
       "0.9169018864944015"
      ]
     },
     "execution_count": 119,
     "metadata": {},
     "output_type": "execute_result"
    }
   ],
   "source": [
    "y_test_pred= clf_GS_Model_RF2_1.best_estimator_.predict(X_test)\n",
    "# y_cross_validation_pred= clfRandom.predict(X_cross_validation)\n",
    "f1_score(y_test, y_test_pred, average='weighted')"
   ]
  },
  {
   "cell_type": "code",
   "execution_count": 120,
   "metadata": {},
   "outputs": [
    {
     "name": "stdout",
     "output_type": "stream",
     "text": [
      "              precision    recall  f1-score   support\n",
      "\n",
      "           1       0.76      0.86      0.81      2040\n",
      "           3       0.83      0.71      0.76      1919\n",
      "          11       0.98      1.00      0.99      5105\n",
      "          16       1.00      1.00      1.00     15152\n",
      "          36       1.00      0.95      0.98        62\n",
      "          47       0.77      0.98      0.86      4522\n",
      "          58       0.00      0.00      0.00        48\n",
      "          59       0.00      0.00      0.00        32\n",
      "          95       1.00      1.00      1.00      5235\n",
      "         102       0.92      0.30      0.45        37\n",
      "         107       0.00      0.00      0.00         3\n",
      "         202       0.75      0.04      0.07       231\n",
      "         204       0.00      0.00      0.00        48\n",
      "         205       0.74      0.58      0.65      1398\n",
      "         213       0.78      0.29      0.42       806\n",
      "         215       0.86      0.99      0.92       148\n",
      "         216       0.00      0.00      0.00         3\n",
      "         324       0.00      0.00      0.00        18\n",
      "         325       1.00      0.97      0.98        31\n",
      "         326       0.00      0.00      0.00        28\n",
      "         327       1.00      1.00      1.00        10\n",
      "         328       1.00      0.89      0.94        18\n",
      "         363       0.00      0.00      0.00         1\n",
      "         364       0.00      0.00      0.00         3\n",
      "         374       0.00      0.00      0.00       141\n",
      "         701       0.00      0.00      0.00         1\n",
      "         999       0.00      0.00      0.00         6\n",
      "\n",
      "    accuracy                           0.93     37046\n",
      "   macro avg       0.50      0.43      0.44     37046\n",
      "weighted avg       0.92      0.93      0.92     37046\n",
      "\n"
     ]
    },
    {
     "name": "stderr",
     "output_type": "stream",
     "text": [
      "D:\\Softwares\\anaconda3\\lib\\site-packages\\sklearn\\metrics\\_classification.py:1272: UndefinedMetricWarning: Precision and F-score are ill-defined and being set to 0.0 in labels with no predicted samples. Use `zero_division` parameter to control this behavior.\n",
      "  _warn_prf(average, modifier, msg_start, len(result))\n"
     ]
    }
   ],
   "source": [
    "print(classification_report(y_test,y_test_pred))"
   ]
  },
  {
   "cell_type": "code",
   "execution_count": 121,
   "metadata": {},
   "outputs": [
    {
     "data": {
      "text/plain": [
       "0.92752253954543"
      ]
     },
     "execution_count": 121,
     "metadata": {},
     "output_type": "execute_result"
    }
   ],
   "source": [
    "accuracy_score(y_test,y_test_pred)"
   ]
  },
  {
   "cell_type": "code",
   "execution_count": 122,
   "metadata": {},
   "outputs": [
    {
     "data": {
      "text/plain": [
       "0.9169018864944015"
      ]
     },
     "execution_count": 122,
     "metadata": {},
     "output_type": "execute_result"
    }
   ],
   "source": [
    "y_test_pred= clf_GS_Model_RF2_1.best_estimator_.predict(X_test)\n",
    "# y_cross_validation_pred= clfRandom.predict(X_cross_validation)\n",
    "f1_score(y_test, y_test_pred, average='weighted')"
   ]
  },
  {
   "cell_type": "code",
   "execution_count": 123,
   "metadata": {},
   "outputs": [
    {
     "name": "stdout",
     "output_type": "stream",
     "text": [
      "              precision    recall  f1-score   support\n",
      "\n",
      "           1       0.76      0.86      0.81      2040\n",
      "           3       0.83      0.71      0.76      1919\n",
      "          11       0.98      1.00      0.99      5105\n",
      "          16       1.00      1.00      1.00     15152\n",
      "          36       1.00      0.95      0.98        62\n",
      "          47       0.77      0.98      0.86      4522\n",
      "          58       0.00      0.00      0.00        48\n",
      "          59       0.00      0.00      0.00        32\n",
      "          95       1.00      1.00      1.00      5235\n",
      "         102       0.92      0.30      0.45        37\n",
      "         107       0.00      0.00      0.00         3\n",
      "         202       0.75      0.04      0.07       231\n",
      "         204       0.00      0.00      0.00        48\n",
      "         205       0.74      0.58      0.65      1398\n",
      "         213       0.78      0.29      0.42       806\n",
      "         215       0.86      0.99      0.92       148\n",
      "         216       0.00      0.00      0.00         3\n",
      "         324       0.00      0.00      0.00        18\n",
      "         325       1.00      0.97      0.98        31\n",
      "         326       0.00      0.00      0.00        28\n",
      "         327       1.00      1.00      1.00        10\n",
      "         328       1.00      0.89      0.94        18\n",
      "         363       0.00      0.00      0.00         1\n",
      "         364       0.00      0.00      0.00         3\n",
      "         374       0.00      0.00      0.00       141\n",
      "         701       0.00      0.00      0.00         1\n",
      "         999       0.00      0.00      0.00         6\n",
      "\n",
      "    accuracy                           0.93     37046\n",
      "   macro avg       0.50      0.43      0.44     37046\n",
      "weighted avg       0.92      0.93      0.92     37046\n",
      "\n"
     ]
    },
    {
     "name": "stderr",
     "output_type": "stream",
     "text": [
      "D:\\Softwares\\anaconda3\\lib\\site-packages\\sklearn\\metrics\\_classification.py:1272: UndefinedMetricWarning: Precision and F-score are ill-defined and being set to 0.0 in labels with no predicted samples. Use `zero_division` parameter to control this behavior.\n",
      "  _warn_prf(average, modifier, msg_start, len(result))\n"
     ]
    }
   ],
   "source": [
    "print(classification_report(y_test,y_test_pred))"
   ]
  },
  {
   "cell_type": "code",
   "execution_count": 124,
   "metadata": {},
   "outputs": [],
   "source": [
    "clfRandom = clf_GS_Model_RF2_1.best_estimator_"
   ]
  },
  {
   "cell_type": "code",
   "execution_count": 125,
   "metadata": {},
   "outputs": [],
   "source": [
    "clfRandom = clf_GS_Model_RF2_1.best_estimator_.get_params()[\"rf\"]"
   ]
  },
  {
   "cell_type": "code",
   "execution_count": 126,
   "metadata": {},
   "outputs": [
    {
     "name": "stdout",
     "output_type": "stream",
     "text": [
      "Wall time: 3.51 s\n"
     ]
    },
    {
     "data": {
      "text/plain": [
       "RandomForestClassifier(bootstrap=True, ccp_alpha=0.0, class_weight=None,\n",
       "                       criterion='gini', max_depth=15, max_features='auto',\n",
       "                       max_leaf_nodes=None, max_samples=None,\n",
       "                       min_impurity_decrease=0.0, min_impurity_split=None,\n",
       "                       min_samples_leaf=1, min_samples_split=2,\n",
       "                       min_weight_fraction_leaf=0.0, n_estimators=25, n_jobs=1,\n",
       "                       oob_score=False, random_state=0, verbose=0,\n",
       "                       warm_start=False)"
      ]
     },
     "execution_count": 126,
     "metadata": {},
     "output_type": "execute_result"
    }
   ],
   "source": [
    "%time clfRandom.fit(X_train, y_train)"
   ]
  },
  {
   "cell_type": "code",
   "execution_count": 127,
   "metadata": {},
   "outputs": [],
   "source": [
    "y_test_pred= clfRandom.predict(X_test)"
   ]
  },
  {
   "cell_type": "code",
   "execution_count": 128,
   "metadata": {},
   "outputs": [
    {
     "data": {
      "text/plain": [
       "Text(0.5, 0, 'Random Forest Feature Importance')"
      ]
     },
     "execution_count": 128,
     "metadata": {},
     "output_type": "execute_result"
    },
    {
     "data": {
      "image/png": "[encoded data removed]",
      "text/plain": [
       "<Figure size 432x288 with 1 Axes>"
      ]
     },
     "metadata": {
      "needs_background": "light"
     },
     "output_type": "display_data"
    }
   ],
   "source": [
    "sorted_idx = clfRandom.feature_importances_.argsort()\n",
    "plt.barh(X.columns[sorted_idx[-20:]], clfRandom.feature_importances_[sorted_idx[-20:]])\n",
    "plt.xlabel(\"Random Forest Feature Importance\")"
   ]
  },
  {
   "cell_type": "markdown",
   "metadata": {},
   "source": [
    "#### Model 2 - Random Forest  ends here"
   ]
  },
  {
   "cell_type": "markdown",
   "metadata": {},
   "source": [
    "#### Model 3 - Decision tree starts here"
   ]
  },
  {
   "cell_type": "code",
   "execution_count": 129,
   "metadata": {},
   "outputs": [],
   "source": [
    "model_DT = tree.DecisionTreeClassifier(class_weight=None, criterion='gini', max_depth=40,\n",
    "            max_features=100, max_leaf_nodes=16,\n",
    "            min_impurity_split=1e-07, min_samples_leaf=1,\n",
    "            min_samples_split=2, min_weight_fraction_leaf=0.0,\n",
    "            presort=False, random_state=0, splitter='best')"
   ]
  },
  {
   "cell_type": "code",
   "execution_count": 130,
   "metadata": {},
   "outputs": [
    {
     "name": "stderr",
     "output_type": "stream",
     "text": [
      "D:\\Softwares\\anaconda3\\lib\\site-packages\\sklearn\\tree\\_classes.py:301: FutureWarning: The min_impurity_split parameter is deprecated. Its default value will change from 1e-7 to 0 in version 0.23, and it will be removed in 0.25. Use the min_impurity_decrease parameter instead.\n",
      "  FutureWarning)\n",
      "D:\\Softwares\\anaconda3\\lib\\site-packages\\sklearn\\tree\\_classes.py:319: FutureWarning: The parameter 'presort' is deprecated and has no effect. It will be removed in v0.24. You can suppress this warning by not passing any value to the 'presort' parameter.\n",
      "  FutureWarning)\n"
     ]
    }
   ],
   "source": [
    "clf_DT = model_DT.fit(X_train, y_train)"
   ]
  },
  {
   "cell_type": "code",
   "execution_count": 131,
   "metadata": {},
   "outputs": [],
   "source": [
    "y_train_pred = clf_DT.predict(X_train)"
   ]
  },
  {
   "cell_type": "code",
   "execution_count": 132,
   "metadata": {},
   "outputs": [
    {
     "data": {
      "text/plain": [
       "array([[  295,   898,    73,     0,     0,  2873,     0,     0,     5,\n",
       "            0,     0,     0,     0,     0,   782,     0,     0,     0,\n",
       "            0,     0,     0,     0,     0,     0,     0,     0,     0,\n",
       "            0],\n",
       "       [   41,  1804,    48,     0,     0,  1592,     0,     0,   848,\n",
       "            0,     0,     0,     0,     0,   217,     0,     0,     0,\n",
       "            0,     0,     0,     0,     0,     0,     0,     0,     0,\n",
       "            0],\n",
       "       [    3,     0,  4521,  7029,     0,    19,     0,     0,   255,\n",
       "            0,     0,     0,     0,     0,    43,     0,     0,     0,\n",
       "            0,     0,     0,     0,     0,     0,     0,     0,     0,\n",
       "            0],\n",
       "       [    0,     0,  1167, 34040,     0,     0,     0,     0,     0,\n",
       "            0,     0,     0,     0,     0,     0,     0,     0,     0,\n",
       "            0,     0,     0,     0,     0,     0,     0,     0,     0,\n",
       "            0],\n",
       "       [    3,     0,    12,    56,     0,     8,     0,     0,    21,\n",
       "            0,     0,     0,     0,     0,     0,     0,     0,     0,\n",
       "            0,     0,     0,     0,     0,     0,     0,     0,     0,\n",
       "            0],\n",
       "       [    0,     0,     0,     0,     0, 10514,     0,     0,     3,\n",
       "            0,     0,     0,     0,     0,    61,   136,     0,     0,\n",
       "            0,     0,     0,     0,     0,     0,     0,     0,     0,\n",
       "            0],\n",
       "       [    2,     0,    53,    57,     0,     3,     0,     0,     3,\n",
       "            0,     0,     0,     0,     0,     1,     0,     0,     0,\n",
       "            0,     0,     0,     0,     0,     0,     0,     0,     0,\n",
       "            0],\n",
       "       [    0,     0,    26,    27,     0,     0,     0,     0,     0,\n",
       "            0,     0,     0,     0,     0,     1,     0,     0,     0,\n",
       "            0,     0,     0,     0,     0,     0,     0,     0,     0,\n",
       "            0],\n",
       "       [    2,     0,     0,  6670,     0,     7,     0,     0,  5538,\n",
       "            0,     0,     0,     0,     0,    12,     0,     0,     0,\n",
       "            0,     0,     0,     0,     0,     0,     0,     0,     0,\n",
       "            0],\n",
       "       [    3,     0,     3,    30,     0,    20,     0,     0,    10,\n",
       "            0,     0,     0,     0,     0,     2,     0,     0,     0,\n",
       "            0,     0,     0,     0,     0,     0,     0,     0,     0,\n",
       "            0],\n",
       "       [    0,     0,     0,     8,     0,     0,     0,     0,     0,\n",
       "            0,     0,     0,     0,     0,     0,     0,     0,     0,\n",
       "            0,     0,     0,     0,     0,     0,     0,     0,     0,\n",
       "            0],\n",
       "       [    0,     0,     0,     0,     0,     2,     0,     0,     0,\n",
       "            0,     0,     0,     0,     0,     0,     0,     0,     0,\n",
       "            0,     0,     0,     0,     0,     0,     0,     0,     0,\n",
       "            0],\n",
       "       [    0,     0,     0,     0,     0,   274,     0,     0,    23,\n",
       "            0,     0,     0,     0,     0,    76,   104,     0,     0,\n",
       "            0,     0,     0,     0,     0,     0,     0,     0,     0,\n",
       "            0],\n",
       "       [    0,     0,     0,     0,     0,    66,     0,     0,    14,\n",
       "            0,     0,     0,     0,     0,     1,    13,     0,     0,\n",
       "            0,     0,     0,     0,     0,     0,     0,     0,     0,\n",
       "            0],\n",
       "       [    0,     0,     0,     0,     0,  2041,     0,     0,     2,\n",
       "            0,     0,     0,     0,     0,   793,   319,     0,     0,\n",
       "            0,     0,     0,     0,     0,     0,     0,     0,     0,\n",
       "            0],\n",
       "       [    0,     0,     0,     0,     0,  1563,     0,     0,     0,\n",
       "            0,     0,     0,     0,     0,     6,   333,     0,     0,\n",
       "            0,     0,     0,     0,     0,     0,     0,     0,     0,\n",
       "            0],\n",
       "       [    0,     0,    52,   191,     0,    72,     0,     0,     1,\n",
       "            0,     0,     0,     0,     0,     0,     0,     0,     0,\n",
       "            0,     0,     0,     0,     0,     0,     0,     0,     0,\n",
       "            0],\n",
       "       [    0,     0,     0,     0,     0,     2,     0,     0,     0,\n",
       "            0,     0,     0,     0,     0,     0,     0,     0,     0,\n",
       "            0,     0,     0,     0,     0,     0,     0,     0,     0,\n",
       "            0],\n",
       "       [    0,     0,     0,    41,     0,     0,     0,     0,     0,\n",
       "            0,     0,     0,     0,     0,     0,     0,     0,     0,\n",
       "            0,     0,     0,     0,     0,     0,     0,     0,     0,\n",
       "            0],\n",
       "       [    3,     0,     4,    36,     0,    18,     0,     0,     3,\n",
       "            0,     0,     0,     0,     0,     5,     0,     0,     0,\n",
       "            0,     0,     0,     0,     0,     0,     0,     0,     0,\n",
       "            0],\n",
       "       [    0,     0,     0,     0,     0,    30,     0,     0,    26,\n",
       "            0,     0,     0,     0,     0,     1,     2,     0,     0,\n",
       "            0,     0,     0,     0,     0,     0,     0,     0,     0,\n",
       "            0],\n",
       "       [    1,     0,     5,    21,     0,    19,     0,     0,     4,\n",
       "            0,     0,     0,     0,     0,     6,     0,     0,     0,\n",
       "            0,     0,     0,     0,     0,     0,     0,     0,     0,\n",
       "            0],\n",
       "       [    1,     0,     4,    17,     0,    16,     0,     0,     8,\n",
       "            0,     0,     0,     0,     0,     5,     0,     0,     0,\n",
       "            0,     0,     0,     0,     0,     0,     0,     0,     0,\n",
       "            0],\n",
       "       [    0,     0,     0,     1,     0,     1,     0,     0,     0,\n",
       "            0,     0,     0,     0,     0,     1,     0,     0,     0,\n",
       "            0,     0,     0,     0,     0,     0,     0,     0,     0,\n",
       "            0],\n",
       "       [    0,     0,     0,     0,     0,     2,     0,     0,     0,\n",
       "            0,     0,     0,     0,     0,     2,     3,     0,     0,\n",
       "            0,     0,     0,     0,     0,     0,     0,     0,     0,\n",
       "            0],\n",
       "       [    0,     0,     0,     0,     0,   278,     0,     0,     1,\n",
       "            0,     0,     0,     0,     0,    23,    37,     0,     0,\n",
       "            0,     0,     0,     0,     0,     0,     0,     0,     0,\n",
       "            0],\n",
       "       [    0,     0,     0,     3,     0,     0,     0,     0,     0,\n",
       "            0,     0,     0,     0,     0,     0,     0,     0,     0,\n",
       "            0,     0,     0,     0,     0,     0,     0,     0,     0,\n",
       "            0],\n",
       "       [    4,     0,     0,    12,     0,     0,     0,     0,     1,\n",
       "            0,     0,     0,     0,     0,     0,     0,     0,     0,\n",
       "            0,     0,     0,     0,     0,     0,     0,     0,     0,\n",
       "            0]], dtype=int64)"
      ]
     },
     "execution_count": 132,
     "metadata": {},
     "output_type": "execute_result"
    }
   ],
   "source": [
    "confusion_matrix(y_train, y_train_pred)"
   ]
  },
  {
   "cell_type": "code",
   "execution_count": 133,
   "metadata": {},
   "outputs": [
    {
     "data": {
      "text/plain": [
       "0.6197482345194167"
      ]
     },
     "execution_count": 133,
     "metadata": {},
     "output_type": "execute_result"
    }
   ],
   "source": [
    "f1_score(y_train, y_train_pred,average='weighted')"
   ]
  },
  {
   "cell_type": "code",
   "execution_count": 134,
   "metadata": {},
   "outputs": [
    {
     "data": {
      "text/plain": [
       "0.6691270043268007"
      ]
     },
     "execution_count": 134,
     "metadata": {},
     "output_type": "execute_result"
    }
   ],
   "source": [
    "accuracy_score(y_train, y_train_pred)"
   ]
  },
  {
   "cell_type": "code",
   "execution_count": 135,
   "metadata": {},
   "outputs": [],
   "source": [
    "y_test_pred = clf_DT.predict(X_test)"
   ]
  },
  {
   "cell_type": "code",
   "execution_count": 136,
   "metadata": {},
   "outputs": [
    {
     "data": {
      "text/plain": [
       "0.6160589177214506"
      ]
     },
     "execution_count": 136,
     "metadata": {},
     "output_type": "execute_result"
    }
   ],
   "source": [
    "f1_score(y_test, y_test_pred,average='weighted')"
   ]
  },
  {
   "cell_type": "code",
   "execution_count": 137,
   "metadata": {},
   "outputs": [
    {
     "data": {
      "text/plain": [
       "0.6664687145710738"
      ]
     },
     "execution_count": 137,
     "metadata": {},
     "output_type": "execute_result"
    }
   ],
   "source": [
    "accuracy_score(y_test, y_test_pred)"
   ]
  },
  {
   "cell_type": "code",
   "execution_count": 348,
   "metadata": {},
   "outputs": [
    {
     "data": {
      "text/plain": [
       "array([[ 3951,   455,     0,     0,     0,     0,     0,     0,     0,\n",
       "            0,     0,     0,     0,     0,     0,     0,     0,     0,\n",
       "            0,     0,     0,     0,     0,     0,     0,     0,     0,\n",
       "            0,     0],\n",
       "       [ 1987,  1999,     0,     0,     0,     0,     0,     0,     0,\n",
       "            0,     0,     0,     0,     0,     0,     0,     0,     0,\n",
       "            0,     0,     0,     0,     0,     0,     0,     0,     0,\n",
       "            0,     0],\n",
       "       [    0,     0, 11493,     0,     0,     0,     0,     0,     0,\n",
       "            0,     0,     0,     0,     0,     0,     0,     0,     0,\n",
       "            0,     0,     0,     0,     0,     0,     0,     0,     0,\n",
       "            0,     0],\n",
       "       [    0,     0,     0, 35939,     0,     0,     0,     0,     0,\n",
       "            0,     0,     0,     0,     0,     0,     0,     0,     0,\n",
       "            0,     0,     0,     0,     0,     0,     0,     0,     0,\n",
       "            0,     0],\n",
       "       [    0,    36,     0,     0,     0,    29,     0,     0,     0,\n",
       "            0,     0,     0,     0,     0,     0,     0,    15,     0,\n",
       "            0,    26,     0,     0,     0,     0,     0,     0,     0,\n",
       "            0,     0],\n",
       "       [    0,   137,     0,     0,     0,  9060,     0,     0,     0,\n",
       "            0,     0,     0,     0,     0,   137,   667,    28,     0,\n",
       "            0,     0,     0,     0,     0,     0,     0,     0,     0,\n",
       "            0,     0],\n",
       "       [    0,     0,   148,     0,     0,     0,     0,     0,     0,\n",
       "            0,     0,     0,     0,     0,     0,     0,     0,     0,\n",
       "            0,     0,     0,     0,     0,     0,     0,     0,     0,\n",
       "            0,     0],\n",
       "       [    0,     0,    78,     0,     0,     0,     0,     0,     0,\n",
       "            0,     0,     0,     0,     0,     0,     0,     0,     0,\n",
       "            0,     0,     0,     0,     0,     0,     0,     0,     0,\n",
       "            0,     0],\n",
       "       [    0,     0,     0,     0,     0,     0,     0,     0, 12367,\n",
       "            0,     0,     0,     0,     0,     0,     0,     0,     0,\n",
       "            0,     0,     0,     0,     0,     0,     0,     0,     0,\n",
       "            0,     0],\n",
       "       [    0,    23,     0,     0,     0,    20,     0,     0,     0,\n",
       "            0,     0,     0,     0,     0,     0,     8,    13,     0,\n",
       "            0,    25,     0,     0,     0,     0,     0,     0,     0,\n",
       "            0,     0],\n",
       "       [    0,     9,     0,     0,     0,     1,     0,     0,     0,\n",
       "            0,     0,     0,     0,     0,     0,     0,     0,     0,\n",
       "            0,    18,     0,     0,     0,     0,     0,     0,     0,\n",
       "            0,     0],\n",
       "       [    0,     0,     0,     0,     0,     0,     0,     0,     0,\n",
       "            0,     0,     0,     0,     0,     0,     2,     0,     0,\n",
       "            0,     0,     0,     0,     0,     0,     0,     0,     0,\n",
       "            0,     0],\n",
       "       [    0,   132,     0,     0,     0,   131,     0,     0,     0,\n",
       "            0,     0,     0,     0,     0,   165,    10,    47,     0,\n",
       "            0,     0,     0,     0,     0,     0,     0,     0,     0,\n",
       "            0,     0],\n",
       "       [    0,    37,     0,     0,     0,    18,     0,     0,     0,\n",
       "            0,     0,     0,     0,     0,    41,     0,     6,     0,\n",
       "            0,     0,     0,     0,     0,     0,     0,     0,     0,\n",
       "            0,     0],\n",
       "       [    0,   426,     0,     0,     0,   822,     0,     0,     0,\n",
       "            0,     0,     0,     0,     0,  1765,    55,     7,     0,\n",
       "            0,     0,     0,     0,     0,     0,     0,     0,     0,\n",
       "            0,     0],\n",
       "       [    0,   497,     0,     0,     0,    57,     0,     0,     0,\n",
       "            0,     0,     0,     0,     0,   429,  1072,     3,     0,\n",
       "            0,     0,     0,     0,     0,     0,     0,     0,     0,\n",
       "            0,     0],\n",
       "       [    0,    89,     0,     0,     0,     1,     0,     0,     0,\n",
       "            0,     0,     0,     0,     0,     0,     3,   183,     0,\n",
       "            0,    36,     0,     0,     0,     0,     0,     0,     0,\n",
       "            0,     0],\n",
       "       [    0,     3,     0,     0,     0,     0,     0,     0,     0,\n",
       "            0,     0,     0,     0,     0,     4,     0,     0,     0,\n",
       "            0,     0,     0,     0,     0,     0,     0,     0,     0,\n",
       "            0,     0],\n",
       "       [    0,     0,     0,    62,     0,     0,     0,     0,     0,\n",
       "            0,     0,     0,     0,     0,     0,     0,     0,     0,\n",
       "            0,     0,     0,     0,     0,     0,     0,     0,     0,\n",
       "            0,     0],\n",
       "       [    0,    29,     0,     0,     0,    43,     0,     0,     0,\n",
       "            0,     0,     0,     0,     0,     0,     9,    19,     0,\n",
       "            0,    73,     0,     0,     0,     0,     0,     0,     0,\n",
       "            0,     0],\n",
       "       [    0,    14,     0,     0,     0,    27,     0,     0,     0,\n",
       "            0,     0,     0,     0,     0,     7,     0,     6,     0,\n",
       "            0,     0,     0,     0,     0,     0,     0,     0,     0,\n",
       "            0,     0],\n",
       "       [    0,    12,     0,     0,     0,    22,     0,     0,     0,\n",
       "            0,     0,     0,     0,     0,     0,     5,    14,     0,\n",
       "            0,    15,     0,     0,     0,     0,     0,     0,     0,\n",
       "            0,     0],\n",
       "       [    0,     9,     0,     0,     0,    12,     0,     0,     0,\n",
       "            0,     0,     0,     0,     0,     0,     0,     3,     0,\n",
       "            0,    12,     0,     0,     0,     0,     0,     0,     0,\n",
       "            0,     0],\n",
       "       [    0,     0,     0,     0,     0,     2,     0,     0,     0,\n",
       "            0,     0,     0,     0,     0,     0,     0,     0,     0,\n",
       "            0,     0,     0,     0,     0,     0,     0,     0,     0,\n",
       "            0,     0],\n",
       "       [    0,     1,     0,     0,     0,     3,     0,     0,     0,\n",
       "            0,     0,     0,     0,     0,     3,     0,     0,     0,\n",
       "            0,     0,     0,     0,     0,     0,     0,     0,     0,\n",
       "            0,     0],\n",
       "       [    0,    67,     0,     0,     0,   101,     0,     0,     0,\n",
       "            0,     0,     0,     0,     0,    67,    92,     5,     0,\n",
       "            0,     0,     0,     0,     0,     0,     0,     0,     0,\n",
       "            0,     0],\n",
       "       [    0,     1,     0,     0,     0,     0,     0,     0,     0,\n",
       "            0,     0,     0,     0,     0,     0,     0,     2,     0,\n",
       "            0,     0,     0,     0,     0,     0,     0,     0,     0,\n",
       "            0,     0],\n",
       "       [    0,     0,     0,     0,     0,     0,     0,     0,     0,\n",
       "            0,     0,     0,     0,     0,     0,     1,     0,     0,\n",
       "            0,     0,     0,     0,     0,     0,     0,     0,     0,\n",
       "            0,     0],\n",
       "       [    0,    26,     0,     0,     0,    18,     0,     0,     0,\n",
       "            0,     0,     0,     0,     0,     0,     0,     1,     0,\n",
       "            0,    15,     0,     0,     0,     0,     0,     0,     0,\n",
       "            0,     0]], dtype=int64)"
      ]
     },
     "execution_count": 348,
     "metadata": {},
     "output_type": "execute_result"
    }
   ],
   "source": [
    "confusion_matrix(y_test, y_test_pred)"
   ]
  },
  {
   "cell_type": "markdown",
   "metadata": {},
   "source": [
    "#### Model 3 - Decision tree ends here"
   ]
  },
  {
   "cell_type": "markdown",
   "metadata": {},
   "source": [
    "#### Model 4 - Decision tree with top 20 features "
   ]
  },
  {
   "cell_type": "code",
   "execution_count": 350,
   "metadata": {},
   "outputs": [],
   "source": [
    "# UnitStation\n",
    "# TransportUnitID\n",
    "# IncidentFirstDue\n",
    "# ReasonForChoosing\n",
    "# TransportLOC\n",
    "# ShiftDay"
   ]
  },
  {
   "cell_type": "code",
   "execution_count": 138,
   "metadata": {},
   "outputs": [
    {
     "name": "stdout",
     "output_type": "stream",
     "text": [
      "(125157, 19) (122290, 10)\n"
     ]
    },
    {
     "data": {
      "text/plain": [
       "(125157, 28)"
      ]
     },
     "execution_count": 138,
     "metadata": {},
     "output_type": "execute_result"
    }
   ],
   "source": [
    "print(patientunitsmerge.shape, incidents.shape)\n",
    "incidentpatientunitsmerge = patientunitsmerge.merge(incidents, how=\"left\", on=\"PrimaryKey\")\n",
    "incidentpatientunitsmerge.shape"
   ]
  },
  {
   "cell_type": "code",
   "execution_count": 139,
   "metadata": {},
   "outputs": [],
   "source": [
    "\n",
    "incidentpatientunitsmerge =incidentpatientunitsmerge[['TransportHospitalCode','UnitStation', 'TransportUnitID', 'IncidentFirstDue', 'ReasonForChoosingHospital', 'TransportLOC', 'ShiftDay']] \n"
   ]
  },
  {
   "cell_type": "code",
   "execution_count": 140,
   "metadata": {},
   "outputs": [
    {
     "data": {
      "text/plain": [
       "(125157, 7)"
      ]
     },
     "execution_count": 140,
     "metadata": {},
     "output_type": "execute_result"
    }
   ],
   "source": [
    "incidentpatientunitsmerge.shape"
   ]
  },
  {
   "cell_type": "code",
   "execution_count": 141,
   "metadata": {},
   "outputs": [
    {
     "data": {
      "text/plain": [
       "Index(['TransportHospitalCode', 'UnitStation', 'TransportUnitID',\n",
       "       'ReasonForChoosingHospital', 'TransportLOC', 'ShiftDay'],\n",
       "      dtype='object')"
      ]
     },
     "execution_count": 141,
     "metadata": {},
     "output_type": "execute_result"
    }
   ],
   "source": [
    "# Categorical data types\n",
    "incidentpatientunitsmerge.select_dtypes(exclude=['int64','int','int32','float','datetime64[ns]']).columns \n",
    "\n"
   ]
  },
  {
   "cell_type": "code",
   "execution_count": 142,
   "metadata": {},
   "outputs": [],
   "source": [
    "Feature_list = ['UnitStation', 'TransportUnitID', 'ReasonForChoosingHospital']"
   ]
  },
  {
   "cell_type": "code",
   "execution_count": 143,
   "metadata": {},
   "outputs": [],
   "source": [
    "subset_dataframe_featurelist=[]\n",
    "for variable in Feature_list:\n",
    "    subset_dataframe_featurelist.append(pd.get_dummies(incidentpatientunitsmerge[variable],prefix=variable, dummy_na=False))"
   ]
  },
  {
   "cell_type": "code",
   "execution_count": 144,
   "metadata": {},
   "outputs": [
    {
     "data": {
      "text/plain": [
       "(125157, 438)"
      ]
     },
     "execution_count": 144,
     "metadata": {},
     "output_type": "execute_result"
    }
   ],
   "source": [
    "merged_subset_dataframe_featurelist = pd.concat(subset_dataframe_featurelist, axis=1)\n",
    "merged_subset_dataframe_featurelist.shape"
   ]
  },
  {
   "cell_type": "code",
   "execution_count": 145,
   "metadata": {},
   "outputs": [
    {
     "name": "stdout",
     "output_type": "stream",
     "text": [
      "Wall time: 54 ms\n"
     ]
    },
    {
     "data": {
      "text/plain": [
       "(125157, 445)"
      ]
     },
     "execution_count": 145,
     "metadata": {},
     "output_type": "execute_result"
    }
   ],
   "source": [
    "%%time\n",
    "incidentpatientunitsmerged = pd.concat([merged_subset_dataframe_featurelist, incidentpatientunitsmerge], axis=1)\n",
    "incidentpatientunitsmerged.shape"
   ]
  },
  {
   "cell_type": "code",
   "execution_count": 146,
   "metadata": {},
   "outputs": [
    {
     "data": {
      "text/plain": [
       "(125157, 442)"
      ]
     },
     "execution_count": 146,
     "metadata": {},
     "output_type": "execute_result"
    }
   ],
   "source": [
    "# Drop nominal features already converted in numerical features using get_dummies\n",
    "incidentpatientunitsmerged.drop(Feature_list, axis=1, inplace=True)\n",
    "incidentpatientunitsmerged.shape"
   ]
  },
  {
   "cell_type": "code",
   "execution_count": 147,
   "metadata": {},
   "outputs": [],
   "source": [
    "incidentpatientunitsmerged.loc[incidentpatientunitsmerged['TransportHospitalCode'] == 'No Hospital service', 'TransportHospitalCode'] = 111"
   ]
  },
  {
   "cell_type": "code",
   "execution_count": 148,
   "metadata": {},
   "outputs": [
    {
     "data": {
      "text/plain": [
       "((125157, 441), (125157,))"
      ]
     },
     "execution_count": 148,
     "metadata": {},
     "output_type": "execute_result"
    }
   ],
   "source": [
    "X= incidentpatientunitsmerged.drop(columns = ['TransportHospitalCode'])\n",
    "\n",
    "\n",
    "y = pd.to_numeric(incidentpatientunitsmerged['TransportHospitalCode'])\n",
    "\n",
    "X.shape, y.shape"
   ]
  },
  {
   "cell_type": "code",
   "execution_count": 149,
   "metadata": {},
   "outputs": [],
   "source": [
    "\n",
    "model_DT = tree.DecisionTreeClassifier(class_weight=None, criterion='gini', max_depth=40,\n",
    "            max_features=100, max_leaf_nodes=16,\n",
    "            min_impurity_split=1e-07, min_samples_leaf=1,\n",
    "            min_samples_split=2, min_weight_fraction_leaf=0.0,\n",
    "            presort=False, random_state=0, splitter='best')"
   ]
  },
  {
   "cell_type": "code",
   "execution_count": 150,
   "metadata": {},
   "outputs": [
    {
     "name": "stderr",
     "output_type": "stream",
     "text": [
      "D:\\Softwares\\anaconda3\\lib\\site-packages\\sklearn\\tree\\_classes.py:301: FutureWarning: The min_impurity_split parameter is deprecated. Its default value will change from 1e-7 to 0 in version 0.23, and it will be removed in 0.25. Use the min_impurity_decrease parameter instead.\n",
      "  FutureWarning)\n",
      "D:\\Softwares\\anaconda3\\lib\\site-packages\\sklearn\\tree\\_classes.py:319: FutureWarning: The parameter 'presort' is deprecated and has no effect. It will be removed in v0.24. You can suppress this warning by not passing any value to the 'presort' parameter.\n",
      "  FutureWarning)\n"
     ]
    }
   ],
   "source": [
    "clf_DT = model_DT.fit(X_train, y_train)\n"
   ]
  },
  {
   "cell_type": "code",
   "execution_count": 151,
   "metadata": {},
   "outputs": [],
   "source": [
    "y_train_pred = clf_DT.predict(X_train)"
   ]
  },
  {
   "cell_type": "code",
   "execution_count": 152,
   "metadata": {},
   "outputs": [
    {
     "data": {
      "text/plain": [
       "0.6197482345194167"
      ]
     },
     "execution_count": 152,
     "metadata": {},
     "output_type": "execute_result"
    }
   ],
   "source": [
    "f1_score(y_train, y_train_pred,average='weighted')"
   ]
  },
  {
   "cell_type": "code",
   "execution_count": 153,
   "metadata": {},
   "outputs": [
    {
     "data": {
      "text/plain": [
       "0.6691270043268007"
      ]
     },
     "execution_count": 153,
     "metadata": {},
     "output_type": "execute_result"
    }
   ],
   "source": [
    "accuracy_score(y_train, y_train_pred)"
   ]
  },
  {
   "cell_type": "code",
   "execution_count": 154,
   "metadata": {},
   "outputs": [],
   "source": [
    "y_test_pred = clf_DT.predict(X_test)"
   ]
  },
  {
   "cell_type": "code",
   "execution_count": 155,
   "metadata": {},
   "outputs": [
    {
     "data": {
      "text/plain": [
       "0.6160589177214506"
      ]
     },
     "execution_count": 155,
     "metadata": {},
     "output_type": "execute_result"
    }
   ],
   "source": [
    "f1_score(y_test, y_test_pred,average='weighted')"
   ]
  },
  {
   "cell_type": "code",
   "execution_count": 156,
   "metadata": {},
   "outputs": [
    {
     "data": {
      "text/plain": [
       "0.6664687145710738"
      ]
     },
     "execution_count": 156,
     "metadata": {},
     "output_type": "execute_result"
    }
   ],
   "source": [
    "accuracy_score(y_test, y_test_pred)"
   ]
  },
  {
   "cell_type": "markdown",
   "metadata": {},
   "source": [
    "#### Model 6 - Random forest with top 20 features "
   ]
  },
  {
   "cell_type": "code",
   "execution_count": 158,
   "metadata": {},
   "outputs": [],
   "source": [
    "clf_GS_Model_RF2_1 = GridSearchCV(pipe, parameters, scoring=make_scorer(f1_score, average='weighted'))\n"
   ]
  },
  {
   "cell_type": "code",
   "execution_count": 159,
   "metadata": {},
   "outputs": [
    {
     "name": "stderr",
     "output_type": "stream",
     "text": [
      "D:\\Softwares\\anaconda3\\lib\\site-packages\\sklearn\\model_selection\\_split.py:667: UserWarning: The least populated class in y has only 2 members, which is less than n_splits=5.\n",
      "  % (min_groups, self.n_splits)), UserWarning)\n"
     ]
    },
    {
     "name": "stdout",
     "output_type": "stream",
     "text": [
      "Wall time: 33.6 s\n"
     ]
    },
    {
     "data": {
      "text/plain": [
       "GridSearchCV(cv=None, error_score=nan,\n",
       "             estimator=Pipeline(memory=None,\n",
       "                                steps=[('rf',\n",
       "                                        RandomForestClassifier(bootstrap=True,\n",
       "                                                               ccp_alpha=0.0,\n",
       "                                                               class_weight=None,\n",
       "                                                               criterion='gini',\n",
       "                                                               max_depth=None,\n",
       "                                                               max_features='auto',\n",
       "                                                               max_leaf_nodes=None,\n",
       "                                                               max_samples=None,\n",
       "                                                               min_impurity_decrease=0.0,\n",
       "                                                               min_impurity_split=None,\n",
       "                                                               min_samples_leaf=1,\n",
       "                                                               min_samples_split=2,\n",
       "                                                               min_weight_fraction_leaf=0.0,\n",
       "                                                               n_estimators=25,\n",
       "                                                               n_jobs=1,\n",
       "                                                               oob_score=False,\n",
       "                                                               random_state=0,\n",
       "                                                               verbose=0,\n",
       "                                                               warm_start=False))],\n",
       "                                verbose=False),\n",
       "             iid='deprecated', n_jobs=None,\n",
       "             param_grid={'rf__max_depth': [5, 15],\n",
       "                         'rf__n_estimators': [10, 25]},\n",
       "             pre_dispatch='2*n_jobs', refit=True, return_train_score=False,\n",
       "             scoring=make_scorer(f1_score, average=weighted), verbose=0)"
      ]
     },
     "execution_count": 159,
     "metadata": {},
     "output_type": "execute_result"
    }
   ],
   "source": [
    "\n",
    "\n",
    "%time clf_GS_Model_RF2_1.fit(X_train, y_train)"
   ]
  },
  {
   "cell_type": "code",
   "execution_count": 164,
   "metadata": {},
   "outputs": [
    {
     "data": {
      "text/html": [
       "<div>\n",
       "<style scoped>\n",
       "    .dataframe tbody tr th:only-of-type {\n",
       "        vertical-align: middle;\n",
       "    }\n",
       "\n",
       "    .dataframe tbody tr th {\n",
       "        vertical-align: top;\n",
       "    }\n",
       "\n",
       "    .dataframe thead th {\n",
       "        text-align: right;\n",
       "    }\n",
       "</style>\n",
       "<table border=\"1\" class=\"dataframe\">\n",
       "  <thead>\n",
       "    <tr style=\"text-align: right;\">\n",
       "      <th></th>\n",
       "      <th>mean_fit_time</th>\n",
       "      <th>std_fit_time</th>\n",
       "      <th>mean_score_time</th>\n",
       "      <th>std_score_time</th>\n",
       "      <th>param_rf__max_depth</th>\n",
       "      <th>param_rf__n_estimators</th>\n",
       "      <th>params</th>\n",
       "      <th>split0_test_score</th>\n",
       "      <th>split1_test_score</th>\n",
       "      <th>split2_test_score</th>\n",
       "      <th>split3_test_score</th>\n",
       "      <th>split4_test_score</th>\n",
       "      <th>mean_test_score</th>\n",
       "      <th>std_test_score</th>\n",
       "      <th>rank_test_score</th>\n",
       "    </tr>\n",
       "  </thead>\n",
       "  <tbody>\n",
       "    <tr>\n",
       "      <th>3</th>\n",
       "      <td>2.712835</td>\n",
       "      <td>0.049987</td>\n",
       "      <td>0.183295</td>\n",
       "      <td>0.015205</td>\n",
       "      <td>15</td>\n",
       "      <td>25</td>\n",
       "      <td>{'rf__max_depth': 15, 'rf__n_estimators': 25}</td>\n",
       "      <td>0.923417</td>\n",
       "      <td>0.929176</td>\n",
       "      <td>0.918640</td>\n",
       "      <td>0.931059</td>\n",
       "      <td>0.926145</td>\n",
       "      <td>0.925687</td>\n",
       "      <td>0.004383</td>\n",
       "      <td>1</td>\n",
       "    </tr>\n",
       "    <tr>\n",
       "      <th>2</th>\n",
       "      <td>1.239146</td>\n",
       "      <td>0.064202</td>\n",
       "      <td>0.091553</td>\n",
       "      <td>0.001854</td>\n",
       "      <td>15</td>\n",
       "      <td>10</td>\n",
       "      <td>{'rf__max_depth': 15, 'rf__n_estimators': 10}</td>\n",
       "      <td>0.917145</td>\n",
       "      <td>0.918450</td>\n",
       "      <td>0.915947</td>\n",
       "      <td>0.916678</td>\n",
       "      <td>0.911615</td>\n",
       "      <td>0.915967</td>\n",
       "      <td>0.002324</td>\n",
       "      <td>2</td>\n",
       "    </tr>\n",
       "    <tr>\n",
       "      <th>1</th>\n",
       "      <td>1.027600</td>\n",
       "      <td>0.051732</td>\n",
       "      <td>0.132729</td>\n",
       "      <td>0.004620</td>\n",
       "      <td>5</td>\n",
       "      <td>25</td>\n",
       "      <td>{'rf__max_depth': 5, 'rf__n_estimators': 25}</td>\n",
       "      <td>0.722435</td>\n",
       "      <td>0.589143</td>\n",
       "      <td>0.533589</td>\n",
       "      <td>0.642414</td>\n",
       "      <td>0.660394</td>\n",
       "      <td>0.629595</td>\n",
       "      <td>0.064165</td>\n",
       "      <td>3</td>\n",
       "    </tr>\n",
       "    <tr>\n",
       "      <th>0</th>\n",
       "      <td>0.536894</td>\n",
       "      <td>0.052934</td>\n",
       "      <td>0.077161</td>\n",
       "      <td>0.008416</td>\n",
       "      <td>5</td>\n",
       "      <td>10</td>\n",
       "      <td>{'rf__max_depth': 5, 'rf__n_estimators': 10}</td>\n",
       "      <td>0.578726</td>\n",
       "      <td>0.386035</td>\n",
       "      <td>0.563670</td>\n",
       "      <td>0.526787</td>\n",
       "      <td>0.520065</td>\n",
       "      <td>0.515057</td>\n",
       "      <td>0.068156</td>\n",
       "      <td>4</td>\n",
       "    </tr>\n",
       "  </tbody>\n",
       "</table>\n",
       "</div>"
      ],
      "text/plain": [
       "   mean_fit_time  std_fit_time  mean_score_time  std_score_time  \\\n",
       "3       2.712835      0.049987         0.183295        0.015205   \n",
       "2       1.239146      0.064202         0.091553        0.001854   \n",
       "1       1.027600      0.051732         0.132729        0.004620   \n",
       "0       0.536894      0.052934         0.077161        0.008416   \n",
       "\n",
       "  param_rf__max_depth param_rf__n_estimators  \\\n",
       "3                  15                     25   \n",
       "2                  15                     10   \n",
       "1                   5                     25   \n",
       "0                   5                     10   \n",
       "\n",
       "                                          params  split0_test_score  \\\n",
       "3  {'rf__max_depth': 15, 'rf__n_estimators': 25}           0.923417   \n",
       "2  {'rf__max_depth': 15, 'rf__n_estimators': 10}           0.917145   \n",
       "1   {'rf__max_depth': 5, 'rf__n_estimators': 25}           0.722435   \n",
       "0   {'rf__max_depth': 5, 'rf__n_estimators': 10}           0.578726   \n",
       "\n",
       "   split1_test_score  split2_test_score  split3_test_score  split4_test_score  \\\n",
       "3           0.929176           0.918640           0.931059           0.926145   \n",
       "2           0.918450           0.915947           0.916678           0.911615   \n",
       "1           0.589143           0.533589           0.642414           0.660394   \n",
       "0           0.386035           0.563670           0.526787           0.520065   \n",
       "\n",
       "   mean_test_score  std_test_score  rank_test_score  \n",
       "3         0.925687        0.004383                1  \n",
       "2         0.915967        0.002324                2  \n",
       "1         0.629595        0.064165                3  \n",
       "0         0.515057        0.068156                4  "
      ]
     },
     "execution_count": 164,
     "metadata": {},
     "output_type": "execute_result"
    }
   ],
   "source": [
    "pd.DataFrame(clf_GS_Model_RF2_1.cv_results_).sort_values(\"rank_test_score\").head(5)"
   ]
  },
  {
   "cell_type": "code",
   "execution_count": 165,
   "metadata": {},
   "outputs": [
    {
     "name": "stdout",
     "output_type": "stream",
     "text": [
      "Best n estimator: 25\n",
      "Best max_depth: 15\n",
      "Best min_samples_split: 2\n"
     ]
    }
   ],
   "source": [
    "# Viewing The Best Parameters\n",
    "print('Best n estimator:', clf_GS_Model_RF2_1.best_estimator_.get_params()['rf__n_estimators'])\n",
    "print('Best max_depth:', clf_GS_Model_RF2_1.best_estimator_.get_params()['rf__max_depth'])\n",
    "print('Best min_samples_split:', clf_GS_Model_RF2_1.best_estimator_.get_params()['rf__min_samples_split'])"
   ]
  },
  {
   "cell_type": "code",
   "execution_count": 162,
   "metadata": {},
   "outputs": [
    {
     "name": "stdout",
     "output_type": "stream",
     "text": [
      "              precision    recall  f1-score   support\n",
      "\n",
      "           1       0.81      0.91      0.86      4926\n",
      "           3       0.89      0.77      0.82      4550\n",
      "          11       0.99      1.00      0.99     11870\n",
      "          16       1.00      1.00      1.00     35207\n",
      "          36       1.00      1.00      1.00       100\n",
      "          47       0.81      0.99      0.89     10714\n",
      "          58       0.00      0.00      0.00       119\n",
      "          59       0.00      0.00      0.00        54\n",
      "          95       1.00      1.00      1.00     12229\n",
      "         102       1.00      0.62      0.76        68\n",
      "         107       1.00      0.50      0.67         8\n",
      "         116       0.00      0.00      0.00         2\n",
      "         202       1.00      0.14      0.25       477\n",
      "         204       1.00      0.10      0.17        94\n",
      "         205       0.81      0.68      0.74      3155\n",
      "         213       0.90      0.40      0.55      1902\n",
      "         215       0.92      1.00      0.96       316\n",
      "         216       0.00      0.00      0.00         2\n",
      "         324       0.00      0.00      0.00        41\n",
      "         325       1.00      0.99      0.99        69\n",
      "         326       1.00      0.36      0.53        59\n",
      "         327       1.00      0.95      0.97        56\n",
      "         328       1.00      0.94      0.97        51\n",
      "         363       0.00      0.00      0.00         3\n",
      "         364       0.00      0.00      0.00         7\n",
      "         374       0.95      0.05      0.10       339\n",
      "         700       1.00      0.33      0.50         3\n",
      "         999       1.00      0.53      0.69        17\n",
      "\n",
      "    accuracy                           0.94     86438\n",
      "   macro avg       0.72      0.51      0.55     86438\n",
      "weighted avg       0.94      0.94      0.94     86438\n",
      "\n"
     ]
    },
    {
     "name": "stderr",
     "output_type": "stream",
     "text": [
      "D:\\Softwares\\anaconda3\\lib\\site-packages\\sklearn\\metrics\\_classification.py:1272: UndefinedMetricWarning: Precision and F-score are ill-defined and being set to 0.0 in labels with no predicted samples. Use `zero_division` parameter to control this behavior.\n",
      "  _warn_prf(average, modifier, msg_start, len(result))\n"
     ]
    },
    {
     "data": {
      "text/plain": [
       "0.9431962794141465"
      ]
     },
     "execution_count": 162,
     "metadata": {},
     "output_type": "execute_result"
    }
   ],
   "source": [
    "y_train_pred = clf_GS_Model_RF2_1.best_estimator_.predict(X_train)\n",
    "# y_train_pred = clfRandom.predict(X_train)\n",
    "\n",
    "f1_score(y_train, y_train_pred,average='weighted')\n",
    "\n",
    "print(classification_report(y_train,y_train_pred))\n",
    "\n",
    "accuracy_score(y_train, y_train_pred)\n",
    "\n"
   ]
  },
  {
   "cell_type": "code",
   "execution_count": 163,
   "metadata": {},
   "outputs": [
    {
     "name": "stderr",
     "output_type": "stream",
     "text": [
      "D:\\Softwares\\anaconda3\\lib\\site-packages\\sklearn\\metrics\\_classification.py:1272: UndefinedMetricWarning: Precision and F-score are ill-defined and being set to 0.0 in labels with no predicted samples. Use `zero_division` parameter to control this behavior.\n",
      "  _warn_prf(average, modifier, msg_start, len(result))\n"
     ]
    },
    {
     "name": "stdout",
     "output_type": "stream",
     "text": [
      "              precision    recall  f1-score   support\n",
      "\n",
      "           1       0.76      0.86      0.81      2040\n",
      "           3       0.83      0.71      0.76      1919\n",
      "          11       0.98      1.00      0.99      5105\n",
      "          16       1.00      1.00      1.00     15152\n",
      "          36       1.00      0.95      0.98        62\n",
      "          47       0.77      0.98      0.86      4522\n",
      "          58       0.00      0.00      0.00        48\n",
      "          59       0.00      0.00      0.00        32\n",
      "          95       1.00      1.00      1.00      5235\n",
      "         102       0.92      0.30      0.45        37\n",
      "         107       0.00      0.00      0.00         3\n",
      "         202       0.75      0.04      0.07       231\n",
      "         204       0.00      0.00      0.00        48\n",
      "         205       0.74      0.58      0.65      1398\n",
      "         213       0.78      0.29      0.42       806\n",
      "         215       0.86      0.99      0.92       148\n",
      "         216       0.00      0.00      0.00         3\n",
      "         324       0.00      0.00      0.00        18\n",
      "         325       1.00      0.97      0.98        31\n",
      "         326       0.00      0.00      0.00        28\n",
      "         327       1.00      1.00      1.00        10\n",
      "         328       1.00      0.89      0.94        18\n",
      "         363       0.00      0.00      0.00         1\n",
      "         364       0.00      0.00      0.00         3\n",
      "         374       0.00      0.00      0.00       141\n",
      "         701       0.00      0.00      0.00         1\n",
      "         999       0.00      0.00      0.00         6\n",
      "\n",
      "    accuracy                           0.93     37046\n",
      "   macro avg       0.50      0.43      0.44     37046\n",
      "weighted avg       0.92      0.93      0.92     37046\n",
      "\n"
     ]
    },
    {
     "data": {
      "text/plain": [
       "0.9169018864944015"
      ]
     },
     "execution_count": 163,
     "metadata": {},
     "output_type": "execute_result"
    }
   ],
   "source": [
    "\n",
    "y_test_pred= clf_GS_Model_RF2_1.best_estimator_.predict(X_test)\n",
    "# y_cross_validation_pred= clfRandom.predict(X_cross_validation)\n",
    "f1_score(y_test, y_test_pred, average='weighted')\n",
    "\n",
    "print(classification_report(y_test,y_test_pred))\n",
    "\n",
    "accuracy_score(y_test,y_test_pred)\n",
    "\n",
    "y_test_pred= clf_GS_Model_RF2_1.best_estimator_.predict(X_test)\n",
    "# y_cross_validation_pred= clfRandom.predict(X_cross_validation)\n",
    "f1_score(y_test, y_test_pred, average='weighted')"
   ]
  },
  {
   "cell_type": "markdown",
   "metadata": {},
   "source": [
    "#### Model 6 - Random forest with top 20 features ends here"
   ]
  },
  {
   "cell_type": "markdown",
   "metadata": {},
   "source": [
    "#### Model for week 12- Full Sprint 3 - code ends here "
   ]
  },
  {
   "cell_type": "markdown",
   "metadata": {},
   "source": [
    "###  Creating 20 different models using random forest"
   ]
  },
  {
   "cell_type": "code",
   "execution_count": 166,
   "metadata": {},
   "outputs": [],
   "source": [
    "clfRandom = RandomForestClassifier(bootstrap=True, random_state=0, class_weight=None, criterion='gini',\n",
    "            max_depth=None, max_features='auto', max_leaf_nodes=None,\n",
    "            min_impurity_decrease=0.0, min_impurity_split=None,\n",
    "            min_samples_leaf=1, min_samples_split=2,\n",
    "            min_weight_fraction_leaf=0.0, n_estimators=25, n_jobs=1,\n",
    "            oob_score=False, verbose=0,\n",
    "            warm_start=False)"
   ]
  },
  {
   "cell_type": "code",
   "execution_count": 167,
   "metadata": {},
   "outputs": [],
   "source": [
    "pipe = Pipeline([\n",
    "    ('rf', clfRandom)\n",
    "])"
   ]
  },
  {
   "cell_type": "code",
   "execution_count": 168,
   "metadata": {},
   "outputs": [],
   "source": [
    "parameters = {\n",
    "    'rf__n_estimators': [10,25],\n",
    "    'rf__max_depth': [5,15]\n",
    "    \n",
    "}"
   ]
  },
  {
   "cell_type": "code",
   "execution_count": 169,
   "metadata": {},
   "outputs": [],
   "source": [
    " \n",
    "clf_GS_Model_1 = GridSearchCV(pipe, parameters, scoring=make_scorer(f1_score, average='weighted'))"
   ]
  },
  {
   "cell_type": "code",
   "execution_count": 170,
   "metadata": {},
   "outputs": [
    {
     "name": "stderr",
     "output_type": "stream",
     "text": [
      "D:\\Softwares\\anaconda3\\lib\\site-packages\\sklearn\\model_selection\\_split.py:667: UserWarning: The least populated class in y has only 2 members, which is less than n_splits=5.\n",
      "  % (min_groups, self.n_splits)), UserWarning)\n"
     ]
    },
    {
     "name": "stdout",
     "output_type": "stream",
     "text": [
      "Wall time: 33.5 s\n"
     ]
    },
    {
     "data": {
      "text/plain": [
       "GridSearchCV(cv=None, error_score=nan,\n",
       "             estimator=Pipeline(memory=None,\n",
       "                                steps=[('rf',\n",
       "                                        RandomForestClassifier(bootstrap=True,\n",
       "                                                               ccp_alpha=0.0,\n",
       "                                                               class_weight=None,\n",
       "                                                               criterion='gini',\n",
       "                                                               max_depth=None,\n",
       "                                                               max_features='auto',\n",
       "                                                               max_leaf_nodes=None,\n",
       "                                                               max_samples=None,\n",
       "                                                               min_impurity_decrease=0.0,\n",
       "                                                               min_impurity_split=None,\n",
       "                                                               min_samples_leaf=1,\n",
       "                                                               min_samples_split=2,\n",
       "                                                               min_weight_fraction_leaf=0.0,\n",
       "                                                               n_estimators=25,\n",
       "                                                               n_jobs=1,\n",
       "                                                               oob_score=False,\n",
       "                                                               random_state=0,\n",
       "                                                               verbose=0,\n",
       "                                                               warm_start=False))],\n",
       "                                verbose=False),\n",
       "             iid='deprecated', n_jobs=None,\n",
       "             param_grid={'rf__max_depth': [5, 15],\n",
       "                         'rf__n_estimators': [10, 25]},\n",
       "             pre_dispatch='2*n_jobs', refit=True, return_train_score=False,\n",
       "             scoring=make_scorer(f1_score, average=weighted), verbose=0)"
      ]
     },
     "execution_count": 170,
     "metadata": {},
     "output_type": "execute_result"
    }
   ],
   "source": [
    "%time clf_GS_Model_1.fit(X_train, y_train)"
   ]
  },
  {
   "cell_type": "code",
   "execution_count": 171,
   "metadata": {},
   "outputs": [
    {
     "data": {
      "text/html": [
       "<div>\n",
       "<style scoped>\n",
       "    .dataframe tbody tr th:only-of-type {\n",
       "        vertical-align: middle;\n",
       "    }\n",
       "\n",
       "    .dataframe tbody tr th {\n",
       "        vertical-align: top;\n",
       "    }\n",
       "\n",
       "    .dataframe thead th {\n",
       "        text-align: right;\n",
       "    }\n",
       "</style>\n",
       "<table border=\"1\" class=\"dataframe\">\n",
       "  <thead>\n",
       "    <tr style=\"text-align: right;\">\n",
       "      <th></th>\n",
       "      <th>mean_fit_time</th>\n",
       "      <th>std_fit_time</th>\n",
       "      <th>mean_score_time</th>\n",
       "      <th>std_score_time</th>\n",
       "      <th>param_rf__max_depth</th>\n",
       "      <th>param_rf__n_estimators</th>\n",
       "      <th>params</th>\n",
       "      <th>split0_test_score</th>\n",
       "      <th>split1_test_score</th>\n",
       "      <th>split2_test_score</th>\n",
       "      <th>split3_test_score</th>\n",
       "      <th>split4_test_score</th>\n",
       "      <th>mean_test_score</th>\n",
       "      <th>std_test_score</th>\n",
       "      <th>rank_test_score</th>\n",
       "    </tr>\n",
       "  </thead>\n",
       "  <tbody>\n",
       "    <tr>\n",
       "      <th>3</th>\n",
       "      <td>2.700656</td>\n",
       "      <td>0.102592</td>\n",
       "      <td>0.173693</td>\n",
       "      <td>0.006693</td>\n",
       "      <td>15</td>\n",
       "      <td>25</td>\n",
       "      <td>{'rf__max_depth': 15, 'rf__n_estimators': 25}</td>\n",
       "      <td>0.923417</td>\n",
       "      <td>0.929176</td>\n",
       "      <td>0.918640</td>\n",
       "      <td>0.931059</td>\n",
       "      <td>0.926145</td>\n",
       "      <td>0.925687</td>\n",
       "      <td>0.004383</td>\n",
       "      <td>1</td>\n",
       "    </tr>\n",
       "    <tr>\n",
       "      <th>2</th>\n",
       "      <td>1.202910</td>\n",
       "      <td>0.038937</td>\n",
       "      <td>0.096144</td>\n",
       "      <td>0.009511</td>\n",
       "      <td>15</td>\n",
       "      <td>10</td>\n",
       "      <td>{'rf__max_depth': 15, 'rf__n_estimators': 10}</td>\n",
       "      <td>0.917145</td>\n",
       "      <td>0.918450</td>\n",
       "      <td>0.915947</td>\n",
       "      <td>0.916678</td>\n",
       "      <td>0.911615</td>\n",
       "      <td>0.915967</td>\n",
       "      <td>0.002324</td>\n",
       "      <td>2</td>\n",
       "    </tr>\n",
       "    <tr>\n",
       "      <th>1</th>\n",
       "      <td>1.066185</td>\n",
       "      <td>0.045968</td>\n",
       "      <td>0.130526</td>\n",
       "      <td>0.003500</td>\n",
       "      <td>5</td>\n",
       "      <td>25</td>\n",
       "      <td>{'rf__max_depth': 5, 'rf__n_estimators': 25}</td>\n",
       "      <td>0.722435</td>\n",
       "      <td>0.589143</td>\n",
       "      <td>0.533589</td>\n",
       "      <td>0.642414</td>\n",
       "      <td>0.660394</td>\n",
       "      <td>0.629595</td>\n",
       "      <td>0.064165</td>\n",
       "      <td>3</td>\n",
       "    </tr>\n",
       "    <tr>\n",
       "      <th>0</th>\n",
       "      <td>0.537288</td>\n",
       "      <td>0.024777</td>\n",
       "      <td>0.075223</td>\n",
       "      <td>0.002563</td>\n",
       "      <td>5</td>\n",
       "      <td>10</td>\n",
       "      <td>{'rf__max_depth': 5, 'rf__n_estimators': 10}</td>\n",
       "      <td>0.578726</td>\n",
       "      <td>0.386035</td>\n",
       "      <td>0.563670</td>\n",
       "      <td>0.526787</td>\n",
       "      <td>0.520065</td>\n",
       "      <td>0.515057</td>\n",
       "      <td>0.068156</td>\n",
       "      <td>4</td>\n",
       "    </tr>\n",
       "  </tbody>\n",
       "</table>\n",
       "</div>"
      ],
      "text/plain": [
       "   mean_fit_time  std_fit_time  mean_score_time  std_score_time  \\\n",
       "3       2.700656      0.102592         0.173693        0.006693   \n",
       "2       1.202910      0.038937         0.096144        0.009511   \n",
       "1       1.066185      0.045968         0.130526        0.003500   \n",
       "0       0.537288      0.024777         0.075223        0.002563   \n",
       "\n",
       "  param_rf__max_depth param_rf__n_estimators  \\\n",
       "3                  15                     25   \n",
       "2                  15                     10   \n",
       "1                   5                     25   \n",
       "0                   5                     10   \n",
       "\n",
       "                                          params  split0_test_score  \\\n",
       "3  {'rf__max_depth': 15, 'rf__n_estimators': 25}           0.923417   \n",
       "2  {'rf__max_depth': 15, 'rf__n_estimators': 10}           0.917145   \n",
       "1   {'rf__max_depth': 5, 'rf__n_estimators': 25}           0.722435   \n",
       "0   {'rf__max_depth': 5, 'rf__n_estimators': 10}           0.578726   \n",
       "\n",
       "   split1_test_score  split2_test_score  split3_test_score  split4_test_score  \\\n",
       "3           0.929176           0.918640           0.931059           0.926145   \n",
       "2           0.918450           0.915947           0.916678           0.911615   \n",
       "1           0.589143           0.533589           0.642414           0.660394   \n",
       "0           0.386035           0.563670           0.526787           0.520065   \n",
       "\n",
       "   mean_test_score  std_test_score  rank_test_score  \n",
       "3         0.925687        0.004383                1  \n",
       "2         0.915967        0.002324                2  \n",
       "1         0.629595        0.064165                3  \n",
       "0         0.515057        0.068156                4  "
      ]
     },
     "execution_count": 171,
     "metadata": {},
     "output_type": "execute_result"
    }
   ],
   "source": [
    "pd.DataFrame(clf_GS_Model_1.cv_results_).sort_values(\"rank_test_score\").head(5)"
   ]
  },
  {
   "cell_type": "code",
   "execution_count": 172,
   "metadata": {},
   "outputs": [
    {
     "name": "stdout",
     "output_type": "stream",
     "text": [
      "Best n estimator: 25\n",
      "Best max_depth: 15\n",
      "Best min_samples_split: 2\n"
     ]
    }
   ],
   "source": [
    "# Viewing The Best Parameters\n",
    "print('Best n estimator:', clf_GS_Model_1.best_estimator_.get_params()['rf__n_estimators'])\n",
    "print('Best max_depth:', clf_GS_Model_1.best_estimator_.get_params()['rf__max_depth'])\n",
    "print('Best min_samples_split:', clf_GS_Model_1.best_estimator_.get_params()['rf__min_samples_split'])"
   ]
  },
  {
   "cell_type": "code",
   "execution_count": 173,
   "metadata": {},
   "outputs": [
    {
     "data": {
      "text/plain": [
       "0.9357381340301283"
      ]
     },
     "execution_count": 173,
     "metadata": {},
     "output_type": "execute_result"
    }
   ],
   "source": [
    "y_train_pred = clf_GS_Model_1.best_estimator_.predict(X_train)\n",
    "# y_train_pred = clfRandom.predict(X_train)\n",
    "\n",
    "f1_score(y_train, y_train_pred,average='weighted')"
   ]
  },
  {
   "cell_type": "code",
   "execution_count": 174,
   "metadata": {},
   "outputs": [
    {
     "name": "stdout",
     "output_type": "stream",
     "text": [
      "              precision    recall  f1-score   support\n",
      "\n",
      "           1       0.81      0.91      0.86      4926\n",
      "           3       0.89      0.77      0.82      4550\n",
      "          11       0.99      1.00      0.99     11870\n",
      "          16       1.00      1.00      1.00     35207\n",
      "          36       1.00      1.00      1.00       100\n",
      "          47       0.81      0.99      0.89     10714\n",
      "          58       0.00      0.00      0.00       119\n",
      "          59       0.00      0.00      0.00        54\n",
      "          95       1.00      1.00      1.00     12229\n",
      "         102       1.00      0.62      0.76        68\n",
      "         107       1.00      0.50      0.67         8\n",
      "         116       0.00      0.00      0.00         2\n",
      "         202       1.00      0.14      0.25       477\n",
      "         204       1.00      0.10      0.17        94\n",
      "         205       0.81      0.68      0.74      3155\n",
      "         213       0.90      0.40      0.55      1902\n",
      "         215       0.92      1.00      0.96       316\n",
      "         216       0.00      0.00      0.00         2\n",
      "         324       0.00      0.00      0.00        41\n",
      "         325       1.00      0.99      0.99        69\n",
      "         326       1.00      0.36      0.53        59\n",
      "         327       1.00      0.95      0.97        56\n",
      "         328       1.00      0.94      0.97        51\n",
      "         363       0.00      0.00      0.00         3\n",
      "         364       0.00      0.00      0.00         7\n",
      "         374       0.95      0.05      0.10       339\n",
      "         700       1.00      0.33      0.50         3\n",
      "         999       1.00      0.53      0.69        17\n",
      "\n",
      "    accuracy                           0.94     86438\n",
      "   macro avg       0.72      0.51      0.55     86438\n",
      "weighted avg       0.94      0.94      0.94     86438\n",
      "\n"
     ]
    },
    {
     "name": "stderr",
     "output_type": "stream",
     "text": [
      "D:\\Softwares\\anaconda3\\lib\\site-packages\\sklearn\\metrics\\_classification.py:1272: UndefinedMetricWarning: Precision and F-score are ill-defined and being set to 0.0 in labels with no predicted samples. Use `zero_division` parameter to control this behavior.\n",
      "  _warn_prf(average, modifier, msg_start, len(result))\n"
     ]
    }
   ],
   "source": [
    "print(classification_report(y_train,y_train_pred))"
   ]
  },
  {
   "cell_type": "code",
   "execution_count": 175,
   "metadata": {},
   "outputs": [
    {
     "data": {
      "text/plain": [
       "0.9431962794141465"
      ]
     },
     "execution_count": 175,
     "metadata": {},
     "output_type": "execute_result"
    }
   ],
   "source": [
    "accuracy_score(y_train, y_train_pred)"
   ]
  },
  {
   "cell_type": "code",
   "execution_count": 176,
   "metadata": {},
   "outputs": [
    {
     "data": {
      "text/plain": [
       "0.9169018864944015"
      ]
     },
     "execution_count": 176,
     "metadata": {},
     "output_type": "execute_result"
    }
   ],
   "source": [
    "y_test_pred= clf_GS_Model_1.best_estimator_.predict(X_test)\n",
    "# y_cross_validation_pred= clfRandom.predict(X_cross_validation)\n",
    "f1_score(y_test, y_test_pred, average='weighted')"
   ]
  },
  {
   "cell_type": "code",
   "execution_count": 177,
   "metadata": {},
   "outputs": [
    {
     "name": "stdout",
     "output_type": "stream",
     "text": [
      "              precision    recall  f1-score   support\n",
      "\n",
      "           1       0.76      0.86      0.81      2040\n",
      "           3       0.83      0.71      0.76      1919\n",
      "          11       0.98      1.00      0.99      5105\n",
      "          16       1.00      1.00      1.00     15152\n",
      "          36       1.00      0.95      0.98        62\n",
      "          47       0.77      0.98      0.86      4522\n",
      "          58       0.00      0.00      0.00        48\n",
      "          59       0.00      0.00      0.00        32\n",
      "          95       1.00      1.00      1.00      5235\n",
      "         102       0.92      0.30      0.45        37\n",
      "         107       0.00      0.00      0.00         3\n",
      "         202       0.75      0.04      0.07       231\n",
      "         204       0.00      0.00      0.00        48\n",
      "         205       0.74      0.58      0.65      1398\n",
      "         213       0.78      0.29      0.42       806\n",
      "         215       0.86      0.99      0.92       148\n",
      "         216       0.00      0.00      0.00         3\n",
      "         324       0.00      0.00      0.00        18\n",
      "         325       1.00      0.97      0.98        31\n",
      "         326       0.00      0.00      0.00        28\n",
      "         327       1.00      1.00      1.00        10\n",
      "         328       1.00      0.89      0.94        18\n",
      "         363       0.00      0.00      0.00         1\n",
      "         364       0.00      0.00      0.00         3\n",
      "         374       0.00      0.00      0.00       141\n",
      "         701       0.00      0.00      0.00         1\n",
      "         999       0.00      0.00      0.00         6\n",
      "\n",
      "    accuracy                           0.93     37046\n",
      "   macro avg       0.50      0.43      0.44     37046\n",
      "weighted avg       0.92      0.93      0.92     37046\n",
      "\n"
     ]
    },
    {
     "name": "stderr",
     "output_type": "stream",
     "text": [
      "D:\\Softwares\\anaconda3\\lib\\site-packages\\sklearn\\metrics\\_classification.py:1272: UndefinedMetricWarning: Precision and F-score are ill-defined and being set to 0.0 in labels with no predicted samples. Use `zero_division` parameter to control this behavior.\n",
      "  _warn_prf(average, modifier, msg_start, len(result))\n"
     ]
    }
   ],
   "source": [
    "print(classification_report(y_test,y_test_pred))"
   ]
  },
  {
   "cell_type": "code",
   "execution_count": 178,
   "metadata": {},
   "outputs": [
    {
     "data": {
      "text/plain": [
       "0.92752253954543"
      ]
     },
     "execution_count": 178,
     "metadata": {},
     "output_type": "execute_result"
    }
   ],
   "source": [
    "accuracy_score(y_test,y_test_pred)"
   ]
  },
  {
   "cell_type": "code",
   "execution_count": 179,
   "metadata": {},
   "outputs": [],
   "source": [
    "clfRandom = clf_GS_Model_1.best_estimator_"
   ]
  },
  {
   "cell_type": "code",
   "execution_count": 180,
   "metadata": {},
   "outputs": [],
   "source": [
    "# Best model \n",
    "# clfRandom = RandomForestClassifier(bootstrap=True, class_weight=None, criterion='gini',\n",
    "#             max_depth=15, max_features='auto', max_leaf_nodes=None,\n",
    "#             min_impurity_decrease=0.0, min_impurity_split=None,\n",
    "#             min_samples_leaf=1, min_samples_split=2,\n",
    "#             min_weight_fraction_leaf=0.0, n_estimators=10, n_jobs=1,\n",
    "#             oob_score=False, random_state=42, verbose=0,\n",
    "#             warm_start=False)\n",
    "\n",
    "clfRandom = clf_GS_Model_1.best_estimator_.get_params()[\"rf\"]"
   ]
  },
  {
   "cell_type": "code",
   "execution_count": 181,
   "metadata": {},
   "outputs": [
    {
     "name": "stdout",
     "output_type": "stream",
     "text": [
      "Wall time: 3.5 s\n"
     ]
    },
    {
     "data": {
      "text/plain": [
       "RandomForestClassifier(bootstrap=True, ccp_alpha=0.0, class_weight=None,\n",
       "                       criterion='gini', max_depth=15, max_features='auto',\n",
       "                       max_leaf_nodes=None, max_samples=None,\n",
       "                       min_impurity_decrease=0.0, min_impurity_split=None,\n",
       "                       min_samples_leaf=1, min_samples_split=2,\n",
       "                       min_weight_fraction_leaf=0.0, n_estimators=25, n_jobs=1,\n",
       "                       oob_score=False, random_state=0, verbose=0,\n",
       "                       warm_start=False)"
      ]
     },
     "execution_count": 181,
     "metadata": {},
     "output_type": "execute_result"
    }
   ],
   "source": [
    "%time clfRandom.fit(X_train, y_train)"
   ]
  },
  {
   "cell_type": "code",
   "execution_count": 182,
   "metadata": {},
   "outputs": [],
   "source": [
    "y_test_pred= clfRandom.predict(X_test)"
   ]
  },
  {
   "cell_type": "code",
   "execution_count": 183,
   "metadata": {
    "scrolled": true
   },
   "outputs": [
    {
     "data": {
      "text/plain": [
       "Text(0.5, 0, 'Random Forest Feature Importance')"
      ]
     },
     "execution_count": 183,
     "metadata": {},
     "output_type": "execute_result"
    },
    {
     "data": {
      "image/png": "[encoded data removed]",
      "text/plain": [
       "<Figure size 432x288 with 1 Axes>"
      ]
     },
     "metadata": {
      "needs_background": "light"
     },
     "output_type": "display_data"
    }
   ],
   "source": [
    "sorted_idx = clfRandom.feature_importances_.argsort()\n",
    "plt.barh(X.columns[sorted_idx[-20:]], clfRandom.feature_importances_[sorted_idx[-20:]])\n",
    "plt.xlabel(\"Random Forest Feature Importance\")"
   ]
  },
  {
   "cell_type": "markdown",
   "metadata": {},
   "source": [
    "#### ends Results for week -12 Random forest grid search cv"
   ]
  },
  {
   "cell_type": "code",
   "execution_count": null,
   "metadata": {},
   "outputs": [],
   "source": []
  },
  {
   "cell_type": "code",
   "execution_count": null,
   "metadata": {},
   "outputs": [],
   "source": []
  },
  {
   "cell_type": "code",
   "execution_count": null,
   "metadata": {},
   "outputs": [],
   "source": []
  }
 ],
 "metadata": {
  "colab": {
   "name": "Cleaning of Broken data v1_deepa.ipynb",
   "provenance": []
  },
  "kernelspec": {
   "display_name": "Python 3",
   "language": "python",
   "name": "python3"
  },
  "language_info": {
   "codemirror_mode": {
    "name": "ipython",
    "version": 3
   },
   "file_extension": ".py",
   "mimetype": "text/x-python",
   "name": "python",
   "nbconvert_exporter": "python",
   "pygments_lexer": "ipython3",
   "version": "3.7.6"
  }
 },
 "nbformat": 4,
 "nbformat_minor": 5
}
