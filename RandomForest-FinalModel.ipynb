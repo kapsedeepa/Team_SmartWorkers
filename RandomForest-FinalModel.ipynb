{
 "cells": [
  {
   "cell_type": "markdown",
   "metadata": {
    "id": "9bb89ebc"
   },
   "source": [
    "## Question for the stakeholder?\n",
    "\n",
    "* What to do with duplicated incidents? Since they are few can we drop them? - yes keep incident with first callconfirmedDT\n",
    "* How to deal/ understand meaning of empty in units? - answered\n",
    "* How to check primary key for each dataset is unique? Do you need to combine columns to do so? Specifically for: units, - answered"
   ]
  },
  {
   "cell_type": "code",
   "execution_count": 1,
   "metadata": {
    "id": "5e463220"
   },
   "outputs": [],
   "source": [
    "# reading data\n",
    "import pandas as pd\n",
    "# Save file\n",
    "from pandas import ExcelWriter\n",
    "from sklearn.model_selection import train_test_split\n",
    "from sklearn.linear_model import LogisticRegression"
   ]
  },
  {
   "cell_type": "code",
   "execution_count": 2,
   "metadata": {},
   "outputs": [],
   "source": [
    "from sklearn.metrics import classification_report\n",
    "from sklearn.ensemble import RandomForestClassifier\n",
    "from sklearn.preprocessing import MinMaxScaler"
   ]
  },
  {
   "cell_type": "code",
   "execution_count": 3,
   "metadata": {},
   "outputs": [],
   "source": [
    "# Importing tree, Pipeline, GridSearchCV from sklearn\n",
    "from sklearn import tree\n",
    "from sklearn.pipeline import Pipeline\n",
    "from sklearn.model_selection import GridSearchCV"
   ]
  },
  {
   "cell_type": "code",
   "execution_count": 4,
   "metadata": {},
   "outputs": [],
   "source": [
    "from sklearn.metrics import make_scorer,f1_score, confusion_matrix, accuracy_score\n",
    "import matplotlib.pyplot as plt"
   ]
  },
  {
   "cell_type": "code",
   "execution_count": 5,
   "metadata": {},
   "outputs": [],
   "source": [
    "from sklearn.inspection import permutation_importance"
   ]
  },
  {
   "cell_type": "code",
   "execution_count": 6,
   "metadata": {},
   "outputs": [],
   "source": [
    "import haversine\n",
    "from math import radians, cos, sin, asin, sqrt"
   ]
  },
  {
   "cell_type": "code",
   "execution_count": 7,
   "metadata": {},
   "outputs": [],
   "source": [
    "import re"
   ]
  },
  {
   "cell_type": "code",
   "execution_count": 8,
   "metadata": {},
   "outputs": [],
   "source": [
    "%matplotlib inline"
   ]
  },
  {
   "cell_type": "code",
   "execution_count": 9,
   "metadata": {},
   "outputs": [
    {
     "name": "stdout",
     "output_type": "stream",
     "text": [
      "(32, 7)\n"
     ]
    },
    {
     "data": {
      "text/html": [
       "<div>\n",
       "<style scoped>\n",
       "    .dataframe tbody tr th:only-of-type {\n",
       "        vertical-align: middle;\n",
       "    }\n",
       "\n",
       "    .dataframe tbody tr th {\n",
       "        vertical-align: top;\n",
       "    }\n",
       "\n",
       "    .dataframe thead th {\n",
       "        text-align: right;\n",
       "    }\n",
       "</style>\n",
       "<table border=\"1\" class=\"dataframe\">\n",
       "  <thead>\n",
       "    <tr style=\"text-align: right;\">\n",
       "      <th></th>\n",
       "      <th>Facility_Name</th>\n",
       "      <th>Facility_Location_Code</th>\n",
       "      <th>Facility_Type_Of_Facility</th>\n",
       "      <th>Facility_Hospital_Designation_List</th>\n",
       "      <th>Facility_Latitude</th>\n",
       "      <th>Facility_Longitude</th>\n",
       "      <th>Facility_Full_Address</th>\n",
       "    </tr>\n",
       "  </thead>\n",
       "  <tbody>\n",
       "    <tr>\n",
       "      <th>0</th>\n",
       "      <td>Novant Health UVA Haymarket Medical Center</td>\n",
       "      <td>216</td>\n",
       "      <td>Free Standing Emergency Room</td>\n",
       "      <td>Hospital (General)</td>\n",
       "      <td>38.423916</td>\n",
       "      <td>77.401647</td>\n",
       "      <td>15225 Heathcote Blvd, Haymarket, Virginia, 201...</td>\n",
       "    </tr>\n",
       "    <tr>\n",
       "      <th>1</th>\n",
       "      <td>Kaiser Permanente - Tysons Corner - Advanced U...</td>\n",
       "      <td>700</td>\n",
       "      <td>Free Standing Emergency Room</td>\n",
       "      <td>NaN</td>\n",
       "      <td>38.929137</td>\n",
       "      <td>77.224601</td>\n",
       "      <td>8008 Westpark Drive, McLean, Virginia, 22102, ...</td>\n",
       "    </tr>\n",
       "  </tbody>\n",
       "</table>\n",
       "</div>"
      ],
      "text/plain": [
       "                                       Facility_Name  Facility_Location_Code  \\\n",
       "0         Novant Health UVA Haymarket Medical Center                     216   \n",
       "1  Kaiser Permanente - Tysons Corner - Advanced U...                     700   \n",
       "\n",
       "      Facility_Type_Of_Facility Facility_Hospital_Designation_List  \\\n",
       "0  Free Standing Emergency Room                 Hospital (General)   \n",
       "1  Free Standing Emergency Room                                NaN   \n",
       "\n",
       "   Facility_Latitude  Facility_Longitude  \\\n",
       "0          38.423916           77.401647   \n",
       "1          38.929137           77.224601   \n",
       "\n",
       "                               Facility_Full_Address  \n",
       "0  15225 Heathcote Blvd, Haymarket, Virginia, 201...  \n",
       "1  8008 Westpark Drive, McLean, Virginia, 22102, ...  "
      ]
     },
     "execution_count": 9,
     "metadata": {},
     "output_type": "execute_result"
    }
   ],
   "source": [
    "df_facility = pd.read_csv(\"dataset/Facilities.txt\", error_bad_lines=False, delimiter= '|')\n",
    "print(df_facility.shape)\n",
    "df_facility.head(2)"
   ]
  },
  {
   "cell_type": "code",
   "execution_count": 10,
   "metadata": {},
   "outputs": [
    {
     "data": {
      "text/plain": [
       "Facility_Name                         0\n",
       "Facility_Location_Code                0\n",
       "Facility_Full_Address                 0\n",
       "Facility_Type_Of_Facility             2\n",
       "Facility_Latitude                     3\n",
       "Facility_Longitude                    3\n",
       "Facility_Hospital_Designation_List    7\n",
       "dtype: int64"
      ]
     },
     "execution_count": 10,
     "metadata": {},
     "output_type": "execute_result"
    }
   ],
   "source": [
    "df_facility.isnull().sum().sort_values()"
   ]
  },
  {
   "cell_type": "code",
   "execution_count": 11,
   "metadata": {},
   "outputs": [],
   "source": [
    "df_facility.Facility_Latitude.fillna(0, inplace=True)"
   ]
  },
  {
   "cell_type": "code",
   "execution_count": 12,
   "metadata": {},
   "outputs": [],
   "source": [
    "df_facility.Facility_Longitude.fillna(0, inplace=True)"
   ]
  },
  {
   "cell_type": "code",
   "execution_count": 13,
   "metadata": {},
   "outputs": [
    {
     "data": {
      "text/plain": [
       "array(['Novant Health UVA Haymarket Medical Center',\n",
       "       'Kaiser Permanente - Tysons Corner - Advanced Urgent Care',\n",
       "       'Landing Zone / Non-Hospital', 'MWHC Stafford Hospital',\n",
       "       'Kaiser Permanente - Woodbridge - Advanced Urgent Care',\n",
       "       'Merrifield Mental Health',\n",
       "       'Walter Reed National Military Medical Center',\n",
       "       'Suburban Hospital', 'Landing Zone', 'Inova Mount Vernon Hospital',\n",
       "       'MedStar Southern Maryland Hospital Center',\n",
       "       'Inova HealthPlex - Ashburn', \"Children's National Medical Center\",\n",
       "       'Sibley Memorial Hospital',\n",
       "       'Inova Emergency Care Center - Reston/Herndon',\n",
       "       'George Washington University Hospital',\n",
       "       'Novant Health UVA Prince William Medical Center',\n",
       "       'Inova Alexandria Hospital',\n",
       "       'Inova HealthPlex - Franconia/Springfield',\n",
       "       'Inova Fairfax Hospital', 'HCA StoneSprings Hospital Center',\n",
       "       'Inova Healthplex - Lorton',\n",
       "       ' Sentara Northern Virginia Medical Center',\n",
       "       'Fort Belvoir Community Hospital', 'Virginia Hospital Center',\n",
       "       'MedStar Washington Hospital Center',\n",
       "       'MedStar Georgetown University Hospital', 'Inova Loudoun Hospital',\n",
       "       'Out Of Area Hospital Not Listed', 'HCA Reston Hospital Center',\n",
       "       'Inova Emergency Care Center - Fairfax',\n",
       "       ' Inova Fair Oaks Hospital'], dtype=object)"
      ]
     },
     "execution_count": 13,
     "metadata": {},
     "output_type": "execute_result"
    }
   ],
   "source": [
    "df_facility.Facility_Name.unique()"
   ]
  },
  {
   "cell_type": "markdown",
   "metadata": {},
   "source": [
    "#### Referred hospital description for filling missing values"
   ]
  },
  {
   "cell_type": "markdown",
   "metadata": {},
   "source": [
    "\n",
    "|  Facility_Name  | Facility_Hospital_Designation_List | Check with partners |\n",
    "| --- | --- | --- |\n",
    "| Landing Zone / Non-Hospital\t | non hospital | Confirmed |\n",
    "|Kaiser Permanente - Tysons Corner - Advanced U...|Hospital General | Confirmed |\n",
    "|MedStar Southern Maryland Hospital Center | Hospital(General), Burns, Stroke, trauma | Confirmed|\n",
    "|HCA StoneSprings Hospital Center|Hospital General | Confirmed|\n",
    "|Out Of Area Hospital Not Listed\t | Hospital General  |Confirmed|"
   ]
  },
  {
   "cell_type": "markdown",
   "metadata": {},
   "source": [
    "#### Feature - Facility_Hospital_Designation_List"
   ]
  },
  {
   "cell_type": "code",
   "execution_count": 14,
   "metadata": {},
   "outputs": [],
   "source": [
    "\n",
    "\n",
    "df_facility.loc[ df_facility['Facility_Name'].isin(['Kaiser Permanente - Tysons Corner - Advanced Urgent Care','Kaiser Permanente - Woodbridge - Advanced Urgent Care','HCA StoneSprings Hospital Center', 'Out Of Area Hospital Not Listed']), 'Facility_Hospital_Designation_List'] = 'Hospital(General)'"
   ]
  },
  {
   "cell_type": "code",
   "execution_count": 15,
   "metadata": {},
   "outputs": [],
   "source": [
    "\n",
    "df_facility.loc[ df_facility['Facility_Name'].isin(['Landing Zone / Non-Hospital','Landing Zone']), 'Facility_Hospital_Designation_List'] = 'Non Hospital'"
   ]
  },
  {
   "cell_type": "code",
   "execution_count": 16,
   "metadata": {},
   "outputs": [],
   "source": [
    "\n",
    "df_facility.loc[ df_facility['Facility_Name'].isin(['MedStar Southern Maryland Hospital Center']), 'Facility_Hospital_Designation_List'] = 'Hospital(General), Burns, Stroke, trauma'"
   ]
  },
  {
   "cell_type": "markdown",
   "metadata": {},
   "source": [
    "#### Feature - Facility_Type_Of_Facility"
   ]
  },
  {
   "cell_type": "code",
   "execution_count": 17,
   "metadata": {},
   "outputs": [],
   "source": [
    "df_facility.Facility_Type_Of_Facility.fillna('Non hospital service', inplace=True)"
   ]
  },
  {
   "cell_type": "code",
   "execution_count": 18,
   "metadata": {},
   "outputs": [
    {
     "data": {
      "text/plain": [
       "Facility_Name                         0\n",
       "Facility_Location_Code                0\n",
       "Facility_Type_Of_Facility             0\n",
       "Facility_Hospital_Designation_List    0\n",
       "Facility_Latitude                     0\n",
       "Facility_Longitude                    0\n",
       "Facility_Full_Address                 0\n",
       "dtype: int64"
      ]
     },
     "execution_count": 18,
     "metadata": {},
     "output_type": "execute_result"
    }
   ],
   "source": [
    "df_facility.isnull().sum().sort_values()"
   ]
  },
  {
   "cell_type": "code",
   "execution_count": 19,
   "metadata": {},
   "outputs": [
    {
     "data": {
      "text/plain": [
       "array(['Novant Health UVA Haymarket Medical Center',\n",
       "       'Kaiser Permanente - Tysons Corner - Advanced Urgent Care',\n",
       "       'Landing Zone / Non-Hospital', 'MWHC Stafford Hospital',\n",
       "       'Kaiser Permanente - Woodbridge - Advanced Urgent Care',\n",
       "       'Merrifield Mental Health',\n",
       "       'Walter Reed National Military Medical Center',\n",
       "       'Suburban Hospital', 'Landing Zone', 'Inova Mount Vernon Hospital',\n",
       "       'MedStar Southern Maryland Hospital Center',\n",
       "       'Inova HealthPlex - Ashburn', \"Children's National Medical Center\",\n",
       "       'Sibley Memorial Hospital',\n",
       "       'Inova Emergency Care Center - Reston/Herndon',\n",
       "       'George Washington University Hospital',\n",
       "       'Novant Health UVA Prince William Medical Center',\n",
       "       'Inova Alexandria Hospital',\n",
       "       'Inova HealthPlex - Franconia/Springfield',\n",
       "       'Inova Fairfax Hospital', 'HCA StoneSprings Hospital Center',\n",
       "       'Inova Healthplex - Lorton',\n",
       "       ' Sentara Northern Virginia Medical Center',\n",
       "       'Fort Belvoir Community Hospital', 'Virginia Hospital Center',\n",
       "       'MedStar Washington Hospital Center',\n",
       "       'MedStar Georgetown University Hospital', 'Inova Loudoun Hospital',\n",
       "       'Out Of Area Hospital Not Listed', 'HCA Reston Hospital Center',\n",
       "       'Inova Emergency Care Center - Fairfax',\n",
       "       ' Inova Fair Oaks Hospital'], dtype=object)"
      ]
     },
     "execution_count": 19,
     "metadata": {},
     "output_type": "execute_result"
    }
   ],
   "source": [
    "df_facility['Facility_Name'].unique()"
   ]
  },
  {
   "cell_type": "code",
   "execution_count": 20,
   "metadata": {},
   "outputs": [
    {
     "data": {
      "text/plain": [
       "array([216, 700, 107, 116, 701, 106, 386, 385, 999,  47, 363, 364, 327,\n",
       "       326, 204, 324,  59,   1, 205,  16, 215, 213,  58, 374,   3, 325,\n",
       "       328,  36, 102,  95, 202,  11], dtype=int64)"
      ]
     },
     "execution_count": 20,
     "metadata": {},
     "output_type": "execute_result"
    }
   ],
   "source": [
    "df_facility['Facility_Location_Code'].unique()"
   ]
  },
  {
   "cell_type": "markdown",
   "metadata": {
    "id": "5db08963"
   },
   "source": [
    "## Read the data"
   ]
  },
  {
   "cell_type": "code",
   "execution_count": 21,
   "metadata": {
    "id": "4584adcc",
    "outputId": "69818126-b708-444c-d816-4df3a4d2f284"
   },
   "outputs": [
    {
     "data": {
      "text/plain": [
       "(122746, 10)"
      ]
     },
     "execution_count": 21,
     "metadata": {},
     "output_type": "execute_result"
    }
   ],
   "source": [
    "# Attributes of incident\n",
    "incidents = pd.read_excel(\"IndividualTables.xlsx\", sheet_name=\"incidents\")\n",
    "incidents.shape"
   ]
  },
  {
   "cell_type": "code",
   "execution_count": 22,
   "metadata": {
    "id": "70f1a688",
    "outputId": "e8decb7a-f2b7-494e-ca83-69feb40e83cf"
   },
   "outputs": [
    {
     "data": {
      "text/plain": [
       "(280156, 7)"
      ]
     },
     "execution_count": 22,
     "metadata": {},
     "output_type": "execute_result"
    }
   ],
   "source": [
    "# Units that responded to an incident\n",
    "units = pd.read_excel(\"IndividualTables.xlsx\", sheet_name=\"units\")\n",
    "units.shape"
   ]
  },
  {
   "cell_type": "code",
   "execution_count": 23,
   "metadata": {
    "id": "b555ea13",
    "outputId": "59a11a2b-31ae-4f67-bda8-95942ca3df0e"
   },
   "outputs": [
    {
     "data": {
      "text/plain": [
       "(125147, 13)"
      ]
     },
     "execution_count": 23,
     "metadata": {},
     "output_type": "execute_result"
    }
   ],
   "source": [
    "# Patient affected in the incident \n",
    "patients = pd.read_excel(\"IndividualTables.xlsx\", sheet_name=\"patients\")\n",
    "patients.shape"
   ]
  },
  {
   "cell_type": "code",
   "execution_count": 24,
   "metadata": {
    "id": "9e6c2f53",
    "outputId": "f547d285-0996-4e97-8a58-4035dc319321"
   },
   "outputs": [
    {
     "data": {
      "text/plain": [
       "(121338, 4)"
      ]
     },
     "execution_count": 24,
     "metadata": {},
     "output_type": "execute_result"
    }
   ],
   "source": [
    "# \n",
    "procedures = pd.read_excel(\"IndividualTables.xlsx\", sheet_name=\"procedures\")\n",
    "procedures.shape"
   ]
  },
  {
   "cell_type": "code",
   "execution_count": 25,
   "metadata": {
    "id": "3cf1d9b0",
    "outputId": "69f8d904-98e2-4b85-d1bd-aa5bd57991f5"
   },
   "outputs": [
    {
     "data": {
      "text/plain": [
       "(46916, 4)"
      ]
     },
     "execution_count": 25,
     "metadata": {},
     "output_type": "execute_result"
    }
   ],
   "source": [
    "medications = pd.read_excel(\"IndividualTables.xlsx\", sheet_name=\"medications\")\n",
    "medications.shape"
   ]
  },
  {
   "cell_type": "code",
   "execution_count": 26,
   "metadata": {},
   "outputs": [],
   "source": [
    "units_latlon =  pd.read_excel(\"IndividualTables.xlsx\", sheet_name=\"latlonunits\")"
   ]
  },
  {
   "cell_type": "code",
   "execution_count": 27,
   "metadata": {},
   "outputs": [
    {
     "name": "stdout",
     "output_type": "stream",
     "text": [
      "(280156, 7) (46, 3)\n"
     ]
    },
    {
     "data": {
      "text/plain": [
       "(289634, 9)"
      ]
     },
     "execution_count": 27,
     "metadata": {},
     "output_type": "execute_result"
    }
   ],
   "source": [
    "#Merge units with the units_latlon \n",
    "print(units.shape, units_latlon.shape)\n",
    "unitsmerge = units.merge(units_latlon, how=\"inner\", on=\"UnitStation\")\n",
    "unitsmerge.shape"
   ]
  },
  {
   "cell_type": "code",
   "execution_count": 28,
   "metadata": {},
   "outputs": [
    {
     "data": {
      "text/plain": [
       "array([1, 2, 34, 4, 31, 36, 5, 37, 11, 22, 26, 35, 8, 30, 10, 14, 18, 9,\n",
       "       24, 28, 12, 39, 13, 29, 41, 32, 27, 23, 15, 21, 40, 17, 25, 38, 16,\n",
       "       19, 20, 42, 33, 3], dtype=object)"
      ]
     },
     "execution_count": 28,
     "metadata": {},
     "output_type": "execute_result"
    }
   ],
   "source": [
    "unitsmerge[\"UnitStation\"].unique()"
   ]
  },
  {
   "cell_type": "code",
   "execution_count": 29,
   "metadata": {},
   "outputs": [
    {
     "data": {
      "text/plain": [
       "Index(['PrimaryKey', 'ResponseUnitID', 'UnitPrimaryActionTaken',\n",
       "       'UnitOtherActionsTaken', 'UnitStation', 'UnitType', 'UnitArrivalOrder',\n",
       "       'Unit_LAT', 'Unit_LON'],\n",
       "      dtype='object')"
      ]
     },
     "execution_count": 29,
     "metadata": {},
     "output_type": "execute_result"
    }
   ],
   "source": [
    "unitsmerge.columns"
   ]
  },
  {
   "cell_type": "markdown",
   "metadata": {
    "id": "e7472f69"
   },
   "source": [
    "## Understand empty values"
   ]
  },
  {
   "cell_type": "code",
   "execution_count": 30,
   "metadata": {
    "id": "f2044d90"
   },
   "outputs": [],
   "source": [
    "def view_empty_values(df: pd.DataFrame) -> pd.DataFrame:\n",
    "    \"\"\"\n",
    "    Displays the count and % of empty values in a dataframe.\n",
    "    \"\"\"\n",
    "    res = pd.concat([df.dtypes, df.isnull().sum(), df.isnull().sum() / len(df)], axis=1)\n",
    "    res.columns = [\"Dtype\", \"Count of missing\", \"% of missing\"]\n",
    "    return res"
   ]
  },
  {
   "cell_type": "code",
   "execution_count": 31,
   "metadata": {
    "id": "c57cbee3",
    "outputId": "a75ecd57-bc44-4a30-d04f-37d955297566"
   },
   "outputs": [
    {
     "data": {
      "text/html": [
       "<div>\n",
       "<style scoped>\n",
       "    .dataframe tbody tr th:only-of-type {\n",
       "        vertical-align: middle;\n",
       "    }\n",
       "\n",
       "    .dataframe tbody tr th {\n",
       "        vertical-align: top;\n",
       "    }\n",
       "\n",
       "    .dataframe thead th {\n",
       "        text-align: right;\n",
       "    }\n",
       "</style>\n",
       "<table border=\"1\" class=\"dataframe\">\n",
       "  <thead>\n",
       "    <tr style=\"text-align: right;\">\n",
       "      <th></th>\n",
       "      <th>Dtype</th>\n",
       "      <th>Count of missing</th>\n",
       "      <th>% of missing</th>\n",
       "    </tr>\n",
       "  </thead>\n",
       "  <tbody>\n",
       "    <tr>\n",
       "      <th>PrimaryKey</th>\n",
       "      <td>int64</td>\n",
       "      <td>0</td>\n",
       "      <td>0.000000</td>\n",
       "    </tr>\n",
       "    <tr>\n",
       "      <th>CallConfirmedDT</th>\n",
       "      <td>datetime64[ns]</td>\n",
       "      <td>0</td>\n",
       "      <td>0.000000</td>\n",
       "    </tr>\n",
       "    <tr>\n",
       "      <th>ShiftDay</th>\n",
       "      <td>object</td>\n",
       "      <td>0</td>\n",
       "      <td>0.000000</td>\n",
       "    </tr>\n",
       "    <tr>\n",
       "      <th>TourOfShift</th>\n",
       "      <td>int64</td>\n",
       "      <td>0</td>\n",
       "      <td>0.000000</td>\n",
       "    </tr>\n",
       "    <tr>\n",
       "      <th>IncidentFirstDue</th>\n",
       "      <td>float64</td>\n",
       "      <td>14</td>\n",
       "      <td>0.000114</td>\n",
       "    </tr>\n",
       "    <tr>\n",
       "      <th>InitialIncidentType</th>\n",
       "      <td>object</td>\n",
       "      <td>0</td>\n",
       "      <td>0.000000</td>\n",
       "    </tr>\n",
       "    <tr>\n",
       "      <th>DispatchedIncidentType</th>\n",
       "      <td>object</td>\n",
       "      <td>0</td>\n",
       "      <td>0.000000</td>\n",
       "    </tr>\n",
       "    <tr>\n",
       "      <th>ArrivedIncidentType</th>\n",
       "      <td>object</td>\n",
       "      <td>392</td>\n",
       "      <td>0.003194</td>\n",
       "    </tr>\n",
       "    <tr>\n",
       "      <th>FinalIncidentType</th>\n",
       "      <td>object</td>\n",
       "      <td>0</td>\n",
       "      <td>0.000000</td>\n",
       "    </tr>\n",
       "    <tr>\n",
       "      <th>FinalIncidentTypeDescription</th>\n",
       "      <td>object</td>\n",
       "      <td>43</td>\n",
       "      <td>0.000350</td>\n",
       "    </tr>\n",
       "  </tbody>\n",
       "</table>\n",
       "</div>"
      ],
      "text/plain": [
       "                                       Dtype  Count of missing  % of missing\n",
       "PrimaryKey                             int64                 0      0.000000\n",
       "CallConfirmedDT               datetime64[ns]                 0      0.000000\n",
       "ShiftDay                              object                 0      0.000000\n",
       "TourOfShift                            int64                 0      0.000000\n",
       "IncidentFirstDue                     float64                14      0.000114\n",
       "InitialIncidentType                   object                 0      0.000000\n",
       "DispatchedIncidentType                object                 0      0.000000\n",
       "ArrivedIncidentType                   object               392      0.003194\n",
       "FinalIncidentType                     object                 0      0.000000\n",
       "FinalIncidentTypeDescription          object                43      0.000350"
      ]
     },
     "execution_count": 31,
     "metadata": {},
     "output_type": "execute_result"
    }
   ],
   "source": [
    "view_empty_values(incidents)"
   ]
  },
  {
   "cell_type": "code",
   "execution_count": 32,
   "metadata": {
    "id": "4ba35fb7",
    "outputId": "080b5abe-c135-438c-c0aa-6ae0b1526b88"
   },
   "outputs": [
    {
     "data": {
      "text/plain": [
       "(122298, 10)"
      ]
     },
     "execution_count": 32,
     "metadata": {},
     "output_type": "execute_result"
    }
   ],
   "source": [
    "# there are very few missing values in the data so we can drop these records\n",
    "incidents.dropna(inplace=True)\n",
    "incidents.shape"
   ]
  },
  {
   "cell_type": "code",
   "execution_count": 33,
   "metadata": {
    "id": "d95cb533",
    "outputId": "e31f5ef4-20dc-419f-8df6-96c6257efb46"
   },
   "outputs": [
    {
     "data": {
      "text/plain": [
       "0.9999672930056093"
      ]
     },
     "execution_count": 33,
     "metadata": {},
     "output_type": "execute_result"
    }
   ],
   "source": [
    "# are there duplicated Incidents\n",
    "incidents.PrimaryKey.nunique() / len(incidents)"
   ]
  },
  {
   "cell_type": "code",
   "execution_count": 34,
   "metadata": {
    "id": "85a51596",
    "outputId": "f04d91c3-8bad-4e54-c025-4c34b874b9a3"
   },
   "outputs": [
    {
     "data": {
      "text/html": [
       "<div>\n",
       "<style scoped>\n",
       "    .dataframe tbody tr th:only-of-type {\n",
       "        vertical-align: middle;\n",
       "    }\n",
       "\n",
       "    .dataframe tbody tr th {\n",
       "        vertical-align: top;\n",
       "    }\n",
       "\n",
       "    .dataframe thead th {\n",
       "        text-align: right;\n",
       "    }\n",
       "</style>\n",
       "<table border=\"1\" class=\"dataframe\">\n",
       "  <thead>\n",
       "    <tr style=\"text-align: right;\">\n",
       "      <th></th>\n",
       "      <th>PrimaryKey</th>\n",
       "      <th>CallConfirmedDT</th>\n",
       "      <th>ShiftDay</th>\n",
       "      <th>TourOfShift</th>\n",
       "      <th>IncidentFirstDue</th>\n",
       "      <th>InitialIncidentType</th>\n",
       "      <th>DispatchedIncidentType</th>\n",
       "      <th>ArrivedIncidentType</th>\n",
       "      <th>FinalIncidentType</th>\n",
       "      <th>FinalIncidentTypeDescription</th>\n",
       "    </tr>\n",
       "  </thead>\n",
       "  <tbody>\n",
       "    <tr>\n",
       "      <th>5583</th>\n",
       "      <td>9934140833</td>\n",
       "      <td>2018-08-10 22:51:12</td>\n",
       "      <td>C</td>\n",
       "      <td>2</td>\n",
       "      <td>414.0</td>\n",
       "      <td>ACCIF</td>\n",
       "      <td>ACCIF</td>\n",
       "      <td>ACCIF</td>\n",
       "      <td>ACCIF</td>\n",
       "      <td>ACCIDENT W/INJ</td>\n",
       "    </tr>\n",
       "    <tr>\n",
       "      <th>5584</th>\n",
       "      <td>9934140833</td>\n",
       "      <td>2018-08-10 22:51:12</td>\n",
       "      <td>C</td>\n",
       "      <td>2</td>\n",
       "      <td>414.0</td>\n",
       "      <td>ALS</td>\n",
       "      <td>ALS</td>\n",
       "      <td>ALS</td>\n",
       "      <td>ALS</td>\n",
       "      <td>ALS EMERGENCY</td>\n",
       "    </tr>\n",
       "    <tr>\n",
       "      <th>64506</th>\n",
       "      <td>11194080439</td>\n",
       "      <td>2019-10-06 18:40:09</td>\n",
       "      <td>B</td>\n",
       "      <td>3</td>\n",
       "      <td>408.0</td>\n",
       "      <td>ACCIF</td>\n",
       "      <td>ACCIF</td>\n",
       "      <td>ACCIF</td>\n",
       "      <td>ACCIF</td>\n",
       "      <td>ACCIDENT W/INJ</td>\n",
       "    </tr>\n",
       "    <tr>\n",
       "      <th>64507</th>\n",
       "      <td>11194080439</td>\n",
       "      <td>2019-10-06 18:40:09</td>\n",
       "      <td>B</td>\n",
       "      <td>3</td>\n",
       "      <td>408.0</td>\n",
       "      <td>ACCIMF</td>\n",
       "      <td>ACCIMF</td>\n",
       "      <td>ACCIMF</td>\n",
       "      <td>ACCIMF</td>\n",
       "      <td>ACCIDENT W/INJ - MEDIC REQ</td>\n",
       "    </tr>\n",
       "    <tr>\n",
       "      <th>67223</th>\n",
       "      <td>11244338761</td>\n",
       "      <td>2019-10-26 02:47:26</td>\n",
       "      <td>C</td>\n",
       "      <td>2</td>\n",
       "      <td>433.0</td>\n",
       "      <td>ASLTWF</td>\n",
       "      <td>ASLTWF</td>\n",
       "      <td>ASLTWF</td>\n",
       "      <td>ASLTWF</td>\n",
       "      <td>ASSAULT W/WEAPON</td>\n",
       "    </tr>\n",
       "    <tr>\n",
       "      <th>67224</th>\n",
       "      <td>11244338761</td>\n",
       "      <td>2019-10-26 02:47:26</td>\n",
       "      <td>C</td>\n",
       "      <td>2</td>\n",
       "      <td>433.0</td>\n",
       "      <td>MEDICAL</td>\n",
       "      <td>MEDICAL</td>\n",
       "      <td>MEDICAL</td>\n",
       "      <td>MEDICAL</td>\n",
       "      <td>MEDICAL EMERGENCY</td>\n",
       "    </tr>\n",
       "    <tr>\n",
       "      <th>102246</th>\n",
       "      <td>11964264456</td>\n",
       "      <td>2020-07-24 22:15:51</td>\n",
       "      <td>A</td>\n",
       "      <td>2</td>\n",
       "      <td>426.0</td>\n",
       "      <td>ACCIF</td>\n",
       "      <td>ACCIF</td>\n",
       "      <td>ACCIF</td>\n",
       "      <td>ACCIF</td>\n",
       "      <td>ACCIDENT W/INJ</td>\n",
       "    </tr>\n",
       "    <tr>\n",
       "      <th>102247</th>\n",
       "      <td>11964264456</td>\n",
       "      <td>2020-07-24 22:15:51</td>\n",
       "      <td>A</td>\n",
       "      <td>2</td>\n",
       "      <td>426.0</td>\n",
       "      <td>ACCITF</td>\n",
       "      <td>ACCITF</td>\n",
       "      <td>ACCITF</td>\n",
       "      <td>ACCIF</td>\n",
       "      <td>ACCIDENT W/INJ</td>\n",
       "    </tr>\n",
       "  </tbody>\n",
       "</table>\n",
       "</div>"
      ],
      "text/plain": [
       "         PrimaryKey     CallConfirmedDT ShiftDay  TourOfShift  \\\n",
       "5583     9934140833 2018-08-10 22:51:12        C            2   \n",
       "5584     9934140833 2018-08-10 22:51:12        C            2   \n",
       "64506   11194080439 2019-10-06 18:40:09        B            3   \n",
       "64507   11194080439 2019-10-06 18:40:09        B            3   \n",
       "67223   11244338761 2019-10-26 02:47:26        C            2   \n",
       "67224   11244338761 2019-10-26 02:47:26        C            2   \n",
       "102246  11964264456 2020-07-24 22:15:51        A            2   \n",
       "102247  11964264456 2020-07-24 22:15:51        A            2   \n",
       "\n",
       "        IncidentFirstDue InitialIncidentType DispatchedIncidentType  \\\n",
       "5583               414.0               ACCIF                  ACCIF   \n",
       "5584               414.0                 ALS                    ALS   \n",
       "64506              408.0               ACCIF                  ACCIF   \n",
       "64507              408.0              ACCIMF                 ACCIMF   \n",
       "67223              433.0              ASLTWF                 ASLTWF   \n",
       "67224              433.0             MEDICAL                MEDICAL   \n",
       "102246             426.0               ACCIF                  ACCIF   \n",
       "102247             426.0              ACCITF                 ACCITF   \n",
       "\n",
       "       ArrivedIncidentType FinalIncidentType FinalIncidentTypeDescription  \n",
       "5583                 ACCIF             ACCIF               ACCIDENT W/INJ  \n",
       "5584                   ALS               ALS               ALS EMERGENCY   \n",
       "64506                ACCIF             ACCIF               ACCIDENT W/INJ  \n",
       "64507               ACCIMF            ACCIMF   ACCIDENT W/INJ - MEDIC REQ  \n",
       "67223               ASLTWF            ASLTWF             ASSAULT W/WEAPON  \n",
       "67224              MEDICAL           MEDICAL            MEDICAL EMERGENCY  \n",
       "102246               ACCIF             ACCIF               ACCIDENT W/INJ  \n",
       "102247              ACCITF             ACCIF               ACCIDENT W/INJ  "
      ]
     },
     "execution_count": 34,
     "metadata": {},
     "output_type": "execute_result"
    }
   ],
   "source": [
    "incidents[incidents.PrimaryKey.duplicated(keep=False)].sort_values(\"PrimaryKey\")"
   ]
  },
  {
   "cell_type": "code",
   "execution_count": 35,
   "metadata": {
    "id": "064ce704",
    "outputId": "323105e0-cf2a-4386-f545-f59adcdfab6d"
   },
   "outputs": [
    {
     "data": {
      "text/plain": [
       "(122290, 10)"
      ]
     },
     "execution_count": 35,
     "metadata": {},
     "output_type": "execute_result"
    }
   ],
   "source": [
    "# Dropping these records for now\n",
    "incidents.drop_duplicates(subset=[\"PrimaryKey\"], keep=False, inplace=True)\n",
    "incidents.shape"
   ]
  },
  {
   "cell_type": "code",
   "execution_count": 36,
   "metadata": {
    "id": "0fcfb3e8",
    "outputId": "83833ae3-d964-4fbe-cf25-d58da0cb6b2c"
   },
   "outputs": [
    {
     "data": {
      "text/html": [
       "<div>\n",
       "<style scoped>\n",
       "    .dataframe tbody tr th:only-of-type {\n",
       "        vertical-align: middle;\n",
       "    }\n",
       "\n",
       "    .dataframe tbody tr th {\n",
       "        vertical-align: top;\n",
       "    }\n",
       "\n",
       "    .dataframe thead th {\n",
       "        text-align: right;\n",
       "    }\n",
       "</style>\n",
       "<table border=\"1\" class=\"dataframe\">\n",
       "  <thead>\n",
       "    <tr style=\"text-align: right;\">\n",
       "      <th></th>\n",
       "      <th>Dtype</th>\n",
       "      <th>Count of missing</th>\n",
       "      <th>% of missing</th>\n",
       "    </tr>\n",
       "  </thead>\n",
       "  <tbody>\n",
       "    <tr>\n",
       "      <th>PrimaryKey</th>\n",
       "      <td>int64</td>\n",
       "      <td>0</td>\n",
       "      <td>0.000000</td>\n",
       "    </tr>\n",
       "    <tr>\n",
       "      <th>ResponseUnitID</th>\n",
       "      <td>object</td>\n",
       "      <td>0</td>\n",
       "      <td>0.000000</td>\n",
       "    </tr>\n",
       "    <tr>\n",
       "      <th>UnitPrimaryActionTaken</th>\n",
       "      <td>object</td>\n",
       "      <td>38</td>\n",
       "      <td>0.000131</td>\n",
       "    </tr>\n",
       "    <tr>\n",
       "      <th>UnitOtherActionsTaken</th>\n",
       "      <td>object</td>\n",
       "      <td>183124</td>\n",
       "      <td>0.632260</td>\n",
       "    </tr>\n",
       "    <tr>\n",
       "      <th>UnitStation</th>\n",
       "      <td>object</td>\n",
       "      <td>0</td>\n",
       "      <td>0.000000</td>\n",
       "    </tr>\n",
       "    <tr>\n",
       "      <th>UnitType</th>\n",
       "      <td>object</td>\n",
       "      <td>0</td>\n",
       "      <td>0.000000</td>\n",
       "    </tr>\n",
       "    <tr>\n",
       "      <th>UnitArrivalOrder</th>\n",
       "      <td>float64</td>\n",
       "      <td>25847</td>\n",
       "      <td>0.089240</td>\n",
       "    </tr>\n",
       "    <tr>\n",
       "      <th>Unit_LAT</th>\n",
       "      <td>float64</td>\n",
       "      <td>0</td>\n",
       "      <td>0.000000</td>\n",
       "    </tr>\n",
       "    <tr>\n",
       "      <th>Unit_LON</th>\n",
       "      <td>float64</td>\n",
       "      <td>0</td>\n",
       "      <td>0.000000</td>\n",
       "    </tr>\n",
       "  </tbody>\n",
       "</table>\n",
       "</div>"
      ],
      "text/plain": [
       "                          Dtype  Count of missing  % of missing\n",
       "PrimaryKey                int64                 0      0.000000\n",
       "ResponseUnitID           object                 0      0.000000\n",
       "UnitPrimaryActionTaken   object                38      0.000131\n",
       "UnitOtherActionsTaken    object            183124      0.632260\n",
       "UnitStation              object                 0      0.000000\n",
       "UnitType                 object                 0      0.000000\n",
       "UnitArrivalOrder        float64             25847      0.089240\n",
       "Unit_LAT                float64                 0      0.000000\n",
       "Unit_LON                float64                 0      0.000000"
      ]
     },
     "execution_count": 36,
     "metadata": {},
     "output_type": "execute_result"
    }
   ],
   "source": [
    "view_empty_values(unitsmerge)"
   ]
  },
  {
   "cell_type": "markdown",
   "metadata": {
    "id": "adc1aeb9"
   },
   "source": [
    "|Column|Missing Value|%missing|Assumed meaning of missing value|\n",
    "|----|----|----|----|\n",
    "|UnitOtherActionsTaken|179609|63%|Combine both 'UnitPrimaryActionTaken' and 'UnitOtherActionTaken' |\n",
    "|UnitStation|49|0.017%|We can drop these values|\n",
    "|UnitArrivalOrder|26135|9%|No unit arrived- replace with 0|\n",
    "|UnitTransportedDT|157474|55%|Unit was not transported?|\n",
    "|UnitTransportedArrivalDT|158333|55%|Unit was not transported?|\n",
    "\n",
    "\n",
    "\n",
    "|Column|Missing Value|%missing|Assumend meaning|\n",
    "|----|----|----|----|\n",
    "|||||\n",
    "|||||\n",
    "|||||\n",
    "|||||"
   ]
  },
  {
   "cell_type": "code",
   "execution_count": 37,
   "metadata": {},
   "outputs": [],
   "source": [
    " # Replaced all the null values of 'UnitArrivalOrder' column with value '0' because No unit arrived\n",
    "unitsmerge['UnitArrivalOrder'].fillna(0, inplace = True)"
   ]
  },
  {
   "cell_type": "code",
   "execution_count": 38,
   "metadata": {},
   "outputs": [],
   "source": [
    "# Replaced all the null values of 'UnitOtherActionsTaken' column with 'No other action taken' because the no other action was taken\n",
    "unitsmerge['UnitOtherActionsTaken'].fillna('No other action taken', inplace = True)"
   ]
  },
  {
   "cell_type": "code",
   "execution_count": 39,
   "metadata": {},
   "outputs": [],
   "source": [
    "# Replaced all the null values of 'UnitPrimaryActionTaken' column with 'No other action taken' because the no  action was taken\n",
    "unitsmerge['UnitPrimaryActionTaken'].fillna('No action taken', inplace = True)"
   ]
  },
  {
   "cell_type": "code",
   "execution_count": 40,
   "metadata": {},
   "outputs": [
    {
     "name": "stdout",
     "output_type": "stream",
     "text": [
      "(289634, 9)\n"
     ]
    },
    {
     "data": {
      "text/plain": [
       "(289634, 9)"
      ]
     },
     "execution_count": 40,
     "metadata": {},
     "output_type": "execute_result"
    }
   ],
   "source": [
    "# Dropping remaning empty values\n",
    "print(unitsmerge.shape)\n",
    "unitsmerge.dropna(inplace=True)\n",
    "unitsmerge.shape"
   ]
  },
  {
   "cell_type": "code",
   "execution_count": 42,
   "metadata": {},
   "outputs": [
    {
     "data": {
      "text/html": [
       "<div>\n",
       "<style scoped>\n",
       "    .dataframe tbody tr th:only-of-type {\n",
       "        vertical-align: middle;\n",
       "    }\n",
       "\n",
       "    .dataframe tbody tr th {\n",
       "        vertical-align: top;\n",
       "    }\n",
       "\n",
       "    .dataframe thead th {\n",
       "        text-align: right;\n",
       "    }\n",
       "</style>\n",
       "<table border=\"1\" class=\"dataframe\">\n",
       "  <thead>\n",
       "    <tr style=\"text-align: right;\">\n",
       "      <th></th>\n",
       "      <th>Dtype</th>\n",
       "      <th>Count of missing</th>\n",
       "      <th>% of missing</th>\n",
       "    </tr>\n",
       "  </thead>\n",
       "  <tbody>\n",
       "    <tr>\n",
       "      <th>PrimaryKey</th>\n",
       "      <td>int64</td>\n",
       "      <td>0</td>\n",
       "      <td>0.0</td>\n",
       "    </tr>\n",
       "    <tr>\n",
       "      <th>ResponseUnitID</th>\n",
       "      <td>object</td>\n",
       "      <td>0</td>\n",
       "      <td>0.0</td>\n",
       "    </tr>\n",
       "    <tr>\n",
       "      <th>UnitPrimaryActionTaken</th>\n",
       "      <td>object</td>\n",
       "      <td>0</td>\n",
       "      <td>0.0</td>\n",
       "    </tr>\n",
       "    <tr>\n",
       "      <th>UnitOtherActionsTaken</th>\n",
       "      <td>object</td>\n",
       "      <td>0</td>\n",
       "      <td>0.0</td>\n",
       "    </tr>\n",
       "    <tr>\n",
       "      <th>UnitStation</th>\n",
       "      <td>object</td>\n",
       "      <td>0</td>\n",
       "      <td>0.0</td>\n",
       "    </tr>\n",
       "    <tr>\n",
       "      <th>UnitType</th>\n",
       "      <td>object</td>\n",
       "      <td>0</td>\n",
       "      <td>0.0</td>\n",
       "    </tr>\n",
       "    <tr>\n",
       "      <th>UnitArrivalOrder</th>\n",
       "      <td>float64</td>\n",
       "      <td>0</td>\n",
       "      <td>0.0</td>\n",
       "    </tr>\n",
       "    <tr>\n",
       "      <th>Unit_LAT</th>\n",
       "      <td>float64</td>\n",
       "      <td>0</td>\n",
       "      <td>0.0</td>\n",
       "    </tr>\n",
       "    <tr>\n",
       "      <th>Unit_LON</th>\n",
       "      <td>float64</td>\n",
       "      <td>0</td>\n",
       "      <td>0.0</td>\n",
       "    </tr>\n",
       "  </tbody>\n",
       "</table>\n",
       "</div>"
      ],
      "text/plain": [
       "                          Dtype  Count of missing  % of missing\n",
       "PrimaryKey                int64                 0           0.0\n",
       "ResponseUnitID           object                 0           0.0\n",
       "UnitPrimaryActionTaken   object                 0           0.0\n",
       "UnitOtherActionsTaken    object                 0           0.0\n",
       "UnitStation              object                 0           0.0\n",
       "UnitType                 object                 0           0.0\n",
       "UnitArrivalOrder        float64                 0           0.0\n",
       "Unit_LAT                float64                 0           0.0\n",
       "Unit_LON                float64                 0           0.0"
      ]
     },
     "execution_count": 42,
     "metadata": {},
     "output_type": "execute_result"
    }
   ],
   "source": [
    "view_empty_values(unitsmerge)"
   ]
  },
  {
   "cell_type": "code",
   "execution_count": 41,
   "metadata": {},
   "outputs": [
    {
     "data": {
      "text/html": [
       "<div>\n",
       "<style scoped>\n",
       "    .dataframe tbody tr th:only-of-type {\n",
       "        vertical-align: middle;\n",
       "    }\n",
       "\n",
       "    .dataframe tbody tr th {\n",
       "        vertical-align: top;\n",
       "    }\n",
       "\n",
       "    .dataframe thead th {\n",
       "        text-align: right;\n",
       "    }\n",
       "</style>\n",
       "<table border=\"1\" class=\"dataframe\">\n",
       "  <thead>\n",
       "    <tr style=\"text-align: right;\">\n",
       "      <th></th>\n",
       "      <th>Dtype</th>\n",
       "      <th>Count of missing</th>\n",
       "      <th>% of missing</th>\n",
       "    </tr>\n",
       "  </thead>\n",
       "  <tbody>\n",
       "    <tr>\n",
       "      <th>PrimaryKey</th>\n",
       "      <td>int64</td>\n",
       "      <td>0</td>\n",
       "      <td>0.000000</td>\n",
       "    </tr>\n",
       "    <tr>\n",
       "      <th>PatientID</th>\n",
       "      <td>int64</td>\n",
       "      <td>0</td>\n",
       "      <td>0.000000</td>\n",
       "    </tr>\n",
       "    <tr>\n",
       "      <th>TransportUnitID</th>\n",
       "      <td>object</td>\n",
       "      <td>0</td>\n",
       "      <td>0.000000</td>\n",
       "    </tr>\n",
       "    <tr>\n",
       "      <th>UnitTransportedDT</th>\n",
       "      <td>datetime64[ns]</td>\n",
       "      <td>871</td>\n",
       "      <td>0.006960</td>\n",
       "    </tr>\n",
       "    <tr>\n",
       "      <th>UnitTransportedArrivalDT</th>\n",
       "      <td>datetime64[ns]</td>\n",
       "      <td>1390</td>\n",
       "      <td>0.011107</td>\n",
       "    </tr>\n",
       "    <tr>\n",
       "      <th>TransportLOC</th>\n",
       "      <td>object</td>\n",
       "      <td>478</td>\n",
       "      <td>0.003820</td>\n",
       "    </tr>\n",
       "    <tr>\n",
       "      <th>TransportHospitalCode</th>\n",
       "      <td>float64</td>\n",
       "      <td>481</td>\n",
       "      <td>0.003843</td>\n",
       "    </tr>\n",
       "    <tr>\n",
       "      <th>TransportHospitalName</th>\n",
       "      <td>object</td>\n",
       "      <td>481</td>\n",
       "      <td>0.003843</td>\n",
       "    </tr>\n",
       "    <tr>\n",
       "      <th>ReasonForChoosingHospital</th>\n",
       "      <td>object</td>\n",
       "      <td>480</td>\n",
       "      <td>0.003835</td>\n",
       "    </tr>\n",
       "    <tr>\n",
       "      <th>PatientAge</th>\n",
       "      <td>object</td>\n",
       "      <td>2</td>\n",
       "      <td>0.000016</td>\n",
       "    </tr>\n",
       "    <tr>\n",
       "      <th>PrimaryImpression</th>\n",
       "      <td>object</td>\n",
       "      <td>3</td>\n",
       "      <td>0.000024</td>\n",
       "    </tr>\n",
       "    <tr>\n",
       "      <th>SecondaryImpression</th>\n",
       "      <td>object</td>\n",
       "      <td>3</td>\n",
       "      <td>0.000024</td>\n",
       "    </tr>\n",
       "    <tr>\n",
       "      <th>PatientDisposition</th>\n",
       "      <td>object</td>\n",
       "      <td>0</td>\n",
       "      <td>0.000000</td>\n",
       "    </tr>\n",
       "  </tbody>\n",
       "</table>\n",
       "</div>"
      ],
      "text/plain": [
       "                                    Dtype  Count of missing  % of missing\n",
       "PrimaryKey                          int64                 0      0.000000\n",
       "PatientID                           int64                 0      0.000000\n",
       "TransportUnitID                    object                 0      0.000000\n",
       "UnitTransportedDT          datetime64[ns]               871      0.006960\n",
       "UnitTransportedArrivalDT   datetime64[ns]              1390      0.011107\n",
       "TransportLOC                       object               478      0.003820\n",
       "TransportHospitalCode             float64               481      0.003843\n",
       "TransportHospitalName              object               481      0.003843\n",
       "ReasonForChoosingHospital          object               480      0.003835\n",
       "PatientAge                         object                 2      0.000016\n",
       "PrimaryImpression                  object                 3      0.000024\n",
       "SecondaryImpression                object                 3      0.000024\n",
       "PatientDisposition                 object                 0      0.000000"
      ]
     },
     "execution_count": 41,
     "metadata": {},
     "output_type": "execute_result"
    }
   ],
   "source": [
    "view_empty_values(patients)"
   ]
  },
  {
   "cell_type": "code",
   "execution_count": 43,
   "metadata": {},
   "outputs": [],
   "source": [
    "# Replaced all the null values of 'UnitTransportedDT' column with 00:00:0 because the Unit was not transported\n",
    "patients['UnitTransportedDT'].fillna('00:00:0', inplace = True)"
   ]
  },
  {
   "cell_type": "code",
   "execution_count": 44,
   "metadata": {},
   "outputs": [],
   "source": [
    "# Replaced all the null values of 'UnitTransportedArrivalDT' column with 00:00:0 because the Unit was not transported\n",
    "patients['UnitTransportedArrivalDT'].fillna('00:00:0', inplace = True)"
   ]
  },
  {
   "cell_type": "code",
   "execution_count": 45,
   "metadata": {
    "id": "630be665"
   },
   "outputs": [],
   "source": [
    "# Replaced all the null values of 'TransportHospitalName' column with 'No Hospital service'\n",
    "patients['TransportHospitalCode'].fillna('No Hospital service', inplace = True)"
   ]
  },
  {
   "cell_type": "code",
   "execution_count": 46,
   "metadata": {
    "id": "a9c47c3e"
   },
   "outputs": [],
   "source": [
    "## Replaced all the null values of 'TransportHospitalCode' column with 'No Hospital name'\n",
    "patients['TransportHospitalName'].fillna('No Hospital name', inplace = True)"
   ]
  },
  {
   "cell_type": "code",
   "execution_count": 47,
   "metadata": {
    "id": "9981a285"
   },
   "outputs": [],
   "source": [
    "# Replaced all the null values of 'ReasonForChoosingHospital' column with 'No Hospital service'\n",
    "patients['ReasonForChoosingHospital'].fillna('No Hospital service', inplace = True)"
   ]
  },
  {
   "cell_type": "code",
   "execution_count": 48,
   "metadata": {
    "id": "d7dc16d7"
   },
   "outputs": [],
   "source": [
    "# Replaced all the null values of 'TransportLOC' column with '0'\n",
    "patients['TransportLOC'].fillna('0', inplace = True)"
   ]
  },
  {
   "cell_type": "code",
   "execution_count": 49,
   "metadata": {
    "id": "7d5041e3",
    "outputId": "1119fe78-9304-4cb4-b9d2-e2cbf0a36231"
   },
   "outputs": [
    {
     "data": {
      "text/html": [
       "<div>\n",
       "<style scoped>\n",
       "    .dataframe tbody tr th:only-of-type {\n",
       "        vertical-align: middle;\n",
       "    }\n",
       "\n",
       "    .dataframe tbody tr th {\n",
       "        vertical-align: top;\n",
       "    }\n",
       "\n",
       "    .dataframe thead th {\n",
       "        text-align: right;\n",
       "    }\n",
       "</style>\n",
       "<table border=\"1\" class=\"dataframe\">\n",
       "  <thead>\n",
       "    <tr style=\"text-align: right;\">\n",
       "      <th></th>\n",
       "      <th>Dtype</th>\n",
       "      <th>Count of missing</th>\n",
       "      <th>% of missing</th>\n",
       "    </tr>\n",
       "  </thead>\n",
       "  <tbody>\n",
       "    <tr>\n",
       "      <th>PrimaryKey</th>\n",
       "      <td>int64</td>\n",
       "      <td>0</td>\n",
       "      <td>0.000000</td>\n",
       "    </tr>\n",
       "    <tr>\n",
       "      <th>PatientID</th>\n",
       "      <td>int64</td>\n",
       "      <td>0</td>\n",
       "      <td>0.000000</td>\n",
       "    </tr>\n",
       "    <tr>\n",
       "      <th>TransportUnitID</th>\n",
       "      <td>object</td>\n",
       "      <td>0</td>\n",
       "      <td>0.000000</td>\n",
       "    </tr>\n",
       "    <tr>\n",
       "      <th>UnitTransportedDT</th>\n",
       "      <td>object</td>\n",
       "      <td>0</td>\n",
       "      <td>0.000000</td>\n",
       "    </tr>\n",
       "    <tr>\n",
       "      <th>UnitTransportedArrivalDT</th>\n",
       "      <td>object</td>\n",
       "      <td>0</td>\n",
       "      <td>0.000000</td>\n",
       "    </tr>\n",
       "    <tr>\n",
       "      <th>TransportLOC</th>\n",
       "      <td>object</td>\n",
       "      <td>0</td>\n",
       "      <td>0.000000</td>\n",
       "    </tr>\n",
       "    <tr>\n",
       "      <th>TransportHospitalCode</th>\n",
       "      <td>object</td>\n",
       "      <td>0</td>\n",
       "      <td>0.000000</td>\n",
       "    </tr>\n",
       "    <tr>\n",
       "      <th>TransportHospitalName</th>\n",
       "      <td>object</td>\n",
       "      <td>0</td>\n",
       "      <td>0.000000</td>\n",
       "    </tr>\n",
       "    <tr>\n",
       "      <th>ReasonForChoosingHospital</th>\n",
       "      <td>object</td>\n",
       "      <td>0</td>\n",
       "      <td>0.000000</td>\n",
       "    </tr>\n",
       "    <tr>\n",
       "      <th>PatientAge</th>\n",
       "      <td>object</td>\n",
       "      <td>2</td>\n",
       "      <td>0.000016</td>\n",
       "    </tr>\n",
       "    <tr>\n",
       "      <th>PrimaryImpression</th>\n",
       "      <td>object</td>\n",
       "      <td>3</td>\n",
       "      <td>0.000024</td>\n",
       "    </tr>\n",
       "    <tr>\n",
       "      <th>SecondaryImpression</th>\n",
       "      <td>object</td>\n",
       "      <td>3</td>\n",
       "      <td>0.000024</td>\n",
       "    </tr>\n",
       "    <tr>\n",
       "      <th>PatientDisposition</th>\n",
       "      <td>object</td>\n",
       "      <td>0</td>\n",
       "      <td>0.000000</td>\n",
       "    </tr>\n",
       "  </tbody>\n",
       "</table>\n",
       "</div>"
      ],
      "text/plain": [
       "                            Dtype  Count of missing  % of missing\n",
       "PrimaryKey                  int64                 0      0.000000\n",
       "PatientID                   int64                 0      0.000000\n",
       "TransportUnitID            object                 0      0.000000\n",
       "UnitTransportedDT          object                 0      0.000000\n",
       "UnitTransportedArrivalDT   object                 0      0.000000\n",
       "TransportLOC               object                 0      0.000000\n",
       "TransportHospitalCode      object                 0      0.000000\n",
       "TransportHospitalName      object                 0      0.000000\n",
       "ReasonForChoosingHospital  object                 0      0.000000\n",
       "PatientAge                 object                 2      0.000016\n",
       "PrimaryImpression          object                 3      0.000024\n",
       "SecondaryImpression        object                 3      0.000024\n",
       "PatientDisposition         object                 0      0.000000"
      ]
     },
     "execution_count": 49,
     "metadata": {},
     "output_type": "execute_result"
    }
   ],
   "source": [
    "view_empty_values(patients)"
   ]
  },
  {
   "cell_type": "code",
   "execution_count": 50,
   "metadata": {
    "id": "2eeb01bd",
    "outputId": "2c40cdca-b672-4f1b-a358-a08b5cbff512"
   },
   "outputs": [
    {
     "name": "stdout",
     "output_type": "stream",
     "text": [
      "(125147, 13)\n"
     ]
    },
    {
     "data": {
      "text/plain": [
       "(125143, 13)"
      ]
     },
     "execution_count": 50,
     "metadata": {},
     "output_type": "execute_result"
    }
   ],
   "source": [
    "# Dropping remaning empty values\n",
    "print(patients.shape)\n",
    "patients.dropna(inplace=True)\n",
    "patients.shape"
   ]
  },
  {
   "cell_type": "code",
   "execution_count": 51,
   "metadata": {
    "id": "9d98f23e",
    "outputId": "3ebeca62-b923-4e8f-e80e-2094372c8311"
   },
   "outputs": [
    {
     "data": {
      "text/html": [
       "<div>\n",
       "<style scoped>\n",
       "    .dataframe tbody tr th:only-of-type {\n",
       "        vertical-align: middle;\n",
       "    }\n",
       "\n",
       "    .dataframe tbody tr th {\n",
       "        vertical-align: top;\n",
       "    }\n",
       "\n",
       "    .dataframe thead th {\n",
       "        text-align: right;\n",
       "    }\n",
       "</style>\n",
       "<table border=\"1\" class=\"dataframe\">\n",
       "  <thead>\n",
       "    <tr style=\"text-align: right;\">\n",
       "      <th></th>\n",
       "      <th>Dtype</th>\n",
       "      <th>Count of missing</th>\n",
       "      <th>% of missing</th>\n",
       "    </tr>\n",
       "  </thead>\n",
       "  <tbody>\n",
       "    <tr>\n",
       "      <th>PatientID</th>\n",
       "      <td>int64</td>\n",
       "      <td>0</td>\n",
       "      <td>0.0</td>\n",
       "    </tr>\n",
       "    <tr>\n",
       "      <th>ProcedurePrimaryKey</th>\n",
       "      <td>int64</td>\n",
       "      <td>0</td>\n",
       "      <td>0.0</td>\n",
       "    </tr>\n",
       "    <tr>\n",
       "      <th>ProcedurePerformed</th>\n",
       "      <td>object</td>\n",
       "      <td>0</td>\n",
       "      <td>0.0</td>\n",
       "    </tr>\n",
       "    <tr>\n",
       "      <th>isALS_LOC</th>\n",
       "      <td>int64</td>\n",
       "      <td>0</td>\n",
       "      <td>0.0</td>\n",
       "    </tr>\n",
       "  </tbody>\n",
       "</table>\n",
       "</div>"
      ],
      "text/plain": [
       "                      Dtype  Count of missing  % of missing\n",
       "PatientID             int64                 0           0.0\n",
       "ProcedurePrimaryKey   int64                 0           0.0\n",
       "ProcedurePerformed   object                 0           0.0\n",
       "isALS_LOC             int64                 0           0.0"
      ]
     },
     "execution_count": 51,
     "metadata": {},
     "output_type": "execute_result"
    }
   ],
   "source": [
    "view_empty_values(procedures)"
   ]
  },
  {
   "cell_type": "code",
   "execution_count": 52,
   "metadata": {
    "id": "45326593",
    "outputId": "c500a686-7717-445f-d4c9-a7aa29bf40df"
   },
   "outputs": [
    {
     "data": {
      "text/html": [
       "<div>\n",
       "<style scoped>\n",
       "    .dataframe tbody tr th:only-of-type {\n",
       "        vertical-align: middle;\n",
       "    }\n",
       "\n",
       "    .dataframe tbody tr th {\n",
       "        vertical-align: top;\n",
       "    }\n",
       "\n",
       "    .dataframe thead th {\n",
       "        text-align: right;\n",
       "    }\n",
       "</style>\n",
       "<table border=\"1\" class=\"dataframe\">\n",
       "  <thead>\n",
       "    <tr style=\"text-align: right;\">\n",
       "      <th></th>\n",
       "      <th>Dtype</th>\n",
       "      <th>Count of missing</th>\n",
       "      <th>% of missing</th>\n",
       "    </tr>\n",
       "  </thead>\n",
       "  <tbody>\n",
       "    <tr>\n",
       "      <th>PatientID</th>\n",
       "      <td>int64</td>\n",
       "      <td>0</td>\n",
       "      <td>0.000000</td>\n",
       "    </tr>\n",
       "    <tr>\n",
       "      <th>MedicationPrimaryKey</th>\n",
       "      <td>int64</td>\n",
       "      <td>0</td>\n",
       "      <td>0.000000</td>\n",
       "    </tr>\n",
       "    <tr>\n",
       "      <th>MedicationGiven</th>\n",
       "      <td>object</td>\n",
       "      <td>5</td>\n",
       "      <td>0.000107</td>\n",
       "    </tr>\n",
       "    <tr>\n",
       "      <th>isALS_LOC</th>\n",
       "      <td>int64</td>\n",
       "      <td>0</td>\n",
       "      <td>0.000000</td>\n",
       "    </tr>\n",
       "  </tbody>\n",
       "</table>\n",
       "</div>"
      ],
      "text/plain": [
       "                       Dtype  Count of missing  % of missing\n",
       "PatientID              int64                 0      0.000000\n",
       "MedicationPrimaryKey   int64                 0      0.000000\n",
       "MedicationGiven       object                 5      0.000107\n",
       "isALS_LOC              int64                 0      0.000000"
      ]
     },
     "execution_count": 52,
     "metadata": {},
     "output_type": "execute_result"
    }
   ],
   "source": [
    "view_empty_values(medications)"
   ]
  },
  {
   "cell_type": "code",
   "execution_count": 53,
   "metadata": {
    "id": "f642320d"
   },
   "outputs": [],
   "source": [
    "# Replaced all the null values of 'MedicationGiven' column with 'No medication given'\n",
    "medications['MedicationGiven'].fillna('No medication given', inplace = True)"
   ]
  },
  {
   "cell_type": "code",
   "execution_count": 54,
   "metadata": {
    "id": "9522e7b8"
   },
   "outputs": [],
   "source": [
    "# Save cleaned data to file\n",
    "writer = ExcelWriter(\"IndividualTablesCleaned.xlsx\")\n",
    "incidents.to_excel(writer, \"incidents\", index=False)\n",
    "unitsmerge.to_excel(writer, \"units\", index=False)\n",
    "patients.to_excel(writer, \"patients\", index=False)\n",
    "procedures.to_excel(writer, \"procedures\", index=False)\n",
    "medications.to_excel(writer, \"medications\", index=False)\n",
    "writer.save()"
   ]
  },
  {
   "cell_type": "code",
   "execution_count": 55,
   "metadata": {
    "id": "0fb23d51",
    "outputId": "4bc0c8b4-a90c-4437-cc95-fff4c02dc5e6"
   },
   "outputs": [
    {
     "data": {
      "text/plain": [
       "['Acetylsalicylic Acid (Aspirin, ASA) ',\n",
       " 'Adenosine (Adenocard)',\n",
       " 'Albuterol (Ventolin) ',\n",
       " 'Amiodarone (Cordarone)',\n",
       " 'Atropine (Atropine Sulfate) ',\n",
       " 'Calcium Chloride (10%) ',\n",
       " 'Cyanokit (Hydroxocobalamin)',\n",
       " 'Dextrose 10 % (D10)',\n",
       " 'Dextrose 50 % (D50)',\n",
       " 'Diazepam (Valium)',\n",
       " 'Diphenhydramine (Benadryl)',\n",
       " 'Epinephrine 0.1 MG/ML (1:10,000)',\n",
       " 'Epinephrine 1 MG/ML (1:1,000)',\n",
       " 'Fentanyl Citrate (Sublimaze) ',\n",
       " 'Glucagon (Glucagen)',\n",
       " 'Glucose (Oral)',\n",
       " 'Ipratropium Bromide(Atrovent)',\n",
       " 'Ketamine (Ketalar)',\n",
       " 'Lidocaine (2%) (Xylocaine) ',\n",
       " 'Magnesium Sulfate (50%) ',\n",
       " 'Methylprednisolone (Solu-Medrol) ',\n",
       " 'Midazolam (Versed)',\n",
       " 'Morphine (Morphine Sulfate) ',\n",
       " 'Naloxone (Narcan)',\n",
       " 'Nitroglycerin',\n",
       " 'No medication given',\n",
       " 'Norepinephrine (Levophed)',\n",
       " 'Normal saline',\n",
       " 'Ondansetron (Zofran)',\n",
       " 'Oxygen',\n",
       " 'Sodium Bicarbonate (8.4%) ',\n",
       " 'Tetracaine',\n",
       " 'Tranexamic Acid (TXA)']"
      ]
     },
     "execution_count": 55,
     "metadata": {},
     "output_type": "execute_result"
    }
   ],
   "source": [
    "sorted(medications.MedicationGiven[medications.MedicationGiven.notnull()].unique())"
   ]
  },
  {
   "cell_type": "code",
   "execution_count": 56,
   "metadata": {
    "id": "08e75685",
    "outputId": "e85c6352-8887-4555-b816-b9a9b1f88f7b"
   },
   "outputs": [
    {
     "data": {
      "text/plain": [
       "(68, 33)"
      ]
     },
     "execution_count": 56,
     "metadata": {},
     "output_type": "execute_result"
    }
   ],
   "source": [
    "procedures.ProcedurePerformed.nunique(), medications.MedicationGiven.nunique()"
   ]
  },
  {
   "cell_type": "markdown",
   "metadata": {},
   "source": [
    "### Model for week 14- Sprint 5.1 - code starts here"
   ]
  },
  {
   "cell_type": "code",
   "execution_count": 57,
   "metadata": {},
   "outputs": [],
   "source": [
    "# Read cleaned data\n",
    "incidents = pd.read_excel(\"IndividualTablesCleaned.xlsx\", sheet_name=\"incidents\")\n",
    "units = pd.read_excel(\"IndividualTablesCleaned.xlsx\", sheet_name=\"units\")\n",
    "patients = pd.read_excel(\"IndividualTablesCleaned.xlsx\", sheet_name=\"patients\")\n",
    "procedures = pd.read_excel(\"IndividualTablesCleaned.xlsx\", sheet_name=\"procedures\")\n",
    "medications = pd.read_excel(\"IndividualTablesCleaned.xlsx\", sheet_name=\"medications\")"
   ]
  },
  {
   "cell_type": "code",
   "execution_count": null,
   "metadata": {},
   "outputs": [],
   "source": []
  },
  {
   "cell_type": "code",
   "execution_count": 58,
   "metadata": {},
   "outputs": [],
   "source": [
    "def haversine_distance(lon1, lat1, lon2, lat2):\n",
    "    \"\"\"\n",
    "    Calculate the haversine distance\n",
    "    Use radius of earth 6371 in km 3956 in miles \n",
    "    \"\"\"\n",
    "    # convert decimal degrees to radians \n",
    "    lon1, lat1, lon2, lat2 = map(radians, [lon1, lat1, lon2, lat2])\n",
    "\n",
    "    # haversine formula \n",
    "    dlon = lon2 - lon1 \n",
    "    dlat = lat2 - lat1 \n",
    "    a = sin(dlat/2)**2 + cos(lat1) * cos(lat2) * sin(dlon/2)**2\n",
    "    c = 2 * asin(sqrt(a)) \n",
    "    r = 3956 # Radius of earth in miles\n",
    "    distance = c * r\n",
    "    return distance"
   ]
  },
  {
   "cell_type": "code",
   "execution_count": 59,
   "metadata": {},
   "outputs": [],
   "source": [
    "# distance = haversine_distance(long1,lat1,long2,lat2)\n",
    "# print('\\n Haversine distance between 2 points',lat1,long1,'and ',lat2,long2, 'is',distance,'\\n')"
   ]
  },
  {
   "cell_type": "code",
   "execution_count": 63,
   "metadata": {},
   "outputs": [
    {
     "name": "stdout",
     "output_type": "stream",
     "text": [
      "(125143, 13) (289634, 9)\n"
     ]
    },
    {
     "data": {
      "text/plain": [
       "(129313, 21)"
      ]
     },
     "execution_count": 63,
     "metadata": {},
     "output_type": "execute_result"
    }
   ],
   "source": [
    "#Merge patients with the units - Units 0:many patients\n",
    "print(patients.shape, units.shape)\n",
    "patientunitsmerge = patients.merge(units, left_on=[\"PrimaryKey\", \"TransportUnitID\"],  right_on= [\"PrimaryKey\", \"ResponseUnitID\"])\n",
    "patientunitsmerge.shape"
   ]
  },
  {
   "cell_type": "code",
   "execution_count": 64,
   "metadata": {},
   "outputs": [
    {
     "name": "stdout",
     "output_type": "stream",
     "text": [
      "(129313, 21) (122290, 10)\n"
     ]
    },
    {
     "data": {
      "text/plain": [
       "(129313, 30)"
      ]
     },
     "execution_count": 64,
     "metadata": {},
     "output_type": "execute_result"
    }
   ],
   "source": [
    "print(patientunitsmerge.shape, incidents.shape)\n",
    "incidentpatientunitsmerge = patientunitsmerge.merge(incidents, how=\"left\", on=\"PrimaryKey\")\n",
    "incidentpatientunitsmerge.shape"
   ]
  },
  {
   "cell_type": "code",
   "execution_count": 65,
   "metadata": {},
   "outputs": [
    {
     "data": {
      "text/plain": [
       "Index(['PrimaryKey', 'PatientID', 'TransportUnitID', 'UnitTransportedDT',\n",
       "       'UnitTransportedArrivalDT', 'TransportLOC', 'TransportHospitalCode',\n",
       "       'TransportHospitalName', 'ReasonForChoosingHospital', 'PatientAge',\n",
       "       'PrimaryImpression', 'SecondaryImpression', 'PatientDisposition',\n",
       "       'ResponseUnitID', 'UnitPrimaryActionTaken', 'UnitOtherActionsTaken',\n",
       "       'UnitStation', 'UnitType', 'UnitArrivalOrder', 'Unit_LAT', 'Unit_LON',\n",
       "       'CallConfirmedDT', 'ShiftDay', 'TourOfShift', 'IncidentFirstDue',\n",
       "       'InitialIncidentType', 'DispatchedIncidentType', 'ArrivedIncidentType',\n",
       "       'FinalIncidentType', 'FinalIncidentTypeDescription'],\n",
       "      dtype='object')"
      ]
     },
     "execution_count": 65,
     "metadata": {},
     "output_type": "execute_result"
    }
   ],
   "source": [
    "incidentpatientunitsmerge.columns"
   ]
  },
  {
   "cell_type": "code",
   "execution_count": 66,
   "metadata": {},
   "outputs": [
    {
     "data": {
      "text/plain": [
       "array(['Virginia Hospital Center', 'Fairfax Hospital',\n",
       "       'Reston Hospital Center', 'Fair Oaks Hospital',\n",
       "       'Alexandria Hospital', 'Mount Vernon Hospital',\n",
       "       'Fort Belvoir Community Hospital', 'No Hospital name',\n",
       "       'Loudoun Hospital Center', 'Stone Spring Hospital',\n",
       "       'Lorton Healthplex', 'Springfield Health Plex',\n",
       "       'Inova Emergency Care Center (ECC) - Fairfax',\n",
       "       'Out Of Area Hospital Not Listed', 'MEDSTAR (202-877-7210)',\n",
       "       'Landing Zone', 'Sentara Northern Virginia Medical Center',\n",
       "       'Georgetown University Hospital (202-444-2119)',\n",
       "       'Inova Emergency Care Center (ECC) - Reston/Herndon',\n",
       "       \"Children's National Medical Center (202-476-4682)\",\n",
       "       'Sibley (202-537-4080)',\n",
       "       'George Washington University Hospital (202-715-4909)',\n",
       "       'Prince William Hospital (703-369-8869)', 'Ashburn HealthPlex',\n",
       "       'Southern Maryland Hospital', 'Sibley Memorial Hospital',\n",
       "       'Inova HealthPlex Emergency Care Center',\n",
       "       'Inova Emergency Care Center - Fairfax',\n",
       "       'StoneSpring Hospital Center', 'Lorton Healthplex ED',\n",
       "       'Georgetown University Hospital',\n",
       "       'Inova Emergency Care Center - Reston/Herndon',\n",
       "       'Prince William Medical Center',\n",
       "       'Northern Virginia Medical Center',\n",
       "       'George Washington University Hospital',\n",
       "       'Washington Hospital Center', 'Inova Ashburn HealthPlex',\n",
       "       \"Children's National Medical Center\", 'Stafford Hospital Center',\n",
       "       'Haymarket Medical Center', 'StoneSprings Hospital Center',\n",
       "       'Kaiser Permanente ‐ Tysons Corner ‐ Advanced Urgent Care',\n",
       "       'Kaiser Permanente ‐ Woodbridge ‐ Advanced Urgent Care'],\n",
       "      dtype=object)"
      ]
     },
     "execution_count": 66,
     "metadata": {},
     "output_type": "execute_result"
    }
   ],
   "source": [
    "incidentpatientunitsmerge['TransportHospitalName'].unique()"
   ]
  },
  {
   "cell_type": "code",
   "execution_count": 67,
   "metadata": {},
   "outputs": [],
   "source": [
    "incidentpatientunitsmerge.loc[incidentpatientunitsmerge['TransportHospitalCode'] == 'No Hospital service', 'TransportHospitalCode'] = 111\n",
    "incidentpatientunitsmerge['TransportHospitalCode'] = incidentpatientunitsmerge['TransportHospitalCode'].astype(int)"
   ]
  },
  {
   "cell_type": "code",
   "execution_count": 68,
   "metadata": {},
   "outputs": [
    {
     "name": "stdout",
     "output_type": "stream",
     "text": [
      "(129313, 30) (32, 7)\n"
     ]
    },
    {
     "data": {
      "text/plain": [
       "(129313, 37)"
      ]
     },
     "execution_count": 68,
     "metadata": {},
     "output_type": "execute_result"
    }
   ],
   "source": [
    "print(incidentpatientunitsmerge.shape, df_facility.shape)\n",
    "incidentpatientunitsfacilitiesmerge = incidentpatientunitsmerge.merge(df_facility, how=\"left\", left_on=\"TransportHospitalCode\" , right_on=\"Facility_Location_Code\")\n",
    "incidentpatientunitsfacilitiesmerge.shape"
   ]
  },
  {
   "cell_type": "code",
   "execution_count": 69,
   "metadata": {},
   "outputs": [],
   "source": [
    "#Drop 'Facility_Location_Code'\n",
    "incidentpatientunitsfacilitiesmerge = incidentpatientunitsfacilitiesmerge.drop(columns= ['Facility_Location_Code'])"
   ]
  },
  {
   "cell_type": "code",
   "execution_count": 70,
   "metadata": {},
   "outputs": [
    {
     "data": {
      "text/html": [
       "<div>\n",
       "<style scoped>\n",
       "    .dataframe tbody tr th:only-of-type {\n",
       "        vertical-align: middle;\n",
       "    }\n",
       "\n",
       "    .dataframe tbody tr th {\n",
       "        vertical-align: top;\n",
       "    }\n",
       "\n",
       "    .dataframe thead th {\n",
       "        text-align: right;\n",
       "    }\n",
       "</style>\n",
       "<table border=\"1\" class=\"dataframe\">\n",
       "  <thead>\n",
       "    <tr style=\"text-align: right;\">\n",
       "      <th></th>\n",
       "      <th>PrimaryKey</th>\n",
       "      <th>PatientID</th>\n",
       "      <th>TransportUnitID</th>\n",
       "      <th>UnitTransportedDT</th>\n",
       "      <th>UnitTransportedArrivalDT</th>\n",
       "      <th>TransportLOC</th>\n",
       "      <th>TransportHospitalCode</th>\n",
       "      <th>TransportHospitalName</th>\n",
       "      <th>ReasonForChoosingHospital</th>\n",
       "      <th>PatientAge</th>\n",
       "      <th>...</th>\n",
       "      <th>DispatchedIncidentType</th>\n",
       "      <th>ArrivedIncidentType</th>\n",
       "      <th>FinalIncidentType</th>\n",
       "      <th>FinalIncidentTypeDescription</th>\n",
       "      <th>Facility_Name</th>\n",
       "      <th>Facility_Type_Of_Facility</th>\n",
       "      <th>Facility_Hospital_Designation_List</th>\n",
       "      <th>Facility_Latitude</th>\n",
       "      <th>Facility_Longitude</th>\n",
       "      <th>Facility_Full_Address</th>\n",
       "    </tr>\n",
       "  </thead>\n",
       "  <tbody>\n",
       "    <tr>\n",
       "      <th>0</th>\n",
       "      <td>9804015371</td>\n",
       "      <td>640838</td>\n",
       "      <td>M401</td>\n",
       "      <td>2018-07-01 02:47:55</td>\n",
       "      <td>2018-07-01 03:06:39</td>\n",
       "      <td>Level 3: 1 Provider (ALS Care)</td>\n",
       "      <td>3</td>\n",
       "      <td>Virginia Hospital Center</td>\n",
       "      <td>Patient's Choice,Closest Facility</td>\n",
       "      <td>80 - 89</td>\n",
       "      <td>...</td>\n",
       "      <td>ALS</td>\n",
       "      <td>ALS</td>\n",
       "      <td>ALS</td>\n",
       "      <td>ALS EMERGENCY</td>\n",
       "      <td>Virginia Hospital Center</td>\n",
       "      <td>Hospital</td>\n",
       "      <td>Designated Stroke Center,Hospital (General),Pe...</td>\n",
       "      <td>38.889271</td>\n",
       "      <td>77.126523</td>\n",
       "      <td>1701 N. George Mason Drive, Arlington, Virgin...</td>\n",
       "    </tr>\n",
       "    <tr>\n",
       "      <th>1</th>\n",
       "      <td>9804016046</td>\n",
       "      <td>641032</td>\n",
       "      <td>M401</td>\n",
       "      <td>2018-07-01 11:44:54</td>\n",
       "      <td>2018-07-01 11:55:05</td>\n",
       "      <td>Level 4: 1 Provider (BLS Care)</td>\n",
       "      <td>3</td>\n",
       "      <td>Virginia Hospital Center</td>\n",
       "      <td>Patient's Choice</td>\n",
       "      <td>80 - 89</td>\n",
       "      <td>...</td>\n",
       "      <td>BLS</td>\n",
       "      <td>BLS</td>\n",
       "      <td>BLS</td>\n",
       "      <td>BLS EMERGENCY</td>\n",
       "      <td>Virginia Hospital Center</td>\n",
       "      <td>Hospital</td>\n",
       "      <td>Designated Stroke Center,Hospital (General),Pe...</td>\n",
       "      <td>38.889271</td>\n",
       "      <td>77.126523</td>\n",
       "      <td>1701 N. George Mason Drive, Arlington, Virgin...</td>\n",
       "    </tr>\n",
       "    <tr>\n",
       "      <th>2</th>\n",
       "      <td>9804018610</td>\n",
       "      <td>641839</td>\n",
       "      <td>M401</td>\n",
       "      <td>2018-07-02 09:54:49</td>\n",
       "      <td>2018-07-02 10:08:54</td>\n",
       "      <td>Level 4: 1 Provider (BLS Care)</td>\n",
       "      <td>16</td>\n",
       "      <td>Fairfax Hospital</td>\n",
       "      <td>Closest Facility</td>\n",
       "      <td>40 - 49</td>\n",
       "      <td>...</td>\n",
       "      <td>BLS</td>\n",
       "      <td>BLS</td>\n",
       "      <td>BLS</td>\n",
       "      <td>BLS EMERGENCY</td>\n",
       "      <td>Inova Fairfax Hospital</td>\n",
       "      <td>Hospital</td>\n",
       "      <td>Designated Stroke Center,Hospital (General),Le...</td>\n",
       "      <td>38.857392</td>\n",
       "      <td>77.226309</td>\n",
       "      <td>3300 Gallows Road, West Falls Church, Virginia...</td>\n",
       "    </tr>\n",
       "    <tr>\n",
       "      <th>3</th>\n",
       "      <td>9804018946</td>\n",
       "      <td>641959</td>\n",
       "      <td>M401</td>\n",
       "      <td>2018-07-02 11:41:42</td>\n",
       "      <td>2018-07-02 12:08:36</td>\n",
       "      <td>Level 4: 1 Provider (BLS Care)</td>\n",
       "      <td>3</td>\n",
       "      <td>Virginia Hospital Center</td>\n",
       "      <td>Closest Facility,Family Choice,Patient's Physi...</td>\n",
       "      <td>80 - 89</td>\n",
       "      <td>...</td>\n",
       "      <td>BLS</td>\n",
       "      <td>BLS</td>\n",
       "      <td>BLS</td>\n",
       "      <td>BLS EMERGENCY</td>\n",
       "      <td>Virginia Hospital Center</td>\n",
       "      <td>Hospital</td>\n",
       "      <td>Designated Stroke Center,Hospital (General),Pe...</td>\n",
       "      <td>38.889271</td>\n",
       "      <td>77.126523</td>\n",
       "      <td>1701 N. George Mason Drive, Arlington, Virgin...</td>\n",
       "    </tr>\n",
       "    <tr>\n",
       "      <th>4</th>\n",
       "      <td>9804019337</td>\n",
       "      <td>642086</td>\n",
       "      <td>M401</td>\n",
       "      <td>2018-07-02 14:21:28</td>\n",
       "      <td>2018-07-02 14:33:41</td>\n",
       "      <td>Level 3: 1 Provider (ALS Care)</td>\n",
       "      <td>3</td>\n",
       "      <td>Virginia Hospital Center</td>\n",
       "      <td>Closest Facility,Patient's Physician's Choice</td>\n",
       "      <td>20 - 29</td>\n",
       "      <td>...</td>\n",
       "      <td>ALS</td>\n",
       "      <td>ALS</td>\n",
       "      <td>ALS</td>\n",
       "      <td>ALS EMERGENCY</td>\n",
       "      <td>Virginia Hospital Center</td>\n",
       "      <td>Hospital</td>\n",
       "      <td>Designated Stroke Center,Hospital (General),Pe...</td>\n",
       "      <td>38.889271</td>\n",
       "      <td>77.126523</td>\n",
       "      <td>1701 N. George Mason Drive, Arlington, Virgin...</td>\n",
       "    </tr>\n",
       "    <tr>\n",
       "      <th>5</th>\n",
       "      <td>9804019821</td>\n",
       "      <td>642222</td>\n",
       "      <td>M401</td>\n",
       "      <td>2018-07-02 16:52:04</td>\n",
       "      <td>2018-07-02 17:09:24</td>\n",
       "      <td>Level 3: 1 Provider (ALS Care)</td>\n",
       "      <td>3</td>\n",
       "      <td>Virginia Hospital Center</td>\n",
       "      <td>Closest Facility,Patient's Choice</td>\n",
       "      <td>90 - 99</td>\n",
       "      <td>...</td>\n",
       "      <td>BLS</td>\n",
       "      <td>ALS</td>\n",
       "      <td>ALS</td>\n",
       "      <td>ALS EMERGENCY</td>\n",
       "      <td>Virginia Hospital Center</td>\n",
       "      <td>Hospital</td>\n",
       "      <td>Designated Stroke Center,Hospital (General),Pe...</td>\n",
       "      <td>38.889271</td>\n",
       "      <td>77.126523</td>\n",
       "      <td>1701 N. George Mason Drive, Arlington, Virgin...</td>\n",
       "    </tr>\n",
       "    <tr>\n",
       "      <th>6</th>\n",
       "      <td>9804025846</td>\n",
       "      <td>640977</td>\n",
       "      <td>M402</td>\n",
       "      <td>2018-07-01 09:28:07</td>\n",
       "      <td>2018-07-01 09:41:45</td>\n",
       "      <td>Level 3: 1 Provider (ALS Care)</td>\n",
       "      <td>16</td>\n",
       "      <td>Fairfax Hospital</td>\n",
       "      <td>Closest Facility</td>\n",
       "      <td>50 - 59</td>\n",
       "      <td>...</td>\n",
       "      <td>BLS</td>\n",
       "      <td>BLS</td>\n",
       "      <td>BLS</td>\n",
       "      <td>BLS EMERGENCY</td>\n",
       "      <td>Inova Fairfax Hospital</td>\n",
       "      <td>Hospital</td>\n",
       "      <td>Designated Stroke Center,Hospital (General),Le...</td>\n",
       "      <td>38.857392</td>\n",
       "      <td>77.226309</td>\n",
       "      <td>3300 Gallows Road, West Falls Church, Virginia...</td>\n",
       "    </tr>\n",
       "    <tr>\n",
       "      <th>7</th>\n",
       "      <td>9804026735</td>\n",
       "      <td>641291</td>\n",
       "      <td>M402</td>\n",
       "      <td>2018-07-01 17:54:06</td>\n",
       "      <td>2018-07-01 18:09:54</td>\n",
       "      <td>Level 3: 1 Provider (ALS Care)</td>\n",
       "      <td>16</td>\n",
       "      <td>Fairfax Hospital</td>\n",
       "      <td>Closest Facility</td>\n",
       "      <td>80 - 89</td>\n",
       "      <td>...</td>\n",
       "      <td>BLS</td>\n",
       "      <td>BLS</td>\n",
       "      <td>BLS</td>\n",
       "      <td>BLS EMERGENCY</td>\n",
       "      <td>Inova Fairfax Hospital</td>\n",
       "      <td>Hospital</td>\n",
       "      <td>Designated Stroke Center,Hospital (General),Le...</td>\n",
       "      <td>38.857392</td>\n",
       "      <td>77.226309</td>\n",
       "      <td>3300 Gallows Road, West Falls Church, Virginia...</td>\n",
       "    </tr>\n",
       "    <tr>\n",
       "      <th>8</th>\n",
       "      <td>9804028602</td>\n",
       "      <td>641809</td>\n",
       "      <td>M402</td>\n",
       "      <td>2018-07-02 09:46:14</td>\n",
       "      <td>2018-07-02 09:58:18</td>\n",
       "      <td>Level 3: 1 Provider (ALS Care)</td>\n",
       "      <td>16</td>\n",
       "      <td>Fairfax Hospital</td>\n",
       "      <td>Family Choice</td>\n",
       "      <td>1 - 9</td>\n",
       "      <td>...</td>\n",
       "      <td>ALS</td>\n",
       "      <td>ALS</td>\n",
       "      <td>ALS</td>\n",
       "      <td>ALS EMERGENCY</td>\n",
       "      <td>Inova Fairfax Hospital</td>\n",
       "      <td>Hospital</td>\n",
       "      <td>Designated Stroke Center,Hospital (General),Le...</td>\n",
       "      <td>38.857392</td>\n",
       "      <td>77.226309</td>\n",
       "      <td>3300 Gallows Road, West Falls Church, Virginia...</td>\n",
       "    </tr>\n",
       "    <tr>\n",
       "      <th>9</th>\n",
       "      <td>9804029208</td>\n",
       "      <td>642020</td>\n",
       "      <td>M434</td>\n",
       "      <td>2018-07-02 13:24:59</td>\n",
       "      <td>2018-07-02 13:43:00</td>\n",
       "      <td>Level 3: 1 Provider (ALS Care)</td>\n",
       "      <td>16</td>\n",
       "      <td>Fairfax Hospital</td>\n",
       "      <td>Closest Facility</td>\n",
       "      <td>70 - 79</td>\n",
       "      <td>...</td>\n",
       "      <td>BLS</td>\n",
       "      <td>BLS</td>\n",
       "      <td>BLS</td>\n",
       "      <td>BLS EMERGENCY</td>\n",
       "      <td>Inova Fairfax Hospital</td>\n",
       "      <td>Hospital</td>\n",
       "      <td>Designated Stroke Center,Hospital (General),Le...</td>\n",
       "      <td>38.857392</td>\n",
       "      <td>77.226309</td>\n",
       "      <td>3300 Gallows Road, West Falls Church, Virginia...</td>\n",
       "    </tr>\n",
       "    <tr>\n",
       "      <th>10</th>\n",
       "      <td>9804029628</td>\n",
       "      <td>642170</td>\n",
       "      <td>M402</td>\n",
       "      <td>2018-07-02 15:58:56</td>\n",
       "      <td>2018-07-02 16:14:28</td>\n",
       "      <td>Level 3: 1 Provider (ALS Care)</td>\n",
       "      <td>16</td>\n",
       "      <td>Fairfax Hospital</td>\n",
       "      <td>Family Choice</td>\n",
       "      <td>80 - 89</td>\n",
       "      <td>...</td>\n",
       "      <td>ALS</td>\n",
       "      <td>ALS</td>\n",
       "      <td>ALS</td>\n",
       "      <td>ALS EMERGENCY</td>\n",
       "      <td>Inova Fairfax Hospital</td>\n",
       "      <td>Hospital</td>\n",
       "      <td>Designated Stroke Center,Hospital (General),Le...</td>\n",
       "      <td>38.857392</td>\n",
       "      <td>77.226309</td>\n",
       "      <td>3300 Gallows Road, West Falls Church, Virginia...</td>\n",
       "    </tr>\n",
       "    <tr>\n",
       "      <th>11</th>\n",
       "      <td>9804046923</td>\n",
       "      <td>641327</td>\n",
       "      <td>M404</td>\n",
       "      <td>2018-07-01 18:59:16</td>\n",
       "      <td>2018-07-01 19:13:35</td>\n",
       "      <td>Level 4: 1 Provider (BLS Care)</td>\n",
       "      <td>95</td>\n",
       "      <td>Reston Hospital Center</td>\n",
       "      <td>Closest Facility</td>\n",
       "      <td>20 - 29</td>\n",
       "      <td>...</td>\n",
       "      <td>ALS</td>\n",
       "      <td>ALS</td>\n",
       "      <td>ALS</td>\n",
       "      <td>ALS EMERGENCY</td>\n",
       "      <td>HCA Reston Hospital Center</td>\n",
       "      <td>Hospital</td>\n",
       "      <td>Designated Stroke Center,Hospital (General),Le...</td>\n",
       "      <td>38.962328</td>\n",
       "      <td>77.363508</td>\n",
       "      <td>1850 Town Center Parkway, Reston, Virginia, 20...</td>\n",
       "    </tr>\n",
       "    <tr>\n",
       "      <th>12</th>\n",
       "      <td>9804047518</td>\n",
       "      <td>641509</td>\n",
       "      <td>M404</td>\n",
       "      <td>2018-07-01 23:38:28</td>\n",
       "      <td>2018-07-01 23:46:29</td>\n",
       "      <td>Level 3: 1 Provider (ALS Care)</td>\n",
       "      <td>95</td>\n",
       "      <td>Reston Hospital Center</td>\n",
       "      <td>Closest Facility</td>\n",
       "      <td>70 - 79</td>\n",
       "      <td>...</td>\n",
       "      <td>BLS</td>\n",
       "      <td>BLS</td>\n",
       "      <td>BLS</td>\n",
       "      <td>BLS EMERGENCY</td>\n",
       "      <td>HCA Reston Hospital Center</td>\n",
       "      <td>Hospital</td>\n",
       "      <td>Designated Stroke Center,Hospital (General),Le...</td>\n",
       "      <td>38.962328</td>\n",
       "      <td>77.363508</td>\n",
       "      <td>1850 Town Center Parkway, Reston, Virginia, 20...</td>\n",
       "    </tr>\n",
       "    <tr>\n",
       "      <th>13</th>\n",
       "      <td>9804048195</td>\n",
       "      <td>641696</td>\n",
       "      <td>M436</td>\n",
       "      <td>2018-07-02 07:05:30</td>\n",
       "      <td>2018-07-02 07:19:47</td>\n",
       "      <td>Level 3: 1 Provider (ALS Care)</td>\n",
       "      <td>11</td>\n",
       "      <td>Fair Oaks Hospital</td>\n",
       "      <td>Family Choice</td>\n",
       "      <td>60 - 69</td>\n",
       "      <td>...</td>\n",
       "      <td>ALS</td>\n",
       "      <td>ALS</td>\n",
       "      <td>ALS</td>\n",
       "      <td>ALS EMERGENCY</td>\n",
       "      <td>Inova Fair Oaks Hospital</td>\n",
       "      <td>Hospital</td>\n",
       "      <td>Hospital (General),Pediatric Trauma Center</td>\n",
       "      <td>38.884529</td>\n",
       "      <td>77.379313</td>\n",
       "      <td>3600 Joseph Siewick Drive, Fairfax County, Vir...</td>\n",
       "    </tr>\n",
       "    <tr>\n",
       "      <th>14</th>\n",
       "      <td>9804048961</td>\n",
       "      <td>642269</td>\n",
       "      <td>M404</td>\n",
       "      <td>2018-07-02 12:03:24</td>\n",
       "      <td>2018-07-02 12:13:13</td>\n",
       "      <td>Level 1: 3 or More Providers (ALS Care)</td>\n",
       "      <td>95</td>\n",
       "      <td>Reston Hospital Center</td>\n",
       "      <td>Closest Facility</td>\n",
       "      <td>60 - 69</td>\n",
       "      <td>...</td>\n",
       "      <td>BLS</td>\n",
       "      <td>ALS</td>\n",
       "      <td>ALS</td>\n",
       "      <td>ALS EMERGENCY</td>\n",
       "      <td>HCA Reston Hospital Center</td>\n",
       "      <td>Hospital</td>\n",
       "      <td>Designated Stroke Center,Hospital (General),Le...</td>\n",
       "      <td>38.962328</td>\n",
       "      <td>77.363508</td>\n",
       "      <td>1850 Town Center Parkway, Reston, Virginia, 20...</td>\n",
       "    </tr>\n",
       "  </tbody>\n",
       "</table>\n",
       "<p>15 rows × 36 columns</p>\n",
       "</div>"
      ],
      "text/plain": [
       "    PrimaryKey  PatientID TransportUnitID    UnitTransportedDT  \\\n",
       "0   9804015371     640838            M401  2018-07-01 02:47:55   \n",
       "1   9804016046     641032            M401  2018-07-01 11:44:54   \n",
       "2   9804018610     641839            M401  2018-07-02 09:54:49   \n",
       "3   9804018946     641959            M401  2018-07-02 11:41:42   \n",
       "4   9804019337     642086            M401  2018-07-02 14:21:28   \n",
       "5   9804019821     642222            M401  2018-07-02 16:52:04   \n",
       "6   9804025846     640977            M402  2018-07-01 09:28:07   \n",
       "7   9804026735     641291            M402  2018-07-01 17:54:06   \n",
       "8   9804028602     641809            M402  2018-07-02 09:46:14   \n",
       "9   9804029208     642020            M434  2018-07-02 13:24:59   \n",
       "10  9804029628     642170            M402  2018-07-02 15:58:56   \n",
       "11  9804046923     641327            M404  2018-07-01 18:59:16   \n",
       "12  9804047518     641509            M404  2018-07-01 23:38:28   \n",
       "13  9804048195     641696            M436  2018-07-02 07:05:30   \n",
       "14  9804048961     642269            M404  2018-07-02 12:03:24   \n",
       "\n",
       "   UnitTransportedArrivalDT                             TransportLOC  \\\n",
       "0       2018-07-01 03:06:39           Level 3: 1 Provider (ALS Care)   \n",
       "1       2018-07-01 11:55:05           Level 4: 1 Provider (BLS Care)   \n",
       "2       2018-07-02 10:08:54           Level 4: 1 Provider (BLS Care)   \n",
       "3       2018-07-02 12:08:36           Level 4: 1 Provider (BLS Care)   \n",
       "4       2018-07-02 14:33:41           Level 3: 1 Provider (ALS Care)   \n",
       "5       2018-07-02 17:09:24           Level 3: 1 Provider (ALS Care)   \n",
       "6       2018-07-01 09:41:45           Level 3: 1 Provider (ALS Care)   \n",
       "7       2018-07-01 18:09:54           Level 3: 1 Provider (ALS Care)   \n",
       "8       2018-07-02 09:58:18           Level 3: 1 Provider (ALS Care)   \n",
       "9       2018-07-02 13:43:00           Level 3: 1 Provider (ALS Care)   \n",
       "10      2018-07-02 16:14:28           Level 3: 1 Provider (ALS Care)   \n",
       "11      2018-07-01 19:13:35           Level 4: 1 Provider (BLS Care)   \n",
       "12      2018-07-01 23:46:29           Level 3: 1 Provider (ALS Care)   \n",
       "13      2018-07-02 07:19:47           Level 3: 1 Provider (ALS Care)   \n",
       "14      2018-07-02 12:13:13  Level 1: 3 or More Providers (ALS Care)   \n",
       "\n",
       "    TransportHospitalCode     TransportHospitalName  \\\n",
       "0                       3  Virginia Hospital Center   \n",
       "1                       3  Virginia Hospital Center   \n",
       "2                      16          Fairfax Hospital   \n",
       "3                       3  Virginia Hospital Center   \n",
       "4                       3  Virginia Hospital Center   \n",
       "5                       3  Virginia Hospital Center   \n",
       "6                      16          Fairfax Hospital   \n",
       "7                      16          Fairfax Hospital   \n",
       "8                      16          Fairfax Hospital   \n",
       "9                      16          Fairfax Hospital   \n",
       "10                     16          Fairfax Hospital   \n",
       "11                     95    Reston Hospital Center   \n",
       "12                     95    Reston Hospital Center   \n",
       "13                     11        Fair Oaks Hospital   \n",
       "14                     95    Reston Hospital Center   \n",
       "\n",
       "                            ReasonForChoosingHospital PatientAge  ...  \\\n",
       "0                   Patient's Choice,Closest Facility    80 - 89  ...   \n",
       "1                                    Patient's Choice    80 - 89  ...   \n",
       "2                                    Closest Facility    40 - 49  ...   \n",
       "3   Closest Facility,Family Choice,Patient's Physi...    80 - 89  ...   \n",
       "4       Closest Facility,Patient's Physician's Choice    20 - 29  ...   \n",
       "5                   Closest Facility,Patient's Choice    90 - 99  ...   \n",
       "6                                    Closest Facility    50 - 59  ...   \n",
       "7                                    Closest Facility    80 - 89  ...   \n",
       "8                                       Family Choice      1 - 9  ...   \n",
       "9                                    Closest Facility    70 - 79  ...   \n",
       "10                                      Family Choice    80 - 89  ...   \n",
       "11                                   Closest Facility    20 - 29  ...   \n",
       "12                                   Closest Facility    70 - 79  ...   \n",
       "13                                      Family Choice    60 - 69  ...   \n",
       "14                                   Closest Facility    60 - 69  ...   \n",
       "\n",
       "   DispatchedIncidentType ArrivedIncidentType FinalIncidentType  \\\n",
       "0                     ALS                 ALS               ALS   \n",
       "1                     BLS                 BLS               BLS   \n",
       "2                     BLS                 BLS               BLS   \n",
       "3                     BLS                 BLS               BLS   \n",
       "4                     ALS                 ALS               ALS   \n",
       "5                     BLS                 ALS               ALS   \n",
       "6                     BLS                 BLS               BLS   \n",
       "7                     BLS                 BLS               BLS   \n",
       "8                     ALS                 ALS               ALS   \n",
       "9                     BLS                 BLS               BLS   \n",
       "10                    ALS                 ALS               ALS   \n",
       "11                    ALS                 ALS               ALS   \n",
       "12                    BLS                 BLS               BLS   \n",
       "13                    ALS                 ALS               ALS   \n",
       "14                    BLS                 ALS               ALS   \n",
       "\n",
       "   FinalIncidentTypeDescription               Facility_Name  \\\n",
       "0                ALS EMERGENCY     Virginia Hospital Center   \n",
       "1                BLS EMERGENCY     Virginia Hospital Center   \n",
       "2                BLS EMERGENCY       Inova Fairfax Hospital   \n",
       "3                BLS EMERGENCY     Virginia Hospital Center   \n",
       "4                ALS EMERGENCY     Virginia Hospital Center   \n",
       "5                ALS EMERGENCY     Virginia Hospital Center   \n",
       "6                BLS EMERGENCY       Inova Fairfax Hospital   \n",
       "7                BLS EMERGENCY       Inova Fairfax Hospital   \n",
       "8                ALS EMERGENCY       Inova Fairfax Hospital   \n",
       "9                BLS EMERGENCY       Inova Fairfax Hospital   \n",
       "10               ALS EMERGENCY       Inova Fairfax Hospital   \n",
       "11               ALS EMERGENCY   HCA Reston Hospital Center   \n",
       "12               BLS EMERGENCY   HCA Reston Hospital Center   \n",
       "13               ALS EMERGENCY     Inova Fair Oaks Hospital   \n",
       "14               ALS EMERGENCY   HCA Reston Hospital Center   \n",
       "\n",
       "   Facility_Type_Of_Facility  \\\n",
       "0                   Hospital   \n",
       "1                   Hospital   \n",
       "2                   Hospital   \n",
       "3                   Hospital   \n",
       "4                   Hospital   \n",
       "5                   Hospital   \n",
       "6                   Hospital   \n",
       "7                   Hospital   \n",
       "8                   Hospital   \n",
       "9                   Hospital   \n",
       "10                  Hospital   \n",
       "11                  Hospital   \n",
       "12                  Hospital   \n",
       "13                  Hospital   \n",
       "14                  Hospital   \n",
       "\n",
       "                   Facility_Hospital_Designation_List Facility_Latitude  \\\n",
       "0   Designated Stroke Center,Hospital (General),Pe...         38.889271   \n",
       "1   Designated Stroke Center,Hospital (General),Pe...         38.889271   \n",
       "2   Designated Stroke Center,Hospital (General),Le...         38.857392   \n",
       "3   Designated Stroke Center,Hospital (General),Pe...         38.889271   \n",
       "4   Designated Stroke Center,Hospital (General),Pe...         38.889271   \n",
       "5   Designated Stroke Center,Hospital (General),Pe...         38.889271   \n",
       "6   Designated Stroke Center,Hospital (General),Le...         38.857392   \n",
       "7   Designated Stroke Center,Hospital (General),Le...         38.857392   \n",
       "8   Designated Stroke Center,Hospital (General),Le...         38.857392   \n",
       "9   Designated Stroke Center,Hospital (General),Le...         38.857392   \n",
       "10  Designated Stroke Center,Hospital (General),Le...         38.857392   \n",
       "11  Designated Stroke Center,Hospital (General),Le...         38.962328   \n",
       "12  Designated Stroke Center,Hospital (General),Le...         38.962328   \n",
       "13         Hospital (General),Pediatric Trauma Center         38.884529   \n",
       "14  Designated Stroke Center,Hospital (General),Le...         38.962328   \n",
       "\n",
       "    Facility_Longitude                              Facility_Full_Address  \n",
       "0            77.126523   1701 N. George Mason Drive, Arlington, Virgin...  \n",
       "1            77.126523   1701 N. George Mason Drive, Arlington, Virgin...  \n",
       "2            77.226309  3300 Gallows Road, West Falls Church, Virginia...  \n",
       "3            77.126523   1701 N. George Mason Drive, Arlington, Virgin...  \n",
       "4            77.126523   1701 N. George Mason Drive, Arlington, Virgin...  \n",
       "5            77.126523   1701 N. George Mason Drive, Arlington, Virgin...  \n",
       "6            77.226309  3300 Gallows Road, West Falls Church, Virginia...  \n",
       "7            77.226309  3300 Gallows Road, West Falls Church, Virginia...  \n",
       "8            77.226309  3300 Gallows Road, West Falls Church, Virginia...  \n",
       "9            77.226309  3300 Gallows Road, West Falls Church, Virginia...  \n",
       "10           77.226309  3300 Gallows Road, West Falls Church, Virginia...  \n",
       "11           77.363508  1850 Town Center Parkway, Reston, Virginia, 20...  \n",
       "12           77.363508  1850 Town Center Parkway, Reston, Virginia, 20...  \n",
       "13           77.379313  3600 Joseph Siewick Drive, Fairfax County, Vir...  \n",
       "14           77.363508  1850 Town Center Parkway, Reston, Virginia, 20...  \n",
       "\n",
       "[15 rows x 36 columns]"
      ]
     },
     "execution_count": 70,
     "metadata": {},
     "output_type": "execute_result"
    }
   ],
   "source": [
    "incidentpatientunitsfacilitiesmerge.head(15)"
   ]
  },
  {
   "cell_type": "code",
   "execution_count": 71,
   "metadata": {},
   "outputs": [
    {
     "data": {
      "text/plain": [
       "43"
      ]
     },
     "execution_count": 71,
     "metadata": {},
     "output_type": "execute_result"
    }
   ],
   "source": [
    "incidentpatientunitsfacilitiesmerge[\"TransportHospitalName\"].nunique()"
   ]
  },
  {
   "cell_type": "code",
   "execution_count": 72,
   "metadata": {},
   "outputs": [
    {
     "data": {
      "text/plain": [
       "Index(['TransportUnitID', 'UnitTransportedDT', 'UnitTransportedArrivalDT',\n",
       "       'TransportLOC', 'TransportHospitalName', 'ReasonForChoosingHospital',\n",
       "       'PatientAge', 'PrimaryImpression', 'SecondaryImpression',\n",
       "       'PatientDisposition', 'ResponseUnitID', 'UnitPrimaryActionTaken',\n",
       "       'UnitOtherActionsTaken', 'UnitType', 'ShiftDay', 'InitialIncidentType',\n",
       "       'DispatchedIncidentType', 'ArrivedIncidentType', 'FinalIncidentType',\n",
       "       'FinalIncidentTypeDescription', 'Facility_Name',\n",
       "       'Facility_Type_Of_Facility', 'Facility_Hospital_Designation_List',\n",
       "       'Facility_Full_Address'],\n",
       "      dtype='object')"
      ]
     },
     "execution_count": 72,
     "metadata": {},
     "output_type": "execute_result"
    }
   ],
   "source": [
    "# Categorical data types\n",
    "incidentpatientunitsfacilitiesmerge.select_dtypes(exclude=['int64','int','int32','float','datetime64[ns]']).columns"
   ]
  },
  {
   "cell_type": "code",
   "execution_count": 75,
   "metadata": {},
   "outputs": [
    {
     "data": {
      "text/plain": [
       "array(['Level 3: 1 Provider (ALS Care)', 'Level 4: 1 Provider (BLS Care)',\n",
       "       'Level 1: 3 or More Providers (ALS Care)',\n",
       "       'Level 2: 2 Providers (ALS Care)', '0'], dtype=object)"
      ]
     },
     "execution_count": 75,
     "metadata": {},
     "output_type": "execute_result"
    }
   ],
   "source": [
    "# \n",
    "incidentpatientunitsfacilitiesmerge.TransportLOC.unique()"
   ]
  },
  {
   "cell_type": "code",
   "execution_count": 76,
   "metadata": {},
   "outputs": [
    {
     "data": {
      "text/plain": [
       "array([ 1,  2, 34,  4, 36,  5, 37, 26,  8, 30, 10,  9, 24, 28, 11, 12, 39,\n",
       "       13, 41, 32, 14, 27, 23, 15, 21, 17, 16, 38, 18, 19, 20, 22, 40, 35,\n",
       "       25, 29, 42, 31], dtype=int64)"
      ]
     },
     "execution_count": 76,
     "metadata": {},
     "output_type": "execute_result"
    }
   ],
   "source": [
    "incidentpatientunitsfacilitiesmerge[\"UnitStation\"].unique()"
   ]
  },
  {
   "cell_type": "code",
   "execution_count": 77,
   "metadata": {},
   "outputs": [],
   "source": [
    "# TourOfShift: is categorical so converting it to string\n",
    "incidentpatientunitsfacilitiesmerge[\"TourOfShift\"] = incidentpatientunitsfacilitiesmerge.TourOfShift.astype(str)"
   ]
  },
  {
   "cell_type": "code",
   "execution_count": 78,
   "metadata": {},
   "outputs": [],
   "source": [
    "# IncidentFirstDue is within or outside fairfax so converting it to dummy\n",
    "incidentpatientunitsfacilitiesmerge.IncidentFirstDue.fillna(0, inplace=True)\n",
    "# df.loc[df['First season'] > 1990, 'First Season'] = 1\n",
    "incidentpatientunitsfacilitiesmerge.loc[incidentpatientunitsfacilitiesmerge.IncidentFirstDue != 0, \"IncidentFirstDue\"] =1"
   ]
  },
  {
   "cell_type": "code",
   "execution_count": 79,
   "metadata": {},
   "outputs": [
    {
     "data": {
      "text/plain": [
       "(127624, 36)"
      ]
     },
     "execution_count": 79,
     "metadata": {},
     "output_type": "execute_result"
    }
   ],
   "source": [
    "incidentpatientunitsfacilitiesmerge.dropna(inplace=True)\n",
    "incidentpatientunitsfacilitiesmerge.shape"
   ]
  },
  {
   "cell_type": "code",
   "execution_count": 80,
   "metadata": {},
   "outputs": [
    {
     "data": {
      "text/plain": [
       "Index(['PrimaryKey', 'PatientID', 'TransportUnitID', 'UnitTransportedDT',\n",
       "       'UnitTransportedArrivalDT', 'TransportLOC', 'TransportHospitalCode',\n",
       "       'TransportHospitalName', 'ReasonForChoosingHospital', 'PatientAge',\n",
       "       'PrimaryImpression', 'SecondaryImpression', 'PatientDisposition',\n",
       "       'ResponseUnitID', 'UnitPrimaryActionTaken', 'UnitOtherActionsTaken',\n",
       "       'UnitStation', 'UnitType', 'UnitArrivalOrder', 'Unit_LAT', 'Unit_LON',\n",
       "       'CallConfirmedDT', 'ShiftDay', 'TourOfShift', 'IncidentFirstDue',\n",
       "       'InitialIncidentType', 'DispatchedIncidentType', 'ArrivedIncidentType',\n",
       "       'FinalIncidentType', 'FinalIncidentTypeDescription', 'Facility_Name',\n",
       "       'Facility_Type_Of_Facility', 'Facility_Hospital_Designation_List',\n",
       "       'Facility_Latitude', 'Facility_Longitude', 'Facility_Full_Address'],\n",
       "      dtype='object')"
      ]
     },
     "execution_count": 80,
     "metadata": {},
     "output_type": "execute_result"
    }
   ],
   "source": [
    "incidentpatientunitsfacilitiesmerge.columns"
   ]
  },
  {
   "cell_type": "code",
   "execution_count": 81,
   "metadata": {},
   "outputs": [],
   "source": [
    "# haversine distance between facility and the unitstation\n",
    "incidentpatientunitsfacilitiesmerge['DistanceUnitToFacility'] = incidentpatientunitsfacilitiesmerge.apply(lambda x: haversine_distance(x['Unit_LON'],x['Unit_LAT'],x['Facility_Longitude'],x['Facility_Latitude']), axis=1)"
   ]
  },
  {
   "cell_type": "code",
   "execution_count": 76,
   "metadata": {},
   "outputs": [],
   "source": [
    "# incidentpatientunitsfacilitiesmerge.to_excel(\"dataset/withdistance.xlsx\", index=False)"
   ]
  },
  {
   "cell_type": "code",
   "execution_count": 82,
   "metadata": {},
   "outputs": [],
   "source": [
    "# InitialIncidentType\tDispatchedIncidentType\tArrivedIncidentType\tFinalIncidentType\tFinalIncidentTypeDescription\n",
    "# Highly corelated features - keeping only one makes sense\n",
    "incidentpatientunitsfacilitiesmerge = incidentpatientunitsfacilitiesmerge.drop(columns= [\"Unit_LAT\", \"Unit_LON\",\"Facility_Latitude\",\"Facility_Longitude\",\"InitialIncidentType\",\"DispatchedIncidentType\",\"ArrivedIncidentType\",\"FinalIncidentTypeDescription\" ])"
   ]
  },
  {
   "cell_type": "code",
   "execution_count": 83,
   "metadata": {},
   "outputs": [],
   "source": [
    "# Nominal values with large variance, like dates\n",
    "incidentpatientunitsfacilitiesmerge = incidentpatientunitsfacilitiesmerge.drop(columns= ['UnitTransportedDT', 'UnitTransportedArrivalDT','UnitOtherActionsTaken','SecondaryImpression'])"
   ]
  },
  {
   "cell_type": "code",
   "execution_count": 84,
   "metadata": {},
   "outputs": [],
   "source": [
    "# Its correlated to 'TransportUnitID_y'\n",
    "incidentpatientunitsfacilitiesmerge = incidentpatientunitsfacilitiesmerge.drop(columns= ['ResponseUnitID'])"
   ]
  },
  {
   "cell_type": "code",
   "execution_count": 85,
   "metadata": {},
   "outputs": [],
   "source": [
    "# Highly corelated with the TransportHospitalName\n",
    "incidentpatientunitsfacilitiesmerge = incidentpatientunitsfacilitiesmerge.drop(columns= ['TransportHospitalCode'])"
   ]
  },
  {
   "cell_type": "code",
   "execution_count": 87,
   "metadata": {},
   "outputs": [],
   "source": [
    "incidentpatientunitsfacilitiesmerge = incidentpatientunitsfacilitiesmerge.drop(columns= ['PrimaryKey', 'CallConfirmedDT'])\n",
    "# , 'CallConfirmedDT_x', 'CallConfirmedDT_y'"
   ]
  },
  {
   "cell_type": "code",
   "execution_count": 88,
   "metadata": {},
   "outputs": [
    {
     "data": {
      "text/plain": [
       "array(['ALS', 'BLS', 'ODF', 'ACCITF', 'SHOTF', 'ACCIF', 'CPRF', 'ACCIMF',\n",
       "       'ACCIHF', 'AMED', 'STABF', 'SUIAF', 'FBLDG', 'CAVEIN', 'FACCIF',\n",
       "       'PSERVF', 'FOUT', 'FTH', 'GFRESCUE', 'DROWNF', 'FHIRIS', 'RTRAP',\n",
       "       'ACCIBF', 'FGAPT', 'RSWIFT', 'GASIN', 'FVEHF', 'CODE1', 'ELEV',\n",
       "       'RWATER', 'INVF', 'SIG1F', 'FDACCITF', 'ASLTWF', 'FHOU', 'RESCUE',\n",
       "       'ALRMFD', 'FDACCIF', 'EMETROF', 'STILALRM', 'ECOD', 'HAZMAT',\n",
       "       'FDACCF', 'MEDICAL', 'FTRKF', 'FDACCIMF', 'RIVERF', 'LOCKF'],\n",
       "      dtype=object)"
      ]
     },
     "execution_count": 88,
     "metadata": {},
     "output_type": "execute_result"
    }
   ],
   "source": [
    "incidentpatientunitsfacilitiesmerge.FinalIncidentType.unique()"
   ]
  },
  {
   "cell_type": "code",
   "execution_count": 89,
   "metadata": {},
   "outputs": [
    {
     "data": {
      "text/plain": [
       "array(['B', 'A', 'C'], dtype=object)"
      ]
     },
     "execution_count": 89,
     "metadata": {},
     "output_type": "execute_result"
    }
   ],
   "source": [
    "# \n",
    "incidentpatientunitsfacilitiesmerge.ShiftDay.unique()"
   ]
  },
  {
   "cell_type": "code",
   "execution_count": 90,
   "metadata": {},
   "outputs": [
    {
     "data": {
      "text/plain": [
       "array([ 1,  2, 34,  4, 36,  5, 37, 26,  8, 30, 10,  9, 24, 28, 11, 12, 39,\n",
       "       13, 41, 32, 14, 27, 23, 15, 21, 17, 16, 38, 18, 19, 20, 22, 40, 35,\n",
       "       25, 29, 42, 31], dtype=int64)"
      ]
     },
     "execution_count": 90,
     "metadata": {},
     "output_type": "execute_result"
    }
   ],
   "source": [
    "# mapping 'PRV' to 111, Drop TA only few values\n",
    "incidentpatientunitsfacilitiesmerge.UnitStation.unique()"
   ]
  },
  {
   "cell_type": "code",
   "execution_count": 91,
   "metadata": {},
   "outputs": [],
   "source": [
    "# Replace 'PRV' with 111\n",
    "# incidentpatientunitsfacilitiesmerge = incidentpatientunitsfacilitiesmerge.assign(UnitStation= incidentpatientunitsfacilitiesmerge['UnitStation'].replace('PRV',111))"
   ]
  },
  {
   "cell_type": "code",
   "execution_count": 92,
   "metadata": {},
   "outputs": [],
   "source": [
    "# Drop TA, UnitStation as very few records\n",
    "# incidentpatientunitsfacilitiesmerge.drop(index=incidentpatientunitsfacilitiesmerge[incidentpatientunitsfacilitiesmerge['UnitStation'] == 'TA'].index, inplace=True)"
   ]
  },
  {
   "cell_type": "code",
   "execution_count": 93,
   "metadata": {},
   "outputs": [],
   "source": [
    "# incidentpatientunitsfacilitiesmerge['UnitStation'] = incidentpatientunitsfacilitiesmerge['UnitStation'].astype(object).astype(int)"
   ]
  },
  {
   "cell_type": "code",
   "execution_count": 94,
   "metadata": {},
   "outputs": [
    {
     "data": {
      "text/plain": [
       "array(['Medic', 'Ambulance', 'Engine', 'EMS Supervisor', 'Truck'],\n",
       "      dtype=object)"
      ]
     },
     "execution_count": 94,
     "metadata": {},
     "output_type": "execute_result"
    }
   ],
   "source": [
    "# \n",
    "incidentpatientunitsfacilitiesmerge.UnitType.unique()"
   ]
  },
  {
   "cell_type": "code",
   "execution_count": 96,
   "metadata": {},
   "outputs": [
    {
     "data": {
      "text/plain": [
       "array(['Level 3: 1 Provider (ALS Care)', 'Level 4: 1 Provider (BLS Care)',\n",
       "       'Level 1: 3 or More Providers (ALS Care)',\n",
       "       'Level 2: 2 Providers (ALS Care)', '0'], dtype=object)"
      ]
     },
     "execution_count": 96,
     "metadata": {},
     "output_type": "execute_result"
    }
   ],
   "source": [
    "# \n",
    "incidentpatientunitsmerge.TransportLOC.unique()"
   ]
  },
  {
   "cell_type": "code",
   "execution_count": 97,
   "metadata": {},
   "outputs": [
    {
     "data": {
      "text/plain": [
       "array(['M401', 'M402', 'M434', 'M404', 'M436', 'M405', 'M437', 'M426',\n",
       "       'M408', 'M408B', 'M430', 'M410B', 'M409B', 'M409', 'M424', 'M410',\n",
       "       'M428', 'A410E', 'M411B', 'M411', 'M412', 'M439', 'M413', 'M441',\n",
       "       'M432', 'M414', 'M427', 'M423', 'E415', 'M415', 'M421', 'M417',\n",
       "       'M416', 'M438', 'M418', 'M419', 'M420', 'M422', 'M440', 'M435',\n",
       "       'M425', 'M429', 'M442', 'M431', 'A414E', 'M401E', 'E401', 'M412E',\n",
       "       'A422E', 'A402E', 'M422B', 'EMS403', 'R418', 'A421E', 'E411',\n",
       "       'E439', 'A414', 'E418', 'A413E', 'E442', 'M405E', 'A402', 'TL430',\n",
       "       'E440', 'A438E', 'R411', 'TL436', 'M417E', 'A405E', 'E430', 'E423',\n",
       "       'TL440', 'E409', 'E402B', 'TL401', 'A417E', 'M414E', 'E428',\n",
       "       'R439', 'A401E', 'A417', 'HM440', 'R401', 'E405', 'A437E', 'A422',\n",
       "       'TL405', 'E417', 'M422E', 'R421', 'E402', 'E413', 'A410', 'E404',\n",
       "       'E421', 'E410', 'A401', 'A408E', 'M402B', 'A412E', 'E436', 'E432',\n",
       "       'T429', 'T411', 'E434', 'E437', 'E438', 'TT430', 'E429', 'E420',\n",
       "       'R426', 'E426', 'E408', 'E414', 'T438', 'M402E', 'A413', 'T430',\n",
       "       'M414B', 'EMS404', 'A422F', 'EMS405', 'E435', 'R414', 'T422',\n",
       "       'M417B', 'M401B', 'EMS401', 'E422', 'TL438', 'E424'], dtype=object)"
      ]
     },
     "execution_count": 97,
     "metadata": {},
     "output_type": "execute_result"
    }
   ],
   "source": [
    "incidentpatientunitsmerge.TransportUnitID.unique()"
   ]
  },
  {
   "cell_type": "code",
   "execution_count": 98,
   "metadata": {},
   "outputs": [],
   "source": [
    "# keep only numbers in TransportUnitID\n",
    "incidentpatientunitsfacilitiesmerge['TransportUnitID']  = incidentpatientunitsfacilitiesmerge['TransportUnitID'] .apply(lambda row: re.sub(\"[^0-9]\", \"\", row))"
   ]
  },
  {
   "cell_type": "code",
   "execution_count": 99,
   "metadata": {},
   "outputs": [
    {
     "data": {
      "text/plain": [
       "array(['401', '402', '434', '404', '436', '405', '437', '426', '408',\n",
       "       '430', '410', '409', '424', '428', '411', '412', '439', '413',\n",
       "       '441', '432', '414', '427', '423', '415', '421', '417', '416',\n",
       "       '438', '418', '419', '420', '422', '440', '435', '425', '429',\n",
       "       '442', '431'], dtype=object)"
      ]
     },
     "execution_count": 99,
     "metadata": {},
     "output_type": "execute_result"
    }
   ],
   "source": [
    "incidentpatientunitsfacilitiesmerge.TransportUnitID.unique()"
   ]
  },
  {
   "cell_type": "code",
   "execution_count": 100,
   "metadata": {},
   "outputs": [],
   "source": [
    "# incidentpatientunitsfacilitiesmerge['TransportHospitalCode'].unique()"
   ]
  },
  {
   "cell_type": "code",
   "execution_count": 101,
   "metadata": {},
   "outputs": [],
   "source": [
    "# incidentpatientunitsfacilitiesmerge.loc[incidentpatientunitsfacilitiesmerge['TransportHospitalCode'] == 'No Hospital service', 'TransportHospitalCode'] = 111\n",
    "# incidentpatientunitsfacilitiesmerge['TransportHospitalCode'] = incidentpatientunitsfacilitiesmerge['TransportHospitalCode'].astype(int)"
   ]
  },
  {
   "cell_type": "code",
   "execution_count": 102,
   "metadata": {},
   "outputs": [],
   "source": [
    "# explore PrimaryImpression\n",
    "# t = incidentpatientunitsfacilitiesmerge.PrimaryImpression.apply(lambda s: s.split(\"-\")[0].strip())\n",
    "# incidentpatientunitsfacilitiesmerge.PrimaryImpression[t == \"Neuro\"].value_counts()\n",
    "# incidentpatientunitsfacilitiesmerge.PrimaryImpression.apply(lambda s: s.split(\"-\")[0]).value_counts()"
   ]
  },
  {
   "cell_type": "code",
   "execution_count": 103,
   "metadata": {
    "scrolled": true
   },
   "outputs": [
    {
     "data": {
      "text/plain": [
       "Medic             125872\n",
       "Ambulance           1736\n",
       "Engine                13\n",
       "EMS Supervisor         2\n",
       "Truck                  1\n",
       "Name: UnitType, dtype: int64"
      ]
     },
     "execution_count": 103,
     "metadata": {},
     "output_type": "execute_result"
    }
   ],
   "source": [
    "incidentpatientunitsfacilitiesmerge.UnitType.value_counts()"
   ]
  },
  {
   "cell_type": "code",
   "execution_count": 104,
   "metadata": {},
   "outputs": [],
   "source": [
    "# dropping features\n",
    "# incidentpatientunitsfacilitiesmerge = incidentpatientunitsfacilitiesmerge.drop(columns= ['UnitPrimaryActionTaken','UnitType','PrimaryImpression'])"
   ]
  },
  {
   "cell_type": "code",
   "execution_count": 105,
   "metadata": {},
   "outputs": [],
   "source": [
    "# dropping features - correlated to response\n",
    "incidentpatientunitsfacilitiesmerge = incidentpatientunitsfacilitiesmerge.drop(columns= ['Facility_Name','Facility_Full_Address', 'Facility_Type_Of_Facility', \"Facility_Hospital_Designation_List\"])"
   ]
  },
  {
   "cell_type": "code",
   "execution_count": 106,
   "metadata": {},
   "outputs": [],
   "source": [
    "# Drop ID \n",
    "incidentpatientunitsfacilitiesmerge.drop(columns= [\"PatientID\"], inplace=True)"
   ]
  },
  {
   "cell_type": "code",
   "execution_count": 107,
   "metadata": {},
   "outputs": [
    {
     "data": {
      "text/plain": [
       "Index(['TransportUnitID', 'TransportLOC', 'TransportHospitalName',\n",
       "       'ReasonForChoosingHospital', 'PatientAge', 'PrimaryImpression',\n",
       "       'PatientDisposition', 'UnitPrimaryActionTaken', 'UnitType', 'ShiftDay',\n",
       "       'TourOfShift', 'FinalIncidentType'],\n",
       "      dtype='object')"
      ]
     },
     "execution_count": 107,
     "metadata": {},
     "output_type": "execute_result"
    }
   ],
   "source": [
    "incidentpatientunitsfacilitiesmerge.select_dtypes(exclude=['int64','int','int32','float','datetime64[ns]']).columns"
   ]
  },
  {
   "cell_type": "code",
   "execution_count": 110,
   "metadata": {},
   "outputs": [],
   "source": [
    "# Categorical data types\n",
    "Feature_list = ['TransportUnitID', 'TransportLOC', \n",
    "       'ReasonForChoosingHospital', 'PatientAge', 'PrimaryImpression',\n",
    "       'PatientDisposition', 'UnitPrimaryActionTaken', 'UnitType', 'ShiftDay',\n",
    "       'TourOfShift', 'FinalIncidentType']\n"
   ]
  },
  {
   "cell_type": "code",
   "execution_count": 111,
   "metadata": {},
   "outputs": [],
   "source": [
    "subset_dataframe_featurelist=[]\n",
    "for variable in Feature_list:\n",
    "    subset_dataframe_featurelist.append(pd.get_dummies(incidentpatientunitsfacilitiesmerge[variable],prefix=variable, dummy_na=False))"
   ]
  },
  {
   "cell_type": "code",
   "execution_count": 112,
   "metadata": {},
   "outputs": [
    {
     "data": {
      "text/plain": [
       "(127624, 609)"
      ]
     },
     "execution_count": 112,
     "metadata": {},
     "output_type": "execute_result"
    }
   ],
   "source": [
    "merged_subset_dataframe_featurelist = pd.concat(subset_dataframe_featurelist, axis=1)\n",
    "merged_subset_dataframe_featurelist.shape"
   ]
  },
  {
   "cell_type": "code",
   "execution_count": 113,
   "metadata": {},
   "outputs": [
    {
     "name": "stdout",
     "output_type": "stream",
     "text": [
      "Wall time: 110 ms\n"
     ]
    },
    {
     "data": {
      "text/plain": [
       "(127624, 625)"
      ]
     },
     "execution_count": 113,
     "metadata": {},
     "output_type": "execute_result"
    }
   ],
   "source": [
    "%%time\n",
    "incidentpatientunitsmerged = pd.concat([merged_subset_dataframe_featurelist, incidentpatientunitsfacilitiesmerge], axis=1)\n",
    "incidentpatientunitsmerged.shape"
   ]
  },
  {
   "cell_type": "code",
   "execution_count": 114,
   "metadata": {},
   "outputs": [
    {
     "data": {
      "text/plain": [
       "(127624, 614)"
      ]
     },
     "execution_count": 114,
     "metadata": {},
     "output_type": "execute_result"
    }
   ],
   "source": [
    "# Drop nominal features already converted in numerical features using get_dummies\n",
    "incidentpatientunitsmerged.drop(Feature_list, axis=1, inplace=True)\n",
    "incidentpatientunitsmerged.shape"
   ]
  },
  {
   "cell_type": "code",
   "execution_count": 115,
   "metadata": {},
   "outputs": [
    {
     "data": {
      "text/html": [
       "<div>\n",
       "<style scoped>\n",
       "    .dataframe tbody tr th:only-of-type {\n",
       "        vertical-align: middle;\n",
       "    }\n",
       "\n",
       "    .dataframe tbody tr th {\n",
       "        vertical-align: top;\n",
       "    }\n",
       "\n",
       "    .dataframe thead th {\n",
       "        text-align: right;\n",
       "    }\n",
       "</style>\n",
       "<table border=\"1\" class=\"dataframe\">\n",
       "  <thead>\n",
       "    <tr style=\"text-align: right;\">\n",
       "      <th></th>\n",
       "      <th>TransportUnitID_401</th>\n",
       "      <th>TransportUnitID_402</th>\n",
       "      <th>TransportUnitID_404</th>\n",
       "      <th>TransportUnitID_405</th>\n",
       "      <th>TransportUnitID_408</th>\n",
       "      <th>TransportUnitID_409</th>\n",
       "      <th>TransportUnitID_410</th>\n",
       "      <th>TransportUnitID_411</th>\n",
       "      <th>TransportUnitID_412</th>\n",
       "      <th>TransportUnitID_413</th>\n",
       "      <th>...</th>\n",
       "      <th>FinalIncidentType_SHOTF</th>\n",
       "      <th>FinalIncidentType_SIG1F</th>\n",
       "      <th>FinalIncidentType_STABF</th>\n",
       "      <th>FinalIncidentType_STILALRM</th>\n",
       "      <th>FinalIncidentType_SUIAF</th>\n",
       "      <th>TransportHospitalName</th>\n",
       "      <th>UnitStation</th>\n",
       "      <th>UnitArrivalOrder</th>\n",
       "      <th>IncidentFirstDue</th>\n",
       "      <th>DistanceUnitToFacility</th>\n",
       "    </tr>\n",
       "  </thead>\n",
       "  <tbody>\n",
       "    <tr>\n",
       "      <th>0</th>\n",
       "      <td>1</td>\n",
       "      <td>0</td>\n",
       "      <td>0</td>\n",
       "      <td>0</td>\n",
       "      <td>0</td>\n",
       "      <td>0</td>\n",
       "      <td>0</td>\n",
       "      <td>0</td>\n",
       "      <td>0</td>\n",
       "      <td>0</td>\n",
       "      <td>...</td>\n",
       "      <td>0</td>\n",
       "      <td>0</td>\n",
       "      <td>0</td>\n",
       "      <td>0</td>\n",
       "      <td>0</td>\n",
       "      <td>Virginia Hospital Center</td>\n",
       "      <td>1</td>\n",
       "      <td>1</td>\n",
       "      <td>1.0</td>\n",
       "      <td>4.013841</td>\n",
       "    </tr>\n",
       "    <tr>\n",
       "      <th>1</th>\n",
       "      <td>1</td>\n",
       "      <td>0</td>\n",
       "      <td>0</td>\n",
       "      <td>0</td>\n",
       "      <td>0</td>\n",
       "      <td>0</td>\n",
       "      <td>0</td>\n",
       "      <td>0</td>\n",
       "      <td>0</td>\n",
       "      <td>0</td>\n",
       "      <td>...</td>\n",
       "      <td>0</td>\n",
       "      <td>0</td>\n",
       "      <td>0</td>\n",
       "      <td>0</td>\n",
       "      <td>0</td>\n",
       "      <td>Virginia Hospital Center</td>\n",
       "      <td>1</td>\n",
       "      <td>1</td>\n",
       "      <td>1.0</td>\n",
       "      <td>4.013841</td>\n",
       "    </tr>\n",
       "    <tr>\n",
       "      <th>2</th>\n",
       "      <td>1</td>\n",
       "      <td>0</td>\n",
       "      <td>0</td>\n",
       "      <td>0</td>\n",
       "      <td>0</td>\n",
       "      <td>0</td>\n",
       "      <td>0</td>\n",
       "      <td>0</td>\n",
       "      <td>0</td>\n",
       "      <td>0</td>\n",
       "      <td>...</td>\n",
       "      <td>0</td>\n",
       "      <td>0</td>\n",
       "      <td>0</td>\n",
       "      <td>0</td>\n",
       "      <td>0</td>\n",
       "      <td>Fairfax Hospital</td>\n",
       "      <td>1</td>\n",
       "      <td>2</td>\n",
       "      <td>1.0</td>\n",
       "      <td>5.756173</td>\n",
       "    </tr>\n",
       "    <tr>\n",
       "      <th>3</th>\n",
       "      <td>1</td>\n",
       "      <td>0</td>\n",
       "      <td>0</td>\n",
       "      <td>0</td>\n",
       "      <td>0</td>\n",
       "      <td>0</td>\n",
       "      <td>0</td>\n",
       "      <td>0</td>\n",
       "      <td>0</td>\n",
       "      <td>0</td>\n",
       "      <td>...</td>\n",
       "      <td>0</td>\n",
       "      <td>0</td>\n",
       "      <td>0</td>\n",
       "      <td>0</td>\n",
       "      <td>0</td>\n",
       "      <td>Virginia Hospital Center</td>\n",
       "      <td>1</td>\n",
       "      <td>1</td>\n",
       "      <td>1.0</td>\n",
       "      <td>4.013841</td>\n",
       "    </tr>\n",
       "    <tr>\n",
       "      <th>4</th>\n",
       "      <td>1</td>\n",
       "      <td>0</td>\n",
       "      <td>0</td>\n",
       "      <td>0</td>\n",
       "      <td>0</td>\n",
       "      <td>0</td>\n",
       "      <td>0</td>\n",
       "      <td>0</td>\n",
       "      <td>0</td>\n",
       "      <td>0</td>\n",
       "      <td>...</td>\n",
       "      <td>0</td>\n",
       "      <td>0</td>\n",
       "      <td>0</td>\n",
       "      <td>0</td>\n",
       "      <td>0</td>\n",
       "      <td>Virginia Hospital Center</td>\n",
       "      <td>1</td>\n",
       "      <td>2</td>\n",
       "      <td>1.0</td>\n",
       "      <td>4.013841</td>\n",
       "    </tr>\n",
       "  </tbody>\n",
       "</table>\n",
       "<p>5 rows × 614 columns</p>\n",
       "</div>"
      ],
      "text/plain": [
       "   TransportUnitID_401  TransportUnitID_402  TransportUnitID_404  \\\n",
       "0                    1                    0                    0   \n",
       "1                    1                    0                    0   \n",
       "2                    1                    0                    0   \n",
       "3                    1                    0                    0   \n",
       "4                    1                    0                    0   \n",
       "\n",
       "   TransportUnitID_405  TransportUnitID_408  TransportUnitID_409  \\\n",
       "0                    0                    0                    0   \n",
       "1                    0                    0                    0   \n",
       "2                    0                    0                    0   \n",
       "3                    0                    0                    0   \n",
       "4                    0                    0                    0   \n",
       "\n",
       "   TransportUnitID_410  TransportUnitID_411  TransportUnitID_412  \\\n",
       "0                    0                    0                    0   \n",
       "1                    0                    0                    0   \n",
       "2                    0                    0                    0   \n",
       "3                    0                    0                    0   \n",
       "4                    0                    0                    0   \n",
       "\n",
       "   TransportUnitID_413  ...  FinalIncidentType_SHOTF  FinalIncidentType_SIG1F  \\\n",
       "0                    0  ...                        0                        0   \n",
       "1                    0  ...                        0                        0   \n",
       "2                    0  ...                        0                        0   \n",
       "3                    0  ...                        0                        0   \n",
       "4                    0  ...                        0                        0   \n",
       "\n",
       "   FinalIncidentType_STABF  FinalIncidentType_STILALRM  \\\n",
       "0                        0                           0   \n",
       "1                        0                           0   \n",
       "2                        0                           0   \n",
       "3                        0                           0   \n",
       "4                        0                           0   \n",
       "\n",
       "   FinalIncidentType_SUIAF     TransportHospitalName  UnitStation  \\\n",
       "0                        0  Virginia Hospital Center            1   \n",
       "1                        0  Virginia Hospital Center            1   \n",
       "2                        0          Fairfax Hospital            1   \n",
       "3                        0  Virginia Hospital Center            1   \n",
       "4                        0  Virginia Hospital Center            1   \n",
       "\n",
       "   UnitArrivalOrder  IncidentFirstDue  DistanceUnitToFacility  \n",
       "0                 1               1.0                4.013841  \n",
       "1                 1               1.0                4.013841  \n",
       "2                 2               1.0                5.756173  \n",
       "3                 1               1.0                4.013841  \n",
       "4                 2               1.0                4.013841  \n",
       "\n",
       "[5 rows x 614 columns]"
      ]
     },
     "execution_count": 115,
     "metadata": {},
     "output_type": "execute_result"
    }
   ],
   "source": [
    "incidentpatientunitsmerged.head(5)"
   ]
  },
  {
   "cell_type": "code",
   "execution_count": 116,
   "metadata": {
    "id": "f2dd8792"
   },
   "outputs": [
    {
     "data": {
      "text/plain": [
       "(127624, 613)"
      ]
     },
     "execution_count": 116,
     "metadata": {},
     "output_type": "execute_result"
    }
   ],
   "source": [
    "X= incidentpatientunitsmerged.drop(columns = ['TransportHospitalName'])\n",
    "X.shape"
   ]
  },
  {
   "cell_type": "code",
   "execution_count": 117,
   "metadata": {},
   "outputs": [],
   "source": [
    "y = incidentpatientunitsmerged['TransportHospitalName']"
   ]
  },
  {
   "cell_type": "code",
   "execution_count": 118,
   "metadata": {},
   "outputs": [
    {
     "data": {
      "text/plain": [
       "((127624, 613), (127624,))"
      ]
     },
     "execution_count": 118,
     "metadata": {},
     "output_type": "execute_result"
    }
   ],
   "source": [
    "X.shape, y.shape"
   ]
  },
  {
   "cell_type": "code",
   "execution_count": 119,
   "metadata": {},
   "outputs": [],
   "source": [
    "# remove weird charachters in column names: https://stackoverflow.com/a/62364946/5977874\n",
    "import re\n",
    "X = X.rename(columns = lambda x:re.sub('[^A-Za-z0-9_]+', '', x))\n",
    "X.drop(columns=\"UnitType_Engine\", inplace=True) # becomes duplicated"
   ]
  },
  {
   "cell_type": "code",
   "execution_count": 120,
   "metadata": {},
   "outputs": [
    {
     "name": "stdout",
     "output_type": "stream",
     "text": [
      "(89336, 612) (38288, 612)\n"
     ]
    }
   ],
   "source": [
    "# Using train_test_split() to randomly split the given training dataset into training and test\n",
    "# data by 70:30 percent ratio respectively. \n",
    "# X_train, X_test, y_train, y_test = train_test_split(X, y, test_size=0.3, random_state=20)\n",
    "# print(X_train.shape,X_test.shape)"
   ]
  },
  {
   "cell_type": "code",
   "execution_count": 121,
   "metadata": {},
   "outputs": [],
   "source": [
    "clfRandom_2 = RandomForestClassifier(bootstrap=True, random_state=0, class_weight=None, criterion='gini',\n",
    "            max_depth=None, max_features='auto', max_leaf_nodes=None,\n",
    "            min_impurity_decrease=0.0, min_impurity_split=None,\n",
    "            min_samples_leaf=1, min_samples_split=2,\n",
    "            min_weight_fraction_leaf=0.0, n_estimators=25, n_jobs=1,\n",
    "            oob_score=False, verbose=0,\n",
    "            warm_start=False)"
   ]
  },
  {
   "cell_type": "code",
   "execution_count": 122,
   "metadata": {},
   "outputs": [],
   "source": [
    "pipe = Pipeline([\n",
    "    ('rf', clfRandom_2)\n",
    "])"
   ]
  },
  {
   "cell_type": "code",
   "execution_count": 123,
   "metadata": {},
   "outputs": [],
   "source": [
    "parameters = {\n",
    "    'rf__n_estimators': [10,25],\n",
    "    'rf__max_depth': [5,15]\n",
    "    \n",
    "}"
   ]
  },
  {
   "cell_type": "code",
   "execution_count": 124,
   "metadata": {},
   "outputs": [],
   "source": [
    "# Model 1\n",
    "clf_GS_Model_RF2_1 = GridSearchCV(pipe, parameters, scoring=make_scorer(f1_score, average='weighted'))"
   ]
  },
  {
   "cell_type": "code",
   "execution_count": 125,
   "metadata": {},
   "outputs": [
    {
     "name": "stderr",
     "output_type": "stream",
     "text": [
      "D:\\Softwares\\anaconda3\\lib\\site-packages\\sklearn\\model_selection\\_split.py:667: UserWarning: The least populated class in y has only 1 members, which is less than n_splits=5.\n",
      "  % (min_groups, self.n_splits)), UserWarning)\n"
     ]
    },
    {
     "name": "stdout",
     "output_type": "stream",
     "text": [
      "Wall time: 1min 13s\n"
     ]
    },
    {
     "data": {
      "text/plain": [
       "GridSearchCV(cv=None, error_score=nan,\n",
       "             estimator=Pipeline(memory=None,\n",
       "                                steps=[('rf',\n",
       "                                        RandomForestClassifier(bootstrap=True,\n",
       "                                                               ccp_alpha=0.0,\n",
       "                                                               class_weight=None,\n",
       "                                                               criterion='gini',\n",
       "                                                               max_depth=None,\n",
       "                                                               max_features='auto',\n",
       "                                                               max_leaf_nodes=None,\n",
       "                                                               max_samples=None,\n",
       "                                                               min_impurity_decrease=0.0,\n",
       "                                                               min_impurity_split=None,\n",
       "                                                               min_samples_leaf=1,\n",
       "                                                               min_samples_split=2,\n",
       "                                                               min_weight_fraction_leaf=0.0,\n",
       "                                                               n_estimators=25,\n",
       "                                                               n_jobs=1,\n",
       "                                                               oob_score=False,\n",
       "                                                               random_state=0,\n",
       "                                                               verbose=0,\n",
       "                                                               warm_start=False))],\n",
       "                                verbose=False),\n",
       "             iid='deprecated', n_jobs=None,\n",
       "             param_grid={'rf__max_depth': [5, 15],\n",
       "                         'rf__n_estimators': [10, 25]},\n",
       "             pre_dispatch='2*n_jobs', refit=True, return_train_score=False,\n",
       "             scoring=make_scorer(f1_score, average=weighted), verbose=0)"
      ]
     },
     "execution_count": 125,
     "metadata": {},
     "output_type": "execute_result"
    }
   ],
   "source": [
    "%time clf_GS_Model_RF2_1.fit(X, y)"
   ]
  },
  {
   "cell_type": "code",
   "execution_count": 126,
   "metadata": {},
   "outputs": [
    {
     "data": {
      "text/html": [
       "<div>\n",
       "<style scoped>\n",
       "    .dataframe tbody tr th:only-of-type {\n",
       "        vertical-align: middle;\n",
       "    }\n",
       "\n",
       "    .dataframe tbody tr th {\n",
       "        vertical-align: top;\n",
       "    }\n",
       "\n",
       "    .dataframe thead th {\n",
       "        text-align: right;\n",
       "    }\n",
       "</style>\n",
       "<table border=\"1\" class=\"dataframe\">\n",
       "  <thead>\n",
       "    <tr style=\"text-align: right;\">\n",
       "      <th></th>\n",
       "      <th>mean_fit_time</th>\n",
       "      <th>std_fit_time</th>\n",
       "      <th>mean_score_time</th>\n",
       "      <th>std_score_time</th>\n",
       "      <th>param_rf__max_depth</th>\n",
       "      <th>param_rf__n_estimators</th>\n",
       "      <th>params</th>\n",
       "      <th>split0_test_score</th>\n",
       "      <th>split1_test_score</th>\n",
       "      <th>split2_test_score</th>\n",
       "      <th>split3_test_score</th>\n",
       "      <th>split4_test_score</th>\n",
       "      <th>mean_test_score</th>\n",
       "      <th>std_test_score</th>\n",
       "      <th>rank_test_score</th>\n",
       "    </tr>\n",
       "  </thead>\n",
       "  <tbody>\n",
       "    <tr>\n",
       "      <th>3</th>\n",
       "      <td>5.600965</td>\n",
       "      <td>0.122989</td>\n",
       "      <td>0.512901</td>\n",
       "      <td>0.018088</td>\n",
       "      <td>15</td>\n",
       "      <td>25</td>\n",
       "      <td>{'rf__max_depth': 15, 'rf__n_estimators': 25}</td>\n",
       "      <td>0.676126</td>\n",
       "      <td>0.659655</td>\n",
       "      <td>0.668941</td>\n",
       "      <td>0.669382</td>\n",
       "      <td>0.662435</td>\n",
       "      <td>0.667308</td>\n",
       "      <td>0.005780</td>\n",
       "      <td>1</td>\n",
       "    </tr>\n",
       "    <tr>\n",
       "      <th>2</th>\n",
       "      <td>2.580520</td>\n",
       "      <td>0.044847</td>\n",
       "      <td>0.344591</td>\n",
       "      <td>0.009807</td>\n",
       "      <td>15</td>\n",
       "      <td>10</td>\n",
       "      <td>{'rf__max_depth': 15, 'rf__n_estimators': 10}</td>\n",
       "      <td>0.651187</td>\n",
       "      <td>0.639538</td>\n",
       "      <td>0.642443</td>\n",
       "      <td>0.645116</td>\n",
       "      <td>0.651374</td>\n",
       "      <td>0.645932</td>\n",
       "      <td>0.004711</td>\n",
       "      <td>2</td>\n",
       "    </tr>\n",
       "    <tr>\n",
       "      <th>0</th>\n",
       "      <td>1.252075</td>\n",
       "      <td>0.040344</td>\n",
       "      <td>0.316423</td>\n",
       "      <td>0.010634</td>\n",
       "      <td>5</td>\n",
       "      <td>10</td>\n",
       "      <td>{'rf__max_depth': 5, 'rf__n_estimators': 10}</td>\n",
       "      <td>0.405199</td>\n",
       "      <td>0.383477</td>\n",
       "      <td>0.407074</td>\n",
       "      <td>0.436655</td>\n",
       "      <td>0.363598</td>\n",
       "      <td>0.399200</td>\n",
       "      <td>0.024558</td>\n",
       "      <td>3</td>\n",
       "    </tr>\n",
       "    <tr>\n",
       "      <th>1</th>\n",
       "      <td>2.101989</td>\n",
       "      <td>0.029407</td>\n",
       "      <td>0.437345</td>\n",
       "      <td>0.007911</td>\n",
       "      <td>5</td>\n",
       "      <td>25</td>\n",
       "      <td>{'rf__max_depth': 5, 'rf__n_estimators': 25}</td>\n",
       "      <td>0.404676</td>\n",
       "      <td>0.344786</td>\n",
       "      <td>0.388406</td>\n",
       "      <td>0.370397</td>\n",
       "      <td>0.347154</td>\n",
       "      <td>0.371084</td>\n",
       "      <td>0.023208</td>\n",
       "      <td>4</td>\n",
       "    </tr>\n",
       "  </tbody>\n",
       "</table>\n",
       "</div>"
      ],
      "text/plain": [
       "   mean_fit_time  std_fit_time  mean_score_time  std_score_time  \\\n",
       "3       5.600965      0.122989         0.512901        0.018088   \n",
       "2       2.580520      0.044847         0.344591        0.009807   \n",
       "0       1.252075      0.040344         0.316423        0.010634   \n",
       "1       2.101989      0.029407         0.437345        0.007911   \n",
       "\n",
       "  param_rf__max_depth param_rf__n_estimators  \\\n",
       "3                  15                     25   \n",
       "2                  15                     10   \n",
       "0                   5                     10   \n",
       "1                   5                     25   \n",
       "\n",
       "                                          params  split0_test_score  \\\n",
       "3  {'rf__max_depth': 15, 'rf__n_estimators': 25}           0.676126   \n",
       "2  {'rf__max_depth': 15, 'rf__n_estimators': 10}           0.651187   \n",
       "0   {'rf__max_depth': 5, 'rf__n_estimators': 10}           0.405199   \n",
       "1   {'rf__max_depth': 5, 'rf__n_estimators': 25}           0.404676   \n",
       "\n",
       "   split1_test_score  split2_test_score  split3_test_score  split4_test_score  \\\n",
       "3           0.659655           0.668941           0.669382           0.662435   \n",
       "2           0.639538           0.642443           0.645116           0.651374   \n",
       "0           0.383477           0.407074           0.436655           0.363598   \n",
       "1           0.344786           0.388406           0.370397           0.347154   \n",
       "\n",
       "   mean_test_score  std_test_score  rank_test_score  \n",
       "3         0.667308        0.005780                1  \n",
       "2         0.645932        0.004711                2  \n",
       "0         0.399200        0.024558                3  \n",
       "1         0.371084        0.023208                4  "
      ]
     },
     "execution_count": 126,
     "metadata": {},
     "output_type": "execute_result"
    }
   ],
   "source": [
    "pd.DataFrame(clf_GS_Model_RF2_1.cv_results_).sort_values(\"rank_test_score\").head(5)"
   ]
  },
  {
   "cell_type": "code",
   "execution_count": 127,
   "metadata": {},
   "outputs": [
    {
     "name": "stdout",
     "output_type": "stream",
     "text": [
      "Best n estimator: 25\n",
      "Best max_depth: 15\n",
      "Best min_samples_split: 2\n"
     ]
    }
   ],
   "source": [
    "# Viewing The Best Parameters\n",
    "print('Best n estimator:', clf_GS_Model_RF2_1.best_estimator_.get_params()['rf__n_estimators'])\n",
    "print('Best max_depth:', clf_GS_Model_RF2_1.best_estimator_.get_params()['rf__max_depth'])\n",
    "print('Best min_samples_split:', clf_GS_Model_RF2_1.best_estimator_.get_params()['rf__min_samples_split'])"
   ]
  },
  {
   "cell_type": "code",
   "execution_count": 129,
   "metadata": {},
   "outputs": [],
   "source": [
    "# y_train_pred = clf_GS_Model_RF2_1.best_estimator_.predict(X_train)\n",
    "# # y_train_pred = clfRandom.predict(X_train)\n",
    "\n",
    "# f1_score(y_train, y_train_pred,average='weighted')"
   ]
  },
  {
   "cell_type": "code",
   "execution_count": 128,
   "metadata": {},
   "outputs": [],
   "source": [
    "# print(classification_report(y_train,y_train_pred))"
   ]
  },
  {
   "cell_type": "code",
   "execution_count": 130,
   "metadata": {},
   "outputs": [
    {
     "data": {
      "text/plain": [
       "0.6952817291911958"
      ]
     },
     "execution_count": 130,
     "metadata": {},
     "output_type": "execute_result"
    }
   ],
   "source": [
    "y_pred = clf_GS_Model_RF2_1.best_estimator_.predict(X)\n",
    "# y_train_pred = clfRandom.predict(X_train)\n",
    "\n",
    "f1_score(y, y_pred,average='weighted')"
   ]
  },
  {
   "cell_type": "code",
   "execution_count": 131,
   "metadata": {},
   "outputs": [
    {
     "data": {
      "text/plain": [
       "0.7453613740362315"
      ]
     },
     "execution_count": 131,
     "metadata": {},
     "output_type": "execute_result"
    }
   ],
   "source": [
    "accuracy_score(y, y_pred)"
   ]
  },
  {
   "cell_type": "code",
   "execution_count": 132,
   "metadata": {},
   "outputs": [],
   "source": [
    "# y_test_pred = clf_GS_Model_RF2_1.best_estimator_.predict(X_test)\n",
    "# # y_cross_validation_pred= clfRandom.predict(X_cross_validation)\n",
    "# accuracy_score(y_test,y_test_pred), f1_score(y_test, y_test_pred, average='weighted')"
   ]
  },
  {
   "cell_type": "code",
   "execution_count": 133,
   "metadata": {},
   "outputs": [
    {
     "name": "stderr",
     "output_type": "stream",
     "text": [
      "D:\\Softwares\\anaconda3\\lib\\site-packages\\sklearn\\metrics\\_classification.py:1272: UndefinedMetricWarning: Precision and F-score are ill-defined and being set to 0.0 in labels with no predicted samples. Use `zero_division` parameter to control this behavior.\n",
      "  _warn_prf(average, modifier, msg_start, len(result))\n"
     ]
    },
    {
     "name": "stdout",
     "output_type": "stream",
     "text": [
      "                                                          precision    recall  f1-score   support\n",
      "\n",
      "                                     Alexandria Hospital       1.00      0.27      0.43      6966\n",
      "                                      Ashburn HealthPlex       0.00      0.00      0.00         4\n",
      "                      Children's National Medical Center       0.00      0.00      0.00        36\n",
      "       Children's National Medical Center (202-476-4682)       0.00      0.00      0.00        33\n",
      "                                      Fair Oaks Hospital       0.97      0.65      0.78     17137\n",
      "                                        Fairfax Hospital       0.62      1.00      0.77     50507\n",
      "                         Fort Belvoir Community Hospital       0.00      0.00      0.00       480\n",
      "                   George Washington University Hospital       0.00      0.00      0.00        19\n",
      "    George Washington University Hospital (202-715-4909)       0.00      0.00      0.00        40\n",
      "                          Georgetown University Hospital       0.00      0.00      0.00        32\n",
      "           Georgetown University Hospital (202-444-2119)       0.00      0.00      0.00        38\n",
      "                                Haymarket Medical Center       0.00      0.00      0.00         5\n",
      "                                Inova Ashburn HealthPlex       0.00      0.00      0.00         6\n",
      "             Inova Emergency Care Center (ECC) - Fairfax       0.00      0.00      0.00       155\n",
      "      Inova Emergency Care Center (ECC) - Reston/Herndon       0.00      0.00      0.00        62\n",
      "                   Inova Emergency Care Center - Fairfax       0.00      0.00      0.00       554\n",
      "            Inova Emergency Care Center - Reston/Herndon       0.00      0.00      0.00       123\n",
      "                  Inova HealthPlex Emergency Care Center       1.00      0.00      0.00      1637\n",
      "Kaiser Permanente ‐ Tysons Corner ‐ Advanced Urgent Care       0.00      0.00      0.00         3\n",
      "   Kaiser Permanente ‐ Woodbridge ‐ Advanced Urgent Care       0.00      0.00      0.00         1\n",
      "                                            Landing Zone       1.00      0.03      0.05        36\n",
      "                                       Lorton Healthplex       0.73      0.17      0.28      1572\n",
      "                                    Lorton Healthplex ED       1.00      0.01      0.01      1136\n",
      "                                 Loudoun Hospital Center       0.00      0.00      0.00       175\n",
      "                                  MEDSTAR (202-877-7210)       0.00      0.00      0.00        60\n",
      "                                   Mount Vernon Hospital       0.95      0.89      0.92     15236\n",
      "                        Northern Virginia Medical Center       0.00      0.00      0.00        51\n",
      "                         Out Of Area Hospital Not Listed       0.00      0.00      0.00       106\n",
      "                  Prince William Hospital (703-369-8869)       0.00      0.00      0.00        53\n",
      "                           Prince William Medical Center       0.00      0.00      0.00        33\n",
      "                                  Reston Hospital Center       0.96      0.83      0.89     21215\n",
      "                Sentara Northern Virginia Medical Center       0.00      0.00      0.00       116\n",
      "                                   Sibley (202-537-4080)       0.00      0.00      0.00        55\n",
      "                                Sibley Memorial Hospital       0.00      0.00      0.00        33\n",
      "                              Southern Maryland Hospital       0.00      0.00      0.00         4\n",
      "                                 Springfield Health Plex       0.98      0.04      0.08      2916\n",
      "                                Stafford Hospital Center       0.00      0.00      0.00         2\n",
      "                                   Stone Spring Hospital       0.00      0.00      0.00       268\n",
      "                             StoneSpring Hospital Center       0.00      0.00      0.00       113\n",
      "                            StoneSprings Hospital Center       0.00      0.00      0.00        83\n",
      "                                Virginia Hospital Center       1.00      0.00      0.01      6478\n",
      "                              Washington Hospital Center       0.00      0.00      0.00        45\n",
      "\n",
      "                                                accuracy                           0.75    127624\n",
      "                                               macro avg       0.24      0.09      0.10    127624\n",
      "                                            weighted avg       0.81      0.75      0.70    127624\n",
      "\n"
     ]
    }
   ],
   "source": [
    "print(classification_report(y,y_pred))"
   ]
  },
  {
   "cell_type": "code",
   "execution_count": 221,
   "metadata": {},
   "outputs": [],
   "source": [
    "# clfRandom = clf_GS_Model_RF2_1.best_estimator_"
   ]
  },
  {
   "cell_type": "code",
   "execution_count": 222,
   "metadata": {},
   "outputs": [],
   "source": [
    "# clfRandom = clf_GS_Model_RF2_1.best_estimator_.get_params()[\"rf\"]"
   ]
  },
  {
   "cell_type": "code",
   "execution_count": null,
   "metadata": {},
   "outputs": [],
   "source": [
    "# Best n estimator: 25\n",
    "# Best max_depth: 15\n",
    "# Best min_samples_split: 2"
   ]
  },
  {
   "cell_type": "code",
   "execution_count": 134,
   "metadata": {},
   "outputs": [],
   "source": [
    "clfRandom_best = RandomForestClassifier(bootstrap=True, random_state=0, class_weight=None, criterion='gini',\n",
    "            max_depth=15, max_features='auto', max_leaf_nodes=None,\n",
    "            min_impurity_decrease=0.0, min_impurity_split=None,\n",
    "            min_samples_leaf=1, min_samples_split=2,\n",
    "            min_weight_fraction_leaf=0.0, n_estimators=25, n_jobs=1,\n",
    "            oob_score=False, verbose=0,\n",
    "            warm_start=False)"
   ]
  },
  {
   "cell_type": "code",
   "execution_count": 135,
   "metadata": {},
   "outputs": [
    {
     "name": "stdout",
     "output_type": "stream",
     "text": [
      "Wall time: 7.13 s\n"
     ]
    },
    {
     "data": {
      "text/plain": [
       "RandomForestClassifier(bootstrap=True, ccp_alpha=0.0, class_weight=None,\n",
       "                       criterion='gini', max_depth=15, max_features='auto',\n",
       "                       max_leaf_nodes=None, max_samples=None,\n",
       "                       min_impurity_decrease=0.0, min_impurity_split=None,\n",
       "                       min_samples_leaf=1, min_samples_split=2,\n",
       "                       min_weight_fraction_leaf=0.0, n_estimators=25, n_jobs=1,\n",
       "                       oob_score=False, random_state=0, verbose=0,\n",
       "                       warm_start=False)"
      ]
     },
     "execution_count": 135,
     "metadata": {},
     "output_type": "execute_result"
    }
   ],
   "source": [
    "%time clfRandom_best.fit(X, y)"
   ]
  },
  {
   "cell_type": "code",
   "execution_count": 136,
   "metadata": {},
   "outputs": [],
   "source": [
    "prob = clfRandom_best.predict_proba(X)\n",
    "pred = clfRandom_best.predict(X)"
   ]
  },
  {
   "cell_type": "code",
   "execution_count": 224,
   "metadata": {},
   "outputs": [],
   "source": [
    "# y_test_pred= clfRandom.predict(X_test)"
   ]
  },
  {
   "cell_type": "code",
   "execution_count": 137,
   "metadata": {},
   "outputs": [
    {
     "data": {
      "text/plain": [
       "Text(0.5, 0, 'Random Forest Feature Importance')"
      ]
     },
     "execution_count": 137,
     "metadata": {},
     "output_type": "execute_result"
    },
    {
     "data": {
      "image/png": "[encoded data removed]",
      "text/plain": [
       "<Figure size 432x288 with 1 Axes>"
      ]
     },
     "metadata": {
      "needs_background": "light"
     },
     "output_type": "display_data"
    }
   ],
   "source": [
    "sorted_idx = clfRandom_best.feature_importances_.argsort()\n",
    "plt.barh(X.columns[sorted_idx[-20:]], clfRandom_best.feature_importances_[sorted_idx[-20:]])\n",
    "plt.xlabel(\"Random Forest Feature Importance\")"
   ]
  },
  {
   "cell_type": "code",
   "execution_count": 138,
   "metadata": {},
   "outputs": [],
   "source": [
    "# pd.Series(X.columns).value_counts()"
   ]
  },
  {
   "cell_type": "code",
   "execution_count": 170,
   "metadata": {},
   "outputs": [],
   "source": [
    "# from lightgbm import LGBMClassifier"
   ]
  },
  {
   "cell_type": "code",
   "execution_count": 171,
   "metadata": {},
   "outputs": [
    {
     "name": "stdout",
     "output_type": "stream",
     "text": [
      "Wall time: 27.5 s\n"
     ]
    }
   ],
   "source": [
    "# lgb = LGBMClassifier(random_state=12)\n",
    "# %time lgb.fit(X_train, y_train)\n",
    "# y_train_pred= lgb.predict(X_train)\n",
    "# y_test_pred= lgb.predict(X_test)"
   ]
  },
  {
   "cell_type": "code",
   "execution_count": 172,
   "metadata": {},
   "outputs": [
    {
     "data": {
      "text/plain": [
       "Text(0.5, 0, 'Random Forest Feature Importance')"
      ]
     },
     "execution_count": 172,
     "metadata": {},
     "output_type": "execute_result"
    },
    {
     "data": {
      "image/png": "[encoded data removed]",
      "text/plain": [
       "<Figure size 432x288 with 1 Axes>"
      ]
     },
     "metadata": {
      "needs_background": "light"
     },
     "output_type": "display_data"
    }
   ],
   "source": [
    "# sorted_idx = lgb.feature_importances_.argsort()\n",
    "# plt.barh(X.columns[sorted_idx[-20:]], lgb.feature_importances_[sorted_idx[-20:]])\n",
    "# plt.xlabel(\"Random Forest Feature Importance\")"
   ]
  },
  {
   "cell_type": "code",
   "execution_count": 157,
   "metadata": {},
   "outputs": [],
   "source": [
    "# accuracy_score(y_train, y_train_pred), f1_score(y_train, y_train_pred, average='weighted')"
   ]
  },
  {
   "cell_type": "code",
   "execution_count": 158,
   "metadata": {},
   "outputs": [],
   "source": [
    "# accuracy_score(y_test,y_test_pred), f1_score(y_test, y_test_pred, average='weighted')"
   ]
  },
  {
   "cell_type": "code",
   "execution_count": 242,
   "metadata": {},
   "outputs": [],
   "source": [
    "# prob = lgb.predict_proba(X)\n",
    "# pred = lgb.predict(X)"
   ]
  },
  {
   "cell_type": "code",
   "execution_count": 140,
   "metadata": {},
   "outputs": [],
   "source": [
    "import numpy as np\n"
   ]
  },
  {
   "cell_type": "code",
   "execution_count": 141,
   "metadata": {},
   "outputs": [],
   "source": [
    "incidentpatientunitsfacilitiesmerge[\"model_probability\"] = np.max(prob, axis=1)\n",
    "incidentpatientunitsfacilitiesmerge[\"model_prediction\"] = pred"
   ]
  },
  {
   "cell_type": "code",
   "execution_count": 151,
   "metadata": {},
   "outputs": [],
   "source": [
    "incidentpatientunitsfacilitiesmerge[\"mismatch_exists\"] = incidentpatientunitsfacilitiesmerge.TransportHospitalName != incidentpatientunitsfacilitiesmerge.model_prediction"
   ]
  },
  {
   "cell_type": "code",
   "execution_count": 152,
   "metadata": {},
   "outputs": [
    {
     "data": {
      "text/plain": [
       "False    95126\n",
       "True     32498\n",
       "Name: mismatch_exists, dtype: int64"
      ]
     },
     "execution_count": 152,
     "metadata": {},
     "output_type": "execute_result"
    }
   ],
   "source": [
    "incidentpatientunitsfacilitiesmerge[\"mismatch_exists\"].value_counts()"
   ]
  },
  {
   "cell_type": "code",
   "execution_count": 153,
   "metadata": {},
   "outputs": [],
   "source": [
    "incidentpatientunitsfacilitiesmerge.to_excel(\"dataset/model_predictions.xlsx\", index=False)"
   ]
  },
  {
   "cell_type": "markdown",
   "metadata": {},
   "source": [
    "## Analyze Data"
   ]
  },
  {
   "cell_type": "code",
   "execution_count": 154,
   "metadata": {},
   "outputs": [],
   "source": [
    "import pandas as pd"
   ]
  },
  {
   "cell_type": "code",
   "execution_count": 155,
   "metadata": {},
   "outputs": [
    {
     "data": {
      "text/plain": [
       "(127624, 19)"
      ]
     },
     "execution_count": 155,
     "metadata": {},
     "output_type": "execute_result"
    }
   ],
   "source": [
    "incidentpatientunitsfacilitiesmerge = pd.read_excel(\"dataset/model_predictions.xlsx\")\n",
    "incidentpatientunitsfacilitiesmerge.shape"
   ]
  },
  {
   "cell_type": "code",
   "execution_count": 156,
   "metadata": {},
   "outputs": [],
   "source": [
    "def analyze_feature(df:pd.DataFrame, feature:str, confidence_threshold: float=0.9, min_records:int=10):\n",
    "    t1 = df[feature].value_counts()\n",
    "    mismatch = df[df.TransportHospitalName != df.model_prediction]\n",
    "    t2 = mismatch[mismatch.model_probability >= confidence_threshold][feature].value_counts()\n",
    "    t3 = pd.concat([t1, t2], axis=1).reset_index()\n",
    "    t3.columns = [feature, \"total_count\", \"mismatch_count\"]\n",
    "    t3 = t3[t3.total_count>= min_records]\n",
    "    t3[\"percentage_of_mismatch\"] = (t3.mismatch_count / t3.total_count )*100\n",
    "    return t3.sort_values(\"percentage_of_mismatch\", ascending=False)"
   ]
  },
  {
   "cell_type": "code",
   "execution_count": 157,
   "metadata": {},
   "outputs": [
    {
     "data": {
      "text/plain": [
       "Index(['TransportUnitID', 'TransportLOC', 'TransportHospitalName',\n",
       "       'ReasonForChoosingHospital', 'PatientAge', 'PrimaryImpression',\n",
       "       'PatientDisposition', 'UnitPrimaryActionTaken', 'UnitStation',\n",
       "       'UnitType', 'UnitArrivalOrder', 'ShiftDay', 'TourOfShift',\n",
       "       'IncidentFirstDue', 'FinalIncidentType', 'DistanceUnitToFacility',\n",
       "       'model_probability', 'model_prediction', 'mismatch_exists'],\n",
       "      dtype='object')"
      ]
     },
     "execution_count": 157,
     "metadata": {},
     "output_type": "execute_result"
    }
   ],
   "source": [
    "incidentpatientunitsfacilitiesmerge.columns"
   ]
  },
  {
   "cell_type": "code",
   "execution_count": 163,
   "metadata": {},
   "outputs": [
    {
     "name": "stdout",
     "output_type": "stream",
     "text": [
      "Interesting features to investigate TransportUnitID\n",
      "Interesting features to investigate TransportLOC\n",
      "Interesting features to investigate ReasonForChoosingHospital\n",
      "Interesting features to investigate PatientAge\n",
      "Interesting features to investigate PrimaryImpression\n",
      "Interesting features to investigate PatientDisposition\n",
      "Interesting features to investigate UnitPrimaryActionTaken\n",
      "Interesting features to investigate UnitStation\n",
      "Interesting features to investigate UnitType\n",
      "Interesting features to investigate UnitArrivalOrder\n",
      "Interesting features to investigate ShiftDay\n",
      "Interesting features to investigate TourOfShift\n",
      "Interesting features to investigate IncidentFirstDue\n",
      "Interesting features to investigate FinalIncidentType\n"
     ]
    }
   ],
   "source": [
    "for feature in ['TransportUnitID', 'TransportLOC',\n",
    "           'ReasonForChoosingHospital', 'PatientAge', 'PrimaryImpression',\n",
    "           'PatientDisposition',  'UnitPrimaryActionTaken',\n",
    "           'UnitStation', 'UnitType', 'UnitArrivalOrder', 'ShiftDay',\n",
    "           'TourOfShift', 'IncidentFirstDue', 'FinalIncidentType']:\n",
    "\n",
    "        subset_dataset = analyze_feature(incidentpatientunitsfacilitiesmerge, \n",
    "                                                        feature,\n",
    "                                                        0.4, 100)\n",
    "        \n",
    "        if max(subset_dataset['percentage_of_mismatch']) > 10:\n",
    "            print(\"Interesting features to investigate\", feature)\n",
    "\n",
    "    \n"
   ]
  },
  {
   "cell_type": "code",
   "execution_count": 160,
   "metadata": {},
   "outputs": [
    {
     "data": {
      "text/html": [
       "<div>\n",
       "<style scoped>\n",
       "    .dataframe tbody tr th:only-of-type {\n",
       "        vertical-align: middle;\n",
       "    }\n",
       "\n",
       "    .dataframe tbody tr th {\n",
       "        vertical-align: top;\n",
       "    }\n",
       "\n",
       "    .dataframe thead th {\n",
       "        text-align: right;\n",
       "    }\n",
       "</style>\n",
       "<table border=\"1\" class=\"dataframe\">\n",
       "  <thead>\n",
       "    <tr style=\"text-align: right;\">\n",
       "      <th></th>\n",
       "      <th>ReasonForChoosingHospital</th>\n",
       "      <th>total_count</th>\n",
       "      <th>mismatch_count</th>\n",
       "      <th>percentage_of_mismatch</th>\n",
       "    </tr>\n",
       "  </thead>\n",
       "  <tbody>\n",
       "    <tr>\n",
       "      <th>23</th>\n",
       "      <td>Patient's Choice,Patient's Physician's Choice</td>\n",
       "      <td>136</td>\n",
       "      <td>19.0</td>\n",
       "      <td>13.970588</td>\n",
       "    </tr>\n",
       "    <tr>\n",
       "      <th>16</th>\n",
       "      <td>Diversion</td>\n",
       "      <td>230</td>\n",
       "      <td>30.0</td>\n",
       "      <td>13.043478</td>\n",
       "    </tr>\n",
       "    <tr>\n",
       "      <th>9</th>\n",
       "      <td>Patient's Choice,Family Choice</td>\n",
       "      <td>1011</td>\n",
       "      <td>101.0</td>\n",
       "      <td>9.990109</td>\n",
       "    </tr>\n",
       "    <tr>\n",
       "      <th>19</th>\n",
       "      <td>Other</td>\n",
       "      <td>169</td>\n",
       "      <td>11.0</td>\n",
       "      <td>6.508876</td>\n",
       "    </tr>\n",
       "    <tr>\n",
       "      <th>2</th>\n",
       "      <td>Family Choice</td>\n",
       "      <td>7253</td>\n",
       "      <td>397.0</td>\n",
       "      <td>5.473597</td>\n",
       "    </tr>\n",
       "    <tr>\n",
       "      <th>8</th>\n",
       "      <td>Patient's Physician's Choice</td>\n",
       "      <td>1169</td>\n",
       "      <td>57.0</td>\n",
       "      <td>4.875962</td>\n",
       "    </tr>\n",
       "    <tr>\n",
       "      <th>10</th>\n",
       "      <td>Family Choice,Patient's Choice</td>\n",
       "      <td>557</td>\n",
       "      <td>27.0</td>\n",
       "      <td>4.847397</td>\n",
       "    </tr>\n",
       "    <tr>\n",
       "      <th>3</th>\n",
       "      <td>Specialty Center (Trauma, STEMI, Stroke)</td>\n",
       "      <td>5687</td>\n",
       "      <td>232.0</td>\n",
       "      <td>4.079480</td>\n",
       "    </tr>\n",
       "    <tr>\n",
       "      <th>7</th>\n",
       "      <td>Protocol</td>\n",
       "      <td>1381</td>\n",
       "      <td>53.0</td>\n",
       "      <td>3.837799</td>\n",
       "    </tr>\n",
       "    <tr>\n",
       "      <th>24</th>\n",
       "      <td>Specialty Center (Trauma, STEMI, Stroke),Famil...</td>\n",
       "      <td>132</td>\n",
       "      <td>5.0</td>\n",
       "      <td>3.787879</td>\n",
       "    </tr>\n",
       "    <tr>\n",
       "      <th>20</th>\n",
       "      <td>Closest Facility,Patient's Physician's Choice</td>\n",
       "      <td>164</td>\n",
       "      <td>6.0</td>\n",
       "      <td>3.658537</td>\n",
       "    </tr>\n",
       "    <tr>\n",
       "      <th>27</th>\n",
       "      <td>Patient's Choice,Specialty Center (Trauma, STE...</td>\n",
       "      <td>113</td>\n",
       "      <td>3.0</td>\n",
       "      <td>2.654867</td>\n",
       "    </tr>\n",
       "    <tr>\n",
       "      <th>12</th>\n",
       "      <td>Closest Facility,Patient's Choice,Family Choice</td>\n",
       "      <td>372</td>\n",
       "      <td>9.0</td>\n",
       "      <td>2.419355</td>\n",
       "    </tr>\n",
       "    <tr>\n",
       "      <th>1</th>\n",
       "      <td>Patient's Choice</td>\n",
       "      <td>19893</td>\n",
       "      <td>452.0</td>\n",
       "      <td>2.272156</td>\n",
       "    </tr>\n",
       "    <tr>\n",
       "      <th>4</th>\n",
       "      <td>Closest Facility,Patient's Choice</td>\n",
       "      <td>3841</td>\n",
       "      <td>82.0</td>\n",
       "      <td>2.134861</td>\n",
       "    </tr>\n",
       "    <tr>\n",
       "      <th>15</th>\n",
       "      <td>Law Enforcement Choice</td>\n",
       "      <td>243</td>\n",
       "      <td>5.0</td>\n",
       "      <td>2.057613</td>\n",
       "    </tr>\n",
       "    <tr>\n",
       "      <th>28</th>\n",
       "      <td>Protocol,Specialty Center (Trauma, STEMI, Stroke)</td>\n",
       "      <td>112</td>\n",
       "      <td>2.0</td>\n",
       "      <td>1.785714</td>\n",
       "    </tr>\n",
       "    <tr>\n",
       "      <th>18</th>\n",
       "      <td>Insurance Status/Requirement</td>\n",
       "      <td>171</td>\n",
       "      <td>3.0</td>\n",
       "      <td>1.754386</td>\n",
       "    </tr>\n",
       "    <tr>\n",
       "      <th>5</th>\n",
       "      <td>Closest Facility,Specialty Center (Trauma, STE...</td>\n",
       "      <td>1600</td>\n",
       "      <td>26.0</td>\n",
       "      <td>1.625000</td>\n",
       "    </tr>\n",
       "    <tr>\n",
       "      <th>26</th>\n",
       "      <td>Closest Facility,Family Choice,Patient's Choice</td>\n",
       "      <td>130</td>\n",
       "      <td>2.0</td>\n",
       "      <td>1.538462</td>\n",
       "    </tr>\n",
       "    <tr>\n",
       "      <th>22</th>\n",
       "      <td>Specialty Center (Trauma, STEMI, Stroke),Patie...</td>\n",
       "      <td>138</td>\n",
       "      <td>2.0</td>\n",
       "      <td>1.449275</td>\n",
       "    </tr>\n",
       "    <tr>\n",
       "      <th>6</th>\n",
       "      <td>Closest Facility,Family Choice</td>\n",
       "      <td>1588</td>\n",
       "      <td>22.0</td>\n",
       "      <td>1.385390</td>\n",
       "    </tr>\n",
       "    <tr>\n",
       "      <th>21</th>\n",
       "      <td>Family Choice,Closest Facility</td>\n",
       "      <td>152</td>\n",
       "      <td>2.0</td>\n",
       "      <td>1.315789</td>\n",
       "    </tr>\n",
       "    <tr>\n",
       "      <th>14</th>\n",
       "      <td>Closest Facility,Protocol</td>\n",
       "      <td>254</td>\n",
       "      <td>3.0</td>\n",
       "      <td>1.181102</td>\n",
       "    </tr>\n",
       "    <tr>\n",
       "      <th>0</th>\n",
       "      <td>Closest Facility</td>\n",
       "      <td>78364</td>\n",
       "      <td>897.0</td>\n",
       "      <td>1.144658</td>\n",
       "    </tr>\n",
       "    <tr>\n",
       "      <th>17</th>\n",
       "      <td>Closest Facility,Protocol,Patient's Choice</td>\n",
       "      <td>222</td>\n",
       "      <td>2.0</td>\n",
       "      <td>0.900901</td>\n",
       "    </tr>\n",
       "    <tr>\n",
       "      <th>11</th>\n",
       "      <td>Patient's Choice,Closest Facility</td>\n",
       "      <td>477</td>\n",
       "      <td>4.0</td>\n",
       "      <td>0.838574</td>\n",
       "    </tr>\n",
       "    <tr>\n",
       "      <th>25</th>\n",
       "      <td>Protocol,Closest Facility</td>\n",
       "      <td>132</td>\n",
       "      <td>1.0</td>\n",
       "      <td>0.757576</td>\n",
       "    </tr>\n",
       "    <tr>\n",
       "      <th>13</th>\n",
       "      <td>Specialty Center (Trauma, STEMI, Stroke),Close...</td>\n",
       "      <td>269</td>\n",
       "      <td>1.0</td>\n",
       "      <td>0.371747</td>\n",
       "    </tr>\n",
       "  </tbody>\n",
       "</table>\n",
       "</div>"
      ],
      "text/plain": [
       "                            ReasonForChoosingHospital  total_count  \\\n",
       "23      Patient's Choice,Patient's Physician's Choice          136   \n",
       "16                                          Diversion          230   \n",
       "9                      Patient's Choice,Family Choice         1011   \n",
       "19                                              Other          169   \n",
       "2                                       Family Choice         7253   \n",
       "8                        Patient's Physician's Choice         1169   \n",
       "10                     Family Choice,Patient's Choice          557   \n",
       "3            Specialty Center (Trauma, STEMI, Stroke)         5687   \n",
       "7                                            Protocol         1381   \n",
       "24  Specialty Center (Trauma, STEMI, Stroke),Famil...          132   \n",
       "20      Closest Facility,Patient's Physician's Choice          164   \n",
       "27  Patient's Choice,Specialty Center (Trauma, STE...          113   \n",
       "12    Closest Facility,Patient's Choice,Family Choice          372   \n",
       "1                                    Patient's Choice        19893   \n",
       "4                   Closest Facility,Patient's Choice         3841   \n",
       "15                             Law Enforcement Choice          243   \n",
       "28  Protocol,Specialty Center (Trauma, STEMI, Stroke)          112   \n",
       "18                       Insurance Status/Requirement          171   \n",
       "5   Closest Facility,Specialty Center (Trauma, STE...         1600   \n",
       "26    Closest Facility,Family Choice,Patient's Choice          130   \n",
       "22  Specialty Center (Trauma, STEMI, Stroke),Patie...          138   \n",
       "6                      Closest Facility,Family Choice         1588   \n",
       "21                     Family Choice,Closest Facility          152   \n",
       "14                          Closest Facility,Protocol          254   \n",
       "0                                    Closest Facility        78364   \n",
       "17         Closest Facility,Protocol,Patient's Choice          222   \n",
       "11                  Patient's Choice,Closest Facility          477   \n",
       "25                          Protocol,Closest Facility          132   \n",
       "13  Specialty Center (Trauma, STEMI, Stroke),Close...          269   \n",
       "\n",
       "    mismatch_count  percentage_of_mismatch  \n",
       "23            19.0               13.970588  \n",
       "16            30.0               13.043478  \n",
       "9            101.0                9.990109  \n",
       "19            11.0                6.508876  \n",
       "2            397.0                5.473597  \n",
       "8             57.0                4.875962  \n",
       "10            27.0                4.847397  \n",
       "3            232.0                4.079480  \n",
       "7             53.0                3.837799  \n",
       "24             5.0                3.787879  \n",
       "20             6.0                3.658537  \n",
       "27             3.0                2.654867  \n",
       "12             9.0                2.419355  \n",
       "1            452.0                2.272156  \n",
       "4             82.0                2.134861  \n",
       "15             5.0                2.057613  \n",
       "28             2.0                1.785714  \n",
       "18             3.0                1.754386  \n",
       "5             26.0                1.625000  \n",
       "26             2.0                1.538462  \n",
       "22             2.0                1.449275  \n",
       "6             22.0                1.385390  \n",
       "21             2.0                1.315789  \n",
       "14             3.0                1.181102  \n",
       "0            897.0                1.144658  \n",
       "17             2.0                0.900901  \n",
       "11             4.0                0.838574  \n",
       "25             1.0                0.757576  \n",
       "13             1.0                0.371747  "
      ]
     },
     "execution_count": 160,
     "metadata": {},
     "output_type": "execute_result"
    }
   ],
   "source": [
    "analyze_feature(incidentpatientunitsfacilitiesmerge, \n",
    "                                                    \"ReasonForChoosingHospital\",\n",
    "                                                    0.5, 100)"
   ]
  },
  {
   "cell_type": "code",
   "execution_count": 168,
   "metadata": {},
   "outputs": [
    {
     "data": {
      "text/html": [
       "<div>\n",
       "<style scoped>\n",
       "    .dataframe tbody tr th:only-of-type {\n",
       "        vertical-align: middle;\n",
       "    }\n",
       "\n",
       "    .dataframe tbody tr th {\n",
       "        vertical-align: top;\n",
       "    }\n",
       "\n",
       "    .dataframe thead th {\n",
       "        text-align: right;\n",
       "    }\n",
       "</style>\n",
       "<table border=\"1\" class=\"dataframe\">\n",
       "  <thead>\n",
       "    <tr style=\"text-align: right;\">\n",
       "      <th></th>\n",
       "      <th>DistanceUnitToFacility</th>\n",
       "      <th>total_count</th>\n",
       "      <th>mismatch_count</th>\n",
       "      <th>percentage_of_mismatch</th>\n",
       "    </tr>\n",
       "  </thead>\n",
       "  <tbody>\n",
       "    <tr>\n",
       "      <th>123</th>\n",
       "      <td>6.397667</td>\n",
       "      <td>149</td>\n",
       "      <td>131.0</td>\n",
       "      <td>87.919463</td>\n",
       "    </tr>\n",
       "    <tr>\n",
       "      <th>2</th>\n",
       "      <td>0.183933</td>\n",
       "      <td>83</td>\n",
       "      <td>62.0</td>\n",
       "      <td>74.698795</td>\n",
       "    </tr>\n",
       "    <tr>\n",
       "      <th>303</th>\n",
       "      <td>10.705726</td>\n",
       "      <td>97</td>\n",
       "      <td>66.0</td>\n",
       "      <td>68.041237</td>\n",
       "    </tr>\n",
       "    <tr>\n",
       "      <th>11</th>\n",
       "      <td>1.501168</td>\n",
       "      <td>83</td>\n",
       "      <td>54.0</td>\n",
       "      <td>65.060241</td>\n",
       "    </tr>\n",
       "    <tr>\n",
       "      <th>49</th>\n",
       "      <td>3.738742</td>\n",
       "      <td>141</td>\n",
       "      <td>90.0</td>\n",
       "      <td>63.829787</td>\n",
       "    </tr>\n",
       "    <tr>\n",
       "      <th>...</th>\n",
       "      <td>...</td>\n",
       "      <td>...</td>\n",
       "      <td>...</td>\n",
       "      <td>...</td>\n",
       "    </tr>\n",
       "    <tr>\n",
       "      <th>711</th>\n",
       "      <td>6838.861260</td>\n",
       "      <td>119</td>\n",
       "      <td>NaN</td>\n",
       "      <td>NaN</td>\n",
       "    </tr>\n",
       "    <tr>\n",
       "      <th>712</th>\n",
       "      <td>6839.748151</td>\n",
       "      <td>50</td>\n",
       "      <td>NaN</td>\n",
       "      <td>NaN</td>\n",
       "    </tr>\n",
       "    <tr>\n",
       "      <th>713</th>\n",
       "      <td>6841.737795</td>\n",
       "      <td>276</td>\n",
       "      <td>NaN</td>\n",
       "      <td>NaN</td>\n",
       "    </tr>\n",
       "    <tr>\n",
       "      <th>714</th>\n",
       "      <td>6841.943243</td>\n",
       "      <td>40</td>\n",
       "      <td>NaN</td>\n",
       "      <td>NaN</td>\n",
       "    </tr>\n",
       "    <tr>\n",
       "      <th>715</th>\n",
       "      <td>6843.371141</td>\n",
       "      <td>15</td>\n",
       "      <td>NaN</td>\n",
       "      <td>NaN</td>\n",
       "    </tr>\n",
       "  </tbody>\n",
       "</table>\n",
       "<p>379 rows × 4 columns</p>\n",
       "</div>"
      ],
      "text/plain": [
       "     DistanceUnitToFacility  total_count  mismatch_count  \\\n",
       "123                6.397667          149           131.0   \n",
       "2                  0.183933           83            62.0   \n",
       "303               10.705726           97            66.0   \n",
       "11                 1.501168           83            54.0   \n",
       "49                 3.738742          141            90.0   \n",
       "..                      ...          ...             ...   \n",
       "711             6838.861260          119             NaN   \n",
       "712             6839.748151           50             NaN   \n",
       "713             6841.737795          276             NaN   \n",
       "714             6841.943243           40             NaN   \n",
       "715             6843.371141           15             NaN   \n",
       "\n",
       "     percentage_of_mismatch  \n",
       "123               87.919463  \n",
       "2                 74.698795  \n",
       "303               68.041237  \n",
       "11                65.060241  \n",
       "49                63.829787  \n",
       "..                      ...  \n",
       "711                     NaN  \n",
       "712                     NaN  \n",
       "713                     NaN  \n",
       "714                     NaN  \n",
       "715                     NaN  \n",
       "\n",
       "[379 rows x 4 columns]"
      ]
     },
     "execution_count": 168,
     "metadata": {},
     "output_type": "execute_result"
    }
   ],
   "source": [
    "analyze_feature(incidentpatientunitsfacilitiesmerge, \"DistanceUnitToFacility\", 0.6)"
   ]
  },
  {
   "cell_type": "code",
   "execution_count": 171,
   "metadata": {},
   "outputs": [
    {
     "data": {
      "text/html": [
       "<div>\n",
       "<style scoped>\n",
       "    .dataframe tbody tr th:only-of-type {\n",
       "        vertical-align: middle;\n",
       "    }\n",
       "\n",
       "    .dataframe tbody tr th {\n",
       "        vertical-align: top;\n",
       "    }\n",
       "\n",
       "    .dataframe thead th {\n",
       "        text-align: right;\n",
       "    }\n",
       "</style>\n",
       "<table border=\"1\" class=\"dataframe\">\n",
       "  <thead>\n",
       "    <tr style=\"text-align: right;\">\n",
       "      <th></th>\n",
       "      <th>PrimaryImpression</th>\n",
       "      <th>total_count</th>\n",
       "      <th>mismatch_count</th>\n",
       "      <th>percentage_of_mismatch</th>\n",
       "    </tr>\n",
       "  </thead>\n",
       "  <tbody>\n",
       "    <tr>\n",
       "      <th>20</th>\n",
       "      <td>Injury - Wrist, Hand, or Fingers (S69.9)</td>\n",
       "      <td>252</td>\n",
       "      <td>4.0</td>\n",
       "      <td>1.587302</td>\n",
       "    </tr>\n",
       "    <tr>\n",
       "      <th>27</th>\n",
       "      <td>Neuro - Headache (R51)</td>\n",
       "      <td>209</td>\n",
       "      <td>3.0</td>\n",
       "      <td>1.435407</td>\n",
       "    </tr>\n",
       "    <tr>\n",
       "      <th>34</th>\n",
       "      <td>Abuse of Narcotic / Opioid / Heroin (Overdose)...</td>\n",
       "      <td>179</td>\n",
       "      <td>2.0</td>\n",
       "      <td>1.117318</td>\n",
       "    </tr>\n",
       "    <tr>\n",
       "      <th>2</th>\n",
       "      <td>Abuse of Alcohol (ETOH) - Intoxication (F10.92)</td>\n",
       "      <td>592</td>\n",
       "      <td>5.0</td>\n",
       "      <td>0.844595</td>\n",
       "    </tr>\n",
       "    <tr>\n",
       "      <th>5</th>\n",
       "      <td>Syncope - Syncopal/Fainting Episode (or Near) ...</td>\n",
       "      <td>532</td>\n",
       "      <td>4.0</td>\n",
       "      <td>0.751880</td>\n",
       "    </tr>\n",
       "    <tr>\n",
       "      <th>16</th>\n",
       "      <td>GI/GU - Nausea (With Vomiting) (R11.2)</td>\n",
       "      <td>280</td>\n",
       "      <td>2.0</td>\n",
       "      <td>0.714286</td>\n",
       "    </tr>\n",
       "    <tr>\n",
       "      <th>14</th>\n",
       "      <td>Pain - Extremity (Non-traumatic) (M79.609)</td>\n",
       "      <td>295</td>\n",
       "      <td>2.0</td>\n",
       "      <td>0.677966</td>\n",
       "    </tr>\n",
       "    <tr>\n",
       "      <th>41</th>\n",
       "      <td>Behavioral - Strange Behavior (R46.2)</td>\n",
       "      <td>151</td>\n",
       "      <td>1.0</td>\n",
       "      <td>0.662252</td>\n",
       "    </tr>\n",
       "    <tr>\n",
       "      <th>38</th>\n",
       "      <td>Injury - Ankle (S99.91)</td>\n",
       "      <td>166</td>\n",
       "      <td>1.0</td>\n",
       "      <td>0.602410</td>\n",
       "    </tr>\n",
       "    <tr>\n",
       "      <th>6</th>\n",
       "      <td>Injury - Head without L.O.C. (S06.0X0A)</td>\n",
       "      <td>530</td>\n",
       "      <td>3.0</td>\n",
       "      <td>0.566038</td>\n",
       "    </tr>\n",
       "    <tr>\n",
       "      <th>7</th>\n",
       "      <td>Behavioral - Anxiety (F41.9)</td>\n",
       "      <td>491</td>\n",
       "      <td>2.0</td>\n",
       "      <td>0.407332</td>\n",
       "    </tr>\n",
       "    <tr>\n",
       "      <th>4</th>\n",
       "      <td>Neuro - Altered Mental Status / Level of Consc...</td>\n",
       "      <td>577</td>\n",
       "      <td>2.0</td>\n",
       "      <td>0.346620</td>\n",
       "    </tr>\n",
       "    <tr>\n",
       "      <th>8</th>\n",
       "      <td>Weakness (R53.1)</td>\n",
       "      <td>489</td>\n",
       "      <td>1.0</td>\n",
       "      <td>0.204499</td>\n",
       "    </tr>\n",
       "    <tr>\n",
       "      <th>3</th>\n",
       "      <td>Neuro - Seizure (G40.909)</td>\n",
       "      <td>583</td>\n",
       "      <td>1.0</td>\n",
       "      <td>0.171527</td>\n",
       "    </tr>\n",
       "    <tr>\n",
       "      <th>0</th>\n",
       "      <td>Respiratory - Acute Distress/ Breathing Diffic...</td>\n",
       "      <td>654</td>\n",
       "      <td>NaN</td>\n",
       "      <td>NaN</td>\n",
       "    </tr>\n",
       "    <tr>\n",
       "      <th>1</th>\n",
       "      <td>GI/GU - Abdominal Pain/Problem (R10.84)</td>\n",
       "      <td>604</td>\n",
       "      <td>NaN</td>\n",
       "      <td>NaN</td>\n",
       "    </tr>\n",
       "    <tr>\n",
       "      <th>9</th>\n",
       "      <td>CV - Chest Pain - Presumed Cardiac (I20.9)</td>\n",
       "      <td>381</td>\n",
       "      <td>NaN</td>\n",
       "      <td>NaN</td>\n",
       "    </tr>\n",
       "    <tr>\n",
       "      <th>10</th>\n",
       "      <td>Pain - Not Elsewhere Mentioned Sudden Onset (G...</td>\n",
       "      <td>375</td>\n",
       "      <td>NaN</td>\n",
       "      <td>NaN</td>\n",
       "    </tr>\n",
       "    <tr>\n",
       "      <th>11</th>\n",
       "      <td>Infectious - Sepsis (A41.9)</td>\n",
       "      <td>344</td>\n",
       "      <td>NaN</td>\n",
       "      <td>NaN</td>\n",
       "    </tr>\n",
       "    <tr>\n",
       "      <th>12</th>\n",
       "      <td>Pain - Back (Non-traumatic) (M54.9)</td>\n",
       "      <td>331</td>\n",
       "      <td>NaN</td>\n",
       "      <td>NaN</td>\n",
       "    </tr>\n",
       "    <tr>\n",
       "      <th>13</th>\n",
       "      <td>Injury - Hip (S79.91)</td>\n",
       "      <td>301</td>\n",
       "      <td>NaN</td>\n",
       "      <td>NaN</td>\n",
       "    </tr>\n",
       "    <tr>\n",
       "      <th>15</th>\n",
       "      <td>Injury - Lower Back (S39.92)</td>\n",
       "      <td>282</td>\n",
       "      <td>NaN</td>\n",
       "      <td>NaN</td>\n",
       "    </tr>\n",
       "    <tr>\n",
       "      <th>17</th>\n",
       "      <td>CV - Cardiac Arrhythmia/Dysrhythmia (I49.9)</td>\n",
       "      <td>274</td>\n",
       "      <td>NaN</td>\n",
       "      <td>NaN</td>\n",
       "    </tr>\n",
       "    <tr>\n",
       "      <th>18</th>\n",
       "      <td>CV - Chest Pain - Angina (I20.0)</td>\n",
       "      <td>273</td>\n",
       "      <td>NaN</td>\n",
       "      <td>NaN</td>\n",
       "    </tr>\n",
       "    <tr>\n",
       "      <th>19</th>\n",
       "      <td>Injury - Shoulder or Upper Arm (S49.9)</td>\n",
       "      <td>262</td>\n",
       "      <td>NaN</td>\n",
       "      <td>NaN</td>\n",
       "    </tr>\n",
       "    <tr>\n",
       "      <th>21</th>\n",
       "      <td>Encounter for general examination without comp...</td>\n",
       "      <td>251</td>\n",
       "      <td>NaN</td>\n",
       "      <td>NaN</td>\n",
       "    </tr>\n",
       "    <tr>\n",
       "      <th>22</th>\n",
       "      <td>Malaise (R53.81)</td>\n",
       "      <td>239</td>\n",
       "      <td>NaN</td>\n",
       "      <td>NaN</td>\n",
       "    </tr>\n",
       "    <tr>\n",
       "      <th>23</th>\n",
       "      <td>Injury - Face (S09.93)</td>\n",
       "      <td>233</td>\n",
       "      <td>NaN</td>\n",
       "      <td>NaN</td>\n",
       "    </tr>\n",
       "    <tr>\n",
       "      <th>24</th>\n",
       "      <td>Fever (R50.9)</td>\n",
       "      <td>220</td>\n",
       "      <td>NaN</td>\n",
       "      <td>NaN</td>\n",
       "    </tr>\n",
       "    <tr>\n",
       "      <th>25</th>\n",
       "      <td>CV - Hypertension (I10)</td>\n",
       "      <td>215</td>\n",
       "      <td>NaN</td>\n",
       "      <td>NaN</td>\n",
       "    </tr>\n",
       "    <tr>\n",
       "      <th>26</th>\n",
       "      <td>Injury - Lower leg (S89.9)</td>\n",
       "      <td>211</td>\n",
       "      <td>NaN</td>\n",
       "      <td>NaN</td>\n",
       "    </tr>\n",
       "    <tr>\n",
       "      <th>28</th>\n",
       "      <td>Abuse of Alcohol (ETOH) (F10.9)</td>\n",
       "      <td>199</td>\n",
       "      <td>NaN</td>\n",
       "      <td>NaN</td>\n",
       "    </tr>\n",
       "    <tr>\n",
       "      <th>29</th>\n",
       "      <td>Pain - Chest (presumed non-cardiac) (R07.89)</td>\n",
       "      <td>196</td>\n",
       "      <td>NaN</td>\n",
       "      <td>NaN</td>\n",
       "    </tr>\n",
       "    <tr>\n",
       "      <th>30</th>\n",
       "      <td>Injury - Head with L.O.C. (S06.0X9A)</td>\n",
       "      <td>195</td>\n",
       "      <td>NaN</td>\n",
       "      <td>NaN</td>\n",
       "    </tr>\n",
       "    <tr>\n",
       "      <th>31</th>\n",
       "      <td>Injury - Neck (S19.9)</td>\n",
       "      <td>187</td>\n",
       "      <td>NaN</td>\n",
       "      <td>NaN</td>\n",
       "    </tr>\n",
       "    <tr>\n",
       "      <th>32</th>\n",
       "      <td>GI/GU - Abdominal Pain Acute Onset  (R10.0)</td>\n",
       "      <td>184</td>\n",
       "      <td>NaN</td>\n",
       "      <td>NaN</td>\n",
       "    </tr>\n",
       "    <tr>\n",
       "      <th>33</th>\n",
       "      <td>CV - Cardiac Arrest (I46.9)</td>\n",
       "      <td>181</td>\n",
       "      <td>NaN</td>\n",
       "      <td>NaN</td>\n",
       "    </tr>\n",
       "    <tr>\n",
       "      <th>35</th>\n",
       "      <td>CV - Hypotension (I95.9)</td>\n",
       "      <td>178</td>\n",
       "      <td>NaN</td>\n",
       "      <td>NaN</td>\n",
       "    </tr>\n",
       "    <tr>\n",
       "      <th>36</th>\n",
       "      <td>Neuro - Stroke/CVA (I63.9)</td>\n",
       "      <td>173</td>\n",
       "      <td>NaN</td>\n",
       "      <td>NaN</td>\n",
       "    </tr>\n",
       "    <tr>\n",
       "      <th>37</th>\n",
       "      <td>Allergic Reaction (T78.40)</td>\n",
       "      <td>172</td>\n",
       "      <td>NaN</td>\n",
       "      <td>NaN</td>\n",
       "    </tr>\n",
       "    <tr>\n",
       "      <th>39</th>\n",
       "      <td>Respiratory - Not Otherwise Listed (J98.9)</td>\n",
       "      <td>166</td>\n",
       "      <td>NaN</td>\n",
       "      <td>NaN</td>\n",
       "    </tr>\n",
       "    <tr>\n",
       "      <th>40</th>\n",
       "      <td>Infectious - Disease Unspecified (B99.9)</td>\n",
       "      <td>152</td>\n",
       "      <td>NaN</td>\n",
       "      <td>NaN</td>\n",
       "    </tr>\n",
       "    <tr>\n",
       "      <th>42</th>\n",
       "      <td>Injury - Not Otherwise Listed (T14.90)</td>\n",
       "      <td>144</td>\n",
       "      <td>NaN</td>\n",
       "      <td>NaN</td>\n",
       "    </tr>\n",
       "    <tr>\n",
       "      <th>43</th>\n",
       "      <td>Neuro - Neuro Problem Not Otherwise Listed (G9...</td>\n",
       "      <td>131</td>\n",
       "      <td>NaN</td>\n",
       "      <td>NaN</td>\n",
       "    </tr>\n",
       "    <tr>\n",
       "      <th>44</th>\n",
       "      <td>Infectious - Influenza (Flu Like Symptoms) (J11)</td>\n",
       "      <td>131</td>\n",
       "      <td>NaN</td>\n",
       "      <td>NaN</td>\n",
       "    </tr>\n",
       "    <tr>\n",
       "      <th>45</th>\n",
       "      <td>Endocrine - Hypoglycemia - Diabetic (E13.64)</td>\n",
       "      <td>124</td>\n",
       "      <td>NaN</td>\n",
       "      <td>NaN</td>\n",
       "    </tr>\n",
       "    <tr>\n",
       "      <th>46</th>\n",
       "      <td>Infectious - Pneumonia (J18.9)</td>\n",
       "      <td>116</td>\n",
       "      <td>NaN</td>\n",
       "      <td>NaN</td>\n",
       "    </tr>\n",
       "    <tr>\n",
       "      <th>47</th>\n",
       "      <td>Injury - Thorax (upper chest) (S29.9)</td>\n",
       "      <td>109</td>\n",
       "      <td>NaN</td>\n",
       "      <td>NaN</td>\n",
       "    </tr>\n",
       "    <tr>\n",
       "      <th>48</th>\n",
       "      <td>Endocrine - Hyperglycemia - Diabetic (E13.65)</td>\n",
       "      <td>102</td>\n",
       "      <td>NaN</td>\n",
       "      <td>NaN</td>\n",
       "    </tr>\n",
       "  </tbody>\n",
       "</table>\n",
       "</div>"
      ],
      "text/plain": [
       "                                    PrimaryImpression  total_count  \\\n",
       "20           Injury - Wrist, Hand, or Fingers (S69.9)          252   \n",
       "27                             Neuro - Headache (R51)          209   \n",
       "34  Abuse of Narcotic / Opioid / Heroin (Overdose)...          179   \n",
       "2     Abuse of Alcohol (ETOH) - Intoxication (F10.92)          592   \n",
       "5   Syncope - Syncopal/Fainting Episode (or Near) ...          532   \n",
       "16             GI/GU - Nausea (With Vomiting) (R11.2)          280   \n",
       "14         Pain - Extremity (Non-traumatic) (M79.609)          295   \n",
       "41              Behavioral - Strange Behavior (R46.2)          151   \n",
       "38                            Injury - Ankle (S99.91)          166   \n",
       "6             Injury - Head without L.O.C. (S06.0X0A)          530   \n",
       "7                        Behavioral - Anxiety (F41.9)          491   \n",
       "4   Neuro - Altered Mental Status / Level of Consc...          577   \n",
       "8                                    Weakness (R53.1)          489   \n",
       "3                           Neuro - Seizure (G40.909)          583   \n",
       "0   Respiratory - Acute Distress/ Breathing Diffic...          654   \n",
       "1             GI/GU - Abdominal Pain/Problem (R10.84)          604   \n",
       "9          CV - Chest Pain - Presumed Cardiac (I20.9)          381   \n",
       "10  Pain - Not Elsewhere Mentioned Sudden Onset (G...          375   \n",
       "11                        Infectious - Sepsis (A41.9)          344   \n",
       "12                Pain - Back (Non-traumatic) (M54.9)          331   \n",
       "13                              Injury - Hip (S79.91)          301   \n",
       "15                       Injury - Lower Back (S39.92)          282   \n",
       "17        CV - Cardiac Arrhythmia/Dysrhythmia (I49.9)          274   \n",
       "18                   CV - Chest Pain - Angina (I20.0)          273   \n",
       "19             Injury - Shoulder or Upper Arm (S49.9)          262   \n",
       "21  Encounter for general examination without comp...          251   \n",
       "22                                   Malaise (R53.81)          239   \n",
       "23                             Injury - Face (S09.93)          233   \n",
       "24                                      Fever (R50.9)          220   \n",
       "25                            CV - Hypertension (I10)          215   \n",
       "26                         Injury - Lower leg (S89.9)          211   \n",
       "28                    Abuse of Alcohol (ETOH) (F10.9)          199   \n",
       "29       Pain - Chest (presumed non-cardiac) (R07.89)          196   \n",
       "30               Injury - Head with L.O.C. (S06.0X9A)          195   \n",
       "31                              Injury - Neck (S19.9)          187   \n",
       "32        GI/GU - Abdominal Pain Acute Onset  (R10.0)          184   \n",
       "33                        CV - Cardiac Arrest (I46.9)          181   \n",
       "35                           CV - Hypotension (I95.9)          178   \n",
       "36                         Neuro - Stroke/CVA (I63.9)          173   \n",
       "37                         Allergic Reaction (T78.40)          172   \n",
       "39         Respiratory - Not Otherwise Listed (J98.9)          166   \n",
       "40           Infectious - Disease Unspecified (B99.9)          152   \n",
       "42             Injury - Not Otherwise Listed (T14.90)          144   \n",
       "43  Neuro - Neuro Problem Not Otherwise Listed (G9...          131   \n",
       "44   Infectious - Influenza (Flu Like Symptoms) (J11)          131   \n",
       "45       Endocrine - Hypoglycemia - Diabetic (E13.64)          124   \n",
       "46                     Infectious - Pneumonia (J18.9)          116   \n",
       "47              Injury - Thorax (upper chest) (S29.9)          109   \n",
       "48      Endocrine - Hyperglycemia - Diabetic (E13.65)          102   \n",
       "\n",
       "    mismatch_count  percentage_of_mismatch  \n",
       "20             4.0                1.587302  \n",
       "27             3.0                1.435407  \n",
       "34             2.0                1.117318  \n",
       "2              5.0                0.844595  \n",
       "5              4.0                0.751880  \n",
       "16             2.0                0.714286  \n",
       "14             2.0                0.677966  \n",
       "41             1.0                0.662252  \n",
       "38             1.0                0.602410  \n",
       "6              3.0                0.566038  \n",
       "7              2.0                0.407332  \n",
       "4              2.0                0.346620  \n",
       "8              1.0                0.204499  \n",
       "3              1.0                0.171527  \n",
       "0              NaN                     NaN  \n",
       "1              NaN                     NaN  \n",
       "9              NaN                     NaN  \n",
       "10             NaN                     NaN  \n",
       "11             NaN                     NaN  \n",
       "12             NaN                     NaN  \n",
       "13             NaN                     NaN  \n",
       "15             NaN                     NaN  \n",
       "17             NaN                     NaN  \n",
       "18             NaN                     NaN  \n",
       "19             NaN                     NaN  \n",
       "21             NaN                     NaN  \n",
       "22             NaN                     NaN  \n",
       "23             NaN                     NaN  \n",
       "24             NaN                     NaN  \n",
       "25             NaN                     NaN  \n",
       "26             NaN                     NaN  \n",
       "28             NaN                     NaN  \n",
       "29             NaN                     NaN  \n",
       "30             NaN                     NaN  \n",
       "31             NaN                     NaN  \n",
       "32             NaN                     NaN  \n",
       "33             NaN                     NaN  \n",
       "35             NaN                     NaN  \n",
       "36             NaN                     NaN  \n",
       "37             NaN                     NaN  \n",
       "39             NaN                     NaN  \n",
       "40             NaN                     NaN  \n",
       "42             NaN                     NaN  \n",
       "43             NaN                     NaN  \n",
       "44             NaN                     NaN  \n",
       "45             NaN                     NaN  \n",
       "46             NaN                     NaN  \n",
       "47             NaN                     NaN  \n",
       "48             NaN                     NaN  "
      ]
     },
     "execution_count": 171,
     "metadata": {},
     "output_type": "execute_result"
    }
   ],
   "source": [
    "analyze_feature(incidentpatientunitsfacilitiesmerge[incidentpatientunitsfacilitiesmerge.TransportUnitID== 425], \n",
    "                                                    \"PrimaryImpression\",\n",
    "                                                    0.7, 100)"
   ]
  },
  {
   "cell_type": "code",
   "execution_count": 259,
   "metadata": {},
   "outputs": [
    {
     "data": {
      "text/html": [
       "<div>\n",
       "<style scoped>\n",
       "    .dataframe tbody tr th:only-of-type {\n",
       "        vertical-align: middle;\n",
       "    }\n",
       "\n",
       "    .dataframe tbody tr th {\n",
       "        vertical-align: top;\n",
       "    }\n",
       "\n",
       "    .dataframe thead th {\n",
       "        text-align: right;\n",
       "    }\n",
       "</style>\n",
       "<table border=\"1\" class=\"dataframe\">\n",
       "  <thead>\n",
       "    <tr style=\"text-align: right;\">\n",
       "      <th></th>\n",
       "      <th>PrimaryImpression</th>\n",
       "      <th>total_count</th>\n",
       "      <th>mismatch_count</th>\n",
       "      <th>percentage_of_mismatch</th>\n",
       "    </tr>\n",
       "  </thead>\n",
       "  <tbody>\n",
       "    <tr>\n",
       "      <th>0</th>\n",
       "      <td>Weakness (R53.1)</td>\n",
       "      <td>178</td>\n",
       "      <td>NaN</td>\n",
       "      <td>NaN</td>\n",
       "    </tr>\n",
       "    <tr>\n",
       "      <th>1</th>\n",
       "      <td>Respiratory - Acute Distress/ Breathing Diffic...</td>\n",
       "      <td>173</td>\n",
       "      <td>NaN</td>\n",
       "      <td>NaN</td>\n",
       "    </tr>\n",
       "    <tr>\n",
       "      <th>2</th>\n",
       "      <td>Syncope - Syncopal/Fainting Episode (or Near) ...</td>\n",
       "      <td>109</td>\n",
       "      <td>NaN</td>\n",
       "      <td>NaN</td>\n",
       "    </tr>\n",
       "  </tbody>\n",
       "</table>\n",
       "</div>"
      ],
      "text/plain": [
       "                                   PrimaryImpression  total_count  \\\n",
       "0                                   Weakness (R53.1)          178   \n",
       "1  Respiratory - Acute Distress/ Breathing Diffic...          173   \n",
       "2  Syncope - Syncopal/Fainting Episode (or Near) ...          109   \n",
       "\n",
       "   mismatch_count  percentage_of_mismatch  \n",
       "0             NaN                     NaN  \n",
       "1             NaN                     NaN  \n",
       "2             NaN                     NaN  "
      ]
     },
     "execution_count": 259,
     "metadata": {},
     "output_type": "execute_result"
    }
   ],
   "source": [
    "analyze_feature(incidentpatientunitsfacilitiesmerge[incidentpatientunitsfacilitiesmerge.ReasonForChoosingHospital== \"Patient's Choice,Family Choice\"], \n",
    "                                                    \"PrimaryImpression\",\n",
    "                                                    0.9, 100)"
   ]
  },
  {
   "cell_type": "code",
   "execution_count": 260,
   "metadata": {},
   "outputs": [
    {
     "data": {
      "text/html": [
       "<div>\n",
       "<style scoped>\n",
       "    .dataframe tbody tr th:only-of-type {\n",
       "        vertical-align: middle;\n",
       "    }\n",
       "\n",
       "    .dataframe tbody tr th {\n",
       "        vertical-align: top;\n",
       "    }\n",
       "\n",
       "    .dataframe thead th {\n",
       "        text-align: right;\n",
       "    }\n",
       "</style>\n",
       "<table border=\"1\" class=\"dataframe\">\n",
       "  <thead>\n",
       "    <tr style=\"text-align: right;\">\n",
       "      <th></th>\n",
       "      <th>TransportUnitID</th>\n",
       "      <th>total_count</th>\n",
       "      <th>mismatch_count</th>\n",
       "      <th>percentage_of_mismatch</th>\n",
       "    </tr>\n",
       "  </thead>\n",
       "  <tbody>\n",
       "    <tr>\n",
       "      <th>0</th>\n",
       "      <td>408</td>\n",
       "      <td>17518</td>\n",
       "      <td>NaN</td>\n",
       "      <td>NaN</td>\n",
       "    </tr>\n",
       "    <tr>\n",
       "      <th>1</th>\n",
       "      <td>425</td>\n",
       "      <td>16747</td>\n",
       "      <td>NaN</td>\n",
       "      <td>NaN</td>\n",
       "    </tr>\n",
       "    <tr>\n",
       "      <th>2</th>\n",
       "      <td>409</td>\n",
       "      <td>15771</td>\n",
       "      <td>NaN</td>\n",
       "      <td>NaN</td>\n",
       "    </tr>\n",
       "    <tr>\n",
       "      <th>3</th>\n",
       "      <td>411</td>\n",
       "      <td>15619</td>\n",
       "      <td>NaN</td>\n",
       "      <td>NaN</td>\n",
       "    </tr>\n",
       "    <tr>\n",
       "      <th>4</th>\n",
       "      <td>422</td>\n",
       "      <td>11399</td>\n",
       "      <td>NaN</td>\n",
       "      <td>NaN</td>\n",
       "    </tr>\n",
       "    <tr>\n",
       "      <th>5</th>\n",
       "      <td>410</td>\n",
       "      <td>10875</td>\n",
       "      <td>NaN</td>\n",
       "      <td>NaN</td>\n",
       "    </tr>\n",
       "    <tr>\n",
       "      <th>6</th>\n",
       "      <td>430</td>\n",
       "      <td>10184</td>\n",
       "      <td>NaN</td>\n",
       "      <td>NaN</td>\n",
       "    </tr>\n",
       "    <tr>\n",
       "      <th>7</th>\n",
       "      <td>421</td>\n",
       "      <td>8892</td>\n",
       "      <td>NaN</td>\n",
       "      <td>NaN</td>\n",
       "    </tr>\n",
       "    <tr>\n",
       "      <th>8</th>\n",
       "      <td>426</td>\n",
       "      <td>8675</td>\n",
       "      <td>NaN</td>\n",
       "      <td>NaN</td>\n",
       "    </tr>\n",
       "    <tr>\n",
       "      <th>9</th>\n",
       "      <td>405</td>\n",
       "      <td>8653</td>\n",
       "      <td>NaN</td>\n",
       "      <td>NaN</td>\n",
       "    </tr>\n",
       "    <tr>\n",
       "      <th>10</th>\n",
       "      <td>429</td>\n",
       "      <td>8556</td>\n",
       "      <td>NaN</td>\n",
       "      <td>NaN</td>\n",
       "    </tr>\n",
       "    <tr>\n",
       "      <th>11</th>\n",
       "      <td>417</td>\n",
       "      <td>8543</td>\n",
       "      <td>NaN</td>\n",
       "      <td>NaN</td>\n",
       "    </tr>\n",
       "    <tr>\n",
       "      <th>12</th>\n",
       "      <td>404</td>\n",
       "      <td>8540</td>\n",
       "      <td>NaN</td>\n",
       "      <td>NaN</td>\n",
       "    </tr>\n",
       "    <tr>\n",
       "      <th>13</th>\n",
       "      <td>413</td>\n",
       "      <td>8471</td>\n",
       "      <td>NaN</td>\n",
       "      <td>NaN</td>\n",
       "    </tr>\n",
       "    <tr>\n",
       "      <th>14</th>\n",
       "      <td>431</td>\n",
       "      <td>7971</td>\n",
       "      <td>NaN</td>\n",
       "      <td>NaN</td>\n",
       "    </tr>\n",
       "    <tr>\n",
       "      <th>15</th>\n",
       "      <td>440</td>\n",
       "      <td>7698</td>\n",
       "      <td>NaN</td>\n",
       "      <td>NaN</td>\n",
       "    </tr>\n",
       "    <tr>\n",
       "      <th>16</th>\n",
       "      <td>419</td>\n",
       "      <td>7618</td>\n",
       "      <td>NaN</td>\n",
       "      <td>NaN</td>\n",
       "    </tr>\n",
       "    <tr>\n",
       "      <th>17</th>\n",
       "      <td>415</td>\n",
       "      <td>7592</td>\n",
       "      <td>NaN</td>\n",
       "      <td>NaN</td>\n",
       "    </tr>\n",
       "    <tr>\n",
       "      <th>18</th>\n",
       "      <td>414</td>\n",
       "      <td>7590</td>\n",
       "      <td>NaN</td>\n",
       "      <td>NaN</td>\n",
       "    </tr>\n",
       "    <tr>\n",
       "      <th>19</th>\n",
       "      <td>427</td>\n",
       "      <td>7324</td>\n",
       "      <td>NaN</td>\n",
       "      <td>NaN</td>\n",
       "    </tr>\n",
       "    <tr>\n",
       "      <th>20</th>\n",
       "      <td>436</td>\n",
       "      <td>7023</td>\n",
       "      <td>NaN</td>\n",
       "      <td>NaN</td>\n",
       "    </tr>\n",
       "    <tr>\n",
       "      <th>21</th>\n",
       "      <td>424</td>\n",
       "      <td>6905</td>\n",
       "      <td>NaN</td>\n",
       "      <td>NaN</td>\n",
       "    </tr>\n",
       "    <tr>\n",
       "      <th>22</th>\n",
       "      <td>401</td>\n",
       "      <td>6826</td>\n",
       "      <td>NaN</td>\n",
       "      <td>NaN</td>\n",
       "    </tr>\n",
       "    <tr>\n",
       "      <th>23</th>\n",
       "      <td>418</td>\n",
       "      <td>6790</td>\n",
       "      <td>NaN</td>\n",
       "      <td>NaN</td>\n",
       "    </tr>\n",
       "    <tr>\n",
       "      <th>24</th>\n",
       "      <td>438</td>\n",
       "      <td>6221</td>\n",
       "      <td>NaN</td>\n",
       "      <td>NaN</td>\n",
       "    </tr>\n",
       "    <tr>\n",
       "      <th>25</th>\n",
       "      <td>423</td>\n",
       "      <td>6028</td>\n",
       "      <td>NaN</td>\n",
       "      <td>NaN</td>\n",
       "    </tr>\n",
       "    <tr>\n",
       "      <th>26</th>\n",
       "      <td>402</td>\n",
       "      <td>5954</td>\n",
       "      <td>NaN</td>\n",
       "      <td>NaN</td>\n",
       "    </tr>\n",
       "    <tr>\n",
       "      <th>27</th>\n",
       "      <td>432</td>\n",
       "      <td>5664</td>\n",
       "      <td>NaN</td>\n",
       "      <td>NaN</td>\n",
       "    </tr>\n",
       "    <tr>\n",
       "      <th>28</th>\n",
       "      <td>435</td>\n",
       "      <td>5507</td>\n",
       "      <td>NaN</td>\n",
       "      <td>NaN</td>\n",
       "    </tr>\n",
       "    <tr>\n",
       "      <th>29</th>\n",
       "      <td>428</td>\n",
       "      <td>5422</td>\n",
       "      <td>NaN</td>\n",
       "      <td>NaN</td>\n",
       "    </tr>\n",
       "    <tr>\n",
       "      <th>30</th>\n",
       "      <td>437</td>\n",
       "      <td>4971</td>\n",
       "      <td>NaN</td>\n",
       "      <td>NaN</td>\n",
       "    </tr>\n",
       "    <tr>\n",
       "      <th>31</th>\n",
       "      <td>434</td>\n",
       "      <td>4926</td>\n",
       "      <td>NaN</td>\n",
       "      <td>NaN</td>\n",
       "    </tr>\n",
       "    <tr>\n",
       "      <th>32</th>\n",
       "      <td>442</td>\n",
       "      <td>4755</td>\n",
       "      <td>NaN</td>\n",
       "      <td>NaN</td>\n",
       "    </tr>\n",
       "    <tr>\n",
       "      <th>33</th>\n",
       "      <td>439</td>\n",
       "      <td>4750</td>\n",
       "      <td>NaN</td>\n",
       "      <td>NaN</td>\n",
       "    </tr>\n",
       "    <tr>\n",
       "      <th>34</th>\n",
       "      <td>441</td>\n",
       "      <td>3156</td>\n",
       "      <td>NaN</td>\n",
       "      <td>NaN</td>\n",
       "    </tr>\n",
       "    <tr>\n",
       "      <th>35</th>\n",
       "      <td>412</td>\n",
       "      <td>2029</td>\n",
       "      <td>NaN</td>\n",
       "      <td>NaN</td>\n",
       "    </tr>\n",
       "    <tr>\n",
       "      <th>36</th>\n",
       "      <td>420</td>\n",
       "      <td>1793</td>\n",
       "      <td>NaN</td>\n",
       "      <td>NaN</td>\n",
       "    </tr>\n",
       "    <tr>\n",
       "      <th>37</th>\n",
       "      <td>416</td>\n",
       "      <td>1604</td>\n",
       "      <td>NaN</td>\n",
       "      <td>NaN</td>\n",
       "    </tr>\n",
       "  </tbody>\n",
       "</table>\n",
       "</div>"
      ],
      "text/plain": [
       "    TransportUnitID  total_count  mismatch_count  percentage_of_mismatch\n",
       "0               408        17518             NaN                     NaN\n",
       "1               425        16747             NaN                     NaN\n",
       "2               409        15771             NaN                     NaN\n",
       "3               411        15619             NaN                     NaN\n",
       "4               422        11399             NaN                     NaN\n",
       "5               410        10875             NaN                     NaN\n",
       "6               430        10184             NaN                     NaN\n",
       "7               421         8892             NaN                     NaN\n",
       "8               426         8675             NaN                     NaN\n",
       "9               405         8653             NaN                     NaN\n",
       "10              429         8556             NaN                     NaN\n",
       "11              417         8543             NaN                     NaN\n",
       "12              404         8540             NaN                     NaN\n",
       "13              413         8471             NaN                     NaN\n",
       "14              431         7971             NaN                     NaN\n",
       "15              440         7698             NaN                     NaN\n",
       "16              419         7618             NaN                     NaN\n",
       "17              415         7592             NaN                     NaN\n",
       "18              414         7590             NaN                     NaN\n",
       "19              427         7324             NaN                     NaN\n",
       "20              436         7023             NaN                     NaN\n",
       "21              424         6905             NaN                     NaN\n",
       "22              401         6826             NaN                     NaN\n",
       "23              418         6790             NaN                     NaN\n",
       "24              438         6221             NaN                     NaN\n",
       "25              423         6028             NaN                     NaN\n",
       "26              402         5954             NaN                     NaN\n",
       "27              432         5664             NaN                     NaN\n",
       "28              435         5507             NaN                     NaN\n",
       "29              428         5422             NaN                     NaN\n",
       "30              437         4971             NaN                     NaN\n",
       "31              434         4926             NaN                     NaN\n",
       "32              442         4755             NaN                     NaN\n",
       "33              439         4750             NaN                     NaN\n",
       "34              441         3156             NaN                     NaN\n",
       "35              412         2029             NaN                     NaN\n",
       "36              420         1793             NaN                     NaN\n",
       "37              416         1604             NaN                     NaN"
      ]
     },
     "execution_count": 260,
     "metadata": {},
     "output_type": "execute_result"
    }
   ],
   "source": [
    "analyze_feature(incidentpatientunitsfacilitiesmerge, \"TransportUnitID\")"
   ]
  },
  {
   "cell_type": "code",
   "execution_count": 261,
   "metadata": {},
   "outputs": [
    {
     "data": {
      "text/html": [
       "<div>\n",
       "<style scoped>\n",
       "    .dataframe tbody tr th:only-of-type {\n",
       "        vertical-align: middle;\n",
       "    }\n",
       "\n",
       "    .dataframe tbody tr th {\n",
       "        vertical-align: top;\n",
       "    }\n",
       "\n",
       "    .dataframe thead th {\n",
       "        text-align: right;\n",
       "    }\n",
       "</style>\n",
       "<table border=\"1\" class=\"dataframe\">\n",
       "  <thead>\n",
       "    <tr style=\"text-align: right;\">\n",
       "      <th></th>\n",
       "      <th>PrimaryImpression</th>\n",
       "      <th>total_count</th>\n",
       "      <th>mismatch_count</th>\n",
       "      <th>percentage_of_mismatch</th>\n",
       "    </tr>\n",
       "  </thead>\n",
       "  <tbody>\n",
       "    <tr>\n",
       "      <th>0</th>\n",
       "      <td>Pain - Not Elsewhere Mentioned Sudden Onset (G...</td>\n",
       "      <td>375</td>\n",
       "      <td>NaN</td>\n",
       "      <td>NaN</td>\n",
       "    </tr>\n",
       "    <tr>\n",
       "      <th>1</th>\n",
       "      <td>Respiratory - Acute Distress/ Breathing Diffic...</td>\n",
       "      <td>359</td>\n",
       "      <td>NaN</td>\n",
       "      <td>NaN</td>\n",
       "    </tr>\n",
       "    <tr>\n",
       "      <th>2</th>\n",
       "      <td>Syncope - Syncopal/Fainting Episode (or Near) ...</td>\n",
       "      <td>331</td>\n",
       "      <td>NaN</td>\n",
       "      <td>NaN</td>\n",
       "    </tr>\n",
       "    <tr>\n",
       "      <th>3</th>\n",
       "      <td>Weakness (R53.1)</td>\n",
       "      <td>304</td>\n",
       "      <td>NaN</td>\n",
       "      <td>NaN</td>\n",
       "    </tr>\n",
       "    <tr>\n",
       "      <th>4</th>\n",
       "      <td>Neuro - Altered Mental Status / Level of Consc...</td>\n",
       "      <td>269</td>\n",
       "      <td>NaN</td>\n",
       "      <td>NaN</td>\n",
       "    </tr>\n",
       "    <tr>\n",
       "      <th>5</th>\n",
       "      <td>Neuro - Seizure (G40.909)</td>\n",
       "      <td>266</td>\n",
       "      <td>NaN</td>\n",
       "      <td>NaN</td>\n",
       "    </tr>\n",
       "    <tr>\n",
       "      <th>6</th>\n",
       "      <td>Injury - Head without L.O.C. (S06.0X0A)</td>\n",
       "      <td>257</td>\n",
       "      <td>NaN</td>\n",
       "      <td>NaN</td>\n",
       "    </tr>\n",
       "    <tr>\n",
       "      <th>7</th>\n",
       "      <td>Injury - Neck (S19.9)</td>\n",
       "      <td>219</td>\n",
       "      <td>NaN</td>\n",
       "      <td>NaN</td>\n",
       "    </tr>\n",
       "    <tr>\n",
       "      <th>8</th>\n",
       "      <td>Abuse of Alcohol (ETOH) - Intoxication (F10.92)</td>\n",
       "      <td>203</td>\n",
       "      <td>NaN</td>\n",
       "      <td>NaN</td>\n",
       "    </tr>\n",
       "    <tr>\n",
       "      <th>9</th>\n",
       "      <td>CV - Chest Pain - Angina (I20.0)</td>\n",
       "      <td>183</td>\n",
       "      <td>NaN</td>\n",
       "      <td>NaN</td>\n",
       "    </tr>\n",
       "    <tr>\n",
       "      <th>10</th>\n",
       "      <td>GI/GU - Abdominal Pain/Problem (R10.84)</td>\n",
       "      <td>183</td>\n",
       "      <td>NaN</td>\n",
       "      <td>NaN</td>\n",
       "    </tr>\n",
       "    <tr>\n",
       "      <th>11</th>\n",
       "      <td>GI/GU - Nausea (With Vomiting) (R11.2)</td>\n",
       "      <td>171</td>\n",
       "      <td>NaN</td>\n",
       "      <td>NaN</td>\n",
       "    </tr>\n",
       "    <tr>\n",
       "      <th>12</th>\n",
       "      <td>Pain - Back (Non-traumatic) (M54.9)</td>\n",
       "      <td>166</td>\n",
       "      <td>NaN</td>\n",
       "      <td>NaN</td>\n",
       "    </tr>\n",
       "    <tr>\n",
       "      <th>13</th>\n",
       "      <td>Malaise (R53.81)</td>\n",
       "      <td>163</td>\n",
       "      <td>NaN</td>\n",
       "      <td>NaN</td>\n",
       "    </tr>\n",
       "    <tr>\n",
       "      <th>14</th>\n",
       "      <td>CV - Chest Pain - Presumed Cardiac (I20.9)</td>\n",
       "      <td>158</td>\n",
       "      <td>NaN</td>\n",
       "      <td>NaN</td>\n",
       "    </tr>\n",
       "    <tr>\n",
       "      <th>15</th>\n",
       "      <td>CV - Cardiac Arrhythmia/Dysrhythmia (I49.9)</td>\n",
       "      <td>146</td>\n",
       "      <td>NaN</td>\n",
       "      <td>NaN</td>\n",
       "    </tr>\n",
       "    <tr>\n",
       "      <th>16</th>\n",
       "      <td>Pain - Extremity (Non-traumatic) (M79.609)</td>\n",
       "      <td>138</td>\n",
       "      <td>NaN</td>\n",
       "      <td>NaN</td>\n",
       "    </tr>\n",
       "    <tr>\n",
       "      <th>17</th>\n",
       "      <td>CV - Cardiac Arrest (I46.9)</td>\n",
       "      <td>136</td>\n",
       "      <td>NaN</td>\n",
       "      <td>NaN</td>\n",
       "    </tr>\n",
       "    <tr>\n",
       "      <th>18</th>\n",
       "      <td>Behavioral - Anxiety (F41.9)</td>\n",
       "      <td>136</td>\n",
       "      <td>NaN</td>\n",
       "      <td>NaN</td>\n",
       "    </tr>\n",
       "    <tr>\n",
       "      <th>19</th>\n",
       "      <td>Injury - Lower Back (S39.92)</td>\n",
       "      <td>133</td>\n",
       "      <td>NaN</td>\n",
       "      <td>NaN</td>\n",
       "    </tr>\n",
       "    <tr>\n",
       "      <th>20</th>\n",
       "      <td>Injury - Not Otherwise Listed (T14.90)</td>\n",
       "      <td>122</td>\n",
       "      <td>NaN</td>\n",
       "      <td>NaN</td>\n",
       "    </tr>\n",
       "    <tr>\n",
       "      <th>21</th>\n",
       "      <td>Fever (R50.9)</td>\n",
       "      <td>121</td>\n",
       "      <td>NaN</td>\n",
       "      <td>NaN</td>\n",
       "    </tr>\n",
       "    <tr>\n",
       "      <th>22</th>\n",
       "      <td>Allergic Reaction (T78.40)</td>\n",
       "      <td>109</td>\n",
       "      <td>NaN</td>\n",
       "      <td>NaN</td>\n",
       "    </tr>\n",
       "    <tr>\n",
       "      <th>23</th>\n",
       "      <td>Injury - Shoulder or Upper Arm (S49.9)</td>\n",
       "      <td>109</td>\n",
       "      <td>NaN</td>\n",
       "      <td>NaN</td>\n",
       "    </tr>\n",
       "    <tr>\n",
       "      <th>24</th>\n",
       "      <td>Pain - Chest (presumed non-cardiac) (R07.89)</td>\n",
       "      <td>108</td>\n",
       "      <td>NaN</td>\n",
       "      <td>NaN</td>\n",
       "    </tr>\n",
       "    <tr>\n",
       "      <th>25</th>\n",
       "      <td>Injury - Lower leg (S89.9)</td>\n",
       "      <td>107</td>\n",
       "      <td>NaN</td>\n",
       "      <td>NaN</td>\n",
       "    </tr>\n",
       "    <tr>\n",
       "      <th>26</th>\n",
       "      <td>Injury - Wrist, Hand, or Fingers (S69.9)</td>\n",
       "      <td>103</td>\n",
       "      <td>NaN</td>\n",
       "      <td>NaN</td>\n",
       "    </tr>\n",
       "    <tr>\n",
       "      <th>27</th>\n",
       "      <td>Injury - Head with L.O.C. (S06.0X9A)</td>\n",
       "      <td>101</td>\n",
       "      <td>NaN</td>\n",
       "      <td>NaN</td>\n",
       "    </tr>\n",
       "  </tbody>\n",
       "</table>\n",
       "</div>"
      ],
      "text/plain": [
       "                                    PrimaryImpression  total_count  \\\n",
       "0   Pain - Not Elsewhere Mentioned Sudden Onset (G...          375   \n",
       "1   Respiratory - Acute Distress/ Breathing Diffic...          359   \n",
       "2   Syncope - Syncopal/Fainting Episode (or Near) ...          331   \n",
       "3                                    Weakness (R53.1)          304   \n",
       "4   Neuro - Altered Mental Status / Level of Consc...          269   \n",
       "5                           Neuro - Seizure (G40.909)          266   \n",
       "6             Injury - Head without L.O.C. (S06.0X0A)          257   \n",
       "7                               Injury - Neck (S19.9)          219   \n",
       "8     Abuse of Alcohol (ETOH) - Intoxication (F10.92)          203   \n",
       "9                    CV - Chest Pain - Angina (I20.0)          183   \n",
       "10            GI/GU - Abdominal Pain/Problem (R10.84)          183   \n",
       "11             GI/GU - Nausea (With Vomiting) (R11.2)          171   \n",
       "12                Pain - Back (Non-traumatic) (M54.9)          166   \n",
       "13                                   Malaise (R53.81)          163   \n",
       "14         CV - Chest Pain - Presumed Cardiac (I20.9)          158   \n",
       "15        CV - Cardiac Arrhythmia/Dysrhythmia (I49.9)          146   \n",
       "16         Pain - Extremity (Non-traumatic) (M79.609)          138   \n",
       "17                        CV - Cardiac Arrest (I46.9)          136   \n",
       "18                       Behavioral - Anxiety (F41.9)          136   \n",
       "19                       Injury - Lower Back (S39.92)          133   \n",
       "20             Injury - Not Otherwise Listed (T14.90)          122   \n",
       "21                                      Fever (R50.9)          121   \n",
       "22                         Allergic Reaction (T78.40)          109   \n",
       "23             Injury - Shoulder or Upper Arm (S49.9)          109   \n",
       "24       Pain - Chest (presumed non-cardiac) (R07.89)          108   \n",
       "25                         Injury - Lower leg (S89.9)          107   \n",
       "26           Injury - Wrist, Hand, or Fingers (S69.9)          103   \n",
       "27               Injury - Head with L.O.C. (S06.0X9A)          101   \n",
       "\n",
       "    mismatch_count  percentage_of_mismatch  \n",
       "0              NaN                     NaN  \n",
       "1              NaN                     NaN  \n",
       "2              NaN                     NaN  \n",
       "3              NaN                     NaN  \n",
       "4              NaN                     NaN  \n",
       "5              NaN                     NaN  \n",
       "6              NaN                     NaN  \n",
       "7              NaN                     NaN  \n",
       "8              NaN                     NaN  \n",
       "9              NaN                     NaN  \n",
       "10             NaN                     NaN  \n",
       "11             NaN                     NaN  \n",
       "12             NaN                     NaN  \n",
       "13             NaN                     NaN  \n",
       "14             NaN                     NaN  \n",
       "15             NaN                     NaN  \n",
       "16             NaN                     NaN  \n",
       "17             NaN                     NaN  \n",
       "18             NaN                     NaN  \n",
       "19             NaN                     NaN  \n",
       "20             NaN                     NaN  \n",
       "21             NaN                     NaN  \n",
       "22             NaN                     NaN  \n",
       "23             NaN                     NaN  \n",
       "24             NaN                     NaN  \n",
       "25             NaN                     NaN  \n",
       "26             NaN                     NaN  \n",
       "27             NaN                     NaN  "
      ]
     },
     "execution_count": 261,
     "metadata": {},
     "output_type": "execute_result"
    }
   ],
   "source": [
    "analyze_feature(incidentpatientunitsfacilitiesmerge[incidentpatientunitsfacilitiesmerge.TransportUnitID== 415], \n",
    "                                                    \"PrimaryImpression\",\n",
    "                                                    0.9, 100)"
   ]
  },
  {
   "cell_type": "code",
   "execution_count": 262,
   "metadata": {},
   "outputs": [
    {
     "name": "stderr",
     "output_type": "stream",
     "text": [
      "D:\\Softwares\\anaconda3\\lib\\site-packages\\pandas\\core\\ops\\array_ops.py:253: FutureWarning: elementwise comparison failed; returning scalar instead, but in the future will perform elementwise comparison\n",
      "  res_values = method(rvalues)\n"
     ]
    },
    {
     "data": {
      "text/html": [
       "<div>\n",
       "<style scoped>\n",
       "    .dataframe tbody tr th:only-of-type {\n",
       "        vertical-align: middle;\n",
       "    }\n",
       "\n",
       "    .dataframe tbody tr th {\n",
       "        vertical-align: top;\n",
       "    }\n",
       "\n",
       "    .dataframe thead th {\n",
       "        text-align: right;\n",
       "    }\n",
       "</style>\n",
       "<table border=\"1\" class=\"dataframe\">\n",
       "  <thead>\n",
       "    <tr style=\"text-align: right;\">\n",
       "      <th></th>\n",
       "      <th>PrimaryImpression</th>\n",
       "      <th>total_count</th>\n",
       "      <th>mismatch_count</th>\n",
       "      <th>percentage_of_mismatch</th>\n",
       "    </tr>\n",
       "  </thead>\n",
       "  <tbody>\n",
       "  </tbody>\n",
       "</table>\n",
       "</div>"
      ],
      "text/plain": [
       "Empty DataFrame\n",
       "Columns: [PrimaryImpression, total_count, mismatch_count, percentage_of_mismatch]\n",
       "Index: []"
      ]
     },
     "execution_count": 262,
     "metadata": {},
     "output_type": "execute_result"
    }
   ],
   "source": [
    "analyze_feature(incidentpatientunitsfacilitiesmerge[incidentpatientunitsfacilitiesmerge.TransportUnitID== \"415\"], \n",
    "                                                    \"PrimaryImpression\",\n",
    "                                                    0.9, 100)"
   ]
  },
  {
   "cell_type": "code",
   "execution_count": null,
   "metadata": {},
   "outputs": [],
   "source": []
  },
  {
   "cell_type": "code",
   "execution_count": null,
   "metadata": {},
   "outputs": [],
   "source": []
  },
  {
   "cell_type": "code",
   "execution_count": 15,
   "metadata": {},
   "outputs": [
    {
     "data": {
      "text/html": [
       "<div>\n",
       "<style scoped>\n",
       "    .dataframe tbody tr th:only-of-type {\n",
       "        vertical-align: middle;\n",
       "    }\n",
       "\n",
       "    .dataframe tbody tr th {\n",
       "        vertical-align: top;\n",
       "    }\n",
       "\n",
       "    .dataframe thead th {\n",
       "        text-align: right;\n",
       "    }\n",
       "</style>\n",
       "<table border=\"1\" class=\"dataframe\">\n",
       "  <thead>\n",
       "    <tr style=\"text-align: right;\">\n",
       "      <th></th>\n",
       "      <th>TransportUnitID</th>\n",
       "      <th>TransportLOC</th>\n",
       "      <th>TransportHospitalCode</th>\n",
       "      <th>ReasonForChoosingHospital</th>\n",
       "      <th>PatientAge</th>\n",
       "      <th>PrimaryImpression</th>\n",
       "      <th>PatientDisposition</th>\n",
       "      <th>TransportUnitLOC</th>\n",
       "      <th>UnitPrimaryActionTaken</th>\n",
       "      <th>UnitStation</th>\n",
       "      <th>UnitType</th>\n",
       "      <th>UnitArrivalOrder</th>\n",
       "      <th>ShiftDay</th>\n",
       "      <th>TourOfShift</th>\n",
       "      <th>IncidentFirstDue</th>\n",
       "      <th>FinalIncidentType</th>\n",
       "      <th>model_probability</th>\n",
       "      <th>model_prediction</th>\n",
       "      <th>Mismatch</th>\n",
       "    </tr>\n",
       "  </thead>\n",
       "  <tbody>\n",
       "    <tr>\n",
       "      <th>0</th>\n",
       "      <td>401</td>\n",
       "      <td>Level 3: 1 Provider (ALS Care)</td>\n",
       "      <td>3</td>\n",
       "      <td>Patient's Choice,Closest Facility</td>\n",
       "      <td>80 - 89</td>\n",
       "      <td>GI/GU - Nausea (With Vomiting) (R11.2)</td>\n",
       "      <td>Treated &amp; Transported</td>\n",
       "      <td>ALS-Paramedic</td>\n",
       "      <td>Provide manpower</td>\n",
       "      <td>1</td>\n",
       "      <td>Engine</td>\n",
       "      <td>2</td>\n",
       "      <td>B</td>\n",
       "      <td>1.0</td>\n",
       "      <td>1</td>\n",
       "      <td>ALS</td>\n",
       "      <td>1.000000</td>\n",
       "      <td>11</td>\n",
       "      <td>True</td>\n",
       "    </tr>\n",
       "    <tr>\n",
       "      <th>1</th>\n",
       "      <td>401</td>\n",
       "      <td>Level 3: 1 Provider (ALS Care)</td>\n",
       "      <td>3</td>\n",
       "      <td>Patient's Choice,Closest Facility</td>\n",
       "      <td>80 - 89</td>\n",
       "      <td>GI/GU - Nausea (With Vomiting) (R11.2)</td>\n",
       "      <td>Treated &amp; Transported</td>\n",
       "      <td>ALS-Paramedic</td>\n",
       "      <td>Provide advanced life support (ALS)</td>\n",
       "      <td>1</td>\n",
       "      <td>Medic</td>\n",
       "      <td>1</td>\n",
       "      <td>B</td>\n",
       "      <td>1.0</td>\n",
       "      <td>1</td>\n",
       "      <td>ALS</td>\n",
       "      <td>1.000000</td>\n",
       "      <td>11</td>\n",
       "      <td>True</td>\n",
       "    </tr>\n",
       "    <tr>\n",
       "      <th>2</th>\n",
       "      <td>401</td>\n",
       "      <td>Level 4: 1 Provider (BLS Care)</td>\n",
       "      <td>3</td>\n",
       "      <td>Patient's Choice</td>\n",
       "      <td>80 - 89</td>\n",
       "      <td>EENT - Eye Pain (Non-traumatic) (H57.10)</td>\n",
       "      <td>Treated &amp; Transported</td>\n",
       "      <td>ALS-Paramedic</td>\n",
       "      <td>Provide advanced life support (ALS)</td>\n",
       "      <td>1</td>\n",
       "      <td>Medic</td>\n",
       "      <td>1</td>\n",
       "      <td>A</td>\n",
       "      <td>3.0</td>\n",
       "      <td>1</td>\n",
       "      <td>BLS</td>\n",
       "      <td>0.613191</td>\n",
       "      <td>3</td>\n",
       "      <td>False</td>\n",
       "    </tr>\n",
       "    <tr>\n",
       "      <th>3</th>\n",
       "      <td>401</td>\n",
       "      <td>Level 4: 1 Provider (BLS Care)</td>\n",
       "      <td>16</td>\n",
       "      <td>Closest Facility</td>\n",
       "      <td>40 - 49</td>\n",
       "      <td>Injury - Foot (S99.92)</td>\n",
       "      <td>Treated &amp; Transported</td>\n",
       "      <td>ALS-Paramedic</td>\n",
       "      <td>Provide manpower</td>\n",
       "      <td>1</td>\n",
       "      <td>Engine</td>\n",
       "      <td>1</td>\n",
       "      <td>B</td>\n",
       "      <td>2.0</td>\n",
       "      <td>1</td>\n",
       "      <td>BLS</td>\n",
       "      <td>0.691172</td>\n",
       "      <td>16</td>\n",
       "      <td>False</td>\n",
       "    </tr>\n",
       "    <tr>\n",
       "      <th>4</th>\n",
       "      <td>401</td>\n",
       "      <td>Level 4: 1 Provider (BLS Care)</td>\n",
       "      <td>16</td>\n",
       "      <td>Closest Facility</td>\n",
       "      <td>40 - 49</td>\n",
       "      <td>Injury - Foot (S99.92)</td>\n",
       "      <td>Treated &amp; Transported</td>\n",
       "      <td>ALS-Paramedic</td>\n",
       "      <td>Provide advanced life support (ALS)</td>\n",
       "      <td>1</td>\n",
       "      <td>Medic</td>\n",
       "      <td>2</td>\n",
       "      <td>B</td>\n",
       "      <td>2.0</td>\n",
       "      <td>1</td>\n",
       "      <td>BLS</td>\n",
       "      <td>0.690932</td>\n",
       "      <td>16</td>\n",
       "      <td>False</td>\n",
       "    </tr>\n",
       "    <tr>\n",
       "      <th>...</th>\n",
       "      <td>...</td>\n",
       "      <td>...</td>\n",
       "      <td>...</td>\n",
       "      <td>...</td>\n",
       "      <td>...</td>\n",
       "      <td>...</td>\n",
       "      <td>...</td>\n",
       "      <td>...</td>\n",
       "      <td>...</td>\n",
       "      <td>...</td>\n",
       "      <td>...</td>\n",
       "      <td>...</td>\n",
       "      <td>...</td>\n",
       "      <td>...</td>\n",
       "      <td>...</td>\n",
       "      <td>...</td>\n",
       "      <td>...</td>\n",
       "      <td>...</td>\n",
       "      <td>...</td>\n",
       "    </tr>\n",
       "    <tr>\n",
       "      <th>283445</th>\n",
       "      <td>429</td>\n",
       "      <td>Level 4: 1 Provider (BLS Care)</td>\n",
       "      <td>16</td>\n",
       "      <td>Closest Facility,Family Choice</td>\n",
       "      <td>80 - 89</td>\n",
       "      <td>Injury - Lower leg (S89.9)</td>\n",
       "      <td>Treated &amp; Transported</td>\n",
       "      <td>ALS-Paramedic</td>\n",
       "      <td>Emergency medical services, other</td>\n",
       "      <td>28</td>\n",
       "      <td>Engine</td>\n",
       "      <td>1</td>\n",
       "      <td>C</td>\n",
       "      <td>2.0</td>\n",
       "      <td>1</td>\n",
       "      <td>MEDICAL</td>\n",
       "      <td>0.917983</td>\n",
       "      <td>16</td>\n",
       "      <td>False</td>\n",
       "    </tr>\n",
       "    <tr>\n",
       "      <th>283446</th>\n",
       "      <td>429</td>\n",
       "      <td>Level 4: 1 Provider (BLS Care)</td>\n",
       "      <td>16</td>\n",
       "      <td>Closest Facility,Family Choice</td>\n",
       "      <td>80 - 89</td>\n",
       "      <td>Injury - Lower leg (S89.9)</td>\n",
       "      <td>Treated &amp; Transported</td>\n",
       "      <td>ALS-Paramedic</td>\n",
       "      <td>Provide basic life support (BLS)</td>\n",
       "      <td>29</td>\n",
       "      <td>Medic</td>\n",
       "      <td>2</td>\n",
       "      <td>C</td>\n",
       "      <td>2.0</td>\n",
       "      <td>1</td>\n",
       "      <td>MEDICAL</td>\n",
       "      <td>1.000000</td>\n",
       "      <td>3</td>\n",
       "      <td>True</td>\n",
       "    </tr>\n",
       "    <tr>\n",
       "      <th>283447</th>\n",
       "      <td>429</td>\n",
       "      <td>Level 2: 2 Providers (ALS Care)</td>\n",
       "      <td>16</td>\n",
       "      <td>Closest Facility</td>\n",
       "      <td>2021-10-19 00:00:00</td>\n",
       "      <td>Neuro - Altered Mental Status / Level of Consc...</td>\n",
       "      <td>Treated &amp; Transported</td>\n",
       "      <td>ALS-Paramedic</td>\n",
       "      <td>Provide advanced life support (ALS)</td>\n",
       "      <td>1</td>\n",
       "      <td>Engine</td>\n",
       "      <td>1</td>\n",
       "      <td>A</td>\n",
       "      <td>1.0</td>\n",
       "      <td>1</td>\n",
       "      <td>MEDICAL</td>\n",
       "      <td>0.914441</td>\n",
       "      <td>16</td>\n",
       "      <td>False</td>\n",
       "    </tr>\n",
       "    <tr>\n",
       "      <th>283448</th>\n",
       "      <td>429</td>\n",
       "      <td>Level 2: 2 Providers (ALS Care)</td>\n",
       "      <td>16</td>\n",
       "      <td>Closest Facility</td>\n",
       "      <td>2021-10-19 00:00:00</td>\n",
       "      <td>Neuro - Altered Mental Status / Level of Consc...</td>\n",
       "      <td>Treated &amp; Transported</td>\n",
       "      <td>ALS-Paramedic</td>\n",
       "      <td>Cancelled en route</td>\n",
       "      <td>13</td>\n",
       "      <td>Engine</td>\n",
       "      <td>0</td>\n",
       "      <td>A</td>\n",
       "      <td>1.0</td>\n",
       "      <td>1</td>\n",
       "      <td>MEDICAL</td>\n",
       "      <td>0.999853</td>\n",
       "      <td>16</td>\n",
       "      <td>False</td>\n",
       "    </tr>\n",
       "    <tr>\n",
       "      <th>283449</th>\n",
       "      <td>429</td>\n",
       "      <td>Level 2: 2 Providers (ALS Care)</td>\n",
       "      <td>16</td>\n",
       "      <td>Closest Facility</td>\n",
       "      <td>2021-10-19 00:00:00</td>\n",
       "      <td>Neuro - Altered Mental Status / Level of Consc...</td>\n",
       "      <td>Treated &amp; Transported</td>\n",
       "      <td>ALS-Paramedic</td>\n",
       "      <td>Provide basic life support (BLS)</td>\n",
       "      <td>29</td>\n",
       "      <td>Medic</td>\n",
       "      <td>2</td>\n",
       "      <td>A</td>\n",
       "      <td>1.0</td>\n",
       "      <td>1</td>\n",
       "      <td>MEDICAL</td>\n",
       "      <td>1.000000</td>\n",
       "      <td>16</td>\n",
       "      <td>False</td>\n",
       "    </tr>\n",
       "  </tbody>\n",
       "</table>\n",
       "<p>283450 rows × 19 columns</p>\n",
       "</div>"
      ],
      "text/plain": [
       "        TransportUnitID                     TransportLOC  \\\n",
       "0                   401   Level 3: 1 Provider (ALS Care)   \n",
       "1                   401   Level 3: 1 Provider (ALS Care)   \n",
       "2                   401   Level 4: 1 Provider (BLS Care)   \n",
       "3                   401   Level 4: 1 Provider (BLS Care)   \n",
       "4                   401   Level 4: 1 Provider (BLS Care)   \n",
       "...                 ...                              ...   \n",
       "283445              429   Level 4: 1 Provider (BLS Care)   \n",
       "283446              429   Level 4: 1 Provider (BLS Care)   \n",
       "283447              429  Level 2: 2 Providers (ALS Care)   \n",
       "283448              429  Level 2: 2 Providers (ALS Care)   \n",
       "283449              429  Level 2: 2 Providers (ALS Care)   \n",
       "\n",
       "        TransportHospitalCode          ReasonForChoosingHospital  \\\n",
       "0                           3  Patient's Choice,Closest Facility   \n",
       "1                           3  Patient's Choice,Closest Facility   \n",
       "2                           3                   Patient's Choice   \n",
       "3                          16                   Closest Facility   \n",
       "4                          16                   Closest Facility   \n",
       "...                       ...                                ...   \n",
       "283445                     16     Closest Facility,Family Choice   \n",
       "283446                     16     Closest Facility,Family Choice   \n",
       "283447                     16                   Closest Facility   \n",
       "283448                     16                   Closest Facility   \n",
       "283449                     16                   Closest Facility   \n",
       "\n",
       "                 PatientAge  \\\n",
       "0                   80 - 89   \n",
       "1                   80 - 89   \n",
       "2                   80 - 89   \n",
       "3                   40 - 49   \n",
       "4                   40 - 49   \n",
       "...                     ...   \n",
       "283445              80 - 89   \n",
       "283446              80 - 89   \n",
       "283447  2021-10-19 00:00:00   \n",
       "283448  2021-10-19 00:00:00   \n",
       "283449  2021-10-19 00:00:00   \n",
       "\n",
       "                                        PrimaryImpression  \\\n",
       "0                  GI/GU - Nausea (With Vomiting) (R11.2)   \n",
       "1                  GI/GU - Nausea (With Vomiting) (R11.2)   \n",
       "2                EENT - Eye Pain (Non-traumatic) (H57.10)   \n",
       "3                                  Injury - Foot (S99.92)   \n",
       "4                                  Injury - Foot (S99.92)   \n",
       "...                                                   ...   \n",
       "283445                         Injury - Lower leg (S89.9)   \n",
       "283446                         Injury - Lower leg (S89.9)   \n",
       "283447  Neuro - Altered Mental Status / Level of Consc...   \n",
       "283448  Neuro - Altered Mental Status / Level of Consc...   \n",
       "283449  Neuro - Altered Mental Status / Level of Consc...   \n",
       "\n",
       "            PatientDisposition TransportUnitLOC  \\\n",
       "0       Treated & Transported     ALS-Paramedic   \n",
       "1       Treated & Transported     ALS-Paramedic   \n",
       "2       Treated & Transported     ALS-Paramedic   \n",
       "3       Treated & Transported     ALS-Paramedic   \n",
       "4       Treated & Transported     ALS-Paramedic   \n",
       "...                        ...              ...   \n",
       "283445  Treated & Transported     ALS-Paramedic   \n",
       "283446  Treated & Transported     ALS-Paramedic   \n",
       "283447  Treated & Transported     ALS-Paramedic   \n",
       "283448  Treated & Transported     ALS-Paramedic   \n",
       "283449  Treated & Transported     ALS-Paramedic   \n",
       "\n",
       "                     UnitPrimaryActionTaken UnitStation UnitType  \\\n",
       "0                          Provide manpower           1   Engine   \n",
       "1       Provide advanced life support (ALS)           1    Medic   \n",
       "2       Provide advanced life support (ALS)           1    Medic   \n",
       "3                          Provide manpower           1   Engine   \n",
       "4       Provide advanced life support (ALS)           1    Medic   \n",
       "...                                     ...         ...      ...   \n",
       "283445    Emergency medical services, other          28   Engine   \n",
       "283446     Provide basic life support (BLS)          29    Medic   \n",
       "283447  Provide advanced life support (ALS)           1   Engine   \n",
       "283448                   Cancelled en route          13   Engine   \n",
       "283449     Provide basic life support (BLS)          29    Medic   \n",
       "\n",
       "        UnitArrivalOrder ShiftDay  TourOfShift  IncidentFirstDue  \\\n",
       "0                      2        B          1.0                 1   \n",
       "1                      1        B          1.0                 1   \n",
       "2                      1        A          3.0                 1   \n",
       "3                      1        B          2.0                 1   \n",
       "4                      2        B          2.0                 1   \n",
       "...                  ...      ...          ...               ...   \n",
       "283445                 1        C          2.0                 1   \n",
       "283446                 2        C          2.0                 1   \n",
       "283447                 1        A          1.0                 1   \n",
       "283448                 0        A          1.0                 1   \n",
       "283449                 2        A          1.0                 1   \n",
       "\n",
       "       FinalIncidentType  model_probability  model_prediction  Mismatch  \n",
       "0                    ALS           1.000000                11      True  \n",
       "1                    ALS           1.000000                11      True  \n",
       "2                    BLS           0.613191                 3     False  \n",
       "3                    BLS           0.691172                16     False  \n",
       "4                    BLS           0.690932                16     False  \n",
       "...                  ...                ...               ...       ...  \n",
       "283445           MEDICAL           0.917983                16     False  \n",
       "283446           MEDICAL           1.000000                 3      True  \n",
       "283447           MEDICAL           0.914441                16     False  \n",
       "283448           MEDICAL           0.999853                16     False  \n",
       "283449           MEDICAL           1.000000                16     False  \n",
       "\n",
       "[283450 rows x 19 columns]"
      ]
     },
     "execution_count": 15,
     "metadata": {},
     "output_type": "execute_result"
    }
   ],
   "source": [
    "incidentpatientunitsfacilitiesmerge"
   ]
  },
  {
   "cell_type": "code",
   "execution_count": 371,
   "metadata": {},
   "outputs": [
    {
     "data": {
      "text/html": [
       "<div>\n",
       "<style scoped>\n",
       "    .dataframe tbody tr th:only-of-type {\n",
       "        vertical-align: middle;\n",
       "    }\n",
       "\n",
       "    .dataframe tbody tr th {\n",
       "        vertical-align: top;\n",
       "    }\n",
       "\n",
       "    .dataframe thead th {\n",
       "        text-align: right;\n",
       "    }\n",
       "</style>\n",
       "<table border=\"1\" class=\"dataframe\">\n",
       "  <thead>\n",
       "    <tr style=\"text-align: right;\">\n",
       "      <th></th>\n",
       "      <th>original</th>\n",
       "      <th>mismatch</th>\n",
       "      <th>percentage_of_mismatch</th>\n",
       "    </tr>\n",
       "  </thead>\n",
       "  <tbody>\n",
       "    <tr>\n",
       "      <th>36</th>\n",
       "      <td>34</td>\n",
       "      <td>22.0</td>\n",
       "      <td>0.647059</td>\n",
       "    </tr>\n",
       "    <tr>\n",
       "      <th>3</th>\n",
       "      <td>15</td>\n",
       "      <td>7.0</td>\n",
       "      <td>0.466667</td>\n",
       "    </tr>\n",
       "    <tr>\n",
       "      <th>95</th>\n",
       "      <td>1531</td>\n",
       "      <td>435.0</td>\n",
       "      <td>0.284128</td>\n",
       "    </tr>\n",
       "    <tr>\n",
       "      <th>16</th>\n",
       "      <td>453</td>\n",
       "      <td>122.0</td>\n",
       "      <td>0.269316</td>\n",
       "    </tr>\n",
       "    <tr>\n",
       "      <th>11</th>\n",
       "      <td>4921</td>\n",
       "      <td>1250.0</td>\n",
       "      <td>0.254013</td>\n",
       "    </tr>\n",
       "    <tr>\n",
       "      <th>59</th>\n",
       "      <td>25</td>\n",
       "      <td>5.0</td>\n",
       "      <td>0.200000</td>\n",
       "    </tr>\n",
       "  </tbody>\n",
       "</table>\n",
       "</div>"
      ],
      "text/plain": [
       "    original  mismatch  percentage_of_mismatch\n",
       "36        34      22.0                0.647059\n",
       "3         15       7.0                0.466667\n",
       "95      1531     435.0                0.284128\n",
       "16       453     122.0                0.269316\n",
       "11      4921    1250.0                0.254013\n",
       "59        25       5.0                0.200000"
      ]
     },
     "execution_count": 371,
     "metadata": {},
     "output_type": "execute_result"
    }
   ],
   "source": [
    "analyze_feature(incidentpatientunitsfacilitiesmerge[(incidentpatientunitsfacilitiesmerge.TransportUnitID == \"415\")],\n",
    "               \"TransportHospitalCode\")"
   ]
  },
  {
   "cell_type": "code",
   "execution_count": 360,
   "metadata": {},
   "outputs": [
    {
     "data": {
      "text/html": [
       "<div>\n",
       "<style scoped>\n",
       "    .dataframe tbody tr th:only-of-type {\n",
       "        vertical-align: middle;\n",
       "    }\n",
       "\n",
       "    .dataframe tbody tr th {\n",
       "        vertical-align: top;\n",
       "    }\n",
       "\n",
       "    .dataframe thead th {\n",
       "        text-align: right;\n",
       "    }\n",
       "</style>\n",
       "<table border=\"1\" class=\"dataframe\">\n",
       "  <thead>\n",
       "    <tr style=\"text-align: right;\">\n",
       "      <th></th>\n",
       "      <th>TransportUnitID</th>\n",
       "      <th>TransportLOC</th>\n",
       "      <th>TransportHospitalCode</th>\n",
       "      <th>ReasonForChoosingHospital</th>\n",
       "      <th>PatientAge</th>\n",
       "      <th>PrimaryImpression</th>\n",
       "      <th>PatientDisposition</th>\n",
       "      <th>TransportUnitLOC</th>\n",
       "      <th>UnitPrimaryActionTaken</th>\n",
       "      <th>UnitStation</th>\n",
       "      <th>UnitType</th>\n",
       "      <th>UnitArrivalOrder</th>\n",
       "      <th>ShiftDay</th>\n",
       "      <th>TourOfShift</th>\n",
       "      <th>IncidentFirstDue</th>\n",
       "      <th>FinalIncidentType</th>\n",
       "      <th>model_probability</th>\n",
       "      <th>model_prediction</th>\n",
       "    </tr>\n",
       "  </thead>\n",
       "  <tbody>\n",
       "    <tr>\n",
       "      <th>0</th>\n",
       "      <td>401</td>\n",
       "      <td>Level 3: 1 Provider (ALS Care)</td>\n",
       "      <td>3</td>\n",
       "      <td>Patient's Choice,Closest Facility</td>\n",
       "      <td>80 - 89</td>\n",
       "      <td>GI/GU - Nausea (With Vomiting) (R11.2)</td>\n",
       "      <td>Treated &amp; Transported</td>\n",
       "      <td>ALS-Paramedic</td>\n",
       "      <td>Provide manpower</td>\n",
       "      <td>1</td>\n",
       "      <td>Engine</td>\n",
       "      <td>2</td>\n",
       "      <td>B</td>\n",
       "      <td>1.0</td>\n",
       "      <td>1.0</td>\n",
       "      <td>ALS</td>\n",
       "      <td>1.0</td>\n",
       "      <td>11</td>\n",
       "    </tr>\n",
       "  </tbody>\n",
       "</table>\n",
       "</div>"
      ],
      "text/plain": [
       "  TransportUnitID                    TransportLOC  TransportHospitalCode  \\\n",
       "0             401  Level 3: 1 Provider (ALS Care)                      3   \n",
       "\n",
       "           ReasonForChoosingHospital PatientAge  \\\n",
       "0  Patient's Choice,Closest Facility    80 - 89   \n",
       "\n",
       "                        PrimaryImpression      PatientDisposition  \\\n",
       "0  GI/GU - Nausea (With Vomiting) (R11.2)  Treated & Transported    \n",
       "\n",
       "  TransportUnitLOC UnitPrimaryActionTaken UnitStation UnitType  \\\n",
       "0    ALS-Paramedic       Provide manpower           1   Engine   \n",
       "\n",
       "   UnitArrivalOrder ShiftDay TourOfShift  IncidentFirstDue FinalIncidentType  \\\n",
       "0                 2        B         1.0               1.0               ALS   \n",
       "\n",
       "   model_probability  model_prediction  \n",
       "0                1.0                11  "
      ]
     },
     "execution_count": 360,
     "metadata": {},
     "output_type": "execute_result"
    }
   ],
   "source": [
    "incidentpatientunitsfacilitiesmerge.head(1)"
   ]
  },
  {
   "cell_type": "code",
   "execution_count": 12,
   "metadata": {},
   "outputs": [
    {
     "name": "stderr",
     "output_type": "stream",
     "text": [
      "D:\\Softwares\\anaconda3\\lib\\site-packages\\pandas\\core\\ops\\array_ops.py:253: FutureWarning: elementwise comparison failed; returning scalar instead, but in the future will perform elementwise comparison\n",
      "  res_values = method(rvalues)\n"
     ]
    },
    {
     "data": {
      "text/html": [
       "<div>\n",
       "<style scoped>\n",
       "    .dataframe tbody tr th:only-of-type {\n",
       "        vertical-align: middle;\n",
       "    }\n",
       "\n",
       "    .dataframe tbody tr th {\n",
       "        vertical-align: top;\n",
       "    }\n",
       "\n",
       "    .dataframe thead th {\n",
       "        text-align: right;\n",
       "    }\n",
       "</style>\n",
       "<table border=\"1\" class=\"dataframe\">\n",
       "  <thead>\n",
       "    <tr style=\"text-align: right;\">\n",
       "      <th></th>\n",
       "      <th>PrimaryImpression</th>\n",
       "      <th>total_count</th>\n",
       "      <th>mismatch_count</th>\n",
       "      <th>percentage_of_mismatch</th>\n",
       "    </tr>\n",
       "  </thead>\n",
       "  <tbody>\n",
       "  </tbody>\n",
       "</table>\n",
       "</div>"
      ],
      "text/plain": [
       "Empty DataFrame\n",
       "Columns: [PrimaryImpression, total_count, mismatch_count, percentage_of_mismatch]\n",
       "Index: []"
      ]
     },
     "execution_count": 12,
     "metadata": {},
     "output_type": "execute_result"
    }
   ],
   "source": [
    "analyze_feature(incidentpatientunitsfacilitiesmerge[incidentpatientunitsfacilitiesmerge.TransportUnitID== \"415\"], \n",
    "                                                    \"PrimaryImpression\",\n",
    "                                                    0.9, 100)"
   ]
  },
  {
   "cell_type": "code",
   "execution_count": null,
   "metadata": {},
   "outputs": [],
   "source": []
  },
  {
   "cell_type": "code",
   "execution_count": 13,
   "metadata": {},
   "outputs": [
    {
     "name": "stderr",
     "output_type": "stream",
     "text": [
      "D:\\Softwares\\anaconda3\\lib\\site-packages\\pandas\\core\\ops\\array_ops.py:253: FutureWarning: elementwise comparison failed; returning scalar instead, but in the future will perform elementwise comparison\n",
      "  res_values = method(rvalues)\n"
     ]
    },
    {
     "data": {
      "text/html": [
       "<div>\n",
       "<style scoped>\n",
       "    .dataframe tbody tr th:only-of-type {\n",
       "        vertical-align: middle;\n",
       "    }\n",
       "\n",
       "    .dataframe tbody tr th {\n",
       "        vertical-align: top;\n",
       "    }\n",
       "\n",
       "    .dataframe thead th {\n",
       "        text-align: right;\n",
       "    }\n",
       "</style>\n",
       "<table border=\"1\" class=\"dataframe\">\n",
       "  <thead>\n",
       "    <tr style=\"text-align: right;\">\n",
       "      <th></th>\n",
       "      <th>PrimaryImpression</th>\n",
       "      <th>total_count</th>\n",
       "      <th>mismatch_count</th>\n",
       "      <th>percentage_of_mismatch</th>\n",
       "    </tr>\n",
       "  </thead>\n",
       "  <tbody>\n",
       "  </tbody>\n",
       "</table>\n",
       "</div>"
      ],
      "text/plain": [
       "Empty DataFrame\n",
       "Columns: [PrimaryImpression, total_count, mismatch_count, percentage_of_mismatch]\n",
       "Index: []"
      ]
     },
     "execution_count": 13,
     "metadata": {},
     "output_type": "execute_result"
    }
   ],
   "source": [
    "analyze_feature(incidentpatientunitsfacilitiesmerge[incidentpatientunitsfacilitiesmerge.TransportUnitID== \"405\"], \n",
    "                                                    \"PrimaryImpression\",\n",
    "                                                    0.5)"
   ]
  },
  {
   "cell_type": "code",
   "execution_count": null,
   "metadata": {},
   "outputs": [],
   "source": []
  },
  {
   "cell_type": "code",
   "execution_count": null,
   "metadata": {},
   "outputs": [],
   "source": []
  },
  {
   "cell_type": "code",
   "execution_count": null,
   "metadata": {},
   "outputs": [],
   "source": []
  }
 ],
 "metadata": {
  "colab": {
   "name": "Cleaning of Broken data v1_deepa.ipynb",
   "provenance": []
  },
  "kernelspec": {
   "display_name": "Python 3",
   "language": "python",
   "name": "python3"
  },
  "language_info": {
   "codemirror_mode": {
    "name": "ipython",
    "version": 3
   },
   "file_extension": ".py",
   "mimetype": "text/x-python",
   "name": "python",
   "nbconvert_exporter": "python",
   "pygments_lexer": "ipython3",
   "version": "3.7.6"
  }
 },
 "nbformat": 4,
 "nbformat_minor": 5
}
